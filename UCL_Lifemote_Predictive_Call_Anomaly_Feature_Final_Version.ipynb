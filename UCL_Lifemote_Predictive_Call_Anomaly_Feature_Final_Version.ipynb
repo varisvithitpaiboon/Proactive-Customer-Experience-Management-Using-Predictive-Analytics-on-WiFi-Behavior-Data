{
  "cells": [
    {
      "cell_type": "markdown",
      "metadata": {
        "id": "view-in-github",
        "colab_type": "text"
      },
      "source": [
        "<a href=\"https://colab.research.google.com/github/varisvithitpaiboon/Proactive-Customer-Experience-Management-Using-Predictive-Analytics-on-WiFi-Behavior-Data/blob/main/UCL_Lifemote_Predictive_Call_Anomaly_Feature_Final_Version.ipynb\" target=\"_parent\"><img src=\"https://colab.research.google.com/assets/colab-badge.svg\" alt=\"Open In Colab\"/></a>"
      ]
    },
    {
      "cell_type": "markdown",
      "metadata": {
        "id": "0qgb29YvnwCN"
      },
      "source": [
        "# Import library"
      ]
    },
    {
      "cell_type": "code",
      "execution_count": null,
      "metadata": {
        "id": "1t6Oh6kHr6u5",
        "colab": {
          "base_uri": "https://localhost:8080/"
        },
        "outputId": "c9889563-6906-4273-c717-b0d0ba4effdd"
      },
      "outputs": [
        {
          "output_type": "stream",
          "name": "stdout",
          "text": [
            "\u001b[?25l   \u001b[90m━━━━━━━━━━━━━━━━━━━━━━━━━━━━━━━━━━━━━━━━\u001b[0m \u001b[32m0.0/395.9 kB\u001b[0m \u001b[31m?\u001b[0m eta \u001b[36m-:--:--\u001b[0m\r\u001b[2K   \u001b[90m━━━━━━━━━━━━━━━━━━━━━━━━━━━━━━━━━━━━━━━━\u001b[0m \u001b[32m395.9/395.9 kB\u001b[0m \u001b[31m15.1 MB/s\u001b[0m eta \u001b[36m0:00:00\u001b[0m\n",
            "\u001b[2K   \u001b[90m━━━━━━━━━━━━━━━━━━━━━━━━━━━━━━━━━━━━━━━━\u001b[0m \u001b[32m247.0/247.0 kB\u001b[0m \u001b[31m16.6 MB/s\u001b[0m eta \u001b[36m0:00:00\u001b[0m\n",
            "\u001b[2K   \u001b[90m━━━━━━━━━━━━━━━━━━━━━━━━━━━━━━━━━━━━━━━━\u001b[0m \u001b[32m99.2/99.2 MB\u001b[0m \u001b[31m27.1 MB/s\u001b[0m eta \u001b[36m0:00:00\u001b[0m\n",
            "\u001b[?25h"
          ]
        }
      ],
      "source": [
        "!pip -q install optuna\n",
        "!pip -q install catboost\n",
        "!pip -q install tsfresh[dask]"
      ]
    },
    {
      "cell_type": "code",
      "execution_count": null,
      "metadata": {
        "id": "uUVCxhghwsdP"
      },
      "outputs": [],
      "source": [
        "import numpy as np\n",
        "import pandas as pd\n",
        "import os\n",
        "from datetime import timedelta\n",
        "from sklearn.preprocessing import OrdinalEncoder\n",
        "from sklearn.preprocessing import LabelEncoder\n",
        "from sklearn.model_selection import train_test_split\n",
        "from xgboost import XGBClassifier\n",
        "from sklearn.feature_selection import RFE\n",
        "import matplotlib.pyplot as plt\n",
        "import seaborn as sns\n",
        "from sklearn.model_selection import TimeSeriesSplit, train_test_split\n",
        "from imblearn.over_sampling import SMOTE\n",
        "from imblearn.combine import SMOTETomek\n",
        "from collections import Counter\n",
        "from sklearn.metrics import roc_auc_score, accuracy_score, precision_score, recall_score, f1_score, make_scorer, average_precision_score\n",
        "from sklearn.model_selection import cross_val_score\n",
        "import optuna\n",
        "import shap\n",
        "from sklearn.ensemble import RandomForestClassifier\n",
        "from catboost import CatBoostClassifier, Pool\n",
        "import IPython.display as display\n",
        "from sklearn.metrics import confusion_matrix, ConfusionMatrixDisplay\n",
        "from statsmodels.stats.outliers_influence import variance_inflation_factor\n",
        "from statsmodels.tools.tools import add_constant\n",
        "import gc\n",
        "import tsfresh\n",
        "from tsfresh import select_features\n",
        "from tsfresh import extract_features\n",
        "from tsfresh.utilities.dataframe_functions import impute\n",
        "from tsfresh.feature_extraction import EfficientFCParameters\n",
        "from sklearn.metrics import precision_recall_curve, average_precision_score\n",
        "from sklearn.metrics import average_precision_score, ndcg_score\n",
        "import stumpy\n",
        "from tqdm import tqdm\n",
        "from sklearn.ensemble import IsolationForest\n",
        "from sklearn.model_selection import StratifiedShuffleSplit\n",
        "from tsfresh import extract_features\n",
        "from tsfresh.utilities.dataframe_functions import impute\n",
        "from tsfresh.feature_extraction import EfficientFCParameters, MinimalFCParameters\n",
        "from sklearn.feature_selection import SelectFromModel\n",
        "from sklearn.metrics import average_precision_score\n",
        "from xgboost import XGBClassifier\n",
        "from tsfresh.feature_selection.relevance import calculate_relevance_table\n",
        "from xgboost import XGBClassifier\n",
        "import shap\n",
        "from sklearn.ensemble import ExtraTreesClassifier\n",
        "from catboost import CatBoostClassifier\n",
        "import lightgbm as lgb"
      ]
    },
    {
      "cell_type": "markdown",
      "metadata": {
        "id": "09MBgybFntzV"
      },
      "source": [
        "# Import data from google drive"
      ]
    },
    {
      "cell_type": "code",
      "execution_count": null,
      "metadata": {
        "colab": {
          "base_uri": "https://localhost:8080/"
        },
        "id": "ONKcG8jXvWxb",
        "outputId": "376895d3-acd1-49ff-dab6-225f248a41dc"
      },
      "outputs": [
        {
          "output_type": "stream",
          "name": "stdout",
          "text": [
            "Mounted at /content/drive\n"
          ]
        }
      ],
      "source": [
        "from google.colab import drive\n",
        "drive.mount('/content/drive')"
      ]
    },
    {
      "cell_type": "markdown",
      "metadata": {
        "id": "nj1gnmsq71FI"
      },
      "source": [
        "## Import Network Data"
      ]
    },
    {
      "cell_type": "code",
      "source": [
        "# Set your folder path inside Google Drive\n",
        "network_folder_path = '/content/drive/MyDrive/UCL-Lifemote/network_data'\n",
        "chunksize = 50000  # Adjust based on available RAM\n",
        "\n",
        "# List all CSV files in the folder\n",
        "network_csv_files = [f for f in os.listdir(network_folder_path) if f.endswith('.csv')]\n",
        "\n",
        "# Initialize an empty list to collect all chunks\n",
        "dataframes = []\n",
        "\n",
        "# Process files in chunks\n",
        "for file in tqdm(network_csv_files, desc=\"Processing CSV files\"):\n",
        "    full_path = os.path.join(network_folder_path, file)\n",
        "    try:\n",
        "        chunk_iter = pd.read_csv(full_path, chunksize=chunksize)\n",
        "        for i, chunk in enumerate(chunk_iter):\n",
        "            chunk['source_file'] = file  # Optional: tag origin\n",
        "            chunk['chunk_number'] = i    # Optional: track chunk\n",
        "            dataframes.append(chunk)     # Store each chunk temporarily\n",
        "    except Exception as e:\n",
        "        print(f\" Failed to load {file}: {e}\")\n",
        "\n",
        "# Combine all chunks into one DataFrame\n",
        "if dataframes:\n",
        "    df_network = pd.concat(dataframes, ignore_index=True)\n",
        "    print(f\" Final df_network shape: {df_network.shape}\")\n",
        "else:\n",
        "    print(\" No valid data was read from the folder.\")\n"
      ],
      "metadata": {
        "id": "iYZRrM6NSyg8",
        "colab": {
          "base_uri": "https://localhost:8080/"
        },
        "outputId": "7d705c54-b5a1-4e3f-d65d-d72ecf79c127"
      },
      "execution_count": null,
      "outputs": [
        {
          "output_type": "stream",
          "name": "stderr",
          "text": [
            "Processing CSV files: 100%|██████████| 30/30 [02:01<00:00,  4.05s/it]\n"
          ]
        },
        {
          "output_type": "stream",
          "name": "stdout",
          "text": [
            " Final df_network shape: (13605240, 96)\n"
          ]
        }
      ]
    },
    {
      "cell_type": "code",
      "execution_count": null,
      "metadata": {
        "colab": {
          "base_uri": "https://localhost:8080/"
        },
        "id": "Qqf7XA1339C_",
        "outputId": "7b6ec99f-abd5-48e8-8403-faa2ad385499"
      },
      "outputs": [
        {
          "output_type": "stream",
          "name": "stdout",
          "text": [
            "analysis_date\n",
            "2025-07-10 00:00:00    458053\n",
            "2025-07-09 00:00:00    457649\n",
            "2025-07-07 00:00:00    456972\n",
            "2025-07-08 00:00:00    456894\n",
            "2025-07-04 00:00:00    456205\n",
            "2025-07-06 00:00:00    456075\n",
            "2025-07-05 00:00:00    456067\n",
            "2025-07-03 00:00:00    455628\n",
            "2025-07-02 00:00:00    455247\n",
            "2025-07-01 00:00:00    455055\n",
            "2025-06-30 00:00:00    454728\n",
            "2025-06-27 00:00:00    454109\n",
            "2025-06-28 00:00:00    453884\n",
            "2025-06-26 00:00:00    453863\n",
            "2025-06-29 00:00:00    453761\n",
            "2025-06-25 00:00:00    452783\n",
            "2025-06-24 00:00:00    452671\n",
            "2025-06-23 00:00:00    452463\n",
            "2025-06-20 00:00:00    451960\n",
            "2025-06-18 00:00:00    451788\n",
            "2025-06-19 00:00:00    451544\n",
            "2025-06-21 00:00:00    451520\n",
            "2025-06-22 00:00:00    451493\n",
            "2025-06-17 00:00:00    451360\n",
            "2025-06-16 00:00:00    451254\n",
            "2025-06-13 00:00:00    450820\n",
            "2025-06-14 00:00:00    450519\n",
            "2025-06-12 00:00:00    450424\n",
            "2025-06-15 00:00:00    450410\n",
            "2025-06-11 00:00:00    450041\n",
            "Name: count, dtype: int64\n"
          ]
        }
      ],
      "source": [
        "print(df_network['analysis_date'].value_counts(dropna=False))"
      ]
    },
    {
      "cell_type": "code",
      "execution_count": null,
      "metadata": {
        "colab": {
          "base_uri": "https://localhost:8080/",
          "height": 342
        },
        "id": "bh8R-fLhOsHG",
        "outputId": "369ca380-4fcb-4bbb-c8b0-ef6629bf137a"
      },
      "outputs": [
        {
          "output_type": "execute_result",
          "data": {
            "text/plain": [
              "              device_id        analysis_date             id  \\\n",
              "0  DEVICE_ID_961c5550db  2025-06-11 00:00:00  ID_b0a43c9bc9   \n",
              "1  DEVICE_ID_39190265c2  2025-06-11 00:00:00  ID_5c687e45be   \n",
              "2  DEVICE_ID_77a16a8d79  2025-06-11 00:00:00  ID_11db07b498   \n",
              "3  DEVICE_ID_905832b06c  2025-06-11 00:00:00  ID_393c580a22   \n",
              "4  DEVICE_ID_8f1dbe5a7f  2025-06-11 00:00:00  ID_67ec92db86   \n",
              "\n",
              "              analysis_id  reboots  script_boots  ap_count  total_samples_24  \\\n",
              "0  ANALYSIS_ID_e1e909f586        0             0         0              1878   \n",
              "1  ANALYSIS_ID_05f8ccfe3e        0             0         0                 2   \n",
              "2  ANALYSIS_ID_8df4ed77df        0             0         0                 0   \n",
              "3  ANALYSIS_ID_8ed247d1a2        0             0         0              1634   \n",
              "4  ANALYSIS_ID_55850a81fe        0             0         0              1488   \n",
              "\n",
              "   total_samples_5  good_samples_24  ...  mid_fwa_count  \\\n",
              "0             2174             1853  ...              0   \n",
              "1             2496                1  ...              0   \n",
              "2              818                0  ...              0   \n",
              "3             3787             1625  ...              0   \n",
              "4             1142                6  ...              0   \n",
              "\n",
              "   poor_iot_weighted_samples_24  poor_active_iot_weighted_samples_24  \\\n",
              "0                            14                                    1   \n",
              "1                             0                                    0   \n",
              "2                             0                                    0   \n",
              "3                             4                                    0   \n",
              "4                             0                                    0   \n",
              "\n",
              "   channel_changes_count_24  channel_changes_count_5  channel_changes_count_6  \\\n",
              "0                       0.0                      0.0                      NaN   \n",
              "1                       0.0                      0.0                      NaN   \n",
              "2                       0.0                      0.0                      NaN   \n",
              "3                       0.0                      0.0                      NaN   \n",
              "4                       0.0                      0.0                      NaN   \n",
              "\n",
              "   mem_usage  high_mem_usage_samples                      source_file  \\\n",
              "0      41.55                       0  cpe_status_2025-06-11_ready.csv   \n",
              "1      58.12                       0  cpe_status_2025-06-11_ready.csv   \n",
              "2      39.60                       0  cpe_status_2025-06-11_ready.csv   \n",
              "3      40.48                       0  cpe_status_2025-06-11_ready.csv   \n",
              "4      58.62                       0  cpe_status_2025-06-11_ready.csv   \n",
              "\n",
              "  chunk_number  \n",
              "0            0  \n",
              "1            0  \n",
              "2            0  \n",
              "3            0  \n",
              "4            0  \n",
              "\n",
              "[5 rows x 96 columns]"
            ],
            "text/html": [
              "\n",
              "  <div id=\"df-fba6c61f-e34f-4493-872d-d85cd1ba7ca4\" class=\"colab-df-container\">\n",
              "    <div>\n",
              "<style scoped>\n",
              "    .dataframe tbody tr th:only-of-type {\n",
              "        vertical-align: middle;\n",
              "    }\n",
              "\n",
              "    .dataframe tbody tr th {\n",
              "        vertical-align: top;\n",
              "    }\n",
              "\n",
              "    .dataframe thead th {\n",
              "        text-align: right;\n",
              "    }\n",
              "</style>\n",
              "<table border=\"1\" class=\"dataframe\">\n",
              "  <thead>\n",
              "    <tr style=\"text-align: right;\">\n",
              "      <th></th>\n",
              "      <th>device_id</th>\n",
              "      <th>analysis_date</th>\n",
              "      <th>id</th>\n",
              "      <th>analysis_id</th>\n",
              "      <th>reboots</th>\n",
              "      <th>script_boots</th>\n",
              "      <th>ap_count</th>\n",
              "      <th>total_samples_24</th>\n",
              "      <th>total_samples_5</th>\n",
              "      <th>good_samples_24</th>\n",
              "      <th>...</th>\n",
              "      <th>mid_fwa_count</th>\n",
              "      <th>poor_iot_weighted_samples_24</th>\n",
              "      <th>poor_active_iot_weighted_samples_24</th>\n",
              "      <th>channel_changes_count_24</th>\n",
              "      <th>channel_changes_count_5</th>\n",
              "      <th>channel_changes_count_6</th>\n",
              "      <th>mem_usage</th>\n",
              "      <th>high_mem_usage_samples</th>\n",
              "      <th>source_file</th>\n",
              "      <th>chunk_number</th>\n",
              "    </tr>\n",
              "  </thead>\n",
              "  <tbody>\n",
              "    <tr>\n",
              "      <th>0</th>\n",
              "      <td>DEVICE_ID_961c5550db</td>\n",
              "      <td>2025-06-11 00:00:00</td>\n",
              "      <td>ID_b0a43c9bc9</td>\n",
              "      <td>ANALYSIS_ID_e1e909f586</td>\n",
              "      <td>0</td>\n",
              "      <td>0</td>\n",
              "      <td>0</td>\n",
              "      <td>1878</td>\n",
              "      <td>2174</td>\n",
              "      <td>1853</td>\n",
              "      <td>...</td>\n",
              "      <td>0</td>\n",
              "      <td>14</td>\n",
              "      <td>1</td>\n",
              "      <td>0.0</td>\n",
              "      <td>0.0</td>\n",
              "      <td>NaN</td>\n",
              "      <td>41.55</td>\n",
              "      <td>0</td>\n",
              "      <td>cpe_status_2025-06-11_ready.csv</td>\n",
              "      <td>0</td>\n",
              "    </tr>\n",
              "    <tr>\n",
              "      <th>1</th>\n",
              "      <td>DEVICE_ID_39190265c2</td>\n",
              "      <td>2025-06-11 00:00:00</td>\n",
              "      <td>ID_5c687e45be</td>\n",
              "      <td>ANALYSIS_ID_05f8ccfe3e</td>\n",
              "      <td>0</td>\n",
              "      <td>0</td>\n",
              "      <td>0</td>\n",
              "      <td>2</td>\n",
              "      <td>2496</td>\n",
              "      <td>1</td>\n",
              "      <td>...</td>\n",
              "      <td>0</td>\n",
              "      <td>0</td>\n",
              "      <td>0</td>\n",
              "      <td>0.0</td>\n",
              "      <td>0.0</td>\n",
              "      <td>NaN</td>\n",
              "      <td>58.12</td>\n",
              "      <td>0</td>\n",
              "      <td>cpe_status_2025-06-11_ready.csv</td>\n",
              "      <td>0</td>\n",
              "    </tr>\n",
              "    <tr>\n",
              "      <th>2</th>\n",
              "      <td>DEVICE_ID_77a16a8d79</td>\n",
              "      <td>2025-06-11 00:00:00</td>\n",
              "      <td>ID_11db07b498</td>\n",
              "      <td>ANALYSIS_ID_8df4ed77df</td>\n",
              "      <td>0</td>\n",
              "      <td>0</td>\n",
              "      <td>0</td>\n",
              "      <td>0</td>\n",
              "      <td>818</td>\n",
              "      <td>0</td>\n",
              "      <td>...</td>\n",
              "      <td>0</td>\n",
              "      <td>0</td>\n",
              "      <td>0</td>\n",
              "      <td>0.0</td>\n",
              "      <td>0.0</td>\n",
              "      <td>NaN</td>\n",
              "      <td>39.60</td>\n",
              "      <td>0</td>\n",
              "      <td>cpe_status_2025-06-11_ready.csv</td>\n",
              "      <td>0</td>\n",
              "    </tr>\n",
              "    <tr>\n",
              "      <th>3</th>\n",
              "      <td>DEVICE_ID_905832b06c</td>\n",
              "      <td>2025-06-11 00:00:00</td>\n",
              "      <td>ID_393c580a22</td>\n",
              "      <td>ANALYSIS_ID_8ed247d1a2</td>\n",
              "      <td>0</td>\n",
              "      <td>0</td>\n",
              "      <td>0</td>\n",
              "      <td>1634</td>\n",
              "      <td>3787</td>\n",
              "      <td>1625</td>\n",
              "      <td>...</td>\n",
              "      <td>0</td>\n",
              "      <td>4</td>\n",
              "      <td>0</td>\n",
              "      <td>0.0</td>\n",
              "      <td>0.0</td>\n",
              "      <td>NaN</td>\n",
              "      <td>40.48</td>\n",
              "      <td>0</td>\n",
              "      <td>cpe_status_2025-06-11_ready.csv</td>\n",
              "      <td>0</td>\n",
              "    </tr>\n",
              "    <tr>\n",
              "      <th>4</th>\n",
              "      <td>DEVICE_ID_8f1dbe5a7f</td>\n",
              "      <td>2025-06-11 00:00:00</td>\n",
              "      <td>ID_67ec92db86</td>\n",
              "      <td>ANALYSIS_ID_55850a81fe</td>\n",
              "      <td>0</td>\n",
              "      <td>0</td>\n",
              "      <td>0</td>\n",
              "      <td>1488</td>\n",
              "      <td>1142</td>\n",
              "      <td>6</td>\n",
              "      <td>...</td>\n",
              "      <td>0</td>\n",
              "      <td>0</td>\n",
              "      <td>0</td>\n",
              "      <td>0.0</td>\n",
              "      <td>0.0</td>\n",
              "      <td>NaN</td>\n",
              "      <td>58.62</td>\n",
              "      <td>0</td>\n",
              "      <td>cpe_status_2025-06-11_ready.csv</td>\n",
              "      <td>0</td>\n",
              "    </tr>\n",
              "  </tbody>\n",
              "</table>\n",
              "<p>5 rows × 96 columns</p>\n",
              "</div>\n",
              "    <div class=\"colab-df-buttons\">\n",
              "\n",
              "  <div class=\"colab-df-container\">\n",
              "    <button class=\"colab-df-convert\" onclick=\"convertToInteractive('df-fba6c61f-e34f-4493-872d-d85cd1ba7ca4')\"\n",
              "            title=\"Convert this dataframe to an interactive table.\"\n",
              "            style=\"display:none;\">\n",
              "\n",
              "  <svg xmlns=\"http://www.w3.org/2000/svg\" height=\"24px\" viewBox=\"0 -960 960 960\">\n",
              "    <path d=\"M120-120v-720h720v720H120Zm60-500h600v-160H180v160Zm220 220h160v-160H400v160Zm0 220h160v-160H400v160ZM180-400h160v-160H180v160Zm440 0h160v-160H620v160ZM180-180h160v-160H180v160Zm440 0h160v-160H620v160Z\"/>\n",
              "  </svg>\n",
              "    </button>\n",
              "\n",
              "  <style>\n",
              "    .colab-df-container {\n",
              "      display:flex;\n",
              "      gap: 12px;\n",
              "    }\n",
              "\n",
              "    .colab-df-convert {\n",
              "      background-color: #E8F0FE;\n",
              "      border: none;\n",
              "      border-radius: 50%;\n",
              "      cursor: pointer;\n",
              "      display: none;\n",
              "      fill: #1967D2;\n",
              "      height: 32px;\n",
              "      padding: 0 0 0 0;\n",
              "      width: 32px;\n",
              "    }\n",
              "\n",
              "    .colab-df-convert:hover {\n",
              "      background-color: #E2EBFA;\n",
              "      box-shadow: 0px 1px 2px rgba(60, 64, 67, 0.3), 0px 1px 3px 1px rgba(60, 64, 67, 0.15);\n",
              "      fill: #174EA6;\n",
              "    }\n",
              "\n",
              "    .colab-df-buttons div {\n",
              "      margin-bottom: 4px;\n",
              "    }\n",
              "\n",
              "    [theme=dark] .colab-df-convert {\n",
              "      background-color: #3B4455;\n",
              "      fill: #D2E3FC;\n",
              "    }\n",
              "\n",
              "    [theme=dark] .colab-df-convert:hover {\n",
              "      background-color: #434B5C;\n",
              "      box-shadow: 0px 1px 3px 1px rgba(0, 0, 0, 0.15);\n",
              "      filter: drop-shadow(0px 1px 2px rgba(0, 0, 0, 0.3));\n",
              "      fill: #FFFFFF;\n",
              "    }\n",
              "  </style>\n",
              "\n",
              "    <script>\n",
              "      const buttonEl =\n",
              "        document.querySelector('#df-fba6c61f-e34f-4493-872d-d85cd1ba7ca4 button.colab-df-convert');\n",
              "      buttonEl.style.display =\n",
              "        google.colab.kernel.accessAllowed ? 'block' : 'none';\n",
              "\n",
              "      async function convertToInteractive(key) {\n",
              "        const element = document.querySelector('#df-fba6c61f-e34f-4493-872d-d85cd1ba7ca4');\n",
              "        const dataTable =\n",
              "          await google.colab.kernel.invokeFunction('convertToInteractive',\n",
              "                                                    [key], {});\n",
              "        if (!dataTable) return;\n",
              "\n",
              "        const docLinkHtml = 'Like what you see? Visit the ' +\n",
              "          '<a target=\"_blank\" href=https://colab.research.google.com/notebooks/data_table.ipynb>data table notebook</a>'\n",
              "          + ' to learn more about interactive tables.';\n",
              "        element.innerHTML = '';\n",
              "        dataTable['output_type'] = 'display_data';\n",
              "        await google.colab.output.renderOutput(dataTable, element);\n",
              "        const docLink = document.createElement('div');\n",
              "        docLink.innerHTML = docLinkHtml;\n",
              "        element.appendChild(docLink);\n",
              "      }\n",
              "    </script>\n",
              "  </div>\n",
              "\n",
              "\n",
              "    <div id=\"df-962c3d59-ebc2-4d8d-aa0e-979b5c6674db\">\n",
              "      <button class=\"colab-df-quickchart\" onclick=\"quickchart('df-962c3d59-ebc2-4d8d-aa0e-979b5c6674db')\"\n",
              "                title=\"Suggest charts\"\n",
              "                style=\"display:none;\">\n",
              "\n",
              "<svg xmlns=\"http://www.w3.org/2000/svg\" height=\"24px\"viewBox=\"0 0 24 24\"\n",
              "     width=\"24px\">\n",
              "    <g>\n",
              "        <path d=\"M19 3H5c-1.1 0-2 .9-2 2v14c0 1.1.9 2 2 2h14c1.1 0 2-.9 2-2V5c0-1.1-.9-2-2-2zM9 17H7v-7h2v7zm4 0h-2V7h2v10zm4 0h-2v-4h2v4z\"/>\n",
              "    </g>\n",
              "</svg>\n",
              "      </button>\n",
              "\n",
              "<style>\n",
              "  .colab-df-quickchart {\n",
              "      --bg-color: #E8F0FE;\n",
              "      --fill-color: #1967D2;\n",
              "      --hover-bg-color: #E2EBFA;\n",
              "      --hover-fill-color: #174EA6;\n",
              "      --disabled-fill-color: #AAA;\n",
              "      --disabled-bg-color: #DDD;\n",
              "  }\n",
              "\n",
              "  [theme=dark] .colab-df-quickchart {\n",
              "      --bg-color: #3B4455;\n",
              "      --fill-color: #D2E3FC;\n",
              "      --hover-bg-color: #434B5C;\n",
              "      --hover-fill-color: #FFFFFF;\n",
              "      --disabled-bg-color: #3B4455;\n",
              "      --disabled-fill-color: #666;\n",
              "  }\n",
              "\n",
              "  .colab-df-quickchart {\n",
              "    background-color: var(--bg-color);\n",
              "    border: none;\n",
              "    border-radius: 50%;\n",
              "    cursor: pointer;\n",
              "    display: none;\n",
              "    fill: var(--fill-color);\n",
              "    height: 32px;\n",
              "    padding: 0;\n",
              "    width: 32px;\n",
              "  }\n",
              "\n",
              "  .colab-df-quickchart:hover {\n",
              "    background-color: var(--hover-bg-color);\n",
              "    box-shadow: 0 1px 2px rgba(60, 64, 67, 0.3), 0 1px 3px 1px rgba(60, 64, 67, 0.15);\n",
              "    fill: var(--button-hover-fill-color);\n",
              "  }\n",
              "\n",
              "  .colab-df-quickchart-complete:disabled,\n",
              "  .colab-df-quickchart-complete:disabled:hover {\n",
              "    background-color: var(--disabled-bg-color);\n",
              "    fill: var(--disabled-fill-color);\n",
              "    box-shadow: none;\n",
              "  }\n",
              "\n",
              "  .colab-df-spinner {\n",
              "    border: 2px solid var(--fill-color);\n",
              "    border-color: transparent;\n",
              "    border-bottom-color: var(--fill-color);\n",
              "    animation:\n",
              "      spin 1s steps(1) infinite;\n",
              "  }\n",
              "\n",
              "  @keyframes spin {\n",
              "    0% {\n",
              "      border-color: transparent;\n",
              "      border-bottom-color: var(--fill-color);\n",
              "      border-left-color: var(--fill-color);\n",
              "    }\n",
              "    20% {\n",
              "      border-color: transparent;\n",
              "      border-left-color: var(--fill-color);\n",
              "      border-top-color: var(--fill-color);\n",
              "    }\n",
              "    30% {\n",
              "      border-color: transparent;\n",
              "      border-left-color: var(--fill-color);\n",
              "      border-top-color: var(--fill-color);\n",
              "      border-right-color: var(--fill-color);\n",
              "    }\n",
              "    40% {\n",
              "      border-color: transparent;\n",
              "      border-right-color: var(--fill-color);\n",
              "      border-top-color: var(--fill-color);\n",
              "    }\n",
              "    60% {\n",
              "      border-color: transparent;\n",
              "      border-right-color: var(--fill-color);\n",
              "    }\n",
              "    80% {\n",
              "      border-color: transparent;\n",
              "      border-right-color: var(--fill-color);\n",
              "      border-bottom-color: var(--fill-color);\n",
              "    }\n",
              "    90% {\n",
              "      border-color: transparent;\n",
              "      border-bottom-color: var(--fill-color);\n",
              "    }\n",
              "  }\n",
              "</style>\n",
              "\n",
              "      <script>\n",
              "        async function quickchart(key) {\n",
              "          const quickchartButtonEl =\n",
              "            document.querySelector('#' + key + ' button');\n",
              "          quickchartButtonEl.disabled = true;  // To prevent multiple clicks.\n",
              "          quickchartButtonEl.classList.add('colab-df-spinner');\n",
              "          try {\n",
              "            const charts = await google.colab.kernel.invokeFunction(\n",
              "                'suggestCharts', [key], {});\n",
              "          } catch (error) {\n",
              "            console.error('Error during call to suggestCharts:', error);\n",
              "          }\n",
              "          quickchartButtonEl.classList.remove('colab-df-spinner');\n",
              "          quickchartButtonEl.classList.add('colab-df-quickchart-complete');\n",
              "        }\n",
              "        (() => {\n",
              "          let quickchartButtonEl =\n",
              "            document.querySelector('#df-962c3d59-ebc2-4d8d-aa0e-979b5c6674db button');\n",
              "          quickchartButtonEl.style.display =\n",
              "            google.colab.kernel.accessAllowed ? 'block' : 'none';\n",
              "        })();\n",
              "      </script>\n",
              "    </div>\n",
              "\n",
              "    </div>\n",
              "  </div>\n"
            ],
            "application/vnd.google.colaboratory.intrinsic+json": {
              "type": "dataframe",
              "variable_name": "df_network"
            }
          },
          "metadata": {},
          "execution_count": 6
        }
      ],
      "source": [
        "df_network.head()"
      ]
    },
    {
      "cell_type": "markdown",
      "metadata": {
        "id": "9ZN96X2hFjuV"
      },
      "source": [
        "## Import Call Data"
      ]
    },
    {
      "cell_type": "code",
      "execution_count": null,
      "metadata": {
        "colab": {
          "base_uri": "https://localhost:8080/"
        },
        "id": "v3Gl04LtFiBO",
        "outputId": "c275313a-436c-46a4-ef0f-d2c229adbc23"
      },
      "outputs": [
        {
          "output_type": "stream",
          "name": "stdout",
          "text": [
            "df_call shape: (47355, 7)\n"
          ]
        }
      ],
      "source": [
        "# Set your folder path inside Google Drive\n",
        "call_file_path = '/content/drive/MyDrive/UCL-Lifemote/call_data/df_call_final.csv'\n",
        "\n",
        "# Read the CSV file\n",
        "df_call = pd.read_csv(call_file_path)\n",
        "\n",
        "# Preview\n",
        "print(f\"df_call shape: {df_call.shape}\")"
      ]
    },
    {
      "cell_type": "code",
      "execution_count": null,
      "metadata": {
        "colab": {
          "base_uri": "https://localhost:8080/",
          "height": 293
        },
        "id": "EaZGoSAC9Z3O",
        "outputId": "d920f1a5-0316-4793-c506-de9bd7127224"
      },
      "outputs": [
        {
          "output_type": "execute_result",
          "data": {
            "text/plain": [
              "        id             resource_id                  created_at  user_id  \\\n",
              "0  1094528  RESOURCE_ID_b1a07b8694  2025-06-11 02:34:53.355349      465   \n",
              "1  1094529  RESOURCE_ID_072bdfd2f5  2025-06-11 02:34:54.344923      465   \n",
              "2  1094530  RESOURCE_ID_aa2d955d4e  2025-06-11 02:34:54.400746      465   \n",
              "3  1094531  RESOURCE_ID_b1a07b8694  2025-06-11 02:34:54.455219      465   \n",
              "4  1094532  RESOURCE_ID_24e3e9b021  2025-06-11 02:34:54.726571      465   \n",
              "\n",
              "   group_name             username resource  \n",
              "0  first-line  USERNAME_7cd244d515     home  \n",
              "1  first-line  USERNAME_7cd244d515      cpe  \n",
              "2  first-line  USERNAME_7cd244d515      cpe  \n",
              "3  first-line  USERNAME_7cd244d515      cpe  \n",
              "4  first-line  USERNAME_7cd244d515      cpe  "
            ],
            "text/html": [
              "\n",
              "  <div id=\"df-52c51b63-dde8-4dbc-a182-20db855cb8a4\" class=\"colab-df-container\">\n",
              "    <div>\n",
              "<style scoped>\n",
              "    .dataframe tbody tr th:only-of-type {\n",
              "        vertical-align: middle;\n",
              "    }\n",
              "\n",
              "    .dataframe tbody tr th {\n",
              "        vertical-align: top;\n",
              "    }\n",
              "\n",
              "    .dataframe thead th {\n",
              "        text-align: right;\n",
              "    }\n",
              "</style>\n",
              "<table border=\"1\" class=\"dataframe\">\n",
              "  <thead>\n",
              "    <tr style=\"text-align: right;\">\n",
              "      <th></th>\n",
              "      <th>id</th>\n",
              "      <th>resource_id</th>\n",
              "      <th>created_at</th>\n",
              "      <th>user_id</th>\n",
              "      <th>group_name</th>\n",
              "      <th>username</th>\n",
              "      <th>resource</th>\n",
              "    </tr>\n",
              "  </thead>\n",
              "  <tbody>\n",
              "    <tr>\n",
              "      <th>0</th>\n",
              "      <td>1094528</td>\n",
              "      <td>RESOURCE_ID_b1a07b8694</td>\n",
              "      <td>2025-06-11 02:34:53.355349</td>\n",
              "      <td>465</td>\n",
              "      <td>first-line</td>\n",
              "      <td>USERNAME_7cd244d515</td>\n",
              "      <td>home</td>\n",
              "    </tr>\n",
              "    <tr>\n",
              "      <th>1</th>\n",
              "      <td>1094529</td>\n",
              "      <td>RESOURCE_ID_072bdfd2f5</td>\n",
              "      <td>2025-06-11 02:34:54.344923</td>\n",
              "      <td>465</td>\n",
              "      <td>first-line</td>\n",
              "      <td>USERNAME_7cd244d515</td>\n",
              "      <td>cpe</td>\n",
              "    </tr>\n",
              "    <tr>\n",
              "      <th>2</th>\n",
              "      <td>1094530</td>\n",
              "      <td>RESOURCE_ID_aa2d955d4e</td>\n",
              "      <td>2025-06-11 02:34:54.400746</td>\n",
              "      <td>465</td>\n",
              "      <td>first-line</td>\n",
              "      <td>USERNAME_7cd244d515</td>\n",
              "      <td>cpe</td>\n",
              "    </tr>\n",
              "    <tr>\n",
              "      <th>3</th>\n",
              "      <td>1094531</td>\n",
              "      <td>RESOURCE_ID_b1a07b8694</td>\n",
              "      <td>2025-06-11 02:34:54.455219</td>\n",
              "      <td>465</td>\n",
              "      <td>first-line</td>\n",
              "      <td>USERNAME_7cd244d515</td>\n",
              "      <td>cpe</td>\n",
              "    </tr>\n",
              "    <tr>\n",
              "      <th>4</th>\n",
              "      <td>1094532</td>\n",
              "      <td>RESOURCE_ID_24e3e9b021</td>\n",
              "      <td>2025-06-11 02:34:54.726571</td>\n",
              "      <td>465</td>\n",
              "      <td>first-line</td>\n",
              "      <td>USERNAME_7cd244d515</td>\n",
              "      <td>cpe</td>\n",
              "    </tr>\n",
              "  </tbody>\n",
              "</table>\n",
              "</div>\n",
              "    <div class=\"colab-df-buttons\">\n",
              "\n",
              "  <div class=\"colab-df-container\">\n",
              "    <button class=\"colab-df-convert\" onclick=\"convertToInteractive('df-52c51b63-dde8-4dbc-a182-20db855cb8a4')\"\n",
              "            title=\"Convert this dataframe to an interactive table.\"\n",
              "            style=\"display:none;\">\n",
              "\n",
              "  <svg xmlns=\"http://www.w3.org/2000/svg\" height=\"24px\" viewBox=\"0 -960 960 960\">\n",
              "    <path d=\"M120-120v-720h720v720H120Zm60-500h600v-160H180v160Zm220 220h160v-160H400v160Zm0 220h160v-160H400v160ZM180-400h160v-160H180v160Zm440 0h160v-160H620v160ZM180-180h160v-160H180v160Zm440 0h160v-160H620v160Z\"/>\n",
              "  </svg>\n",
              "    </button>\n",
              "\n",
              "  <style>\n",
              "    .colab-df-container {\n",
              "      display:flex;\n",
              "      gap: 12px;\n",
              "    }\n",
              "\n",
              "    .colab-df-convert {\n",
              "      background-color: #E8F0FE;\n",
              "      border: none;\n",
              "      border-radius: 50%;\n",
              "      cursor: pointer;\n",
              "      display: none;\n",
              "      fill: #1967D2;\n",
              "      height: 32px;\n",
              "      padding: 0 0 0 0;\n",
              "      width: 32px;\n",
              "    }\n",
              "\n",
              "    .colab-df-convert:hover {\n",
              "      background-color: #E2EBFA;\n",
              "      box-shadow: 0px 1px 2px rgba(60, 64, 67, 0.3), 0px 1px 3px 1px rgba(60, 64, 67, 0.15);\n",
              "      fill: #174EA6;\n",
              "    }\n",
              "\n",
              "    .colab-df-buttons div {\n",
              "      margin-bottom: 4px;\n",
              "    }\n",
              "\n",
              "    [theme=dark] .colab-df-convert {\n",
              "      background-color: #3B4455;\n",
              "      fill: #D2E3FC;\n",
              "    }\n",
              "\n",
              "    [theme=dark] .colab-df-convert:hover {\n",
              "      background-color: #434B5C;\n",
              "      box-shadow: 0px 1px 3px 1px rgba(0, 0, 0, 0.15);\n",
              "      filter: drop-shadow(0px 1px 2px rgba(0, 0, 0, 0.3));\n",
              "      fill: #FFFFFF;\n",
              "    }\n",
              "  </style>\n",
              "\n",
              "    <script>\n",
              "      const buttonEl =\n",
              "        document.querySelector('#df-52c51b63-dde8-4dbc-a182-20db855cb8a4 button.colab-df-convert');\n",
              "      buttonEl.style.display =\n",
              "        google.colab.kernel.accessAllowed ? 'block' : 'none';\n",
              "\n",
              "      async function convertToInteractive(key) {\n",
              "        const element = document.querySelector('#df-52c51b63-dde8-4dbc-a182-20db855cb8a4');\n",
              "        const dataTable =\n",
              "          await google.colab.kernel.invokeFunction('convertToInteractive',\n",
              "                                                    [key], {});\n",
              "        if (!dataTable) return;\n",
              "\n",
              "        const docLinkHtml = 'Like what you see? Visit the ' +\n",
              "          '<a target=\"_blank\" href=https://colab.research.google.com/notebooks/data_table.ipynb>data table notebook</a>'\n",
              "          + ' to learn more about interactive tables.';\n",
              "        element.innerHTML = '';\n",
              "        dataTable['output_type'] = 'display_data';\n",
              "        await google.colab.output.renderOutput(dataTable, element);\n",
              "        const docLink = document.createElement('div');\n",
              "        docLink.innerHTML = docLinkHtml;\n",
              "        element.appendChild(docLink);\n",
              "      }\n",
              "    </script>\n",
              "  </div>\n",
              "\n",
              "\n",
              "    <div id=\"df-9962671b-4509-425e-8d91-c48a3ad3720f\">\n",
              "      <button class=\"colab-df-quickchart\" onclick=\"quickchart('df-9962671b-4509-425e-8d91-c48a3ad3720f')\"\n",
              "                title=\"Suggest charts\"\n",
              "                style=\"display:none;\">\n",
              "\n",
              "<svg xmlns=\"http://www.w3.org/2000/svg\" height=\"24px\"viewBox=\"0 0 24 24\"\n",
              "     width=\"24px\">\n",
              "    <g>\n",
              "        <path d=\"M19 3H5c-1.1 0-2 .9-2 2v14c0 1.1.9 2 2 2h14c1.1 0 2-.9 2-2V5c0-1.1-.9-2-2-2zM9 17H7v-7h2v7zm4 0h-2V7h2v10zm4 0h-2v-4h2v4z\"/>\n",
              "    </g>\n",
              "</svg>\n",
              "      </button>\n",
              "\n",
              "<style>\n",
              "  .colab-df-quickchart {\n",
              "      --bg-color: #E8F0FE;\n",
              "      --fill-color: #1967D2;\n",
              "      --hover-bg-color: #E2EBFA;\n",
              "      --hover-fill-color: #174EA6;\n",
              "      --disabled-fill-color: #AAA;\n",
              "      --disabled-bg-color: #DDD;\n",
              "  }\n",
              "\n",
              "  [theme=dark] .colab-df-quickchart {\n",
              "      --bg-color: #3B4455;\n",
              "      --fill-color: #D2E3FC;\n",
              "      --hover-bg-color: #434B5C;\n",
              "      --hover-fill-color: #FFFFFF;\n",
              "      --disabled-bg-color: #3B4455;\n",
              "      --disabled-fill-color: #666;\n",
              "  }\n",
              "\n",
              "  .colab-df-quickchart {\n",
              "    background-color: var(--bg-color);\n",
              "    border: none;\n",
              "    border-radius: 50%;\n",
              "    cursor: pointer;\n",
              "    display: none;\n",
              "    fill: var(--fill-color);\n",
              "    height: 32px;\n",
              "    padding: 0;\n",
              "    width: 32px;\n",
              "  }\n",
              "\n",
              "  .colab-df-quickchart:hover {\n",
              "    background-color: var(--hover-bg-color);\n",
              "    box-shadow: 0 1px 2px rgba(60, 64, 67, 0.3), 0 1px 3px 1px rgba(60, 64, 67, 0.15);\n",
              "    fill: var(--button-hover-fill-color);\n",
              "  }\n",
              "\n",
              "  .colab-df-quickchart-complete:disabled,\n",
              "  .colab-df-quickchart-complete:disabled:hover {\n",
              "    background-color: var(--disabled-bg-color);\n",
              "    fill: var(--disabled-fill-color);\n",
              "    box-shadow: none;\n",
              "  }\n",
              "\n",
              "  .colab-df-spinner {\n",
              "    border: 2px solid var(--fill-color);\n",
              "    border-color: transparent;\n",
              "    border-bottom-color: var(--fill-color);\n",
              "    animation:\n",
              "      spin 1s steps(1) infinite;\n",
              "  }\n",
              "\n",
              "  @keyframes spin {\n",
              "    0% {\n",
              "      border-color: transparent;\n",
              "      border-bottom-color: var(--fill-color);\n",
              "      border-left-color: var(--fill-color);\n",
              "    }\n",
              "    20% {\n",
              "      border-color: transparent;\n",
              "      border-left-color: var(--fill-color);\n",
              "      border-top-color: var(--fill-color);\n",
              "    }\n",
              "    30% {\n",
              "      border-color: transparent;\n",
              "      border-left-color: var(--fill-color);\n",
              "      border-top-color: var(--fill-color);\n",
              "      border-right-color: var(--fill-color);\n",
              "    }\n",
              "    40% {\n",
              "      border-color: transparent;\n",
              "      border-right-color: var(--fill-color);\n",
              "      border-top-color: var(--fill-color);\n",
              "    }\n",
              "    60% {\n",
              "      border-color: transparent;\n",
              "      border-right-color: var(--fill-color);\n",
              "    }\n",
              "    80% {\n",
              "      border-color: transparent;\n",
              "      border-right-color: var(--fill-color);\n",
              "      border-bottom-color: var(--fill-color);\n",
              "    }\n",
              "    90% {\n",
              "      border-color: transparent;\n",
              "      border-bottom-color: var(--fill-color);\n",
              "    }\n",
              "  }\n",
              "</style>\n",
              "\n",
              "      <script>\n",
              "        async function quickchart(key) {\n",
              "          const quickchartButtonEl =\n",
              "            document.querySelector('#' + key + ' button');\n",
              "          quickchartButtonEl.disabled = true;  // To prevent multiple clicks.\n",
              "          quickchartButtonEl.classList.add('colab-df-spinner');\n",
              "          try {\n",
              "            const charts = await google.colab.kernel.invokeFunction(\n",
              "                'suggestCharts', [key], {});\n",
              "          } catch (error) {\n",
              "            console.error('Error during call to suggestCharts:', error);\n",
              "          }\n",
              "          quickchartButtonEl.classList.remove('colab-df-spinner');\n",
              "          quickchartButtonEl.classList.add('colab-df-quickchart-complete');\n",
              "        }\n",
              "        (() => {\n",
              "          let quickchartButtonEl =\n",
              "            document.querySelector('#df-9962671b-4509-425e-8d91-c48a3ad3720f button');\n",
              "          quickchartButtonEl.style.display =\n",
              "            google.colab.kernel.accessAllowed ? 'block' : 'none';\n",
              "        })();\n",
              "      </script>\n",
              "    </div>\n",
              "\n",
              "    </div>\n",
              "  </div>\n"
            ],
            "application/vnd.google.colaboratory.intrinsic+json": {
              "type": "dataframe",
              "variable_name": "df_call",
              "summary": "{\n  \"name\": \"df_call\",\n  \"rows\": 47355,\n  \"fields\": [\n    {\n      \"column\": \"id\",\n      \"properties\": {\n        \"dtype\": \"number\",\n        \"std\": 33980,\n        \"min\": 1094528,\n        \"max\": 1244497,\n        \"num_unique_values\": 47355,\n        \"samples\": [\n          1111757,\n          1141210,\n          1121660\n        ],\n        \"semantic_type\": \"\",\n        \"description\": \"\"\n      }\n    },\n    {\n      \"column\": \"resource_id\",\n      \"properties\": {\n        \"dtype\": \"category\",\n        \"num_unique_values\": 13401,\n        \"samples\": [\n          \"RESOURCE_ID_ef02ebde98\",\n          \"RESOURCE_ID_171d384fbf\",\n          \"RESOURCE_ID_3e54810d99\"\n        ],\n        \"semantic_type\": \"\",\n        \"description\": \"\"\n      }\n    },\n    {\n      \"column\": \"created_at\",\n      \"properties\": {\n        \"dtype\": \"object\",\n        \"num_unique_values\": 47355,\n        \"samples\": [\n          \"2025-06-16 14:41:04.694994\",\n          \"2025-06-24 19:28:15.638776\",\n          \"2025-06-19 12:00:33.318200\"\n        ],\n        \"semantic_type\": \"\",\n        \"description\": \"\"\n      }\n    },\n    {\n      \"column\": \"user_id\",\n      \"properties\": {\n        \"dtype\": \"number\",\n        \"std\": 91,\n        \"min\": 13,\n        \"max\": 603,\n        \"num_unique_values\": 107,\n        \"samples\": [\n          386,\n          510,\n          516\n        ],\n        \"semantic_type\": \"\",\n        \"description\": \"\"\n      }\n    },\n    {\n      \"column\": \"group_name\",\n      \"properties\": {\n        \"dtype\": \"category\",\n        \"num_unique_values\": 2,\n        \"samples\": [\n          \"second-line\",\n          \"first-line\"\n        ],\n        \"semantic_type\": \"\",\n        \"description\": \"\"\n      }\n    },\n    {\n      \"column\": \"username\",\n      \"properties\": {\n        \"dtype\": \"category\",\n        \"num_unique_values\": 107,\n        \"samples\": [\n          \"USERNAME_97f47a07fc\",\n          \"USERNAME_201aa746c1\"\n        ],\n        \"semantic_type\": \"\",\n        \"description\": \"\"\n      }\n    },\n    {\n      \"column\": \"resource\",\n      \"properties\": {\n        \"dtype\": \"category\",\n        \"num_unique_values\": 2,\n        \"samples\": [\n          \"cpe\",\n          \"home\"\n        ],\n        \"semantic_type\": \"\",\n        \"description\": \"\"\n      }\n    }\n  ]\n}"
            }
          },
          "metadata": {},
          "execution_count": 11
        }
      ],
      "source": [
        "df_call.head()"
      ]
    },
    {
      "cell_type": "markdown",
      "metadata": {
        "id": "grCawspo8uMB"
      },
      "source": [
        "# Data Preprocessing"
      ]
    },
    {
      "cell_type": "markdown",
      "metadata": {
        "id": "uxOm0T--KnQb"
      },
      "source": [
        "## Label flag_call and ensure datetime format"
      ]
    },
    {
      "cell_type": "code",
      "execution_count": null,
      "metadata": {
        "id": "QZIb6GU2lbOB"
      },
      "outputs": [],
      "source": [
        "# Flag Call = 1\n",
        "df_call[\"flag_call\"] = 1"
      ]
    },
    {
      "cell_type": "code",
      "execution_count": null,
      "metadata": {
        "colab": {
          "base_uri": "https://localhost:8080/"
        },
        "id": "ydRSLcgzb5ZU",
        "outputId": "1ed03bc4-066b-408f-e9f4-cc380405d403"
      },
      "outputs": [
        {
          "output_type": "stream",
          "name": "stdout",
          "text": [
            "0   2025-06-11\n",
            "1   2025-06-11\n",
            "2   2025-06-11\n",
            "3   2025-06-11\n",
            "4   2025-06-11\n",
            "Name: analysis_date, dtype: datetime64[ns]\n",
            "0   2025-06-11\n",
            "1   2025-06-11\n",
            "2   2025-06-11\n",
            "3   2025-06-11\n",
            "4   2025-06-11\n",
            "Name: created_at, dtype: datetime64[ns]\n"
          ]
        }
      ],
      "source": [
        "# Ensure 'analysis_date' is in datetime format\n",
        "df_network['analysis_date'] = pd.to_datetime(df_network['analysis_date']).dt.normalize()\n",
        "\n",
        "# Ensure 'created_at' is in datetime format\n",
        "df_call['created_at'] = pd.to_datetime(df_call['created_at']).dt.normalize()\n",
        "\n",
        "# Preview values and types\n",
        "print(df_network['analysis_date'].head())\n",
        "print(df_call['created_at'].head())"
      ]
    },
    {
      "cell_type": "markdown",
      "metadata": {
        "id": "G_8E1C8gLidP"
      },
      "source": [
        "## Extract device_id"
      ]
    },
    {
      "cell_type": "code",
      "execution_count": null,
      "metadata": {
        "colab": {
          "base_uri": "https://localhost:8080/"
        },
        "id": "F0_-VYm2vPuI",
        "outputId": "1bbf1924-719c-4568-900b-18df4cd5b8ab"
      },
      "outputs": [
        {
          "output_type": "stream",
          "name": "stdout",
          "text": [
            "Number of customers in df_call: 13401\n"
          ]
        }
      ],
      "source": [
        "# Extract resource_id\n",
        "df_call['resource_id'] = df_call['resource_id'].str[12:]\n",
        "df_call['resource_id'].head(5)\n",
        "\n",
        "# Count unique customer of df_call\n",
        "print(f\"Number of customers in df_call: {df_call['resource_id'].nunique()}\")"
      ]
    },
    {
      "cell_type": "code",
      "execution_count": null,
      "metadata": {
        "colab": {
          "base_uri": "https://localhost:8080/"
        },
        "id": "3uiMZiDytTIR",
        "outputId": "a0bc7261-5065-4303-d841-86e30505428e"
      },
      "outputs": [
        {
          "output_type": "stream",
          "name": "stdout",
          "text": [
            "Number of customers in df_network 475660\n"
          ]
        }
      ],
      "source": [
        "# Extract device_id\n",
        "df_network['device_id'] = df_network['device_id'].str[10:]\n",
        "df_network['device_id'].head(1)\n",
        "\n",
        "# count unique customer of df_network\n",
        "print(f\"Number of customers in df_network {df_network['device_id'].nunique()}\")"
      ]
    },
    {
      "cell_type": "markdown",
      "metadata": {
        "id": "L2VuVwISLvm9"
      },
      "source": [
        "## Drop duplicate calls"
      ]
    },
    {
      "cell_type": "code",
      "execution_count": null,
      "metadata": {
        "colab": {
          "base_uri": "https://localhost:8080/"
        },
        "id": "AaXGhXf-qEvD",
        "outputId": "d3ec1d07-7411-46e5-955a-f796ec58cd3d"
      },
      "outputs": [
        {
          "output_type": "execute_result",
          "data": {
            "text/plain": [
              "(14924, 8)"
            ]
          },
          "metadata": {},
          "execution_count": 16
        }
      ],
      "source": [
        "# Drop duplicate call on the same day\n",
        "df_call = df_call.drop_duplicates(subset=['resource_id', 'created_at'], keep='first')\n",
        "# df_call.head()\n",
        "df_call.shape"
      ]
    },
    {
      "cell_type": "code",
      "execution_count": null,
      "metadata": {
        "id": "QQ3NsiAqs7dS"
      },
      "outputs": [],
      "source": [
        "# Count how many customer_ids appear in both DataFrames\n",
        "overlap_count = len(set(df_network['device_id']) & set(df_call['resource_id']))\n",
        "print(f\"Overlapping device_id & resource_id count: {overlap_count}\")"
      ]
    },
    {
      "cell_type": "markdown",
      "metadata": {
        "id": "wXTzt5xQL6eV"
      },
      "source": [
        "## Merge df_network and df_call"
      ]
    },
    {
      "cell_type": "code",
      "source": [
        "# Merge df_network and df_call\n",
        "def memory_efficient_merge(df_network, df_call, chunk_size=50_000):\n",
        "    # Optimize data types before merging\n",
        "    df_network['device_id'] = df_network['device_id'].astype('category')\n",
        "    df_call['resource_id'] = df_call['resource_id'].astype('category')\n",
        "\n",
        "    # Downcast numeric columns in df_call\n",
        "    df_call['flag_call'] = pd.to_numeric(df_call['flag_call'], downcast='integer')\n",
        "\n",
        "    # Convert string columns to category if they have low cardinality\n",
        "    for col in ['group_name', 'resource']:\n",
        "        if df_call[col].nunique() / len(df_call[col]) < 0.5:\n",
        "            df_call[col] = df_call[col].astype('category')\n",
        "\n",
        "    # Prepare the right dataframe columns to merge\n",
        "    merge_cols = ['resource_id', 'group_name', 'resource', 'created_at', 'flag_call']\n",
        "    df_call_reduced = df_call[merge_cols].copy()\n",
        "\n",
        "    # Process in chunks\n",
        "    chunks = []\n",
        "    for i in range(0, len(df_network), chunk_size):\n",
        "        network_chunk = df_network.iloc[i:i+chunk_size]\n",
        "\n",
        "        # Merge with optimized memory\n",
        "        merged_chunk = network_chunk.merge(\n",
        "            df_call_reduced,\n",
        "            how='left',\n",
        "            left_on=['device_id', 'analysis_date'],\n",
        "            right_on=['resource_id', 'created_at']\n",
        "        )\n",
        "\n",
        "        # Optimize the merged chunk\n",
        "        merged_chunk['flag_call'] = merged_chunk['flag_call'].fillna(0).astype('int8')\n",
        "\n",
        "        # Append to results and clean up\n",
        "        chunks.append(merged_chunk)\n",
        "        del network_chunk, merged_chunk\n",
        "        gc.collect()\n",
        "\n",
        "    # Concatenate all chunks\n",
        "    final_df = pd.concat(chunks, ignore_index=True)\n",
        "\n",
        "    # Clean up\n",
        "    del chunks, df_call_reduced\n",
        "    gc.collect()\n",
        "\n",
        "    return final_df\n",
        "\n",
        "df_merged = memory_efficient_merge(df_network, df_call)"
      ],
      "metadata": {
        "id": "8nnfHocnwj1X"
      },
      "execution_count": null,
      "outputs": []
    },
    {
      "cell_type": "code",
      "source": [
        "del df_network, df_call\n",
        "\n",
        "gc.collect()"
      ],
      "metadata": {
        "id": "_qN-xDDRvsyE",
        "colab": {
          "base_uri": "https://localhost:8080/"
        },
        "outputId": "0c4e6688-480e-4666-b23a-388910e3751e"
      },
      "execution_count": null,
      "outputs": [
        {
          "output_type": "execute_result",
          "data": {
            "text/plain": [
              "0"
            ]
          },
          "metadata": {},
          "execution_count": 20
        }
      ]
    },
    {
      "cell_type": "code",
      "source": [
        "# Select Sample devices to run the model, whle keeping proportion of fault positive similar to original dataset\n",
        "def sample_complete_devices(df, target_devices=20_000, fault_col='flag_call', date_col='analysis_date', random_state=42):\n",
        "\n",
        "    # Calculate original proportions\n",
        "    original_row_ratio = df[fault_col].mean()\n",
        "    device_status = df.groupby('device_id')[fault_col].mean().gt(0)\n",
        "    original_device_ratio = device_status.mean()\n",
        "\n",
        "    print(f\"Original row fault ratio: {original_row_ratio:.5f}\")\n",
        "    print(f\"Original device fault ratio: {original_device_ratio:.5f}\")\n",
        "\n",
        "    # Get complete devices (all dates present)\n",
        "    n_dates = df[date_col].nunique()\n",
        "    complete_devices = (df.groupby('device_id')[date_col]\n",
        "                       .nunique()\n",
        "                       .loc[lambda x: x == n_dates]\n",
        "                       .index)\n",
        "    df_complete = df[df['device_id'].isin(complete_devices)]\n",
        "\n",
        "    # Classify complete devices\n",
        "    device_status = df_complete.groupby('device_id')[fault_col].mean().gt(0)\n",
        "    faulty_devices = device_status[device_status].index\n",
        "    healthy_devices = device_status[~device_status].index\n",
        "\n",
        "    # Calculate required samples\n",
        "    n_faulty = int(round(target_devices * original_device_ratio))\n",
        "    n_faulty = min(n_faulty, len(faulty_devices))\n",
        "    n_healthy = target_devices - n_faulty\n",
        "\n",
        "    # Sample devices\n",
        "    np.random.seed(random_state)\n",
        "    sampled_faulty = np.random.choice(faulty_devices, n_faulty, replace=False)\n",
        "    sampled_healthy = np.random.choice(healthy_devices, n_healthy, replace=False)\n",
        "\n",
        "    # Combine sampled devices\n",
        "    sampled_devices = np.concatenate([sampled_faulty, sampled_healthy])\n",
        "    df_sampled = df_complete[df_complete['device_id'].isin(sampled_devices)]  # Consistent naming\n",
        "\n",
        "    # Calculate scaling factor to match original row ratio\n",
        "    current_row_ratio = df_sampled[fault_col].mean()\n",
        "    if current_row_ratio > 0:\n",
        "        scale_factor = original_row_ratio / current_row_ratio\n",
        "        if scale_factor < 1:\n",
        "            # Downsample fault rows\n",
        "            fault_rows = df_sampled[df_sampled[fault_col] == 1]\n",
        "            keep_prob = min(scale_factor, 1.0)\n",
        "            mask = np.random.random(len(fault_rows)) < keep_prob\n",
        "            df_sampled = pd.concat([\n",
        "                df_sampled[df_sampled[fault_col] == 0],\n",
        "                fault_rows[mask]\n",
        "            ])\n",
        "\n",
        "    # Verification\n",
        "    verification = {\n",
        "        'total_devices': df_sampled['device_id'].nunique(),\n",
        "        'faulty_devices': len(sampled_faulty),\n",
        "        'row_fault_ratio': df_sampled[fault_col].mean(),\n",
        "        'device_fault_ratio': (df_sampled.groupby('device_id')[fault_col].mean() > 0).mean(),\n",
        "        'date_completeness': (df_sampled.groupby('device_id')[date_col].nunique() == n_dates).all(),\n",
        "        'total_rows': len(df_sampled)\n",
        "    }\n",
        "\n",
        "    print(\"\\n=== Results ===\")\n",
        "    print(f\"Sampled devices: {verification['total_devices']}\")\n",
        "    print(f\"Faulty devices: {verification['faulty_devices']}\")\n",
        "    print(f\"Achieved row fault ratio: {verification['row_fault_ratio']:.5f}\")\n",
        "    print(f\"Device fault ratio: {verification['device_fault_ratio']:.5f}\")\n",
        "    print(f\"All dates present: {verification['date_completeness']}\")\n",
        "    print(f\"Total rows: {verification['total_rows']}\")\n",
        "\n",
        "    return df_sampled\n",
        "\n",
        "# Usage\n",
        "df_merged = sample_complete_devices(df_merged)"
      ],
      "metadata": {
        "id": "HiNt6k2Sh_05",
        "colab": {
          "base_uri": "https://localhost:8080/"
        },
        "outputId": "07a5b34f-c943-4956-afca-96e631ce3ada"
      },
      "execution_count": null,
      "outputs": [
        {
          "output_type": "stream",
          "name": "stdout",
          "text": [
            "Original row fault ratio: 0.00074\n",
            "Original device fault ratio: 0.01865\n",
            "\n",
            "=== Results ===\n",
            "Sampled devices: 20000\n",
            "Faulty devices: 373\n",
            "Achieved row fault ratio: 0.00071\n",
            "Device fault ratio: 0.01865\n",
            "All dates present: True\n",
            "Total rows: 600000\n"
          ]
        }
      ]
    },
    {
      "cell_type": "code",
      "execution_count": null,
      "metadata": {
        "id": "d9yZq9tpOpSK",
        "colab": {
          "base_uri": "https://localhost:8080/"
        },
        "outputId": "45a6f84a-5104-4754-9f99-6435d9db68b8"
      },
      "outputs": [
        {
          "output_type": "stream",
          "name": "stdout",
          "text": [
            " Flag Call Counts:\n",
            "Negative (0): 599572\n",
            "Positive (1): 428\n"
          ]
        },
        {
          "output_type": "execute_result",
          "data": {
            "text/plain": [
              "0"
            ]
          },
          "metadata": {},
          "execution_count": 26
        }
      ],
      "source": [
        "# Count positive and negative flag_call values\n",
        "call_counts = df_merged['flag_call'].value_counts().sort_index()\n",
        "\n",
        "# Print results\n",
        "print(\" Flag Call Counts:\")\n",
        "print(f\"Negative (0): {call_counts.get(0, 0)}\")\n",
        "print(f\"Positive (1): {call_counts.get(1, 0)}\")\n",
        "\n",
        "del call_counts\n",
        "\n",
        "gc.collect()"
      ]
    },
    {
      "cell_type": "code",
      "source": [
        "df_merged.head()"
      ],
      "metadata": {
        "id": "nmDcKnwVRT0V",
        "colab": {
          "base_uri": "https://localhost:8080/",
          "height": 342
        },
        "outputId": "5de6fb98-fb5f-4b2c-e8ab-ce299a2a9115"
      },
      "execution_count": null,
      "outputs": [
        {
          "output_type": "execute_result",
          "data": {
            "text/plain": [
              "      device_id analysis_date             id             analysis_id  reboots  \\\n",
              "13   7f443695a6    2025-06-11  ID_8a2ac2b198  ANALYSIS_ID_31d3810016        0   \n",
              "31   7d2bbf8463    2025-06-11  ID_ea4f03ae88  ANALYSIS_ID_6a66dea521        0   \n",
              "55   0081311cd3    2025-06-11  ID_3a9e5432f1  ANALYSIS_ID_eb9f1fd007        0   \n",
              "67   71518abf57    2025-06-11  ID_5e077d4dff  ANALYSIS_ID_015d1ae49a        0   \n",
              "108  1785e6457a    2025-06-11  ID_4972f96173  ANALYSIS_ID_2da83f8d34        1   \n",
              "\n",
              "     script_boots  ap_count  total_samples_24  total_samples_5  \\\n",
              "13              0         0              3649             2846   \n",
              "31              0         0              2791             2485   \n",
              "55              0         0              4572             2192   \n",
              "67              0         0               676             3908   \n",
              "108             0         0              2790             3569   \n",
              "\n",
              "     good_samples_24  ...  channel_changes_count_6  mem_usage  \\\n",
              "13              3435  ...                      NaN      40.43   \n",
              "31              1916  ...                      NaN      48.33   \n",
              "55              1890  ...                      NaN      59.21   \n",
              "67               346  ...                      NaN      21.38   \n",
              "108             1433  ...                      NaN      47.06   \n",
              "\n",
              "     high_mem_usage_samples                      source_file  chunk_number  \\\n",
              "13                        0  cpe_status_2025-06-11_ready.csv             0   \n",
              "31                        0  cpe_status_2025-06-11_ready.csv             0   \n",
              "55                        0  cpe_status_2025-06-11_ready.csv             0   \n",
              "67                        0  cpe_status_2025-06-11_ready.csv             0   \n",
              "108                       0  cpe_status_2025-06-11_ready.csv             0   \n",
              "\n",
              "     resource_id  group_name  resource  created_at flag_call  \n",
              "13           NaN         NaN       NaN         NaT         0  \n",
              "31           NaN         NaN       NaN         NaT         0  \n",
              "55           NaN         NaN       NaN         NaT         0  \n",
              "67           NaN         NaN       NaN         NaT         0  \n",
              "108          NaN         NaN       NaN         NaT         0  \n",
              "\n",
              "[5 rows x 101 columns]"
            ],
            "text/html": [
              "\n",
              "  <div id=\"df-8f94af9d-894b-4ba2-add5-3fb19d45db27\" class=\"colab-df-container\">\n",
              "    <div>\n",
              "<style scoped>\n",
              "    .dataframe tbody tr th:only-of-type {\n",
              "        vertical-align: middle;\n",
              "    }\n",
              "\n",
              "    .dataframe tbody tr th {\n",
              "        vertical-align: top;\n",
              "    }\n",
              "\n",
              "    .dataframe thead th {\n",
              "        text-align: right;\n",
              "    }\n",
              "</style>\n",
              "<table border=\"1\" class=\"dataframe\">\n",
              "  <thead>\n",
              "    <tr style=\"text-align: right;\">\n",
              "      <th></th>\n",
              "      <th>device_id</th>\n",
              "      <th>analysis_date</th>\n",
              "      <th>id</th>\n",
              "      <th>analysis_id</th>\n",
              "      <th>reboots</th>\n",
              "      <th>script_boots</th>\n",
              "      <th>ap_count</th>\n",
              "      <th>total_samples_24</th>\n",
              "      <th>total_samples_5</th>\n",
              "      <th>good_samples_24</th>\n",
              "      <th>...</th>\n",
              "      <th>channel_changes_count_6</th>\n",
              "      <th>mem_usage</th>\n",
              "      <th>high_mem_usage_samples</th>\n",
              "      <th>source_file</th>\n",
              "      <th>chunk_number</th>\n",
              "      <th>resource_id</th>\n",
              "      <th>group_name</th>\n",
              "      <th>resource</th>\n",
              "      <th>created_at</th>\n",
              "      <th>flag_call</th>\n",
              "    </tr>\n",
              "  </thead>\n",
              "  <tbody>\n",
              "    <tr>\n",
              "      <th>13</th>\n",
              "      <td>7f443695a6</td>\n",
              "      <td>2025-06-11</td>\n",
              "      <td>ID_8a2ac2b198</td>\n",
              "      <td>ANALYSIS_ID_31d3810016</td>\n",
              "      <td>0</td>\n",
              "      <td>0</td>\n",
              "      <td>0</td>\n",
              "      <td>3649</td>\n",
              "      <td>2846</td>\n",
              "      <td>3435</td>\n",
              "      <td>...</td>\n",
              "      <td>NaN</td>\n",
              "      <td>40.43</td>\n",
              "      <td>0</td>\n",
              "      <td>cpe_status_2025-06-11_ready.csv</td>\n",
              "      <td>0</td>\n",
              "      <td>NaN</td>\n",
              "      <td>NaN</td>\n",
              "      <td>NaN</td>\n",
              "      <td>NaT</td>\n",
              "      <td>0</td>\n",
              "    </tr>\n",
              "    <tr>\n",
              "      <th>31</th>\n",
              "      <td>7d2bbf8463</td>\n",
              "      <td>2025-06-11</td>\n",
              "      <td>ID_ea4f03ae88</td>\n",
              "      <td>ANALYSIS_ID_6a66dea521</td>\n",
              "      <td>0</td>\n",
              "      <td>0</td>\n",
              "      <td>0</td>\n",
              "      <td>2791</td>\n",
              "      <td>2485</td>\n",
              "      <td>1916</td>\n",
              "      <td>...</td>\n",
              "      <td>NaN</td>\n",
              "      <td>48.33</td>\n",
              "      <td>0</td>\n",
              "      <td>cpe_status_2025-06-11_ready.csv</td>\n",
              "      <td>0</td>\n",
              "      <td>NaN</td>\n",
              "      <td>NaN</td>\n",
              "      <td>NaN</td>\n",
              "      <td>NaT</td>\n",
              "      <td>0</td>\n",
              "    </tr>\n",
              "    <tr>\n",
              "      <th>55</th>\n",
              "      <td>0081311cd3</td>\n",
              "      <td>2025-06-11</td>\n",
              "      <td>ID_3a9e5432f1</td>\n",
              "      <td>ANALYSIS_ID_eb9f1fd007</td>\n",
              "      <td>0</td>\n",
              "      <td>0</td>\n",
              "      <td>0</td>\n",
              "      <td>4572</td>\n",
              "      <td>2192</td>\n",
              "      <td>1890</td>\n",
              "      <td>...</td>\n",
              "      <td>NaN</td>\n",
              "      <td>59.21</td>\n",
              "      <td>0</td>\n",
              "      <td>cpe_status_2025-06-11_ready.csv</td>\n",
              "      <td>0</td>\n",
              "      <td>NaN</td>\n",
              "      <td>NaN</td>\n",
              "      <td>NaN</td>\n",
              "      <td>NaT</td>\n",
              "      <td>0</td>\n",
              "    </tr>\n",
              "    <tr>\n",
              "      <th>67</th>\n",
              "      <td>71518abf57</td>\n",
              "      <td>2025-06-11</td>\n",
              "      <td>ID_5e077d4dff</td>\n",
              "      <td>ANALYSIS_ID_015d1ae49a</td>\n",
              "      <td>0</td>\n",
              "      <td>0</td>\n",
              "      <td>0</td>\n",
              "      <td>676</td>\n",
              "      <td>3908</td>\n",
              "      <td>346</td>\n",
              "      <td>...</td>\n",
              "      <td>NaN</td>\n",
              "      <td>21.38</td>\n",
              "      <td>0</td>\n",
              "      <td>cpe_status_2025-06-11_ready.csv</td>\n",
              "      <td>0</td>\n",
              "      <td>NaN</td>\n",
              "      <td>NaN</td>\n",
              "      <td>NaN</td>\n",
              "      <td>NaT</td>\n",
              "      <td>0</td>\n",
              "    </tr>\n",
              "    <tr>\n",
              "      <th>108</th>\n",
              "      <td>1785e6457a</td>\n",
              "      <td>2025-06-11</td>\n",
              "      <td>ID_4972f96173</td>\n",
              "      <td>ANALYSIS_ID_2da83f8d34</td>\n",
              "      <td>1</td>\n",
              "      <td>0</td>\n",
              "      <td>0</td>\n",
              "      <td>2790</td>\n",
              "      <td>3569</td>\n",
              "      <td>1433</td>\n",
              "      <td>...</td>\n",
              "      <td>NaN</td>\n",
              "      <td>47.06</td>\n",
              "      <td>0</td>\n",
              "      <td>cpe_status_2025-06-11_ready.csv</td>\n",
              "      <td>0</td>\n",
              "      <td>NaN</td>\n",
              "      <td>NaN</td>\n",
              "      <td>NaN</td>\n",
              "      <td>NaT</td>\n",
              "      <td>0</td>\n",
              "    </tr>\n",
              "  </tbody>\n",
              "</table>\n",
              "<p>5 rows × 101 columns</p>\n",
              "</div>\n",
              "    <div class=\"colab-df-buttons\">\n",
              "\n",
              "  <div class=\"colab-df-container\">\n",
              "    <button class=\"colab-df-convert\" onclick=\"convertToInteractive('df-8f94af9d-894b-4ba2-add5-3fb19d45db27')\"\n",
              "            title=\"Convert this dataframe to an interactive table.\"\n",
              "            style=\"display:none;\">\n",
              "\n",
              "  <svg xmlns=\"http://www.w3.org/2000/svg\" height=\"24px\" viewBox=\"0 -960 960 960\">\n",
              "    <path d=\"M120-120v-720h720v720H120Zm60-500h600v-160H180v160Zm220 220h160v-160H400v160Zm0 220h160v-160H400v160ZM180-400h160v-160H180v160Zm440 0h160v-160H620v160ZM180-180h160v-160H180v160Zm440 0h160v-160H620v160Z\"/>\n",
              "  </svg>\n",
              "    </button>\n",
              "\n",
              "  <style>\n",
              "    .colab-df-container {\n",
              "      display:flex;\n",
              "      gap: 12px;\n",
              "    }\n",
              "\n",
              "    .colab-df-convert {\n",
              "      background-color: #E8F0FE;\n",
              "      border: none;\n",
              "      border-radius: 50%;\n",
              "      cursor: pointer;\n",
              "      display: none;\n",
              "      fill: #1967D2;\n",
              "      height: 32px;\n",
              "      padding: 0 0 0 0;\n",
              "      width: 32px;\n",
              "    }\n",
              "\n",
              "    .colab-df-convert:hover {\n",
              "      background-color: #E2EBFA;\n",
              "      box-shadow: 0px 1px 2px rgba(60, 64, 67, 0.3), 0px 1px 3px 1px rgba(60, 64, 67, 0.15);\n",
              "      fill: #174EA6;\n",
              "    }\n",
              "\n",
              "    .colab-df-buttons div {\n",
              "      margin-bottom: 4px;\n",
              "    }\n",
              "\n",
              "    [theme=dark] .colab-df-convert {\n",
              "      background-color: #3B4455;\n",
              "      fill: #D2E3FC;\n",
              "    }\n",
              "\n",
              "    [theme=dark] .colab-df-convert:hover {\n",
              "      background-color: #434B5C;\n",
              "      box-shadow: 0px 1px 3px 1px rgba(0, 0, 0, 0.15);\n",
              "      filter: drop-shadow(0px 1px 2px rgba(0, 0, 0, 0.3));\n",
              "      fill: #FFFFFF;\n",
              "    }\n",
              "  </style>\n",
              "\n",
              "    <script>\n",
              "      const buttonEl =\n",
              "        document.querySelector('#df-8f94af9d-894b-4ba2-add5-3fb19d45db27 button.colab-df-convert');\n",
              "      buttonEl.style.display =\n",
              "        google.colab.kernel.accessAllowed ? 'block' : 'none';\n",
              "\n",
              "      async function convertToInteractive(key) {\n",
              "        const element = document.querySelector('#df-8f94af9d-894b-4ba2-add5-3fb19d45db27');\n",
              "        const dataTable =\n",
              "          await google.colab.kernel.invokeFunction('convertToInteractive',\n",
              "                                                    [key], {});\n",
              "        if (!dataTable) return;\n",
              "\n",
              "        const docLinkHtml = 'Like what you see? Visit the ' +\n",
              "          '<a target=\"_blank\" href=https://colab.research.google.com/notebooks/data_table.ipynb>data table notebook</a>'\n",
              "          + ' to learn more about interactive tables.';\n",
              "        element.innerHTML = '';\n",
              "        dataTable['output_type'] = 'display_data';\n",
              "        await google.colab.output.renderOutput(dataTable, element);\n",
              "        const docLink = document.createElement('div');\n",
              "        docLink.innerHTML = docLinkHtml;\n",
              "        element.appendChild(docLink);\n",
              "      }\n",
              "    </script>\n",
              "  </div>\n",
              "\n",
              "\n",
              "    <div id=\"df-e85601e8-b6e1-46ec-8b5e-37848a8192bf\">\n",
              "      <button class=\"colab-df-quickchart\" onclick=\"quickchart('df-e85601e8-b6e1-46ec-8b5e-37848a8192bf')\"\n",
              "                title=\"Suggest charts\"\n",
              "                style=\"display:none;\">\n",
              "\n",
              "<svg xmlns=\"http://www.w3.org/2000/svg\" height=\"24px\"viewBox=\"0 0 24 24\"\n",
              "     width=\"24px\">\n",
              "    <g>\n",
              "        <path d=\"M19 3H5c-1.1 0-2 .9-2 2v14c0 1.1.9 2 2 2h14c1.1 0 2-.9 2-2V5c0-1.1-.9-2-2-2zM9 17H7v-7h2v7zm4 0h-2V7h2v10zm4 0h-2v-4h2v4z\"/>\n",
              "    </g>\n",
              "</svg>\n",
              "      </button>\n",
              "\n",
              "<style>\n",
              "  .colab-df-quickchart {\n",
              "      --bg-color: #E8F0FE;\n",
              "      --fill-color: #1967D2;\n",
              "      --hover-bg-color: #E2EBFA;\n",
              "      --hover-fill-color: #174EA6;\n",
              "      --disabled-fill-color: #AAA;\n",
              "      --disabled-bg-color: #DDD;\n",
              "  }\n",
              "\n",
              "  [theme=dark] .colab-df-quickchart {\n",
              "      --bg-color: #3B4455;\n",
              "      --fill-color: #D2E3FC;\n",
              "      --hover-bg-color: #434B5C;\n",
              "      --hover-fill-color: #FFFFFF;\n",
              "      --disabled-bg-color: #3B4455;\n",
              "      --disabled-fill-color: #666;\n",
              "  }\n",
              "\n",
              "  .colab-df-quickchart {\n",
              "    background-color: var(--bg-color);\n",
              "    border: none;\n",
              "    border-radius: 50%;\n",
              "    cursor: pointer;\n",
              "    display: none;\n",
              "    fill: var(--fill-color);\n",
              "    height: 32px;\n",
              "    padding: 0;\n",
              "    width: 32px;\n",
              "  }\n",
              "\n",
              "  .colab-df-quickchart:hover {\n",
              "    background-color: var(--hover-bg-color);\n",
              "    box-shadow: 0 1px 2px rgba(60, 64, 67, 0.3), 0 1px 3px 1px rgba(60, 64, 67, 0.15);\n",
              "    fill: var(--button-hover-fill-color);\n",
              "  }\n",
              "\n",
              "  .colab-df-quickchart-complete:disabled,\n",
              "  .colab-df-quickchart-complete:disabled:hover {\n",
              "    background-color: var(--disabled-bg-color);\n",
              "    fill: var(--disabled-fill-color);\n",
              "    box-shadow: none;\n",
              "  }\n",
              "\n",
              "  .colab-df-spinner {\n",
              "    border: 2px solid var(--fill-color);\n",
              "    border-color: transparent;\n",
              "    border-bottom-color: var(--fill-color);\n",
              "    animation:\n",
              "      spin 1s steps(1) infinite;\n",
              "  }\n",
              "\n",
              "  @keyframes spin {\n",
              "    0% {\n",
              "      border-color: transparent;\n",
              "      border-bottom-color: var(--fill-color);\n",
              "      border-left-color: var(--fill-color);\n",
              "    }\n",
              "    20% {\n",
              "      border-color: transparent;\n",
              "      border-left-color: var(--fill-color);\n",
              "      border-top-color: var(--fill-color);\n",
              "    }\n",
              "    30% {\n",
              "      border-color: transparent;\n",
              "      border-left-color: var(--fill-color);\n",
              "      border-top-color: var(--fill-color);\n",
              "      border-right-color: var(--fill-color);\n",
              "    }\n",
              "    40% {\n",
              "      border-color: transparent;\n",
              "      border-right-color: var(--fill-color);\n",
              "      border-top-color: var(--fill-color);\n",
              "    }\n",
              "    60% {\n",
              "      border-color: transparent;\n",
              "      border-right-color: var(--fill-color);\n",
              "    }\n",
              "    80% {\n",
              "      border-color: transparent;\n",
              "      border-right-color: var(--fill-color);\n",
              "      border-bottom-color: var(--fill-color);\n",
              "    }\n",
              "    90% {\n",
              "      border-color: transparent;\n",
              "      border-bottom-color: var(--fill-color);\n",
              "    }\n",
              "  }\n",
              "</style>\n",
              "\n",
              "      <script>\n",
              "        async function quickchart(key) {\n",
              "          const quickchartButtonEl =\n",
              "            document.querySelector('#' + key + ' button');\n",
              "          quickchartButtonEl.disabled = true;  // To prevent multiple clicks.\n",
              "          quickchartButtonEl.classList.add('colab-df-spinner');\n",
              "          try {\n",
              "            const charts = await google.colab.kernel.invokeFunction(\n",
              "                'suggestCharts', [key], {});\n",
              "          } catch (error) {\n",
              "            console.error('Error during call to suggestCharts:', error);\n",
              "          }\n",
              "          quickchartButtonEl.classList.remove('colab-df-spinner');\n",
              "          quickchartButtonEl.classList.add('colab-df-quickchart-complete');\n",
              "        }\n",
              "        (() => {\n",
              "          let quickchartButtonEl =\n",
              "            document.querySelector('#df-e85601e8-b6e1-46ec-8b5e-37848a8192bf button');\n",
              "          quickchartButtonEl.style.display =\n",
              "            google.colab.kernel.accessAllowed ? 'block' : 'none';\n",
              "        })();\n",
              "      </script>\n",
              "    </div>\n",
              "\n",
              "    </div>\n",
              "  </div>\n"
            ],
            "application/vnd.google.colaboratory.intrinsic+json": {
              "type": "dataframe",
              "variable_name": "df_merged"
            }
          },
          "metadata": {},
          "execution_count": 27
        }
      ]
    },
    {
      "cell_type": "markdown",
      "metadata": {
        "id": "BxTi2ZuRAKo9"
      },
      "source": [
        "# Data Cleaning"
      ]
    },
    {
      "cell_type": "code",
      "execution_count": null,
      "metadata": {
        "id": "14xgcS5e7wTb",
        "colab": {
          "base_uri": "https://localhost:8080/"
        },
        "outputId": "d2f6c858-299d-4a92-eedd-abc99664d5f9"
      },
      "outputs": [
        {
          "output_type": "stream",
          "name": "stdout",
          "text": [
            "Removed 0 rows with missing flag_call\n"
          ]
        },
        {
          "output_type": "execute_result",
          "data": {
            "text/plain": [
              "0"
            ]
          },
          "metadata": {},
          "execution_count": 28
        }
      ],
      "source": [
        "# Drop rows with missing flag_call\n",
        "original_len = len(df_merged)\n",
        "\n",
        "df_merged = df_merged.dropna(subset=['flag_call']).reset_index(drop=True)\n",
        "\n",
        "print(f\"Removed {original_len - len(df_merged)} rows with missing flag_call\")\n",
        "\n",
        "del original_len\n",
        "\n",
        "gc.collect()"
      ]
    },
    {
      "cell_type": "code",
      "execution_count": null,
      "metadata": {
        "id": "WeeV8csN_bPX",
        "colab": {
          "base_uri": "https://localhost:8080/"
        },
        "outputId": "639ee6d2-0e68-40d2-d440-35381b77479e"
      },
      "outputs": [
        {
          "output_type": "stream",
          "name": "stdout",
          "text": [
            "Number of rows and columns: (600000, 101)\n",
            "Number of empty columns: 11\n",
            "Empty column names: ['cpu_temp', 'dsl_status', 'greedy_status', 'dsl_connection_stability_status', 'dsl_rate_stability_status', 'congestion_6_status', 'wifi_standard_24', 'wifi_standard_5', 'wifi_standard_6', 'fwa_quality_status', 'channel_changes_count_6']\n"
          ]
        }
      ],
      "source": [
        "# Check which columns are completely empty (all values are NaN)\n",
        "empty_columns = df_merged.columns[df_merged.isnull().all()].tolist()\n",
        "\n",
        "# Print result\n",
        "if empty_columns:\n",
        "    print(f\"Number of rows and columns: {df_merged.shape}\")\n",
        "    print(f\"Number of empty columns: {len(empty_columns)}\")\n",
        "    print(f\"Empty column names: {(empty_columns)}\")\n",
        "else:\n",
        "    print(\"No empty columns\")"
      ]
    },
    {
      "cell_type": "code",
      "source": [
        "del empty_columns\n",
        "\n",
        "gc.collect()"
      ],
      "metadata": {
        "id": "XHYS6fAWgY3x",
        "colab": {
          "base_uri": "https://localhost:8080/"
        },
        "outputId": "99cc4b34-8bbb-438d-9928-b8e0e95fb308"
      },
      "execution_count": null,
      "outputs": [
        {
          "output_type": "execute_result",
          "data": {
            "text/plain": [
              "0"
            ]
          },
          "metadata": {},
          "execution_count": 30
        }
      ]
    },
    {
      "cell_type": "code",
      "execution_count": null,
      "metadata": {
        "id": "gOWh43YvAm8m",
        "colab": {
          "base_uri": "https://localhost:8080/"
        },
        "outputId": "8783c961-03de-4c05-d5e8-82da6872ffb7"
      },
      "outputs": [
        {
          "output_type": "stream",
          "name": "stdout",
          "text": [
            "Number of rows and columns: (600000, 90)\n"
          ]
        }
      ],
      "source": [
        "# Drop NaN columns\n",
        "df_merged = df_merged.dropna(axis=1, how='all')\n",
        "print(f\"Number of rows and columns: {df_merged.shape}\")"
      ]
    },
    {
      "cell_type": "code",
      "execution_count": null,
      "metadata": {
        "id": "yeUGv96qcdF4",
        "colab": {
          "base_uri": "https://localhost:8080/"
        },
        "outputId": "55f9ec01-6d8e-4e85-e02a-3cf65257f59f"
      },
      "outputs": [
        {
          "output_type": "stream",
          "name": "stdout",
          "text": [
            "Dropped 7\n",
            "low-filling columns (<50% filled): ['legacy_status', 'repeater_status', 'max_outage_time', 'resource_id', 'group_name', 'resource', 'created_at']\n",
            "New shape: (600000, 83)\n"
          ]
        },
        {
          "output_type": "execute_result",
          "data": {
            "text/plain": [
              "0"
            ]
          },
          "metadata": {},
          "execution_count": 32
        }
      ],
      "source": [
        "# Calculate percentage of non-null values for each column\n",
        "filling_rates = 100 * df_merged.count() / df_merged.shape[0]\n",
        "\n",
        "# Round to 2 decimal places\n",
        "filling_rates = filling_rates.round(2)\n",
        "\n",
        "# Identify columns with < 50% filled\n",
        "low_fill_columns = filling_rates[filling_rates < 50].index.tolist()\n",
        "\n",
        "# Drop those columns\n",
        "df_merged = df_merged.drop(columns=low_fill_columns)\n",
        "\n",
        "# Print summary\n",
        "print(f\"Dropped {len(low_fill_columns)}\")\n",
        "print(f\"low-filling columns (<50% filled): {low_fill_columns}\")\n",
        "print(f\"New shape: {df_merged.shape}\")\n",
        "\n",
        "del filling_rates\n",
        "del low_fill_columns\n",
        "\n",
        "gc.collect()"
      ]
    },
    {
      "cell_type": "code",
      "execution_count": null,
      "metadata": {
        "id": "-KfkHi4gUHQx",
        "colab": {
          "base_uri": "https://localhost:8080/"
        },
        "outputId": "807fa244-240e-4668-aee0-f48c545b0140"
      },
      "outputs": [
        {
          "output_type": "stream",
          "name": "stdout",
          "text": [
            "Dropped 20\n",
            "constant columns: ['dsl_download_bottleneck_count', 'dsl_upload_bottleneck_count', 'interfered_active_samples_24', 'interfered_samples_24', 'greedy_event_count', 'wifi_bottleneck_count', 'poor_greedy_event_count', 'total_samples_6', 'poor_samples_6', 'mid_samples_6', 'good_samples_6', 'total_active_samples_6', 'poor_active_samples_6', 'mid_active_samples_6', 'good_active_samples_6', 'sample_active_6_count', 'congested_sample_6_count', 'congested_sample_active_6_count', 'poor_fwa_count', 'mid_fwa_count']\n"
          ]
        },
        {
          "output_type": "execute_result",
          "data": {
            "text/plain": [
              "0"
            ]
          },
          "metadata": {},
          "execution_count": 33
        }
      ],
      "source": [
        "# List of columns to keep even if they have constant values\n",
        "columns_to_keep = ['analysis_date', 'flag_call']\n",
        "\n",
        "# Identify constant columns excluding the ones to keep\n",
        "constant_columns = [\n",
        "    col for col in df_merged.columns\n",
        "    if df_merged[col].nunique(dropna=False) == 1 and col not in columns_to_keep\n",
        "]\n",
        "\n",
        "# Drop those columns\n",
        "df_merged = df_merged.drop(columns=constant_columns)\n",
        "\n",
        "# Print summary\n",
        "print(f\"Dropped {len(constant_columns)}\")\n",
        "print(f\"constant columns: {constant_columns}\")\n",
        "\n",
        "del columns_to_keep\n",
        "del constant_columns\n",
        "\n",
        "gc.collect()"
      ]
    },
    {
      "cell_type": "code",
      "execution_count": null,
      "metadata": {
        "id": "EL5oxEvSev3a",
        "colab": {
          "base_uri": "https://localhost:8080/"
        },
        "outputId": "c2dfd8e0-8e01-47c9-d0e5-801671320c99"
      },
      "outputs": [
        {
          "output_type": "stream",
          "name": "stdout",
          "text": [
            "Dropped 3\n",
            "New shape: (600000, 60)\n"
          ]
        },
        {
          "output_type": "execute_result",
          "data": {
            "text/plain": [
              "0"
            ]
          },
          "metadata": {},
          "execution_count": 34
        }
      ],
      "source": [
        "# Drop irrelavant columns\n",
        "irrelevant_columns = ['source_file', 'id', 'analysis_id']\n",
        "\n",
        "# Drop those columns\n",
        "df_merged = df_merged.drop(columns=irrelevant_columns)\n",
        "\n",
        "# Print summary\n",
        "print(f\"Dropped {len(irrelevant_columns)}\")\n",
        "print(f\"New shape: {df_merged.shape}\")\n",
        "\n",
        "del irrelevant_columns\n",
        "\n",
        "gc.collect()"
      ]
    },
    {
      "cell_type": "code",
      "execution_count": null,
      "metadata": {
        "id": "qhfPlE5BfNf8",
        "colab": {
          "base_uri": "https://localhost:8080/"
        },
        "outputId": "f15d16b7-a07c-4f12-c272-c7f2e427915c"
      },
      "outputs": [
        {
          "output_type": "stream",
          "name": "stdout",
          "text": [
            "Columns with less than 100% non-null values (ascending):\n",
            "channel_changes_count_24             99.8690\n",
            "channel_changes_count_5              99.8627\n",
            "congestion_24_status                 99.8590\n",
            "congestion_5_status                  99.8527\n",
            "wifi_coverage_status                 97.2568\n",
            "wifi_coverage_5_status               94.5172\n",
            "poor_gw_candidate_rssi_samples_24    92.7900\n",
            "poor_gw_candidate_rssi_samples_5     92.7900\n",
            "wifi_qoe_status                      91.5580\n",
            "wifi_coverage_24_status              84.7537\n",
            "dtype: float64\n",
            "10\n",
            "\n",
            "Number of missing rows per incomplete column:\n",
            "channel_changes_count_24               786\n",
            "channel_changes_count_5                824\n",
            "congestion_24_status                   846\n",
            "congestion_5_status                    884\n",
            "wifi_coverage_status                 16459\n",
            "wifi_coverage_5_status               32897\n",
            "poor_gw_candidate_rssi_samples_24    43260\n",
            "poor_gw_candidate_rssi_samples_5     43260\n",
            "wifi_qoe_status                      50652\n",
            "wifi_coverage_24_status              91478\n",
            "dtype: int64\n"
          ]
        }
      ],
      "source": [
        "# Calculate percentage of non-null values for each column\n",
        "filling_rates = 100 * df_merged.count() / df_merged.shape[0]\n",
        "\n",
        "# Round to 4 decimal places\n",
        "filling_rates = filling_rates.round(4)\n",
        "\n",
        "# Filter and sort columns with less than 100% filled\n",
        "incomplete_columns = filling_rates[filling_rates < 100].sort_values(ascending=False)\n",
        "\n",
        "# Print the result\n",
        "if not incomplete_columns.empty:\n",
        "    print(\"Columns with less than 100% non-null values (ascending):\")\n",
        "    print(incomplete_columns)\n",
        "    print(len(incomplete_columns))\n",
        "\n",
        "    # Calculate and print the number of missing rows for each incomplete column\n",
        "    print(\"\\nNumber of missing rows per incomplete column:\")\n",
        "    missing_counts = df_merged[incomplete_columns.index].isnull().sum()\n",
        "    print(missing_counts)\n",
        "else:\n",
        "    print(\"All columns are 100% complete.\")"
      ]
    },
    {
      "cell_type": "markdown",
      "metadata": {
        "id": "trXyggyHZxWw"
      },
      "source": [
        "## Clean missing rows using backward fill"
      ]
    },
    {
      "cell_type": "code",
      "execution_count": null,
      "metadata": {
        "id": "c1C3ZimIrd3L",
        "colab": {
          "base_uri": "https://localhost:8080/"
        },
        "outputId": "5b343740-4444-4a18-ec93-977a5c529c6c"
      },
      "outputs": [
        {
          "output_type": "stream",
          "name": "stdout",
          "text": [
            "Remaining missing values after fill:\n",
            "channel_changes_count_24               765\n",
            "channel_changes_count_5                775\n",
            "congestion_24_status                   825\n",
            "congestion_5_status                    835\n",
            "wifi_coverage_status                  8453\n",
            "wifi_coverage_5_status               16021\n",
            "poor_gw_candidate_rssi_samples_24    43260\n",
            "poor_gw_candidate_rssi_samples_5     43260\n",
            "wifi_qoe_status                      16739\n",
            "wifi_coverage_24_status              29280\n",
            "dtype: int64\n"
          ]
        }
      ],
      "source": [
        "# Sort analysis_date and device_id\n",
        "df_merged = df_merged.sort_values(['device_id', 'analysis_date'])\n",
        "\n",
        "# Define columns that need to be fill\n",
        "columns_to_fill = incomplete_columns.index\n",
        "\n",
        "# Backward Fill\n",
        "for col in columns_to_fill:\n",
        "    df_merged[col] = df_merged.groupby('device_id')[col].transform('bfill')\n",
        "\n",
        "# Report how many values are still missing\n",
        "missing_summary = df_merged[columns_to_fill].isnull().sum()\n",
        "missing_summary = missing_summary[missing_summary > 0]\n",
        "\n",
        "if missing_summary.empty:\n",
        "    print(\"All missing values filled successfully.\")\n",
        "else:\n",
        "    print(\"Remaining missing values after fill:\")\n",
        "    print(missing_summary)"
      ]
    },
    {
      "cell_type": "code",
      "source": [
        "del incomplete_columns\n",
        "del filling_rates\n",
        "del columns_to_fill\n",
        "del missing_summary\n",
        "\n",
        "gc.collect()"
      ],
      "metadata": {
        "id": "3nvE5FOqf-MY",
        "colab": {
          "base_uri": "https://localhost:8080/"
        },
        "outputId": "d9e6fac8-7190-432a-f517-6a9955680e24"
      },
      "execution_count": null,
      "outputs": [
        {
          "output_type": "execute_result",
          "data": {
            "text/plain": [
              "0"
            ]
          },
          "metadata": {},
          "execution_count": 37
        }
      ]
    },
    {
      "cell_type": "code",
      "execution_count": null,
      "metadata": {
        "id": "fdxMUxQNegI5",
        "colab": {
          "base_uri": "https://localhost:8080/"
        },
        "outputId": "23dbcb21-90ac-4de8-a7f9-fb97820c8626"
      },
      "outputs": [
        {
          "output_type": "stream",
          "name": "stdout",
          "text": [
            "Dropped 80545 rows with missing values\n",
            "New shape: (519455, 60)\n"
          ]
        },
        {
          "output_type": "execute_result",
          "data": {
            "text/plain": [
              "0"
            ]
          },
          "metadata": {},
          "execution_count": 38
        }
      ],
      "source": [
        "# Count missing rows before dropping\n",
        "missing_rows = df_merged.shape[0] - df_merged.dropna().shape[0]\n",
        "\n",
        "# Drop missing rows\n",
        "df_merged = df_merged.dropna()\n",
        "\n",
        "# Print summary\n",
        "print(f\"Dropped {missing_rows} rows with missing values\")\n",
        "print(f\"New shape: {df_merged.shape}\")\n",
        "\n",
        "del missing_rows\n",
        "\n",
        "gc.collect()"
      ]
    },
    {
      "cell_type": "code",
      "execution_count": null,
      "metadata": {
        "id": "v05iSgs0hSjg",
        "colab": {
          "base_uri": "https://localhost:8080/"
        },
        "outputId": "dc974ae3-8796-4a9a-9a6c-2aed4c30ca92"
      },
      "outputs": [
        {
          "output_type": "stream",
          "name": "stdout",
          "text": [
            "2692     2025-06-11\n",
            "15260    2025-06-11\n",
            "7661     2025-06-11\n",
            "5019     2025-06-11\n",
            "3630     2025-06-11\n",
            "            ...    \n",
            "599426   2025-07-10\n",
            "597941   2025-07-10\n",
            "594071   2025-07-10\n",
            "584107   2025-07-10\n",
            "585984   2025-07-10\n",
            "Name: analysis_date, Length: 519455, dtype: datetime64[ns]\n"
          ]
        }
      ],
      "source": [
        "# Sort by time\n",
        "df_merged = df_merged.sort_values('analysis_date')\n",
        "print(df_merged['analysis_date'])"
      ]
    },
    {
      "cell_type": "code",
      "execution_count": null,
      "metadata": {
        "id": "ikq7ihvLPNoT",
        "colab": {
          "base_uri": "https://localhost:8080/"
        },
        "outputId": "23f185bc-572b-47dd-cf51-f208cc9a6b9a"
      },
      "outputs": [
        {
          "output_type": "stream",
          "name": "stdout",
          "text": [
            " Flag Call Counts:\n",
            "Negative (0): 519137\n",
            "Positive (1): 318\n"
          ]
        },
        {
          "output_type": "execute_result",
          "data": {
            "text/plain": [
              "0"
            ]
          },
          "metadata": {},
          "execution_count": 40
        }
      ],
      "source": [
        "# Count positive and negative flag_call values\n",
        "call_counts = df_merged['flag_call'].value_counts().sort_index()\n",
        "\n",
        "# Print results\n",
        "print(\" Flag Call Counts:\")\n",
        "print(f\"Negative (0): {call_counts.get(0, 0)}\")\n",
        "print(f\"Positive (1): {call_counts.get(1, 0)}\")\n",
        "\n",
        "del call_counts\n",
        "\n",
        "gc.collect()"
      ]
    },
    {
      "cell_type": "code",
      "source": [
        "# Get only numeric columns\n",
        "numeric_cols = df_merged.select_dtypes(include=[\"number\"]).columns\n",
        "\n",
        "\n",
        "# Drop columns with NaN\n",
        "df_numeric = df_merged[numeric_cols].dropna(axis=1).copy()\n",
        "\n",
        "# Get top 15 features most correlated (absolute) with flag_fault\n",
        "top_15_corr_cols = (\n",
        "    df_numeric.corrwith(df_merged[\"flag_call\"])\n",
        "    .abs()\n",
        "    .sort_values(ascending=False)\n",
        "    .head(15)\n",
        "    .index\n",
        ")\n",
        "\n",
        "# Add 'flag_fault' to the selected columns\n",
        "selected_cols = top_15_corr_cols.tolist()\n",
        "\n",
        "# Plot correlation matrix\n",
        "plt.figure(figsize=(15, 10))\n",
        "sns.heatmap(df_merged[selected_cols].corr(), annot=True, cmap=\"coolwarm\", fmt=\".2f\", square=True)\n",
        "plt.title(\"Correlation Matrix of Top 15 Features (with 'flag_call')\")\n",
        "plt.tight_layout()\n",
        "plt.show()\n",
        "\n",
        "\n",
        "del df_numeric\n",
        "\n",
        "gc.collect()"
      ],
      "metadata": {
        "colab": {
          "base_uri": "https://localhost:8080/",
          "height": 839
        },
        "id": "6QvTmV56Ii_L",
        "outputId": "607533c2-b29d-481f-d520-b05cdbc73a1c"
      },
      "execution_count": null,
      "outputs": [
        {
          "output_type": "display_data",
          "data": {
            "text/plain": [
              "<Figure size 1500x1000 with 2 Axes>"
            ],
            "image/png": "[encoded data removed]"
          },
          "metadata": {}
        },
        {
          "output_type": "execute_result",
          "data": {
            "text/plain": [
              "19119"
            ]
          },
          "metadata": {},
          "execution_count": 42
        }
      ]
    },
    {
      "cell_type": "markdown",
      "metadata": {
        "id": "KzfpqXk0fORC"
      },
      "source": [
        "# Feature Engineering - Predict Wifi Fault"
      ]
    },
    {
      "cell_type": "markdown",
      "metadata": {
        "id": "9EvW2o9wKywA"
      },
      "source": [
        "## Ordinal Encoder"
      ]
    },
    {
      "cell_type": "code",
      "execution_count": null,
      "metadata": {
        "id": "bPQIYAckI36G"
      },
      "outputs": [],
      "source": [
        "# Ensure the column is string type\n",
        "df_merged['congestion_5_status'] = df_merged['congestion_5_status'].astype(str)\n",
        "df_merged['congestion_24_status'] = df_merged['congestion_24_status'].astype(str)\n",
        "df_merged['band_usage_24_status'] = df_merged['band_usage_24_status'].astype(str)\n",
        "df_merged['wifi_qoe_status'] = df_merged['wifi_qoe_status'].astype(str)\n",
        "\n",
        "# # Define the order of categories\n",
        "encoder = OrdinalEncoder(categories=[['POOR', 'MID', 'GOOD']])\n",
        "\n",
        "# Apply ordinal encoding\n",
        "df_merged['congestion_5_status'] = encoder.fit_transform(df_merged[['congestion_5_status']])\n",
        "df_merged['congestion_24_status'] = encoder.fit_transform(df_merged[['congestion_24_status']])\n",
        "df_merged['band_usage_24_status'] = encoder.fit_transform(df_merged[['band_usage_24_status']])\n",
        "df_merged['wifi_qoe_status'] = encoder.fit_transform(df_merged[['wifi_qoe_status']])\n"
      ]
    },
    {
      "cell_type": "code",
      "execution_count": null,
      "metadata": {
        "id": "LBxnGxPgJXBz",
        "colab": {
          "base_uri": "https://localhost:8080/",
          "height": 424
        },
        "outputId": "0385b69d-6ee6-4589-b1ab-8d2f35ed0ab9"
      },
      "outputs": [
        {
          "output_type": "execute_result",
          "data": {
            "text/plain": [
              "        congestion_5_status  congestion_24_status  band_usage_24_status  \\\n",
              "2692                    2.0                   2.0                   2.0   \n",
              "15260                   2.0                   1.0                   2.0   \n",
              "7661                    0.0                   1.0                   2.0   \n",
              "5019                    0.0                   2.0                   2.0   \n",
              "3630                    2.0                   2.0                   2.0   \n",
              "...                     ...                   ...                   ...   \n",
              "599426                  2.0                   2.0                   2.0   \n",
              "597941                  2.0                   2.0                   2.0   \n",
              "594071                  2.0                   2.0                   2.0   \n",
              "584107                  2.0                   1.0                   1.0   \n",
              "585984                  2.0                   0.0                   1.0   \n",
              "\n",
              "        wifi_qoe_status  \n",
              "2692                2.0  \n",
              "15260               0.0  \n",
              "7661                1.0  \n",
              "5019                2.0  \n",
              "3630                2.0  \n",
              "...                 ...  \n",
              "599426              2.0  \n",
              "597941              2.0  \n",
              "594071              2.0  \n",
              "584107              2.0  \n",
              "585984              0.0  \n",
              "\n",
              "[519455 rows x 4 columns]"
            ],
            "text/html": [
              "\n",
              "  <div id=\"df-004f2e07-443a-4180-a871-f3c68e82e65b\" class=\"colab-df-container\">\n",
              "    <div>\n",
              "<style scoped>\n",
              "    .dataframe tbody tr th:only-of-type {\n",
              "        vertical-align: middle;\n",
              "    }\n",
              "\n",
              "    .dataframe tbody tr th {\n",
              "        vertical-align: top;\n",
              "    }\n",
              "\n",
              "    .dataframe thead th {\n",
              "        text-align: right;\n",
              "    }\n",
              "</style>\n",
              "<table border=\"1\" class=\"dataframe\">\n",
              "  <thead>\n",
              "    <tr style=\"text-align: right;\">\n",
              "      <th></th>\n",
              "      <th>congestion_5_status</th>\n",
              "      <th>congestion_24_status</th>\n",
              "      <th>band_usage_24_status</th>\n",
              "      <th>wifi_qoe_status</th>\n",
              "    </tr>\n",
              "  </thead>\n",
              "  <tbody>\n",
              "    <tr>\n",
              "      <th>2692</th>\n",
              "      <td>2.0</td>\n",
              "      <td>2.0</td>\n",
              "      <td>2.0</td>\n",
              "      <td>2.0</td>\n",
              "    </tr>\n",
              "    <tr>\n",
              "      <th>15260</th>\n",
              "      <td>2.0</td>\n",
              "      <td>1.0</td>\n",
              "      <td>2.0</td>\n",
              "      <td>0.0</td>\n",
              "    </tr>\n",
              "    <tr>\n",
              "      <th>7661</th>\n",
              "      <td>0.0</td>\n",
              "      <td>1.0</td>\n",
              "      <td>2.0</td>\n",
              "      <td>1.0</td>\n",
              "    </tr>\n",
              "    <tr>\n",
              "      <th>5019</th>\n",
              "      <td>0.0</td>\n",
              "      <td>2.0</td>\n",
              "      <td>2.0</td>\n",
              "      <td>2.0</td>\n",
              "    </tr>\n",
              "    <tr>\n",
              "      <th>3630</th>\n",
              "      <td>2.0</td>\n",
              "      <td>2.0</td>\n",
              "      <td>2.0</td>\n",
              "      <td>2.0</td>\n",
              "    </tr>\n",
              "    <tr>\n",
              "      <th>...</th>\n",
              "      <td>...</td>\n",
              "      <td>...</td>\n",
              "      <td>...</td>\n",
              "      <td>...</td>\n",
              "    </tr>\n",
              "    <tr>\n",
              "      <th>599426</th>\n",
              "      <td>2.0</td>\n",
              "      <td>2.0</td>\n",
              "      <td>2.0</td>\n",
              "      <td>2.0</td>\n",
              "    </tr>\n",
              "    <tr>\n",
              "      <th>597941</th>\n",
              "      <td>2.0</td>\n",
              "      <td>2.0</td>\n",
              "      <td>2.0</td>\n",
              "      <td>2.0</td>\n",
              "    </tr>\n",
              "    <tr>\n",
              "      <th>594071</th>\n",
              "      <td>2.0</td>\n",
              "      <td>2.0</td>\n",
              "      <td>2.0</td>\n",
              "      <td>2.0</td>\n",
              "    </tr>\n",
              "    <tr>\n",
              "      <th>584107</th>\n",
              "      <td>2.0</td>\n",
              "      <td>1.0</td>\n",
              "      <td>1.0</td>\n",
              "      <td>2.0</td>\n",
              "    </tr>\n",
              "    <tr>\n",
              "      <th>585984</th>\n",
              "      <td>2.0</td>\n",
              "      <td>0.0</td>\n",
              "      <td>1.0</td>\n",
              "      <td>0.0</td>\n",
              "    </tr>\n",
              "  </tbody>\n",
              "</table>\n",
              "<p>519455 rows × 4 columns</p>\n",
              "</div>\n",
              "    <div class=\"colab-df-buttons\">\n",
              "\n",
              "  <div class=\"colab-df-container\">\n",
              "    <button class=\"colab-df-convert\" onclick=\"convertToInteractive('df-004f2e07-443a-4180-a871-f3c68e82e65b')\"\n",
              "            title=\"Convert this dataframe to an interactive table.\"\n",
              "            style=\"display:none;\">\n",
              "\n",
              "  <svg xmlns=\"http://www.w3.org/2000/svg\" height=\"24px\" viewBox=\"0 -960 960 960\">\n",
              "    <path d=\"M120-120v-720h720v720H120Zm60-500h600v-160H180v160Zm220 220h160v-160H400v160Zm0 220h160v-160H400v160ZM180-400h160v-160H180v160Zm440 0h160v-160H620v160ZM180-180h160v-160H180v160Zm440 0h160v-160H620v160Z\"/>\n",
              "  </svg>\n",
              "    </button>\n",
              "\n",
              "  <style>\n",
              "    .colab-df-container {\n",
              "      display:flex;\n",
              "      gap: 12px;\n",
              "    }\n",
              "\n",
              "    .colab-df-convert {\n",
              "      background-color: #E8F0FE;\n",
              "      border: none;\n",
              "      border-radius: 50%;\n",
              "      cursor: pointer;\n",
              "      display: none;\n",
              "      fill: #1967D2;\n",
              "      height: 32px;\n",
              "      padding: 0 0 0 0;\n",
              "      width: 32px;\n",
              "    }\n",
              "\n",
              "    .colab-df-convert:hover {\n",
              "      background-color: #E2EBFA;\n",
              "      box-shadow: 0px 1px 2px rgba(60, 64, 67, 0.3), 0px 1px 3px 1px rgba(60, 64, 67, 0.15);\n",
              "      fill: #174EA6;\n",
              "    }\n",
              "\n",
              "    .colab-df-buttons div {\n",
              "      margin-bottom: 4px;\n",
              "    }\n",
              "\n",
              "    [theme=dark] .colab-df-convert {\n",
              "      background-color: #3B4455;\n",
              "      fill: #D2E3FC;\n",
              "    }\n",
              "\n",
              "    [theme=dark] .colab-df-convert:hover {\n",
              "      background-color: #434B5C;\n",
              "      box-shadow: 0px 1px 3px 1px rgba(0, 0, 0, 0.15);\n",
              "      filter: drop-shadow(0px 1px 2px rgba(0, 0, 0, 0.3));\n",
              "      fill: #FFFFFF;\n",
              "    }\n",
              "  </style>\n",
              "\n",
              "    <script>\n",
              "      const buttonEl =\n",
              "        document.querySelector('#df-004f2e07-443a-4180-a871-f3c68e82e65b button.colab-df-convert');\n",
              "      buttonEl.style.display =\n",
              "        google.colab.kernel.accessAllowed ? 'block' : 'none';\n",
              "\n",
              "      async function convertToInteractive(key) {\n",
              "        const element = document.querySelector('#df-004f2e07-443a-4180-a871-f3c68e82e65b');\n",
              "        const dataTable =\n",
              "          await google.colab.kernel.invokeFunction('convertToInteractive',\n",
              "                                                    [key], {});\n",
              "        if (!dataTable) return;\n",
              "\n",
              "        const docLinkHtml = 'Like what you see? Visit the ' +\n",
              "          '<a target=\"_blank\" href=https://colab.research.google.com/notebooks/data_table.ipynb>data table notebook</a>'\n",
              "          + ' to learn more about interactive tables.';\n",
              "        element.innerHTML = '';\n",
              "        dataTable['output_type'] = 'display_data';\n",
              "        await google.colab.output.renderOutput(dataTable, element);\n",
              "        const docLink = document.createElement('div');\n",
              "        docLink.innerHTML = docLinkHtml;\n",
              "        element.appendChild(docLink);\n",
              "      }\n",
              "    </script>\n",
              "  </div>\n",
              "\n",
              "\n",
              "    <div id=\"df-ec95bc9d-c1d9-4b96-bb8c-0cd3e7db7bbf\">\n",
              "      <button class=\"colab-df-quickchart\" onclick=\"quickchart('df-ec95bc9d-c1d9-4b96-bb8c-0cd3e7db7bbf')\"\n",
              "                title=\"Suggest charts\"\n",
              "                style=\"display:none;\">\n",
              "\n",
              "<svg xmlns=\"http://www.w3.org/2000/svg\" height=\"24px\"viewBox=\"0 0 24 24\"\n",
              "     width=\"24px\">\n",
              "    <g>\n",
              "        <path d=\"M19 3H5c-1.1 0-2 .9-2 2v14c0 1.1.9 2 2 2h14c1.1 0 2-.9 2-2V5c0-1.1-.9-2-2-2zM9 17H7v-7h2v7zm4 0h-2V7h2v10zm4 0h-2v-4h2v4z\"/>\n",
              "    </g>\n",
              "</svg>\n",
              "      </button>\n",
              "\n",
              "<style>\n",
              "  .colab-df-quickchart {\n",
              "      --bg-color: #E8F0FE;\n",
              "      --fill-color: #1967D2;\n",
              "      --hover-bg-color: #E2EBFA;\n",
              "      --hover-fill-color: #174EA6;\n",
              "      --disabled-fill-color: #AAA;\n",
              "      --disabled-bg-color: #DDD;\n",
              "  }\n",
              "\n",
              "  [theme=dark] .colab-df-quickchart {\n",
              "      --bg-color: #3B4455;\n",
              "      --fill-color: #D2E3FC;\n",
              "      --hover-bg-color: #434B5C;\n",
              "      --hover-fill-color: #FFFFFF;\n",
              "      --disabled-bg-color: #3B4455;\n",
              "      --disabled-fill-color: #666;\n",
              "  }\n",
              "\n",
              "  .colab-df-quickchart {\n",
              "    background-color: var(--bg-color);\n",
              "    border: none;\n",
              "    border-radius: 50%;\n",
              "    cursor: pointer;\n",
              "    display: none;\n",
              "    fill: var(--fill-color);\n",
              "    height: 32px;\n",
              "    padding: 0;\n",
              "    width: 32px;\n",
              "  }\n",
              "\n",
              "  .colab-df-quickchart:hover {\n",
              "    background-color: var(--hover-bg-color);\n",
              "    box-shadow: 0 1px 2px rgba(60, 64, 67, 0.3), 0 1px 3px 1px rgba(60, 64, 67, 0.15);\n",
              "    fill: var(--button-hover-fill-color);\n",
              "  }\n",
              "\n",
              "  .colab-df-quickchart-complete:disabled,\n",
              "  .colab-df-quickchart-complete:disabled:hover {\n",
              "    background-color: var(--disabled-bg-color);\n",
              "    fill: var(--disabled-fill-color);\n",
              "    box-shadow: none;\n",
              "  }\n",
              "\n",
              "  .colab-df-spinner {\n",
              "    border: 2px solid var(--fill-color);\n",
              "    border-color: transparent;\n",
              "    border-bottom-color: var(--fill-color);\n",
              "    animation:\n",
              "      spin 1s steps(1) infinite;\n",
              "  }\n",
              "\n",
              "  @keyframes spin {\n",
              "    0% {\n",
              "      border-color: transparent;\n",
              "      border-bottom-color: var(--fill-color);\n",
              "      border-left-color: var(--fill-color);\n",
              "    }\n",
              "    20% {\n",
              "      border-color: transparent;\n",
              "      border-left-color: var(--fill-color);\n",
              "      border-top-color: var(--fill-color);\n",
              "    }\n",
              "    30% {\n",
              "      border-color: transparent;\n",
              "      border-left-color: var(--fill-color);\n",
              "      border-top-color: var(--fill-color);\n",
              "      border-right-color: var(--fill-color);\n",
              "    }\n",
              "    40% {\n",
              "      border-color: transparent;\n",
              "      border-right-color: var(--fill-color);\n",
              "      border-top-color: var(--fill-color);\n",
              "    }\n",
              "    60% {\n",
              "      border-color: transparent;\n",
              "      border-right-color: var(--fill-color);\n",
              "    }\n",
              "    80% {\n",
              "      border-color: transparent;\n",
              "      border-right-color: var(--fill-color);\n",
              "      border-bottom-color: var(--fill-color);\n",
              "    }\n",
              "    90% {\n",
              "      border-color: transparent;\n",
              "      border-bottom-color: var(--fill-color);\n",
              "    }\n",
              "  }\n",
              "</style>\n",
              "\n",
              "      <script>\n",
              "        async function quickchart(key) {\n",
              "          const quickchartButtonEl =\n",
              "            document.querySelector('#' + key + ' button');\n",
              "          quickchartButtonEl.disabled = true;  // To prevent multiple clicks.\n",
              "          quickchartButtonEl.classList.add('colab-df-spinner');\n",
              "          try {\n",
              "            const charts = await google.colab.kernel.invokeFunction(\n",
              "                'suggestCharts', [key], {});\n",
              "          } catch (error) {\n",
              "            console.error('Error during call to suggestCharts:', error);\n",
              "          }\n",
              "          quickchartButtonEl.classList.remove('colab-df-spinner');\n",
              "          quickchartButtonEl.classList.add('colab-df-quickchart-complete');\n",
              "        }\n",
              "        (() => {\n",
              "          let quickchartButtonEl =\n",
              "            document.querySelector('#df-ec95bc9d-c1d9-4b96-bb8c-0cd3e7db7bbf button');\n",
              "          quickchartButtonEl.style.display =\n",
              "            google.colab.kernel.accessAllowed ? 'block' : 'none';\n",
              "        })();\n",
              "      </script>\n",
              "    </div>\n",
              "\n",
              "    </div>\n",
              "  </div>\n"
            ],
            "application/vnd.google.colaboratory.intrinsic+json": {
              "type": "dataframe"
            }
          },
          "metadata": {},
          "execution_count": 42
        }
      ],
      "source": [
        "df_merged[['congestion_5_status', 'congestion_24_status', 'band_usage_24_status', 'wifi_qoe_status']]"
      ]
    },
    {
      "cell_type": "code",
      "execution_count": null,
      "metadata": {
        "id": "j_AreidQ3-aE",
        "colab": {
          "base_uri": "https://localhost:8080/"
        },
        "outputId": "80ad56ec-c8c0-499e-9076-0d50c7920b4e"
      },
      "outputs": [
        {
          "output_type": "stream",
          "name": "stdout",
          "text": [
            "<class 'pandas.core.frame.DataFrame'>\n",
            "Index: 519455 entries, 2692 to 585984\n",
            "Data columns (total 4 columns):\n",
            " #   Column                Non-Null Count   Dtype  \n",
            "---  ------                --------------   -----  \n",
            " 0   congestion_5_status   519455 non-null  float64\n",
            " 1   congestion_24_status  519455 non-null  float64\n",
            " 2   band_usage_24_status  519455 non-null  float64\n",
            " 3   wifi_qoe_status       519455 non-null  float64\n",
            "dtypes: float64(4)\n",
            "memory usage: 19.8 MB\n"
          ]
        }
      ],
      "source": [
        "df_merged[['congestion_5_status', 'congestion_24_status', 'band_usage_24_status', 'wifi_qoe_status']].info()"
      ]
    },
    {
      "cell_type": "code",
      "execution_count": null,
      "metadata": {
        "id": "mdBexDEdU4_X"
      },
      "outputs": [],
      "source": [
        "# Ensure the column is string type\n",
        "df_merged['wifi_coverage_status'] = df_merged['wifi_coverage_status'].astype(str)\n",
        "df_merged['wifi_coverage_24_status'] = df_merged['wifi_coverage_24_status'].astype(str)\n",
        "df_merged['wifi_coverage_5_status'] = df_merged['wifi_coverage_5_status'].astype(str)\n",
        "\n",
        "# Define the order of categories\n",
        "encoder = OrdinalEncoder(categories=[['POOR', 'MID', 'HIGH']])\n",
        "\n",
        "# Apply ordinal encoding\n",
        "df_merged['wifi_coverage_status'] = encoder.fit_transform(df_merged[['wifi_coverage_status']])\n",
        "df_merged['wifi_coverage_24_status'] = encoder.fit_transform(df_merged[['wifi_coverage_24_status']])\n",
        "df_merged['wifi_coverage_5_status'] = encoder.fit_transform(df_merged[['wifi_coverage_5_status']])"
      ]
    },
    {
      "cell_type": "code",
      "execution_count": null,
      "metadata": {
        "id": "sENC7MJF7Ryd",
        "colab": {
          "base_uri": "https://localhost:8080/"
        },
        "outputId": "2d25a11a-f175-47f4-e5f0-942cdb1e0134"
      },
      "outputs": [
        {
          "output_type": "stream",
          "name": "stdout",
          "text": [
            "<class 'pandas.core.frame.DataFrame'>\n",
            "Index: 519455 entries, 2692 to 585984\n",
            "Data columns (total 3 columns):\n",
            " #   Column                   Non-Null Count   Dtype  \n",
            "---  ------                   --------------   -----  \n",
            " 0   wifi_coverage_status     519455 non-null  float64\n",
            " 1   wifi_coverage_24_status  519455 non-null  float64\n",
            " 2   wifi_coverage_5_status   519455 non-null  float64\n",
            "dtypes: float64(3)\n",
            "memory usage: 15.9 MB\n"
          ]
        }
      ],
      "source": [
        "# Check data types for encoding columns\n",
        "df_merged[['wifi_coverage_status', 'wifi_coverage_24_status', 'wifi_coverage_5_status']].info()"
      ]
    },
    {
      "cell_type": "code",
      "execution_count": null,
      "metadata": {
        "id": "1BLcz9dfMADq",
        "colab": {
          "base_uri": "https://localhost:8080/",
          "height": 424
        },
        "outputId": "2c95c978-74f2-4f0d-b7dd-1026242b175e"
      },
      "outputs": [
        {
          "output_type": "execute_result",
          "data": {
            "text/plain": [
              "        wifi_coverage_status  wifi_coverage_24_status  wifi_coverage_5_status\n",
              "2692                     2.0                      2.0                     1.0\n",
              "15260                    0.0                      1.0                     0.0\n",
              "7661                     2.0                      2.0                     2.0\n",
              "5019                     2.0                      1.0                     1.0\n",
              "3630                     2.0                      0.0                     2.0\n",
              "...                      ...                      ...                     ...\n",
              "599426                   1.0                      2.0                     1.0\n",
              "597941                   2.0                      2.0                     2.0\n",
              "594071                   0.0                      0.0                     2.0\n",
              "584107                   2.0                      2.0                     2.0\n",
              "585984                   1.0                      1.0                     1.0\n",
              "\n",
              "[519455 rows x 3 columns]"
            ],
            "text/html": [
              "\n",
              "  <div id=\"df-7b814d06-3986-436d-a7d1-b93d334e63d1\" class=\"colab-df-container\">\n",
              "    <div>\n",
              "<style scoped>\n",
              "    .dataframe tbody tr th:only-of-type {\n",
              "        vertical-align: middle;\n",
              "    }\n",
              "\n",
              "    .dataframe tbody tr th {\n",
              "        vertical-align: top;\n",
              "    }\n",
              "\n",
              "    .dataframe thead th {\n",
              "        text-align: right;\n",
              "    }\n",
              "</style>\n",
              "<table border=\"1\" class=\"dataframe\">\n",
              "  <thead>\n",
              "    <tr style=\"text-align: right;\">\n",
              "      <th></th>\n",
              "      <th>wifi_coverage_status</th>\n",
              "      <th>wifi_coverage_24_status</th>\n",
              "      <th>wifi_coverage_5_status</th>\n",
              "    </tr>\n",
              "  </thead>\n",
              "  <tbody>\n",
              "    <tr>\n",
              "      <th>2692</th>\n",
              "      <td>2.0</td>\n",
              "      <td>2.0</td>\n",
              "      <td>1.0</td>\n",
              "    </tr>\n",
              "    <tr>\n",
              "      <th>15260</th>\n",
              "      <td>0.0</td>\n",
              "      <td>1.0</td>\n",
              "      <td>0.0</td>\n",
              "    </tr>\n",
              "    <tr>\n",
              "      <th>7661</th>\n",
              "      <td>2.0</td>\n",
              "      <td>2.0</td>\n",
              "      <td>2.0</td>\n",
              "    </tr>\n",
              "    <tr>\n",
              "      <th>5019</th>\n",
              "      <td>2.0</td>\n",
              "      <td>1.0</td>\n",
              "      <td>1.0</td>\n",
              "    </tr>\n",
              "    <tr>\n",
              "      <th>3630</th>\n",
              "      <td>2.0</td>\n",
              "      <td>0.0</td>\n",
              "      <td>2.0</td>\n",
              "    </tr>\n",
              "    <tr>\n",
              "      <th>...</th>\n",
              "      <td>...</td>\n",
              "      <td>...</td>\n",
              "      <td>...</td>\n",
              "    </tr>\n",
              "    <tr>\n",
              "      <th>599426</th>\n",
              "      <td>1.0</td>\n",
              "      <td>2.0</td>\n",
              "      <td>1.0</td>\n",
              "    </tr>\n",
              "    <tr>\n",
              "      <th>597941</th>\n",
              "      <td>2.0</td>\n",
              "      <td>2.0</td>\n",
              "      <td>2.0</td>\n",
              "    </tr>\n",
              "    <tr>\n",
              "      <th>594071</th>\n",
              "      <td>0.0</td>\n",
              "      <td>0.0</td>\n",
              "      <td>2.0</td>\n",
              "    </tr>\n",
              "    <tr>\n",
              "      <th>584107</th>\n",
              "      <td>2.0</td>\n",
              "      <td>2.0</td>\n",
              "      <td>2.0</td>\n",
              "    </tr>\n",
              "    <tr>\n",
              "      <th>585984</th>\n",
              "      <td>1.0</td>\n",
              "      <td>1.0</td>\n",
              "      <td>1.0</td>\n",
              "    </tr>\n",
              "  </tbody>\n",
              "</table>\n",
              "<p>519455 rows × 3 columns</p>\n",
              "</div>\n",
              "    <div class=\"colab-df-buttons\">\n",
              "\n",
              "  <div class=\"colab-df-container\">\n",
              "    <button class=\"colab-df-convert\" onclick=\"convertToInteractive('df-7b814d06-3986-436d-a7d1-b93d334e63d1')\"\n",
              "            title=\"Convert this dataframe to an interactive table.\"\n",
              "            style=\"display:none;\">\n",
              "\n",
              "  <svg xmlns=\"http://www.w3.org/2000/svg\" height=\"24px\" viewBox=\"0 -960 960 960\">\n",
              "    <path d=\"M120-120v-720h720v720H120Zm60-500h600v-160H180v160Zm220 220h160v-160H400v160Zm0 220h160v-160H400v160ZM180-400h160v-160H180v160Zm440 0h160v-160H620v160ZM180-180h160v-160H180v160Zm440 0h160v-160H620v160Z\"/>\n",
              "  </svg>\n",
              "    </button>\n",
              "\n",
              "  <style>\n",
              "    .colab-df-container {\n",
              "      display:flex;\n",
              "      gap: 12px;\n",
              "    }\n",
              "\n",
              "    .colab-df-convert {\n",
              "      background-color: #E8F0FE;\n",
              "      border: none;\n",
              "      border-radius: 50%;\n",
              "      cursor: pointer;\n",
              "      display: none;\n",
              "      fill: #1967D2;\n",
              "      height: 32px;\n",
              "      padding: 0 0 0 0;\n",
              "      width: 32px;\n",
              "    }\n",
              "\n",
              "    .colab-df-convert:hover {\n",
              "      background-color: #E2EBFA;\n",
              "      box-shadow: 0px 1px 2px rgba(60, 64, 67, 0.3), 0px 1px 3px 1px rgba(60, 64, 67, 0.15);\n",
              "      fill: #174EA6;\n",
              "    }\n",
              "\n",
              "    .colab-df-buttons div {\n",
              "      margin-bottom: 4px;\n",
              "    }\n",
              "\n",
              "    [theme=dark] .colab-df-convert {\n",
              "      background-color: #3B4455;\n",
              "      fill: #D2E3FC;\n",
              "    }\n",
              "\n",
              "    [theme=dark] .colab-df-convert:hover {\n",
              "      background-color: #434B5C;\n",
              "      box-shadow: 0px 1px 3px 1px rgba(0, 0, 0, 0.15);\n",
              "      filter: drop-shadow(0px 1px 2px rgba(0, 0, 0, 0.3));\n",
              "      fill: #FFFFFF;\n",
              "    }\n",
              "  </style>\n",
              "\n",
              "    <script>\n",
              "      const buttonEl =\n",
              "        document.querySelector('#df-7b814d06-3986-436d-a7d1-b93d334e63d1 button.colab-df-convert');\n",
              "      buttonEl.style.display =\n",
              "        google.colab.kernel.accessAllowed ? 'block' : 'none';\n",
              "\n",
              "      async function convertToInteractive(key) {\n",
              "        const element = document.querySelector('#df-7b814d06-3986-436d-a7d1-b93d334e63d1');\n",
              "        const dataTable =\n",
              "          await google.colab.kernel.invokeFunction('convertToInteractive',\n",
              "                                                    [key], {});\n",
              "        if (!dataTable) return;\n",
              "\n",
              "        const docLinkHtml = 'Like what you see? Visit the ' +\n",
              "          '<a target=\"_blank\" href=https://colab.research.google.com/notebooks/data_table.ipynb>data table notebook</a>'\n",
              "          + ' to learn more about interactive tables.';\n",
              "        element.innerHTML = '';\n",
              "        dataTable['output_type'] = 'display_data';\n",
              "        await google.colab.output.renderOutput(dataTable, element);\n",
              "        const docLink = document.createElement('div');\n",
              "        docLink.innerHTML = docLinkHtml;\n",
              "        element.appendChild(docLink);\n",
              "      }\n",
              "    </script>\n",
              "  </div>\n",
              "\n",
              "\n",
              "    <div id=\"df-e7bb4a2d-1d86-4017-b3a0-9693a44b5475\">\n",
              "      <button class=\"colab-df-quickchart\" onclick=\"quickchart('df-e7bb4a2d-1d86-4017-b3a0-9693a44b5475')\"\n",
              "                title=\"Suggest charts\"\n",
              "                style=\"display:none;\">\n",
              "\n",
              "<svg xmlns=\"http://www.w3.org/2000/svg\" height=\"24px\"viewBox=\"0 0 24 24\"\n",
              "     width=\"24px\">\n",
              "    <g>\n",
              "        <path d=\"M19 3H5c-1.1 0-2 .9-2 2v14c0 1.1.9 2 2 2h14c1.1 0 2-.9 2-2V5c0-1.1-.9-2-2-2zM9 17H7v-7h2v7zm4 0h-2V7h2v10zm4 0h-2v-4h2v4z\"/>\n",
              "    </g>\n",
              "</svg>\n",
              "      </button>\n",
              "\n",
              "<style>\n",
              "  .colab-df-quickchart {\n",
              "      --bg-color: #E8F0FE;\n",
              "      --fill-color: #1967D2;\n",
              "      --hover-bg-color: #E2EBFA;\n",
              "      --hover-fill-color: #174EA6;\n",
              "      --disabled-fill-color: #AAA;\n",
              "      --disabled-bg-color: #DDD;\n",
              "  }\n",
              "\n",
              "  [theme=dark] .colab-df-quickchart {\n",
              "      --bg-color: #3B4455;\n",
              "      --fill-color: #D2E3FC;\n",
              "      --hover-bg-color: #434B5C;\n",
              "      --hover-fill-color: #FFFFFF;\n",
              "      --disabled-bg-color: #3B4455;\n",
              "      --disabled-fill-color: #666;\n",
              "  }\n",
              "\n",
              "  .colab-df-quickchart {\n",
              "    background-color: var(--bg-color);\n",
              "    border: none;\n",
              "    border-radius: 50%;\n",
              "    cursor: pointer;\n",
              "    display: none;\n",
              "    fill: var(--fill-color);\n",
              "    height: 32px;\n",
              "    padding: 0;\n",
              "    width: 32px;\n",
              "  }\n",
              "\n",
              "  .colab-df-quickchart:hover {\n",
              "    background-color: var(--hover-bg-color);\n",
              "    box-shadow: 0 1px 2px rgba(60, 64, 67, 0.3), 0 1px 3px 1px rgba(60, 64, 67, 0.15);\n",
              "    fill: var(--button-hover-fill-color);\n",
              "  }\n",
              "\n",
              "  .colab-df-quickchart-complete:disabled,\n",
              "  .colab-df-quickchart-complete:disabled:hover {\n",
              "    background-color: var(--disabled-bg-color);\n",
              "    fill: var(--disabled-fill-color);\n",
              "    box-shadow: none;\n",
              "  }\n",
              "\n",
              "  .colab-df-spinner {\n",
              "    border: 2px solid var(--fill-color);\n",
              "    border-color: transparent;\n",
              "    border-bottom-color: var(--fill-color);\n",
              "    animation:\n",
              "      spin 1s steps(1) infinite;\n",
              "  }\n",
              "\n",
              "  @keyframes spin {\n",
              "    0% {\n",
              "      border-color: transparent;\n",
              "      border-bottom-color: var(--fill-color);\n",
              "      border-left-color: var(--fill-color);\n",
              "    }\n",
              "    20% {\n",
              "      border-color: transparent;\n",
              "      border-left-color: var(--fill-color);\n",
              "      border-top-color: var(--fill-color);\n",
              "    }\n",
              "    30% {\n",
              "      border-color: transparent;\n",
              "      border-left-color: var(--fill-color);\n",
              "      border-top-color: var(--fill-color);\n",
              "      border-right-color: var(--fill-color);\n",
              "    }\n",
              "    40% {\n",
              "      border-color: transparent;\n",
              "      border-right-color: var(--fill-color);\n",
              "      border-top-color: var(--fill-color);\n",
              "    }\n",
              "    60% {\n",
              "      border-color: transparent;\n",
              "      border-right-color: var(--fill-color);\n",
              "    }\n",
              "    80% {\n",
              "      border-color: transparent;\n",
              "      border-right-color: var(--fill-color);\n",
              "      border-bottom-color: var(--fill-color);\n",
              "    }\n",
              "    90% {\n",
              "      border-color: transparent;\n",
              "      border-bottom-color: var(--fill-color);\n",
              "    }\n",
              "  }\n",
              "</style>\n",
              "\n",
              "      <script>\n",
              "        async function quickchart(key) {\n",
              "          const quickchartButtonEl =\n",
              "            document.querySelector('#' + key + ' button');\n",
              "          quickchartButtonEl.disabled = true;  // To prevent multiple clicks.\n",
              "          quickchartButtonEl.classList.add('colab-df-spinner');\n",
              "          try {\n",
              "            const charts = await google.colab.kernel.invokeFunction(\n",
              "                'suggestCharts', [key], {});\n",
              "          } catch (error) {\n",
              "            console.error('Error during call to suggestCharts:', error);\n",
              "          }\n",
              "          quickchartButtonEl.classList.remove('colab-df-spinner');\n",
              "          quickchartButtonEl.classList.add('colab-df-quickchart-complete');\n",
              "        }\n",
              "        (() => {\n",
              "          let quickchartButtonEl =\n",
              "            document.querySelector('#df-e7bb4a2d-1d86-4017-b3a0-9693a44b5475 button');\n",
              "          quickchartButtonEl.style.display =\n",
              "            google.colab.kernel.accessAllowed ? 'block' : 'none';\n",
              "        })();\n",
              "      </script>\n",
              "    </div>\n",
              "\n",
              "    </div>\n",
              "  </div>\n"
            ],
            "application/vnd.google.colaboratory.intrinsic+json": {
              "type": "dataframe"
            }
          },
          "metadata": {},
          "execution_count": 48
        }
      ],
      "source": [
        "df_merged[['wifi_coverage_status', 'wifi_coverage_24_status', 'wifi_coverage_5_status']]"
      ]
    },
    {
      "cell_type": "code",
      "execution_count": null,
      "metadata": {
        "id": "PZzfDep1cQyJ",
        "colab": {
          "base_uri": "https://localhost:8080/"
        },
        "outputId": "b1f211ec-29ee-41d4-8819-dae77ca8b846"
      },
      "outputs": [
        {
          "output_type": "execute_result",
          "data": {
            "text/plain": [
              "(519455, 60)"
            ]
          },
          "metadata": {},
          "execution_count": 49
        }
      ],
      "source": [
        "df_merged.shape"
      ]
    },
    {
      "cell_type": "code",
      "source": [
        "df_merged.head()"
      ],
      "metadata": {
        "id": "BLwh67gnk-Bp",
        "colab": {
          "base_uri": "https://localhost:8080/",
          "height": 256
        },
        "outputId": "167a2445-00c6-4a47-849d-bd032486af4e"
      },
      "execution_count": null,
      "outputs": [
        {
          "output_type": "execute_result",
          "data": {
            "text/plain": [
              "        device_id analysis_date  reboots  script_boots  ap_count  \\\n",
              "2692   0005970190    2025-06-11        0             0         0   \n",
              "15260  ab7f2270de    2025-06-11        0             0         0   \n",
              "7661   ab8b015600    2025-06-11        0             0         0   \n",
              "5019   ab8dc0e35c    2025-06-11        0             0         0   \n",
              "3630   188a7fa684    2025-06-11        0             0         0   \n",
              "\n",
              "       total_samples_24  total_samples_5  good_samples_24  good_samples_5  \\\n",
              "2692                368             1557              351            1311   \n",
              "15260                70             3634               55            2081   \n",
              "7661               2850             7610             1882            5625   \n",
              "5019               3105            10386              231           10286   \n",
              "3630                 27             2001                5            1715   \n",
              "\n",
              "       poor_qoe_samples  ...  total_samples_24_non_iot  band_usage_24_status  \\\n",
              "2692                 11  ...                       368                   2.0   \n",
              "15260               142  ...                        70                   2.0   \n",
              "7661                 56  ...                      2850                   2.0   \n",
              "5019                 43  ...                      3105                   2.0   \n",
              "3630                  0  ...                        27                   2.0   \n",
              "\n",
              "       poor_iot_weighted_samples_24  poor_active_iot_weighted_samples_24  \\\n",
              "2692                              0                                    0   \n",
              "15260                             0                                    0   \n",
              "7661                              0                                    0   \n",
              "5019                              9                                    1   \n",
              "3630                              2                                    0   \n",
              "\n",
              "       channel_changes_count_24  channel_changes_count_5  mem_usage  \\\n",
              "2692                        0.0                      0.0      57.21   \n",
              "15260                       0.0                      0.0      59.47   \n",
              "7661                        0.0                      0.0      52.19   \n",
              "5019                        0.0                      0.0      25.17   \n",
              "3630                        0.0                      0.0      69.78   \n",
              "\n",
              "       high_mem_usage_samples  chunk_number  flag_call  \n",
              "2692                        0             1          0  \n",
              "15260                       0             6          0  \n",
              "7661                        0             3          0  \n",
              "5019                        0             2          0  \n",
              "3630                        0             1          0  \n",
              "\n",
              "[5 rows x 60 columns]"
            ],
            "text/html": [
              "\n",
              "  <div id=\"df-c8beee2e-1964-414f-80fa-883315c1551d\" class=\"colab-df-container\">\n",
              "    <div>\n",
              "<style scoped>\n",
              "    .dataframe tbody tr th:only-of-type {\n",
              "        vertical-align: middle;\n",
              "    }\n",
              "\n",
              "    .dataframe tbody tr th {\n",
              "        vertical-align: top;\n",
              "    }\n",
              "\n",
              "    .dataframe thead th {\n",
              "        text-align: right;\n",
              "    }\n",
              "</style>\n",
              "<table border=\"1\" class=\"dataframe\">\n",
              "  <thead>\n",
              "    <tr style=\"text-align: right;\">\n",
              "      <th></th>\n",
              "      <th>device_id</th>\n",
              "      <th>analysis_date</th>\n",
              "      <th>reboots</th>\n",
              "      <th>script_boots</th>\n",
              "      <th>ap_count</th>\n",
              "      <th>total_samples_24</th>\n",
              "      <th>total_samples_5</th>\n",
              "      <th>good_samples_24</th>\n",
              "      <th>good_samples_5</th>\n",
              "      <th>poor_qoe_samples</th>\n",
              "      <th>...</th>\n",
              "      <th>total_samples_24_non_iot</th>\n",
              "      <th>band_usage_24_status</th>\n",
              "      <th>poor_iot_weighted_samples_24</th>\n",
              "      <th>poor_active_iot_weighted_samples_24</th>\n",
              "      <th>channel_changes_count_24</th>\n",
              "      <th>channel_changes_count_5</th>\n",
              "      <th>mem_usage</th>\n",
              "      <th>high_mem_usage_samples</th>\n",
              "      <th>chunk_number</th>\n",
              "      <th>flag_call</th>\n",
              "    </tr>\n",
              "  </thead>\n",
              "  <tbody>\n",
              "    <tr>\n",
              "      <th>2692</th>\n",
              "      <td>0005970190</td>\n",
              "      <td>2025-06-11</td>\n",
              "      <td>0</td>\n",
              "      <td>0</td>\n",
              "      <td>0</td>\n",
              "      <td>368</td>\n",
              "      <td>1557</td>\n",
              "      <td>351</td>\n",
              "      <td>1311</td>\n",
              "      <td>11</td>\n",
              "      <td>...</td>\n",
              "      <td>368</td>\n",
              "      <td>2.0</td>\n",
              "      <td>0</td>\n",
              "      <td>0</td>\n",
              "      <td>0.0</td>\n",
              "      <td>0.0</td>\n",
              "      <td>57.21</td>\n",
              "      <td>0</td>\n",
              "      <td>1</td>\n",
              "      <td>0</td>\n",
              "    </tr>\n",
              "    <tr>\n",
              "      <th>15260</th>\n",
              "      <td>ab7f2270de</td>\n",
              "      <td>2025-06-11</td>\n",
              "      <td>0</td>\n",
              "      <td>0</td>\n",
              "      <td>0</td>\n",
              "      <td>70</td>\n",
              "      <td>3634</td>\n",
              "      <td>55</td>\n",
              "      <td>2081</td>\n",
              "      <td>142</td>\n",
              "      <td>...</td>\n",
              "      <td>70</td>\n",
              "      <td>2.0</td>\n",
              "      <td>0</td>\n",
              "      <td>0</td>\n",
              "      <td>0.0</td>\n",
              "      <td>0.0</td>\n",
              "      <td>59.47</td>\n",
              "      <td>0</td>\n",
              "      <td>6</td>\n",
              "      <td>0</td>\n",
              "    </tr>\n",
              "    <tr>\n",
              "      <th>7661</th>\n",
              "      <td>ab8b015600</td>\n",
              "      <td>2025-06-11</td>\n",
              "      <td>0</td>\n",
              "      <td>0</td>\n",
              "      <td>0</td>\n",
              "      <td>2850</td>\n",
              "      <td>7610</td>\n",
              "      <td>1882</td>\n",
              "      <td>5625</td>\n",
              "      <td>56</td>\n",
              "      <td>...</td>\n",
              "      <td>2850</td>\n",
              "      <td>2.0</td>\n",
              "      <td>0</td>\n",
              "      <td>0</td>\n",
              "      <td>0.0</td>\n",
              "      <td>0.0</td>\n",
              "      <td>52.19</td>\n",
              "      <td>0</td>\n",
              "      <td>3</td>\n",
              "      <td>0</td>\n",
              "    </tr>\n",
              "    <tr>\n",
              "      <th>5019</th>\n",
              "      <td>ab8dc0e35c</td>\n",
              "      <td>2025-06-11</td>\n",
              "      <td>0</td>\n",
              "      <td>0</td>\n",
              "      <td>0</td>\n",
              "      <td>3105</td>\n",
              "      <td>10386</td>\n",
              "      <td>231</td>\n",
              "      <td>10286</td>\n",
              "      <td>43</td>\n",
              "      <td>...</td>\n",
              "      <td>3105</td>\n",
              "      <td>2.0</td>\n",
              "      <td>9</td>\n",
              "      <td>1</td>\n",
              "      <td>0.0</td>\n",
              "      <td>0.0</td>\n",
              "      <td>25.17</td>\n",
              "      <td>0</td>\n",
              "      <td>2</td>\n",
              "      <td>0</td>\n",
              "    </tr>\n",
              "    <tr>\n",
              "      <th>3630</th>\n",
              "      <td>188a7fa684</td>\n",
              "      <td>2025-06-11</td>\n",
              "      <td>0</td>\n",
              "      <td>0</td>\n",
              "      <td>0</td>\n",
              "      <td>27</td>\n",
              "      <td>2001</td>\n",
              "      <td>5</td>\n",
              "      <td>1715</td>\n",
              "      <td>0</td>\n",
              "      <td>...</td>\n",
              "      <td>27</td>\n",
              "      <td>2.0</td>\n",
              "      <td>2</td>\n",
              "      <td>0</td>\n",
              "      <td>0.0</td>\n",
              "      <td>0.0</td>\n",
              "      <td>69.78</td>\n",
              "      <td>0</td>\n",
              "      <td>1</td>\n",
              "      <td>0</td>\n",
              "    </tr>\n",
              "  </tbody>\n",
              "</table>\n",
              "<p>5 rows × 60 columns</p>\n",
              "</div>\n",
              "    <div class=\"colab-df-buttons\">\n",
              "\n",
              "  <div class=\"colab-df-container\">\n",
              "    <button class=\"colab-df-convert\" onclick=\"convertToInteractive('df-c8beee2e-1964-414f-80fa-883315c1551d')\"\n",
              "            title=\"Convert this dataframe to an interactive table.\"\n",
              "            style=\"display:none;\">\n",
              "\n",
              "  <svg xmlns=\"http://www.w3.org/2000/svg\" height=\"24px\" viewBox=\"0 -960 960 960\">\n",
              "    <path d=\"M120-120v-720h720v720H120Zm60-500h600v-160H180v160Zm220 220h160v-160H400v160Zm0 220h160v-160H400v160ZM180-400h160v-160H180v160Zm440 0h160v-160H620v160ZM180-180h160v-160H180v160Zm440 0h160v-160H620v160Z\"/>\n",
              "  </svg>\n",
              "    </button>\n",
              "\n",
              "  <style>\n",
              "    .colab-df-container {\n",
              "      display:flex;\n",
              "      gap: 12px;\n",
              "    }\n",
              "\n",
              "    .colab-df-convert {\n",
              "      background-color: #E8F0FE;\n",
              "      border: none;\n",
              "      border-radius: 50%;\n",
              "      cursor: pointer;\n",
              "      display: none;\n",
              "      fill: #1967D2;\n",
              "      height: 32px;\n",
              "      padding: 0 0 0 0;\n",
              "      width: 32px;\n",
              "    }\n",
              "\n",
              "    .colab-df-convert:hover {\n",
              "      background-color: #E2EBFA;\n",
              "      box-shadow: 0px 1px 2px rgba(60, 64, 67, 0.3), 0px 1px 3px 1px rgba(60, 64, 67, 0.15);\n",
              "      fill: #174EA6;\n",
              "    }\n",
              "\n",
              "    .colab-df-buttons div {\n",
              "      margin-bottom: 4px;\n",
              "    }\n",
              "\n",
              "    [theme=dark] .colab-df-convert {\n",
              "      background-color: #3B4455;\n",
              "      fill: #D2E3FC;\n",
              "    }\n",
              "\n",
              "    [theme=dark] .colab-df-convert:hover {\n",
              "      background-color: #434B5C;\n",
              "      box-shadow: 0px 1px 3px 1px rgba(0, 0, 0, 0.15);\n",
              "      filter: drop-shadow(0px 1px 2px rgba(0, 0, 0, 0.3));\n",
              "      fill: #FFFFFF;\n",
              "    }\n",
              "  </style>\n",
              "\n",
              "    <script>\n",
              "      const buttonEl =\n",
              "        document.querySelector('#df-c8beee2e-1964-414f-80fa-883315c1551d button.colab-df-convert');\n",
              "      buttonEl.style.display =\n",
              "        google.colab.kernel.accessAllowed ? 'block' : 'none';\n",
              "\n",
              "      async function convertToInteractive(key) {\n",
              "        const element = document.querySelector('#df-c8beee2e-1964-414f-80fa-883315c1551d');\n",
              "        const dataTable =\n",
              "          await google.colab.kernel.invokeFunction('convertToInteractive',\n",
              "                                                    [key], {});\n",
              "        if (!dataTable) return;\n",
              "\n",
              "        const docLinkHtml = 'Like what you see? Visit the ' +\n",
              "          '<a target=\"_blank\" href=https://colab.research.google.com/notebooks/data_table.ipynb>data table notebook</a>'\n",
              "          + ' to learn more about interactive tables.';\n",
              "        element.innerHTML = '';\n",
              "        dataTable['output_type'] = 'display_data';\n",
              "        await google.colab.output.renderOutput(dataTable, element);\n",
              "        const docLink = document.createElement('div');\n",
              "        docLink.innerHTML = docLinkHtml;\n",
              "        element.appendChild(docLink);\n",
              "      }\n",
              "    </script>\n",
              "  </div>\n",
              "\n",
              "\n",
              "    <div id=\"df-2816cb70-1072-4fac-a48b-987b5ff85e4b\">\n",
              "      <button class=\"colab-df-quickchart\" onclick=\"quickchart('df-2816cb70-1072-4fac-a48b-987b5ff85e4b')\"\n",
              "                title=\"Suggest charts\"\n",
              "                style=\"display:none;\">\n",
              "\n",
              "<svg xmlns=\"http://www.w3.org/2000/svg\" height=\"24px\"viewBox=\"0 0 24 24\"\n",
              "     width=\"24px\">\n",
              "    <g>\n",
              "        <path d=\"M19 3H5c-1.1 0-2 .9-2 2v14c0 1.1.9 2 2 2h14c1.1 0 2-.9 2-2V5c0-1.1-.9-2-2-2zM9 17H7v-7h2v7zm4 0h-2V7h2v10zm4 0h-2v-4h2v4z\"/>\n",
              "    </g>\n",
              "</svg>\n",
              "      </button>\n",
              "\n",
              "<style>\n",
              "  .colab-df-quickchart {\n",
              "      --bg-color: #E8F0FE;\n",
              "      --fill-color: #1967D2;\n",
              "      --hover-bg-color: #E2EBFA;\n",
              "      --hover-fill-color: #174EA6;\n",
              "      --disabled-fill-color: #AAA;\n",
              "      --disabled-bg-color: #DDD;\n",
              "  }\n",
              "\n",
              "  [theme=dark] .colab-df-quickchart {\n",
              "      --bg-color: #3B4455;\n",
              "      --fill-color: #D2E3FC;\n",
              "      --hover-bg-color: #434B5C;\n",
              "      --hover-fill-color: #FFFFFF;\n",
              "      --disabled-bg-color: #3B4455;\n",
              "      --disabled-fill-color: #666;\n",
              "  }\n",
              "\n",
              "  .colab-df-quickchart {\n",
              "    background-color: var(--bg-color);\n",
              "    border: none;\n",
              "    border-radius: 50%;\n",
              "    cursor: pointer;\n",
              "    display: none;\n",
              "    fill: var(--fill-color);\n",
              "    height: 32px;\n",
              "    padding: 0;\n",
              "    width: 32px;\n",
              "  }\n",
              "\n",
              "  .colab-df-quickchart:hover {\n",
              "    background-color: var(--hover-bg-color);\n",
              "    box-shadow: 0 1px 2px rgba(60, 64, 67, 0.3), 0 1px 3px 1px rgba(60, 64, 67, 0.15);\n",
              "    fill: var(--button-hover-fill-color);\n",
              "  }\n",
              "\n",
              "  .colab-df-quickchart-complete:disabled,\n",
              "  .colab-df-quickchart-complete:disabled:hover {\n",
              "    background-color: var(--disabled-bg-color);\n",
              "    fill: var(--disabled-fill-color);\n",
              "    box-shadow: none;\n",
              "  }\n",
              "\n",
              "  .colab-df-spinner {\n",
              "    border: 2px solid var(--fill-color);\n",
              "    border-color: transparent;\n",
              "    border-bottom-color: var(--fill-color);\n",
              "    animation:\n",
              "      spin 1s steps(1) infinite;\n",
              "  }\n",
              "\n",
              "  @keyframes spin {\n",
              "    0% {\n",
              "      border-color: transparent;\n",
              "      border-bottom-color: var(--fill-color);\n",
              "      border-left-color: var(--fill-color);\n",
              "    }\n",
              "    20% {\n",
              "      border-color: transparent;\n",
              "      border-left-color: var(--fill-color);\n",
              "      border-top-color: var(--fill-color);\n",
              "    }\n",
              "    30% {\n",
              "      border-color: transparent;\n",
              "      border-left-color: var(--fill-color);\n",
              "      border-top-color: var(--fill-color);\n",
              "      border-right-color: var(--fill-color);\n",
              "    }\n",
              "    40% {\n",
              "      border-color: transparent;\n",
              "      border-right-color: var(--fill-color);\n",
              "      border-top-color: var(--fill-color);\n",
              "    }\n",
              "    60% {\n",
              "      border-color: transparent;\n",
              "      border-right-color: var(--fill-color);\n",
              "    }\n",
              "    80% {\n",
              "      border-color: transparent;\n",
              "      border-right-color: var(--fill-color);\n",
              "      border-bottom-color: var(--fill-color);\n",
              "    }\n",
              "    90% {\n",
              "      border-color: transparent;\n",
              "      border-bottom-color: var(--fill-color);\n",
              "    }\n",
              "  }\n",
              "</style>\n",
              "\n",
              "      <script>\n",
              "        async function quickchart(key) {\n",
              "          const quickchartButtonEl =\n",
              "            document.querySelector('#' + key + ' button');\n",
              "          quickchartButtonEl.disabled = true;  // To prevent multiple clicks.\n",
              "          quickchartButtonEl.classList.add('colab-df-spinner');\n",
              "          try {\n",
              "            const charts = await google.colab.kernel.invokeFunction(\n",
              "                'suggestCharts', [key], {});\n",
              "          } catch (error) {\n",
              "            console.error('Error during call to suggestCharts:', error);\n",
              "          }\n",
              "          quickchartButtonEl.classList.remove('colab-df-spinner');\n",
              "          quickchartButtonEl.classList.add('colab-df-quickchart-complete');\n",
              "        }\n",
              "        (() => {\n",
              "          let quickchartButtonEl =\n",
              "            document.querySelector('#df-2816cb70-1072-4fac-a48b-987b5ff85e4b button');\n",
              "          quickchartButtonEl.style.display =\n",
              "            google.colab.kernel.accessAllowed ? 'block' : 'none';\n",
              "        })();\n",
              "      </script>\n",
              "    </div>\n",
              "\n",
              "    </div>\n",
              "  </div>\n"
            ],
            "application/vnd.google.colaboratory.intrinsic+json": {
              "type": "dataframe",
              "variable_name": "df_merged"
            }
          },
          "metadata": {},
          "execution_count": 50
        }
      ]
    },
    {
      "cell_type": "markdown",
      "source": [
        "## Ensure device_id exist across all dates"
      ],
      "metadata": {
        "id": "6MITHVE7_9UN"
      }
    },
    {
      "cell_type": "code",
      "source": [
        "# Filter device_id that exist across all dates\n",
        "def filter_devices_with_complete_dates(df, device_col='device_id', date_col='analysis_date'):\n",
        "\n",
        "    # Ensure datetime format ---\n",
        "    df = df.copy()\n",
        "    df[date_col] = pd.to_datetime(df[date_col])\n",
        "\n",
        "    # Get all unique dates in the dataset ---\n",
        "    all_dates = np.sort(df[date_col].unique())\n",
        "    n_dates = len(all_dates)\n",
        "    print(f\" Total unique dates in dataset: {n_dates}\")\n",
        "\n",
        "    # Count unique dates per device ---\n",
        "    device_date_counts = df.groupby(device_col)[date_col].nunique()\n",
        "\n",
        "    # Identify complete devices ---\n",
        "    complete_devices = device_date_counts[device_date_counts == n_dates].index\n",
        "    n_complete = len(complete_devices)\n",
        "    print(f\" Found {n_complete} devices with complete date coverage (out of {len(device_date_counts)})\")\n",
        "\n",
        "    # Filter the DataFrame ---\n",
        "    df_complete = df[df[device_col].isin(complete_devices)].copy()\n",
        "\n",
        "    # Verify result ---\n",
        "    remaining_devices = df_complete[device_col].nunique()\n",
        "    assert remaining_devices == n_complete, \" Filtering failed — counts don't match!\"\n",
        "    print(f\" Final DataFrame contains {remaining_devices} devices with full date coverage\")\n",
        "\n",
        "    return df_complete"
      ],
      "metadata": {
        "id": "xBC4pwk5e-jl"
      },
      "execution_count": null,
      "outputs": []
    },
    {
      "cell_type": "code",
      "source": [
        "df_merged = filter_devices_with_complete_dates(df_merged)\n",
        "\n",
        "print(f' df_merged shape {df_merged.shape}')"
      ],
      "metadata": {
        "id": "GTveSHkOgM71",
        "colab": {
          "base_uri": "https://localhost:8080/"
        },
        "outputId": "f2780996-ca63-4c40-9288-c82e04452cdd"
      },
      "execution_count": null,
      "outputs": [
        {
          "output_type": "stream",
          "name": "stdout",
          "text": [
            " Total unique dates in dataset: 30\n",
            " Found 14799 devices with complete date coverage (out of 17904)\n",
            " Final DataFrame contains 14799 devices with full date coverage\n",
            " df_merged shape (443970, 60)\n"
          ]
        }
      ]
    },
    {
      "cell_type": "markdown",
      "source": [
        "## Manual Feature Engineering"
      ],
      "metadata": {
        "id": "1qVR3x9xNyij"
      }
    },
    {
      "cell_type": "code",
      "source": [
        "# Create Manual Ferature Engineering\n",
        "def manual_feature_engineering(df):\n",
        "    # df = df.copy()\n",
        "\n",
        "    # Ratios\n",
        "    df['poor_coverage_ratio_24'] = df['poor_samples_24'] / (df['total_active_samples_24'] + 1e-6)\n",
        "    df['poor_coverage_ratio_5'] = df['poor_samples_5'] / (df['total_active_samples_5'] + 1e-6)\n",
        "    df['poor_coverage_ratio_total'] = (df['poor_samples_5'] + df['poor_samples_24']) / (df['total_active_samples_24'] + df['total_active_samples_5'] + 1e-6)\n",
        "\n",
        "    df['active_poor_ratio_24'] = df['poor_active_samples_24'] / (df['total_active_samples_24'] + 1e-6)\n",
        "    df['active_poor_ratio_5'] = df['poor_active_samples_5'] / (df['total_active_samples_5'] + 1e-6)\n",
        "    df['active_poor_ratio_total'] = (df['poor_active_samples_24'] + df['poor_active_samples_5']) / (df['total_active_samples_24'] + df['total_active_samples_5'] + 1e-6)\n",
        "\n",
        "    df['total_stations_per_hour'] = df['number_of_wifi_clients'] / (df['uptime_in_minutes'] / 60 + 1e-6)\n",
        "\n",
        "    # -Band preference and congestion ratios\n",
        "    df['congestion_ratio_24'] = df['congested_sample_24_count'] / (df['total_active_samples_24'] + df['total_active_samples_5'] + 1e-6)\n",
        "    df['congestion_ratio_5'] = df['congested_sample_5_count'] / (df['total_active_samples_24'] + df['total_active_samples_5'] + 1e-6)\n",
        "\n",
        "    return df\n"
      ],
      "metadata": {
        "id": "ZlcuD0o9Nx90"
      },
      "execution_count": null,
      "outputs": []
    },
    {
      "cell_type": "code",
      "source": [
        "df_merged = manual_feature_engineering(df_merged)"
      ],
      "metadata": {
        "id": "Bx2PDtU5OZSD"
      },
      "execution_count": null,
      "outputs": []
    },
    {
      "cell_type": "code",
      "source": [
        "df_merged.head()"
      ],
      "metadata": {
        "id": "zPRZp3o9OjyL",
        "colab": {
          "base_uri": "https://localhost:8080/",
          "height": 256
        },
        "outputId": "bd711207-4681-4ef7-9eb6-01fc10ee461c"
      },
      "execution_count": null,
      "outputs": [
        {
          "output_type": "execute_result",
          "data": {
            "text/plain": [
              "        device_id analysis_date  reboots  script_boots  ap_count  \\\n",
              "2692   0005970190    2025-06-11        0             0         0   \n",
              "15260  ab7f2270de    2025-06-11        0             0         0   \n",
              "7661   ab8b015600    2025-06-11        0             0         0   \n",
              "5019   ab8dc0e35c    2025-06-11        0             0         0   \n",
              "47     ab8df22c51    2025-06-11        1             0         0   \n",
              "\n",
              "       total_samples_24  total_samples_5  good_samples_24  good_samples_5  \\\n",
              "2692                368             1557              351            1311   \n",
              "15260                70             3634               55            2081   \n",
              "7661               2850             7610             1882            5625   \n",
              "5019               3105            10386              231           10286   \n",
              "47                    0              110                0             109   \n",
              "\n",
              "       poor_qoe_samples  ...  flag_call  poor_coverage_ratio_24  \\\n",
              "2692                 11  ...          0                0.000000   \n",
              "15260               142  ...          0                0.000000   \n",
              "7661                 56  ...          0                0.000000   \n",
              "5019                 43  ...          0                0.087379   \n",
              "47                    0  ...          0                0.000000   \n",
              "\n",
              "       poor_coverage_ratio_5  poor_coverage_ratio_total  active_poor_ratio_24  \\\n",
              "2692                0.077093                   0.050725              0.000000   \n",
              "15260               0.983854                   0.962105              0.000000   \n",
              "7661                0.002020                   0.001364              0.000000   \n",
              "5019                0.004241                   0.010920              0.009709   \n",
              "47                  0.000000                   0.000000              0.000000   \n",
              "\n",
              "       active_poor_ratio_5  active_poor_ratio_total  total_stations_per_hour  \\\n",
              "2692              0.037445                 0.024638                 0.110571   \n",
              "15260             0.541442                 0.529474                 0.011102   \n",
              "7661              0.000000                 0.000000                 0.006389   \n",
              "5019              0.000000                 0.000780                 0.405742   \n",
              "47                0.000000                 0.000000                10.465031   \n",
              "\n",
              "       congestion_ratio_24  congestion_ratio_5  \n",
              "2692              0.001449            0.000000  \n",
              "15260             0.732632            0.002105  \n",
              "7661              0.047749            0.107776  \n",
              "5019              0.007800            0.017161  \n",
              "47                0.000000            0.000000  \n",
              "\n",
              "[5 rows x 69 columns]"
            ],
            "text/html": [
              "\n",
              "  <div id=\"df-a0670987-e81d-4b06-bfb0-0276689d7b29\" class=\"colab-df-container\">\n",
              "    <div>\n",
              "<style scoped>\n",
              "    .dataframe tbody tr th:only-of-type {\n",
              "        vertical-align: middle;\n",
              "    }\n",
              "\n",
              "    .dataframe tbody tr th {\n",
              "        vertical-align: top;\n",
              "    }\n",
              "\n",
              "    .dataframe thead th {\n",
              "        text-align: right;\n",
              "    }\n",
              "</style>\n",
              "<table border=\"1\" class=\"dataframe\">\n",
              "  <thead>\n",
              "    <tr style=\"text-align: right;\">\n",
              "      <th></th>\n",
              "      <th>device_id</th>\n",
              "      <th>analysis_date</th>\n",
              "      <th>reboots</th>\n",
              "      <th>script_boots</th>\n",
              "      <th>ap_count</th>\n",
              "      <th>total_samples_24</th>\n",
              "      <th>total_samples_5</th>\n",
              "      <th>good_samples_24</th>\n",
              "      <th>good_samples_5</th>\n",
              "      <th>poor_qoe_samples</th>\n",
              "      <th>...</th>\n",
              "      <th>flag_call</th>\n",
              "      <th>poor_coverage_ratio_24</th>\n",
              "      <th>poor_coverage_ratio_5</th>\n",
              "      <th>poor_coverage_ratio_total</th>\n",
              "      <th>active_poor_ratio_24</th>\n",
              "      <th>active_poor_ratio_5</th>\n",
              "      <th>active_poor_ratio_total</th>\n",
              "      <th>total_stations_per_hour</th>\n",
              "      <th>congestion_ratio_24</th>\n",
              "      <th>congestion_ratio_5</th>\n",
              "    </tr>\n",
              "  </thead>\n",
              "  <tbody>\n",
              "    <tr>\n",
              "      <th>2692</th>\n",
              "      <td>0005970190</td>\n",
              "      <td>2025-06-11</td>\n",
              "      <td>0</td>\n",
              "      <td>0</td>\n",
              "      <td>0</td>\n",
              "      <td>368</td>\n",
              "      <td>1557</td>\n",
              "      <td>351</td>\n",
              "      <td>1311</td>\n",
              "      <td>11</td>\n",
              "      <td>...</td>\n",
              "      <td>0</td>\n",
              "      <td>0.000000</td>\n",
              "      <td>0.077093</td>\n",
              "      <td>0.050725</td>\n",
              "      <td>0.000000</td>\n",
              "      <td>0.037445</td>\n",
              "      <td>0.024638</td>\n",
              "      <td>0.110571</td>\n",
              "      <td>0.001449</td>\n",
              "      <td>0.000000</td>\n",
              "    </tr>\n",
              "    <tr>\n",
              "      <th>15260</th>\n",
              "      <td>ab7f2270de</td>\n",
              "      <td>2025-06-11</td>\n",
              "      <td>0</td>\n",
              "      <td>0</td>\n",
              "      <td>0</td>\n",
              "      <td>70</td>\n",
              "      <td>3634</td>\n",
              "      <td>55</td>\n",
              "      <td>2081</td>\n",
              "      <td>142</td>\n",
              "      <td>...</td>\n",
              "      <td>0</td>\n",
              "      <td>0.000000</td>\n",
              "      <td>0.983854</td>\n",
              "      <td>0.962105</td>\n",
              "      <td>0.000000</td>\n",
              "      <td>0.541442</td>\n",
              "      <td>0.529474</td>\n",
              "      <td>0.011102</td>\n",
              "      <td>0.732632</td>\n",
              "      <td>0.002105</td>\n",
              "    </tr>\n",
              "    <tr>\n",
              "      <th>7661</th>\n",
              "      <td>ab8b015600</td>\n",
              "      <td>2025-06-11</td>\n",
              "      <td>0</td>\n",
              "      <td>0</td>\n",
              "      <td>0</td>\n",
              "      <td>2850</td>\n",
              "      <td>7610</td>\n",
              "      <td>1882</td>\n",
              "      <td>5625</td>\n",
              "      <td>56</td>\n",
              "      <td>...</td>\n",
              "      <td>0</td>\n",
              "      <td>0.000000</td>\n",
              "      <td>0.002020</td>\n",
              "      <td>0.001364</td>\n",
              "      <td>0.000000</td>\n",
              "      <td>0.000000</td>\n",
              "      <td>0.000000</td>\n",
              "      <td>0.006389</td>\n",
              "      <td>0.047749</td>\n",
              "      <td>0.107776</td>\n",
              "    </tr>\n",
              "    <tr>\n",
              "      <th>5019</th>\n",
              "      <td>ab8dc0e35c</td>\n",
              "      <td>2025-06-11</td>\n",
              "      <td>0</td>\n",
              "      <td>0</td>\n",
              "      <td>0</td>\n",
              "      <td>3105</td>\n",
              "      <td>10386</td>\n",
              "      <td>231</td>\n",
              "      <td>10286</td>\n",
              "      <td>43</td>\n",
              "      <td>...</td>\n",
              "      <td>0</td>\n",
              "      <td>0.087379</td>\n",
              "      <td>0.004241</td>\n",
              "      <td>0.010920</td>\n",
              "      <td>0.009709</td>\n",
              "      <td>0.000000</td>\n",
              "      <td>0.000780</td>\n",
              "      <td>0.405742</td>\n",
              "      <td>0.007800</td>\n",
              "      <td>0.017161</td>\n",
              "    </tr>\n",
              "    <tr>\n",
              "      <th>47</th>\n",
              "      <td>ab8df22c51</td>\n",
              "      <td>2025-06-11</td>\n",
              "      <td>1</td>\n",
              "      <td>0</td>\n",
              "      <td>0</td>\n",
              "      <td>0</td>\n",
              "      <td>110</td>\n",
              "      <td>0</td>\n",
              "      <td>109</td>\n",
              "      <td>0</td>\n",
              "      <td>...</td>\n",
              "      <td>0</td>\n",
              "      <td>0.000000</td>\n",
              "      <td>0.000000</td>\n",
              "      <td>0.000000</td>\n",
              "      <td>0.000000</td>\n",
              "      <td>0.000000</td>\n",
              "      <td>0.000000</td>\n",
              "      <td>10.465031</td>\n",
              "      <td>0.000000</td>\n",
              "      <td>0.000000</td>\n",
              "    </tr>\n",
              "  </tbody>\n",
              "</table>\n",
              "<p>5 rows × 69 columns</p>\n",
              "</div>\n",
              "    <div class=\"colab-df-buttons\">\n",
              "\n",
              "  <div class=\"colab-df-container\">\n",
              "    <button class=\"colab-df-convert\" onclick=\"convertToInteractive('df-a0670987-e81d-4b06-bfb0-0276689d7b29')\"\n",
              "            title=\"Convert this dataframe to an interactive table.\"\n",
              "            style=\"display:none;\">\n",
              "\n",
              "  <svg xmlns=\"http://www.w3.org/2000/svg\" height=\"24px\" viewBox=\"0 -960 960 960\">\n",
              "    <path d=\"M120-120v-720h720v720H120Zm60-500h600v-160H180v160Zm220 220h160v-160H400v160Zm0 220h160v-160H400v160ZM180-400h160v-160H180v160Zm440 0h160v-160H620v160ZM180-180h160v-160H180v160Zm440 0h160v-160H620v160Z\"/>\n",
              "  </svg>\n",
              "    </button>\n",
              "\n",
              "  <style>\n",
              "    .colab-df-container {\n",
              "      display:flex;\n",
              "      gap: 12px;\n",
              "    }\n",
              "\n",
              "    .colab-df-convert {\n",
              "      background-color: #E8F0FE;\n",
              "      border: none;\n",
              "      border-radius: 50%;\n",
              "      cursor: pointer;\n",
              "      display: none;\n",
              "      fill: #1967D2;\n",
              "      height: 32px;\n",
              "      padding: 0 0 0 0;\n",
              "      width: 32px;\n",
              "    }\n",
              "\n",
              "    .colab-df-convert:hover {\n",
              "      background-color: #E2EBFA;\n",
              "      box-shadow: 0px 1px 2px rgba(60, 64, 67, 0.3), 0px 1px 3px 1px rgba(60, 64, 67, 0.15);\n",
              "      fill: #174EA6;\n",
              "    }\n",
              "\n",
              "    .colab-df-buttons div {\n",
              "      margin-bottom: 4px;\n",
              "    }\n",
              "\n",
              "    [theme=dark] .colab-df-convert {\n",
              "      background-color: #3B4455;\n",
              "      fill: #D2E3FC;\n",
              "    }\n",
              "\n",
              "    [theme=dark] .colab-df-convert:hover {\n",
              "      background-color: #434B5C;\n",
              "      box-shadow: 0px 1px 3px 1px rgba(0, 0, 0, 0.15);\n",
              "      filter: drop-shadow(0px 1px 2px rgba(0, 0, 0, 0.3));\n",
              "      fill: #FFFFFF;\n",
              "    }\n",
              "  </style>\n",
              "\n",
              "    <script>\n",
              "      const buttonEl =\n",
              "        document.querySelector('#df-a0670987-e81d-4b06-bfb0-0276689d7b29 button.colab-df-convert');\n",
              "      buttonEl.style.display =\n",
              "        google.colab.kernel.accessAllowed ? 'block' : 'none';\n",
              "\n",
              "      async function convertToInteractive(key) {\n",
              "        const element = document.querySelector('#df-a0670987-e81d-4b06-bfb0-0276689d7b29');\n",
              "        const dataTable =\n",
              "          await google.colab.kernel.invokeFunction('convertToInteractive',\n",
              "                                                    [key], {});\n",
              "        if (!dataTable) return;\n",
              "\n",
              "        const docLinkHtml = 'Like what you see? Visit the ' +\n",
              "          '<a target=\"_blank\" href=https://colab.research.google.com/notebooks/data_table.ipynb>data table notebook</a>'\n",
              "          + ' to learn more about interactive tables.';\n",
              "        element.innerHTML = '';\n",
              "        dataTable['output_type'] = 'display_data';\n",
              "        await google.colab.output.renderOutput(dataTable, element);\n",
              "        const docLink = document.createElement('div');\n",
              "        docLink.innerHTML = docLinkHtml;\n",
              "        element.appendChild(docLink);\n",
              "      }\n",
              "    </script>\n",
              "  </div>\n",
              "\n",
              "\n",
              "    <div id=\"df-20621150-f790-4a88-8e4a-97431a4a83e4\">\n",
              "      <button class=\"colab-df-quickchart\" onclick=\"quickchart('df-20621150-f790-4a88-8e4a-97431a4a83e4')\"\n",
              "                title=\"Suggest charts\"\n",
              "                style=\"display:none;\">\n",
              "\n",
              "<svg xmlns=\"http://www.w3.org/2000/svg\" height=\"24px\"viewBox=\"0 0 24 24\"\n",
              "     width=\"24px\">\n",
              "    <g>\n",
              "        <path d=\"M19 3H5c-1.1 0-2 .9-2 2v14c0 1.1.9 2 2 2h14c1.1 0 2-.9 2-2V5c0-1.1-.9-2-2-2zM9 17H7v-7h2v7zm4 0h-2V7h2v10zm4 0h-2v-4h2v4z\"/>\n",
              "    </g>\n",
              "</svg>\n",
              "      </button>\n",
              "\n",
              "<style>\n",
              "  .colab-df-quickchart {\n",
              "      --bg-color: #E8F0FE;\n",
              "      --fill-color: #1967D2;\n",
              "      --hover-bg-color: #E2EBFA;\n",
              "      --hover-fill-color: #174EA6;\n",
              "      --disabled-fill-color: #AAA;\n",
              "      --disabled-bg-color: #DDD;\n",
              "  }\n",
              "\n",
              "  [theme=dark] .colab-df-quickchart {\n",
              "      --bg-color: #3B4455;\n",
              "      --fill-color: #D2E3FC;\n",
              "      --hover-bg-color: #434B5C;\n",
              "      --hover-fill-color: #FFFFFF;\n",
              "      --disabled-bg-color: #3B4455;\n",
              "      --disabled-fill-color: #666;\n",
              "  }\n",
              "\n",
              "  .colab-df-quickchart {\n",
              "    background-color: var(--bg-color);\n",
              "    border: none;\n",
              "    border-radius: 50%;\n",
              "    cursor: pointer;\n",
              "    display: none;\n",
              "    fill: var(--fill-color);\n",
              "    height: 32px;\n",
              "    padding: 0;\n",
              "    width: 32px;\n",
              "  }\n",
              "\n",
              "  .colab-df-quickchart:hover {\n",
              "    background-color: var(--hover-bg-color);\n",
              "    box-shadow: 0 1px 2px rgba(60, 64, 67, 0.3), 0 1px 3px 1px rgba(60, 64, 67, 0.15);\n",
              "    fill: var(--button-hover-fill-color);\n",
              "  }\n",
              "\n",
              "  .colab-df-quickchart-complete:disabled,\n",
              "  .colab-df-quickchart-complete:disabled:hover {\n",
              "    background-color: var(--disabled-bg-color);\n",
              "    fill: var(--disabled-fill-color);\n",
              "    box-shadow: none;\n",
              "  }\n",
              "\n",
              "  .colab-df-spinner {\n",
              "    border: 2px solid var(--fill-color);\n",
              "    border-color: transparent;\n",
              "    border-bottom-color: var(--fill-color);\n",
              "    animation:\n",
              "      spin 1s steps(1) infinite;\n",
              "  }\n",
              "\n",
              "  @keyframes spin {\n",
              "    0% {\n",
              "      border-color: transparent;\n",
              "      border-bottom-color: var(--fill-color);\n",
              "      border-left-color: var(--fill-color);\n",
              "    }\n",
              "    20% {\n",
              "      border-color: transparent;\n",
              "      border-left-color: var(--fill-color);\n",
              "      border-top-color: var(--fill-color);\n",
              "    }\n",
              "    30% {\n",
              "      border-color: transparent;\n",
              "      border-left-color: var(--fill-color);\n",
              "      border-top-color: var(--fill-color);\n",
              "      border-right-color: var(--fill-color);\n",
              "    }\n",
              "    40% {\n",
              "      border-color: transparent;\n",
              "      border-right-color: var(--fill-color);\n",
              "      border-top-color: var(--fill-color);\n",
              "    }\n",
              "    60% {\n",
              "      border-color: transparent;\n",
              "      border-right-color: var(--fill-color);\n",
              "    }\n",
              "    80% {\n",
              "      border-color: transparent;\n",
              "      border-right-color: var(--fill-color);\n",
              "      border-bottom-color: var(--fill-color);\n",
              "    }\n",
              "    90% {\n",
              "      border-color: transparent;\n",
              "      border-bottom-color: var(--fill-color);\n",
              "    }\n",
              "  }\n",
              "</style>\n",
              "\n",
              "      <script>\n",
              "        async function quickchart(key) {\n",
              "          const quickchartButtonEl =\n",
              "            document.querySelector('#' + key + ' button');\n",
              "          quickchartButtonEl.disabled = true;  // To prevent multiple clicks.\n",
              "          quickchartButtonEl.classList.add('colab-df-spinner');\n",
              "          try {\n",
              "            const charts = await google.colab.kernel.invokeFunction(\n",
              "                'suggestCharts', [key], {});\n",
              "          } catch (error) {\n",
              "            console.error('Error during call to suggestCharts:', error);\n",
              "          }\n",
              "          quickchartButtonEl.classList.remove('colab-df-spinner');\n",
              "          quickchartButtonEl.classList.add('colab-df-quickchart-complete');\n",
              "        }\n",
              "        (() => {\n",
              "          let quickchartButtonEl =\n",
              "            document.querySelector('#df-20621150-f790-4a88-8e4a-97431a4a83e4 button');\n",
              "          quickchartButtonEl.style.display =\n",
              "            google.colab.kernel.accessAllowed ? 'block' : 'none';\n",
              "        })();\n",
              "      </script>\n",
              "    </div>\n",
              "\n",
              "    </div>\n",
              "  </div>\n"
            ],
            "application/vnd.google.colaboratory.intrinsic+json": {
              "type": "dataframe",
              "variable_name": "df_merged"
            }
          },
          "metadata": {},
          "execution_count": 58
        }
      ]
    },
    {
      "cell_type": "markdown",
      "source": [
        "## Lag Features"
      ],
      "metadata": {
        "id": "x5OxJjZDN2_E"
      }
    },
    {
      "cell_type": "code",
      "source": [
        "# Generated 1-day lag features\n",
        "\n",
        "def add_top_lag_features(df, group_col='device_id', target_col='flag_call',\n",
        "                         n_features=20, lag_period=1, verbose=True):\n",
        "\n",
        "    # Identify numeric columns (excluding target)\n",
        "    numeric_cols = df.select_dtypes(include='number').columns.difference([target_col])\n",
        "\n",
        "    # Compute lag features\n",
        "    lag_suffix = f'.lag{lag_period}'\n",
        "    df_lagged = df.groupby(group_col)[numeric_cols].shift(lag_period).add_suffix(lag_suffix)\n",
        "\n",
        "    # Compute correlations\n",
        "    cor_df = df_lagged.copy()\n",
        "    cor_df[target_col] = df[target_col].values\n",
        "    correlations = cor_df.corr()[target_col].drop(target_col)\n",
        "\n",
        "    # Select top N features\n",
        "    top_features = correlations.abs().nlargest(n_features)\n",
        "    top_lag_cols = top_features.index.tolist()\n",
        "\n",
        "    # Merge top features with original data\n",
        "    df_output = pd.concat([df, df_lagged[top_lag_cols]], axis=1)\n",
        "\n",
        "    # Print output\n",
        "    if verbose:\n",
        "        print(f\"\\nTop {n_features} lag-{lag_period} correlated features with {target_col}:\")\n",
        "        for col in top_lag_cols:\n",
        "            print(f\"{col:.<30} correlation = {correlations[col]:.4f}\")\n",
        "        print(f\"\\nAdded {len(top_lag_cols)} lag features to DataFrame\")\n",
        "\n",
        "    return df_output, correlations"
      ],
      "metadata": {
        "id": "BOJNoC6bN3pc"
      },
      "execution_count": null,
      "outputs": []
    },
    {
      "cell_type": "markdown",
      "source": [
        "## Create rolling delta featrues"
      ],
      "metadata": {
        "id": "FCcibO_aN63F"
      }
    },
    {
      "cell_type": "code",
      "source": [
        "# Create day over day deltas od selected features\n",
        "def compute_rolling_deltas(df, date_col='analysis_date', group_col='device_id'):\n",
        "\n",
        "    # Sort by device and time\n",
        "    df[date_col] = pd.to_datetime(df[date_col])\n",
        "    df = df.sort_values([group_col, date_col])\n",
        "\n",
        "    # Define base variables\n",
        "    base_vars = [\n",
        "        \"reboots\", \"script_boots\", \"ap_count\", \"total_samples_24\", \"total_samples_5\",\n",
        "        \"good_samples_24\", \"good_samples_5\", \"poor_qoe_samples_24\",\n",
        "        \"poor_iot_weighted_samples_24\", \"channel_changes_count_24\",\n",
        "        \"mem_usage\", \"high_mem_usage_samples\"\n",
        "    ]\n",
        "\n",
        "    # Add wildcard-matched variables\n",
        "    pattern_vars = df.columns[df.columns.str.contains(\"congested_sample_|poor_coverage_ratio_\")].tolist()\n",
        "\n",
        "    all_vars = base_vars + pattern_vars\n",
        "\n",
        "    # Compute deltas per group\n",
        "    for var in all_vars:\n",
        "        if var in df.columns:\n",
        "            delta_col = f'delta_{var}'\n",
        "            df[delta_col] = df.groupby(group_col)[var].diff()\n",
        "\n",
        "    return df"
      ],
      "metadata": {
        "id": "xmKw57ZMN8ND"
      },
      "execution_count": null,
      "outputs": []
    },
    {
      "cell_type": "code",
      "source": [
        "# Apply the delta computation\n",
        "df_merged = compute_rolling_deltas(df_merged)"
      ],
      "metadata": {
        "id": "s66GvljlOAps"
      },
      "execution_count": null,
      "outputs": []
    },
    {
      "cell_type": "code",
      "source": [
        "# Drop rows with ANY NaN values (strict)\n",
        "df_merged = df_merged.dropna(how='any')"
      ],
      "metadata": {
        "id": "mBgBU7THOCuD"
      },
      "execution_count": null,
      "outputs": []
    },
    {
      "cell_type": "code",
      "source": [
        "df_merged['analysis_date'].nunique()"
      ],
      "metadata": {
        "id": "JDN7zpNgOFOc",
        "colab": {
          "base_uri": "https://localhost:8080/"
        },
        "outputId": "ac13c3e6-1023-446d-b73b-0c4579721376"
      },
      "execution_count": null,
      "outputs": [
        {
          "output_type": "execute_result",
          "data": {
            "text/plain": [
              "29"
            ]
          },
          "metadata": {},
          "execution_count": 63
        }
      ]
    },
    {
      "cell_type": "code",
      "source": [
        "df_merged['analysis_date'].sort_values()\n",
        "print(df_merged['analysis_date'].unique())"
      ],
      "metadata": {
        "id": "Vc1cztUXOG47",
        "colab": {
          "base_uri": "https://localhost:8080/"
        },
        "outputId": "f740f0f3-125a-4262-9dae-40535703dc81"
      },
      "execution_count": null,
      "outputs": [
        {
          "output_type": "stream",
          "name": "stdout",
          "text": [
            "<DatetimeArray>\n",
            "['2025-06-12 00:00:00', '2025-06-13 00:00:00', '2025-06-14 00:00:00',\n",
            " '2025-06-15 00:00:00', '2025-06-16 00:00:00', '2025-06-17 00:00:00',\n",
            " '2025-06-18 00:00:00', '2025-06-19 00:00:00', '2025-06-20 00:00:00',\n",
            " '2025-06-21 00:00:00', '2025-06-22 00:00:00', '2025-06-23 00:00:00',\n",
            " '2025-06-24 00:00:00', '2025-06-25 00:00:00', '2025-06-26 00:00:00',\n",
            " '2025-06-27 00:00:00', '2025-06-28 00:00:00', '2025-06-29 00:00:00',\n",
            " '2025-06-30 00:00:00', '2025-07-01 00:00:00', '2025-07-02 00:00:00',\n",
            " '2025-07-03 00:00:00', '2025-07-04 00:00:00', '2025-07-05 00:00:00',\n",
            " '2025-07-06 00:00:00', '2025-07-07 00:00:00', '2025-07-08 00:00:00',\n",
            " '2025-07-09 00:00:00', '2025-07-10 00:00:00']\n",
            "Length: 29, dtype: datetime64[ns]\n"
          ]
        }
      ]
    },
    {
      "cell_type": "markdown",
      "source": [
        "## Slice the data into train/validate/test"
      ],
      "metadata": {
        "id": "GBNONS_lS7YP"
      }
    },
    {
      "cell_type": "code",
      "source": [
        "# Slice data into train/validate/test set according to days\n",
        "def slice_time_based_sets(df, train_days=22, val_days=3, test_days=3):\n",
        "    df = df.copy()\n",
        "    df['analysis_date'] = pd.to_datetime(df['analysis_date'])\n",
        "    start_date = df['analysis_date'].min()\n",
        "\n",
        "    train_cutoff = start_date + timedelta(days=train_days - 1)\n",
        "    val_cutoff = train_cutoff + timedelta(days=val_days)\n",
        "\n",
        "    df_train = df[df['analysis_date'] <= train_cutoff]\n",
        "    df_val = df[(df['analysis_date'] > train_cutoff) & (df['analysis_date'] <= val_cutoff)]\n",
        "    df_test = df[df['analysis_date'] > val_cutoff]\n",
        "\n",
        "    return df_train, df_val, df_test"
      ],
      "metadata": {
        "id": "OECFfpwpbc2h"
      },
      "execution_count": null,
      "outputs": []
    },
    {
      "cell_type": "code",
      "source": [
        "# Print Time-based slicing data\n",
        "df_train, df_val, df_test = slice_time_based_sets(df_merged)\n",
        "\n",
        "print(f' df_train shape {df_train.shape}')\n",
        "print(f' df_val shape {df_val.shape}')\n",
        "print(f' df_test shape {df_test.shape}')"
      ],
      "metadata": {
        "id": "wCv0SX5xbd6X",
        "colab": {
          "base_uri": "https://localhost:8080/"
        },
        "outputId": "cd1a9c16-896b-4678-a54a-1286df4a6401"
      },
      "execution_count": null,
      "outputs": [
        {
          "output_type": "stream",
          "name": "stdout",
          "text": [
            " df_train shape (325578, 87)\n",
            " df_val shape (44397, 87)\n",
            " df_test shape (59196, 87)\n"
          ]
        }
      ]
    },
    {
      "cell_type": "markdown",
      "source": [
        "## Anomaly Score Feature\n"
      ],
      "metadata": {
        "id": "dqM-4Kt2OS5b"
      }
    },
    {
      "cell_type": "code",
      "source": [
        "# Prepare features - ensure all datasets have same columns\n",
        "common_cols = list(set(df_train.columns) & set(df_val.columns) & set(df_test.columns))\n",
        "cols_to_keep = [col for col in common_cols if col not in ['device_id', 'analysis_date', 'flag_call']]\n",
        "\n",
        "# Align all datasets to use the same features\n",
        "train_features = df_train[cols_to_keep]\n",
        "val_features = df_val[cols_to_keep]\n",
        "test_features = df_test[cols_to_keep]\n",
        "\n",
        "# Fit only on training data (remove extra fits)\n",
        "anomaly_model = IsolationForest(n_estimators=100, contamination=0.005, random_state=42)\n",
        "anomaly_model.fit(train_features)  # Fit ONLY ONCE\n",
        "\n",
        "# Apply to all datasets\n",
        "df_train['anomaly_score'] = -anomaly_model.decision_function(train_features)\n",
        "df_val['anomaly_score'] = -anomaly_model.decision_function(val_features)\n",
        "df_test['anomaly_score'] = -anomaly_model.decision_function(test_features)\n",
        "\n",
        "# Optimize RAM\n",
        "del train_features, val_features, test_features, anomaly_model\n",
        "gc.collect()"
      ],
      "metadata": {
        "id": "5GpIS_CufzKg",
        "colab": {
          "base_uri": "https://localhost:8080/"
        },
        "outputId": "af4be79d-fbd6-43f7-dee1-18b87a221d13"
      },
      "execution_count": null,
      "outputs": [
        {
          "output_type": "execute_result",
          "data": {
            "text/plain": [
              "69"
            ]
          },
          "metadata": {},
          "execution_count": 67
        }
      ]
    },
    {
      "cell_type": "code",
      "source": [
        "df_val.head()"
      ],
      "metadata": {
        "id": "XjFKcch6mJIh",
        "colab": {
          "base_uri": "https://localhost:8080/",
          "height": 256
        },
        "outputId": "99e457dd-4d9f-4476-947b-1f2f908bc0c6"
      },
      "execution_count": null,
      "outputs": [
        {
          "output_type": "execute_result",
          "data": {
            "text/plain": [
              "         device_id analysis_date  reboots  script_boots  ap_count  \\\n",
              "462844  0005970190    2025-07-04        0             0         0   \n",
              "480526  0005970190    2025-07-05        1             0         0   \n",
              "505156  0005970190    2025-07-06        0             0         0   \n",
              "470083  000de142f6    2025-07-04        0             0         0   \n",
              "481155  000de142f6    2025-07-05        0             0         0   \n",
              "\n",
              "        total_samples_24  total_samples_5  good_samples_24  good_samples_5  \\\n",
              "462844                87             1864               87            1512   \n",
              "480526               140             1514              126            1214   \n",
              "505156               602             2302              535            1762   \n",
              "470083              2641             5217              986            1272   \n",
              "481155              1507             3998              845            1021   \n",
              "\n",
              "        poor_qoe_samples  ...  delta_mem_usage  delta_high_mem_usage_samples  \\\n",
              "462844                 5  ...             0.08                           0.0   \n",
              "480526                14  ...            -0.92                           0.0   \n",
              "505156                18  ...             0.46                           0.0   \n",
              "470083                 0  ...             0.15                           0.0   \n",
              "481155                 0  ...             0.17                           0.0   \n",
              "\n",
              "        delta_congested_sample_5_count  delta_congested_sample_active_5_count  \\\n",
              "462844                             0.0                                    0.0   \n",
              "480526                             1.0                                    1.0   \n",
              "505156                            -1.0                                   -1.0   \n",
              "470083                          -173.0                                  -19.0   \n",
              "481155                             0.0                                    0.0   \n",
              "\n",
              "        delta_congested_sample_24_count  \\\n",
              "462844                             13.0   \n",
              "480526                            -11.0   \n",
              "505156                             -4.0   \n",
              "470083                             -1.0   \n",
              "481155                              4.0   \n",
              "\n",
              "        delta_congested_sample_active_24_count  delta_poor_coverage_ratio_24  \\\n",
              "462844                                     8.0                  0.000000e+00   \n",
              "480526                                    -5.0                  1.724138e-02   \n",
              "505156                                    -4.0                 -1.724138e-02   \n",
              "470083                                     0.0                  0.000000e+00   \n",
              "481155                                     0.0                  1.200000e+07   \n",
              "\n",
              "        delta_poor_coverage_ratio_5  delta_poor_coverage_ratio_total  \\\n",
              "462844                    -0.055556                        -0.041249   \n",
              "480526                     0.152610                         0.127036   \n",
              "505156                     0.011362                        -0.023386   \n",
              "470083                    -0.039598                        -0.038859   \n",
              "481155                     0.079658                         0.146697   \n",
              "\n",
              "        anomaly_score  \n",
              "462844      -0.196558  \n",
              "480526      -0.128800  \n",
              "505156      -0.168929  \n",
              "470083      -0.170600  \n",
              "481155      -0.178404  \n",
              "\n",
              "[5 rows x 88 columns]"
            ],
            "text/html": [
              "\n",
              "  <div id=\"df-b0d80e75-3801-4233-a2b7-e4e43a373c41\" class=\"colab-df-container\">\n",
              "    <div>\n",
              "<style scoped>\n",
              "    .dataframe tbody tr th:only-of-type {\n",
              "        vertical-align: middle;\n",
              "    }\n",
              "\n",
              "    .dataframe tbody tr th {\n",
              "        vertical-align: top;\n",
              "    }\n",
              "\n",
              "    .dataframe thead th {\n",
              "        text-align: right;\n",
              "    }\n",
              "</style>\n",
              "<table border=\"1\" class=\"dataframe\">\n",
              "  <thead>\n",
              "    <tr style=\"text-align: right;\">\n",
              "      <th></th>\n",
              "      <th>device_id</th>\n",
              "      <th>analysis_date</th>\n",
              "      <th>reboots</th>\n",
              "      <th>script_boots</th>\n",
              "      <th>ap_count</th>\n",
              "      <th>total_samples_24</th>\n",
              "      <th>total_samples_5</th>\n",
              "      <th>good_samples_24</th>\n",
              "      <th>good_samples_5</th>\n",
              "      <th>poor_qoe_samples</th>\n",
              "      <th>...</th>\n",
              "      <th>delta_mem_usage</th>\n",
              "      <th>delta_high_mem_usage_samples</th>\n",
              "      <th>delta_congested_sample_5_count</th>\n",
              "      <th>delta_congested_sample_active_5_count</th>\n",
              "      <th>delta_congested_sample_24_count</th>\n",
              "      <th>delta_congested_sample_active_24_count</th>\n",
              "      <th>delta_poor_coverage_ratio_24</th>\n",
              "      <th>delta_poor_coverage_ratio_5</th>\n",
              "      <th>delta_poor_coverage_ratio_total</th>\n",
              "      <th>anomaly_score</th>\n",
              "    </tr>\n",
              "  </thead>\n",
              "  <tbody>\n",
              "    <tr>\n",
              "      <th>462844</th>\n",
              "      <td>0005970190</td>\n",
              "      <td>2025-07-04</td>\n",
              "      <td>0</td>\n",
              "      <td>0</td>\n",
              "      <td>0</td>\n",
              "      <td>87</td>\n",
              "      <td>1864</td>\n",
              "      <td>87</td>\n",
              "      <td>1512</td>\n",
              "      <td>5</td>\n",
              "      <td>...</td>\n",
              "      <td>0.08</td>\n",
              "      <td>0.0</td>\n",
              "      <td>0.0</td>\n",
              "      <td>0.0</td>\n",
              "      <td>13.0</td>\n",
              "      <td>8.0</td>\n",
              "      <td>0.000000e+00</td>\n",
              "      <td>-0.055556</td>\n",
              "      <td>-0.041249</td>\n",
              "      <td>-0.196558</td>\n",
              "    </tr>\n",
              "    <tr>\n",
              "      <th>480526</th>\n",
              "      <td>0005970190</td>\n",
              "      <td>2025-07-05</td>\n",
              "      <td>1</td>\n",
              "      <td>0</td>\n",
              "      <td>0</td>\n",
              "      <td>140</td>\n",
              "      <td>1514</td>\n",
              "      <td>126</td>\n",
              "      <td>1214</td>\n",
              "      <td>14</td>\n",
              "      <td>...</td>\n",
              "      <td>-0.92</td>\n",
              "      <td>0.0</td>\n",
              "      <td>1.0</td>\n",
              "      <td>1.0</td>\n",
              "      <td>-11.0</td>\n",
              "      <td>-5.0</td>\n",
              "      <td>1.724138e-02</td>\n",
              "      <td>0.152610</td>\n",
              "      <td>0.127036</td>\n",
              "      <td>-0.128800</td>\n",
              "    </tr>\n",
              "    <tr>\n",
              "      <th>505156</th>\n",
              "      <td>0005970190</td>\n",
              "      <td>2025-07-06</td>\n",
              "      <td>0</td>\n",
              "      <td>0</td>\n",
              "      <td>0</td>\n",
              "      <td>602</td>\n",
              "      <td>2302</td>\n",
              "      <td>535</td>\n",
              "      <td>1762</td>\n",
              "      <td>18</td>\n",
              "      <td>...</td>\n",
              "      <td>0.46</td>\n",
              "      <td>0.0</td>\n",
              "      <td>-1.0</td>\n",
              "      <td>-1.0</td>\n",
              "      <td>-4.0</td>\n",
              "      <td>-4.0</td>\n",
              "      <td>-1.724138e-02</td>\n",
              "      <td>0.011362</td>\n",
              "      <td>-0.023386</td>\n",
              "      <td>-0.168929</td>\n",
              "    </tr>\n",
              "    <tr>\n",
              "      <th>470083</th>\n",
              "      <td>000de142f6</td>\n",
              "      <td>2025-07-04</td>\n",
              "      <td>0</td>\n",
              "      <td>0</td>\n",
              "      <td>0</td>\n",
              "      <td>2641</td>\n",
              "      <td>5217</td>\n",
              "      <td>986</td>\n",
              "      <td>1272</td>\n",
              "      <td>0</td>\n",
              "      <td>...</td>\n",
              "      <td>0.15</td>\n",
              "      <td>0.0</td>\n",
              "      <td>-173.0</td>\n",
              "      <td>-19.0</td>\n",
              "      <td>-1.0</td>\n",
              "      <td>0.0</td>\n",
              "      <td>0.000000e+00</td>\n",
              "      <td>-0.039598</td>\n",
              "      <td>-0.038859</td>\n",
              "      <td>-0.170600</td>\n",
              "    </tr>\n",
              "    <tr>\n",
              "      <th>481155</th>\n",
              "      <td>000de142f6</td>\n",
              "      <td>2025-07-05</td>\n",
              "      <td>0</td>\n",
              "      <td>0</td>\n",
              "      <td>0</td>\n",
              "      <td>1507</td>\n",
              "      <td>3998</td>\n",
              "      <td>845</td>\n",
              "      <td>1021</td>\n",
              "      <td>0</td>\n",
              "      <td>...</td>\n",
              "      <td>0.17</td>\n",
              "      <td>0.0</td>\n",
              "      <td>0.0</td>\n",
              "      <td>0.0</td>\n",
              "      <td>4.0</td>\n",
              "      <td>0.0</td>\n",
              "      <td>1.200000e+07</td>\n",
              "      <td>0.079658</td>\n",
              "      <td>0.146697</td>\n",
              "      <td>-0.178404</td>\n",
              "    </tr>\n",
              "  </tbody>\n",
              "</table>\n",
              "<p>5 rows × 88 columns</p>\n",
              "</div>\n",
              "    <div class=\"colab-df-buttons\">\n",
              "\n",
              "  <div class=\"colab-df-container\">\n",
              "    <button class=\"colab-df-convert\" onclick=\"convertToInteractive('df-b0d80e75-3801-4233-a2b7-e4e43a373c41')\"\n",
              "            title=\"Convert this dataframe to an interactive table.\"\n",
              "            style=\"display:none;\">\n",
              "\n",
              "  <svg xmlns=\"http://www.w3.org/2000/svg\" height=\"24px\" viewBox=\"0 -960 960 960\">\n",
              "    <path d=\"M120-120v-720h720v720H120Zm60-500h600v-160H180v160Zm220 220h160v-160H400v160Zm0 220h160v-160H400v160ZM180-400h160v-160H180v160Zm440 0h160v-160H620v160ZM180-180h160v-160H180v160Zm440 0h160v-160H620v160Z\"/>\n",
              "  </svg>\n",
              "    </button>\n",
              "\n",
              "  <style>\n",
              "    .colab-df-container {\n",
              "      display:flex;\n",
              "      gap: 12px;\n",
              "    }\n",
              "\n",
              "    .colab-df-convert {\n",
              "      background-color: #E8F0FE;\n",
              "      border: none;\n",
              "      border-radius: 50%;\n",
              "      cursor: pointer;\n",
              "      display: none;\n",
              "      fill: #1967D2;\n",
              "      height: 32px;\n",
              "      padding: 0 0 0 0;\n",
              "      width: 32px;\n",
              "    }\n",
              "\n",
              "    .colab-df-convert:hover {\n",
              "      background-color: #E2EBFA;\n",
              "      box-shadow: 0px 1px 2px rgba(60, 64, 67, 0.3), 0px 1px 3px 1px rgba(60, 64, 67, 0.15);\n",
              "      fill: #174EA6;\n",
              "    }\n",
              "\n",
              "    .colab-df-buttons div {\n",
              "      margin-bottom: 4px;\n",
              "    }\n",
              "\n",
              "    [theme=dark] .colab-df-convert {\n",
              "      background-color: #3B4455;\n",
              "      fill: #D2E3FC;\n",
              "    }\n",
              "\n",
              "    [theme=dark] .colab-df-convert:hover {\n",
              "      background-color: #434B5C;\n",
              "      box-shadow: 0px 1px 3px 1px rgba(0, 0, 0, 0.15);\n",
              "      filter: drop-shadow(0px 1px 2px rgba(0, 0, 0, 0.3));\n",
              "      fill: #FFFFFF;\n",
              "    }\n",
              "  </style>\n",
              "\n",
              "    <script>\n",
              "      const buttonEl =\n",
              "        document.querySelector('#df-b0d80e75-3801-4233-a2b7-e4e43a373c41 button.colab-df-convert');\n",
              "      buttonEl.style.display =\n",
              "        google.colab.kernel.accessAllowed ? 'block' : 'none';\n",
              "\n",
              "      async function convertToInteractive(key) {\n",
              "        const element = document.querySelector('#df-b0d80e75-3801-4233-a2b7-e4e43a373c41');\n",
              "        const dataTable =\n",
              "          await google.colab.kernel.invokeFunction('convertToInteractive',\n",
              "                                                    [key], {});\n",
              "        if (!dataTable) return;\n",
              "\n",
              "        const docLinkHtml = 'Like what you see? Visit the ' +\n",
              "          '<a target=\"_blank\" href=https://colab.research.google.com/notebooks/data_table.ipynb>data table notebook</a>'\n",
              "          + ' to learn more about interactive tables.';\n",
              "        element.innerHTML = '';\n",
              "        dataTable['output_type'] = 'display_data';\n",
              "        await google.colab.output.renderOutput(dataTable, element);\n",
              "        const docLink = document.createElement('div');\n",
              "        docLink.innerHTML = docLinkHtml;\n",
              "        element.appendChild(docLink);\n",
              "      }\n",
              "    </script>\n",
              "  </div>\n",
              "\n",
              "\n",
              "    <div id=\"df-3075ffb9-dd70-412e-87e1-93e04e8aa3d3\">\n",
              "      <button class=\"colab-df-quickchart\" onclick=\"quickchart('df-3075ffb9-dd70-412e-87e1-93e04e8aa3d3')\"\n",
              "                title=\"Suggest charts\"\n",
              "                style=\"display:none;\">\n",
              "\n",
              "<svg xmlns=\"http://www.w3.org/2000/svg\" height=\"24px\"viewBox=\"0 0 24 24\"\n",
              "     width=\"24px\">\n",
              "    <g>\n",
              "        <path d=\"M19 3H5c-1.1 0-2 .9-2 2v14c0 1.1.9 2 2 2h14c1.1 0 2-.9 2-2V5c0-1.1-.9-2-2-2zM9 17H7v-7h2v7zm4 0h-2V7h2v10zm4 0h-2v-4h2v4z\"/>\n",
              "    </g>\n",
              "</svg>\n",
              "      </button>\n",
              "\n",
              "<style>\n",
              "  .colab-df-quickchart {\n",
              "      --bg-color: #E8F0FE;\n",
              "      --fill-color: #1967D2;\n",
              "      --hover-bg-color: #E2EBFA;\n",
              "      --hover-fill-color: #174EA6;\n",
              "      --disabled-fill-color: #AAA;\n",
              "      --disabled-bg-color: #DDD;\n",
              "  }\n",
              "\n",
              "  [theme=dark] .colab-df-quickchart {\n",
              "      --bg-color: #3B4455;\n",
              "      --fill-color: #D2E3FC;\n",
              "      --hover-bg-color: #434B5C;\n",
              "      --hover-fill-color: #FFFFFF;\n",
              "      --disabled-bg-color: #3B4455;\n",
              "      --disabled-fill-color: #666;\n",
              "  }\n",
              "\n",
              "  .colab-df-quickchart {\n",
              "    background-color: var(--bg-color);\n",
              "    border: none;\n",
              "    border-radius: 50%;\n",
              "    cursor: pointer;\n",
              "    display: none;\n",
              "    fill: var(--fill-color);\n",
              "    height: 32px;\n",
              "    padding: 0;\n",
              "    width: 32px;\n",
              "  }\n",
              "\n",
              "  .colab-df-quickchart:hover {\n",
              "    background-color: var(--hover-bg-color);\n",
              "    box-shadow: 0 1px 2px rgba(60, 64, 67, 0.3), 0 1px 3px 1px rgba(60, 64, 67, 0.15);\n",
              "    fill: var(--button-hover-fill-color);\n",
              "  }\n",
              "\n",
              "  .colab-df-quickchart-complete:disabled,\n",
              "  .colab-df-quickchart-complete:disabled:hover {\n",
              "    background-color: var(--disabled-bg-color);\n",
              "    fill: var(--disabled-fill-color);\n",
              "    box-shadow: none;\n",
              "  }\n",
              "\n",
              "  .colab-df-spinner {\n",
              "    border: 2px solid var(--fill-color);\n",
              "    border-color: transparent;\n",
              "    border-bottom-color: var(--fill-color);\n",
              "    animation:\n",
              "      spin 1s steps(1) infinite;\n",
              "  }\n",
              "\n",
              "  @keyframes spin {\n",
              "    0% {\n",
              "      border-color: transparent;\n",
              "      border-bottom-color: var(--fill-color);\n",
              "      border-left-color: var(--fill-color);\n",
              "    }\n",
              "    20% {\n",
              "      border-color: transparent;\n",
              "      border-left-color: var(--fill-color);\n",
              "      border-top-color: var(--fill-color);\n",
              "    }\n",
              "    30% {\n",
              "      border-color: transparent;\n",
              "      border-left-color: var(--fill-color);\n",
              "      border-top-color: var(--fill-color);\n",
              "      border-right-color: var(--fill-color);\n",
              "    }\n",
              "    40% {\n",
              "      border-color: transparent;\n",
              "      border-right-color: var(--fill-color);\n",
              "      border-top-color: var(--fill-color);\n",
              "    }\n",
              "    60% {\n",
              "      border-color: transparent;\n",
              "      border-right-color: var(--fill-color);\n",
              "    }\n",
              "    80% {\n",
              "      border-color: transparent;\n",
              "      border-right-color: var(--fill-color);\n",
              "      border-bottom-color: var(--fill-color);\n",
              "    }\n",
              "    90% {\n",
              "      border-color: transparent;\n",
              "      border-bottom-color: var(--fill-color);\n",
              "    }\n",
              "  }\n",
              "</style>\n",
              "\n",
              "      <script>\n",
              "        async function quickchart(key) {\n",
              "          const quickchartButtonEl =\n",
              "            document.querySelector('#' + key + ' button');\n",
              "          quickchartButtonEl.disabled = true;  // To prevent multiple clicks.\n",
              "          quickchartButtonEl.classList.add('colab-df-spinner');\n",
              "          try {\n",
              "            const charts = await google.colab.kernel.invokeFunction(\n",
              "                'suggestCharts', [key], {});\n",
              "          } catch (error) {\n",
              "            console.error('Error during call to suggestCharts:', error);\n",
              "          }\n",
              "          quickchartButtonEl.classList.remove('colab-df-spinner');\n",
              "          quickchartButtonEl.classList.add('colab-df-quickchart-complete');\n",
              "        }\n",
              "        (() => {\n",
              "          let quickchartButtonEl =\n",
              "            document.querySelector('#df-3075ffb9-dd70-412e-87e1-93e04e8aa3d3 button');\n",
              "          quickchartButtonEl.style.display =\n",
              "            google.colab.kernel.accessAllowed ? 'block' : 'none';\n",
              "        })();\n",
              "      </script>\n",
              "    </div>\n",
              "\n",
              "    </div>\n",
              "  </div>\n"
            ],
            "application/vnd.google.colaboratory.intrinsic+json": {
              "type": "dataframe",
              "variable_name": "df_val"
            }
          },
          "metadata": {},
          "execution_count": 68
        }
      ]
    },
    {
      "cell_type": "code",
      "source": [
        "# count unique customer of df_train\n",
        "print(f\"Number of customers in df_train: {df_val['device_id'].nunique()}\")"
      ],
      "metadata": {
        "id": "Ph4LUv8plTTs",
        "colab": {
          "base_uri": "https://localhost:8080/"
        },
        "outputId": "8833deed-fe90-48e8-d0ae-9f82ab0f00d6"
      },
      "execution_count": null,
      "outputs": [
        {
          "output_type": "stream",
          "name": "stdout",
          "text": [
            "Number of customers in df_train: 14799\n"
          ]
        }
      ]
    },
    {
      "cell_type": "markdown",
      "source": [
        "## Balance the df_train"
      ],
      "metadata": {
        "id": "YbZlAbBhcTiF"
      }
    },
    {
      "cell_type": "code",
      "source": [
        "# Identify total number of unique dates\n",
        "expected_days = df_train[\"analysis_date\"].nunique()\n",
        "print(f\" Total unique dates: {expected_days}\")\n",
        "\n",
        "# Select all device_ids with at least one call (positive class)\n",
        "positive_ids = df_train[df_train[\"flag_call\"] == 1][\"device_id\"].unique()\n",
        "df_positive = df_train[df_train[\"device_id\"].isin(positive_ids)].copy()\n",
        "\n",
        "# Filter positive devices with full date coverage\n",
        "pos_date_counts = df_positive.groupby(\"device_id\")[\"analysis_date\"].nunique()\n",
        "valid_positive_ids = pos_date_counts[pos_date_counts == expected_days].index\n",
        "df_positive = df_positive[df_positive[\"device_id\"].isin(valid_positive_ids)].copy()\n",
        "print(f\" Positive devices with full coverage: {df_positive['device_id'].nunique()}\")\n",
        "\n",
        "# Select negative device_ids (never called)\n",
        "all_ids = df_train[\"device_id\"].unique()\n",
        "negative_ids = np.setdiff1d(all_ids, positive_ids)\n",
        "df_negative = df_train[df_train[\"device_id\"].isin(negative_ids)].copy()\n",
        "\n",
        "# Filter negative devices with full date coverage\n",
        "neg_date_counts = df_negative.groupby(\"device_id\")[\"analysis_date\"].nunique()\n",
        "valid_negative_ids = neg_date_counts[neg_date_counts == expected_days].index\n",
        "df_negative = df_negative[df_negative[\"device_id\"].isin(valid_negative_ids)].copy()\n",
        "print(f\" Negative devices with full coverage: {df_negative['device_id'].nunique()}\")\n",
        "\n",
        "# Sample negative devices 5 times of positive devices\n",
        "n_pos = df_positive[\"device_id\"].nunique()\n",
        "sampled_neg_ids = np.random.choice(valid_negative_ids, size=n_pos * 5, replace=False)\n",
        "df_negative_sampled = df_negative[df_negative[\"device_id\"].isin(sampled_neg_ids)].copy()\n",
        "print(f\" Sampled negative devices: {df_negative_sampled['device_id'].nunique()}\")\n",
        "\n",
        "# Merge positive and sampled negative data\n",
        "df_train_balanced = pd.concat([df_positive, df_negative_sampled], ignore_index=True)\n",
        "df_train_balanced = df_train_balanced.sort_values([\"device_id\", \"analysis_date\"])\n",
        "print(f\" Final balanced dataset shape: {df_train_balanced.shape}\")\n",
        "\n",
        "del expected_days\n",
        "del positive_ids\n",
        "del df_positive\n",
        "del pos_date_counts\n",
        "del valid_positive_ids\n",
        "del all_ids\n",
        "del negative_ids\n",
        "del df_negative\n",
        "del neg_date_counts\n",
        "del valid_negative_ids\n",
        "del n_pos\n",
        "del sampled_neg_ids\n",
        "del df_negative_sampled\n",
        "\n",
        "gc.collect()"
      ],
      "metadata": {
        "id": "vSZyH6C5lToJ",
        "colab": {
          "base_uri": "https://localhost:8080/"
        },
        "outputId": "f862177c-2faa-4c8d-9e85-9f28873ef99a"
      },
      "execution_count": null,
      "outputs": [
        {
          "output_type": "stream",
          "name": "stdout",
          "text": [
            " Total unique dates: 22\n",
            " Positive devices with full coverage: 163\n",
            " Negative devices with full coverage: 14636\n",
            " Sampled negative devices: 815\n",
            " Final balanced dataset shape: (21516, 88)\n"
          ]
        },
        {
          "output_type": "execute_result",
          "data": {
            "text/plain": [
              "0"
            ]
          },
          "metadata": {},
          "execution_count": 72
        }
      ]
    },
    {
      "cell_type": "code",
      "source": [
        "print(\"Train Sample:\", df_train_balanced['flag_call'].value_counts())"
      ],
      "metadata": {
        "id": "k9j45ebbODia",
        "colab": {
          "base_uri": "https://localhost:8080/"
        },
        "outputId": "ae4418d0-1eac-4e4c-a7b6-c36732806931"
      },
      "execution_count": null,
      "outputs": [
        {
          "output_type": "stream",
          "name": "stdout",
          "text": [
            "Train Sample: flag_call\n",
            "0    21332\n",
            "1      184\n",
            "Name: count, dtype: int64\n"
          ]
        }
      ]
    },
    {
      "cell_type": "code",
      "source": [
        "df_train_balanced.shape"
      ],
      "metadata": {
        "id": "1PcDZNrynsmJ",
        "colab": {
          "base_uri": "https://localhost:8080/"
        },
        "outputId": "9a1cb4de-95a5-45da-8ed7-6c99336eab30"
      },
      "execution_count": null,
      "outputs": [
        {
          "output_type": "execute_result",
          "data": {
            "text/plain": [
              "(21516, 88)"
            ]
          },
          "metadata": {},
          "execution_count": 74
        }
      ]
    },
    {
      "cell_type": "code",
      "source": [
        "# Double check\n",
        "# Count total number of unique dates in df_balanced\n",
        "expected_days = df_train_balanced[\"analysis_date\"].nunique()\n",
        "print(f\" Total unique dates in df_balanced: {expected_days}\")\n",
        "\n",
        "# Count how many unique dates each device_id appears on\n",
        "device_date_counts = df_train_balanced.groupby(\"device_id\")[\"analysis_date\"].nunique()\n",
        "\n",
        "# Identify devices that are missing any dates\n",
        "missing_devices = device_date_counts[device_date_counts < expected_days].index\n",
        "print(f\" Devices missing some dates: {len(missing_devices)}\")\n",
        "\n",
        "del expected_days\n",
        "del device_date_counts\n",
        "del missing_devices\n",
        "\n",
        "gc.collect()"
      ],
      "metadata": {
        "id": "7tOLYjUYnpCB",
        "colab": {
          "base_uri": "https://localhost:8080/"
        },
        "outputId": "6cb1622e-b04a-40ca-97ab-0e80eaa1bf1c"
      },
      "execution_count": null,
      "outputs": [
        {
          "output_type": "stream",
          "name": "stdout",
          "text": [
            " Total unique dates in df_balanced: 22\n",
            " Devices missing some dates: 0\n"
          ]
        },
        {
          "output_type": "execute_result",
          "data": {
            "text/plain": [
              "0"
            ]
          },
          "metadata": {},
          "execution_count": 76
        }
      ]
    },
    {
      "cell_type": "markdown",
      "source": [
        "## Select Sample for validation and test set"
      ],
      "metadata": {
        "id": "RxLvbGLEBQxa"
      }
    },
    {
      "cell_type": "code",
      "source": [
        "# Select sample data for validation and test set\n",
        "def stratified_device_sample_per_day(df, device_col='device_id', label_col='flag_call',\n",
        "                                     date_col='analysis_date', max_devices=400_000, random_state=42):\n",
        "    df = df.copy()\n",
        "    df[date_col] = pd.to_datetime(df[date_col])\n",
        "\n",
        "    sampled_frames = []\n",
        "\n",
        "    for day, df_day in df.groupby(date_col):\n",
        "        device_labels = (\n",
        "            df_day.groupby(device_col)[label_col]\n",
        "            .max()\n",
        "            .reset_index()\n",
        "        )\n",
        "\n",
        "        n_devices = min(max_devices, len(device_labels))\n",
        "\n",
        "        # Use train_size instead of test_size to keep exactly n_devices\n",
        "        splitter = StratifiedShuffleSplit(n_splits=1, train_size=n_devices, random_state=random_state)\n",
        "\n",
        "        try:\n",
        "            for train_idx, _ in splitter.split(device_labels, device_labels[label_col]):\n",
        "                selected_devices = device_labels.loc[train_idx, device_col]\n",
        "\n",
        "            df_selected = df_day[df_day[device_col].isin(selected_devices)].copy()\n",
        "            sampled_frames.append(df_selected)\n",
        "\n",
        "        except ValueError:\n",
        "            # Fallback to random sample if stratified split fails\n",
        "            fallback_devices = device_labels[device_col].sample(n=n_devices, random_state=random_state)\n",
        "            df_selected = df_day[df_day[device_col].isin(fallback_devices)].copy()\n",
        "            sampled_frames.append(df_selected)\n",
        "\n",
        "    df_sampled = pd.concat(sampled_frames, ignore_index=True)\n",
        "    return df_sampled\n"
      ],
      "metadata": {
        "id": "1arF-VTT3SQi"
      },
      "execution_count": null,
      "outputs": []
    },
    {
      "cell_type": "code",
      "source": [
        "df_val_sampled = stratified_device_sample_per_day(df_val, max_devices=50_000)\n",
        "\n",
        "print(df_val_sampled.groupby('analysis_date')['device_id'].nunique())\n",
        "print(\"Original class ratio:\", df_val['flag_call'].mean())\n",
        "print(\"Sampled class ratio:\", df_val_sampled['flag_call'].mean())\n",
        "print(\"df_val_sampled:\", df_val_sampled.shape)"
      ],
      "metadata": {
        "id": "c0irZoIXTMpU",
        "colab": {
          "base_uri": "https://localhost:8080/"
        },
        "outputId": "a3196100-1ba4-4263-f140-0175b0db94bf"
      },
      "execution_count": null,
      "outputs": [
        {
          "output_type": "stream",
          "name": "stdout",
          "text": [
            "analysis_date\n",
            "2025-07-04    14799\n",
            "2025-07-05    14799\n",
            "2025-07-06    14799\n",
            "Name: device_id, dtype: int64\n",
            "Original class ratio: 0.0004730049327657274\n",
            "Sampled class ratio: 0.0004730049327657274\n",
            "df_val_sampled: (44397, 88)\n"
          ]
        }
      ]
    },
    {
      "cell_type": "code",
      "source": [
        "print(\"Validation Sample:\", df_val_sampled['flag_call'].value_counts())"
      ],
      "metadata": {
        "id": "vWYCzjyJPaIt",
        "colab": {
          "base_uri": "https://localhost:8080/"
        },
        "outputId": "78bf3153-a671-41c5-bc24-306be631bcdf"
      },
      "execution_count": null,
      "outputs": [
        {
          "output_type": "stream",
          "name": "stdout",
          "text": [
            "Validation Sample: flag_call\n",
            "0    44376\n",
            "1       21\n",
            "Name: count, dtype: int64\n"
          ]
        }
      ]
    },
    {
      "cell_type": "code",
      "source": [
        "df_test_sampled = stratified_device_sample_per_day(df_test, max_devices=50_000)\n",
        "\n",
        "print(df_test_sampled.groupby('analysis_date')['device_id'].nunique())\n",
        "print(\"Original class ratio:\", df_test['flag_call'].mean())\n",
        "print(\"Sampled class ratio:\", df_test_sampled['flag_call'].mean())\n",
        "print(\"df_test_sampled:\", df_test_sampled.shape)"
      ],
      "metadata": {
        "id": "0IrC_JiaTiAV",
        "colab": {
          "base_uri": "https://localhost:8080/"
        },
        "outputId": "be0ff141-f95f-4616-a9cd-7cab9cdf7859"
      },
      "execution_count": null,
      "outputs": [
        {
          "output_type": "stream",
          "name": "stdout",
          "text": [
            "analysis_date\n",
            "2025-07-07    14799\n",
            "2025-07-08    14799\n",
            "2025-07-09    14799\n",
            "2025-07-10    14799\n",
            "Name: device_id, dtype: int64\n",
            "Original class ratio: 0.000878437732279208\n",
            "Sampled class ratio: 0.000878437732279208\n",
            "df_test_sampled: (59196, 88)\n"
          ]
        }
      ]
    },
    {
      "cell_type": "code",
      "source": [
        "print(\"Test Sample:\", df_test_sampled['flag_call'].value_counts())"
      ],
      "metadata": {
        "id": "NiOXzvfvU3bn",
        "colab": {
          "base_uri": "https://localhost:8080/"
        },
        "outputId": "948ff267-0fce-4326-d6f0-abad98768c5c"
      },
      "execution_count": null,
      "outputs": [
        {
          "output_type": "stream",
          "name": "stdout",
          "text": [
            "Test Sample: flag_call\n",
            "0    59144\n",
            "1       52\n",
            "Name: count, dtype: int64\n"
          ]
        }
      ]
    },
    {
      "cell_type": "code",
      "source": [
        "del df_train\n",
        "del df_val\n",
        "del df_test\n",
        "\n",
        "gc.collect()"
      ],
      "metadata": {
        "id": "3095IYDUDVaK",
        "colab": {
          "base_uri": "https://localhost:8080/"
        },
        "outputId": "7a7faf21-e6c7-4b75-eaca-525badc030c5"
      },
      "execution_count": null,
      "outputs": [
        {
          "output_type": "execute_result",
          "data": {
            "text/plain": [
              "0"
            ]
          },
          "metadata": {},
          "execution_count": 86
        }
      ]
    },
    {
      "cell_type": "code",
      "source": [
        "df_train_balanced.shape"
      ],
      "metadata": {
        "id": "S4P8NYicnB-G",
        "colab": {
          "base_uri": "https://localhost:8080/"
        },
        "outputId": "f94c712f-104f-4721-a290-c177814f04c6"
      },
      "execution_count": null,
      "outputs": [
        {
          "output_type": "execute_result",
          "data": {
            "text/plain": [
              "(21516, 88)"
            ]
          },
          "metadata": {},
          "execution_count": 87
        }
      ]
    },
    {
      "cell_type": "code",
      "source": [
        "df_val_sampled.shape"
      ],
      "metadata": {
        "id": "_kpQGLGSnFlp",
        "colab": {
          "base_uri": "https://localhost:8080/"
        },
        "outputId": "12eb82d6-1ac7-4068-e1f2-b7d357a5ecc0"
      },
      "execution_count": null,
      "outputs": [
        {
          "output_type": "execute_result",
          "data": {
            "text/plain": [
              "(44397, 88)"
            ]
          },
          "metadata": {},
          "execution_count": 88
        }
      ]
    },
    {
      "cell_type": "code",
      "source": [
        "df_val_sampled"
      ],
      "metadata": {
        "id": "ToqeTwt4nevo",
        "colab": {
          "base_uri": "https://localhost:8080/",
          "height": 444
        },
        "outputId": "fbb55e29-d1f9-4c2a-c581-021bfe8a7f5d"
      },
      "execution_count": null,
      "outputs": [
        {
          "output_type": "execute_result",
          "data": {
            "text/plain": [
              "        device_id analysis_date  reboots  script_boots  ap_count  \\\n",
              "0      0005970190    2025-07-04        0             0         0   \n",
              "1      000de142f6    2025-07-04        0             0         0   \n",
              "2      0011a402aa    2025-07-04        0             0         0   \n",
              "3      0012f64bcb    2025-07-04        0             0         2   \n",
              "4      001ae18ce6    2025-07-04        0             0         0   \n",
              "...           ...           ...      ...           ...       ...   \n",
              "44392  fff3290e13    2025-07-06        0             0         0   \n",
              "44393  fff4dbf2b4    2025-07-06        0             0         0   \n",
              "44394  fffa87ec84    2025-07-06        0             0         0   \n",
              "44395  fffad9936f    2025-07-06        0             0         0   \n",
              "44396  fffd16f815    2025-07-06        1             0         0   \n",
              "\n",
              "       total_samples_24  total_samples_5  good_samples_24  good_samples_5  \\\n",
              "0                    87             1864               87            1512   \n",
              "1                  2641             5217              986            1272   \n",
              "2                  2022             5793             1871            5399   \n",
              "3                  1780             1898             1777            1833   \n",
              "4                  2404             4614              723            1201   \n",
              "...                 ...              ...              ...             ...   \n",
              "44392               593             3377              105             894   \n",
              "44393                79             1759               56            1613   \n",
              "44394              1663             1272             1511            1227   \n",
              "44395              1134             8383              441            4178   \n",
              "44396              1093             1905              464             688   \n",
              "\n",
              "       poor_qoe_samples  ...  delta_mem_usage  delta_high_mem_usage_samples  \\\n",
              "0                     5  ...             0.08                           0.0   \n",
              "1                     0  ...             0.15                           0.0   \n",
              "2                    71  ...             0.10                           0.0   \n",
              "3                   167  ...             0.10                           0.0   \n",
              "4                     0  ...            -0.07                           0.0   \n",
              "...                 ...  ...              ...                           ...   \n",
              "44392               647  ...             0.09                           0.0   \n",
              "44393                 8  ...            -0.03                           0.0   \n",
              "44394                 6  ...             0.15                           1.0   \n",
              "44395                44  ...            -1.48                           0.0   \n",
              "44396               206  ...            -1.02                           0.0   \n",
              "\n",
              "       delta_congested_sample_5_count  delta_congested_sample_active_5_count  \\\n",
              "0                                 0.0                                    0.0   \n",
              "1                              -173.0                                  -19.0   \n",
              "2                                 0.0                                    0.0   \n",
              "3                                -5.0                                    0.0   \n",
              "4                                 0.0                                    0.0   \n",
              "...                               ...                                    ...   \n",
              "44392                             5.0                                    5.0   \n",
              "44393                             0.0                                    0.0   \n",
              "44394                             0.0                                   -1.0   \n",
              "44395                            -1.0                                   -1.0   \n",
              "44396                             0.0                                    0.0   \n",
              "\n",
              "       delta_congested_sample_24_count  \\\n",
              "0                                 13.0   \n",
              "1                                 -1.0   \n",
              "2                                -92.0   \n",
              "3                                168.0   \n",
              "4                                  2.0   \n",
              "...                                ...   \n",
              "44392                             13.0   \n",
              "44393                             -4.0   \n",
              "44394                             -2.0   \n",
              "44395                             -2.0   \n",
              "44396                            -91.0   \n",
              "\n",
              "       delta_congested_sample_active_24_count  delta_poor_coverage_ratio_24  \\\n",
              "0                                         8.0                      0.000000   \n",
              "1                                         0.0                      0.000000   \n",
              "2                                       -46.0                      0.287703   \n",
              "3                                       167.0                      0.000000   \n",
              "4                                         0.0                      0.000000   \n",
              "...                                       ...                           ...   \n",
              "44392                                     2.0                      0.500001   \n",
              "44393                                    -1.0                      0.214042   \n",
              "44394                                    -1.0                      1.140217   \n",
              "44395                                   -12.0                      0.633393   \n",
              "44396                                  -133.0                      0.065668   \n",
              "\n",
              "       delta_poor_coverage_ratio_5  delta_poor_coverage_ratio_total  \\\n",
              "0                        -0.055556                        -0.041249   \n",
              "1                        -0.039598                        -0.038859   \n",
              "2                         0.020832                         0.061863   \n",
              "3                        -0.282913                        -0.875000   \n",
              "4                         0.000000                         0.000000   \n",
              "...                            ...                              ...   \n",
              "44392                    -0.448828                        -0.430934   \n",
              "44393                     0.000000                        -0.027953   \n",
              "44394                    -0.021683                         0.083054   \n",
              "44395                     0.042320                         0.045878   \n",
              "44396                    -0.030713                         0.013749   \n",
              "\n",
              "       anomaly_score  \n",
              "0          -0.196558  \n",
              "1          -0.170600  \n",
              "2          -0.137321  \n",
              "3          -0.110378  \n",
              "4          -0.199412  \n",
              "...              ...  \n",
              "44392      -0.036993  \n",
              "44393      -0.180699  \n",
              "44394      -0.135555  \n",
              "44395      -0.115890  \n",
              "44396      -0.073729  \n",
              "\n",
              "[44397 rows x 88 columns]"
            ],
            "text/html": [
              "\n",
              "  <div id=\"df-914a9a6a-56dc-4683-b306-c2a1cace06b3\" class=\"colab-df-container\">\n",
              "    <div>\n",
              "<style scoped>\n",
              "    .dataframe tbody tr th:only-of-type {\n",
              "        vertical-align: middle;\n",
              "    }\n",
              "\n",
              "    .dataframe tbody tr th {\n",
              "        vertical-align: top;\n",
              "    }\n",
              "\n",
              "    .dataframe thead th {\n",
              "        text-align: right;\n",
              "    }\n",
              "</style>\n",
              "<table border=\"1\" class=\"dataframe\">\n",
              "  <thead>\n",
              "    <tr style=\"text-align: right;\">\n",
              "      <th></th>\n",
              "      <th>device_id</th>\n",
              "      <th>analysis_date</th>\n",
              "      <th>reboots</th>\n",
              "      <th>script_boots</th>\n",
              "      <th>ap_count</th>\n",
              "      <th>total_samples_24</th>\n",
              "      <th>total_samples_5</th>\n",
              "      <th>good_samples_24</th>\n",
              "      <th>good_samples_5</th>\n",
              "      <th>poor_qoe_samples</th>\n",
              "      <th>...</th>\n",
              "      <th>delta_mem_usage</th>\n",
              "      <th>delta_high_mem_usage_samples</th>\n",
              "      <th>delta_congested_sample_5_count</th>\n",
              "      <th>delta_congested_sample_active_5_count</th>\n",
              "      <th>delta_congested_sample_24_count</th>\n",
              "      <th>delta_congested_sample_active_24_count</th>\n",
              "      <th>delta_poor_coverage_ratio_24</th>\n",
              "      <th>delta_poor_coverage_ratio_5</th>\n",
              "      <th>delta_poor_coverage_ratio_total</th>\n",
              "      <th>anomaly_score</th>\n",
              "    </tr>\n",
              "  </thead>\n",
              "  <tbody>\n",
              "    <tr>\n",
              "      <th>0</th>\n",
              "      <td>0005970190</td>\n",
              "      <td>2025-07-04</td>\n",
              "      <td>0</td>\n",
              "      <td>0</td>\n",
              "      <td>0</td>\n",
              "      <td>87</td>\n",
              "      <td>1864</td>\n",
              "      <td>87</td>\n",
              "      <td>1512</td>\n",
              "      <td>5</td>\n",
              "      <td>...</td>\n",
              "      <td>0.08</td>\n",
              "      <td>0.0</td>\n",
              "      <td>0.0</td>\n",
              "      <td>0.0</td>\n",
              "      <td>13.0</td>\n",
              "      <td>8.0</td>\n",
              "      <td>0.000000</td>\n",
              "      <td>-0.055556</td>\n",
              "      <td>-0.041249</td>\n",
              "      <td>-0.196558</td>\n",
              "    </tr>\n",
              "    <tr>\n",
              "      <th>1</th>\n",
              "      <td>000de142f6</td>\n",
              "      <td>2025-07-04</td>\n",
              "      <td>0</td>\n",
              "      <td>0</td>\n",
              "      <td>0</td>\n",
              "      <td>2641</td>\n",
              "      <td>5217</td>\n",
              "      <td>986</td>\n",
              "      <td>1272</td>\n",
              "      <td>0</td>\n",
              "      <td>...</td>\n",
              "      <td>0.15</td>\n",
              "      <td>0.0</td>\n",
              "      <td>-173.0</td>\n",
              "      <td>-19.0</td>\n",
              "      <td>-1.0</td>\n",
              "      <td>0.0</td>\n",
              "      <td>0.000000</td>\n",
              "      <td>-0.039598</td>\n",
              "      <td>-0.038859</td>\n",
              "      <td>-0.170600</td>\n",
              "    </tr>\n",
              "    <tr>\n",
              "      <th>2</th>\n",
              "      <td>0011a402aa</td>\n",
              "      <td>2025-07-04</td>\n",
              "      <td>0</td>\n",
              "      <td>0</td>\n",
              "      <td>0</td>\n",
              "      <td>2022</td>\n",
              "      <td>5793</td>\n",
              "      <td>1871</td>\n",
              "      <td>5399</td>\n",
              "      <td>71</td>\n",
              "      <td>...</td>\n",
              "      <td>0.10</td>\n",
              "      <td>0.0</td>\n",
              "      <td>0.0</td>\n",
              "      <td>0.0</td>\n",
              "      <td>-92.0</td>\n",
              "      <td>-46.0</td>\n",
              "      <td>0.287703</td>\n",
              "      <td>0.020832</td>\n",
              "      <td>0.061863</td>\n",
              "      <td>-0.137321</td>\n",
              "    </tr>\n",
              "    <tr>\n",
              "      <th>3</th>\n",
              "      <td>0012f64bcb</td>\n",
              "      <td>2025-07-04</td>\n",
              "      <td>0</td>\n",
              "      <td>0</td>\n",
              "      <td>2</td>\n",
              "      <td>1780</td>\n",
              "      <td>1898</td>\n",
              "      <td>1777</td>\n",
              "      <td>1833</td>\n",
              "      <td>167</td>\n",
              "      <td>...</td>\n",
              "      <td>0.10</td>\n",
              "      <td>0.0</td>\n",
              "      <td>-5.0</td>\n",
              "      <td>0.0</td>\n",
              "      <td>168.0</td>\n",
              "      <td>167.0</td>\n",
              "      <td>0.000000</td>\n",
              "      <td>-0.282913</td>\n",
              "      <td>-0.875000</td>\n",
              "      <td>-0.110378</td>\n",
              "    </tr>\n",
              "    <tr>\n",
              "      <th>4</th>\n",
              "      <td>001ae18ce6</td>\n",
              "      <td>2025-07-04</td>\n",
              "      <td>0</td>\n",
              "      <td>0</td>\n",
              "      <td>0</td>\n",
              "      <td>2404</td>\n",
              "      <td>4614</td>\n",
              "      <td>723</td>\n",
              "      <td>1201</td>\n",
              "      <td>0</td>\n",
              "      <td>...</td>\n",
              "      <td>-0.07</td>\n",
              "      <td>0.0</td>\n",
              "      <td>0.0</td>\n",
              "      <td>0.0</td>\n",
              "      <td>2.0</td>\n",
              "      <td>0.0</td>\n",
              "      <td>0.000000</td>\n",
              "      <td>0.000000</td>\n",
              "      <td>0.000000</td>\n",
              "      <td>-0.199412</td>\n",
              "    </tr>\n",
              "    <tr>\n",
              "      <th>...</th>\n",
              "      <td>...</td>\n",
              "      <td>...</td>\n",
              "      <td>...</td>\n",
              "      <td>...</td>\n",
              "      <td>...</td>\n",
              "      <td>...</td>\n",
              "      <td>...</td>\n",
              "      <td>...</td>\n",
              "      <td>...</td>\n",
              "      <td>...</td>\n",
              "      <td>...</td>\n",
              "      <td>...</td>\n",
              "      <td>...</td>\n",
              "      <td>...</td>\n",
              "      <td>...</td>\n",
              "      <td>...</td>\n",
              "      <td>...</td>\n",
              "      <td>...</td>\n",
              "      <td>...</td>\n",
              "      <td>...</td>\n",
              "      <td>...</td>\n",
              "    </tr>\n",
              "    <tr>\n",
              "      <th>44392</th>\n",
              "      <td>fff3290e13</td>\n",
              "      <td>2025-07-06</td>\n",
              "      <td>0</td>\n",
              "      <td>0</td>\n",
              "      <td>0</td>\n",
              "      <td>593</td>\n",
              "      <td>3377</td>\n",
              "      <td>105</td>\n",
              "      <td>894</td>\n",
              "      <td>647</td>\n",
              "      <td>...</td>\n",
              "      <td>0.09</td>\n",
              "      <td>0.0</td>\n",
              "      <td>5.0</td>\n",
              "      <td>5.0</td>\n",
              "      <td>13.0</td>\n",
              "      <td>2.0</td>\n",
              "      <td>0.500001</td>\n",
              "      <td>-0.448828</td>\n",
              "      <td>-0.430934</td>\n",
              "      <td>-0.036993</td>\n",
              "    </tr>\n",
              "    <tr>\n",
              "      <th>44393</th>\n",
              "      <td>fff4dbf2b4</td>\n",
              "      <td>2025-07-06</td>\n",
              "      <td>0</td>\n",
              "      <td>0</td>\n",
              "      <td>0</td>\n",
              "      <td>79</td>\n",
              "      <td>1759</td>\n",
              "      <td>56</td>\n",
              "      <td>1613</td>\n",
              "      <td>8</td>\n",
              "      <td>...</td>\n",
              "      <td>-0.03</td>\n",
              "      <td>0.0</td>\n",
              "      <td>0.0</td>\n",
              "      <td>0.0</td>\n",
              "      <td>-4.0</td>\n",
              "      <td>-1.0</td>\n",
              "      <td>0.214042</td>\n",
              "      <td>0.000000</td>\n",
              "      <td>-0.027953</td>\n",
              "      <td>-0.180699</td>\n",
              "    </tr>\n",
              "    <tr>\n",
              "      <th>44394</th>\n",
              "      <td>fffa87ec84</td>\n",
              "      <td>2025-07-06</td>\n",
              "      <td>0</td>\n",
              "      <td>0</td>\n",
              "      <td>0</td>\n",
              "      <td>1663</td>\n",
              "      <td>1272</td>\n",
              "      <td>1511</td>\n",
              "      <td>1227</td>\n",
              "      <td>6</td>\n",
              "      <td>...</td>\n",
              "      <td>0.15</td>\n",
              "      <td>1.0</td>\n",
              "      <td>0.0</td>\n",
              "      <td>-1.0</td>\n",
              "      <td>-2.0</td>\n",
              "      <td>-1.0</td>\n",
              "      <td>1.140217</td>\n",
              "      <td>-0.021683</td>\n",
              "      <td>0.083054</td>\n",
              "      <td>-0.135555</td>\n",
              "    </tr>\n",
              "    <tr>\n",
              "      <th>44395</th>\n",
              "      <td>fffad9936f</td>\n",
              "      <td>2025-07-06</td>\n",
              "      <td>0</td>\n",
              "      <td>0</td>\n",
              "      <td>0</td>\n",
              "      <td>1134</td>\n",
              "      <td>8383</td>\n",
              "      <td>441</td>\n",
              "      <td>4178</td>\n",
              "      <td>44</td>\n",
              "      <td>...</td>\n",
              "      <td>-1.48</td>\n",
              "      <td>0.0</td>\n",
              "      <td>-1.0</td>\n",
              "      <td>-1.0</td>\n",
              "      <td>-2.0</td>\n",
              "      <td>-12.0</td>\n",
              "      <td>0.633393</td>\n",
              "      <td>0.042320</td>\n",
              "      <td>0.045878</td>\n",
              "      <td>-0.115890</td>\n",
              "    </tr>\n",
              "    <tr>\n",
              "      <th>44396</th>\n",
              "      <td>fffd16f815</td>\n",
              "      <td>2025-07-06</td>\n",
              "      <td>1</td>\n",
              "      <td>0</td>\n",
              "      <td>0</td>\n",
              "      <td>1093</td>\n",
              "      <td>1905</td>\n",
              "      <td>464</td>\n",
              "      <td>688</td>\n",
              "      <td>206</td>\n",
              "      <td>...</td>\n",
              "      <td>-1.02</td>\n",
              "      <td>0.0</td>\n",
              "      <td>0.0</td>\n",
              "      <td>0.0</td>\n",
              "      <td>-91.0</td>\n",
              "      <td>-133.0</td>\n",
              "      <td>0.065668</td>\n",
              "      <td>-0.030713</td>\n",
              "      <td>0.013749</td>\n",
              "      <td>-0.073729</td>\n",
              "    </tr>\n",
              "  </tbody>\n",
              "</table>\n",
              "<p>44397 rows × 88 columns</p>\n",
              "</div>\n",
              "    <div class=\"colab-df-buttons\">\n",
              "\n",
              "  <div class=\"colab-df-container\">\n",
              "    <button class=\"colab-df-convert\" onclick=\"convertToInteractive('df-914a9a6a-56dc-4683-b306-c2a1cace06b3')\"\n",
              "            title=\"Convert this dataframe to an interactive table.\"\n",
              "            style=\"display:none;\">\n",
              "\n",
              "  <svg xmlns=\"http://www.w3.org/2000/svg\" height=\"24px\" viewBox=\"0 -960 960 960\">\n",
              "    <path d=\"M120-120v-720h720v720H120Zm60-500h600v-160H180v160Zm220 220h160v-160H400v160Zm0 220h160v-160H400v160ZM180-400h160v-160H180v160Zm440 0h160v-160H620v160ZM180-180h160v-160H180v160Zm440 0h160v-160H620v160Z\"/>\n",
              "  </svg>\n",
              "    </button>\n",
              "\n",
              "  <style>\n",
              "    .colab-df-container {\n",
              "      display:flex;\n",
              "      gap: 12px;\n",
              "    }\n",
              "\n",
              "    .colab-df-convert {\n",
              "      background-color: #E8F0FE;\n",
              "      border: none;\n",
              "      border-radius: 50%;\n",
              "      cursor: pointer;\n",
              "      display: none;\n",
              "      fill: #1967D2;\n",
              "      height: 32px;\n",
              "      padding: 0 0 0 0;\n",
              "      width: 32px;\n",
              "    }\n",
              "\n",
              "    .colab-df-convert:hover {\n",
              "      background-color: #E2EBFA;\n",
              "      box-shadow: 0px 1px 2px rgba(60, 64, 67, 0.3), 0px 1px 3px 1px rgba(60, 64, 67, 0.15);\n",
              "      fill: #174EA6;\n",
              "    }\n",
              "\n",
              "    .colab-df-buttons div {\n",
              "      margin-bottom: 4px;\n",
              "    }\n",
              "\n",
              "    [theme=dark] .colab-df-convert {\n",
              "      background-color: #3B4455;\n",
              "      fill: #D2E3FC;\n",
              "    }\n",
              "\n",
              "    [theme=dark] .colab-df-convert:hover {\n",
              "      background-color: #434B5C;\n",
              "      box-shadow: 0px 1px 3px 1px rgba(0, 0, 0, 0.15);\n",
              "      filter: drop-shadow(0px 1px 2px rgba(0, 0, 0, 0.3));\n",
              "      fill: #FFFFFF;\n",
              "    }\n",
              "  </style>\n",
              "\n",
              "    <script>\n",
              "      const buttonEl =\n",
              "        document.querySelector('#df-914a9a6a-56dc-4683-b306-c2a1cace06b3 button.colab-df-convert');\n",
              "      buttonEl.style.display =\n",
              "        google.colab.kernel.accessAllowed ? 'block' : 'none';\n",
              "\n",
              "      async function convertToInteractive(key) {\n",
              "        const element = document.querySelector('#df-914a9a6a-56dc-4683-b306-c2a1cace06b3');\n",
              "        const dataTable =\n",
              "          await google.colab.kernel.invokeFunction('convertToInteractive',\n",
              "                                                    [key], {});\n",
              "        if (!dataTable) return;\n",
              "\n",
              "        const docLinkHtml = 'Like what you see? Visit the ' +\n",
              "          '<a target=\"_blank\" href=https://colab.research.google.com/notebooks/data_table.ipynb>data table notebook</a>'\n",
              "          + ' to learn more about interactive tables.';\n",
              "        element.innerHTML = '';\n",
              "        dataTable['output_type'] = 'display_data';\n",
              "        await google.colab.output.renderOutput(dataTable, element);\n",
              "        const docLink = document.createElement('div');\n",
              "        docLink.innerHTML = docLinkHtml;\n",
              "        element.appendChild(docLink);\n",
              "      }\n",
              "    </script>\n",
              "  </div>\n",
              "\n",
              "\n",
              "    <div id=\"df-61fee93d-e51a-4c31-bbf7-6ab2fdd3520f\">\n",
              "      <button class=\"colab-df-quickchart\" onclick=\"quickchart('df-61fee93d-e51a-4c31-bbf7-6ab2fdd3520f')\"\n",
              "                title=\"Suggest charts\"\n",
              "                style=\"display:none;\">\n",
              "\n",
              "<svg xmlns=\"http://www.w3.org/2000/svg\" height=\"24px\"viewBox=\"0 0 24 24\"\n",
              "     width=\"24px\">\n",
              "    <g>\n",
              "        <path d=\"M19 3H5c-1.1 0-2 .9-2 2v14c0 1.1.9 2 2 2h14c1.1 0 2-.9 2-2V5c0-1.1-.9-2-2-2zM9 17H7v-7h2v7zm4 0h-2V7h2v10zm4 0h-2v-4h2v4z\"/>\n",
              "    </g>\n",
              "</svg>\n",
              "      </button>\n",
              "\n",
              "<style>\n",
              "  .colab-df-quickchart {\n",
              "      --bg-color: #E8F0FE;\n",
              "      --fill-color: #1967D2;\n",
              "      --hover-bg-color: #E2EBFA;\n",
              "      --hover-fill-color: #174EA6;\n",
              "      --disabled-fill-color: #AAA;\n",
              "      --disabled-bg-color: #DDD;\n",
              "  }\n",
              "\n",
              "  [theme=dark] .colab-df-quickchart {\n",
              "      --bg-color: #3B4455;\n",
              "      --fill-color: #D2E3FC;\n",
              "      --hover-bg-color: #434B5C;\n",
              "      --hover-fill-color: #FFFFFF;\n",
              "      --disabled-bg-color: #3B4455;\n",
              "      --disabled-fill-color: #666;\n",
              "  }\n",
              "\n",
              "  .colab-df-quickchart {\n",
              "    background-color: var(--bg-color);\n",
              "    border: none;\n",
              "    border-radius: 50%;\n",
              "    cursor: pointer;\n",
              "    display: none;\n",
              "    fill: var(--fill-color);\n",
              "    height: 32px;\n",
              "    padding: 0;\n",
              "    width: 32px;\n",
              "  }\n",
              "\n",
              "  .colab-df-quickchart:hover {\n",
              "    background-color: var(--hover-bg-color);\n",
              "    box-shadow: 0 1px 2px rgba(60, 64, 67, 0.3), 0 1px 3px 1px rgba(60, 64, 67, 0.15);\n",
              "    fill: var(--button-hover-fill-color);\n",
              "  }\n",
              "\n",
              "  .colab-df-quickchart-complete:disabled,\n",
              "  .colab-df-quickchart-complete:disabled:hover {\n",
              "    background-color: var(--disabled-bg-color);\n",
              "    fill: var(--disabled-fill-color);\n",
              "    box-shadow: none;\n",
              "  }\n",
              "\n",
              "  .colab-df-spinner {\n",
              "    border: 2px solid var(--fill-color);\n",
              "    border-color: transparent;\n",
              "    border-bottom-color: var(--fill-color);\n",
              "    animation:\n",
              "      spin 1s steps(1) infinite;\n",
              "  }\n",
              "\n",
              "  @keyframes spin {\n",
              "    0% {\n",
              "      border-color: transparent;\n",
              "      border-bottom-color: var(--fill-color);\n",
              "      border-left-color: var(--fill-color);\n",
              "    }\n",
              "    20% {\n",
              "      border-color: transparent;\n",
              "      border-left-color: var(--fill-color);\n",
              "      border-top-color: var(--fill-color);\n",
              "    }\n",
              "    30% {\n",
              "      border-color: transparent;\n",
              "      border-left-color: var(--fill-color);\n",
              "      border-top-color: var(--fill-color);\n",
              "      border-right-color: var(--fill-color);\n",
              "    }\n",
              "    40% {\n",
              "      border-color: transparent;\n",
              "      border-right-color: var(--fill-color);\n",
              "      border-top-color: var(--fill-color);\n",
              "    }\n",
              "    60% {\n",
              "      border-color: transparent;\n",
              "      border-right-color: var(--fill-color);\n",
              "    }\n",
              "    80% {\n",
              "      border-color: transparent;\n",
              "      border-right-color: var(--fill-color);\n",
              "      border-bottom-color: var(--fill-color);\n",
              "    }\n",
              "    90% {\n",
              "      border-color: transparent;\n",
              "      border-bottom-color: var(--fill-color);\n",
              "    }\n",
              "  }\n",
              "</style>\n",
              "\n",
              "      <script>\n",
              "        async function quickchart(key) {\n",
              "          const quickchartButtonEl =\n",
              "            document.querySelector('#' + key + ' button');\n",
              "          quickchartButtonEl.disabled = true;  // To prevent multiple clicks.\n",
              "          quickchartButtonEl.classList.add('colab-df-spinner');\n",
              "          try {\n",
              "            const charts = await google.colab.kernel.invokeFunction(\n",
              "                'suggestCharts', [key], {});\n",
              "          } catch (error) {\n",
              "            console.error('Error during call to suggestCharts:', error);\n",
              "          }\n",
              "          quickchartButtonEl.classList.remove('colab-df-spinner');\n",
              "          quickchartButtonEl.classList.add('colab-df-quickchart-complete');\n",
              "        }\n",
              "        (() => {\n",
              "          let quickchartButtonEl =\n",
              "            document.querySelector('#df-61fee93d-e51a-4c31-bbf7-6ab2fdd3520f button');\n",
              "          quickchartButtonEl.style.display =\n",
              "            google.colab.kernel.accessAllowed ? 'block' : 'none';\n",
              "        })();\n",
              "      </script>\n",
              "    </div>\n",
              "\n",
              "  <div id=\"id_65f478e6-590a-4511-b066-6d3868d93961\">\n",
              "    <style>\n",
              "      .colab-df-generate {\n",
              "        background-color: #E8F0FE;\n",
              "        border: none;\n",
              "        border-radius: 50%;\n",
              "        cursor: pointer;\n",
              "        display: none;\n",
              "        fill: #1967D2;\n",
              "        height: 32px;\n",
              "        padding: 0 0 0 0;\n",
              "        width: 32px;\n",
              "      }\n",
              "\n",
              "      .colab-df-generate:hover {\n",
              "        background-color: #E2EBFA;\n",
              "        box-shadow: 0px 1px 2px rgba(60, 64, 67, 0.3), 0px 1px 3px 1px rgba(60, 64, 67, 0.15);\n",
              "        fill: #174EA6;\n",
              "      }\n",
              "\n",
              "      [theme=dark] .colab-df-generate {\n",
              "        background-color: #3B4455;\n",
              "        fill: #D2E3FC;\n",
              "      }\n",
              "\n",
              "      [theme=dark] .colab-df-generate:hover {\n",
              "        background-color: #434B5C;\n",
              "        box-shadow: 0px 1px 3px 1px rgba(0, 0, 0, 0.15);\n",
              "        filter: drop-shadow(0px 1px 2px rgba(0, 0, 0, 0.3));\n",
              "        fill: #FFFFFF;\n",
              "      }\n",
              "    </style>\n",
              "    <button class=\"colab-df-generate\" onclick=\"generateWithVariable('df_val_sampled')\"\n",
              "            title=\"Generate code using this dataframe.\"\n",
              "            style=\"display:none;\">\n",
              "\n",
              "  <svg xmlns=\"http://www.w3.org/2000/svg\" height=\"24px\"viewBox=\"0 0 24 24\"\n",
              "       width=\"24px\">\n",
              "    <path d=\"M7,19H8.4L18.45,9,17,7.55,7,17.6ZM5,21V16.75L18.45,3.32a2,2,0,0,1,2.83,0l1.4,1.43a1.91,1.91,0,0,1,.58,1.4,1.91,1.91,0,0,1-.58,1.4L9.25,21ZM18.45,9,17,7.55Zm-12,3A5.31,5.31,0,0,0,4.9,8.1,5.31,5.31,0,0,0,1,6.5,5.31,5.31,0,0,0,4.9,4.9,5.31,5.31,0,0,0,6.5,1,5.31,5.31,0,0,0,8.1,4.9,5.31,5.31,0,0,0,12,6.5,5.46,5.46,0,0,0,6.5,12Z\"/>\n",
              "  </svg>\n",
              "    </button>\n",
              "    <script>\n",
              "      (() => {\n",
              "      const buttonEl =\n",
              "        document.querySelector('#id_65f478e6-590a-4511-b066-6d3868d93961 button.colab-df-generate');\n",
              "      buttonEl.style.display =\n",
              "        google.colab.kernel.accessAllowed ? 'block' : 'none';\n",
              "\n",
              "      buttonEl.onclick = () => {\n",
              "        google.colab.notebook.generateWithVariable('df_val_sampled');\n",
              "      }\n",
              "      })();\n",
              "    </script>\n",
              "  </div>\n",
              "\n",
              "    </div>\n",
              "  </div>\n"
            ],
            "application/vnd.google.colaboratory.intrinsic+json": {
              "type": "dataframe",
              "variable_name": "df_val_sampled"
            }
          },
          "metadata": {},
          "execution_count": 89
        }
      ]
    },
    {
      "cell_type": "code",
      "source": [
        "df_test_sampled.shape"
      ],
      "metadata": {
        "id": "9rd9ocuVnLsI",
        "colab": {
          "base_uri": "https://localhost:8080/"
        },
        "outputId": "170ca95b-4b7a-4268-9c83-2e80083aa85c"
      },
      "execution_count": null,
      "outputs": [
        {
          "output_type": "execute_result",
          "data": {
            "text/plain": [
              "(59196, 88)"
            ]
          },
          "metadata": {},
          "execution_count": 90
        }
      ]
    },
    {
      "cell_type": "markdown",
      "source": [
        "## Create rolling window with label t+1"
      ],
      "metadata": {
        "id": "Ax_7i1YBdIdG"
      }
    },
    {
      "cell_type": "code",
      "source": [
        "df_train_balanced.head()"
      ],
      "metadata": {
        "id": "BMYcxhiRHEWH",
        "colab": {
          "base_uri": "https://localhost:8080/",
          "height": 256
        },
        "outputId": "fab27e4d-2351-43b0-ce1e-bc156de6ddf1"
      },
      "execution_count": null,
      "outputs": [
        {
          "output_type": "execute_result",
          "data": {
            "text/plain": [
              "       device_id analysis_date  reboots  script_boots  ap_count  \\\n",
              "3586  004f299a6a    2025-06-12        0             0         0   \n",
              "3587  004f299a6a    2025-06-13        0             0         0   \n",
              "3588  004f299a6a    2025-06-14        0             0         0   \n",
              "3589  004f299a6a    2025-06-15        0             0         0   \n",
              "3590  004f299a6a    2025-06-16        0             0         0   \n",
              "\n",
              "      total_samples_24  total_samples_5  good_samples_24  good_samples_5  \\\n",
              "3586             36333             9806            12322            4235   \n",
              "3587             36739            10315            11882            3842   \n",
              "3588             35433            11190            11605            3629   \n",
              "3589             37075            10577            12727            3940   \n",
              "3590             37922            11762            12103            5082   \n",
              "\n",
              "      poor_qoe_samples  ...  delta_mem_usage  delta_high_mem_usage_samples  \\\n",
              "3586                37  ...             0.11                           0.0   \n",
              "3587                 4  ...             0.37                           0.0   \n",
              "3588                42  ...            -0.11                           0.0   \n",
              "3589                17  ...             0.25                           0.0   \n",
              "3590               101  ...             0.02                           0.0   \n",
              "\n",
              "      delta_congested_sample_5_count  delta_congested_sample_active_5_count  \\\n",
              "3586                             0.0                                    0.0   \n",
              "3587                             0.0                                    0.0   \n",
              "3588                             4.0                                    4.0   \n",
              "3589                            -3.0                                   -4.0   \n",
              "3590                            -1.0                                    0.0   \n",
              "\n",
              "      delta_congested_sample_24_count  delta_congested_sample_active_24_count  \\\n",
              "3586                             -5.0                                    -2.0   \n",
              "3587                             -4.0                                    -1.0   \n",
              "3588                             32.0                                     2.0   \n",
              "3589                            -10.0                                    -2.0   \n",
              "3590                             12.0                                     2.0   \n",
              "\n",
              "      delta_poor_coverage_ratio_24  delta_poor_coverage_ratio_5  \\\n",
              "3586                     -0.279160                     1.014975   \n",
              "3587                      7.068094                     3.513707   \n",
              "3588                     23.999998                    -0.717670   \n",
              "3589                    -21.834458                     6.662444   \n",
              "3590                     -6.434480                    -9.244108   \n",
              "\n",
              "      delta_poor_coverage_ratio_total  anomaly_score  \n",
              "3586                         0.385716      -0.059526  \n",
              "3587                         4.293981      -0.050701  \n",
              "3588                        -0.099211       0.002749  \n",
              "3589                         5.516839      -0.023162  \n",
              "3590                        -8.873351      -0.004852  \n",
              "\n",
              "[5 rows x 88 columns]"
            ],
            "text/html": [
              "\n",
              "  <div id=\"df-d7cd6d36-ac2b-43cf-83ac-05d9073de8cd\" class=\"colab-df-container\">\n",
              "    <div>\n",
              "<style scoped>\n",
              "    .dataframe tbody tr th:only-of-type {\n",
              "        vertical-align: middle;\n",
              "    }\n",
              "\n",
              "    .dataframe tbody tr th {\n",
              "        vertical-align: top;\n",
              "    }\n",
              "\n",
              "    .dataframe thead th {\n",
              "        text-align: right;\n",
              "    }\n",
              "</style>\n",
              "<table border=\"1\" class=\"dataframe\">\n",
              "  <thead>\n",
              "    <tr style=\"text-align: right;\">\n",
              "      <th></th>\n",
              "      <th>device_id</th>\n",
              "      <th>analysis_date</th>\n",
              "      <th>reboots</th>\n",
              "      <th>script_boots</th>\n",
              "      <th>ap_count</th>\n",
              "      <th>total_samples_24</th>\n",
              "      <th>total_samples_5</th>\n",
              "      <th>good_samples_24</th>\n",
              "      <th>good_samples_5</th>\n",
              "      <th>poor_qoe_samples</th>\n",
              "      <th>...</th>\n",
              "      <th>delta_mem_usage</th>\n",
              "      <th>delta_high_mem_usage_samples</th>\n",
              "      <th>delta_congested_sample_5_count</th>\n",
              "      <th>delta_congested_sample_active_5_count</th>\n",
              "      <th>delta_congested_sample_24_count</th>\n",
              "      <th>delta_congested_sample_active_24_count</th>\n",
              "      <th>delta_poor_coverage_ratio_24</th>\n",
              "      <th>delta_poor_coverage_ratio_5</th>\n",
              "      <th>delta_poor_coverage_ratio_total</th>\n",
              "      <th>anomaly_score</th>\n",
              "    </tr>\n",
              "  </thead>\n",
              "  <tbody>\n",
              "    <tr>\n",
              "      <th>3586</th>\n",
              "      <td>004f299a6a</td>\n",
              "      <td>2025-06-12</td>\n",
              "      <td>0</td>\n",
              "      <td>0</td>\n",
              "      <td>0</td>\n",
              "      <td>36333</td>\n",
              "      <td>9806</td>\n",
              "      <td>12322</td>\n",
              "      <td>4235</td>\n",
              "      <td>37</td>\n",
              "      <td>...</td>\n",
              "      <td>0.11</td>\n",
              "      <td>0.0</td>\n",
              "      <td>0.0</td>\n",
              "      <td>0.0</td>\n",
              "      <td>-5.0</td>\n",
              "      <td>-2.0</td>\n",
              "      <td>-0.279160</td>\n",
              "      <td>1.014975</td>\n",
              "      <td>0.385716</td>\n",
              "      <td>-0.059526</td>\n",
              "    </tr>\n",
              "    <tr>\n",
              "      <th>3587</th>\n",
              "      <td>004f299a6a</td>\n",
              "      <td>2025-06-13</td>\n",
              "      <td>0</td>\n",
              "      <td>0</td>\n",
              "      <td>0</td>\n",
              "      <td>36739</td>\n",
              "      <td>10315</td>\n",
              "      <td>11882</td>\n",
              "      <td>3842</td>\n",
              "      <td>4</td>\n",
              "      <td>...</td>\n",
              "      <td>0.37</td>\n",
              "      <td>0.0</td>\n",
              "      <td>0.0</td>\n",
              "      <td>0.0</td>\n",
              "      <td>-4.0</td>\n",
              "      <td>-1.0</td>\n",
              "      <td>7.068094</td>\n",
              "      <td>3.513707</td>\n",
              "      <td>4.293981</td>\n",
              "      <td>-0.050701</td>\n",
              "    </tr>\n",
              "    <tr>\n",
              "      <th>3588</th>\n",
              "      <td>004f299a6a</td>\n",
              "      <td>2025-06-14</td>\n",
              "      <td>0</td>\n",
              "      <td>0</td>\n",
              "      <td>0</td>\n",
              "      <td>35433</td>\n",
              "      <td>11190</td>\n",
              "      <td>11605</td>\n",
              "      <td>3629</td>\n",
              "      <td>42</td>\n",
              "      <td>...</td>\n",
              "      <td>-0.11</td>\n",
              "      <td>0.0</td>\n",
              "      <td>4.0</td>\n",
              "      <td>4.0</td>\n",
              "      <td>32.0</td>\n",
              "      <td>2.0</td>\n",
              "      <td>23.999998</td>\n",
              "      <td>-0.717670</td>\n",
              "      <td>-0.099211</td>\n",
              "      <td>0.002749</td>\n",
              "    </tr>\n",
              "    <tr>\n",
              "      <th>3589</th>\n",
              "      <td>004f299a6a</td>\n",
              "      <td>2025-06-15</td>\n",
              "      <td>0</td>\n",
              "      <td>0</td>\n",
              "      <td>0</td>\n",
              "      <td>37075</td>\n",
              "      <td>10577</td>\n",
              "      <td>12727</td>\n",
              "      <td>3940</td>\n",
              "      <td>17</td>\n",
              "      <td>...</td>\n",
              "      <td>0.25</td>\n",
              "      <td>0.0</td>\n",
              "      <td>-3.0</td>\n",
              "      <td>-4.0</td>\n",
              "      <td>-10.0</td>\n",
              "      <td>-2.0</td>\n",
              "      <td>-21.834458</td>\n",
              "      <td>6.662444</td>\n",
              "      <td>5.516839</td>\n",
              "      <td>-0.023162</td>\n",
              "    </tr>\n",
              "    <tr>\n",
              "      <th>3590</th>\n",
              "      <td>004f299a6a</td>\n",
              "      <td>2025-06-16</td>\n",
              "      <td>0</td>\n",
              "      <td>0</td>\n",
              "      <td>0</td>\n",
              "      <td>37922</td>\n",
              "      <td>11762</td>\n",
              "      <td>12103</td>\n",
              "      <td>5082</td>\n",
              "      <td>101</td>\n",
              "      <td>...</td>\n",
              "      <td>0.02</td>\n",
              "      <td>0.0</td>\n",
              "      <td>-1.0</td>\n",
              "      <td>0.0</td>\n",
              "      <td>12.0</td>\n",
              "      <td>2.0</td>\n",
              "      <td>-6.434480</td>\n",
              "      <td>-9.244108</td>\n",
              "      <td>-8.873351</td>\n",
              "      <td>-0.004852</td>\n",
              "    </tr>\n",
              "  </tbody>\n",
              "</table>\n",
              "<p>5 rows × 88 columns</p>\n",
              "</div>\n",
              "    <div class=\"colab-df-buttons\">\n",
              "\n",
              "  <div class=\"colab-df-container\">\n",
              "    <button class=\"colab-df-convert\" onclick=\"convertToInteractive('df-d7cd6d36-ac2b-43cf-83ac-05d9073de8cd')\"\n",
              "            title=\"Convert this dataframe to an interactive table.\"\n",
              "            style=\"display:none;\">\n",
              "\n",
              "  <svg xmlns=\"http://www.w3.org/2000/svg\" height=\"24px\" viewBox=\"0 -960 960 960\">\n",
              "    <path d=\"M120-120v-720h720v720H120Zm60-500h600v-160H180v160Zm220 220h160v-160H400v160Zm0 220h160v-160H400v160ZM180-400h160v-160H180v160Zm440 0h160v-160H620v160ZM180-180h160v-160H180v160Zm440 0h160v-160H620v160Z\"/>\n",
              "  </svg>\n",
              "    </button>\n",
              "\n",
              "  <style>\n",
              "    .colab-df-container {\n",
              "      display:flex;\n",
              "      gap: 12px;\n",
              "    }\n",
              "\n",
              "    .colab-df-convert {\n",
              "      background-color: #E8F0FE;\n",
              "      border: none;\n",
              "      border-radius: 50%;\n",
              "      cursor: pointer;\n",
              "      display: none;\n",
              "      fill: #1967D2;\n",
              "      height: 32px;\n",
              "      padding: 0 0 0 0;\n",
              "      width: 32px;\n",
              "    }\n",
              "\n",
              "    .colab-df-convert:hover {\n",
              "      background-color: #E2EBFA;\n",
              "      box-shadow: 0px 1px 2px rgba(60, 64, 67, 0.3), 0px 1px 3px 1px rgba(60, 64, 67, 0.15);\n",
              "      fill: #174EA6;\n",
              "    }\n",
              "\n",
              "    .colab-df-buttons div {\n",
              "      margin-bottom: 4px;\n",
              "    }\n",
              "\n",
              "    [theme=dark] .colab-df-convert {\n",
              "      background-color: #3B4455;\n",
              "      fill: #D2E3FC;\n",
              "    }\n",
              "\n",
              "    [theme=dark] .colab-df-convert:hover {\n",
              "      background-color: #434B5C;\n",
              "      box-shadow: 0px 1px 3px 1px rgba(0, 0, 0, 0.15);\n",
              "      filter: drop-shadow(0px 1px 2px rgba(0, 0, 0, 0.3));\n",
              "      fill: #FFFFFF;\n",
              "    }\n",
              "  </style>\n",
              "\n",
              "    <script>\n",
              "      const buttonEl =\n",
              "        document.querySelector('#df-d7cd6d36-ac2b-43cf-83ac-05d9073de8cd button.colab-df-convert');\n",
              "      buttonEl.style.display =\n",
              "        google.colab.kernel.accessAllowed ? 'block' : 'none';\n",
              "\n",
              "      async function convertToInteractive(key) {\n",
              "        const element = document.querySelector('#df-d7cd6d36-ac2b-43cf-83ac-05d9073de8cd');\n",
              "        const dataTable =\n",
              "          await google.colab.kernel.invokeFunction('convertToInteractive',\n",
              "                                                    [key], {});\n",
              "        if (!dataTable) return;\n",
              "\n",
              "        const docLinkHtml = 'Like what you see? Visit the ' +\n",
              "          '<a target=\"_blank\" href=https://colab.research.google.com/notebooks/data_table.ipynb>data table notebook</a>'\n",
              "          + ' to learn more about interactive tables.';\n",
              "        element.innerHTML = '';\n",
              "        dataTable['output_type'] = 'display_data';\n",
              "        await google.colab.output.renderOutput(dataTable, element);\n",
              "        const docLink = document.createElement('div');\n",
              "        docLink.innerHTML = docLinkHtml;\n",
              "        element.appendChild(docLink);\n",
              "      }\n",
              "    </script>\n",
              "  </div>\n",
              "\n",
              "\n",
              "    <div id=\"df-d9546762-41ae-4385-b923-19586b511b31\">\n",
              "      <button class=\"colab-df-quickchart\" onclick=\"quickchart('df-d9546762-41ae-4385-b923-19586b511b31')\"\n",
              "                title=\"Suggest charts\"\n",
              "                style=\"display:none;\">\n",
              "\n",
              "<svg xmlns=\"http://www.w3.org/2000/svg\" height=\"24px\"viewBox=\"0 0 24 24\"\n",
              "     width=\"24px\">\n",
              "    <g>\n",
              "        <path d=\"M19 3H5c-1.1 0-2 .9-2 2v14c0 1.1.9 2 2 2h14c1.1 0 2-.9 2-2V5c0-1.1-.9-2-2-2zM9 17H7v-7h2v7zm4 0h-2V7h2v10zm4 0h-2v-4h2v4z\"/>\n",
              "    </g>\n",
              "</svg>\n",
              "      </button>\n",
              "\n",
              "<style>\n",
              "  .colab-df-quickchart {\n",
              "      --bg-color: #E8F0FE;\n",
              "      --fill-color: #1967D2;\n",
              "      --hover-bg-color: #E2EBFA;\n",
              "      --hover-fill-color: #174EA6;\n",
              "      --disabled-fill-color: #AAA;\n",
              "      --disabled-bg-color: #DDD;\n",
              "  }\n",
              "\n",
              "  [theme=dark] .colab-df-quickchart {\n",
              "      --bg-color: #3B4455;\n",
              "      --fill-color: #D2E3FC;\n",
              "      --hover-bg-color: #434B5C;\n",
              "      --hover-fill-color: #FFFFFF;\n",
              "      --disabled-bg-color: #3B4455;\n",
              "      --disabled-fill-color: #666;\n",
              "  }\n",
              "\n",
              "  .colab-df-quickchart {\n",
              "    background-color: var(--bg-color);\n",
              "    border: none;\n",
              "    border-radius: 50%;\n",
              "    cursor: pointer;\n",
              "    display: none;\n",
              "    fill: var(--fill-color);\n",
              "    height: 32px;\n",
              "    padding: 0;\n",
              "    width: 32px;\n",
              "  }\n",
              "\n",
              "  .colab-df-quickchart:hover {\n",
              "    background-color: var(--hover-bg-color);\n",
              "    box-shadow: 0 1px 2px rgba(60, 64, 67, 0.3), 0 1px 3px 1px rgba(60, 64, 67, 0.15);\n",
              "    fill: var(--button-hover-fill-color);\n",
              "  }\n",
              "\n",
              "  .colab-df-quickchart-complete:disabled,\n",
              "  .colab-df-quickchart-complete:disabled:hover {\n",
              "    background-color: var(--disabled-bg-color);\n",
              "    fill: var(--disabled-fill-color);\n",
              "    box-shadow: none;\n",
              "  }\n",
              "\n",
              "  .colab-df-spinner {\n",
              "    border: 2px solid var(--fill-color);\n",
              "    border-color: transparent;\n",
              "    border-bottom-color: var(--fill-color);\n",
              "    animation:\n",
              "      spin 1s steps(1) infinite;\n",
              "  }\n",
              "\n",
              "  @keyframes spin {\n",
              "    0% {\n",
              "      border-color: transparent;\n",
              "      border-bottom-color: var(--fill-color);\n",
              "      border-left-color: var(--fill-color);\n",
              "    }\n",
              "    20% {\n",
              "      border-color: transparent;\n",
              "      border-left-color: var(--fill-color);\n",
              "      border-top-color: var(--fill-color);\n",
              "    }\n",
              "    30% {\n",
              "      border-color: transparent;\n",
              "      border-left-color: var(--fill-color);\n",
              "      border-top-color: var(--fill-color);\n",
              "      border-right-color: var(--fill-color);\n",
              "    }\n",
              "    40% {\n",
              "      border-color: transparent;\n",
              "      border-right-color: var(--fill-color);\n",
              "      border-top-color: var(--fill-color);\n",
              "    }\n",
              "    60% {\n",
              "      border-color: transparent;\n",
              "      border-right-color: var(--fill-color);\n",
              "    }\n",
              "    80% {\n",
              "      border-color: transparent;\n",
              "      border-right-color: var(--fill-color);\n",
              "      border-bottom-color: var(--fill-color);\n",
              "    }\n",
              "    90% {\n",
              "      border-color: transparent;\n",
              "      border-bottom-color: var(--fill-color);\n",
              "    }\n",
              "  }\n",
              "</style>\n",
              "\n",
              "      <script>\n",
              "        async function quickchart(key) {\n",
              "          const quickchartButtonEl =\n",
              "            document.querySelector('#' + key + ' button');\n",
              "          quickchartButtonEl.disabled = true;  // To prevent multiple clicks.\n",
              "          quickchartButtonEl.classList.add('colab-df-spinner');\n",
              "          try {\n",
              "            const charts = await google.colab.kernel.invokeFunction(\n",
              "                'suggestCharts', [key], {});\n",
              "          } catch (error) {\n",
              "            console.error('Error during call to suggestCharts:', error);\n",
              "          }\n",
              "          quickchartButtonEl.classList.remove('colab-df-spinner');\n",
              "          quickchartButtonEl.classList.add('colab-df-quickchart-complete');\n",
              "        }\n",
              "        (() => {\n",
              "          let quickchartButtonEl =\n",
              "            document.querySelector('#df-d9546762-41ae-4385-b923-19586b511b31 button');\n",
              "          quickchartButtonEl.style.display =\n",
              "            google.colab.kernel.accessAllowed ? 'block' : 'none';\n",
              "        })();\n",
              "      </script>\n",
              "    </div>\n",
              "\n",
              "    </div>\n",
              "  </div>\n"
            ],
            "application/vnd.google.colaboratory.intrinsic+json": {
              "type": "dataframe",
              "variable_name": "df_train_balanced"
            }
          },
          "metadata": {},
          "execution_count": 91
        }
      ]
    },
    {
      "cell_type": "code",
      "source": [
        "# Create rolling windows of 3-days wrapped in a TSFRESH format\n",
        "def create_rolling_windows_for_tsfresh(df, max_window_size=3, verbose=True):\n",
        "\n",
        "    rolling_windows = []\n",
        "    positive_count = 0\n",
        "    negative_count = 0\n",
        "    global_id = 0\n",
        "\n",
        "    df = df.sort_values(['device_id', 'analysis_date'])\n",
        "\n",
        "    for device_id, group in df.groupby('device_id'):\n",
        "        group = group.reset_index(drop=True)\n",
        "        n = len(group)\n",
        "\n",
        "        if n < 2:\n",
        "            continue\n",
        "\n",
        "        window_size = min(max_window_size, n - 1)\n",
        "\n",
        "        for i in range(n - window_size):\n",
        "            label_row = group.iloc[i + window_size]\n",
        "            label = label_row['flag_call']\n",
        "\n",
        "            if pd.isna(label):\n",
        "                continue\n",
        "\n",
        "            if verbose and label == 1:\n",
        "                print(f\"[{device_id}] Positive at {label_row['analysis_date']}\")\n",
        "\n",
        "            window = group.iloc[i:i + window_size].drop(columns=['device_id', 'analysis_date', 'flag_call'])\n",
        "            window = window.select_dtypes(include='number')\n",
        "\n",
        "            # Add TSFRESH-specific fields window\n",
        "            window_df = window.copy()\n",
        "            window_df['id'] = global_id\n",
        "            window_df['time'] = np.arange(len(window_df))\n",
        "\n",
        "            # Wrap into 4-element tuple\n",
        "            rolling_windows.append((window_df, device_id, label_row['analysis_date'], label))\n",
        "\n",
        "            if label == 1:\n",
        "                positive_count += 1\n",
        "            else:\n",
        "                negative_count += 1\n",
        "\n",
        "            global_id += 1\n",
        "\n",
        "    label_summary = {\n",
        "        'positive': positive_count,\n",
        "        'negative': negative_count\n",
        "    }\n",
        "\n",
        "    if verbose:\n",
        "        print(f\" Created {len(rolling_windows)} windows → Pos: {positive_count}, Neg: {negative_count}\")\n",
        "\n",
        "    return rolling_windows, label_summary\n"
      ],
      "metadata": {
        "id": "xQsqGhAXosB8"
      },
      "execution_count": null,
      "outputs": []
    },
    {
      "cell_type": "code",
      "source": [
        "rolling_windows_train_balanced, summary = create_rolling_windows_for_tsfresh(df_train_balanced)\n",
        "\n",
        "del df_train_balanced\n",
        "\n",
        "gc.collect()"
      ],
      "metadata": {
        "id": "uNk6RhruouEu",
        "colab": {
          "base_uri": "https://localhost:8080/"
        },
        "outputId": "a680f249-265d-4b20-da86-f1cb20fcc17a"
      },
      "execution_count": null,
      "outputs": [
        {
          "output_type": "stream",
          "name": "stdout",
          "text": [
            "[006306db2c] Positive at 2025-06-20 00:00:00\n",
            "[02d1ff3e91] Positive at 2025-06-20 00:00:00\n",
            "[04c6f66b43] Positive at 2025-06-18 00:00:00\n",
            "[072390dcda] Positive at 2025-07-02 00:00:00\n",
            "[07448e5089] Positive at 2025-06-19 00:00:00\n",
            "[07a0e1ca61] Positive at 2025-06-18 00:00:00\n",
            "[07a32b791f] Positive at 2025-06-28 00:00:00\n",
            "[092398c839] Positive at 2025-07-03 00:00:00\n",
            "[0b4d6da8c5] Positive at 2025-06-24 00:00:00\n",
            "[0b93626362] Positive at 2025-06-26 00:00:00\n",
            "[0b93626362] Positive at 2025-06-27 00:00:00\n",
            "[0e37303fb3] Positive at 2025-06-17 00:00:00\n",
            "[0f52baae7d] Positive at 2025-06-24 00:00:00\n",
            "[0f57bf218c] Positive at 2025-06-18 00:00:00\n",
            "[0fb9183fb8] Positive at 2025-06-23 00:00:00\n",
            "[110b2641e3] Positive at 2025-06-19 00:00:00\n",
            "[13aba73aa9] Positive at 2025-07-03 00:00:00\n",
            "[17d1f82f5b] Positive at 2025-06-16 00:00:00\n",
            "[17d1f82f5b] Positive at 2025-06-21 00:00:00\n",
            "[17d1f82f5b] Positive at 2025-06-22 00:00:00\n",
            "[17d1f82f5b] Positive at 2025-06-23 00:00:00\n",
            "[17d1f82f5b] Positive at 2025-06-30 00:00:00\n",
            "[1802d33dd7] Positive at 2025-06-27 00:00:00\n",
            "[18c2ef98d7] Positive at 2025-06-16 00:00:00\n",
            "[18c2ef98d7] Positive at 2025-06-20 00:00:00\n",
            "[1b26ff37d5] Positive at 2025-06-22 00:00:00\n",
            "[1bb669e194] Positive at 2025-06-18 00:00:00\n",
            "[1bb669e194] Positive at 2025-06-19 00:00:00\n",
            "[1eae6fc30c] Positive at 2025-07-01 00:00:00\n",
            "[207d859717] Positive at 2025-06-27 00:00:00\n",
            "[2170d08d26] Positive at 2025-06-29 00:00:00\n",
            "[239cd3cd7a] Positive at 2025-06-30 00:00:00\n",
            "[28d8636998] Positive at 2025-06-25 00:00:00\n",
            "[29946d25c5] Positive at 2025-06-17 00:00:00\n",
            "[2cc3064b22] Positive at 2025-06-20 00:00:00\n",
            "[2de36fbaf4] Positive at 2025-06-30 00:00:00\n",
            "[2eaa199190] Positive at 2025-06-23 00:00:00\n",
            "[2efd8c9d2a] Positive at 2025-07-03 00:00:00\n",
            "[3172c959f3] Positive at 2025-06-22 00:00:00\n",
            "[31f3c982e1] Positive at 2025-06-30 00:00:00\n",
            "[338bb35300] Positive at 2025-06-21 00:00:00\n",
            "[339caecd8a] Positive at 2025-06-16 00:00:00\n",
            "[339caecd8a] Positive at 2025-06-17 00:00:00\n",
            "[37cd503ce9] Positive at 2025-07-03 00:00:00\n",
            "[3afd5d6e5d] Positive at 2025-06-20 00:00:00\n",
            "[3c65eb3c48] Positive at 2025-06-25 00:00:00\n",
            "[3c65eb3c48] Positive at 2025-07-02 00:00:00\n",
            "[3e438c5a33] Positive at 2025-06-19 00:00:00\n",
            "[409f6261da] Positive at 2025-06-15 00:00:00\n",
            "[409f6261da] Positive at 2025-06-19 00:00:00\n",
            "[42e01399fd] Positive at 2025-06-19 00:00:00\n",
            "[44c654b0cc] Positive at 2025-06-26 00:00:00\n",
            "[47126cb88d] Positive at 2025-06-30 00:00:00\n",
            "[4996233ca8] Positive at 2025-07-02 00:00:00\n",
            "[49fd4a8188] Positive at 2025-06-27 00:00:00\n",
            "[4a27c3718c] Positive at 2025-06-26 00:00:00\n",
            "[4ad5c0a105] Positive at 2025-06-21 00:00:00\n",
            "[4cb34081e6] Positive at 2025-06-26 00:00:00\n",
            "[4eee72808e] Positive at 2025-06-20 00:00:00\n",
            "[53dc72ca2c] Positive at 2025-06-25 00:00:00\n",
            "[5401c50adc] Positive at 2025-06-23 00:00:00\n",
            "[57a60795db] Positive at 2025-06-22 00:00:00\n",
            "[594360c495] Positive at 2025-06-17 00:00:00\n",
            "[5c33e29f6f] Positive at 2025-06-25 00:00:00\n",
            "[5d04693406] Positive at 2025-06-22 00:00:00\n",
            "[5d6aa984ab] Positive at 2025-07-02 00:00:00\n",
            "[5d7fda863e] Positive at 2025-06-18 00:00:00\n",
            "[5e942ebcdc] Positive at 2025-07-02 00:00:00\n",
            "[5f4de72db2] Positive at 2025-06-17 00:00:00\n",
            "[6416b2e297] Positive at 2025-06-22 00:00:00\n",
            "[65626ec823] Positive at 2025-06-30 00:00:00\n",
            "[6684ccc0d5] Positive at 2025-06-23 00:00:00\n",
            "[6901257599] Positive at 2025-06-16 00:00:00\n",
            "[693d29cbc9] Positive at 2025-06-20 00:00:00\n",
            "[693d29cbc9] Positive at 2025-06-30 00:00:00\n",
            "[693d29cbc9] Positive at 2025-07-01 00:00:00\n",
            "[6992b9fab4] Positive at 2025-06-18 00:00:00\n",
            "[6fd05925f9] Positive at 2025-06-27 00:00:00\n",
            "[7124355224] Positive at 2025-06-26 00:00:00\n",
            "[72670cc721] Positive at 2025-06-16 00:00:00\n",
            "[735316ac23] Positive at 2025-06-16 00:00:00\n",
            "[75793659cd] Positive at 2025-06-27 00:00:00\n",
            "[762a62b543] Positive at 2025-06-27 00:00:00\n",
            "[77d0957d9a] Positive at 2025-06-20 00:00:00\n",
            "[7938e0e648] Positive at 2025-06-20 00:00:00\n",
            "[7943c316b0] Positive at 2025-06-19 00:00:00\n",
            "[7ece27d31b] Positive at 2025-06-21 00:00:00\n",
            "[8169cdb601] Positive at 2025-06-26 00:00:00\n",
            "[822062715a] Positive at 2025-06-17 00:00:00\n",
            "[8d807ae1a8] Positive at 2025-06-28 00:00:00\n",
            "[906ff6f7b5] Positive at 2025-06-25 00:00:00\n",
            "[914d723a22] Positive at 2025-06-21 00:00:00\n",
            "[94c10af061] Positive at 2025-06-23 00:00:00\n",
            "[968dade083] Positive at 2025-06-17 00:00:00\n",
            "[968dade083] Positive at 2025-06-22 00:00:00\n",
            "[982d0e76c8] Positive at 2025-06-30 00:00:00\n",
            "[99eb676c7a] Positive at 2025-06-16 00:00:00\n",
            "[9c16df086c] Positive at 2025-07-02 00:00:00\n",
            "[9f93dbea79] Positive at 2025-06-27 00:00:00\n",
            "[a046494fda] Positive at 2025-06-19 00:00:00\n",
            "[a3276ba026] Positive at 2025-06-18 00:00:00\n",
            "[a72232c6a1] Positive at 2025-06-22 00:00:00\n",
            "[a79fdcba2b] Positive at 2025-06-24 00:00:00\n",
            "[a829a07fdc] Positive at 2025-06-17 00:00:00\n",
            "[a8ee236f30] Positive at 2025-06-26 00:00:00\n",
            "[a8f8278109] Positive at 2025-06-30 00:00:00\n",
            "[a9458eeadd] Positive at 2025-06-24 00:00:00\n",
            "[a9fc2efaa3] Positive at 2025-06-20 00:00:00\n",
            "[a9fc2efaa3] Positive at 2025-06-23 00:00:00\n",
            "[abed9d0b18] Positive at 2025-06-19 00:00:00\n",
            "[abed9d0b18] Positive at 2025-06-26 00:00:00\n",
            "[add5becb3f] Positive at 2025-06-26 00:00:00\n",
            "[b1f429c49a] Positive at 2025-06-19 00:00:00\n",
            "[b23489c683] Positive at 2025-06-23 00:00:00\n",
            "[b2a3dc7548] Positive at 2025-06-15 00:00:00\n",
            "[b66da2398b] Positive at 2025-07-02 00:00:00\n",
            "[b74b489418] Positive at 2025-06-18 00:00:00\n",
            "[b8568aff0a] Positive at 2025-06-18 00:00:00\n",
            "[b995ead8b1] Positive at 2025-07-02 00:00:00\n",
            "[b9b954bacd] Positive at 2025-06-17 00:00:00\n",
            "[baaca73a80] Positive at 2025-06-30 00:00:00\n",
            "[bd2a3c7529] Positive at 2025-06-29 00:00:00\n",
            "[bdd5300a81] Positive at 2025-07-02 00:00:00\n",
            "[bec5a811b1] Positive at 2025-06-20 00:00:00\n",
            "[beec395086] Positive at 2025-06-28 00:00:00\n",
            "[c1d102c77e] Positive at 2025-06-28 00:00:00\n",
            "[c25f2add49] Positive at 2025-06-26 00:00:00\n",
            "[c2769960c6] Positive at 2025-06-19 00:00:00\n",
            "[c600e94749] Positive at 2025-07-01 00:00:00\n",
            "[c7f9b5b49e] Positive at 2025-06-30 00:00:00\n",
            "[c938b87724] Positive at 2025-06-20 00:00:00\n",
            "[c99ec4b9cd] Positive at 2025-06-16 00:00:00\n",
            "[ca035b9ff5] Positive at 2025-07-03 00:00:00\n",
            "[cd8c4c1096] Positive at 2025-06-22 00:00:00\n",
            "[cef9e4c4bb] Positive at 2025-07-03 00:00:00\n",
            "[d2609449d2] Positive at 2025-06-29 00:00:00\n",
            "[d56df07c1e] Positive at 2025-06-29 00:00:00\n",
            "[d65325c75d] Positive at 2025-06-17 00:00:00\n",
            "[d78d0c7249] Positive at 2025-06-29 00:00:00\n",
            "[d78d0c7249] Positive at 2025-06-30 00:00:00\n",
            "[d82d51c20a] Positive at 2025-07-02 00:00:00\n",
            "[d84a3b2323] Positive at 2025-06-17 00:00:00\n",
            "[e1a50a58ab] Positive at 2025-06-29 00:00:00\n",
            "[e213ce659b] Positive at 2025-06-15 00:00:00\n",
            "[e213ce659b] Positive at 2025-06-16 00:00:00\n",
            "[e44451428d] Positive at 2025-07-03 00:00:00\n",
            "[e51c4cfc83] Positive at 2025-07-01 00:00:00\n",
            "[e62b2d582a] Positive at 2025-06-18 00:00:00\n",
            "[e716674c09] Positive at 2025-07-03 00:00:00\n",
            "[e72541865e] Positive at 2025-06-16 00:00:00\n",
            "[e79c285fd3] Positive at 2025-06-27 00:00:00\n",
            "[eb4d22e425] Positive at 2025-06-18 00:00:00\n",
            "[f02eb1c093] Positive at 2025-06-29 00:00:00\n",
            "[f161b5dfc2] Positive at 2025-06-19 00:00:00\n",
            "[f38a27819f] Positive at 2025-07-01 00:00:00\n",
            "[f433259223] Positive at 2025-06-16 00:00:00\n",
            "[f5c48339ed] Positive at 2025-06-29 00:00:00\n",
            "[f7e7d61085] Positive at 2025-06-24 00:00:00\n",
            "[f93e0eae93] Positive at 2025-06-19 00:00:00\n",
            "[f94a71773e] Positive at 2025-07-01 00:00:00\n",
            "[fe67eb4417] Positive at 2025-07-01 00:00:00\n",
            " Created 18582 windows → Pos: 161, Neg: 18421\n"
          ]
        },
        {
          "output_type": "execute_result",
          "data": {
            "text/plain": [
              "0"
            ]
          },
          "metadata": {},
          "execution_count": 93
        }
      ]
    },
    {
      "cell_type": "code",
      "source": [
        "rolling_windows_val_sampled, summary = create_rolling_windows_for_tsfresh(df_val_sampled)\n",
        "\n",
        "del df_val_sampled\n",
        "\n",
        "gc.collect()"
      ],
      "metadata": {
        "id": "boNEEi1V-l_l",
        "colab": {
          "base_uri": "https://localhost:8080/"
        },
        "outputId": "b4be216f-fae3-4ff1-acb6-71a65acf4fd5"
      },
      "execution_count": null,
      "outputs": [
        {
          "output_type": "stream",
          "name": "stdout",
          "text": [
            "[1121cb488f] Positive at 2025-07-06 00:00:00\n",
            "[19cf83cb85] Positive at 2025-07-06 00:00:00\n",
            "[3a9fa29706] Positive at 2025-07-06 00:00:00\n",
            "[4ad5c0a105] Positive at 2025-07-06 00:00:00\n",
            "[60445081f9] Positive at 2025-07-06 00:00:00\n",
            " Created 14799 windows → Pos: 5, Neg: 14794\n"
          ]
        },
        {
          "output_type": "execute_result",
          "data": {
            "text/plain": [
              "0"
            ]
          },
          "metadata": {},
          "execution_count": 94
        }
      ]
    },
    {
      "cell_type": "code",
      "source": [
        "rolling_windows_test_sampled, summary = create_rolling_windows_for_tsfresh(df_test_sampled)\n",
        "\n",
        "del df_test_sampled\n",
        "\n",
        "gc.collect()"
      ],
      "metadata": {
        "id": "tZXEFfrU-m8y",
        "colab": {
          "base_uri": "https://localhost:8080/"
        },
        "outputId": "11aa4653-8dfd-4cf0-cd29-e60e909e26fb"
      },
      "execution_count": null,
      "outputs": [
        {
          "output_type": "stream",
          "name": "stdout",
          "text": [
            "[144caa7221] Positive at 2025-07-10 00:00:00\n",
            "[149eb254d7] Positive at 2025-07-10 00:00:00\n",
            "[454d48a063] Positive at 2025-07-10 00:00:00\n",
            "[7cb202486d] Positive at 2025-07-10 00:00:00\n",
            "[8ed9ad5c5c] Positive at 2025-07-10 00:00:00\n",
            "[988ad33742] Positive at 2025-07-10 00:00:00\n",
            "[c94309846b] Positive at 2025-07-10 00:00:00\n",
            "[ea6ad451c9] Positive at 2025-07-10 00:00:00\n",
            "[eec62516ba] Positive at 2025-07-10 00:00:00\n",
            " Created 14799 windows → Pos: 9, Neg: 14790\n"
          ]
        },
        {
          "output_type": "execute_result",
          "data": {
            "text/plain": [
              "0"
            ]
          },
          "metadata": {},
          "execution_count": 95
        }
      ]
    },
    {
      "cell_type": "code",
      "source": [
        "print(\"Train Windows:\", len(rolling_windows_train_balanced))\n",
        "print(\"Validate Windows:\", len(rolling_windows_val_sampled))\n",
        "print(\"Test Windows:\", len(rolling_windows_test_sampled))\n"
      ],
      "metadata": {
        "id": "k4ebT24GlJyJ",
        "colab": {
          "base_uri": "https://localhost:8080/"
        },
        "outputId": "43fa90b1-a3d7-445d-c7e0-e350ad3977fb"
      },
      "execution_count": null,
      "outputs": [
        {
          "output_type": "stream",
          "name": "stdout",
          "text": [
            "Train Windows: 18582\n",
            "Validate Windows: 14799\n",
            "Test Windows: 14799\n"
          ]
        }
      ]
    },
    {
      "cell_type": "markdown",
      "source": [
        "## TSFRESH"
      ],
      "metadata": {
        "id": "pKQ-vXitkhkF"
      }
    },
    {
      "cell_type": "code",
      "source": [
        "# Generate TSFRESH features from rolling windows\n",
        "def generate_tsfresh_features_chunked(rolling_windows, chunk_size=500, verbose=True):\n",
        "\n",
        "    all_features = []\n",
        "\n",
        "    for batch_start in range(0, len(rolling_windows), chunk_size):\n",
        "        chunk = rolling_windows[batch_start:batch_start + chunk_size]\n",
        "\n",
        "        ts_list = []\n",
        "        metadata_list = []\n",
        "\n",
        "        for local_id, (window_df, device_id, label_date, flag_call) in enumerate(chunk):\n",
        "            # Select only numeric columns to avoid TSFRESH errors\n",
        "            ts_numeric = window_df.select_dtypes(include='number').copy()\n",
        "            ts_numeric['id'] = local_id\n",
        "            ts_numeric['time'] = np.arange(len(ts_numeric))\n",
        "\n",
        "            ts_list.append(ts_numeric)\n",
        "            metadata_list.append({\n",
        "                'id': local_id,\n",
        "                'device_id': device_id,\n",
        "                'analysis_date': label_date,\n",
        "                'flag_call': flag_call\n",
        "            })\n",
        "\n",
        "        df_ts = pd.concat(ts_list, ignore_index=True)\n",
        "        metadata_df = pd.DataFrame(metadata_list)\n",
        "\n",
        "        # Run TSFRESH\n",
        "        features = extract_features(\n",
        "            df_ts,\n",
        "            column_id='id',\n",
        "            column_sort='time',\n",
        "            default_fc_parameters=MinimalFCParameters(),\n",
        "            disable_progressbar=False,\n",
        "            n_jobs=1\n",
        "        )\n",
        "\n",
        "        impute(features)\n",
        "\n",
        "        features = features.reset_index().rename(columns={'index': 'id'})\n",
        "        features = features.merge(metadata_df, on='id', how='left').drop(columns=['id'])\n",
        "\n",
        "        all_features.append(features)\n",
        "\n",
        "        if verbose:\n",
        "            print(f\" Processed chunk {batch_start // chunk_size + 1} \"\n",
        "                  f\"of {int(np.ceil(len(rolling_windows) / chunk_size))} → {features.shape}\")\n",
        "\n",
        "    return pd.concat(all_features, ignore_index=True)\n"
      ],
      "metadata": {
        "id": "LqdkKvbUbHaI"
      },
      "execution_count": null,
      "outputs": []
    },
    {
      "cell_type": "code",
      "source": [
        "df_tsfresh_train = generate_tsfresh_features_chunked(rolling_windows_train_balanced)\n",
        "\n",
        "print(\"Train:\", df_tsfresh_train.shape)\n",
        "\n",
        "del rolling_windows_train_balanced\n",
        "\n",
        "gc.collect()"
      ],
      "metadata": {
        "id": "fHkVwaYgtXLJ",
        "colab": {
          "base_uri": "https://localhost:8080/"
        },
        "outputId": "04e5af64-eea6-4f24-cfa3-6ccca8da931b"
      },
      "execution_count": null,
      "outputs": [
        {
          "output_type": "stream",
          "name": "stderr",
          "text": [
            "WARNING:tsfresh.feature_extraction.settings:Dependency not available for matrix_profile, this feature will be disabled!\n",
            "Feature Extraction: 100%|██████████| 42500/42500 [00:08<00:00, 4947.49it/s]\n"
          ]
        },
        {
          "output_type": "stream",
          "name": "stdout",
          "text": [
            " Processed chunk 1 of 38 → (500, 853)\n"
          ]
        },
        {
          "output_type": "stream",
          "name": "stderr",
          "text": [
            "WARNING:tsfresh.feature_extraction.settings:Dependency not available for matrix_profile, this feature will be disabled!\n",
            "Feature Extraction: 100%|██████████| 42500/42500 [00:08<00:00, 5013.42it/s]\n"
          ]
        },
        {
          "output_type": "stream",
          "name": "stdout",
          "text": [
            " Processed chunk 2 of 38 → (500, 853)\n"
          ]
        },
        {
          "output_type": "stream",
          "name": "stderr",
          "text": [
            "WARNING:tsfresh.feature_extraction.settings:Dependency not available for matrix_profile, this feature will be disabled!\n",
            "Feature Extraction: 100%|██████████| 42500/42500 [00:08<00:00, 4973.74it/s]\n"
          ]
        },
        {
          "output_type": "stream",
          "name": "stdout",
          "text": [
            " Processed chunk 3 of 38 → (500, 853)\n"
          ]
        },
        {
          "output_type": "stream",
          "name": "stderr",
          "text": [
            "WARNING:tsfresh.feature_extraction.settings:Dependency not available for matrix_profile, this feature will be disabled!\n",
            "Feature Extraction: 100%|██████████| 42500/42500 [00:09<00:00, 4408.35it/s]\n"
          ]
        },
        {
          "output_type": "stream",
          "name": "stdout",
          "text": [
            " Processed chunk 4 of 38 → (500, 853)\n"
          ]
        },
        {
          "output_type": "stream",
          "name": "stderr",
          "text": [
            "WARNING:tsfresh.feature_extraction.settings:Dependency not available for matrix_profile, this feature will be disabled!\n",
            "Feature Extraction: 100%|██████████| 42500/42500 [00:08<00:00, 5000.27it/s]\n"
          ]
        },
        {
          "output_type": "stream",
          "name": "stdout",
          "text": [
            " Processed chunk 5 of 38 → (500, 853)\n"
          ]
        },
        {
          "output_type": "stream",
          "name": "stderr",
          "text": [
            "WARNING:tsfresh.feature_extraction.settings:Dependency not available for matrix_profile, this feature will be disabled!\n",
            "Feature Extraction: 100%|██████████| 42500/42500 [00:08<00:00, 4951.48it/s]\n"
          ]
        },
        {
          "output_type": "stream",
          "name": "stdout",
          "text": [
            " Processed chunk 6 of 38 → (500, 853)\n"
          ]
        },
        {
          "output_type": "stream",
          "name": "stderr",
          "text": [
            "WARNING:tsfresh.feature_extraction.settings:Dependency not available for matrix_profile, this feature will be disabled!\n",
            "Feature Extraction: 100%|██████████| 42500/42500 [00:08<00:00, 4947.66it/s]\n"
          ]
        },
        {
          "output_type": "stream",
          "name": "stdout",
          "text": [
            " Processed chunk 7 of 38 → (500, 853)\n"
          ]
        },
        {
          "output_type": "stream",
          "name": "stderr",
          "text": [
            "WARNING:tsfresh.feature_extraction.settings:Dependency not available for matrix_profile, this feature will be disabled!\n",
            "Feature Extraction: 100%|██████████| 42500/42500 [00:09<00:00, 4372.95it/s]\n"
          ]
        },
        {
          "output_type": "stream",
          "name": "stdout",
          "text": [
            " Processed chunk 8 of 38 → (500, 853)\n"
          ]
        },
        {
          "output_type": "stream",
          "name": "stderr",
          "text": [
            "WARNING:tsfresh.feature_extraction.settings:Dependency not available for matrix_profile, this feature will be disabled!\n",
            "Feature Extraction: 100%|██████████| 42500/42500 [00:08<00:00, 5067.30it/s]\n"
          ]
        },
        {
          "output_type": "stream",
          "name": "stdout",
          "text": [
            " Processed chunk 9 of 38 → (500, 853)\n"
          ]
        },
        {
          "output_type": "stream",
          "name": "stderr",
          "text": [
            "WARNING:tsfresh.feature_extraction.settings:Dependency not available for matrix_profile, this feature will be disabled!\n",
            "Feature Extraction: 100%|██████████| 42500/42500 [00:08<00:00, 4838.25it/s]\n"
          ]
        },
        {
          "output_type": "stream",
          "name": "stdout",
          "text": [
            " Processed chunk 10 of 38 → (500, 853)\n"
          ]
        },
        {
          "output_type": "stream",
          "name": "stderr",
          "text": [
            "WARNING:tsfresh.feature_extraction.settings:Dependency not available for matrix_profile, this feature will be disabled!\n",
            "Feature Extraction: 100%|██████████| 42500/42500 [00:08<00:00, 4942.93it/s]\n"
          ]
        },
        {
          "output_type": "stream",
          "name": "stdout",
          "text": [
            " Processed chunk 11 of 38 → (500, 853)\n"
          ]
        },
        {
          "output_type": "stream",
          "name": "stderr",
          "text": [
            "WARNING:tsfresh.feature_extraction.settings:Dependency not available for matrix_profile, this feature will be disabled!\n",
            "Feature Extraction: 100%|██████████| 42500/42500 [00:09<00:00, 4328.91it/s]\n"
          ]
        },
        {
          "output_type": "stream",
          "name": "stdout",
          "text": [
            " Processed chunk 12 of 38 → (500, 853)\n"
          ]
        },
        {
          "output_type": "stream",
          "name": "stderr",
          "text": [
            "WARNING:tsfresh.feature_extraction.settings:Dependency not available for matrix_profile, this feature will be disabled!\n",
            "Feature Extraction: 100%|██████████| 42500/42500 [00:08<00:00, 4894.35it/s]\n"
          ]
        },
        {
          "output_type": "stream",
          "name": "stdout",
          "text": [
            " Processed chunk 13 of 38 → (500, 853)\n"
          ]
        },
        {
          "output_type": "stream",
          "name": "stderr",
          "text": [
            "WARNING:tsfresh.feature_extraction.settings:Dependency not available for matrix_profile, this feature will be disabled!\n",
            "Feature Extraction: 100%|██████████| 42500/42500 [00:08<00:00, 4924.35it/s]\n"
          ]
        },
        {
          "output_type": "stream",
          "name": "stdout",
          "text": [
            " Processed chunk 14 of 38 → (500, 853)\n"
          ]
        },
        {
          "output_type": "stream",
          "name": "stderr",
          "text": [
            "WARNING:tsfresh.feature_extraction.settings:Dependency not available for matrix_profile, this feature will be disabled!\n",
            "Feature Extraction: 100%|██████████| 42500/42500 [00:08<00:00, 4945.11it/s]\n"
          ]
        },
        {
          "output_type": "stream",
          "name": "stdout",
          "text": [
            " Processed chunk 15 of 38 → (500, 853)\n"
          ]
        },
        {
          "output_type": "stream",
          "name": "stderr",
          "text": [
            "WARNING:tsfresh.feature_extraction.settings:Dependency not available for matrix_profile, this feature will be disabled!\n",
            "Feature Extraction: 100%|██████████| 42500/42500 [00:08<00:00, 5003.09it/s]\n"
          ]
        },
        {
          "output_type": "stream",
          "name": "stdout",
          "text": [
            " Processed chunk 16 of 38 → (500, 853)\n"
          ]
        },
        {
          "output_type": "stream",
          "name": "stderr",
          "text": [
            "WARNING:tsfresh.feature_extraction.settings:Dependency not available for matrix_profile, this feature will be disabled!\n",
            "Feature Extraction: 100%|██████████| 42500/42500 [00:08<00:00, 4951.28it/s]\n"
          ]
        },
        {
          "output_type": "stream",
          "name": "stdout",
          "text": [
            " Processed chunk 17 of 38 → (500, 853)\n"
          ]
        },
        {
          "output_type": "stream",
          "name": "stderr",
          "text": [
            "WARNING:tsfresh.feature_extraction.settings:Dependency not available for matrix_profile, this feature will be disabled!\n",
            "Feature Extraction: 100%|██████████| 42500/42500 [00:08<00:00, 4854.11it/s]\n"
          ]
        },
        {
          "output_type": "stream",
          "name": "stdout",
          "text": [
            " Processed chunk 18 of 38 → (500, 853)\n"
          ]
        },
        {
          "output_type": "stream",
          "name": "stderr",
          "text": [
            "WARNING:tsfresh.feature_extraction.settings:Dependency not available for matrix_profile, this feature will be disabled!\n",
            "Feature Extraction: 100%|██████████| 42500/42500 [00:08<00:00, 4942.66it/s]\n"
          ]
        },
        {
          "output_type": "stream",
          "name": "stdout",
          "text": [
            " Processed chunk 19 of 38 → (500, 853)\n"
          ]
        },
        {
          "output_type": "stream",
          "name": "stderr",
          "text": [
            "WARNING:tsfresh.feature_extraction.settings:Dependency not available for matrix_profile, this feature will be disabled!\n",
            "Feature Extraction: 100%|██████████| 42500/42500 [00:11<00:00, 3736.73it/s]\n"
          ]
        },
        {
          "output_type": "stream",
          "name": "stdout",
          "text": [
            " Processed chunk 20 of 38 → (500, 853)\n"
          ]
        },
        {
          "output_type": "stream",
          "name": "stderr",
          "text": [
            "WARNING:tsfresh.feature_extraction.settings:Dependency not available for matrix_profile, this feature will be disabled!\n",
            "Feature Extraction: 100%|██████████| 42500/42500 [00:08<00:00, 4931.23it/s]\n"
          ]
        },
        {
          "output_type": "stream",
          "name": "stdout",
          "text": [
            " Processed chunk 21 of 38 → (500, 853)\n"
          ]
        },
        {
          "output_type": "stream",
          "name": "stderr",
          "text": [
            "WARNING:tsfresh.feature_extraction.settings:Dependency not available for matrix_profile, this feature will be disabled!\n",
            "Feature Extraction: 100%|██████████| 42500/42500 [00:08<00:00, 4902.95it/s]\n"
          ]
        },
        {
          "output_type": "stream",
          "name": "stdout",
          "text": [
            " Processed chunk 22 of 38 → (500, 853)\n"
          ]
        },
        {
          "output_type": "stream",
          "name": "stderr",
          "text": [
            "WARNING:tsfresh.feature_extraction.settings:Dependency not available for matrix_profile, this feature will be disabled!\n",
            "Feature Extraction: 100%|██████████| 42500/42500 [00:08<00:00, 4957.97it/s]\n"
          ]
        },
        {
          "output_type": "stream",
          "name": "stdout",
          "text": [
            " Processed chunk 23 of 38 → (500, 853)\n"
          ]
        },
        {
          "output_type": "stream",
          "name": "stderr",
          "text": [
            "WARNING:tsfresh.feature_extraction.settings:Dependency not available for matrix_profile, this feature will be disabled!\n",
            "Feature Extraction: 100%|██████████| 42500/42500 [00:09<00:00, 4267.49it/s]\n"
          ]
        },
        {
          "output_type": "stream",
          "name": "stdout",
          "text": [
            " Processed chunk 24 of 38 → (500, 853)\n"
          ]
        },
        {
          "output_type": "stream",
          "name": "stderr",
          "text": [
            "WARNING:tsfresh.feature_extraction.settings:Dependency not available for matrix_profile, this feature will be disabled!\n",
            "Feature Extraction: 100%|██████████| 42500/42500 [00:08<00:00, 4899.60it/s]\n"
          ]
        },
        {
          "output_type": "stream",
          "name": "stdout",
          "text": [
            " Processed chunk 25 of 38 → (500, 853)\n"
          ]
        },
        {
          "output_type": "stream",
          "name": "stderr",
          "text": [
            "WARNING:tsfresh.feature_extraction.settings:Dependency not available for matrix_profile, this feature will be disabled!\n",
            "Feature Extraction: 100%|██████████| 42500/42500 [00:08<00:00, 4986.24it/s]\n"
          ]
        },
        {
          "output_type": "stream",
          "name": "stdout",
          "text": [
            " Processed chunk 26 of 38 → (500, 853)\n"
          ]
        },
        {
          "output_type": "stream",
          "name": "stderr",
          "text": [
            "WARNING:tsfresh.feature_extraction.settings:Dependency not available for matrix_profile, this feature will be disabled!\n",
            "Feature Extraction: 100%|██████████| 42500/42500 [00:08<00:00, 4891.53it/s]\n"
          ]
        },
        {
          "output_type": "stream",
          "name": "stdout",
          "text": [
            " Processed chunk 27 of 38 → (500, 853)\n"
          ]
        },
        {
          "output_type": "stream",
          "name": "stderr",
          "text": [
            "WARNING:tsfresh.feature_extraction.settings:Dependency not available for matrix_profile, this feature will be disabled!\n",
            "Feature Extraction: 100%|██████████| 42500/42500 [00:09<00:00, 4297.84it/s]\n"
          ]
        },
        {
          "output_type": "stream",
          "name": "stdout",
          "text": [
            " Processed chunk 28 of 38 → (500, 853)\n"
          ]
        },
        {
          "output_type": "stream",
          "name": "stderr",
          "text": [
            "WARNING:tsfresh.feature_extraction.settings:Dependency not available for matrix_profile, this feature will be disabled!\n",
            "Feature Extraction: 100%|██████████| 42500/42500 [00:08<00:00, 5015.08it/s]\n"
          ]
        },
        {
          "output_type": "stream",
          "name": "stdout",
          "text": [
            " Processed chunk 29 of 38 → (500, 853)\n"
          ]
        },
        {
          "output_type": "stream",
          "name": "stderr",
          "text": [
            "WARNING:tsfresh.feature_extraction.settings:Dependency not available for matrix_profile, this feature will be disabled!\n",
            "Feature Extraction: 100%|██████████| 42500/42500 [00:08<00:00, 4944.69it/s]\n"
          ]
        },
        {
          "output_type": "stream",
          "name": "stdout",
          "text": [
            " Processed chunk 30 of 38 → (500, 853)\n"
          ]
        },
        {
          "output_type": "stream",
          "name": "stderr",
          "text": [
            "WARNING:tsfresh.feature_extraction.settings:Dependency not available for matrix_profile, this feature will be disabled!\n",
            "Feature Extraction: 100%|██████████| 42500/42500 [00:08<00:00, 5008.54it/s]\n"
          ]
        },
        {
          "output_type": "stream",
          "name": "stdout",
          "text": [
            " Processed chunk 31 of 38 → (500, 853)\n"
          ]
        },
        {
          "output_type": "stream",
          "name": "stderr",
          "text": [
            "WARNING:tsfresh.feature_extraction.settings:Dependency not available for matrix_profile, this feature will be disabled!\n",
            "Feature Extraction: 100%|██████████| 42500/42500 [00:09<00:00, 4381.54it/s]\n"
          ]
        },
        {
          "output_type": "stream",
          "name": "stdout",
          "text": [
            " Processed chunk 32 of 38 → (500, 853)\n"
          ]
        },
        {
          "output_type": "stream",
          "name": "stderr",
          "text": [
            "WARNING:tsfresh.feature_extraction.settings:Dependency not available for matrix_profile, this feature will be disabled!\n",
            "Feature Extraction: 100%|██████████| 42500/42500 [00:08<00:00, 4886.19it/s]\n"
          ]
        },
        {
          "output_type": "stream",
          "name": "stdout",
          "text": [
            " Processed chunk 33 of 38 → (500, 853)\n"
          ]
        },
        {
          "output_type": "stream",
          "name": "stderr",
          "text": [
            "WARNING:tsfresh.feature_extraction.settings:Dependency not available for matrix_profile, this feature will be disabled!\n",
            "Feature Extraction: 100%|██████████| 42500/42500 [00:08<00:00, 4979.47it/s]\n"
          ]
        },
        {
          "output_type": "stream",
          "name": "stdout",
          "text": [
            " Processed chunk 34 of 38 → (500, 853)\n"
          ]
        },
        {
          "output_type": "stream",
          "name": "stderr",
          "text": [
            "WARNING:tsfresh.feature_extraction.settings:Dependency not available for matrix_profile, this feature will be disabled!\n",
            "Feature Extraction: 100%|██████████| 42500/42500 [00:08<00:00, 4965.73it/s]\n"
          ]
        },
        {
          "output_type": "stream",
          "name": "stdout",
          "text": [
            " Processed chunk 35 of 38 → (500, 853)\n"
          ]
        },
        {
          "output_type": "stream",
          "name": "stderr",
          "text": [
            "WARNING:tsfresh.feature_extraction.settings:Dependency not available for matrix_profile, this feature will be disabled!\n",
            "Feature Extraction: 100%|██████████| 42500/42500 [00:09<00:00, 4311.84it/s]\n"
          ]
        },
        {
          "output_type": "stream",
          "name": "stdout",
          "text": [
            " Processed chunk 36 of 38 → (500, 853)\n"
          ]
        },
        {
          "output_type": "stream",
          "name": "stderr",
          "text": [
            "WARNING:tsfresh.feature_extraction.settings:Dependency not available for matrix_profile, this feature will be disabled!\n",
            "Feature Extraction: 100%|██████████| 42500/42500 [00:08<00:00, 4989.75it/s]\n",
            "WARNING:tsfresh.feature_extraction.settings:Dependency not available for matrix_profile, this feature will be disabled!\n"
          ]
        },
        {
          "output_type": "stream",
          "name": "stdout",
          "text": [
            " Processed chunk 37 of 38 → (500, 853)\n"
          ]
        },
        {
          "output_type": "stream",
          "name": "stderr",
          "text": [
            "Feature Extraction: 100%|██████████| 6970/6970 [00:01<00:00, 4818.70it/s]\n"
          ]
        },
        {
          "output_type": "stream",
          "name": "stdout",
          "text": [
            " Processed chunk 38 of 38 → (82, 853)\n",
            "Train: (18582, 853)\n"
          ]
        },
        {
          "output_type": "execute_result",
          "data": {
            "text/plain": [
              "0"
            ]
          },
          "metadata": {},
          "execution_count": 101
        }
      ]
    },
    {
      "cell_type": "code",
      "source": [
        "df_tsfresh_val = generate_tsfresh_features_chunked(rolling_windows_val_sampled, chunk_size=500)\n",
        "\n",
        "print(\"Val:  \", df_tsfresh_val.shape)\n",
        "\n",
        "del rolling_windows_val_sampled\n",
        "\n",
        "gc.collect()"
      ],
      "metadata": {
        "id": "nQyMuZ2Co3NH",
        "colab": {
          "base_uri": "https://localhost:8080/"
        },
        "outputId": "e60303d5-ef13-4b74-d70a-45a15cc4e6f7"
      },
      "execution_count": null,
      "outputs": [
        {
          "output_type": "stream",
          "name": "stderr",
          "text": [
            "WARNING:tsfresh.feature_extraction.settings:Dependency not available for matrix_profile, this feature will be disabled!\n",
            "Feature Extraction: 100%|██████████| 42500/42500 [00:08<00:00, 5000.12it/s]\n"
          ]
        },
        {
          "output_type": "stream",
          "name": "stdout",
          "text": [
            " Processed chunk 1 of 30 → (500, 853)\n"
          ]
        },
        {
          "output_type": "stream",
          "name": "stderr",
          "text": [
            "WARNING:tsfresh.feature_extraction.settings:Dependency not available for matrix_profile, this feature will be disabled!\n",
            "Feature Extraction: 100%|██████████| 42500/42500 [00:08<00:00, 5039.43it/s]\n"
          ]
        },
        {
          "output_type": "stream",
          "name": "stdout",
          "text": [
            " Processed chunk 2 of 30 → (500, 853)\n"
          ]
        },
        {
          "output_type": "stream",
          "name": "stderr",
          "text": [
            "WARNING:tsfresh.feature_extraction.settings:Dependency not available for matrix_profile, this feature will be disabled!\n",
            "Feature Extraction: 100%|██████████| 42500/42500 [00:16<00:00, 2605.14it/s]\n"
          ]
        },
        {
          "output_type": "stream",
          "name": "stdout",
          "text": [
            " Processed chunk 3 of 30 → (500, 853)\n"
          ]
        },
        {
          "output_type": "stream",
          "name": "stderr",
          "text": [
            "WARNING:tsfresh.feature_extraction.settings:Dependency not available for matrix_profile, this feature will be disabled!\n",
            "Feature Extraction: 100%|██████████| 42500/42500 [00:19<00:00, 2131.37it/s]\n"
          ]
        },
        {
          "output_type": "stream",
          "name": "stdout",
          "text": [
            " Processed chunk 4 of 30 → (500, 853)\n"
          ]
        },
        {
          "output_type": "stream",
          "name": "stderr",
          "text": [
            "WARNING:tsfresh.feature_extraction.settings:Dependency not available for matrix_profile, this feature will be disabled!\n",
            "Feature Extraction: 100%|██████████| 42500/42500 [00:08<00:00, 4939.68it/s]\n"
          ]
        },
        {
          "output_type": "stream",
          "name": "stdout",
          "text": [
            " Processed chunk 5 of 30 → (500, 853)\n"
          ]
        },
        {
          "output_type": "stream",
          "name": "stderr",
          "text": [
            "WARNING:tsfresh.feature_extraction.settings:Dependency not available for matrix_profile, this feature will be disabled!\n",
            "Feature Extraction: 100%|██████████| 42500/42500 [00:09<00:00, 4437.70it/s]\n"
          ]
        },
        {
          "output_type": "stream",
          "name": "stdout",
          "text": [
            " Processed chunk 6 of 30 → (500, 853)\n"
          ]
        },
        {
          "output_type": "stream",
          "name": "stderr",
          "text": [
            "WARNING:tsfresh.feature_extraction.settings:Dependency not available for matrix_profile, this feature will be disabled!\n",
            "Feature Extraction: 100%|██████████| 42500/42500 [00:09<00:00, 4508.74it/s]\n"
          ]
        },
        {
          "output_type": "stream",
          "name": "stdout",
          "text": [
            " Processed chunk 7 of 30 → (500, 853)\n"
          ]
        },
        {
          "output_type": "stream",
          "name": "stderr",
          "text": [
            "WARNING:tsfresh.feature_extraction.settings:Dependency not available for matrix_profile, this feature will be disabled!\n",
            "Feature Extraction: 100%|██████████| 42500/42500 [00:08<00:00, 5003.74it/s]\n"
          ]
        },
        {
          "output_type": "stream",
          "name": "stdout",
          "text": [
            " Processed chunk 8 of 30 → (500, 853)\n"
          ]
        },
        {
          "output_type": "stream",
          "name": "stderr",
          "text": [
            "WARNING:tsfresh.feature_extraction.settings:Dependency not available for matrix_profile, this feature will be disabled!\n",
            "Feature Extraction: 100%|██████████| 42500/42500 [00:08<00:00, 4920.11it/s]\n"
          ]
        },
        {
          "output_type": "stream",
          "name": "stdout",
          "text": [
            " Processed chunk 9 of 30 → (500, 853)\n"
          ]
        },
        {
          "output_type": "stream",
          "name": "stderr",
          "text": [
            "WARNING:tsfresh.feature_extraction.settings:Dependency not available for matrix_profile, this feature will be disabled!\n",
            "Feature Extraction: 100%|██████████| 42500/42500 [00:09<00:00, 4505.59it/s]\n"
          ]
        },
        {
          "output_type": "stream",
          "name": "stdout",
          "text": [
            " Processed chunk 10 of 30 → (500, 853)\n"
          ]
        },
        {
          "output_type": "stream",
          "name": "stderr",
          "text": [
            "WARNING:tsfresh.feature_extraction.settings:Dependency not available for matrix_profile, this feature will be disabled!\n",
            "Feature Extraction: 100%|██████████| 42500/42500 [00:08<00:00, 4961.53it/s]\n"
          ]
        },
        {
          "output_type": "stream",
          "name": "stdout",
          "text": [
            " Processed chunk 11 of 30 → (500, 853)\n"
          ]
        },
        {
          "output_type": "stream",
          "name": "stderr",
          "text": [
            "WARNING:tsfresh.feature_extraction.settings:Dependency not available for matrix_profile, this feature will be disabled!\n",
            "Feature Extraction: 100%|██████████| 42500/42500 [00:08<00:00, 4995.20it/s]\n"
          ]
        },
        {
          "output_type": "stream",
          "name": "stdout",
          "text": [
            " Processed chunk 12 of 30 → (500, 853)\n"
          ]
        },
        {
          "output_type": "stream",
          "name": "stderr",
          "text": [
            "WARNING:tsfresh.feature_extraction.settings:Dependency not available for matrix_profile, this feature will be disabled!\n",
            "Feature Extraction: 100%|██████████| 42500/42500 [00:09<00:00, 4569.15it/s]\n"
          ]
        },
        {
          "output_type": "stream",
          "name": "stdout",
          "text": [
            " Processed chunk 13 of 30 → (500, 853)\n"
          ]
        },
        {
          "output_type": "stream",
          "name": "stderr",
          "text": [
            "WARNING:tsfresh.feature_extraction.settings:Dependency not available for matrix_profile, this feature will be disabled!\n",
            "Feature Extraction: 100%|██████████| 42500/42500 [00:08<00:00, 5041.11it/s]\n"
          ]
        },
        {
          "output_type": "stream",
          "name": "stdout",
          "text": [
            " Processed chunk 14 of 30 → (500, 853)\n"
          ]
        },
        {
          "output_type": "stream",
          "name": "stderr",
          "text": [
            "WARNING:tsfresh.feature_extraction.settings:Dependency not available for matrix_profile, this feature will be disabled!\n",
            "Feature Extraction: 100%|██████████| 42500/42500 [00:08<00:00, 5002.44it/s]\n"
          ]
        },
        {
          "output_type": "stream",
          "name": "stdout",
          "text": [
            " Processed chunk 15 of 30 → (500, 853)\n"
          ]
        },
        {
          "output_type": "stream",
          "name": "stderr",
          "text": [
            "WARNING:tsfresh.feature_extraction.settings:Dependency not available for matrix_profile, this feature will be disabled!\n",
            "Feature Extraction: 100%|██████████| 42500/42500 [00:08<00:00, 4939.99it/s]\n"
          ]
        },
        {
          "output_type": "stream",
          "name": "stdout",
          "text": [
            " Processed chunk 16 of 30 → (500, 853)\n"
          ]
        },
        {
          "output_type": "stream",
          "name": "stderr",
          "text": [
            "WARNING:tsfresh.feature_extraction.settings:Dependency not available for matrix_profile, this feature will be disabled!\n",
            "Feature Extraction: 100%|██████████| 42500/42500 [00:08<00:00, 4986.62it/s]\n"
          ]
        },
        {
          "output_type": "stream",
          "name": "stdout",
          "text": [
            " Processed chunk 17 of 30 → (500, 853)\n"
          ]
        },
        {
          "output_type": "stream",
          "name": "stderr",
          "text": [
            "WARNING:tsfresh.feature_extraction.settings:Dependency not available for matrix_profile, this feature will be disabled!\n",
            "Feature Extraction: 100%|██████████| 42500/42500 [00:09<00:00, 4558.50it/s]\n"
          ]
        },
        {
          "output_type": "stream",
          "name": "stdout",
          "text": [
            " Processed chunk 18 of 30 → (500, 853)\n"
          ]
        },
        {
          "output_type": "stream",
          "name": "stderr",
          "text": [
            "WARNING:tsfresh.feature_extraction.settings:Dependency not available for matrix_profile, this feature will be disabled!\n",
            "Feature Extraction: 100%|██████████| 42500/42500 [00:08<00:00, 4905.56it/s]\n"
          ]
        },
        {
          "output_type": "stream",
          "name": "stdout",
          "text": [
            " Processed chunk 19 of 30 → (500, 853)\n"
          ]
        },
        {
          "output_type": "stream",
          "name": "stderr",
          "text": [
            "WARNING:tsfresh.feature_extraction.settings:Dependency not available for matrix_profile, this feature will be disabled!\n",
            "Feature Extraction: 100%|██████████| 42500/42500 [00:08<00:00, 4895.26it/s]\n"
          ]
        },
        {
          "output_type": "stream",
          "name": "stdout",
          "text": [
            " Processed chunk 20 of 30 → (500, 853)\n"
          ]
        },
        {
          "output_type": "stream",
          "name": "stderr",
          "text": [
            "WARNING:tsfresh.feature_extraction.settings:Dependency not available for matrix_profile, this feature will be disabled!\n",
            "Feature Extraction: 100%|██████████| 42500/42500 [00:08<00:00, 4926.75it/s]\n"
          ]
        },
        {
          "output_type": "stream",
          "name": "stdout",
          "text": [
            " Processed chunk 21 of 30 → (500, 853)\n"
          ]
        },
        {
          "output_type": "stream",
          "name": "stderr",
          "text": [
            "WARNING:tsfresh.feature_extraction.settings:Dependency not available for matrix_profile, this feature will be disabled!\n",
            "Feature Extraction: 100%|██████████| 42500/42500 [00:08<00:00, 4957.71it/s]\n"
          ]
        },
        {
          "output_type": "stream",
          "name": "stdout",
          "text": [
            " Processed chunk 22 of 30 → (500, 853)\n"
          ]
        },
        {
          "output_type": "stream",
          "name": "stderr",
          "text": [
            "WARNING:tsfresh.feature_extraction.settings:Dependency not available for matrix_profile, this feature will be disabled!\n",
            "Feature Extraction: 100%|██████████| 42500/42500 [00:08<00:00, 4984.11it/s]\n"
          ]
        },
        {
          "output_type": "stream",
          "name": "stdout",
          "text": [
            " Processed chunk 23 of 30 → (500, 853)\n"
          ]
        },
        {
          "output_type": "stream",
          "name": "stderr",
          "text": [
            "WARNING:tsfresh.feature_extraction.settings:Dependency not available for matrix_profile, this feature will be disabled!\n",
            "Feature Extraction: 100%|██████████| 42500/42500 [00:08<00:00, 5005.61it/s]\n"
          ]
        },
        {
          "output_type": "stream",
          "name": "stdout",
          "text": [
            " Processed chunk 24 of 30 → (500, 853)\n"
          ]
        },
        {
          "output_type": "stream",
          "name": "stderr",
          "text": [
            "WARNING:tsfresh.feature_extraction.settings:Dependency not available for matrix_profile, this feature will be disabled!\n",
            "Feature Extraction: 100%|██████████| 42500/42500 [00:08<00:00, 5061.62it/s]\n"
          ]
        },
        {
          "output_type": "stream",
          "name": "stdout",
          "text": [
            " Processed chunk 25 of 30 → (500, 853)\n"
          ]
        },
        {
          "output_type": "stream",
          "name": "stderr",
          "text": [
            "WARNING:tsfresh.feature_extraction.settings:Dependency not available for matrix_profile, this feature will be disabled!\n",
            "Feature Extraction: 100%|██████████| 42500/42500 [00:09<00:00, 4532.74it/s]\n"
          ]
        },
        {
          "output_type": "stream",
          "name": "stdout",
          "text": [
            " Processed chunk 26 of 30 → (500, 853)\n"
          ]
        },
        {
          "output_type": "stream",
          "name": "stderr",
          "text": [
            "WARNING:tsfresh.feature_extraction.settings:Dependency not available for matrix_profile, this feature will be disabled!\n",
            "Feature Extraction: 100%|██████████| 42500/42500 [00:08<00:00, 4965.85it/s]\n"
          ]
        },
        {
          "output_type": "stream",
          "name": "stdout",
          "text": [
            " Processed chunk 27 of 30 → (500, 853)\n"
          ]
        },
        {
          "output_type": "stream",
          "name": "stderr",
          "text": [
            "WARNING:tsfresh.feature_extraction.settings:Dependency not available for matrix_profile, this feature will be disabled!\n",
            "Feature Extraction: 100%|██████████| 42500/42500 [00:08<00:00, 4992.89it/s]\n"
          ]
        },
        {
          "output_type": "stream",
          "name": "stdout",
          "text": [
            " Processed chunk 28 of 30 → (500, 853)\n"
          ]
        },
        {
          "output_type": "stream",
          "name": "stderr",
          "text": [
            "WARNING:tsfresh.feature_extraction.settings:Dependency not available for matrix_profile, this feature will be disabled!\n",
            "Feature Extraction: 100%|██████████| 42500/42500 [00:08<00:00, 4903.72it/s]\n",
            "WARNING:tsfresh.feature_extraction.settings:Dependency not available for matrix_profile, this feature will be disabled!\n"
          ]
        },
        {
          "output_type": "stream",
          "name": "stdout",
          "text": [
            " Processed chunk 29 of 30 → (500, 853)\n"
          ]
        },
        {
          "output_type": "stream",
          "name": "stderr",
          "text": [
            "Feature Extraction: 100%|██████████| 25415/25415 [00:05<00:00, 4975.72it/s]\n"
          ]
        },
        {
          "output_type": "stream",
          "name": "stdout",
          "text": [
            " Processed chunk 30 of 30 → (299, 853)\n",
            "Val:   (14799, 853)\n"
          ]
        },
        {
          "output_type": "execute_result",
          "data": {
            "text/plain": [
              "0"
            ]
          },
          "metadata": {},
          "execution_count": 102
        }
      ]
    },
    {
      "cell_type": "code",
      "source": [
        "df_tsfresh_test  = generate_tsfresh_features_chunked(rolling_windows_test_sampled, chunk_size = 500)\n",
        "\n",
        "print(\"Test: \", df_tsfresh_test.shape)\n",
        "\n",
        "del rolling_windows_test_sampled\n",
        "\n",
        "gc.collect()"
      ],
      "metadata": {
        "id": "KapXplOuo4YJ",
        "colab": {
          "base_uri": "https://localhost:8080/"
        },
        "outputId": "e4b5bcb8-a6ca-4e36-cbe7-3ab350ffa9cb"
      },
      "execution_count": null,
      "outputs": [
        {
          "output_type": "stream",
          "name": "stderr",
          "text": [
            "WARNING:tsfresh.feature_extraction.settings:Dependency not available for matrix_profile, this feature will be disabled!\n",
            "Feature Extraction: 100%|██████████| 42500/42500 [00:08<00:00, 5064.39it/s]\n"
          ]
        },
        {
          "output_type": "stream",
          "name": "stdout",
          "text": [
            " Processed chunk 1 of 30 → (500, 853)\n"
          ]
        },
        {
          "output_type": "stream",
          "name": "stderr",
          "text": [
            "WARNING:tsfresh.feature_extraction.settings:Dependency not available for matrix_profile, this feature will be disabled!\n",
            "Feature Extraction: 100%|██████████| 42500/42500 [00:11<00:00, 3723.93it/s]\n"
          ]
        },
        {
          "output_type": "stream",
          "name": "stdout",
          "text": [
            " Processed chunk 2 of 30 → (500, 853)\n"
          ]
        },
        {
          "output_type": "stream",
          "name": "stderr",
          "text": [
            "WARNING:tsfresh.feature_extraction.settings:Dependency not available for matrix_profile, this feature will be disabled!\n",
            "Feature Extraction: 100%|██████████| 42500/42500 [00:09<00:00, 4640.77it/s]\n"
          ]
        },
        {
          "output_type": "stream",
          "name": "stdout",
          "text": [
            " Processed chunk 3 of 30 → (500, 853)\n"
          ]
        },
        {
          "output_type": "stream",
          "name": "stderr",
          "text": [
            "WARNING:tsfresh.feature_extraction.settings:Dependency not available for matrix_profile, this feature will be disabled!\n",
            "Feature Extraction: 100%|██████████| 42500/42500 [00:08<00:00, 4870.73it/s]\n"
          ]
        },
        {
          "output_type": "stream",
          "name": "stdout",
          "text": [
            " Processed chunk 4 of 30 → (500, 853)\n"
          ]
        },
        {
          "output_type": "stream",
          "name": "stderr",
          "text": [
            "WARNING:tsfresh.feature_extraction.settings:Dependency not available for matrix_profile, this feature will be disabled!\n",
            "Feature Extraction: 100%|██████████| 42500/42500 [00:08<00:00, 4933.78it/s]\n"
          ]
        },
        {
          "output_type": "stream",
          "name": "stdout",
          "text": [
            " Processed chunk 5 of 30 → (500, 853)\n"
          ]
        },
        {
          "output_type": "stream",
          "name": "stderr",
          "text": [
            "WARNING:tsfresh.feature_extraction.settings:Dependency not available for matrix_profile, this feature will be disabled!\n",
            "Feature Extraction: 100%|██████████| 42500/42500 [00:08<00:00, 5014.90it/s]\n"
          ]
        },
        {
          "output_type": "stream",
          "name": "stdout",
          "text": [
            " Processed chunk 6 of 30 → (500, 853)\n"
          ]
        },
        {
          "output_type": "stream",
          "name": "stderr",
          "text": [
            "WARNING:tsfresh.feature_extraction.settings:Dependency not available for matrix_profile, this feature will be disabled!\n",
            "Feature Extraction: 100%|██████████| 42500/42500 [00:08<00:00, 4894.11it/s]\n"
          ]
        },
        {
          "output_type": "stream",
          "name": "stdout",
          "text": [
            " Processed chunk 7 of 30 → (500, 853)\n"
          ]
        },
        {
          "output_type": "stream",
          "name": "stderr",
          "text": [
            "WARNING:tsfresh.feature_extraction.settings:Dependency not available for matrix_profile, this feature will be disabled!\n",
            "Feature Extraction: 100%|██████████| 42500/42500 [00:09<00:00, 4636.51it/s]\n"
          ]
        },
        {
          "output_type": "stream",
          "name": "stdout",
          "text": [
            " Processed chunk 8 of 30 → (500, 853)\n"
          ]
        },
        {
          "output_type": "stream",
          "name": "stderr",
          "text": [
            "WARNING:tsfresh.feature_extraction.settings:Dependency not available for matrix_profile, this feature will be disabled!\n",
            "Feature Extraction: 100%|██████████| 42500/42500 [00:08<00:00, 5012.96it/s]\n"
          ]
        },
        {
          "output_type": "stream",
          "name": "stdout",
          "text": [
            " Processed chunk 9 of 30 → (500, 853)\n"
          ]
        },
        {
          "output_type": "stream",
          "name": "stderr",
          "text": [
            "WARNING:tsfresh.feature_extraction.settings:Dependency not available for matrix_profile, this feature will be disabled!\n",
            "Feature Extraction: 100%|██████████| 42500/42500 [00:08<00:00, 4985.55it/s]\n"
          ]
        },
        {
          "output_type": "stream",
          "name": "stdout",
          "text": [
            " Processed chunk 10 of 30 → (500, 853)\n"
          ]
        },
        {
          "output_type": "stream",
          "name": "stderr",
          "text": [
            "WARNING:tsfresh.feature_extraction.settings:Dependency not available for matrix_profile, this feature will be disabled!\n",
            "Feature Extraction: 100%|██████████| 42500/42500 [00:08<00:00, 4979.64it/s]\n"
          ]
        },
        {
          "output_type": "stream",
          "name": "stdout",
          "text": [
            " Processed chunk 11 of 30 → (500, 853)\n"
          ]
        },
        {
          "output_type": "stream",
          "name": "stderr",
          "text": [
            "WARNING:tsfresh.feature_extraction.settings:Dependency not available for matrix_profile, this feature will be disabled!\n",
            "Feature Extraction: 100%|██████████| 42500/42500 [00:08<00:00, 4955.43it/s]\n"
          ]
        },
        {
          "output_type": "stream",
          "name": "stdout",
          "text": [
            " Processed chunk 12 of 30 → (500, 853)\n"
          ]
        },
        {
          "output_type": "stream",
          "name": "stderr",
          "text": [
            "WARNING:tsfresh.feature_extraction.settings:Dependency not available for matrix_profile, this feature will be disabled!\n",
            "Feature Extraction: 100%|██████████| 42500/42500 [00:09<00:00, 4608.89it/s]\n"
          ]
        },
        {
          "output_type": "stream",
          "name": "stdout",
          "text": [
            " Processed chunk 13 of 30 → (500, 853)\n"
          ]
        },
        {
          "output_type": "stream",
          "name": "stderr",
          "text": [
            "WARNING:tsfresh.feature_extraction.settings:Dependency not available for matrix_profile, this feature will be disabled!\n",
            "Feature Extraction: 100%|██████████| 42500/42500 [00:08<00:00, 4795.15it/s]\n"
          ]
        },
        {
          "output_type": "stream",
          "name": "stdout",
          "text": [
            " Processed chunk 14 of 30 → (500, 853)\n"
          ]
        },
        {
          "output_type": "stream",
          "name": "stderr",
          "text": [
            "WARNING:tsfresh.feature_extraction.settings:Dependency not available for matrix_profile, this feature will be disabled!\n",
            "Feature Extraction: 100%|██████████| 42500/42500 [00:09<00:00, 4646.05it/s]\n"
          ]
        },
        {
          "output_type": "stream",
          "name": "stdout",
          "text": [
            " Processed chunk 15 of 30 → (500, 853)\n"
          ]
        },
        {
          "output_type": "stream",
          "name": "stderr",
          "text": [
            "WARNING:tsfresh.feature_extraction.settings:Dependency not available for matrix_profile, this feature will be disabled!\n",
            "Feature Extraction: 100%|██████████| 42500/42500 [00:08<00:00, 5063.10it/s]\n"
          ]
        },
        {
          "output_type": "stream",
          "name": "stdout",
          "text": [
            " Processed chunk 16 of 30 → (500, 853)\n"
          ]
        },
        {
          "output_type": "stream",
          "name": "stderr",
          "text": [
            "WARNING:tsfresh.feature_extraction.settings:Dependency not available for matrix_profile, this feature will be disabled!\n",
            "Feature Extraction: 100%|██████████| 42500/42500 [00:08<00:00, 4938.48it/s]\n"
          ]
        },
        {
          "output_type": "stream",
          "name": "stdout",
          "text": [
            " Processed chunk 17 of 30 → (500, 853)\n"
          ]
        },
        {
          "output_type": "stream",
          "name": "stderr",
          "text": [
            "WARNING:tsfresh.feature_extraction.settings:Dependency not available for matrix_profile, this feature will be disabled!\n",
            "Feature Extraction: 100%|██████████| 42500/42500 [00:09<00:00, 4545.10it/s]\n"
          ]
        },
        {
          "output_type": "stream",
          "name": "stdout",
          "text": [
            " Processed chunk 18 of 30 → (500, 853)\n"
          ]
        },
        {
          "output_type": "stream",
          "name": "stderr",
          "text": [
            "WARNING:tsfresh.feature_extraction.settings:Dependency not available for matrix_profile, this feature will be disabled!\n",
            "Feature Extraction: 100%|██████████| 42500/42500 [00:08<00:00, 4975.78it/s]\n"
          ]
        },
        {
          "output_type": "stream",
          "name": "stdout",
          "text": [
            " Processed chunk 19 of 30 → (500, 853)\n"
          ]
        },
        {
          "output_type": "stream",
          "name": "stderr",
          "text": [
            "WARNING:tsfresh.feature_extraction.settings:Dependency not available for matrix_profile, this feature will be disabled!\n",
            "Feature Extraction: 100%|██████████| 42500/42500 [00:09<00:00, 4614.95it/s]\n"
          ]
        },
        {
          "output_type": "stream",
          "name": "stdout",
          "text": [
            " Processed chunk 20 of 30 → (500, 853)\n"
          ]
        },
        {
          "output_type": "stream",
          "name": "stderr",
          "text": [
            "WARNING:tsfresh.feature_extraction.settings:Dependency not available for matrix_profile, this feature will be disabled!\n",
            "Feature Extraction: 100%|██████████| 42500/42500 [00:08<00:00, 4793.12it/s]\n"
          ]
        },
        {
          "output_type": "stream",
          "name": "stdout",
          "text": [
            " Processed chunk 21 of 30 → (500, 853)\n"
          ]
        },
        {
          "output_type": "stream",
          "name": "stderr",
          "text": [
            "WARNING:tsfresh.feature_extraction.settings:Dependency not available for matrix_profile, this feature will be disabled!\n",
            "Feature Extraction: 100%|██████████| 42500/42500 [00:08<00:00, 4970.34it/s]\n"
          ]
        },
        {
          "output_type": "stream",
          "name": "stdout",
          "text": [
            " Processed chunk 22 of 30 → (500, 853)\n"
          ]
        },
        {
          "output_type": "stream",
          "name": "stderr",
          "text": [
            "WARNING:tsfresh.feature_extraction.settings:Dependency not available for matrix_profile, this feature will be disabled!\n",
            "Feature Extraction: 100%|██████████| 42500/42500 [00:09<00:00, 4598.97it/s]\n"
          ]
        },
        {
          "output_type": "stream",
          "name": "stdout",
          "text": [
            " Processed chunk 23 of 30 → (500, 853)\n"
          ]
        },
        {
          "output_type": "stream",
          "name": "stderr",
          "text": [
            "WARNING:tsfresh.feature_extraction.settings:Dependency not available for matrix_profile, this feature will be disabled!\n",
            "Feature Extraction: 100%|██████████| 42500/42500 [00:08<00:00, 4968.00it/s]\n"
          ]
        },
        {
          "output_type": "stream",
          "name": "stdout",
          "text": [
            " Processed chunk 24 of 30 → (500, 853)\n"
          ]
        },
        {
          "output_type": "stream",
          "name": "stderr",
          "text": [
            "WARNING:tsfresh.feature_extraction.settings:Dependency not available for matrix_profile, this feature will be disabled!\n",
            "Feature Extraction: 100%|██████████| 42500/42500 [00:09<00:00, 4637.28it/s]\n"
          ]
        },
        {
          "output_type": "stream",
          "name": "stdout",
          "text": [
            " Processed chunk 25 of 30 → (500, 853)\n"
          ]
        },
        {
          "output_type": "stream",
          "name": "stderr",
          "text": [
            "WARNING:tsfresh.feature_extraction.settings:Dependency not available for matrix_profile, this feature will be disabled!\n",
            "Feature Extraction: 100%|██████████| 42500/42500 [00:08<00:00, 4912.31it/s]\n"
          ]
        },
        {
          "output_type": "stream",
          "name": "stdout",
          "text": [
            " Processed chunk 26 of 30 → (500, 853)\n"
          ]
        },
        {
          "output_type": "stream",
          "name": "stderr",
          "text": [
            "WARNING:tsfresh.feature_extraction.settings:Dependency not available for matrix_profile, this feature will be disabled!\n",
            "Feature Extraction: 100%|██████████| 42500/42500 [00:08<00:00, 4950.12it/s]\n"
          ]
        },
        {
          "output_type": "stream",
          "name": "stdout",
          "text": [
            " Processed chunk 27 of 30 → (500, 853)\n"
          ]
        },
        {
          "output_type": "stream",
          "name": "stderr",
          "text": [
            "WARNING:tsfresh.feature_extraction.settings:Dependency not available for matrix_profile, this feature will be disabled!\n",
            "Feature Extraction: 100%|██████████| 42500/42500 [00:08<00:00, 4992.60it/s]\n"
          ]
        },
        {
          "output_type": "stream",
          "name": "stdout",
          "text": [
            " Processed chunk 28 of 30 → (500, 853)\n"
          ]
        },
        {
          "output_type": "stream",
          "name": "stderr",
          "text": [
            "WARNING:tsfresh.feature_extraction.settings:Dependency not available for matrix_profile, this feature will be disabled!\n",
            "Feature Extraction: 100%|██████████| 42500/42500 [00:08<00:00, 4993.53it/s]\n",
            "WARNING:tsfresh.feature_extraction.settings:Dependency not available for matrix_profile, this feature will be disabled!\n"
          ]
        },
        {
          "output_type": "stream",
          "name": "stdout",
          "text": [
            " Processed chunk 29 of 30 → (500, 853)\n"
          ]
        },
        {
          "output_type": "stream",
          "name": "stderr",
          "text": [
            "Feature Extraction: 100%|██████████| 25415/25415 [00:05<00:00, 4946.01it/s]\n"
          ]
        },
        {
          "output_type": "stream",
          "name": "stdout",
          "text": [
            " Processed chunk 30 of 30 → (299, 853)\n",
            "Test:  (14799, 853)\n"
          ]
        },
        {
          "output_type": "execute_result",
          "data": {
            "text/plain": [
              "0"
            ]
          },
          "metadata": {},
          "execution_count": 103
        }
      ]
    },
    {
      "cell_type": "markdown",
      "source": [
        "## Features Selection"
      ],
      "metadata": {
        "id": "8OmDs1LnV9CW"
      }
    },
    {
      "cell_type": "code",
      "source": [
        "# Assign X and y\n",
        "feature_cols = [col for col in df_tsfresh_train.columns if col not in ['flag_call', 'device_id','analysis_date']]\n",
        "X_train = df_tsfresh_train[feature_cols]\n",
        "y_train = df_tsfresh_train['flag_call']\n",
        "\n",
        "X_val = df_tsfresh_val[feature_cols]\n",
        "y_val = df_tsfresh_val['flag_call']\n",
        "\n",
        "X_test = df_tsfresh_test[feature_cols]\n",
        "y_test = df_tsfresh_test['flag_call']"
      ],
      "metadata": {
        "id": "gdUgsDNVLQuc"
      },
      "execution_count": null,
      "outputs": []
    },
    {
      "cell_type": "code",
      "source": [
        "# Feature selection using XGBoost across different thresholds\n",
        "xgb_selector = XGBClassifier(\n",
        "    n_estimators=100,\n",
        "    max_depth=3,\n",
        "    learning_rate=0.1,\n",
        "    eval_metric='aucpr',\n",
        "    random_state=42,\n",
        "    scale_pos_weight=(y_train == 0).sum() / (y_train == 1).sum()\n",
        ")\n",
        "xgb_selector.fit(X_train, y_train)\n",
        "\n",
        "# Thresholds\n",
        "thresholds = np.linspace(0, max(xgb_selector.feature_importances_), 20)\n",
        "results = []\n",
        "\n",
        "for thresh in thresholds:\n",
        "    selector = SelectFromModel(xgb_selector, threshold=thresh, prefit=True)\n",
        "    X_sel_array = selector.transform(X_train)\n",
        "\n",
        "    if X_sel_array.shape[1] == 0:\n",
        "        continue\n",
        "\n",
        "    X_sel = pd.DataFrame(\n",
        "        X_sel_array,\n",
        "        columns=X_train.columns[selector.get_support()],\n",
        "        index=X_train.index\n",
        "    )\n",
        "\n",
        "    model = XGBClassifier(\n",
        "        n_estimators=100,\n",
        "        max_depth=3,\n",
        "        learning_rate=0.1,\n",
        "        eval_metric='aucpr',\n",
        "        random_state=42,\n",
        "        scale_pos_weight=(y_train == 0).sum() / (y_train == 1).sum()\n",
        "    )\n",
        "    model.fit(X_sel, y_train)\n",
        "\n",
        "    y_pred = model.predict_proba(X_sel)[:, 1]\n",
        "    pr_auc = average_precision_score(y_train, y_pred)\n",
        "    results.append((thresh, X_sel.shape[1], pr_auc))\n",
        "\n",
        "df_results = pd.DataFrame(results, columns=[\"threshold\", \"n_features\", \"pr_auc\"])"
      ],
      "metadata": {
        "id": "ArUoCxUpDG0U",
        "colab": {
          "base_uri": "https://localhost:8080/"
        },
        "outputId": "ae695cf1-b1f8-41f2-a2c4-0c953e58eb8b"
      },
      "execution_count": null,
      "outputs": [
        {
          "output_type": "stream",
          "name": "stderr",
          "text": [
            "/usr/local/lib/python3.11/dist-packages/sklearn/utils/validation.py:2732: UserWarning: X has feature names, but SelectFromModel was fitted without feature names\n",
            "  warnings.warn(\n",
            "/usr/local/lib/python3.11/dist-packages/sklearn/utils/validation.py:2732: UserWarning: X has feature names, but SelectFromModel was fitted without feature names\n",
            "  warnings.warn(\n",
            "/usr/local/lib/python3.11/dist-packages/sklearn/utils/validation.py:2732: UserWarning: X has feature names, but SelectFromModel was fitted without feature names\n",
            "  warnings.warn(\n",
            "/usr/local/lib/python3.11/dist-packages/sklearn/utils/validation.py:2732: UserWarning: X has feature names, but SelectFromModel was fitted without feature names\n",
            "  warnings.warn(\n",
            "/usr/local/lib/python3.11/dist-packages/sklearn/utils/validation.py:2732: UserWarning: X has feature names, but SelectFromModel was fitted without feature names\n",
            "  warnings.warn(\n",
            "/usr/local/lib/python3.11/dist-packages/sklearn/utils/validation.py:2732: UserWarning: X has feature names, but SelectFromModel was fitted without feature names\n",
            "  warnings.warn(\n",
            "/usr/local/lib/python3.11/dist-packages/sklearn/utils/validation.py:2732: UserWarning: X has feature names, but SelectFromModel was fitted without feature names\n",
            "  warnings.warn(\n",
            "/usr/local/lib/python3.11/dist-packages/sklearn/utils/validation.py:2732: UserWarning: X has feature names, but SelectFromModel was fitted without feature names\n",
            "  warnings.warn(\n",
            "/usr/local/lib/python3.11/dist-packages/sklearn/utils/validation.py:2732: UserWarning: X has feature names, but SelectFromModel was fitted without feature names\n",
            "  warnings.warn(\n",
            "/usr/local/lib/python3.11/dist-packages/sklearn/utils/validation.py:2732: UserWarning: X has feature names, but SelectFromModel was fitted without feature names\n",
            "  warnings.warn(\n",
            "/usr/local/lib/python3.11/dist-packages/sklearn/utils/validation.py:2732: UserWarning: X has feature names, but SelectFromModel was fitted without feature names\n",
            "  warnings.warn(\n",
            "/usr/local/lib/python3.11/dist-packages/sklearn/utils/validation.py:2732: UserWarning: X has feature names, but SelectFromModel was fitted without feature names\n",
            "  warnings.warn(\n",
            "/usr/local/lib/python3.11/dist-packages/sklearn/utils/validation.py:2732: UserWarning: X has feature names, but SelectFromModel was fitted without feature names\n",
            "  warnings.warn(\n",
            "/usr/local/lib/python3.11/dist-packages/sklearn/utils/validation.py:2732: UserWarning: X has feature names, but SelectFromModel was fitted without feature names\n",
            "  warnings.warn(\n",
            "/usr/local/lib/python3.11/dist-packages/sklearn/utils/validation.py:2732: UserWarning: X has feature names, but SelectFromModel was fitted without feature names\n",
            "  warnings.warn(\n",
            "/usr/local/lib/python3.11/dist-packages/sklearn/utils/validation.py:2732: UserWarning: X has feature names, but SelectFromModel was fitted without feature names\n",
            "  warnings.warn(\n",
            "/usr/local/lib/python3.11/dist-packages/sklearn/utils/validation.py:2732: UserWarning: X has feature names, but SelectFromModel was fitted without feature names\n",
            "  warnings.warn(\n",
            "/usr/local/lib/python3.11/dist-packages/sklearn/utils/validation.py:2732: UserWarning: X has feature names, but SelectFromModel was fitted without feature names\n",
            "  warnings.warn(\n",
            "/usr/local/lib/python3.11/dist-packages/sklearn/utils/validation.py:2732: UserWarning: X has feature names, but SelectFromModel was fitted without feature names\n",
            "  warnings.warn(\n",
            "/usr/local/lib/python3.11/dist-packages/sklearn/utils/validation.py:2732: UserWarning: X has feature names, but SelectFromModel was fitted without feature names\n",
            "  warnings.warn(\n"
          ]
        }
      ]
    },
    {
      "cell_type": "code",
      "source": [
        "df_results"
      ],
      "metadata": {
        "id": "a4THdsVCDSmT",
        "colab": {
          "base_uri": "https://localhost:8080/",
          "height": 677
        },
        "outputId": "d57d1b86-9601-4ecd-cdaf-f9a4ed9a0c21"
      },
      "execution_count": null,
      "outputs": [
        {
          "output_type": "execute_result",
          "data": {
            "text/plain": [
              "    threshold  n_features    pr_auc\n",
              "0    0.000000         850  0.810288\n",
              "1    0.001239         216  0.792250\n",
              "2    0.002479         178  0.742318\n",
              "3    0.003718         119  0.722992\n",
              "4    0.004958          63  0.604316\n",
              "5    0.006197          40  0.439536\n",
              "6    0.007436          27  0.384835\n",
              "7    0.008676          18  0.298609\n",
              "8    0.009915          10  0.223234\n",
              "9    0.011155           6  0.196898\n",
              "10   0.012394           5  0.165133\n",
              "11   0.013633           4  0.121506\n",
              "12   0.014873           1  0.026649\n",
              "13   0.016112           1  0.026649\n",
              "14   0.017352           1  0.026649\n",
              "15   0.018591           1  0.026649\n",
              "16   0.019830           1  0.026649\n",
              "17   0.021070           1  0.026649\n",
              "18   0.022309           1  0.026649\n",
              "19   0.023549           1  0.026649"
            ],
            "text/html": [
              "\n",
              "  <div id=\"df-f07a08bd-86e9-45a8-b609-e7ab39e91098\" class=\"colab-df-container\">\n",
              "    <div>\n",
              "<style scoped>\n",
              "    .dataframe tbody tr th:only-of-type {\n",
              "        vertical-align: middle;\n",
              "    }\n",
              "\n",
              "    .dataframe tbody tr th {\n",
              "        vertical-align: top;\n",
              "    }\n",
              "\n",
              "    .dataframe thead th {\n",
              "        text-align: right;\n",
              "    }\n",
              "</style>\n",
              "<table border=\"1\" class=\"dataframe\">\n",
              "  <thead>\n",
              "    <tr style=\"text-align: right;\">\n",
              "      <th></th>\n",
              "      <th>threshold</th>\n",
              "      <th>n_features</th>\n",
              "      <th>pr_auc</th>\n",
              "    </tr>\n",
              "  </thead>\n",
              "  <tbody>\n",
              "    <tr>\n",
              "      <th>0</th>\n",
              "      <td>0.000000</td>\n",
              "      <td>850</td>\n",
              "      <td>0.810288</td>\n",
              "    </tr>\n",
              "    <tr>\n",
              "      <th>1</th>\n",
              "      <td>0.001239</td>\n",
              "      <td>216</td>\n",
              "      <td>0.792250</td>\n",
              "    </tr>\n",
              "    <tr>\n",
              "      <th>2</th>\n",
              "      <td>0.002479</td>\n",
              "      <td>178</td>\n",
              "      <td>0.742318</td>\n",
              "    </tr>\n",
              "    <tr>\n",
              "      <th>3</th>\n",
              "      <td>0.003718</td>\n",
              "      <td>119</td>\n",
              "      <td>0.722992</td>\n",
              "    </tr>\n",
              "    <tr>\n",
              "      <th>4</th>\n",
              "      <td>0.004958</td>\n",
              "      <td>63</td>\n",
              "      <td>0.604316</td>\n",
              "    </tr>\n",
              "    <tr>\n",
              "      <th>5</th>\n",
              "      <td>0.006197</td>\n",
              "      <td>40</td>\n",
              "      <td>0.439536</td>\n",
              "    </tr>\n",
              "    <tr>\n",
              "      <th>6</th>\n",
              "      <td>0.007436</td>\n",
              "      <td>27</td>\n",
              "      <td>0.384835</td>\n",
              "    </tr>\n",
              "    <tr>\n",
              "      <th>7</th>\n",
              "      <td>0.008676</td>\n",
              "      <td>18</td>\n",
              "      <td>0.298609</td>\n",
              "    </tr>\n",
              "    <tr>\n",
              "      <th>8</th>\n",
              "      <td>0.009915</td>\n",
              "      <td>10</td>\n",
              "      <td>0.223234</td>\n",
              "    </tr>\n",
              "    <tr>\n",
              "      <th>9</th>\n",
              "      <td>0.011155</td>\n",
              "      <td>6</td>\n",
              "      <td>0.196898</td>\n",
              "    </tr>\n",
              "    <tr>\n",
              "      <th>10</th>\n",
              "      <td>0.012394</td>\n",
              "      <td>5</td>\n",
              "      <td>0.165133</td>\n",
              "    </tr>\n",
              "    <tr>\n",
              "      <th>11</th>\n",
              "      <td>0.013633</td>\n",
              "      <td>4</td>\n",
              "      <td>0.121506</td>\n",
              "    </tr>\n",
              "    <tr>\n",
              "      <th>12</th>\n",
              "      <td>0.014873</td>\n",
              "      <td>1</td>\n",
              "      <td>0.026649</td>\n",
              "    </tr>\n",
              "    <tr>\n",
              "      <th>13</th>\n",
              "      <td>0.016112</td>\n",
              "      <td>1</td>\n",
              "      <td>0.026649</td>\n",
              "    </tr>\n",
              "    <tr>\n",
              "      <th>14</th>\n",
              "      <td>0.017352</td>\n",
              "      <td>1</td>\n",
              "      <td>0.026649</td>\n",
              "    </tr>\n",
              "    <tr>\n",
              "      <th>15</th>\n",
              "      <td>0.018591</td>\n",
              "      <td>1</td>\n",
              "      <td>0.026649</td>\n",
              "    </tr>\n",
              "    <tr>\n",
              "      <th>16</th>\n",
              "      <td>0.019830</td>\n",
              "      <td>1</td>\n",
              "      <td>0.026649</td>\n",
              "    </tr>\n",
              "    <tr>\n",
              "      <th>17</th>\n",
              "      <td>0.021070</td>\n",
              "      <td>1</td>\n",
              "      <td>0.026649</td>\n",
              "    </tr>\n",
              "    <tr>\n",
              "      <th>18</th>\n",
              "      <td>0.022309</td>\n",
              "      <td>1</td>\n",
              "      <td>0.026649</td>\n",
              "    </tr>\n",
              "    <tr>\n",
              "      <th>19</th>\n",
              "      <td>0.023549</td>\n",
              "      <td>1</td>\n",
              "      <td>0.026649</td>\n",
              "    </tr>\n",
              "  </tbody>\n",
              "</table>\n",
              "</div>\n",
              "    <div class=\"colab-df-buttons\">\n",
              "\n",
              "  <div class=\"colab-df-container\">\n",
              "    <button class=\"colab-df-convert\" onclick=\"convertToInteractive('df-f07a08bd-86e9-45a8-b609-e7ab39e91098')\"\n",
              "            title=\"Convert this dataframe to an interactive table.\"\n",
              "            style=\"display:none;\">\n",
              "\n",
              "  <svg xmlns=\"http://www.w3.org/2000/svg\" height=\"24px\" viewBox=\"0 -960 960 960\">\n",
              "    <path d=\"M120-120v-720h720v720H120Zm60-500h600v-160H180v160Zm220 220h160v-160H400v160Zm0 220h160v-160H400v160ZM180-400h160v-160H180v160Zm440 0h160v-160H620v160ZM180-180h160v-160H180v160Zm440 0h160v-160H620v160Z\"/>\n",
              "  </svg>\n",
              "    </button>\n",
              "\n",
              "  <style>\n",
              "    .colab-df-container {\n",
              "      display:flex;\n",
              "      gap: 12px;\n",
              "    }\n",
              "\n",
              "    .colab-df-convert {\n",
              "      background-color: #E8F0FE;\n",
              "      border: none;\n",
              "      border-radius: 50%;\n",
              "      cursor: pointer;\n",
              "      display: none;\n",
              "      fill: #1967D2;\n",
              "      height: 32px;\n",
              "      padding: 0 0 0 0;\n",
              "      width: 32px;\n",
              "    }\n",
              "\n",
              "    .colab-df-convert:hover {\n",
              "      background-color: #E2EBFA;\n",
              "      box-shadow: 0px 1px 2px rgba(60, 64, 67, 0.3), 0px 1px 3px 1px rgba(60, 64, 67, 0.15);\n",
              "      fill: #174EA6;\n",
              "    }\n",
              "\n",
              "    .colab-df-buttons div {\n",
              "      margin-bottom: 4px;\n",
              "    }\n",
              "\n",
              "    [theme=dark] .colab-df-convert {\n",
              "      background-color: #3B4455;\n",
              "      fill: #D2E3FC;\n",
              "    }\n",
              "\n",
              "    [theme=dark] .colab-df-convert:hover {\n",
              "      background-color: #434B5C;\n",
              "      box-shadow: 0px 1px 3px 1px rgba(0, 0, 0, 0.15);\n",
              "      filter: drop-shadow(0px 1px 2px rgba(0, 0, 0, 0.3));\n",
              "      fill: #FFFFFF;\n",
              "    }\n",
              "  </style>\n",
              "\n",
              "    <script>\n",
              "      const buttonEl =\n",
              "        document.querySelector('#df-f07a08bd-86e9-45a8-b609-e7ab39e91098 button.colab-df-convert');\n",
              "      buttonEl.style.display =\n",
              "        google.colab.kernel.accessAllowed ? 'block' : 'none';\n",
              "\n",
              "      async function convertToInteractive(key) {\n",
              "        const element = document.querySelector('#df-f07a08bd-86e9-45a8-b609-e7ab39e91098');\n",
              "        const dataTable =\n",
              "          await google.colab.kernel.invokeFunction('convertToInteractive',\n",
              "                                                    [key], {});\n",
              "        if (!dataTable) return;\n",
              "\n",
              "        const docLinkHtml = 'Like what you see? Visit the ' +\n",
              "          '<a target=\"_blank\" href=https://colab.research.google.com/notebooks/data_table.ipynb>data table notebook</a>'\n",
              "          + ' to learn more about interactive tables.';\n",
              "        element.innerHTML = '';\n",
              "        dataTable['output_type'] = 'display_data';\n",
              "        await google.colab.output.renderOutput(dataTable, element);\n",
              "        const docLink = document.createElement('div');\n",
              "        docLink.innerHTML = docLinkHtml;\n",
              "        element.appendChild(docLink);\n",
              "      }\n",
              "    </script>\n",
              "  </div>\n",
              "\n",
              "\n",
              "    <div id=\"df-33a80a9d-0e09-435c-a42e-bbfd8b1ab855\">\n",
              "      <button class=\"colab-df-quickchart\" onclick=\"quickchart('df-33a80a9d-0e09-435c-a42e-bbfd8b1ab855')\"\n",
              "                title=\"Suggest charts\"\n",
              "                style=\"display:none;\">\n",
              "\n",
              "<svg xmlns=\"http://www.w3.org/2000/svg\" height=\"24px\"viewBox=\"0 0 24 24\"\n",
              "     width=\"24px\">\n",
              "    <g>\n",
              "        <path d=\"M19 3H5c-1.1 0-2 .9-2 2v14c0 1.1.9 2 2 2h14c1.1 0 2-.9 2-2V5c0-1.1-.9-2-2-2zM9 17H7v-7h2v7zm4 0h-2V7h2v10zm4 0h-2v-4h2v4z\"/>\n",
              "    </g>\n",
              "</svg>\n",
              "      </button>\n",
              "\n",
              "<style>\n",
              "  .colab-df-quickchart {\n",
              "      --bg-color: #E8F0FE;\n",
              "      --fill-color: #1967D2;\n",
              "      --hover-bg-color: #E2EBFA;\n",
              "      --hover-fill-color: #174EA6;\n",
              "      --disabled-fill-color: #AAA;\n",
              "      --disabled-bg-color: #DDD;\n",
              "  }\n",
              "\n",
              "  [theme=dark] .colab-df-quickchart {\n",
              "      --bg-color: #3B4455;\n",
              "      --fill-color: #D2E3FC;\n",
              "      --hover-bg-color: #434B5C;\n",
              "      --hover-fill-color: #FFFFFF;\n",
              "      --disabled-bg-color: #3B4455;\n",
              "      --disabled-fill-color: #666;\n",
              "  }\n",
              "\n",
              "  .colab-df-quickchart {\n",
              "    background-color: var(--bg-color);\n",
              "    border: none;\n",
              "    border-radius: 50%;\n",
              "    cursor: pointer;\n",
              "    display: none;\n",
              "    fill: var(--fill-color);\n",
              "    height: 32px;\n",
              "    padding: 0;\n",
              "    width: 32px;\n",
              "  }\n",
              "\n",
              "  .colab-df-quickchart:hover {\n",
              "    background-color: var(--hover-bg-color);\n",
              "    box-shadow: 0 1px 2px rgba(60, 64, 67, 0.3), 0 1px 3px 1px rgba(60, 64, 67, 0.15);\n",
              "    fill: var(--button-hover-fill-color);\n",
              "  }\n",
              "\n",
              "  .colab-df-quickchart-complete:disabled,\n",
              "  .colab-df-quickchart-complete:disabled:hover {\n",
              "    background-color: var(--disabled-bg-color);\n",
              "    fill: var(--disabled-fill-color);\n",
              "    box-shadow: none;\n",
              "  }\n",
              "\n",
              "  .colab-df-spinner {\n",
              "    border: 2px solid var(--fill-color);\n",
              "    border-color: transparent;\n",
              "    border-bottom-color: var(--fill-color);\n",
              "    animation:\n",
              "      spin 1s steps(1) infinite;\n",
              "  }\n",
              "\n",
              "  @keyframes spin {\n",
              "    0% {\n",
              "      border-color: transparent;\n",
              "      border-bottom-color: var(--fill-color);\n",
              "      border-left-color: var(--fill-color);\n",
              "    }\n",
              "    20% {\n",
              "      border-color: transparent;\n",
              "      border-left-color: var(--fill-color);\n",
              "      border-top-color: var(--fill-color);\n",
              "    }\n",
              "    30% {\n",
              "      border-color: transparent;\n",
              "      border-left-color: var(--fill-color);\n",
              "      border-top-color: var(--fill-color);\n",
              "      border-right-color: var(--fill-color);\n",
              "    }\n",
              "    40% {\n",
              "      border-color: transparent;\n",
              "      border-right-color: var(--fill-color);\n",
              "      border-top-color: var(--fill-color);\n",
              "    }\n",
              "    60% {\n",
              "      border-color: transparent;\n",
              "      border-right-color: var(--fill-color);\n",
              "    }\n",
              "    80% {\n",
              "      border-color: transparent;\n",
              "      border-right-color: var(--fill-color);\n",
              "      border-bottom-color: var(--fill-color);\n",
              "    }\n",
              "    90% {\n",
              "      border-color: transparent;\n",
              "      border-bottom-color: var(--fill-color);\n",
              "    }\n",
              "  }\n",
              "</style>\n",
              "\n",
              "      <script>\n",
              "        async function quickchart(key) {\n",
              "          const quickchartButtonEl =\n",
              "            document.querySelector('#' + key + ' button');\n",
              "          quickchartButtonEl.disabled = true;  // To prevent multiple clicks.\n",
              "          quickchartButtonEl.classList.add('colab-df-spinner');\n",
              "          try {\n",
              "            const charts = await google.colab.kernel.invokeFunction(\n",
              "                'suggestCharts', [key], {});\n",
              "          } catch (error) {\n",
              "            console.error('Error during call to suggestCharts:', error);\n",
              "          }\n",
              "          quickchartButtonEl.classList.remove('colab-df-spinner');\n",
              "          quickchartButtonEl.classList.add('colab-df-quickchart-complete');\n",
              "        }\n",
              "        (() => {\n",
              "          let quickchartButtonEl =\n",
              "            document.querySelector('#df-33a80a9d-0e09-435c-a42e-bbfd8b1ab855 button');\n",
              "          quickchartButtonEl.style.display =\n",
              "            google.colab.kernel.accessAllowed ? 'block' : 'none';\n",
              "        })();\n",
              "      </script>\n",
              "    </div>\n",
              "\n",
              "  <div id=\"id_78f55ac2-df85-4742-a7d6-e932927f3af0\">\n",
              "    <style>\n",
              "      .colab-df-generate {\n",
              "        background-color: #E8F0FE;\n",
              "        border: none;\n",
              "        border-radius: 50%;\n",
              "        cursor: pointer;\n",
              "        display: none;\n",
              "        fill: #1967D2;\n",
              "        height: 32px;\n",
              "        padding: 0 0 0 0;\n",
              "        width: 32px;\n",
              "      }\n",
              "\n",
              "      .colab-df-generate:hover {\n",
              "        background-color: #E2EBFA;\n",
              "        box-shadow: 0px 1px 2px rgba(60, 64, 67, 0.3), 0px 1px 3px 1px rgba(60, 64, 67, 0.15);\n",
              "        fill: #174EA6;\n",
              "      }\n",
              "\n",
              "      [theme=dark] .colab-df-generate {\n",
              "        background-color: #3B4455;\n",
              "        fill: #D2E3FC;\n",
              "      }\n",
              "\n",
              "      [theme=dark] .colab-df-generate:hover {\n",
              "        background-color: #434B5C;\n",
              "        box-shadow: 0px 1px 3px 1px rgba(0, 0, 0, 0.15);\n",
              "        filter: drop-shadow(0px 1px 2px rgba(0, 0, 0, 0.3));\n",
              "        fill: #FFFFFF;\n",
              "      }\n",
              "    </style>\n",
              "    <button class=\"colab-df-generate\" onclick=\"generateWithVariable('df_results')\"\n",
              "            title=\"Generate code using this dataframe.\"\n",
              "            style=\"display:none;\">\n",
              "\n",
              "  <svg xmlns=\"http://www.w3.org/2000/svg\" height=\"24px\"viewBox=\"0 0 24 24\"\n",
              "       width=\"24px\">\n",
              "    <path d=\"M7,19H8.4L18.45,9,17,7.55,7,17.6ZM5,21V16.75L18.45,3.32a2,2,0,0,1,2.83,0l1.4,1.43a1.91,1.91,0,0,1,.58,1.4,1.91,1.91,0,0,1-.58,1.4L9.25,21ZM18.45,9,17,7.55Zm-12,3A5.31,5.31,0,0,0,4.9,8.1,5.31,5.31,0,0,0,1,6.5,5.31,5.31,0,0,0,4.9,4.9,5.31,5.31,0,0,0,6.5,1,5.31,5.31,0,0,0,8.1,4.9,5.31,5.31,0,0,0,12,6.5,5.46,5.46,0,0,0,6.5,12Z\"/>\n",
              "  </svg>\n",
              "    </button>\n",
              "    <script>\n",
              "      (() => {\n",
              "      const buttonEl =\n",
              "        document.querySelector('#id_78f55ac2-df85-4742-a7d6-e932927f3af0 button.colab-df-generate');\n",
              "      buttonEl.style.display =\n",
              "        google.colab.kernel.accessAllowed ? 'block' : 'none';\n",
              "\n",
              "      buttonEl.onclick = () => {\n",
              "        google.colab.notebook.generateWithVariable('df_results');\n",
              "      }\n",
              "      })();\n",
              "    </script>\n",
              "  </div>\n",
              "\n",
              "    </div>\n",
              "  </div>\n"
            ],
            "application/vnd.google.colaboratory.intrinsic+json": {
              "type": "dataframe",
              "variable_name": "df_results",
              "summary": "{\n  \"name\": \"df_results\",\n  \"rows\": 20,\n  \"fields\": [\n    {\n      \"column\": \"threshold\",\n      \"properties\": {\n        \"dtype\": \"float32\",\n        \"num_unique_values\": 20,\n        \"samples\": [\n          0.0,\n          0.021069785580039024,\n          0.018590988591313362\n        ],\n        \"semantic_type\": \"\",\n        \"description\": \"\"\n      }\n    },\n    {\n      \"column\": \"n_features\",\n      \"properties\": {\n        \"dtype\": \"number\",\n        \"std\": 192,\n        \"min\": 1,\n        \"max\": 850,\n        \"num_unique_values\": 13,\n        \"samples\": [\n          4,\n          6,\n          850\n        ],\n        \"semantic_type\": \"\",\n        \"description\": \"\"\n      }\n    },\n    {\n      \"column\": \"pr_auc\",\n      \"properties\": {\n        \"dtype\": \"number\",\n        \"std\": 0.2952990059530932,\n        \"min\": 0.026649114182146057,\n        \"max\": 0.810288081208143,\n        \"num_unique_values\": 13,\n        \"samples\": [\n          0.12150573454453927,\n          0.1968975647255852,\n          0.810288081208143\n        ],\n        \"semantic_type\": \"\",\n        \"description\": \"\"\n      }\n    }\n  ]\n}"
            }
          },
          "metadata": {},
          "execution_count": 112
        }
      ]
    },
    {
      "cell_type": "code",
      "source": [
        "from tsfresh.feature_selection.relevance import calculate_relevance_table\n",
        "from xgboost import XGBClassifier\n",
        "from sklearn.feature_selection import SelectFromModel\n",
        "from tsfresh.feature_extraction import MinimalFCParameters\n",
        "import pandas as pd\n",
        "import numpy as np\n",
        "import shap\n",
        "import matplotlib.pyplot as plt\n",
        "\n",
        "# Drop low-variance or NaN-heavy features\n",
        "X_clean = X_train.dropna(axis=1, thresh=int(0.8 * len(X_train)))\n",
        "\n",
        "# Drop near-constant\n",
        "X_clean = X_clean.loc[:, X_clean.std() > 1e-5]\n",
        "\n",
        "# Univariate relevance filtering\n",
        "relevance_table = calculate_relevance_table(X_clean, y_train)\n",
        "relevant_features = relevance_table[relevance_table.relevant == True][\"feature\"]\n",
        "X_relevant = X_clean[relevant_features]\n",
        "\n",
        "# Refit a new model for SHAP\n",
        "xgb_final = XGBClassifier(\n",
        "    n_estimators=100,\n",
        "    max_depth=3,\n",
        "    learning_rate=0.1,\n",
        "    use_label_encoder=False,\n",
        "    eval_metric='logloss',\n",
        "    random_state=42,\n",
        "    scale_pos_weight=(y_train == 0).sum() / (y_train == 1).sum()\n",
        ")\n",
        "xgb_final.fit(X_relevant, y_train)\n",
        "\n",
        "explainer = shap.TreeExplainer(xgb_final)\n",
        "shap_values = explainer.shap_values(X_relevant)\n",
        "\n",
        "# Plot\n",
        "plt.figure(figsize=(12, 6))\n",
        "shap.summary_plot(shap_values, X_relevant, plot_type=\"bar\", max_display=15)\n",
        "plt.tight_layout()\n",
        "plt.savefig(\"shap_summary_clean.png\", dpi=300, bbox_inches=\"tight\")\n",
        "plt.show()"
      ],
      "metadata": {
        "id": "_0TuoIClDVS6",
        "colab": {
          "base_uri": "https://localhost:8080/",
          "height": 899
        },
        "outputId": "5997aef0-e214-46fb-e6b3-87d972d7c42f"
      },
      "execution_count": null,
      "outputs": [
        {
          "output_type": "stream",
          "name": "stderr",
          "text": [
            "/usr/local/lib/python3.11/dist-packages/xgboost/training.py:183: UserWarning: [21:14:10] WARNING: /workspace/src/learner.cc:738: \n",
            "Parameters: { \"use_label_encoder\" } are not used.\n",
            "\n",
            "  bst.update(dtrain, iteration=i, fobj=obj)\n",
            "/tmp/ipython-input-113-2894534425.py:37: FutureWarning: The NumPy global RNG was seeded by calling `np.random.seed`. In a future version this function will no longer use the global RNG. Pass `rng` explicitly to opt-in to the new behaviour and silence this warning.\n",
            "  shap.summary_plot(shap_values, X_relevant, plot_type=\"bar\", max_display=15)  # Changed to X_relevant\n"
          ]
        },
        {
          "output_type": "display_data",
          "data": {
            "text/plain": [
              "<Figure size 800x750 with 1 Axes>"
            ],
            "image/png": "[encoded data removed]"
          },
          "metadata": {}
        },
        {
          "output_type": "display_data",
          "data": {
            "text/plain": [
              "<Figure size 640x480 with 0 Axes>"
            ]
          },
          "metadata": {}
        }
      ]
    },
    {
      "cell_type": "code",
      "source": [
        "# Extract top N features by importance\n",
        "model.fit(X_train, y_train)\n",
        "\n",
        "importance = model.feature_importances_\n",
        "top_n = 189\n",
        "top_features = X_train.columns[np.argsort(importance)[-top_n:]]\n",
        "X_selected = X_train[top_features]\n",
        "print(f\"Selected top {top_n} features by XGBoost importance.\")"
      ],
      "metadata": {
        "id": "3gxkcDbNK_WN",
        "colab": {
          "base_uri": "https://localhost:8080/"
        },
        "outputId": "70e3cc9f-d713-4cfd-d348-b375cb3c14f8"
      },
      "execution_count": null,
      "outputs": [
        {
          "output_type": "stream",
          "name": "stdout",
          "text": [
            "Selected top 189 features by XGBoost importance.\n"
          ]
        }
      ]
    },
    {
      "cell_type": "code",
      "source": [
        "# Reassign\n",
        "X_train = X_train[top_features]\n",
        "X_val = X_val[top_features]\n",
        "X_test = X_test[top_features]"
      ],
      "metadata": {
        "id": "ZTgNWs0WMVHc"
      },
      "execution_count": null,
      "outputs": []
    },
    {
      "cell_type": "markdown",
      "source": [
        "# Modeling"
      ],
      "metadata": {
        "id": "Pfdq2tB-PIxi"
      }
    },
    {
      "cell_type": "markdown",
      "source": [
        "## Random Forest"
      ],
      "metadata": {
        "id": "rqYKYjP_vYw7"
      }
    },
    {
      "cell_type": "code",
      "source": [
        "# Compute manual weight\n",
        "class_counts = Counter(y_train)\n",
        "total = sum(class_counts.values())\n",
        "\n",
        "# Inverse frequency or balanced scaling\n",
        "weight_0 = total / (2 * class_counts[0])\n",
        "weight_1 = total / (2 * class_counts[1])\n",
        "\n",
        "# Create dictionary\n",
        "manual_weights = {0: weight_0, 1: weight_1}\n"
      ],
      "metadata": {
        "id": "7PN9CL-Rvasw"
      },
      "execution_count": null,
      "outputs": []
    },
    {
      "cell_type": "code",
      "source": [
        "# Initialize RF model parameters\n",
        "rf_model = ExtraTreesClassifier(\n",
        "    n_estimators=200,\n",
        "    max_depth=3,\n",
        "    min_samples_split=100,\n",
        "    min_samples_leaf=50,\n",
        "    max_features=0.1,\n",
        "    max_samples=0.6,\n",
        "    class_weight=manual_weights,\n",
        "    bootstrap=True,\n",
        "    n_jobs=-1,\n",
        "    random_state=42\n",
        ")\n",
        "\n",
        "# Train the model\n",
        "rf_model.fit(X_train, y_train)\n",
        "\n",
        "# Predict probabilities\n",
        "y_val_proba = rf_model.predict_proba(X_val)[:, 1]\n",
        "y_test_proba = rf_model.predict_proba(X_test)[:, 1]\n",
        "\n",
        "\n",
        "# Threshold Optimization\n",
        "# Calculate precision-recall curve\n",
        "precision, recall, thresholds = precision_recall_curve(y_val, y_val_proba)\n",
        "\n",
        "# Calculate F1 scores\n",
        "f1_scores = 2 * (precision * recall) / (precision + recall + 1e-9)\n",
        "\n",
        "# Find optimal threshold (max F1)\n",
        "optimal_idx = np.argmax(f1_scores[:-1])  # Exclude last value (edge case)\n",
        "optimal_threshold = thresholds[optimal_idx]\n",
        "\n",
        "# Evaluation with Optimal Threshold\n",
        "# Convert to predicted labels using optimal threshold\n",
        "y_val_pred_optimal = (y_val_proba >= optimal_threshold).astype(int)\n",
        "y_test_pred_optimal = (y_test_proba >= optimal_threshold).astype(int)\n",
        "\n",
        "# Also keep original 0.5 threshold for comparison\n",
        "y_val_pred_default = (y_val_proba >= 0.5).astype(int)\n",
        "y_test_pred_default = (y_test_proba >= 0.5).astype(int)\n",
        "\n",
        "# Evaluation function\n",
        "def evaluate(y_true, y_pred, y_proba, dataset='Validation'):\n",
        "    print(f\"\\n{dataset} Performance:\")\n",
        "    print(f\"Threshold used    : {optimal_threshold if 'optimal' in dataset.lower() else 0.5}\")\n",
        "    print(f\"ROC AUC           : {roc_auc_score(y_true, y_proba):.4f}\")\n",
        "    print(f\"PR AUC            : {average_precision_score(y_true, y_proba):.4f}\")\n",
        "    print(f\"Accuracy          : {accuracy_score(y_true, y_pred):.4f}\")\n",
        "    print(f\"Precision         : {precision_score(y_true, y_pred, zero_division=0):.4f}\")\n",
        "    print(f\"Recall            : {recall_score(y_true, y_pred):.4f}\")\n",
        "    print(f\"F1-Score          : {f1_score(y_true, y_pred):.4f}\")\n",
        "\n",
        "evaluate(y_val, y_val_pred_optimal, y_val_proba, \"Validation (Optimal Threshold)\")\n",
        "evaluate(y_test, y_test_pred_optimal, y_test_proba, \"Test (Optimal Threshold)\")"
      ],
      "metadata": {
        "colab": {
          "base_uri": "https://localhost:8080/"
        },
        "id": "MhF0vHGNvdiU",
        "outputId": "434d1f8b-7860-4c20-8b8a-801ddf3e581a"
      },
      "execution_count": null,
      "outputs": [
        {
          "output_type": "stream",
          "name": "stdout",
          "text": [
            "\n",
            "Validation (Optimal Threshold) Performance:\n",
            "Threshold used    : 0.445773855913922\n",
            "ROC AUC           : 0.4198\n",
            "PR AUC            : 0.0003\n",
            "Accuracy          : 0.3302\n",
            "Precision         : 0.0005\n",
            "Recall            : 1.0000\n",
            "F1-Score          : 0.0010\n",
            "\n",
            "Test (Optimal Threshold) Performance:\n",
            "Threshold used    : 0.445773855913922\n",
            "ROC AUC           : 0.6014\n",
            "PR AUC            : 0.0010\n",
            "Accuracy          : 0.4059\n",
            "Precision         : 0.0008\n",
            "Recall            : 0.7778\n",
            "F1-Score          : 0.0016\n"
          ]
        }
      ]
    },
    {
      "cell_type": "markdown",
      "source": [
        "## XGBoost"
      ],
      "metadata": {
        "id": "KlnljZYiFKF2"
      }
    },
    {
      "cell_type": "code",
      "source": [
        "# Compute class weight\n",
        "class_counts = Counter(y_train)\n",
        "\n",
        "num_negative = class_counts[0]\n",
        "num_positive = class_counts[1]\n",
        "\n",
        "scale_pos_weight = num_negative / num_positive\n",
        "\n",
        "print(f\"Class 0 (non-fault): {num_negative}\")\n",
        "print(f\"Class 1 (fault): {num_positive}\")\n",
        "print(f\"Scale_pos_weight: {scale_pos_weight:.2f}\")"
      ],
      "metadata": {
        "colab": {
          "base_uri": "https://localhost:8080/"
        },
        "id": "3xvT5KWhvK4c",
        "outputId": "674f8e12-0ddd-4b42-bbc6-47f0c6fe5435"
      },
      "execution_count": null,
      "outputs": [
        {
          "output_type": "stream",
          "name": "stdout",
          "text": [
            "Class 0 (non-fault): 18421\n",
            "Class 1 (fault): 161\n",
            "Scale_pos_weight: 114.42\n"
          ]
        }
      ]
    },
    {
      "cell_type": "code",
      "source": [
        "# Initialize the XGBoost model parameters\n",
        "xgb_model = XGBClassifier(\n",
        "    n_estimators=400,\n",
        "    learning_rate=0.02,\n",
        "    max_depth=3,\n",
        "    min_child_weight=100,\n",
        "    gamma=2,\n",
        "    subsample=0.5,\n",
        "    colsample_bytree=0.5,\n",
        "    reg_alpha=5,\n",
        "    reg_lambda=10,\n",
        "    scale_pos_weight=scale_pos_weight,\n",
        "    eval_metric=['auc', 'aucpr'],\n",
        "    early_stopping_rounds=20,\n",
        "    n_jobs=-1,\n",
        "    random_state=42,\n",
        "    tree_method='hist',\n",
        "    max_bin=128\n",
        ")\n",
        "\n",
        "xgb_model.fit(X_train, y_train, eval_set=[(X_val, y_val)], verbose=False)\n",
        "\n",
        "# Predict probabilities\n",
        "y_val_proba = xgb_model.predict_proba(X_val)[:, 1]\n",
        "y_test_proba = xgb_model.predict_proba(X_test)[:, 1]\n",
        "\n",
        "# Automatically find best threshold (F1-score on validation)\n",
        "thresholds = np.arange(0.0, 1.01, 0.01)\n",
        "f1_scores = [f1_score(y_val, (y_val_proba >= t).astype(int), zero_division=0) for t in thresholds]\n",
        "best_idx = np.argmax(f1_scores)\n",
        "best_threshold = thresholds[best_idx]\n",
        "best_f1 = f1_scores[best_idx]\n",
        "\n",
        "print(f\"\\n Best threshold from validation set: {best_threshold:.2f} (F1 = {best_f1:.4f})\")\n",
        "\n",
        "# Predict using optimal threshold\n",
        "y_val_pred = (y_val_proba >= best_threshold).astype(int)\n",
        "y_test_pred = (y_test_proba >= best_threshold).astype(int)\n",
        "\n",
        "# Evaluation\n",
        "def evaluate(y_true, y_pred, y_proba, dataset, threshold):\n",
        "    print(f\"\\n {dataset} Performance (Threshold = {threshold:.2f}):\")\n",
        "    print(f\"ROC AUC  : {roc_auc_score(y_true, y_proba):.4f}\")\n",
        "    print(f\"PR AUC   : {average_precision_score(y_true, y_proba):.4f}\")\n",
        "    print(f\"Accuracy : {accuracy_score(y_true, y_pred):.4f}\")\n",
        "    print(f\"Precision: {precision_score(y_true, y_pred, zero_division=0):.4f}\")\n",
        "    print(f\"Recall   : {recall_score(y_true, y_pred, zero_division=0):.4f}\")\n",
        "    print(f\"F1-Score : {f1_score(y_true, y_pred, zero_division=0):.4f}\")\n",
        "\n",
        "evaluate(y_val, y_val_pred, y_val_proba, \"Validation\", best_threshold)\n",
        "evaluate(y_test, y_test_pred, y_test_proba, \"Test\", best_threshold)"
      ],
      "metadata": {
        "id": "LJ5YVnARKoBP",
        "colab": {
          "base_uri": "https://localhost:8080/"
        },
        "outputId": "d344f976-b362-462d-e4c8-09ba6872f6e6"
      },
      "execution_count": null,
      "outputs": [
        {
          "output_type": "stream",
          "name": "stdout",
          "text": [
            "\n",
            " Best threshold from validation set: 0.00 (F1 = 0.0007)\n",
            "\n",
            " Validation Performance (Threshold = 0.00):\n",
            "ROC AUC  : 0.5116\n",
            "PR AUC   : 0.0007\n",
            "Accuracy : 0.0003\n",
            "Precision: 0.0003\n",
            "Recall   : 1.0000\n",
            "F1-Score : 0.0007\n",
            "\n",
            " Test Performance (Threshold = 0.00):\n",
            "ROC AUC  : 0.5905\n",
            "PR AUC   : 0.0010\n",
            "Accuracy : 0.0006\n",
            "Precision: 0.0006\n",
            "Recall   : 1.0000\n",
            "F1-Score : 0.0012\n"
          ]
        }
      ]
    },
    {
      "cell_type": "markdown",
      "source": [
        "## CatBoost"
      ],
      "metadata": {
        "id": "xA9yuhQRFHS_"
      }
    },
    {
      "cell_type": "code",
      "source": [
        "# Count class distribution\n",
        "counts = Counter(y_train)\n",
        "num_negative = counts[0]\n",
        "num_positive = counts[1]\n",
        "\n",
        "# Inverse frequency method (scale by count)\n",
        "weight_0 = 1.0\n",
        "weight_1 = num_negative / num_positive\n",
        "\n",
        "class_weights = [weight_0, weight_1]\n",
        "print(f\"Class weights: {class_weights}\")"
      ],
      "metadata": {
        "id": "Kbhx2b3AFFZP",
        "colab": {
          "base_uri": "https://localhost:8080/"
        },
        "outputId": "e8d76913-2bdc-43ec-dc1b-51a6735abf8e"
      },
      "execution_count": null,
      "outputs": [
        {
          "output_type": "stream",
          "name": "stdout",
          "text": [
            "Class weights: [1.0, 114.41614906832298]\n"
          ]
        }
      ]
    },
    {
      "cell_type": "code",
      "source": [
        "# Initialize CatBoost model parameters\n",
        "cat_model = CatBoostClassifier(\n",
        "    iterations=100,\n",
        "    learning_rate=0.01,\n",
        "    depth=3,\n",
        "    l2_leaf_reg=60,\n",
        "    bagging_temperature=2.5,\n",
        "    random_strength=3,\n",
        "    subsample=0.7,\n",
        "    grow_policy='Lossguide',\n",
        "    early_stopping_rounds=100,\n",
        "    use_best_model=True,\n",
        "    eval_metric='AUC',\n",
        "    class_weights=class_weights,\n",
        "    random_seed=42,\n",
        "    verbose=100\n",
        ")\n",
        "\n",
        "cat_model.fit(X_train, y_train, eval_set=(X_val, y_val), plot=True)\n",
        "\n",
        "# Predict probabilities\n",
        "y_val_proba = cat_model.predict_proba(X_val)[:, 1]\n",
        "y_test_proba = cat_model.predict_proba(X_test)[:, 1]\n",
        "\n",
        "# Find optimal threshold (maximize F1 on validation)\n",
        "precision, recall, thresholds = precision_recall_curve(y_val, y_val_proba)\n",
        "f1_scores = 2 * (precision * recall) / (precision + recall + 1e-9)\n",
        "\n",
        "best_idx = np.argmax(f1_scores)\n",
        "optimal_threshold = thresholds[best_idx]\n",
        "best_f1 = f1_scores[best_idx]\n",
        "\n",
        "print(f\"\\n Best Threshold (Validation F1): {optimal_threshold:.3f} (F1 = {best_f1:.4f})\")\n",
        "\n",
        "# Predict labels using optimal threshold\n",
        "y_val_pred = (y_val_proba >= optimal_threshold).astype(int)\n",
        "y_test_pred = (y_test_proba >= optimal_threshold).astype(int)\n",
        "\n",
        "# Evaluation\n",
        "def evaluate(y_true, y_pred, y_proba, dataset='Validation'):\n",
        "    print(f\"\\n {dataset} Performance (Threshold = {optimal_threshold:.3f}):\")\n",
        "    print(f\"AUC       : {roc_auc_score(y_true, y_proba):.4f}\")\n",
        "    print(f\"PR AUC    : {average_precision_score(y_true, y_proba):.4f}\")\n",
        "    print(f\"Accuracy  : {accuracy_score(y_true, y_pred):.4f}\")\n",
        "    print(f\"Precision : {precision_score(y_true, y_pred, zero_division=0):.4f}\")\n",
        "    print(f\"Recall    : {recall_score(y_true, y_pred, zero_division=0):.4f}\")\n",
        "    print(f\"F1-Score  : {f1_score(y_true, y_pred, zero_division=0):.4f}\")\n",
        "\n",
        "evaluate(y_val, y_val_pred, y_val_proba, \"Validation\")\n",
        "evaluate(y_test, y_test_pred, y_test_proba, \"Test\")"
      ],
      "metadata": {
        "id": "LQdS2t_NFC4V",
        "colab": {
          "base_uri": "https://localhost:8080/",
          "height": 451,
          "referenced_widgets": [
            "8cf88e17682e4c1daa7ac10f5e27b948"
          ]
        },
        "outputId": "41d20601-30e1-4c30-93c7-6f9c673d30b9"
      },
      "execution_count": null,
      "outputs": [
        {
          "output_type": "display_data",
          "data": {
            "text/plain": [
              "MetricVisualizer(layout=Layout(align_self='stretch', height='500px'))"
            ],
            "application/vnd.jupyter.widget-view+json": {
              "version_major": 2,
              "version_minor": 0,
              "model_id": "8cf88e17682e4c1daa7ac10f5e27b948"
            }
          },
          "metadata": {}
        },
        {
          "output_type": "stream",
          "name": "stdout",
          "text": [
            "0:\ttest: 0.4623766\tbest: 0.4623766 (0)\ttotal: 25.1ms\tremaining: 2.48s\n",
            "99:\ttest: 0.5157226\tbest: 0.6692173 (5)\ttotal: 1.7s\tremaining: 0us\n",
            "\n",
            "bestTest = 0.6692172502\n",
            "bestIteration = 5\n",
            "\n",
            "Shrink model to first 6 iterations.\n",
            "\n",
            " Best Threshold (Validation F1): 0.500 (F1 = 0.0014)\n",
            "\n",
            " Validation Performance (Threshold = 0.500):\n",
            "AUC       : 0.6692\n",
            "PR AUC    : 0.0006\n",
            "Accuracy  : 0.8048\n",
            "Precision : 0.0007\n",
            "Recall    : 0.4000\n",
            "F1-Score  : 0.0014\n",
            "\n",
            " Test Performance (Threshold = 0.500):\n",
            "AUC       : 0.6720\n",
            "PR AUC    : 0.0016\n",
            "Accuracy  : 0.7543\n",
            "Precision : 0.0014\n",
            "Recall    : 0.5556\n",
            "F1-Score  : 0.0027\n"
          ]
        }
      ]
    },
    {
      "cell_type": "markdown",
      "source": [
        "## LigthGBM"
      ],
      "metadata": {
        "id": "SONUvZT5PNG0"
      }
    },
    {
      "cell_type": "code",
      "source": [
        "# Compute class weight\n",
        "n_pos = sum(y_train == 1)\n",
        "n_neg = sum(y_train == 0)\n",
        "scale_pos_weight = n_neg / max(1, n_pos)\n",
        "\n",
        "print(f\"Class balance — Neg: {n_neg}, Pos: {n_pos}, scale_pos_weight: {scale_pos_weight:.2f}\")"
      ],
      "metadata": {
        "id": "zX5xUoNDFQ-7",
        "colab": {
          "base_uri": "https://localhost:8080/"
        },
        "outputId": "eae1bb59-dca4-4759-cf21-20e3a56ebf92"
      },
      "execution_count": null,
      "outputs": [
        {
          "output_type": "stream",
          "name": "stdout",
          "text": [
            "Class balance — Neg: 18421, Pos: 161, scale_pos_weight: 114.42\n"
          ]
        }
      ]
    },
    {
      "cell_type": "code",
      "source": [
        "# Prepare LightGBM datasets\n",
        "lgb_train = lgb.Dataset(X_train, label=y_train, free_raw_data=False)\n",
        "lgb_val   = lgb.Dataset(X_val, label=y_val, reference=lgb_train, free_raw_data=False)\n",
        "\n",
        "# Initialize LightGBM model parameters\n",
        "params = {\n",
        "    'objective': 'binary',\n",
        "    'metric': 'auc',\n",
        "    'boosting_type': 'gbdt',\n",
        "    'learning_rate': 0.02,\n",
        "    'num_leaves': 4,\n",
        "    'max_depth': 2,\n",
        "    'feature_fraction': 0.6,\n",
        "    'bagging_fraction': 0.6,\n",
        "    'bagging_freq': 5,\n",
        "    'min_data_in_leaf': 200,\n",
        "    'lambda_l1': 5.0,\n",
        "    'lambda_l2': 10.0,\n",
        "    'extra_trees': True,\n",
        "    'scale_pos_weight': scale_pos_weight,\n",
        "    'verbosity': -1,\n",
        "    'random_state': 42\n",
        "}\n",
        "\n",
        "\n",
        "# Train model\n",
        "evals_result = {}  # define it\n",
        "\n",
        "lgb_model = lgb.train(\n",
        "    params,\n",
        "    lgb_train,\n",
        "    num_boost_round=300,\n",
        "    valid_sets=[lgb_train, lgb_val],  # include both sets\n",
        "    valid_names=['train', 'val'],\n",
        "    callbacks=[\n",
        "        lgb.record_evaluation(evals_result),\n",
        "        lgb.early_stopping(stopping_rounds=30, verbose=True)\n",
        "    ]\n",
        ")\n",
        "\n",
        "\n",
        "\n",
        "# Predict probabilities\n",
        "y_val_pred_prob = lgb_model.predict(X_val, num_iteration=lgb_model.best_iteration)\n",
        "y_test_pred_prob = lgb_model.predict(X_test, num_iteration=lgb_model.best_iteration)\n",
        "\n",
        "# Search best threshold on validation set\n",
        "thresholds = np.arange(0.0, 1.01, 0.01)\n",
        "f1_scores = []\n",
        "for thresh in thresholds:\n",
        "    preds = (y_val_pred_prob > thresh).astype(int)\n",
        "    f1 = f1_score(y_val, preds, zero_division=0)\n",
        "    f1_scores.append(f1)\n",
        "\n",
        "best_idx = np.argmax(f1_scores)\n",
        "best_thresh = thresholds[best_idx]\n",
        "best_f1 = f1_scores[best_idx]\n",
        "\n",
        "print(f\"\\n Best threshold from validation set: {best_thresh:.2f} (F1: {best_f1:.4f})\")\n",
        "\n",
        "# Apply best threshold to val and test sets\n",
        "y_val_pred_opt = (y_val_pred_prob > best_thresh).astype(int)\n",
        "y_test_pred_opt = (y_test_pred_prob > best_thresh).astype(int)\n",
        "\n",
        "# Define a function to print metrics\n",
        "def print_metrics(name, y_true, y_pred, y_proba):\n",
        "    print(f\"\\n {name} Set Metrics (Threshold = {best_thresh:.2f}):\")\n",
        "    print(f\"ROC AUC     : {roc_auc_score(y_true, y_proba):.4f}\")\n",
        "    print(f\"PR AUC      : {average_precision_score(y_true, y_proba):.4f}\")\n",
        "    print(f\"Accuracy    : {accuracy_score(y_true, y_pred):.4f}\")\n",
        "    print(f\"Precision   : {precision_score(y_true, y_pred, zero_division=0):.4f}\")\n",
        "    print(f\"Recall      : {recall_score(y_true, y_pred, zero_division=0):.4f}\")\n",
        "    print(f\"F1-Score    : {f1_score(y_true, y_pred, zero_division=0):.4f}\")\n",
        "\n",
        "print_metrics(\"Validation\", y_val, y_val_pred_opt, y_val_pred_prob)\n",
        "print_metrics(\"Test\", y_test, y_test_pred_opt, y_test_pred_prob)"
      ],
      "metadata": {
        "id": "lR9H9-e5FS5R",
        "colab": {
          "base_uri": "https://localhost:8080/"
        },
        "outputId": "8d591337-e6ea-4a1b-89fe-03c24160b5ce"
      },
      "execution_count": null,
      "outputs": [
        {
          "output_type": "stream",
          "name": "stdout",
          "text": [
            "Training until validation scores don't improve for 30 rounds\n",
            "Early stopping, best iteration is:\n",
            "[5]\ttrain's auc: 0.642262\tval's auc: 0.50899\n",
            "\n",
            " Best threshold from validation set: 0.02 (F1: 0.0007)\n",
            "\n",
            " Validation Set Metrics (Threshold = 0.02):\n",
            "ROC AUC     : 0.5090\n",
            "PR AUC      : 0.0006\n",
            "Accuracy    : 0.0030\n",
            "Precision   : 0.0003\n",
            "Recall      : 1.0000\n",
            "F1-Score    : 0.0007\n",
            "\n",
            " Test Set Metrics (Threshold = 0.02):\n",
            "ROC AUC     : 0.5846\n",
            "PR AUC      : 0.0008\n",
            "Accuracy    : 0.0011\n",
            "Precision   : 0.0006\n",
            "Recall      : 1.0000\n",
            "F1-Score    : 0.0012\n"
          ]
        }
      ]
    }
  ],
  "metadata": {
    "colab": {
      "machine_shape": "hm",
      "provenance": [],
      "toc_visible": true,
      "include_colab_link": true
    },
    "kernelspec": {
      "display_name": "Python 3",
      "name": "python3"
    },
    "language_info": {
      "name": "python"
    },
    "widgets": {
      "application/vnd.jupyter.widget-state+json": {
        "8cf88e17682e4c1daa7ac10f5e27b948": {
          "model_module": "catboost-widget",
          "model_name": "CatboostWidgetModel",
          "model_module_version": "^1.0.0",
          "state": {
            "_dom_classes": [],
            "_model_module": "catboost-widget",
            "_model_module_version": "^1.0.0",
            "_model_name": "CatboostWidgetModel",
            "_view_count": null,
            "_view_module": "catboost-widget",
            "_view_module_version": "^1.0.0",
            "_view_name": "CatboostWidgetView",
            "data": {
              "catboost_info": {
                "path": "catboost_info",
                "name": "catboost_info",
                "content": {
                  "passed_iterations": 99,
                  "total_iterations": 100,
                  "data": {
                    "iterations": [
                      {
                        "learn": [
                          0.6926882357
                        ],
                        "iteration": 0,
                        "passed_time": 0.02507420137,
                        "remaining_time": 2.482345936,
                        "test": [
                          0.4623766392,
                          0.692604806
                        ]
                      },
                      {
                        "learn": [
                          0.6923524324
                        ],
                        "iteration": 1,
                        "passed_time": 0.05596084227,
                        "remaining_time": 2.742081271,
                        "test": [
                          0.5866026768,
                          0.6919912255
                        ]
                      },
                      {
                        "learn": [
                          0.691962974
                        ],
                        "iteration": 2,
                        "passed_time": 0.07911137071,
                        "remaining_time": 2.55793432,
                        "test": [
                          0.6507841017,
                          0.6913192585
                        ]
                      },
                      {
                        "learn": [
                          0.691574968
                        ],
                        "iteration": 3,
                        "passed_time": 0.1092722313,
                        "remaining_time": 2.622533552,
                        "test": [
                          0.6276869001,
                          0.6908370745
                        ]
                      },
                      {
                        "learn": [
                          0.6911461962
                        ],
                        "iteration": 4,
                        "passed_time": 0.1378791137,
                        "remaining_time": 2.619703161,
                        "test": [
                          0.644288225,
                          0.6904103671
                        ]
                      },
                      {
                        "learn": [
                          0.6908859277
                        ],
                        "iteration": 5,
                        "passed_time": 0.1615116055,
                        "remaining_time": 2.530348486,
                        "test": [
                          0.6692172502,
                          0.6898560085
                        ]
                      },
                      {
                        "learn": [
                          0.6903622377
                        ],
                        "iteration": 6,
                        "passed_time": 0.1796736733,
                        "remaining_time": 2.387093088,
                        "test": [
                          0.5447208328,
                          0.6890440699
                        ]
                      },
                      {
                        "learn": [
                          0.690022493
                        ],
                        "iteration": 7,
                        "passed_time": 0.1948645925,
                        "remaining_time": 2.240942813,
                        "test": [
                          0.5653643369,
                          0.6886340003
                        ]
                      },
                      {
                        "learn": [
                          0.6897348177
                        ],
                        "iteration": 8,
                        "passed_time": 0.2210807082,
                        "remaining_time": 2.235371605,
                        "test": [
                          0.5490671894,
                          0.6881740267
                        ]
                      },
                      {
                        "learn": [
                          0.6894120622
                        ],
                        "iteration": 9,
                        "passed_time": 0.2374103813,
                        "remaining_time": 2.136693431,
                        "test": [
                          0.5077261052,
                          0.6876812022
                        ]
                      },
                      {
                        "learn": [
                          0.6890155269
                        ],
                        "iteration": 10,
                        "passed_time": 0.2619923901,
                        "remaining_time": 2.119756611,
                        "test": [
                          0.5014600514,
                          0.6873334754
                        ]
                      },
                      {
                        "learn": [
                          0.6885515998
                        ],
                        "iteration": 11,
                        "passed_time": 0.2778662595,
                        "remaining_time": 2.037685903,
                        "test": [
                          0.4928214141,
                          0.6868988326
                        ]
                      },
                      {
                        "learn": [
                          0.6881751031
                        ],
                        "iteration": 12,
                        "passed_time": 0.2933058854,
                        "remaining_time": 1.962893233,
                        "test": [
                          0.3956536434,
                          0.6864810888
                        ]
                      },
                      {
                        "learn": [
                          0.687724201
                        ],
                        "iteration": 13,
                        "passed_time": 0.3094827007,
                        "remaining_time": 1.901108018,
                        "test": [
                          0.4441733135,
                          0.6858202502
                        ]
                      },
                      {
                        "learn": [
                          0.6872022709
                        ],
                        "iteration": 14,
                        "passed_time": 0.327829896,
                        "remaining_time": 1.857702744,
                        "test": [
                          0.4449979722,
                          0.6852515699
                        ]
                      },
                      {
                        "learn": [
                          0.6864417962
                        ],
                        "iteration": 15,
                        "passed_time": 0.3425319817,
                        "remaining_time": 1.798292904,
                        "test": [
                          0.4419021225,
                          0.6833891186
                        ]
                      },
                      {
                        "learn": [
                          0.6862495244
                        ],
                        "iteration": 16,
                        "passed_time": 0.3569461311,
                        "remaining_time": 1.742736993,
                        "test": [
                          0.430201433,
                          0.6832721594
                        ]
                      },
                      {
                        "learn": [
                          0.6856549856
                        ],
                        "iteration": 17,
                        "passed_time": 0.3714591293,
                        "remaining_time": 1.6922027,
                        "test": [
                          0.4331756117,
                          0.6825930058
                        ]
                      },
                      {
                        "learn": [
                          0.6854449381
                        ],
                        "iteration": 18,
                        "passed_time": 0.390626673,
                        "remaining_time": 1.665303185,
                        "test": [
                          0.4207516561,
                          0.682254176
                        ]
                      },
                      {
                        "learn": [
                          0.6852845122
                        ],
                        "iteration": 19,
                        "passed_time": 0.4077227556,
                        "remaining_time": 1.630891022,
                        "test": [
                          0.4614167906,
                          0.6820310004
                        ]
                      },
                      {
                        "learn": [
                          0.6851759321
                        ],
                        "iteration": 20,
                        "passed_time": 0.4232731691,
                        "remaining_time": 1.592313351,
                        "test": [
                          0.4590780046,
                          0.6818989798
                        ]
                      },
                      {
                        "learn": [
                          0.6847643488
                        ],
                        "iteration": 21,
                        "passed_time": 0.4404927797,
                        "remaining_time": 1.561747128,
                        "test": [
                          0.4676490469,
                          0.6814482436
                        ]
                      },
                      {
                        "learn": [
                          0.6840832569
                        ],
                        "iteration": 22,
                        "passed_time": 0.4625201238,
                        "remaining_time": 1.548436936,
                        "test": [
                          0.4668649452,
                          0.6828240551
                        ]
                      },
                      {
                        "learn": [
                          0.683881449
                        ],
                        "iteration": 23,
                        "passed_time": 0.4861826347,
                        "remaining_time": 1.539578343,
                        "test": [
                          0.4608760308,
                          0.6824673127
                        ]
                      },
                      {
                        "learn": [
                          0.6833883096
                        ],
                        "iteration": 24,
                        "passed_time": 0.5068254279,
                        "remaining_time": 1.520476284,
                        "test": [
                          0.4637826146,
                          0.6818256231
                        ]
                      },
                      {
                        "learn": [
                          0.6830641025
                        ],
                        "iteration": 25,
                        "passed_time": 0.5216686014,
                        "remaining_time": 1.484749096,
                        "test": [
                          0.4589292957,
                          0.6814071462
                        ]
                      },
                      {
                        "learn": [
                          0.6827207216
                        ],
                        "iteration": 26,
                        "passed_time": 0.5355646186,
                        "remaining_time": 1.448008043,
                        "test": [
                          0.4453832635,
                          0.6811155063
                        ]
                      },
                      {
                        "learn": [
                          0.6821853481
                        ],
                        "iteration": 27,
                        "passed_time": 0.5604325629,
                        "remaining_time": 1.441112305,
                        "test": [
                          0.4715289982,
                          0.6803963426
                        ]
                      },
                      {
                        "learn": [
                          0.6817103959
                        ],
                        "iteration": 28,
                        "passed_time": 0.5807754102,
                        "remaining_time": 1.421898418,
                        "test": [
                          0.4763147222,
                          0.6798272754
                        ]
                      },
                      {
                        "learn": [
                          0.6814051304
                        ],
                        "iteration": 29,
                        "passed_time": 0.5952047296,
                        "remaining_time": 1.388811036,
                        "test": [
                          0.4616601325,
                          0.6796243804
                        ]
                      },
                      {
                        "learn": [
                          0.6811673405
                        ],
                        "iteration": 30,
                        "passed_time": 0.6093891725,
                        "remaining_time": 1.356382352,
                        "test": [
                          0.4741787211,
                          0.6792359732
                        ]
                      },
                      {
                        "learn": [
                          0.6806612361
                        ],
                        "iteration": 31,
                        "passed_time": 0.6232770894,
                        "remaining_time": 1.324463815,
                        "test": [
                          0.4645937542,
                          0.6788201331
                        ]
                      },
                      {
                        "learn": [
                          0.6805155136
                        ],
                        "iteration": 32,
                        "passed_time": 0.6363291481,
                        "remaining_time": 1.291940998,
                        "test": [
                          0.4609841828,
                          0.6783287469
                        ]
                      },
                      {
                        "learn": [
                          0.6800246052
                        ],
                        "iteration": 33,
                        "passed_time": 0.6519050915,
                        "remaining_time": 1.265462825,
                        "test": [
                          0.4503717723,
                          0.6781139692
                        ]
                      },
                      {
                        "learn": [
                          0.679772324
                        ],
                        "iteration": 34,
                        "passed_time": 0.666191273,
                        "remaining_time": 1.237212364,
                        "test": [
                          0.4527916723,
                          0.6779156303
                        ]
                      },
                      {
                        "learn": [
                          0.6792634435
                        ],
                        "iteration": 35,
                        "passed_time": 0.6802414578,
                        "remaining_time": 1.209318147,
                        "test": [
                          0.4452075166,
                          0.6773170691
                        ]
                      },
                      {
                        "learn": [
                          0.6788218762
                        ],
                        "iteration": 36,
                        "passed_time": 0.6947751357,
                        "remaining_time": 1.182995501,
                        "test": [
                          0.4510342031,
                          0.6764759789
                        ]
                      },
                      {
                        "learn": [
                          0.6785717796
                        ],
                        "iteration": 37,
                        "passed_time": 0.7078505838,
                        "remaining_time": 1.15491411,
                        "test": [
                          0.4861971069,
                          0.6761243027
                        ]
                      },
                      {
                        "learn": [
                          0.6781854382
                        ],
                        "iteration": 38,
                        "passed_time": 0.7204501289,
                        "remaining_time": 1.126857894,
                        "test": [
                          0.4809787752,
                          0.6757704192
                        ]
                      },
                      {
                        "learn": [
                          0.6779981395
                        ],
                        "iteration": 39,
                        "passed_time": 0.7369808992,
                        "remaining_time": 1.105471349,
                        "test": [
                          0.4927403001,
                          0.6755576999
                        ]
                      },
                      {
                        "learn": [
                          0.6775867344
                        ],
                        "iteration": 40,
                        "passed_time": 0.7518640525,
                        "remaining_time": 1.08195071,
                        "test": [
                          0.5081113965,
                          0.6748252889
                        ]
                      },
                      {
                        "learn": [
                          0.6772905583
                        ],
                        "iteration": 41,
                        "passed_time": 0.7663998104,
                        "remaining_time": 1.058361643,
                        "test": [
                          0.5264566716,
                          0.6745175651
                        ]
                      },
                      {
                        "learn": [
                          0.6767538331
                        ],
                        "iteration": 42,
                        "passed_time": 0.7812532939,
                        "remaining_time": 1.035614831,
                        "test": [
                          0.5230634041,
                          0.6737930157
                        ]
                      },
                      {
                        "learn": [
                          0.676463811
                        ],
                        "iteration": 43,
                        "passed_time": 0.796422273,
                        "remaining_time": 1.013628347,
                        "test": [
                          0.5166959578,
                          0.6735980284
                        ]
                      },
                      {
                        "learn": [
                          0.6763267808
                        ],
                        "iteration": 44,
                        "passed_time": 0.811331066,
                        "remaining_time": 0.9916268584,
                        "test": [
                          0.5218602136,
                          0.6733306448
                        ]
                      },
                      {
                        "learn": [
                          0.6761720411
                        ],
                        "iteration": 45,
                        "passed_time": 0.8279551749,
                        "remaining_time": 0.9719473792,
                        "test": [
                          0.5203866432,
                          0.6729205948
                        ]
                      },
                      {
                        "learn": [
                          0.675655118
                        ],
                        "iteration": 46,
                        "passed_time": 0.8510472437,
                        "remaining_time": 0.9596915727,
                        "test": [
                          0.5334189536,
                          0.6799236966
                        ]
                      },
                      {
                        "learn": [
                          0.6753897253
                        ],
                        "iteration": 47,
                        "passed_time": 0.8663741409,
                        "remaining_time": 0.938571986,
                        "test": [
                          0.5281735839,
                          0.6794734761
                        ]
                      },
                      {
                        "learn": [
                          0.6748283958
                        ],
                        "iteration": 48,
                        "passed_time": 0.8818242662,
                        "remaining_time": 0.9178170934,
                        "test": [
                          0.5217790996,
                          0.6789957038
                        ]
                      },
                      {
                        "learn": [
                          0.6745728918
                        ],
                        "iteration": 49,
                        "passed_time": 0.9080402619,
                        "remaining_time": 0.9080402619,
                        "test": [
                          0.5219007706,
                          0.6785420592
                        ]
                      },
                      {
                        "learn": [
                          0.6740486388
                        ],
                        "iteration": 50,
                        "passed_time": 0.9248981679,
                        "remaining_time": 0.8886276515,
                        "test": [
                          0.5182911991,
                          0.6778196459
                        ]
                      },
                      {
                        "learn": [
                          0.6738851521
                        ],
                        "iteration": 51,
                        "passed_time": 0.9392891376,
                        "remaining_time": 0.867036127,
                        "test": [
                          0.5126808165,
                          0.6777073455
                        ]
                      },
                      {
                        "learn": [
                          0.6736498065
                        ],
                        "iteration": 52,
                        "passed_time": 0.9547030936,
                        "remaining_time": 0.8466234981,
                        "test": [
                          0.5142895769,
                          0.6773707358
                        ]
                      },
                      {
                        "learn": [
                          0.6735357641
                        ],
                        "iteration": 53,
                        "passed_time": 0.9688159575,
                        "remaining_time": 0.8252876675,
                        "test": [
                          0.507029877,
                          0.6773860342
                        ]
                      },
                      {
                        "learn": [
                          0.6732556673
                        ],
                        "iteration": 54,
                        "passed_time": 0.9839064377,
                        "remaining_time": 0.8050143581,
                        "test": [
                          0.4823441936,
                          0.6825456704
                        ]
                      },
                      {
                        "learn": [
                          0.6731087902
                        ],
                        "iteration": 55,
                        "passed_time": 0.9978984833,
                        "remaining_time": 0.784063094,
                        "test": [
                          0.4760037853,
                          0.6825956567
                        ]
                      },
                      {
                        "learn": [
                          0.672843868
                        ],
                        "iteration": 56,
                        "passed_time": 1.010273781,
                        "remaining_time": 0.7621363614,
                        "test": [
                          0.4718534541,
                          0.6821613387
                        ]
                      },
                      {
                        "learn": [
                          0.6726430157
                        ],
                        "iteration": 57,
                        "passed_time": 1.025921764,
                        "remaining_time": 0.7429088638,
                        "test": [
                          0.485967284,
                          0.6819590728
                        ]
                      },
                      {
                        "learn": [
                          0.6724952143
                        ],
                        "iteration": 58,
                        "passed_time": 1.040379853,
                        "remaining_time": 0.7229758304,
                        "test": [
                          0.4900905773,
                          0.681731899
                        ]
                      },
                      {
                        "learn": [
                          0.6721789602
                        ],
                        "iteration": 59,
                        "passed_time": 1.05356094,
                        "remaining_time": 0.7023739601,
                        "test": [
                          0.4875219684,
                          0.6813691816
                        ]
                      },
                      {
                        "learn": [
                          0.6719971643
                        ],
                        "iteration": 60,
                        "passed_time": 1.066607559,
                        "remaining_time": 0.6819294228,
                        "test": [
                          0.4776531026,
                          0.6811365688
                        ]
                      },
                      {
                        "learn": [
                          0.6717562642
                        ],
                        "iteration": 61,
                        "passed_time": 1.079209523,
                        "remaining_time": 0.6614509982,
                        "test": [
                          0.4924564012,
                          0.6804016928
                        ]
                      },
                      {
                        "learn": [
                          0.6714613179
                        ],
                        "iteration": 62,
                        "passed_time": 1.093036271,
                        "remaining_time": 0.6419419372,
                        "test": [
                          0.490631337,
                          0.6800349154
                        ]
                      },
                      {
                        "learn": [
                          0.6708263431
                        ],
                        "iteration": 63,
                        "passed_time": 1.110159423,
                        "remaining_time": 0.6244646757,
                        "test": [
                          0.4879140192,
                          0.679382198
                        ]
                      },
                      {
                        "learn": [
                          0.6704548375
                        ],
                        "iteration": 64,
                        "passed_time": 1.123789474,
                        "remaining_time": 0.6051174092,
                        "test": [
                          0.4864674868,
                          0.6789681782
                        ]
                      },
                      {
                        "learn": [
                          0.6702610683
                        ],
                        "iteration": 65,
                        "passed_time": 1.137184568,
                        "remaining_time": 0.5858223532,
                        "test": [
                          0.493091794,
                          0.6787065408
                        ]
                      },
                      {
                        "learn": [
                          0.6698706129
                        ],
                        "iteration": 66,
                        "passed_time": 1.150569752,
                        "remaining_time": 0.5666985344,
                        "test": [
                          0.4932134649,
                          0.6783016711
                        ]
                      },
                      {
                        "learn": [
                          0.6695550203
                        ],
                        "iteration": 67,
                        "passed_time": 1.175557334,
                        "remaining_time": 0.5532034514,
                        "test": [
                          0.4935108828,
                          0.6780195085
                        ]
                      },
                      {
                        "learn": [
                          0.6692137879
                        ],
                        "iteration": 68,
                        "passed_time": 1.20175191,
                        "remaining_time": 0.5399175249,
                        "test": [
                          0.4957955928,
                          0.6793236254
                        ]
                      },
                      {
                        "learn": [
                          0.6688899173
                        ],
                        "iteration": 69,
                        "passed_time": 1.227162657,
                        "remaining_time": 0.525926853,
                        "test": [
                          0.4853724483,
                          0.6790654378
                        ]
                      },
                      {
                        "learn": [
                          0.6685809221
                        ],
                        "iteration": 70,
                        "passed_time": 1.245246706,
                        "remaining_time": 0.508621894,
                        "test": [
                          0.4806137623,
                          0.6782185296
                        ]
                      },
                      {
                        "learn": [
                          0.6684877753
                        ],
                        "iteration": 71,
                        "passed_time": 1.25793475,
                        "remaining_time": 0.4891968472,
                        "test": [
                          0.4794240908,
                          0.6780392602
                        ]
                      },
                      {
                        "learn": [
                          0.66816602
                        ],
                        "iteration": 72,
                        "passed_time": 1.271331124,
                        "remaining_time": 0.4702183609,
                        "test": [
                          0.4875490064,
                          0.6774382722
                        ]
                      },
                      {
                        "learn": [
                          0.6680077265
                        ],
                        "iteration": 73,
                        "passed_time": 1.283986958,
                        "remaining_time": 0.4511305529,
                        "test": [
                          0.492970123,
                          0.6770958437
                        ]
                      },
                      {
                        "learn": [
                          0.6675870468
                        ],
                        "iteration": 74,
                        "passed_time": 1.296239408,
                        "remaining_time": 0.4320798026,
                        "test": [
                          0.4839259159,
                          0.6770156792
                        ]
                      },
                      {
                        "learn": [
                          0.6673799406
                        ],
                        "iteration": 75,
                        "passed_time": 1.309570202,
                        "remaining_time": 0.413548485,
                        "test": [
                          0.4863187779,
                          0.6767804068
                        ]
                      },
                      {
                        "learn": [
                          0.6672642032
                        ],
                        "iteration": 76,
                        "passed_time": 1.323291752,
                        "remaining_time": 0.3952689647,
                        "test": [
                          0.4854535623,
                          0.6766037395
                        ]
                      },
                      {
                        "learn": [
                          0.6669738052
                        ],
                        "iteration": 77,
                        "passed_time": 1.338663508,
                        "remaining_time": 0.3775717587,
                        "test": [
                          0.4874138164,
                          0.6761810017
                        ]
                      },
                      {
                        "learn": [
                          0.6665851432
                        ],
                        "iteration": 78,
                        "passed_time": 1.365047592,
                        "remaining_time": 0.3628607522,
                        "test": [
                          0.4818169528,
                          0.6756860263
                        ]
                      },
                      {
                        "learn": [
                          0.666445039
                        ],
                        "iteration": 79,
                        "passed_time": 1.387968313,
                        "remaining_time": 0.3469920783,
                        "test": [
                          0.4794916858,
                          0.6752033283
                        ]
                      },
                      {
                        "learn": [
                          0.6661201689
                        ],
                        "iteration": 80,
                        "passed_time": 1.412369594,
                        "remaining_time": 0.3312965715,
                        "test": [
                          0.4835338651,
                          0.674869879
                        ]
                      },
                      {
                        "learn": [
                          0.6658687945
                        ],
                        "iteration": 81,
                        "passed_time": 1.427283657,
                        "remaining_time": 0.3133061687,
                        "test": [
                          0.4982154928,
                          0.6745236589
                        ]
                      },
                      {
                        "learn": [
                          0.6656170108
                        ],
                        "iteration": 82,
                        "passed_time": 1.440871328,
                        "remaining_time": 0.2951182239,
                        "test": [
                          0.5020008111,
                          0.6743444777
                        ]
                      },
                      {
                        "learn": [
                          0.6650536304
                        ],
                        "iteration": 83,
                        "passed_time": 1.453839718,
                        "remaining_time": 0.2769218511,
                        "test": [
                          0.5202649723,
                          0.673798594
                        ]
                      },
                      {
                        "learn": [
                          0.6645558416
                        ],
                        "iteration": 84,
                        "passed_time": 1.466618011,
                        "remaining_time": 0.2588149431,
                        "test": [
                          0.5151277545,
                          0.6735004214
                        ]
                      },
                      {
                        "learn": [
                          0.6642527126
                        ],
                        "iteration": 85,
                        "passed_time": 1.479204806,
                        "remaining_time": 0.2408007824,
                        "test": [
                          0.5179802623,
                          0.673211238
                        ]
                      },
                      {
                        "learn": [
                          0.6639304671
                        ],
                        "iteration": 86,
                        "passed_time": 1.492536411,
                        "remaining_time": 0.2230226821,
                        "test": [
                          0.5154792483,
                          0.6726601653
                        ]
                      },
                      {
                        "learn": [
                          0.6635120684
                        ],
                        "iteration": 87,
                        "passed_time": 1.50487322,
                        "remaining_time": 0.2052099845,
                        "test": [
                          0.5125726646,
                          0.6721177541
                        ]
                      },
                      {
                        "learn": [
                          0.6633084542
                        ],
                        "iteration": 88,
                        "passed_time": 1.516998901,
                        "remaining_time": 0.1874942462,
                        "test": [
                          0.5065702312,
                          0.6719491664
                        ]
                      },
                      {
                        "learn": [
                          0.66294582
                        ],
                        "iteration": 89,
                        "passed_time": 1.529492327,
                        "remaining_time": 0.1699435919,
                        "test": [
                          0.5096255239,
                          0.671844049
                        ]
                      },
                      {
                        "learn": [
                          0.662582502
                        ],
                        "iteration": 90,
                        "passed_time": 1.543531402,
                        "remaining_time": 0.1526569518,
                        "test": [
                          0.5030688117,
                          0.671331586
                        ]
                      },
                      {
                        "learn": [
                          0.6621524507
                        ],
                        "iteration": 91,
                        "passed_time": 1.557970601,
                        "remaining_time": 0.1354757045,
                        "test": [
                          0.5059753954,
                          0.6707134268
                        ]
                      },
                      {
                        "learn": [
                          0.6617296584
                        ],
                        "iteration": 92,
                        "passed_time": 1.575897952,
                        "remaining_time": 0.1186159749,
                        "test": [
                          0.4869541706,
                          0.6700435192
                        ]
                      },
                      {
                        "learn": [
                          0.6613122386
                        ],
                        "iteration": 93,
                        "passed_time": 1.598790174,
                        "remaining_time": 0.1020504367,
                        "test": [
                          0.4993105313,
                          0.6693743126
                        ]
                      },
                      {
                        "learn": [
                          0.6611885451
                        ],
                        "iteration": 94,
                        "passed_time": 1.62213737,
                        "remaining_time": 0.08537565106,
                        "test": [
                          0.5095444099,
                          0.6691932451
                        ]
                      },
                      {
                        "learn": [
                          0.6609076841
                        ],
                        "iteration": 95,
                        "passed_time": 1.641927845,
                        "remaining_time": 0.06841366022,
                        "test": [
                          0.5058672435,
                          0.6689273312
                        ]
                      },
                      {
                        "learn": [
                          0.6606739984
                        ],
                        "iteration": 96,
                        "passed_time": 1.655762733,
                        "remaining_time": 0.0512091567,
                        "test": [
                          0.5013518994,
                          0.6687736565
                        ]
                      },
                      {
                        "learn": [
                          0.6604646321
                        ],
                        "iteration": 97,
                        "passed_time": 1.670196362,
                        "remaining_time": 0.03408564005,
                        "test": [
                          0.5057185345,
                          0.6685144259
                        ]
                      },
                      {
                        "learn": [
                          0.6602358807
                        ],
                        "iteration": 98,
                        "passed_time": 1.684103119,
                        "remaining_time": 0.01701114262,
                        "test": [
                          0.5029471407,
                          0.6683580111
                        ]
                      },
                      {
                        "learn": [
                          0.6600631883
                        ],
                        "iteration": 99,
                        "passed_time": 1.696949541,
                        "remaining_time": 0,
                        "test": [
                          0.5157225902,
                          0.6673071574
                        ]
                      }
                    ],
                    "meta": {
                      "test_sets": [
                        "test"
                      ],
                      "test_metrics": [
                        {
                          "best_value": "Max",
                          "name": "AUC"
                        },
                        {
                          "best_value": "Min",
                          "name": "Logloss"
                        }
                      ],
                      "learn_metrics": [
                        {
                          "best_value": "Min",
                          "name": "Logloss"
                        }
                      ],
                      "launch_mode": "Train",
                      "parameters": "",
                      "iteration_count": 100,
                      "learn_sets": [
                        "learn"
                      ],
                      "name": "experiment"
                    }
                  }
                }
              }
            },
            "layout": "IPY_MODEL_b4027095aeb14c7e98ea9d26c0060217"
          }
        }
      }
    }
  },
  "nbformat": 4,
  "nbformat_minor": 0
}