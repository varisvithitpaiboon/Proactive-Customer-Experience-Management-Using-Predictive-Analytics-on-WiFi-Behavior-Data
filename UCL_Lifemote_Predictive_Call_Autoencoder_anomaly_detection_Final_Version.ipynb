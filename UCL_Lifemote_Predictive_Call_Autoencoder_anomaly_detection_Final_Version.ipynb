{
  "cells": [
    {
      "cell_type": "markdown",
      "metadata": {
        "id": "view-in-github",
        "colab_type": "text"
      },
      "source": [
        "<a href=\"https://colab.research.google.com/github/varisvithitpaiboon/Proactive-Customer-Experience-Management-Using-Predictive-Analytics-on-WiFi-Behavior-Data/blob/main/UCL_Lifemote_Predictive_Call_Autoencoder_anomaly_detection_Final_Version.ipynb\" target=\"_parent\"><img src=\"https://colab.research.google.com/assets/colab-badge.svg\" alt=\"Open In Colab\"/></a>"
      ]
    },
    {
      "cell_type": "markdown",
      "metadata": {
        "id": "0qgb29YvnwCN"
      },
      "source": [
        "# Import library"
      ]
    },
    {
      "cell_type": "code",
      "execution_count": null,
      "metadata": {
        "id": "1t6Oh6kHr6u5",
        "colab": {
          "base_uri": "https://localhost:8080/"
        },
        "outputId": "67f8f36c-83cd-41d0-c0d1-60162ca6ff6b"
      },
      "outputs": [
        {
          "output_type": "stream",
          "name": "stdout",
          "text": [
            "\u001b[?25l   \u001b[90m━━━━━━━━━━━━━━━━━━━━━━━━━━━━━━━━━━━━━━━━\u001b[0m \u001b[32m0.0/395.9 kB\u001b[0m \u001b[31m?\u001b[0m eta \u001b[36m-:--:--\u001b[0m\r\u001b[2K   \u001b[90m━━━━━━━━━━━━━━━━━━━━━━━━━━━━━━━━━━━━━━━━\u001b[0m \u001b[32m395.9/395.9 kB\u001b[0m \u001b[31m15.6 MB/s\u001b[0m eta \u001b[36m0:00:00\u001b[0m\n",
            "\u001b[2K   \u001b[90m━━━━━━━━━━━━━━━━━━━━━━━━━━━━━━━━━━━━━━━━\u001b[0m \u001b[32m247.0/247.0 kB\u001b[0m \u001b[31m19.5 MB/s\u001b[0m eta \u001b[36m0:00:00\u001b[0m\n",
            "\u001b[2K   \u001b[90m━━━━━━━━━━━━━━━━━━━━━━━━━━━━━━━━━━━━━━━━\u001b[0m \u001b[32m99.2/99.2 MB\u001b[0m \u001b[31m25.9 MB/s\u001b[0m eta \u001b[36m0:00:00\u001b[0m\n",
            "\u001b[?25h"
          ]
        }
      ],
      "source": [
        "!pip -q install optuna\n",
        "!pip -q install catboost\n",
        "!pip -q install tsfresh[dask]"
      ]
    },
    {
      "cell_type": "code",
      "execution_count": null,
      "metadata": {
        "id": "uUVCxhghwsdP"
      },
      "outputs": [],
      "source": [
        "import numpy as np\n",
        "import pandas as pd\n",
        "import os\n",
        "from datetime import timedelta\n",
        "from sklearn.preprocessing import OrdinalEncoder\n",
        "from sklearn.preprocessing import LabelEncoder\n",
        "from sklearn.model_selection import train_test_split\n",
        "from xgboost import XGBClassifier\n",
        "from sklearn.feature_selection import RFE\n",
        "import matplotlib.pyplot as plt\n",
        "import matplotlib.ticker as ticker\n",
        "import seaborn as sns\n",
        "from sklearn.model_selection import TimeSeriesSplit, train_test_split\n",
        "from imblearn.over_sampling import SMOTE\n",
        "from imblearn.combine import SMOTETomek\n",
        "from collections import Counter\n",
        "from sklearn.metrics import roc_auc_score, accuracy_score, precision_score, recall_score, f1_score, make_scorer, average_precision_score\n",
        "from sklearn.model_selection import cross_val_score\n",
        "import optuna\n",
        "import shap\n",
        "from sklearn.ensemble import RandomForestClassifier\n",
        "from catboost import CatBoostClassifier, Pool\n",
        "import IPython.display as display\n",
        "from sklearn.metrics import confusion_matrix, ConfusionMatrixDisplay\n",
        "from statsmodels.stats.outliers_influence import variance_inflation_factor\n",
        "from statsmodels.tools.tools import add_constant\n",
        "import gc\n",
        "import tsfresh\n",
        "from tsfresh import select_features\n",
        "from tsfresh import extract_features\n",
        "from tsfresh.utilities.dataframe_functions import impute\n",
        "from tsfresh.feature_extraction import EfficientFCParameters, MinimalFCParameters\n",
        "from sklearn.metrics import precision_recall_curve, average_precision_score\n",
        "from sklearn.metrics import average_precision_score, ndcg_score\n",
        "import stumpy\n",
        "from tqdm import tqdm\n",
        "from sklearn.model_selection import StratifiedShuffleSplit\n",
        "from sklearn.feature_selection import VarianceThreshold, SelectKBest, f_classif\n",
        "from sklearn.preprocessing import StandardScaler\n",
        "from tensorflow.keras.models import Model\n",
        "from tensorflow.keras.layers import Input, Dense\n",
        "from tensorflow.keras.callbacks import EarlyStopping\n"
      ]
    },
    {
      "cell_type": "markdown",
      "metadata": {
        "id": "09MBgybFntzV"
      },
      "source": [
        "# Import data from google drive"
      ]
    },
    {
      "cell_type": "code",
      "execution_count": null,
      "metadata": {
        "colab": {
          "base_uri": "https://localhost:8080/"
        },
        "id": "ONKcG8jXvWxb",
        "outputId": "3ce637b3-004f-4575-9ead-6f1da3c138b1"
      },
      "outputs": [
        {
          "output_type": "stream",
          "name": "stdout",
          "text": [
            "Mounted at /content/drive\n"
          ]
        }
      ],
      "source": [
        "from google.colab import drive\n",
        "drive.mount('/content/drive')"
      ]
    },
    {
      "cell_type": "markdown",
      "metadata": {
        "id": "nj1gnmsq71FI"
      },
      "source": [
        "## Import Network Data"
      ]
    },
    {
      "cell_type": "code",
      "execution_count": null,
      "metadata": {
        "colab": {
          "base_uri": "https://localhost:8080/"
        },
        "id": "iYZRrM6NSyg8",
        "outputId": "55334004-1f50-4c70-e4cd-31409a03530b"
      },
      "outputs": [
        {
          "output_type": "stream",
          "name": "stderr",
          "text": [
            "Processing CSV files: 100%|██████████| 30/30 [01:52<00:00,  3.73s/it]\n"
          ]
        },
        {
          "output_type": "stream",
          "name": "stdout",
          "text": [
            " Final df_network shape: (13605240, 96)\n"
          ]
        }
      ],
      "source": [
        "# Set your folder path inside Google Drive\n",
        "network_folder_path = '/content/drive/MyDrive/UCL-Lifemote/network_data'\n",
        "\n",
        "\n",
        "chunksize = 50000  # Adjust based on available RAM\n",
        "\n",
        "# List all CSV files in the folder\n",
        "network_csv_files = [f for f in os.listdir(network_folder_path) if f.endswith('.csv')]\n",
        "\n",
        "# Initialize an empty list to collect all chunks\n",
        "dataframes = []\n",
        "\n",
        "# Process files in chunks\n",
        "for file in tqdm(network_csv_files, desc=\"Processing CSV files\"):\n",
        "    full_path = os.path.join(network_folder_path, file)\n",
        "    try:\n",
        "        chunk_iter = pd.read_csv(full_path, chunksize=chunksize)\n",
        "        for i, chunk in enumerate(chunk_iter):\n",
        "            chunk['source_file'] = file  # Optional: tag origin\n",
        "            chunk['chunk_number'] = i    # Optional: track chunk\n",
        "            dataframes.append(chunk)     # Store each chunk temporarily\n",
        "    except Exception as e:\n",
        "        print(f\" Failed to load {file}: {e}\")\n",
        "\n",
        "# Combine all chunks into one DataFrame\n",
        "if dataframes:\n",
        "    df_network = pd.concat(dataframes, ignore_index=True)\n",
        "    print(f\" Final df_network shape: {df_network.shape}\")\n",
        "else:\n",
        "    print(\" No valid data was read from the folder.\")\n"
      ]
    },
    {
      "cell_type": "code",
      "execution_count": null,
      "metadata": {
        "colab": {
          "base_uri": "https://localhost:8080/"
        },
        "id": "Qqf7XA1339C_",
        "outputId": "f76378b0-9dab-46fd-e21c-2c421b89af5f"
      },
      "outputs": [
        {
          "output_type": "stream",
          "name": "stdout",
          "text": [
            "['2025-06-11 00:00:00' '2025-06-12 00:00:00' '2025-06-14 00:00:00'\n",
            " '2025-06-15 00:00:00' '2025-06-16 00:00:00' '2025-06-17 00:00:00'\n",
            " '2025-06-18 00:00:00' '2025-06-19 00:00:00' '2025-06-20 00:00:00'\n",
            " '2025-06-21 00:00:00' '2025-06-22 00:00:00' '2025-06-23 00:00:00'\n",
            " '2025-06-24 00:00:00' '2025-06-25 00:00:00' '2025-06-26 00:00:00'\n",
            " '2025-06-27 00:00:00' '2025-06-28 00:00:00' '2025-06-29 00:00:00'\n",
            " '2025-06-30 00:00:00' '2025-06-13 00:00:00' '2025-07-01 00:00:00'\n",
            " '2025-07-02 00:00:00' '2025-07-03 00:00:00' '2025-07-04 00:00:00'\n",
            " '2025-07-05 00:00:00' '2025-07-06 00:00:00' '2025-07-07 00:00:00'\n",
            " '2025-07-08 00:00:00' '2025-07-09 00:00:00' '2025-07-10 00:00:00']\n",
            "analysis_date\n",
            "2025-07-10 00:00:00    458053\n",
            "2025-07-09 00:00:00    457649\n",
            "2025-07-07 00:00:00    456972\n",
            "2025-07-08 00:00:00    456894\n",
            "2025-07-04 00:00:00    456205\n",
            "2025-07-06 00:00:00    456075\n",
            "2025-07-05 00:00:00    456067\n",
            "2025-07-03 00:00:00    455628\n",
            "2025-07-02 00:00:00    455247\n",
            "2025-07-01 00:00:00    455055\n",
            "2025-06-30 00:00:00    454728\n",
            "2025-06-27 00:00:00    454109\n",
            "2025-06-28 00:00:00    453884\n",
            "2025-06-26 00:00:00    453863\n",
            "2025-06-29 00:00:00    453761\n",
            "2025-06-25 00:00:00    452783\n",
            "2025-06-24 00:00:00    452671\n",
            "2025-06-23 00:00:00    452463\n",
            "2025-06-20 00:00:00    451960\n",
            "2025-06-18 00:00:00    451788\n",
            "2025-06-19 00:00:00    451544\n",
            "2025-06-21 00:00:00    451520\n",
            "2025-06-22 00:00:00    451493\n",
            "2025-06-17 00:00:00    451360\n",
            "2025-06-16 00:00:00    451254\n",
            "2025-06-13 00:00:00    450820\n",
            "2025-06-14 00:00:00    450519\n",
            "2025-06-12 00:00:00    450424\n",
            "2025-06-15 00:00:00    450410\n",
            "2025-06-11 00:00:00    450041\n",
            "Name: count, dtype: int64\n"
          ]
        }
      ],
      "source": [
        "print(df_network['analysis_date'].unique())\n",
        "print(df_network['analysis_date'].value_counts(dropna=False))"
      ]
    },
    {
      "cell_type": "code",
      "execution_count": null,
      "metadata": {
        "colab": {
          "base_uri": "https://localhost:8080/",
          "height": 342
        },
        "id": "bh8R-fLhOsHG",
        "outputId": "c97010a8-6d5d-473b-874f-cd1f5ac753ed"
      },
      "outputs": [
        {
          "output_type": "execute_result",
          "data": {
            "text/plain": [
              "              device_id        analysis_date             id  \\\n",
              "0  DEVICE_ID_961c5550db  2025-06-11 00:00:00  ID_b0a43c9bc9   \n",
              "1  DEVICE_ID_39190265c2  2025-06-11 00:00:00  ID_5c687e45be   \n",
              "2  DEVICE_ID_77a16a8d79  2025-06-11 00:00:00  ID_11db07b498   \n",
              "3  DEVICE_ID_905832b06c  2025-06-11 00:00:00  ID_393c580a22   \n",
              "4  DEVICE_ID_8f1dbe5a7f  2025-06-11 00:00:00  ID_67ec92db86   \n",
              "\n",
              "              analysis_id  reboots  script_boots  ap_count  total_samples_24  \\\n",
              "0  ANALYSIS_ID_e1e909f586        0             0         0              1878   \n",
              "1  ANALYSIS_ID_05f8ccfe3e        0             0         0                 2   \n",
              "2  ANALYSIS_ID_8df4ed77df        0             0         0                 0   \n",
              "3  ANALYSIS_ID_8ed247d1a2        0             0         0              1634   \n",
              "4  ANALYSIS_ID_55850a81fe        0             0         0              1488   \n",
              "\n",
              "   total_samples_5  good_samples_24  ...  mid_fwa_count  \\\n",
              "0             2174             1853  ...              0   \n",
              "1             2496                1  ...              0   \n",
              "2              818                0  ...              0   \n",
              "3             3787             1625  ...              0   \n",
              "4             1142                6  ...              0   \n",
              "\n",
              "   poor_iot_weighted_samples_24  poor_active_iot_weighted_samples_24  \\\n",
              "0                            14                                    1   \n",
              "1                             0                                    0   \n",
              "2                             0                                    0   \n",
              "3                             4                                    0   \n",
              "4                             0                                    0   \n",
              "\n",
              "   channel_changes_count_24  channel_changes_count_5  channel_changes_count_6  \\\n",
              "0                       0.0                      0.0                      NaN   \n",
              "1                       0.0                      0.0                      NaN   \n",
              "2                       0.0                      0.0                      NaN   \n",
              "3                       0.0                      0.0                      NaN   \n",
              "4                       0.0                      0.0                      NaN   \n",
              "\n",
              "   mem_usage  high_mem_usage_samples                      source_file  \\\n",
              "0      41.55                       0  cpe_status_2025-06-11_ready.csv   \n",
              "1      58.12                       0  cpe_status_2025-06-11_ready.csv   \n",
              "2      39.60                       0  cpe_status_2025-06-11_ready.csv   \n",
              "3      40.48                       0  cpe_status_2025-06-11_ready.csv   \n",
              "4      58.62                       0  cpe_status_2025-06-11_ready.csv   \n",
              "\n",
              "  chunk_number  \n",
              "0            0  \n",
              "1            0  \n",
              "2            0  \n",
              "3            0  \n",
              "4            0  \n",
              "\n",
              "[5 rows x 96 columns]"
            ],
            "text/html": [
              "\n",
              "  <div id=\"df-cc63d24a-e65d-4cae-9928-20b73b9a82df\" class=\"colab-df-container\">\n",
              "    <div>\n",
              "<style scoped>\n",
              "    .dataframe tbody tr th:only-of-type {\n",
              "        vertical-align: middle;\n",
              "    }\n",
              "\n",
              "    .dataframe tbody tr th {\n",
              "        vertical-align: top;\n",
              "    }\n",
              "\n",
              "    .dataframe thead th {\n",
              "        text-align: right;\n",
              "    }\n",
              "</style>\n",
              "<table border=\"1\" class=\"dataframe\">\n",
              "  <thead>\n",
              "    <tr style=\"text-align: right;\">\n",
              "      <th></th>\n",
              "      <th>device_id</th>\n",
              "      <th>analysis_date</th>\n",
              "      <th>id</th>\n",
              "      <th>analysis_id</th>\n",
              "      <th>reboots</th>\n",
              "      <th>script_boots</th>\n",
              "      <th>ap_count</th>\n",
              "      <th>total_samples_24</th>\n",
              "      <th>total_samples_5</th>\n",
              "      <th>good_samples_24</th>\n",
              "      <th>...</th>\n",
              "      <th>mid_fwa_count</th>\n",
              "      <th>poor_iot_weighted_samples_24</th>\n",
              "      <th>poor_active_iot_weighted_samples_24</th>\n",
              "      <th>channel_changes_count_24</th>\n",
              "      <th>channel_changes_count_5</th>\n",
              "      <th>channel_changes_count_6</th>\n",
              "      <th>mem_usage</th>\n",
              "      <th>high_mem_usage_samples</th>\n",
              "      <th>source_file</th>\n",
              "      <th>chunk_number</th>\n",
              "    </tr>\n",
              "  </thead>\n",
              "  <tbody>\n",
              "    <tr>\n",
              "      <th>0</th>\n",
              "      <td>DEVICE_ID_961c5550db</td>\n",
              "      <td>2025-06-11 00:00:00</td>\n",
              "      <td>ID_b0a43c9bc9</td>\n",
              "      <td>ANALYSIS_ID_e1e909f586</td>\n",
              "      <td>0</td>\n",
              "      <td>0</td>\n",
              "      <td>0</td>\n",
              "      <td>1878</td>\n",
              "      <td>2174</td>\n",
              "      <td>1853</td>\n",
              "      <td>...</td>\n",
              "      <td>0</td>\n",
              "      <td>14</td>\n",
              "      <td>1</td>\n",
              "      <td>0.0</td>\n",
              "      <td>0.0</td>\n",
              "      <td>NaN</td>\n",
              "      <td>41.55</td>\n",
              "      <td>0</td>\n",
              "      <td>cpe_status_2025-06-11_ready.csv</td>\n",
              "      <td>0</td>\n",
              "    </tr>\n",
              "    <tr>\n",
              "      <th>1</th>\n",
              "      <td>DEVICE_ID_39190265c2</td>\n",
              "      <td>2025-06-11 00:00:00</td>\n",
              "      <td>ID_5c687e45be</td>\n",
              "      <td>ANALYSIS_ID_05f8ccfe3e</td>\n",
              "      <td>0</td>\n",
              "      <td>0</td>\n",
              "      <td>0</td>\n",
              "      <td>2</td>\n",
              "      <td>2496</td>\n",
              "      <td>1</td>\n",
              "      <td>...</td>\n",
              "      <td>0</td>\n",
              "      <td>0</td>\n",
              "      <td>0</td>\n",
              "      <td>0.0</td>\n",
              "      <td>0.0</td>\n",
              "      <td>NaN</td>\n",
              "      <td>58.12</td>\n",
              "      <td>0</td>\n",
              "      <td>cpe_status_2025-06-11_ready.csv</td>\n",
              "      <td>0</td>\n",
              "    </tr>\n",
              "    <tr>\n",
              "      <th>2</th>\n",
              "      <td>DEVICE_ID_77a16a8d79</td>\n",
              "      <td>2025-06-11 00:00:00</td>\n",
              "      <td>ID_11db07b498</td>\n",
              "      <td>ANALYSIS_ID_8df4ed77df</td>\n",
              "      <td>0</td>\n",
              "      <td>0</td>\n",
              "      <td>0</td>\n",
              "      <td>0</td>\n",
              "      <td>818</td>\n",
              "      <td>0</td>\n",
              "      <td>...</td>\n",
              "      <td>0</td>\n",
              "      <td>0</td>\n",
              "      <td>0</td>\n",
              "      <td>0.0</td>\n",
              "      <td>0.0</td>\n",
              "      <td>NaN</td>\n",
              "      <td>39.60</td>\n",
              "      <td>0</td>\n",
              "      <td>cpe_status_2025-06-11_ready.csv</td>\n",
              "      <td>0</td>\n",
              "    </tr>\n",
              "    <tr>\n",
              "      <th>3</th>\n",
              "      <td>DEVICE_ID_905832b06c</td>\n",
              "      <td>2025-06-11 00:00:00</td>\n",
              "      <td>ID_393c580a22</td>\n",
              "      <td>ANALYSIS_ID_8ed247d1a2</td>\n",
              "      <td>0</td>\n",
              "      <td>0</td>\n",
              "      <td>0</td>\n",
              "      <td>1634</td>\n",
              "      <td>3787</td>\n",
              "      <td>1625</td>\n",
              "      <td>...</td>\n",
              "      <td>0</td>\n",
              "      <td>4</td>\n",
              "      <td>0</td>\n",
              "      <td>0.0</td>\n",
              "      <td>0.0</td>\n",
              "      <td>NaN</td>\n",
              "      <td>40.48</td>\n",
              "      <td>0</td>\n",
              "      <td>cpe_status_2025-06-11_ready.csv</td>\n",
              "      <td>0</td>\n",
              "    </tr>\n",
              "    <tr>\n",
              "      <th>4</th>\n",
              "      <td>DEVICE_ID_8f1dbe5a7f</td>\n",
              "      <td>2025-06-11 00:00:00</td>\n",
              "      <td>ID_67ec92db86</td>\n",
              "      <td>ANALYSIS_ID_55850a81fe</td>\n",
              "      <td>0</td>\n",
              "      <td>0</td>\n",
              "      <td>0</td>\n",
              "      <td>1488</td>\n",
              "      <td>1142</td>\n",
              "      <td>6</td>\n",
              "      <td>...</td>\n",
              "      <td>0</td>\n",
              "      <td>0</td>\n",
              "      <td>0</td>\n",
              "      <td>0.0</td>\n",
              "      <td>0.0</td>\n",
              "      <td>NaN</td>\n",
              "      <td>58.62</td>\n",
              "      <td>0</td>\n",
              "      <td>cpe_status_2025-06-11_ready.csv</td>\n",
              "      <td>0</td>\n",
              "    </tr>\n",
              "  </tbody>\n",
              "</table>\n",
              "<p>5 rows × 96 columns</p>\n",
              "</div>\n",
              "    <div class=\"colab-df-buttons\">\n",
              "\n",
              "  <div class=\"colab-df-container\">\n",
              "    <button class=\"colab-df-convert\" onclick=\"convertToInteractive('df-cc63d24a-e65d-4cae-9928-20b73b9a82df')\"\n",
              "            title=\"Convert this dataframe to an interactive table.\"\n",
              "            style=\"display:none;\">\n",
              "\n",
              "  <svg xmlns=\"http://www.w3.org/2000/svg\" height=\"24px\" viewBox=\"0 -960 960 960\">\n",
              "    <path d=\"M120-120v-720h720v720H120Zm60-500h600v-160H180v160Zm220 220h160v-160H400v160Zm0 220h160v-160H400v160ZM180-400h160v-160H180v160Zm440 0h160v-160H620v160ZM180-180h160v-160H180v160Zm440 0h160v-160H620v160Z\"/>\n",
              "  </svg>\n",
              "    </button>\n",
              "\n",
              "  <style>\n",
              "    .colab-df-container {\n",
              "      display:flex;\n",
              "      gap: 12px;\n",
              "    }\n",
              "\n",
              "    .colab-df-convert {\n",
              "      background-color: #E8F0FE;\n",
              "      border: none;\n",
              "      border-radius: 50%;\n",
              "      cursor: pointer;\n",
              "      display: none;\n",
              "      fill: #1967D2;\n",
              "      height: 32px;\n",
              "      padding: 0 0 0 0;\n",
              "      width: 32px;\n",
              "    }\n",
              "\n",
              "    .colab-df-convert:hover {\n",
              "      background-color: #E2EBFA;\n",
              "      box-shadow: 0px 1px 2px rgba(60, 64, 67, 0.3), 0px 1px 3px 1px rgba(60, 64, 67, 0.15);\n",
              "      fill: #174EA6;\n",
              "    }\n",
              "\n",
              "    .colab-df-buttons div {\n",
              "      margin-bottom: 4px;\n",
              "    }\n",
              "\n",
              "    [theme=dark] .colab-df-convert {\n",
              "      background-color: #3B4455;\n",
              "      fill: #D2E3FC;\n",
              "    }\n",
              "\n",
              "    [theme=dark] .colab-df-convert:hover {\n",
              "      background-color: #434B5C;\n",
              "      box-shadow: 0px 1px 3px 1px rgba(0, 0, 0, 0.15);\n",
              "      filter: drop-shadow(0px 1px 2px rgba(0, 0, 0, 0.3));\n",
              "      fill: #FFFFFF;\n",
              "    }\n",
              "  </style>\n",
              "\n",
              "    <script>\n",
              "      const buttonEl =\n",
              "        document.querySelector('#df-cc63d24a-e65d-4cae-9928-20b73b9a82df button.colab-df-convert');\n",
              "      buttonEl.style.display =\n",
              "        google.colab.kernel.accessAllowed ? 'block' : 'none';\n",
              "\n",
              "      async function convertToInteractive(key) {\n",
              "        const element = document.querySelector('#df-cc63d24a-e65d-4cae-9928-20b73b9a82df');\n",
              "        const dataTable =\n",
              "          await google.colab.kernel.invokeFunction('convertToInteractive',\n",
              "                                                    [key], {});\n",
              "        if (!dataTable) return;\n",
              "\n",
              "        const docLinkHtml = 'Like what you see? Visit the ' +\n",
              "          '<a target=\"_blank\" href=https://colab.research.google.com/notebooks/data_table.ipynb>data table notebook</a>'\n",
              "          + ' to learn more about interactive tables.';\n",
              "        element.innerHTML = '';\n",
              "        dataTable['output_type'] = 'display_data';\n",
              "        await google.colab.output.renderOutput(dataTable, element);\n",
              "        const docLink = document.createElement('div');\n",
              "        docLink.innerHTML = docLinkHtml;\n",
              "        element.appendChild(docLink);\n",
              "      }\n",
              "    </script>\n",
              "  </div>\n",
              "\n",
              "\n",
              "    <div id=\"df-85526c91-aac6-4220-9584-99beb9fbb32b\">\n",
              "      <button class=\"colab-df-quickchart\" onclick=\"quickchart('df-85526c91-aac6-4220-9584-99beb9fbb32b')\"\n",
              "                title=\"Suggest charts\"\n",
              "                style=\"display:none;\">\n",
              "\n",
              "<svg xmlns=\"http://www.w3.org/2000/svg\" height=\"24px\"viewBox=\"0 0 24 24\"\n",
              "     width=\"24px\">\n",
              "    <g>\n",
              "        <path d=\"M19 3H5c-1.1 0-2 .9-2 2v14c0 1.1.9 2 2 2h14c1.1 0 2-.9 2-2V5c0-1.1-.9-2-2-2zM9 17H7v-7h2v7zm4 0h-2V7h2v10zm4 0h-2v-4h2v4z\"/>\n",
              "    </g>\n",
              "</svg>\n",
              "      </button>\n",
              "\n",
              "<style>\n",
              "  .colab-df-quickchart {\n",
              "      --bg-color: #E8F0FE;\n",
              "      --fill-color: #1967D2;\n",
              "      --hover-bg-color: #E2EBFA;\n",
              "      --hover-fill-color: #174EA6;\n",
              "      --disabled-fill-color: #AAA;\n",
              "      --disabled-bg-color: #DDD;\n",
              "  }\n",
              "\n",
              "  [theme=dark] .colab-df-quickchart {\n",
              "      --bg-color: #3B4455;\n",
              "      --fill-color: #D2E3FC;\n",
              "      --hover-bg-color: #434B5C;\n",
              "      --hover-fill-color: #FFFFFF;\n",
              "      --disabled-bg-color: #3B4455;\n",
              "      --disabled-fill-color: #666;\n",
              "  }\n",
              "\n",
              "  .colab-df-quickchart {\n",
              "    background-color: var(--bg-color);\n",
              "    border: none;\n",
              "    border-radius: 50%;\n",
              "    cursor: pointer;\n",
              "    display: none;\n",
              "    fill: var(--fill-color);\n",
              "    height: 32px;\n",
              "    padding: 0;\n",
              "    width: 32px;\n",
              "  }\n",
              "\n",
              "  .colab-df-quickchart:hover {\n",
              "    background-color: var(--hover-bg-color);\n",
              "    box-shadow: 0 1px 2px rgba(60, 64, 67, 0.3), 0 1px 3px 1px rgba(60, 64, 67, 0.15);\n",
              "    fill: var(--button-hover-fill-color);\n",
              "  }\n",
              "\n",
              "  .colab-df-quickchart-complete:disabled,\n",
              "  .colab-df-quickchart-complete:disabled:hover {\n",
              "    background-color: var(--disabled-bg-color);\n",
              "    fill: var(--disabled-fill-color);\n",
              "    box-shadow: none;\n",
              "  }\n",
              "\n",
              "  .colab-df-spinner {\n",
              "    border: 2px solid var(--fill-color);\n",
              "    border-color: transparent;\n",
              "    border-bottom-color: var(--fill-color);\n",
              "    animation:\n",
              "      spin 1s steps(1) infinite;\n",
              "  }\n",
              "\n",
              "  @keyframes spin {\n",
              "    0% {\n",
              "      border-color: transparent;\n",
              "      border-bottom-color: var(--fill-color);\n",
              "      border-left-color: var(--fill-color);\n",
              "    }\n",
              "    20% {\n",
              "      border-color: transparent;\n",
              "      border-left-color: var(--fill-color);\n",
              "      border-top-color: var(--fill-color);\n",
              "    }\n",
              "    30% {\n",
              "      border-color: transparent;\n",
              "      border-left-color: var(--fill-color);\n",
              "      border-top-color: var(--fill-color);\n",
              "      border-right-color: var(--fill-color);\n",
              "    }\n",
              "    40% {\n",
              "      border-color: transparent;\n",
              "      border-right-color: var(--fill-color);\n",
              "      border-top-color: var(--fill-color);\n",
              "    }\n",
              "    60% {\n",
              "      border-color: transparent;\n",
              "      border-right-color: var(--fill-color);\n",
              "    }\n",
              "    80% {\n",
              "      border-color: transparent;\n",
              "      border-right-color: var(--fill-color);\n",
              "      border-bottom-color: var(--fill-color);\n",
              "    }\n",
              "    90% {\n",
              "      border-color: transparent;\n",
              "      border-bottom-color: var(--fill-color);\n",
              "    }\n",
              "  }\n",
              "</style>\n",
              "\n",
              "      <script>\n",
              "        async function quickchart(key) {\n",
              "          const quickchartButtonEl =\n",
              "            document.querySelector('#' + key + ' button');\n",
              "          quickchartButtonEl.disabled = true;  // To prevent multiple clicks.\n",
              "          quickchartButtonEl.classList.add('colab-df-spinner');\n",
              "          try {\n",
              "            const charts = await google.colab.kernel.invokeFunction(\n",
              "                'suggestCharts', [key], {});\n",
              "          } catch (error) {\n",
              "            console.error('Error during call to suggestCharts:', error);\n",
              "          }\n",
              "          quickchartButtonEl.classList.remove('colab-df-spinner');\n",
              "          quickchartButtonEl.classList.add('colab-df-quickchart-complete');\n",
              "        }\n",
              "        (() => {\n",
              "          let quickchartButtonEl =\n",
              "            document.querySelector('#df-85526c91-aac6-4220-9584-99beb9fbb32b button');\n",
              "          quickchartButtonEl.style.display =\n",
              "            google.colab.kernel.accessAllowed ? 'block' : 'none';\n",
              "        })();\n",
              "      </script>\n",
              "    </div>\n",
              "\n",
              "    </div>\n",
              "  </div>\n"
            ],
            "application/vnd.google.colaboratory.intrinsic+json": {
              "type": "dataframe",
              "variable_name": "df_network"
            }
          },
          "metadata": {},
          "execution_count": 24
        }
      ],
      "source": [
        "df_network.head()"
      ]
    },
    {
      "cell_type": "markdown",
      "metadata": {
        "id": "9ZN96X2hFjuV"
      },
      "source": [
        "## Import Call Data"
      ]
    },
    {
      "cell_type": "code",
      "execution_count": null,
      "metadata": {
        "colab": {
          "base_uri": "https://localhost:8080/"
        },
        "id": "v3Gl04LtFiBO",
        "outputId": "e79d95a4-4496-4153-9fce-4158a21b8616"
      },
      "outputs": [
        {
          "output_type": "stream",
          "name": "stdout",
          "text": [
            "df_call shape: (47355, 7)\n"
          ]
        }
      ],
      "source": [
        "# Set your folder path inside Google Drive\n",
        "call_file_path = '/content/drive/MyDrive/UCL-Lifemote/call_data/df_call_final.csv'\n",
        "\n",
        "# Read the CSV file\n",
        "df_call = pd.read_csv(call_file_path)\n",
        "\n",
        "# Preview\n",
        "print(f\"df_call shape: {df_call.shape}\")"
      ]
    },
    {
      "cell_type": "code",
      "execution_count": null,
      "metadata": {
        "colab": {
          "base_uri": "https://localhost:8080/",
          "height": 293
        },
        "id": "EaZGoSAC9Z3O",
        "outputId": "50ccc064-c6da-49fa-df8b-e74256196577"
      },
      "outputs": [
        {
          "output_type": "execute_result",
          "data": {
            "text/plain": [
              "        id             resource_id                  created_at  user_id  \\\n",
              "0  1094528  RESOURCE_ID_b1a07b8694  2025-06-11 02:34:53.355349      465   \n",
              "1  1094529  RESOURCE_ID_072bdfd2f5  2025-06-11 02:34:54.344923      465   \n",
              "2  1094530  RESOURCE_ID_aa2d955d4e  2025-06-11 02:34:54.400746      465   \n",
              "3  1094531  RESOURCE_ID_b1a07b8694  2025-06-11 02:34:54.455219      465   \n",
              "4  1094532  RESOURCE_ID_24e3e9b021  2025-06-11 02:34:54.726571      465   \n",
              "\n",
              "   group_name             username resource  \n",
              "0  first-line  USERNAME_7cd244d515     home  \n",
              "1  first-line  USERNAME_7cd244d515      cpe  \n",
              "2  first-line  USERNAME_7cd244d515      cpe  \n",
              "3  first-line  USERNAME_7cd244d515      cpe  \n",
              "4  first-line  USERNAME_7cd244d515      cpe  "
            ],
            "text/html": [
              "\n",
              "  <div id=\"df-332a1583-6188-48c1-bb1e-177029564e90\" class=\"colab-df-container\">\n",
              "    <div>\n",
              "<style scoped>\n",
              "    .dataframe tbody tr th:only-of-type {\n",
              "        vertical-align: middle;\n",
              "    }\n",
              "\n",
              "    .dataframe tbody tr th {\n",
              "        vertical-align: top;\n",
              "    }\n",
              "\n",
              "    .dataframe thead th {\n",
              "        text-align: right;\n",
              "    }\n",
              "</style>\n",
              "<table border=\"1\" class=\"dataframe\">\n",
              "  <thead>\n",
              "    <tr style=\"text-align: right;\">\n",
              "      <th></th>\n",
              "      <th>id</th>\n",
              "      <th>resource_id</th>\n",
              "      <th>created_at</th>\n",
              "      <th>user_id</th>\n",
              "      <th>group_name</th>\n",
              "      <th>username</th>\n",
              "      <th>resource</th>\n",
              "    </tr>\n",
              "  </thead>\n",
              "  <tbody>\n",
              "    <tr>\n",
              "      <th>0</th>\n",
              "      <td>1094528</td>\n",
              "      <td>RESOURCE_ID_b1a07b8694</td>\n",
              "      <td>2025-06-11 02:34:53.355349</td>\n",
              "      <td>465</td>\n",
              "      <td>first-line</td>\n",
              "      <td>USERNAME_7cd244d515</td>\n",
              "      <td>home</td>\n",
              "    </tr>\n",
              "    <tr>\n",
              "      <th>1</th>\n",
              "      <td>1094529</td>\n",
              "      <td>RESOURCE_ID_072bdfd2f5</td>\n",
              "      <td>2025-06-11 02:34:54.344923</td>\n",
              "      <td>465</td>\n",
              "      <td>first-line</td>\n",
              "      <td>USERNAME_7cd244d515</td>\n",
              "      <td>cpe</td>\n",
              "    </tr>\n",
              "    <tr>\n",
              "      <th>2</th>\n",
              "      <td>1094530</td>\n",
              "      <td>RESOURCE_ID_aa2d955d4e</td>\n",
              "      <td>2025-06-11 02:34:54.400746</td>\n",
              "      <td>465</td>\n",
              "      <td>first-line</td>\n",
              "      <td>USERNAME_7cd244d515</td>\n",
              "      <td>cpe</td>\n",
              "    </tr>\n",
              "    <tr>\n",
              "      <th>3</th>\n",
              "      <td>1094531</td>\n",
              "      <td>RESOURCE_ID_b1a07b8694</td>\n",
              "      <td>2025-06-11 02:34:54.455219</td>\n",
              "      <td>465</td>\n",
              "      <td>first-line</td>\n",
              "      <td>USERNAME_7cd244d515</td>\n",
              "      <td>cpe</td>\n",
              "    </tr>\n",
              "    <tr>\n",
              "      <th>4</th>\n",
              "      <td>1094532</td>\n",
              "      <td>RESOURCE_ID_24e3e9b021</td>\n",
              "      <td>2025-06-11 02:34:54.726571</td>\n",
              "      <td>465</td>\n",
              "      <td>first-line</td>\n",
              "      <td>USERNAME_7cd244d515</td>\n",
              "      <td>cpe</td>\n",
              "    </tr>\n",
              "  </tbody>\n",
              "</table>\n",
              "</div>\n",
              "    <div class=\"colab-df-buttons\">\n",
              "\n",
              "  <div class=\"colab-df-container\">\n",
              "    <button class=\"colab-df-convert\" onclick=\"convertToInteractive('df-332a1583-6188-48c1-bb1e-177029564e90')\"\n",
              "            title=\"Convert this dataframe to an interactive table.\"\n",
              "            style=\"display:none;\">\n",
              "\n",
              "  <svg xmlns=\"http://www.w3.org/2000/svg\" height=\"24px\" viewBox=\"0 -960 960 960\">\n",
              "    <path d=\"M120-120v-720h720v720H120Zm60-500h600v-160H180v160Zm220 220h160v-160H400v160Zm0 220h160v-160H400v160ZM180-400h160v-160H180v160Zm440 0h160v-160H620v160ZM180-180h160v-160H180v160Zm440 0h160v-160H620v160Z\"/>\n",
              "  </svg>\n",
              "    </button>\n",
              "\n",
              "  <style>\n",
              "    .colab-df-container {\n",
              "      display:flex;\n",
              "      gap: 12px;\n",
              "    }\n",
              "\n",
              "    .colab-df-convert {\n",
              "      background-color: #E8F0FE;\n",
              "      border: none;\n",
              "      border-radius: 50%;\n",
              "      cursor: pointer;\n",
              "      display: none;\n",
              "      fill: #1967D2;\n",
              "      height: 32px;\n",
              "      padding: 0 0 0 0;\n",
              "      width: 32px;\n",
              "    }\n",
              "\n",
              "    .colab-df-convert:hover {\n",
              "      background-color: #E2EBFA;\n",
              "      box-shadow: 0px 1px 2px rgba(60, 64, 67, 0.3), 0px 1px 3px 1px rgba(60, 64, 67, 0.15);\n",
              "      fill: #174EA6;\n",
              "    }\n",
              "\n",
              "    .colab-df-buttons div {\n",
              "      margin-bottom: 4px;\n",
              "    }\n",
              "\n",
              "    [theme=dark] .colab-df-convert {\n",
              "      background-color: #3B4455;\n",
              "      fill: #D2E3FC;\n",
              "    }\n",
              "\n",
              "    [theme=dark] .colab-df-convert:hover {\n",
              "      background-color: #434B5C;\n",
              "      box-shadow: 0px 1px 3px 1px rgba(0, 0, 0, 0.15);\n",
              "      filter: drop-shadow(0px 1px 2px rgba(0, 0, 0, 0.3));\n",
              "      fill: #FFFFFF;\n",
              "    }\n",
              "  </style>\n",
              "\n",
              "    <script>\n",
              "      const buttonEl =\n",
              "        document.querySelector('#df-332a1583-6188-48c1-bb1e-177029564e90 button.colab-df-convert');\n",
              "      buttonEl.style.display =\n",
              "        google.colab.kernel.accessAllowed ? 'block' : 'none';\n",
              "\n",
              "      async function convertToInteractive(key) {\n",
              "        const element = document.querySelector('#df-332a1583-6188-48c1-bb1e-177029564e90');\n",
              "        const dataTable =\n",
              "          await google.colab.kernel.invokeFunction('convertToInteractive',\n",
              "                                                    [key], {});\n",
              "        if (!dataTable) return;\n",
              "\n",
              "        const docLinkHtml = 'Like what you see? Visit the ' +\n",
              "          '<a target=\"_blank\" href=https://colab.research.google.com/notebooks/data_table.ipynb>data table notebook</a>'\n",
              "          + ' to learn more about interactive tables.';\n",
              "        element.innerHTML = '';\n",
              "        dataTable['output_type'] = 'display_data';\n",
              "        await google.colab.output.renderOutput(dataTable, element);\n",
              "        const docLink = document.createElement('div');\n",
              "        docLink.innerHTML = docLinkHtml;\n",
              "        element.appendChild(docLink);\n",
              "      }\n",
              "    </script>\n",
              "  </div>\n",
              "\n",
              "\n",
              "    <div id=\"df-74e9e41a-39ab-4eb6-9ec8-dece57bcfb4f\">\n",
              "      <button class=\"colab-df-quickchart\" onclick=\"quickchart('df-74e9e41a-39ab-4eb6-9ec8-dece57bcfb4f')\"\n",
              "                title=\"Suggest charts\"\n",
              "                style=\"display:none;\">\n",
              "\n",
              "<svg xmlns=\"http://www.w3.org/2000/svg\" height=\"24px\"viewBox=\"0 0 24 24\"\n",
              "     width=\"24px\">\n",
              "    <g>\n",
              "        <path d=\"M19 3H5c-1.1 0-2 .9-2 2v14c0 1.1.9 2 2 2h14c1.1 0 2-.9 2-2V5c0-1.1-.9-2-2-2zM9 17H7v-7h2v7zm4 0h-2V7h2v10zm4 0h-2v-4h2v4z\"/>\n",
              "    </g>\n",
              "</svg>\n",
              "      </button>\n",
              "\n",
              "<style>\n",
              "  .colab-df-quickchart {\n",
              "      --bg-color: #E8F0FE;\n",
              "      --fill-color: #1967D2;\n",
              "      --hover-bg-color: #E2EBFA;\n",
              "      --hover-fill-color: #174EA6;\n",
              "      --disabled-fill-color: #AAA;\n",
              "      --disabled-bg-color: #DDD;\n",
              "  }\n",
              "\n",
              "  [theme=dark] .colab-df-quickchart {\n",
              "      --bg-color: #3B4455;\n",
              "      --fill-color: #D2E3FC;\n",
              "      --hover-bg-color: #434B5C;\n",
              "      --hover-fill-color: #FFFFFF;\n",
              "      --disabled-bg-color: #3B4455;\n",
              "      --disabled-fill-color: #666;\n",
              "  }\n",
              "\n",
              "  .colab-df-quickchart {\n",
              "    background-color: var(--bg-color);\n",
              "    border: none;\n",
              "    border-radius: 50%;\n",
              "    cursor: pointer;\n",
              "    display: none;\n",
              "    fill: var(--fill-color);\n",
              "    height: 32px;\n",
              "    padding: 0;\n",
              "    width: 32px;\n",
              "  }\n",
              "\n",
              "  .colab-df-quickchart:hover {\n",
              "    background-color: var(--hover-bg-color);\n",
              "    box-shadow: 0 1px 2px rgba(60, 64, 67, 0.3), 0 1px 3px 1px rgba(60, 64, 67, 0.15);\n",
              "    fill: var(--button-hover-fill-color);\n",
              "  }\n",
              "\n",
              "  .colab-df-quickchart-complete:disabled,\n",
              "  .colab-df-quickchart-complete:disabled:hover {\n",
              "    background-color: var(--disabled-bg-color);\n",
              "    fill: var(--disabled-fill-color);\n",
              "    box-shadow: none;\n",
              "  }\n",
              "\n",
              "  .colab-df-spinner {\n",
              "    border: 2px solid var(--fill-color);\n",
              "    border-color: transparent;\n",
              "    border-bottom-color: var(--fill-color);\n",
              "    animation:\n",
              "      spin 1s steps(1) infinite;\n",
              "  }\n",
              "\n",
              "  @keyframes spin {\n",
              "    0% {\n",
              "      border-color: transparent;\n",
              "      border-bottom-color: var(--fill-color);\n",
              "      border-left-color: var(--fill-color);\n",
              "    }\n",
              "    20% {\n",
              "      border-color: transparent;\n",
              "      border-left-color: var(--fill-color);\n",
              "      border-top-color: var(--fill-color);\n",
              "    }\n",
              "    30% {\n",
              "      border-color: transparent;\n",
              "      border-left-color: var(--fill-color);\n",
              "      border-top-color: var(--fill-color);\n",
              "      border-right-color: var(--fill-color);\n",
              "    }\n",
              "    40% {\n",
              "      border-color: transparent;\n",
              "      border-right-color: var(--fill-color);\n",
              "      border-top-color: var(--fill-color);\n",
              "    }\n",
              "    60% {\n",
              "      border-color: transparent;\n",
              "      border-right-color: var(--fill-color);\n",
              "    }\n",
              "    80% {\n",
              "      border-color: transparent;\n",
              "      border-right-color: var(--fill-color);\n",
              "      border-bottom-color: var(--fill-color);\n",
              "    }\n",
              "    90% {\n",
              "      border-color: transparent;\n",
              "      border-bottom-color: var(--fill-color);\n",
              "    }\n",
              "  }\n",
              "</style>\n",
              "\n",
              "      <script>\n",
              "        async function quickchart(key) {\n",
              "          const quickchartButtonEl =\n",
              "            document.querySelector('#' + key + ' button');\n",
              "          quickchartButtonEl.disabled = true;  // To prevent multiple clicks.\n",
              "          quickchartButtonEl.classList.add('colab-df-spinner');\n",
              "          try {\n",
              "            const charts = await google.colab.kernel.invokeFunction(\n",
              "                'suggestCharts', [key], {});\n",
              "          } catch (error) {\n",
              "            console.error('Error during call to suggestCharts:', error);\n",
              "          }\n",
              "          quickchartButtonEl.classList.remove('colab-df-spinner');\n",
              "          quickchartButtonEl.classList.add('colab-df-quickchart-complete');\n",
              "        }\n",
              "        (() => {\n",
              "          let quickchartButtonEl =\n",
              "            document.querySelector('#df-74e9e41a-39ab-4eb6-9ec8-dece57bcfb4f button');\n",
              "          quickchartButtonEl.style.display =\n",
              "            google.colab.kernel.accessAllowed ? 'block' : 'none';\n",
              "        })();\n",
              "      </script>\n",
              "    </div>\n",
              "\n",
              "    </div>\n",
              "  </div>\n"
            ],
            "application/vnd.google.colaboratory.intrinsic+json": {
              "type": "dataframe",
              "variable_name": "df_call",
              "summary": "{\n  \"name\": \"df_call\",\n  \"rows\": 47355,\n  \"fields\": [\n    {\n      \"column\": \"id\",\n      \"properties\": {\n        \"dtype\": \"number\",\n        \"std\": 33980,\n        \"min\": 1094528,\n        \"max\": 1244497,\n        \"num_unique_values\": 47355,\n        \"samples\": [\n          1111757,\n          1141210,\n          1121660\n        ],\n        \"semantic_type\": \"\",\n        \"description\": \"\"\n      }\n    },\n    {\n      \"column\": \"resource_id\",\n      \"properties\": {\n        \"dtype\": \"category\",\n        \"num_unique_values\": 13401,\n        \"samples\": [\n          \"RESOURCE_ID_ef02ebde98\",\n          \"RESOURCE_ID_171d384fbf\",\n          \"RESOURCE_ID_3e54810d99\"\n        ],\n        \"semantic_type\": \"\",\n        \"description\": \"\"\n      }\n    },\n    {\n      \"column\": \"created_at\",\n      \"properties\": {\n        \"dtype\": \"object\",\n        \"num_unique_values\": 47355,\n        \"samples\": [\n          \"2025-06-16 14:41:04.694994\",\n          \"2025-06-24 19:28:15.638776\",\n          \"2025-06-19 12:00:33.318200\"\n        ],\n        \"semantic_type\": \"\",\n        \"description\": \"\"\n      }\n    },\n    {\n      \"column\": \"user_id\",\n      \"properties\": {\n        \"dtype\": \"number\",\n        \"std\": 91,\n        \"min\": 13,\n        \"max\": 603,\n        \"num_unique_values\": 107,\n        \"samples\": [\n          386,\n          510,\n          516\n        ],\n        \"semantic_type\": \"\",\n        \"description\": \"\"\n      }\n    },\n    {\n      \"column\": \"group_name\",\n      \"properties\": {\n        \"dtype\": \"category\",\n        \"num_unique_values\": 2,\n        \"samples\": [\n          \"second-line\",\n          \"first-line\"\n        ],\n        \"semantic_type\": \"\",\n        \"description\": \"\"\n      }\n    },\n    {\n      \"column\": \"username\",\n      \"properties\": {\n        \"dtype\": \"category\",\n        \"num_unique_values\": 107,\n        \"samples\": [\n          \"USERNAME_97f47a07fc\",\n          \"USERNAME_201aa746c1\"\n        ],\n        \"semantic_type\": \"\",\n        \"description\": \"\"\n      }\n    },\n    {\n      \"column\": \"resource\",\n      \"properties\": {\n        \"dtype\": \"category\",\n        \"num_unique_values\": 2,\n        \"samples\": [\n          \"cpe\",\n          \"home\"\n        ],\n        \"semantic_type\": \"\",\n        \"description\": \"\"\n      }\n    }\n  ]\n}"
            }
          },
          "metadata": {},
          "execution_count": 5
        }
      ],
      "source": [
        "df_call.head()"
      ]
    },
    {
      "cell_type": "code",
      "source": [
        "# Calculate filling rates\n",
        "filling_rates = 100 * df_call.count() / df_call.shape[0]\n",
        "filling_rates = filling_rates.round(2)\n",
        "\n",
        "# Sort for cleaner display\n",
        "filling_rates_sorted = filling_rates.sort_values(ascending=True)\n",
        "\n",
        "# Plot filling rate\n",
        "plt.figure(figsize=(12, 0.4 * len(filling_rates_sorted)))\n",
        "\n",
        "bars = plt.barh(\n",
        "    filling_rates_sorted.index,\n",
        "    filling_rates_sorted.values,\n",
        "    color=['#1f77b4'],\n",
        "    alpha=0.7,\n",
        "    edgecolor='black'\n",
        ")\n",
        "\n",
        "# Add value labels on bars\n",
        "for bar in bars:\n",
        "    plt.text(\n",
        "        bar.get_width() + 0.5,\n",
        "        bar.get_y() + bar.get_height() / 2,\n",
        "        f\"{bar.get_width():.2f}%\",\n",
        "        va='center',\n",
        "        fontsize=9\n",
        "    )\n",
        "\n",
        "# Axis and formatting\n",
        "plt.xlabel(\"Filling Rate (%)\")\n",
        "plt.title(\"Filling Rate of All Columns in df_call\")\n",
        "plt.xlim(0, 105)\n",
        "plt.grid(axis='x', linestyle='--', alpha=0.7)\n",
        "plt.tight_layout()\n",
        "plt.show()\n"
      ],
      "metadata": {
        "colab": {
          "base_uri": "https://localhost:8080/",
          "height": 222
        },
        "id": "ZG37L8S81cWA",
        "outputId": "0374094f-cd7a-4839-9775-5dc139caad41"
      },
      "execution_count": null,
      "outputs": [
        {
          "output_type": "display_data",
          "data": {
            "text/plain": [
              "<Figure size 1200x280 with 1 Axes>"
            ],
            "image/png": "[encoded data removed]"
          },
          "metadata": {}
        }
      ]
    },
    {
      "cell_type": "markdown",
      "metadata": {
        "id": "grCawspo8uMB"
      },
      "source": [
        "# Data Preprocessing"
      ]
    },
    {
      "cell_type": "markdown",
      "metadata": {
        "id": "uxOm0T--KnQb"
      },
      "source": [
        "## Label flag_call and ensure datetime format"
      ]
    },
    {
      "cell_type": "code",
      "execution_count": null,
      "metadata": {
        "id": "QZIb6GU2lbOB"
      },
      "outputs": [],
      "source": [
        "# Flag Call = 1\n",
        "df_call[\"flag_call\"] = 1"
      ]
    },
    {
      "cell_type": "code",
      "execution_count": null,
      "metadata": {
        "id": "ydRSLcgzb5ZU",
        "colab": {
          "base_uri": "https://localhost:8080/"
        },
        "outputId": "11f609ba-28c8-4297-e3f7-ab1ce27af562"
      },
      "outputs": [
        {
          "output_type": "stream",
          "name": "stdout",
          "text": [
            "0   2025-06-11\n",
            "1   2025-06-11\n",
            "2   2025-06-11\n",
            "3   2025-06-11\n",
            "4   2025-06-11\n",
            "Name: analysis_date, dtype: datetime64[ns]\n",
            "0   2025-06-11\n",
            "1   2025-06-11\n",
            "2   2025-06-11\n",
            "3   2025-06-11\n",
            "4   2025-06-11\n",
            "Name: created_at, dtype: datetime64[ns]\n"
          ]
        }
      ],
      "source": [
        "# Ensure 'analysis_date' is in datetime format (normalized to midnight)\n",
        "df_network['analysis_date'] = pd.to_datetime(df_network['analysis_date']).dt.normalize()\n",
        "\n",
        "# Ensure 'created_at' is in datetime format (normalized to midnight)\n",
        "df_call['created_at'] = pd.to_datetime(df_call['created_at']).dt.normalize()\n",
        "\n",
        "# Preview values and types\n",
        "print(df_network['analysis_date'].head())\n",
        "print(df_call['created_at'].head())"
      ]
    },
    {
      "cell_type": "markdown",
      "metadata": {
        "id": "G_8E1C8gLidP"
      },
      "source": [
        "## Extract device_id"
      ]
    },
    {
      "cell_type": "code",
      "execution_count": null,
      "metadata": {
        "id": "F0_-VYm2vPuI",
        "colab": {
          "base_uri": "https://localhost:8080/"
        },
        "outputId": "b883c2ee-0b14-414c-d3a4-ba21751bbb14"
      },
      "outputs": [
        {
          "output_type": "stream",
          "name": "stdout",
          "text": [
            "Number of customers in df_call: 13401\n"
          ]
        }
      ],
      "source": [
        "# Extract resource_id\n",
        "df_call['resource_id'] = df_call['resource_id'].str[12:]\n",
        "df_call['resource_id'].head(5)\n",
        "\n",
        "# Count unique customer of df_call\n",
        "print(f\"Number of customers in df_call: {df_call['resource_id'].nunique()}\")"
      ]
    },
    {
      "cell_type": "code",
      "execution_count": null,
      "metadata": {
        "id": "3uiMZiDytTIR",
        "colab": {
          "base_uri": "https://localhost:8080/"
        },
        "outputId": "32d40e5a-dd3c-4a76-a990-8b4c83307f58"
      },
      "outputs": [
        {
          "output_type": "stream",
          "name": "stdout",
          "text": [
            "Number of cudtomers in df_network475660\n"
          ]
        }
      ],
      "source": [
        "# Extract device_id\n",
        "df_network['device_id'] = df_network['device_id'].str[10:]\n",
        "df_network['device_id'].head(1)\n",
        "\n",
        "# count unique customer of df_network\n",
        "print(f\"Number of cudtomers in df_network{df_network['device_id'].nunique()}\")"
      ]
    },
    {
      "cell_type": "markdown",
      "metadata": {
        "id": "L2VuVwISLvm9"
      },
      "source": [
        "## Drop duplicate calls"
      ]
    },
    {
      "cell_type": "code",
      "execution_count": null,
      "metadata": {
        "id": "AaXGhXf-qEvD",
        "colab": {
          "base_uri": "https://localhost:8080/"
        },
        "outputId": "51971174-b022-4926-9aff-d90a8c293d04"
      },
      "outputs": [
        {
          "output_type": "execute_result",
          "data": {
            "text/plain": [
              "(14924, 8)"
            ]
          },
          "metadata": {},
          "execution_count": 29
        }
      ],
      "source": [
        "# Drop duplicate call on the same day\n",
        "df_call = df_call.drop_duplicates(subset=['resource_id', 'created_at'], keep='first')\n",
        "# df_call.head()\n",
        "df_call.shape"
      ]
    },
    {
      "cell_type": "code",
      "execution_count": null,
      "metadata": {
        "id": "QQ3NsiAqs7dS"
      },
      "outputs": [],
      "source": [
        "# Count how many customer_ids appear in both DataFrames\n",
        "overlap_count = len(set(df_network['device_id']) & set(df_call['resource_id']))\n",
        "print(f\"Overlapping device_id & resource_id count: {overlap_count}\")"
      ]
    },
    {
      "cell_type": "markdown",
      "metadata": {
        "id": "wXTzt5xQL6eV"
      },
      "source": [
        "## Merge df_network and df_call"
      ]
    },
    {
      "cell_type": "code",
      "execution_count": null,
      "metadata": {
        "id": "7eUcxnRANBt-",
        "colab": {
          "base_uri": "https://localhost:8080/"
        },
        "outputId": "5038d07c-3620-4ded-f9c7-5a7006eb7580"
      },
      "outputs": [
        {
          "output_type": "execute_result",
          "data": {
            "text/plain": [
              "0"
            ]
          },
          "metadata": {},
          "execution_count": 30
        }
      ],
      "source": [
        "# Merge df_network and df_call\n",
        "df_merged = df_network.merge(\n",
        "    df_call[['resource_id','group_name', 'resource', 'created_at', 'flag_call']],\n",
        "    how='left',\n",
        "    left_on=['device_id', 'analysis_date'],\n",
        "    right_on=['resource_id', 'created_at']\n",
        ")\n",
        "\n",
        "# Fill missing flag_call values with 0\n",
        "df_merged['flag_call'] = df_merged['flag_call'].fillna(0).astype(int)\n",
        "\n",
        "# Result\n",
        "df_merged.tail(100)\n",
        "\n",
        "# Clear RAM\n",
        "del df_network\n",
        "del df_call\n",
        "\n",
        "gc.collect()"
      ]
    },
    {
      "cell_type": "code",
      "execution_count": null,
      "metadata": {
        "colab": {
          "base_uri": "https://localhost:8080/"
        },
        "id": "d9yZq9tpOpSK",
        "outputId": "c703603f-6af1-4198-a5f5-f53483f0f7c6"
      },
      "outputs": [
        {
          "output_type": "stream",
          "name": "stdout",
          "text": [
            " Flag Call Counts:\n",
            "Negative (0): 13595193\n",
            "Positive (1): 10047\n"
          ]
        },
        {
          "output_type": "execute_result",
          "data": {
            "text/plain": [
              "0"
            ]
          },
          "metadata": {},
          "execution_count": 32
        }
      ],
      "source": [
        "# Count positive and negative flag_call values\n",
        "call_counts = df_merged['flag_call'].value_counts().sort_index()\n",
        "\n",
        "# Print results\n",
        "print(\" Flag Call Counts:\")\n",
        "print(f\"Negative (0): {call_counts.get(0, 0)}\")\n",
        "print(f\"Positive (1): {call_counts.get(1, 0)}\")\n",
        "\n",
        "del call_counts\n",
        "\n",
        "gc.collect()"
      ]
    },
    {
      "cell_type": "code",
      "execution_count": null,
      "metadata": {
        "colab": {
          "base_uri": "https://localhost:8080/",
          "height": 342
        },
        "id": "nmDcKnwVRT0V",
        "outputId": "d4bbbb88-64d4-4fd1-cdec-cca9331c5f76"
      },
      "outputs": [
        {
          "output_type": "execute_result",
          "data": {
            "text/plain": [
              "    device_id analysis_date             id             analysis_id  reboots  \\\n",
              "0  961c5550db    2025-06-11  ID_b0a43c9bc9  ANALYSIS_ID_e1e909f586        0   \n",
              "1  39190265c2    2025-06-11  ID_5c687e45be  ANALYSIS_ID_05f8ccfe3e        0   \n",
              "2  77a16a8d79    2025-06-11  ID_11db07b498  ANALYSIS_ID_8df4ed77df        0   \n",
              "3  905832b06c    2025-06-11  ID_393c580a22  ANALYSIS_ID_8ed247d1a2        0   \n",
              "4  8f1dbe5a7f    2025-06-11  ID_67ec92db86  ANALYSIS_ID_55850a81fe        0   \n",
              "\n",
              "   script_boots  ap_count  total_samples_24  total_samples_5  good_samples_24  \\\n",
              "0             0         0              1878             2174             1853   \n",
              "1             0         0                 2             2496                1   \n",
              "2             0         0                 0              818                0   \n",
              "3             0         0              1634             3787             1625   \n",
              "4             0         0              1488             1142                6   \n",
              "\n",
              "   ...  channel_changes_count_6  mem_usage  high_mem_usage_samples  \\\n",
              "0  ...                      NaN      41.55                       0   \n",
              "1  ...                      NaN      58.12                       0   \n",
              "2  ...                      NaN      39.60                       0   \n",
              "3  ...                      NaN      40.48                       0   \n",
              "4  ...                      NaN      58.62                       0   \n",
              "\n",
              "                       source_file  chunk_number  resource_id  group_name  \\\n",
              "0  cpe_status_2025-06-11_ready.csv             0          NaN         NaN   \n",
              "1  cpe_status_2025-06-11_ready.csv             0          NaN         NaN   \n",
              "2  cpe_status_2025-06-11_ready.csv             0          NaN         NaN   \n",
              "3  cpe_status_2025-06-11_ready.csv             0          NaN         NaN   \n",
              "4  cpe_status_2025-06-11_ready.csv             0          NaN         NaN   \n",
              "\n",
              "   resource  created_at flag_call  \n",
              "0       NaN         NaT         0  \n",
              "1       NaN         NaT         0  \n",
              "2       NaN         NaT         0  \n",
              "3       NaN         NaT         0  \n",
              "4       NaN         NaT         0  \n",
              "\n",
              "[5 rows x 101 columns]"
            ],
            "text/html": [
              "\n",
              "  <div id=\"df-3dadeb46-8b97-4dd5-bfea-31a40a94b52d\" class=\"colab-df-container\">\n",
              "    <div>\n",
              "<style scoped>\n",
              "    .dataframe tbody tr th:only-of-type {\n",
              "        vertical-align: middle;\n",
              "    }\n",
              "\n",
              "    .dataframe tbody tr th {\n",
              "        vertical-align: top;\n",
              "    }\n",
              "\n",
              "    .dataframe thead th {\n",
              "        text-align: right;\n",
              "    }\n",
              "</style>\n",
              "<table border=\"1\" class=\"dataframe\">\n",
              "  <thead>\n",
              "    <tr style=\"text-align: right;\">\n",
              "      <th></th>\n",
              "      <th>device_id</th>\n",
              "      <th>analysis_date</th>\n",
              "      <th>id</th>\n",
              "      <th>analysis_id</th>\n",
              "      <th>reboots</th>\n",
              "      <th>script_boots</th>\n",
              "      <th>ap_count</th>\n",
              "      <th>total_samples_24</th>\n",
              "      <th>total_samples_5</th>\n",
              "      <th>good_samples_24</th>\n",
              "      <th>...</th>\n",
              "      <th>channel_changes_count_6</th>\n",
              "      <th>mem_usage</th>\n",
              "      <th>high_mem_usage_samples</th>\n",
              "      <th>source_file</th>\n",
              "      <th>chunk_number</th>\n",
              "      <th>resource_id</th>\n",
              "      <th>group_name</th>\n",
              "      <th>resource</th>\n",
              "      <th>created_at</th>\n",
              "      <th>flag_call</th>\n",
              "    </tr>\n",
              "  </thead>\n",
              "  <tbody>\n",
              "    <tr>\n",
              "      <th>0</th>\n",
              "      <td>961c5550db</td>\n",
              "      <td>2025-06-11</td>\n",
              "      <td>ID_b0a43c9bc9</td>\n",
              "      <td>ANALYSIS_ID_e1e909f586</td>\n",
              "      <td>0</td>\n",
              "      <td>0</td>\n",
              "      <td>0</td>\n",
              "      <td>1878</td>\n",
              "      <td>2174</td>\n",
              "      <td>1853</td>\n",
              "      <td>...</td>\n",
              "      <td>NaN</td>\n",
              "      <td>41.55</td>\n",
              "      <td>0</td>\n",
              "      <td>cpe_status_2025-06-11_ready.csv</td>\n",
              "      <td>0</td>\n",
              "      <td>NaN</td>\n",
              "      <td>NaN</td>\n",
              "      <td>NaN</td>\n",
              "      <td>NaT</td>\n",
              "      <td>0</td>\n",
              "    </tr>\n",
              "    <tr>\n",
              "      <th>1</th>\n",
              "      <td>39190265c2</td>\n",
              "      <td>2025-06-11</td>\n",
              "      <td>ID_5c687e45be</td>\n",
              "      <td>ANALYSIS_ID_05f8ccfe3e</td>\n",
              "      <td>0</td>\n",
              "      <td>0</td>\n",
              "      <td>0</td>\n",
              "      <td>2</td>\n",
              "      <td>2496</td>\n",
              "      <td>1</td>\n",
              "      <td>...</td>\n",
              "      <td>NaN</td>\n",
              "      <td>58.12</td>\n",
              "      <td>0</td>\n",
              "      <td>cpe_status_2025-06-11_ready.csv</td>\n",
              "      <td>0</td>\n",
              "      <td>NaN</td>\n",
              "      <td>NaN</td>\n",
              "      <td>NaN</td>\n",
              "      <td>NaT</td>\n",
              "      <td>0</td>\n",
              "    </tr>\n",
              "    <tr>\n",
              "      <th>2</th>\n",
              "      <td>77a16a8d79</td>\n",
              "      <td>2025-06-11</td>\n",
              "      <td>ID_11db07b498</td>\n",
              "      <td>ANALYSIS_ID_8df4ed77df</td>\n",
              "      <td>0</td>\n",
              "      <td>0</td>\n",
              "      <td>0</td>\n",
              "      <td>0</td>\n",
              "      <td>818</td>\n",
              "      <td>0</td>\n",
              "      <td>...</td>\n",
              "      <td>NaN</td>\n",
              "      <td>39.60</td>\n",
              "      <td>0</td>\n",
              "      <td>cpe_status_2025-06-11_ready.csv</td>\n",
              "      <td>0</td>\n",
              "      <td>NaN</td>\n",
              "      <td>NaN</td>\n",
              "      <td>NaN</td>\n",
              "      <td>NaT</td>\n",
              "      <td>0</td>\n",
              "    </tr>\n",
              "    <tr>\n",
              "      <th>3</th>\n",
              "      <td>905832b06c</td>\n",
              "      <td>2025-06-11</td>\n",
              "      <td>ID_393c580a22</td>\n",
              "      <td>ANALYSIS_ID_8ed247d1a2</td>\n",
              "      <td>0</td>\n",
              "      <td>0</td>\n",
              "      <td>0</td>\n",
              "      <td>1634</td>\n",
              "      <td>3787</td>\n",
              "      <td>1625</td>\n",
              "      <td>...</td>\n",
              "      <td>NaN</td>\n",
              "      <td>40.48</td>\n",
              "      <td>0</td>\n",
              "      <td>cpe_status_2025-06-11_ready.csv</td>\n",
              "      <td>0</td>\n",
              "      <td>NaN</td>\n",
              "      <td>NaN</td>\n",
              "      <td>NaN</td>\n",
              "      <td>NaT</td>\n",
              "      <td>0</td>\n",
              "    </tr>\n",
              "    <tr>\n",
              "      <th>4</th>\n",
              "      <td>8f1dbe5a7f</td>\n",
              "      <td>2025-06-11</td>\n",
              "      <td>ID_67ec92db86</td>\n",
              "      <td>ANALYSIS_ID_55850a81fe</td>\n",
              "      <td>0</td>\n",
              "      <td>0</td>\n",
              "      <td>0</td>\n",
              "      <td>1488</td>\n",
              "      <td>1142</td>\n",
              "      <td>6</td>\n",
              "      <td>...</td>\n",
              "      <td>NaN</td>\n",
              "      <td>58.62</td>\n",
              "      <td>0</td>\n",
              "      <td>cpe_status_2025-06-11_ready.csv</td>\n",
              "      <td>0</td>\n",
              "      <td>NaN</td>\n",
              "      <td>NaN</td>\n",
              "      <td>NaN</td>\n",
              "      <td>NaT</td>\n",
              "      <td>0</td>\n",
              "    </tr>\n",
              "  </tbody>\n",
              "</table>\n",
              "<p>5 rows × 101 columns</p>\n",
              "</div>\n",
              "    <div class=\"colab-df-buttons\">\n",
              "\n",
              "  <div class=\"colab-df-container\">\n",
              "    <button class=\"colab-df-convert\" onclick=\"convertToInteractive('df-3dadeb46-8b97-4dd5-bfea-31a40a94b52d')\"\n",
              "            title=\"Convert this dataframe to an interactive table.\"\n",
              "            style=\"display:none;\">\n",
              "\n",
              "  <svg xmlns=\"http://www.w3.org/2000/svg\" height=\"24px\" viewBox=\"0 -960 960 960\">\n",
              "    <path d=\"M120-120v-720h720v720H120Zm60-500h600v-160H180v160Zm220 220h160v-160H400v160Zm0 220h160v-160H400v160ZM180-400h160v-160H180v160Zm440 0h160v-160H620v160ZM180-180h160v-160H180v160Zm440 0h160v-160H620v160Z\"/>\n",
              "  </svg>\n",
              "    </button>\n",
              "\n",
              "  <style>\n",
              "    .colab-df-container {\n",
              "      display:flex;\n",
              "      gap: 12px;\n",
              "    }\n",
              "\n",
              "    .colab-df-convert {\n",
              "      background-color: #E8F0FE;\n",
              "      border: none;\n",
              "      border-radius: 50%;\n",
              "      cursor: pointer;\n",
              "      display: none;\n",
              "      fill: #1967D2;\n",
              "      height: 32px;\n",
              "      padding: 0 0 0 0;\n",
              "      width: 32px;\n",
              "    }\n",
              "\n",
              "    .colab-df-convert:hover {\n",
              "      background-color: #E2EBFA;\n",
              "      box-shadow: 0px 1px 2px rgba(60, 64, 67, 0.3), 0px 1px 3px 1px rgba(60, 64, 67, 0.15);\n",
              "      fill: #174EA6;\n",
              "    }\n",
              "\n",
              "    .colab-df-buttons div {\n",
              "      margin-bottom: 4px;\n",
              "    }\n",
              "\n",
              "    [theme=dark] .colab-df-convert {\n",
              "      background-color: #3B4455;\n",
              "      fill: #D2E3FC;\n",
              "    }\n",
              "\n",
              "    [theme=dark] .colab-df-convert:hover {\n",
              "      background-color: #434B5C;\n",
              "      box-shadow: 0px 1px 3px 1px rgba(0, 0, 0, 0.15);\n",
              "      filter: drop-shadow(0px 1px 2px rgba(0, 0, 0, 0.3));\n",
              "      fill: #FFFFFF;\n",
              "    }\n",
              "  </style>\n",
              "\n",
              "    <script>\n",
              "      const buttonEl =\n",
              "        document.querySelector('#df-3dadeb46-8b97-4dd5-bfea-31a40a94b52d button.colab-df-convert');\n",
              "      buttonEl.style.display =\n",
              "        google.colab.kernel.accessAllowed ? 'block' : 'none';\n",
              "\n",
              "      async function convertToInteractive(key) {\n",
              "        const element = document.querySelector('#df-3dadeb46-8b97-4dd5-bfea-31a40a94b52d');\n",
              "        const dataTable =\n",
              "          await google.colab.kernel.invokeFunction('convertToInteractive',\n",
              "                                                    [key], {});\n",
              "        if (!dataTable) return;\n",
              "\n",
              "        const docLinkHtml = 'Like what you see? Visit the ' +\n",
              "          '<a target=\"_blank\" href=https://colab.research.google.com/notebooks/data_table.ipynb>data table notebook</a>'\n",
              "          + ' to learn more about interactive tables.';\n",
              "        element.innerHTML = '';\n",
              "        dataTable['output_type'] = 'display_data';\n",
              "        await google.colab.output.renderOutput(dataTable, element);\n",
              "        const docLink = document.createElement('div');\n",
              "        docLink.innerHTML = docLinkHtml;\n",
              "        element.appendChild(docLink);\n",
              "      }\n",
              "    </script>\n",
              "  </div>\n",
              "\n",
              "\n",
              "    <div id=\"df-4c4344d5-372b-4cd2-a118-e706ab41de2f\">\n",
              "      <button class=\"colab-df-quickchart\" onclick=\"quickchart('df-4c4344d5-372b-4cd2-a118-e706ab41de2f')\"\n",
              "                title=\"Suggest charts\"\n",
              "                style=\"display:none;\">\n",
              "\n",
              "<svg xmlns=\"http://www.w3.org/2000/svg\" height=\"24px\"viewBox=\"0 0 24 24\"\n",
              "     width=\"24px\">\n",
              "    <g>\n",
              "        <path d=\"M19 3H5c-1.1 0-2 .9-2 2v14c0 1.1.9 2 2 2h14c1.1 0 2-.9 2-2V5c0-1.1-.9-2-2-2zM9 17H7v-7h2v7zm4 0h-2V7h2v10zm4 0h-2v-4h2v4z\"/>\n",
              "    </g>\n",
              "</svg>\n",
              "      </button>\n",
              "\n",
              "<style>\n",
              "  .colab-df-quickchart {\n",
              "      --bg-color: #E8F0FE;\n",
              "      --fill-color: #1967D2;\n",
              "      --hover-bg-color: #E2EBFA;\n",
              "      --hover-fill-color: #174EA6;\n",
              "      --disabled-fill-color: #AAA;\n",
              "      --disabled-bg-color: #DDD;\n",
              "  }\n",
              "\n",
              "  [theme=dark] .colab-df-quickchart {\n",
              "      --bg-color: #3B4455;\n",
              "      --fill-color: #D2E3FC;\n",
              "      --hover-bg-color: #434B5C;\n",
              "      --hover-fill-color: #FFFFFF;\n",
              "      --disabled-bg-color: #3B4455;\n",
              "      --disabled-fill-color: #666;\n",
              "  }\n",
              "\n",
              "  .colab-df-quickchart {\n",
              "    background-color: var(--bg-color);\n",
              "    border: none;\n",
              "    border-radius: 50%;\n",
              "    cursor: pointer;\n",
              "    display: none;\n",
              "    fill: var(--fill-color);\n",
              "    height: 32px;\n",
              "    padding: 0;\n",
              "    width: 32px;\n",
              "  }\n",
              "\n",
              "  .colab-df-quickchart:hover {\n",
              "    background-color: var(--hover-bg-color);\n",
              "    box-shadow: 0 1px 2px rgba(60, 64, 67, 0.3), 0 1px 3px 1px rgba(60, 64, 67, 0.15);\n",
              "    fill: var(--button-hover-fill-color);\n",
              "  }\n",
              "\n",
              "  .colab-df-quickchart-complete:disabled,\n",
              "  .colab-df-quickchart-complete:disabled:hover {\n",
              "    background-color: var(--disabled-bg-color);\n",
              "    fill: var(--disabled-fill-color);\n",
              "    box-shadow: none;\n",
              "  }\n",
              "\n",
              "  .colab-df-spinner {\n",
              "    border: 2px solid var(--fill-color);\n",
              "    border-color: transparent;\n",
              "    border-bottom-color: var(--fill-color);\n",
              "    animation:\n",
              "      spin 1s steps(1) infinite;\n",
              "  }\n",
              "\n",
              "  @keyframes spin {\n",
              "    0% {\n",
              "      border-color: transparent;\n",
              "      border-bottom-color: var(--fill-color);\n",
              "      border-left-color: var(--fill-color);\n",
              "    }\n",
              "    20% {\n",
              "      border-color: transparent;\n",
              "      border-left-color: var(--fill-color);\n",
              "      border-top-color: var(--fill-color);\n",
              "    }\n",
              "    30% {\n",
              "      border-color: transparent;\n",
              "      border-left-color: var(--fill-color);\n",
              "      border-top-color: var(--fill-color);\n",
              "      border-right-color: var(--fill-color);\n",
              "    }\n",
              "    40% {\n",
              "      border-color: transparent;\n",
              "      border-right-color: var(--fill-color);\n",
              "      border-top-color: var(--fill-color);\n",
              "    }\n",
              "    60% {\n",
              "      border-color: transparent;\n",
              "      border-right-color: var(--fill-color);\n",
              "    }\n",
              "    80% {\n",
              "      border-color: transparent;\n",
              "      border-right-color: var(--fill-color);\n",
              "      border-bottom-color: var(--fill-color);\n",
              "    }\n",
              "    90% {\n",
              "      border-color: transparent;\n",
              "      border-bottom-color: var(--fill-color);\n",
              "    }\n",
              "  }\n",
              "</style>\n",
              "\n",
              "      <script>\n",
              "        async function quickchart(key) {\n",
              "          const quickchartButtonEl =\n",
              "            document.querySelector('#' + key + ' button');\n",
              "          quickchartButtonEl.disabled = true;  // To prevent multiple clicks.\n",
              "          quickchartButtonEl.classList.add('colab-df-spinner');\n",
              "          try {\n",
              "            const charts = await google.colab.kernel.invokeFunction(\n",
              "                'suggestCharts', [key], {});\n",
              "          } catch (error) {\n",
              "            console.error('Error during call to suggestCharts:', error);\n",
              "          }\n",
              "          quickchartButtonEl.classList.remove('colab-df-spinner');\n",
              "          quickchartButtonEl.classList.add('colab-df-quickchart-complete');\n",
              "        }\n",
              "        (() => {\n",
              "          let quickchartButtonEl =\n",
              "            document.querySelector('#df-4c4344d5-372b-4cd2-a118-e706ab41de2f button');\n",
              "          quickchartButtonEl.style.display =\n",
              "            google.colab.kernel.accessAllowed ? 'block' : 'none';\n",
              "        })();\n",
              "      </script>\n",
              "    </div>\n",
              "\n",
              "    </div>\n",
              "  </div>\n"
            ],
            "application/vnd.google.colaboratory.intrinsic+json": {
              "type": "dataframe",
              "variable_name": "df_merged"
            }
          },
          "metadata": {},
          "execution_count": 33
        }
      ],
      "source": [
        "df_merged.head()"
      ]
    },
    {
      "cell_type": "code",
      "source": [
        "df_merged"
      ],
      "metadata": {
        "colab": {
          "base_uri": "https://localhost:8080/",
          "height": 617
        },
        "id": "LcvGhQmVe5yQ",
        "outputId": "e9ef83c0-d98c-45f2-98bd-ccc181a042eb"
      },
      "execution_count": null,
      "outputs": [
        {
          "output_type": "execute_result",
          "data": {
            "text/plain": [
              "           device_id analysis_date             id             analysis_id  \\\n",
              "0         961c5550db    2025-06-11  ID_b0a43c9bc9  ANALYSIS_ID_e1e909f586   \n",
              "1         39190265c2    2025-06-11  ID_5c687e45be  ANALYSIS_ID_05f8ccfe3e   \n",
              "2         77a16a8d79    2025-06-11  ID_11db07b498  ANALYSIS_ID_8df4ed77df   \n",
              "3         905832b06c    2025-06-11  ID_393c580a22  ANALYSIS_ID_8ed247d1a2   \n",
              "4         8f1dbe5a7f    2025-06-11  ID_67ec92db86  ANALYSIS_ID_55850a81fe   \n",
              "...              ...           ...            ...                     ...   \n",
              "13605235  12ca7ad469    2025-07-10  ID_6012931456  ANALYSIS_ID_dfd92999b1   \n",
              "13605236  8c73fd16b2    2025-07-10  ID_0dd30f864f  ANALYSIS_ID_ad3cdb02a5   \n",
              "13605237  2871b13069    2025-07-10  ID_71dce99f39  ANALYSIS_ID_3c0dcab5a1   \n",
              "13605238  fc95d7b1b2    2025-07-10  ID_d3f1eb691a  ANALYSIS_ID_2cff5e191d   \n",
              "13605239  51ae5b2c14    2025-07-10  ID_4952d7cd0e  ANALYSIS_ID_2ed609e0a6   \n",
              "\n",
              "          reboots  script_boots  ap_count  total_samples_24  total_samples_5  \\\n",
              "0               0             0         0              1878             2174   \n",
              "1               0             0         0                 2             2496   \n",
              "2               0             0         0                 0              818   \n",
              "3               0             0         0              1634             3787   \n",
              "4               0             0         0              1488             1142   \n",
              "...           ...           ...       ...               ...              ...   \n",
              "13605235        0             0         0              1439             2814   \n",
              "13605236        0             0         1               294             5817   \n",
              "13605237        0             0         0              3828             7620   \n",
              "13605238        0             0         1               806             4165   \n",
              "13605239        0             0         0               176                0   \n",
              "\n",
              "          good_samples_24  ...  channel_changes_count_6  mem_usage  \\\n",
              "0                    1853  ...                      NaN      41.55   \n",
              "1                       1  ...                      NaN      58.12   \n",
              "2                       0  ...                      NaN      39.60   \n",
              "3                    1625  ...                      NaN      40.48   \n",
              "4                       6  ...                      NaN      58.62   \n",
              "...                   ...  ...                      ...        ...   \n",
              "13605235             1438  ...                      NaN      56.81   \n",
              "13605236              238  ...                      NaN      21.37   \n",
              "13605237             3677  ...                      NaN      42.78   \n",
              "13605238              750  ...                      NaN      26.22   \n",
              "13605239              101  ...                      NaN      22.25   \n",
              "\n",
              "          high_mem_usage_samples                      source_file  \\\n",
              "0                              0  cpe_status_2025-06-11_ready.csv   \n",
              "1                              0  cpe_status_2025-06-11_ready.csv   \n",
              "2                              0  cpe_status_2025-06-11_ready.csv   \n",
              "3                              0  cpe_status_2025-06-11_ready.csv   \n",
              "4                              0  cpe_status_2025-06-11_ready.csv   \n",
              "...                          ...                              ...   \n",
              "13605235                       0  cpe_status_2025-07-10_ready.csv   \n",
              "13605236                       0  cpe_status_2025-07-10_ready.csv   \n",
              "13605237                       0  cpe_status_2025-07-10_ready.csv   \n",
              "13605238                       0  cpe_status_2025-07-10_ready.csv   \n",
              "13605239                       0  cpe_status_2025-07-10_ready.csv   \n",
              "\n",
              "          chunk_number  resource_id  group_name  resource  created_at  \\\n",
              "0                    0          NaN         NaN       NaN         NaT   \n",
              "1                    0          NaN         NaN       NaN         NaT   \n",
              "2                    0          NaN         NaN       NaN         NaT   \n",
              "3                    0          NaN         NaN       NaN         NaT   \n",
              "4                    0          NaN         NaN       NaN         NaT   \n",
              "...                ...          ...         ...       ...         ...   \n",
              "13605235             9          NaN         NaN       NaN         NaT   \n",
              "13605236             9          NaN         NaN       NaN         NaT   \n",
              "13605237             9          NaN         NaN       NaN         NaT   \n",
              "13605238             9          NaN         NaN       NaN         NaT   \n",
              "13605239             9          NaN         NaN       NaN         NaT   \n",
              "\n",
              "         flag_call  \n",
              "0                0  \n",
              "1                0  \n",
              "2                0  \n",
              "3                0  \n",
              "4                0  \n",
              "...            ...  \n",
              "13605235         0  \n",
              "13605236         0  \n",
              "13605237         0  \n",
              "13605238         0  \n",
              "13605239         0  \n",
              "\n",
              "[13605240 rows x 101 columns]"
            ],
            "text/html": [
              "\n",
              "  <div id=\"df-5cf35d9f-594d-4a6c-bb5b-89c2ca25e08d\" class=\"colab-df-container\">\n",
              "    <div>\n",
              "<style scoped>\n",
              "    .dataframe tbody tr th:only-of-type {\n",
              "        vertical-align: middle;\n",
              "    }\n",
              "\n",
              "    .dataframe tbody tr th {\n",
              "        vertical-align: top;\n",
              "    }\n",
              "\n",
              "    .dataframe thead th {\n",
              "        text-align: right;\n",
              "    }\n",
              "</style>\n",
              "<table border=\"1\" class=\"dataframe\">\n",
              "  <thead>\n",
              "    <tr style=\"text-align: right;\">\n",
              "      <th></th>\n",
              "      <th>device_id</th>\n",
              "      <th>analysis_date</th>\n",
              "      <th>id</th>\n",
              "      <th>analysis_id</th>\n",
              "      <th>reboots</th>\n",
              "      <th>script_boots</th>\n",
              "      <th>ap_count</th>\n",
              "      <th>total_samples_24</th>\n",
              "      <th>total_samples_5</th>\n",
              "      <th>good_samples_24</th>\n",
              "      <th>...</th>\n",
              "      <th>channel_changes_count_6</th>\n",
              "      <th>mem_usage</th>\n",
              "      <th>high_mem_usage_samples</th>\n",
              "      <th>source_file</th>\n",
              "      <th>chunk_number</th>\n",
              "      <th>resource_id</th>\n",
              "      <th>group_name</th>\n",
              "      <th>resource</th>\n",
              "      <th>created_at</th>\n",
              "      <th>flag_call</th>\n",
              "    </tr>\n",
              "  </thead>\n",
              "  <tbody>\n",
              "    <tr>\n",
              "      <th>0</th>\n",
              "      <td>961c5550db</td>\n",
              "      <td>2025-06-11</td>\n",
              "      <td>ID_b0a43c9bc9</td>\n",
              "      <td>ANALYSIS_ID_e1e909f586</td>\n",
              "      <td>0</td>\n",
              "      <td>0</td>\n",
              "      <td>0</td>\n",
              "      <td>1878</td>\n",
              "      <td>2174</td>\n",
              "      <td>1853</td>\n",
              "      <td>...</td>\n",
              "      <td>NaN</td>\n",
              "      <td>41.55</td>\n",
              "      <td>0</td>\n",
              "      <td>cpe_status_2025-06-11_ready.csv</td>\n",
              "      <td>0</td>\n",
              "      <td>NaN</td>\n",
              "      <td>NaN</td>\n",
              "      <td>NaN</td>\n",
              "      <td>NaT</td>\n",
              "      <td>0</td>\n",
              "    </tr>\n",
              "    <tr>\n",
              "      <th>1</th>\n",
              "      <td>39190265c2</td>\n",
              "      <td>2025-06-11</td>\n",
              "      <td>ID_5c687e45be</td>\n",
              "      <td>ANALYSIS_ID_05f8ccfe3e</td>\n",
              "      <td>0</td>\n",
              "      <td>0</td>\n",
              "      <td>0</td>\n",
              "      <td>2</td>\n",
              "      <td>2496</td>\n",
              "      <td>1</td>\n",
              "      <td>...</td>\n",
              "      <td>NaN</td>\n",
              "      <td>58.12</td>\n",
              "      <td>0</td>\n",
              "      <td>cpe_status_2025-06-11_ready.csv</td>\n",
              "      <td>0</td>\n",
              "      <td>NaN</td>\n",
              "      <td>NaN</td>\n",
              "      <td>NaN</td>\n",
              "      <td>NaT</td>\n",
              "      <td>0</td>\n",
              "    </tr>\n",
              "    <tr>\n",
              "      <th>2</th>\n",
              "      <td>77a16a8d79</td>\n",
              "      <td>2025-06-11</td>\n",
              "      <td>ID_11db07b498</td>\n",
              "      <td>ANALYSIS_ID_8df4ed77df</td>\n",
              "      <td>0</td>\n",
              "      <td>0</td>\n",
              "      <td>0</td>\n",
              "      <td>0</td>\n",
              "      <td>818</td>\n",
              "      <td>0</td>\n",
              "      <td>...</td>\n",
              "      <td>NaN</td>\n",
              "      <td>39.60</td>\n",
              "      <td>0</td>\n",
              "      <td>cpe_status_2025-06-11_ready.csv</td>\n",
              "      <td>0</td>\n",
              "      <td>NaN</td>\n",
              "      <td>NaN</td>\n",
              "      <td>NaN</td>\n",
              "      <td>NaT</td>\n",
              "      <td>0</td>\n",
              "    </tr>\n",
              "    <tr>\n",
              "      <th>3</th>\n",
              "      <td>905832b06c</td>\n",
              "      <td>2025-06-11</td>\n",
              "      <td>ID_393c580a22</td>\n",
              "      <td>ANALYSIS_ID_8ed247d1a2</td>\n",
              "      <td>0</td>\n",
              "      <td>0</td>\n",
              "      <td>0</td>\n",
              "      <td>1634</td>\n",
              "      <td>3787</td>\n",
              "      <td>1625</td>\n",
              "      <td>...</td>\n",
              "      <td>NaN</td>\n",
              "      <td>40.48</td>\n",
              "      <td>0</td>\n",
              "      <td>cpe_status_2025-06-11_ready.csv</td>\n",
              "      <td>0</td>\n",
              "      <td>NaN</td>\n",
              "      <td>NaN</td>\n",
              "      <td>NaN</td>\n",
              "      <td>NaT</td>\n",
              "      <td>0</td>\n",
              "    </tr>\n",
              "    <tr>\n",
              "      <th>4</th>\n",
              "      <td>8f1dbe5a7f</td>\n",
              "      <td>2025-06-11</td>\n",
              "      <td>ID_67ec92db86</td>\n",
              "      <td>ANALYSIS_ID_55850a81fe</td>\n",
              "      <td>0</td>\n",
              "      <td>0</td>\n",
              "      <td>0</td>\n",
              "      <td>1488</td>\n",
              "      <td>1142</td>\n",
              "      <td>6</td>\n",
              "      <td>...</td>\n",
              "      <td>NaN</td>\n",
              "      <td>58.62</td>\n",
              "      <td>0</td>\n",
              "      <td>cpe_status_2025-06-11_ready.csv</td>\n",
              "      <td>0</td>\n",
              "      <td>NaN</td>\n",
              "      <td>NaN</td>\n",
              "      <td>NaN</td>\n",
              "      <td>NaT</td>\n",
              "      <td>0</td>\n",
              "    </tr>\n",
              "    <tr>\n",
              "      <th>...</th>\n",
              "      <td>...</td>\n",
              "      <td>...</td>\n",
              "      <td>...</td>\n",
              "      <td>...</td>\n",
              "      <td>...</td>\n",
              "      <td>...</td>\n",
              "      <td>...</td>\n",
              "      <td>...</td>\n",
              "      <td>...</td>\n",
              "      <td>...</td>\n",
              "      <td>...</td>\n",
              "      <td>...</td>\n",
              "      <td>...</td>\n",
              "      <td>...</td>\n",
              "      <td>...</td>\n",
              "      <td>...</td>\n",
              "      <td>...</td>\n",
              "      <td>...</td>\n",
              "      <td>...</td>\n",
              "      <td>...</td>\n",
              "      <td>...</td>\n",
              "    </tr>\n",
              "    <tr>\n",
              "      <th>13605235</th>\n",
              "      <td>12ca7ad469</td>\n",
              "      <td>2025-07-10</td>\n",
              "      <td>ID_6012931456</td>\n",
              "      <td>ANALYSIS_ID_dfd92999b1</td>\n",
              "      <td>0</td>\n",
              "      <td>0</td>\n",
              "      <td>0</td>\n",
              "      <td>1439</td>\n",
              "      <td>2814</td>\n",
              "      <td>1438</td>\n",
              "      <td>...</td>\n",
              "      <td>NaN</td>\n",
              "      <td>56.81</td>\n",
              "      <td>0</td>\n",
              "      <td>cpe_status_2025-07-10_ready.csv</td>\n",
              "      <td>9</td>\n",
              "      <td>NaN</td>\n",
              "      <td>NaN</td>\n",
              "      <td>NaN</td>\n",
              "      <td>NaT</td>\n",
              "      <td>0</td>\n",
              "    </tr>\n",
              "    <tr>\n",
              "      <th>13605236</th>\n",
              "      <td>8c73fd16b2</td>\n",
              "      <td>2025-07-10</td>\n",
              "      <td>ID_0dd30f864f</td>\n",
              "      <td>ANALYSIS_ID_ad3cdb02a5</td>\n",
              "      <td>0</td>\n",
              "      <td>0</td>\n",
              "      <td>1</td>\n",
              "      <td>294</td>\n",
              "      <td>5817</td>\n",
              "      <td>238</td>\n",
              "      <td>...</td>\n",
              "      <td>NaN</td>\n",
              "      <td>21.37</td>\n",
              "      <td>0</td>\n",
              "      <td>cpe_status_2025-07-10_ready.csv</td>\n",
              "      <td>9</td>\n",
              "      <td>NaN</td>\n",
              "      <td>NaN</td>\n",
              "      <td>NaN</td>\n",
              "      <td>NaT</td>\n",
              "      <td>0</td>\n",
              "    </tr>\n",
              "    <tr>\n",
              "      <th>13605237</th>\n",
              "      <td>2871b13069</td>\n",
              "      <td>2025-07-10</td>\n",
              "      <td>ID_71dce99f39</td>\n",
              "      <td>ANALYSIS_ID_3c0dcab5a1</td>\n",
              "      <td>0</td>\n",
              "      <td>0</td>\n",
              "      <td>0</td>\n",
              "      <td>3828</td>\n",
              "      <td>7620</td>\n",
              "      <td>3677</td>\n",
              "      <td>...</td>\n",
              "      <td>NaN</td>\n",
              "      <td>42.78</td>\n",
              "      <td>0</td>\n",
              "      <td>cpe_status_2025-07-10_ready.csv</td>\n",
              "      <td>9</td>\n",
              "      <td>NaN</td>\n",
              "      <td>NaN</td>\n",
              "      <td>NaN</td>\n",
              "      <td>NaT</td>\n",
              "      <td>0</td>\n",
              "    </tr>\n",
              "    <tr>\n",
              "      <th>13605238</th>\n",
              "      <td>fc95d7b1b2</td>\n",
              "      <td>2025-07-10</td>\n",
              "      <td>ID_d3f1eb691a</td>\n",
              "      <td>ANALYSIS_ID_2cff5e191d</td>\n",
              "      <td>0</td>\n",
              "      <td>0</td>\n",
              "      <td>1</td>\n",
              "      <td>806</td>\n",
              "      <td>4165</td>\n",
              "      <td>750</td>\n",
              "      <td>...</td>\n",
              "      <td>NaN</td>\n",
              "      <td>26.22</td>\n",
              "      <td>0</td>\n",
              "      <td>cpe_status_2025-07-10_ready.csv</td>\n",
              "      <td>9</td>\n",
              "      <td>NaN</td>\n",
              "      <td>NaN</td>\n",
              "      <td>NaN</td>\n",
              "      <td>NaT</td>\n",
              "      <td>0</td>\n",
              "    </tr>\n",
              "    <tr>\n",
              "      <th>13605239</th>\n",
              "      <td>51ae5b2c14</td>\n",
              "      <td>2025-07-10</td>\n",
              "      <td>ID_4952d7cd0e</td>\n",
              "      <td>ANALYSIS_ID_2ed609e0a6</td>\n",
              "      <td>0</td>\n",
              "      <td>0</td>\n",
              "      <td>0</td>\n",
              "      <td>176</td>\n",
              "      <td>0</td>\n",
              "      <td>101</td>\n",
              "      <td>...</td>\n",
              "      <td>NaN</td>\n",
              "      <td>22.25</td>\n",
              "      <td>0</td>\n",
              "      <td>cpe_status_2025-07-10_ready.csv</td>\n",
              "      <td>9</td>\n",
              "      <td>NaN</td>\n",
              "      <td>NaN</td>\n",
              "      <td>NaN</td>\n",
              "      <td>NaT</td>\n",
              "      <td>0</td>\n",
              "    </tr>\n",
              "  </tbody>\n",
              "</table>\n",
              "<p>13605240 rows × 101 columns</p>\n",
              "</div>\n",
              "    <div class=\"colab-df-buttons\">\n",
              "\n",
              "  <div class=\"colab-df-container\">\n",
              "    <button class=\"colab-df-convert\" onclick=\"convertToInteractive('df-5cf35d9f-594d-4a6c-bb5b-89c2ca25e08d')\"\n",
              "            title=\"Convert this dataframe to an interactive table.\"\n",
              "            style=\"display:none;\">\n",
              "\n",
              "  <svg xmlns=\"http://www.w3.org/2000/svg\" height=\"24px\" viewBox=\"0 -960 960 960\">\n",
              "    <path d=\"M120-120v-720h720v720H120Zm60-500h600v-160H180v160Zm220 220h160v-160H400v160Zm0 220h160v-160H400v160ZM180-400h160v-160H180v160Zm440 0h160v-160H620v160ZM180-180h160v-160H180v160Zm440 0h160v-160H620v160Z\"/>\n",
              "  </svg>\n",
              "    </button>\n",
              "\n",
              "  <style>\n",
              "    .colab-df-container {\n",
              "      display:flex;\n",
              "      gap: 12px;\n",
              "    }\n",
              "\n",
              "    .colab-df-convert {\n",
              "      background-color: #E8F0FE;\n",
              "      border: none;\n",
              "      border-radius: 50%;\n",
              "      cursor: pointer;\n",
              "      display: none;\n",
              "      fill: #1967D2;\n",
              "      height: 32px;\n",
              "      padding: 0 0 0 0;\n",
              "      width: 32px;\n",
              "    }\n",
              "\n",
              "    .colab-df-convert:hover {\n",
              "      background-color: #E2EBFA;\n",
              "      box-shadow: 0px 1px 2px rgba(60, 64, 67, 0.3), 0px 1px 3px 1px rgba(60, 64, 67, 0.15);\n",
              "      fill: #174EA6;\n",
              "    }\n",
              "\n",
              "    .colab-df-buttons div {\n",
              "      margin-bottom: 4px;\n",
              "    }\n",
              "\n",
              "    [theme=dark] .colab-df-convert {\n",
              "      background-color: #3B4455;\n",
              "      fill: #D2E3FC;\n",
              "    }\n",
              "\n",
              "    [theme=dark] .colab-df-convert:hover {\n",
              "      background-color: #434B5C;\n",
              "      box-shadow: 0px 1px 3px 1px rgba(0, 0, 0, 0.15);\n",
              "      filter: drop-shadow(0px 1px 2px rgba(0, 0, 0, 0.3));\n",
              "      fill: #FFFFFF;\n",
              "    }\n",
              "  </style>\n",
              "\n",
              "    <script>\n",
              "      const buttonEl =\n",
              "        document.querySelector('#df-5cf35d9f-594d-4a6c-bb5b-89c2ca25e08d button.colab-df-convert');\n",
              "      buttonEl.style.display =\n",
              "        google.colab.kernel.accessAllowed ? 'block' : 'none';\n",
              "\n",
              "      async function convertToInteractive(key) {\n",
              "        const element = document.querySelector('#df-5cf35d9f-594d-4a6c-bb5b-89c2ca25e08d');\n",
              "        const dataTable =\n",
              "          await google.colab.kernel.invokeFunction('convertToInteractive',\n",
              "                                                    [key], {});\n",
              "        if (!dataTable) return;\n",
              "\n",
              "        const docLinkHtml = 'Like what you see? Visit the ' +\n",
              "          '<a target=\"_blank\" href=https://colab.research.google.com/notebooks/data_table.ipynb>data table notebook</a>'\n",
              "          + ' to learn more about interactive tables.';\n",
              "        element.innerHTML = '';\n",
              "        dataTable['output_type'] = 'display_data';\n",
              "        await google.colab.output.renderOutput(dataTable, element);\n",
              "        const docLink = document.createElement('div');\n",
              "        docLink.innerHTML = docLinkHtml;\n",
              "        element.appendChild(docLink);\n",
              "      }\n",
              "    </script>\n",
              "  </div>\n",
              "\n",
              "\n",
              "    <div id=\"df-47342422-69ec-4fbf-8f9c-fd6a26369a25\">\n",
              "      <button class=\"colab-df-quickchart\" onclick=\"quickchart('df-47342422-69ec-4fbf-8f9c-fd6a26369a25')\"\n",
              "                title=\"Suggest charts\"\n",
              "                style=\"display:none;\">\n",
              "\n",
              "<svg xmlns=\"http://www.w3.org/2000/svg\" height=\"24px\"viewBox=\"0 0 24 24\"\n",
              "     width=\"24px\">\n",
              "    <g>\n",
              "        <path d=\"M19 3H5c-1.1 0-2 .9-2 2v14c0 1.1.9 2 2 2h14c1.1 0 2-.9 2-2V5c0-1.1-.9-2-2-2zM9 17H7v-7h2v7zm4 0h-2V7h2v10zm4 0h-2v-4h2v4z\"/>\n",
              "    </g>\n",
              "</svg>\n",
              "      </button>\n",
              "\n",
              "<style>\n",
              "  .colab-df-quickchart {\n",
              "      --bg-color: #E8F0FE;\n",
              "      --fill-color: #1967D2;\n",
              "      --hover-bg-color: #E2EBFA;\n",
              "      --hover-fill-color: #174EA6;\n",
              "      --disabled-fill-color: #AAA;\n",
              "      --disabled-bg-color: #DDD;\n",
              "  }\n",
              "\n",
              "  [theme=dark] .colab-df-quickchart {\n",
              "      --bg-color: #3B4455;\n",
              "      --fill-color: #D2E3FC;\n",
              "      --hover-bg-color: #434B5C;\n",
              "      --hover-fill-color: #FFFFFF;\n",
              "      --disabled-bg-color: #3B4455;\n",
              "      --disabled-fill-color: #666;\n",
              "  }\n",
              "\n",
              "  .colab-df-quickchart {\n",
              "    background-color: var(--bg-color);\n",
              "    border: none;\n",
              "    border-radius: 50%;\n",
              "    cursor: pointer;\n",
              "    display: none;\n",
              "    fill: var(--fill-color);\n",
              "    height: 32px;\n",
              "    padding: 0;\n",
              "    width: 32px;\n",
              "  }\n",
              "\n",
              "  .colab-df-quickchart:hover {\n",
              "    background-color: var(--hover-bg-color);\n",
              "    box-shadow: 0 1px 2px rgba(60, 64, 67, 0.3), 0 1px 3px 1px rgba(60, 64, 67, 0.15);\n",
              "    fill: var(--button-hover-fill-color);\n",
              "  }\n",
              "\n",
              "  .colab-df-quickchart-complete:disabled,\n",
              "  .colab-df-quickchart-complete:disabled:hover {\n",
              "    background-color: var(--disabled-bg-color);\n",
              "    fill: var(--disabled-fill-color);\n",
              "    box-shadow: none;\n",
              "  }\n",
              "\n",
              "  .colab-df-spinner {\n",
              "    border: 2px solid var(--fill-color);\n",
              "    border-color: transparent;\n",
              "    border-bottom-color: var(--fill-color);\n",
              "    animation:\n",
              "      spin 1s steps(1) infinite;\n",
              "  }\n",
              "\n",
              "  @keyframes spin {\n",
              "    0% {\n",
              "      border-color: transparent;\n",
              "      border-bottom-color: var(--fill-color);\n",
              "      border-left-color: var(--fill-color);\n",
              "    }\n",
              "    20% {\n",
              "      border-color: transparent;\n",
              "      border-left-color: var(--fill-color);\n",
              "      border-top-color: var(--fill-color);\n",
              "    }\n",
              "    30% {\n",
              "      border-color: transparent;\n",
              "      border-left-color: var(--fill-color);\n",
              "      border-top-color: var(--fill-color);\n",
              "      border-right-color: var(--fill-color);\n",
              "    }\n",
              "    40% {\n",
              "      border-color: transparent;\n",
              "      border-right-color: var(--fill-color);\n",
              "      border-top-color: var(--fill-color);\n",
              "    }\n",
              "    60% {\n",
              "      border-color: transparent;\n",
              "      border-right-color: var(--fill-color);\n",
              "    }\n",
              "    80% {\n",
              "      border-color: transparent;\n",
              "      border-right-color: var(--fill-color);\n",
              "      border-bottom-color: var(--fill-color);\n",
              "    }\n",
              "    90% {\n",
              "      border-color: transparent;\n",
              "      border-bottom-color: var(--fill-color);\n",
              "    }\n",
              "  }\n",
              "</style>\n",
              "\n",
              "      <script>\n",
              "        async function quickchart(key) {\n",
              "          const quickchartButtonEl =\n",
              "            document.querySelector('#' + key + ' button');\n",
              "          quickchartButtonEl.disabled = true;  // To prevent multiple clicks.\n",
              "          quickchartButtonEl.classList.add('colab-df-spinner');\n",
              "          try {\n",
              "            const charts = await google.colab.kernel.invokeFunction(\n",
              "                'suggestCharts', [key], {});\n",
              "          } catch (error) {\n",
              "            console.error('Error during call to suggestCharts:', error);\n",
              "          }\n",
              "          quickchartButtonEl.classList.remove('colab-df-spinner');\n",
              "          quickchartButtonEl.classList.add('colab-df-quickchart-complete');\n",
              "        }\n",
              "        (() => {\n",
              "          let quickchartButtonEl =\n",
              "            document.querySelector('#df-47342422-69ec-4fbf-8f9c-fd6a26369a25 button');\n",
              "          quickchartButtonEl.style.display =\n",
              "            google.colab.kernel.accessAllowed ? 'block' : 'none';\n",
              "        })();\n",
              "      </script>\n",
              "    </div>\n",
              "\n",
              "  <div id=\"id_b89b4ba1-1a81-4adf-b383-4355e2929ac7\">\n",
              "    <style>\n",
              "      .colab-df-generate {\n",
              "        background-color: #E8F0FE;\n",
              "        border: none;\n",
              "        border-radius: 50%;\n",
              "        cursor: pointer;\n",
              "        display: none;\n",
              "        fill: #1967D2;\n",
              "        height: 32px;\n",
              "        padding: 0 0 0 0;\n",
              "        width: 32px;\n",
              "      }\n",
              "\n",
              "      .colab-df-generate:hover {\n",
              "        background-color: #E2EBFA;\n",
              "        box-shadow: 0px 1px 2px rgba(60, 64, 67, 0.3), 0px 1px 3px 1px rgba(60, 64, 67, 0.15);\n",
              "        fill: #174EA6;\n",
              "      }\n",
              "\n",
              "      [theme=dark] .colab-df-generate {\n",
              "        background-color: #3B4455;\n",
              "        fill: #D2E3FC;\n",
              "      }\n",
              "\n",
              "      [theme=dark] .colab-df-generate:hover {\n",
              "        background-color: #434B5C;\n",
              "        box-shadow: 0px 1px 3px 1px rgba(0, 0, 0, 0.15);\n",
              "        filter: drop-shadow(0px 1px 2px rgba(0, 0, 0, 0.3));\n",
              "        fill: #FFFFFF;\n",
              "      }\n",
              "    </style>\n",
              "    <button class=\"colab-df-generate\" onclick=\"generateWithVariable('df_merged')\"\n",
              "            title=\"Generate code using this dataframe.\"\n",
              "            style=\"display:none;\">\n",
              "\n",
              "  <svg xmlns=\"http://www.w3.org/2000/svg\" height=\"24px\"viewBox=\"0 0 24 24\"\n",
              "       width=\"24px\">\n",
              "    <path d=\"M7,19H8.4L18.45,9,17,7.55,7,17.6ZM5,21V16.75L18.45,3.32a2,2,0,0,1,2.83,0l1.4,1.43a1.91,1.91,0,0,1,.58,1.4,1.91,1.91,0,0,1-.58,1.4L9.25,21ZM18.45,9,17,7.55Zm-12,3A5.31,5.31,0,0,0,4.9,8.1,5.31,5.31,0,0,0,1,6.5,5.31,5.31,0,0,0,4.9,4.9,5.31,5.31,0,0,0,6.5,1,5.31,5.31,0,0,0,8.1,4.9,5.31,5.31,0,0,0,12,6.5,5.46,5.46,0,0,0,6.5,12Z\"/>\n",
              "  </svg>\n",
              "    </button>\n",
              "    <script>\n",
              "      (() => {\n",
              "      const buttonEl =\n",
              "        document.querySelector('#id_b89b4ba1-1a81-4adf-b383-4355e2929ac7 button.colab-df-generate');\n",
              "      buttonEl.style.display =\n",
              "        google.colab.kernel.accessAllowed ? 'block' : 'none';\n",
              "\n",
              "      buttonEl.onclick = () => {\n",
              "        google.colab.notebook.generateWithVariable('df_merged');\n",
              "      }\n",
              "      })();\n",
              "    </script>\n",
              "  </div>\n",
              "\n",
              "    </div>\n",
              "  </div>\n"
            ],
            "application/vnd.google.colaboratory.intrinsic+json": {
              "type": "dataframe",
              "variable_name": "df_merged"
            }
          },
          "metadata": {},
          "execution_count": 34
        }
      ]
    },
    {
      "cell_type": "code",
      "source": [
        "df_merged.shape"
      ],
      "metadata": {
        "colab": {
          "base_uri": "https://localhost:8080/"
        },
        "id": "82W_txbr6b5o",
        "outputId": "0f268837-1469-44cd-eb54-959352ee5e86"
      },
      "execution_count": null,
      "outputs": [
        {
          "output_type": "execute_result",
          "data": {
            "text/plain": [
              "(13605240, 101)"
            ]
          },
          "metadata": {},
          "execution_count": 35
        }
      ]
    },
    {
      "cell_type": "code",
      "execution_count": null,
      "metadata": {
        "id": "QowAuuF-PIc2"
      },
      "outputs": [],
      "source": [
        "# Select Sample devices to run the model, whle keeping proportion of fault positive similar to original dataset\n",
        "def sample_complete_devices(df, target_devices=20_000, call_col='flag_call', date_col='analysis_date', random_state=42):\n",
        "    # Calculate original proportions\n",
        "    original_row_ratio = df[call_col].mean()\n",
        "    device_status = df.groupby('device_id')[call_col].mean().gt(0)\n",
        "    original_device_ratio = device_status.mean()\n",
        "\n",
        "    print(f\"Original row call ratio: {original_row_ratio:.5f}\")\n",
        "    print(f\"Original device call ratio: {original_device_ratio:.5f}\")\n",
        "\n",
        "    # Get complete devices (all dates present)\n",
        "    n_dates = df[date_col].nunique()\n",
        "    complete_devices = (df.groupby('device_id')[date_col]\n",
        "                       .nunique()\n",
        "                       .loc[lambda x: x == n_dates]\n",
        "                       .index)\n",
        "    df_complete = df[df['device_id'].isin(complete_devices)]\n",
        "\n",
        "    # Classify complete devices\n",
        "    device_status = df_complete.groupby('device_id')[call_col].mean().gt(0)\n",
        "    call_devices = device_status[device_status].index\n",
        "    healthy_devices = device_status[~device_status].index\n",
        "\n",
        "    # Calculate required samples (with safeguards)\n",
        "    n_fcall = int(round(target_devices * original_device_ratio))\n",
        "    n_call = min(n_fcall, len(call_devices))\n",
        "    n_healthy = target_devices - n_call\n",
        "\n",
        "    # Adjust if healthy devices are insufficient\n",
        "    if n_healthy > len(healthy_devices):\n",
        "        n_healthy = len(healthy_devices)\n",
        "        n_call = target_devices - n_healthy\n",
        "\n",
        "    # Sample devices (allow replacement if needed)\n",
        "    np.random.seed(random_state)\n",
        "    replace_call = n_call > len(call_devices)\n",
        "    replace_healthy = n_healthy > len(healthy_devices)\n",
        "    sampled_call = np.random.choice(call_devices, n_call, replace=replace_call)\n",
        "    sampled_healthy = np.random.choice(healthy_devices, n_healthy, replace=replace_healthy)\n",
        "\n",
        "    # Combine sampled devices\n",
        "    sampled_devices = np.concatenate([sampled_call, sampled_healthy])\n",
        "    df_sampled = df_complete[df_complete['device_id'].isin(sampled_devices)]\n",
        "\n",
        "    # Downsample call rows to match original ratio (optional)\n",
        "    current_row_ratio = df_sampled[call_col].mean()\n",
        "    if current_row_ratio > 0:\n",
        "        scale_factor = original_row_ratio / current_row_ratio\n",
        "        if scale_factor < 1:\n",
        "            call_rows = df_sampled[df_sampled[call_col] == 1]\n",
        "            keep_prob = min(scale_factor, 1.0)\n",
        "            mask = np.random.random(len(call_rows)) < keep_prob\n",
        "            df_sampled = pd.concat([\n",
        "                df_sampled[df_sampled[call_col] == 0],\n",
        "                call_rows[mask]\n",
        "            ])\n",
        "\n",
        "    # Verification\n",
        "    verification = {\n",
        "        'total_devices': df_sampled['device_id'].nunique(),\n",
        "        'call_devices': len(sampled_call),\n",
        "        'row_call_ratio': df_sampled[call_col].mean(),\n",
        "        'device_call_ratio': (df_sampled.groupby('device_id')[call_col].mean() > 0).mean(),\n",
        "        'date_completeness': (df_sampled.groupby('device_id')[date_col].nunique() == n_dates).all(),\n",
        "        'total_rows': len(df_sampled)\n",
        "    }\n",
        "\n",
        "    print(\"\\n=== Results ===\")\n",
        "    print(f\"Sampled devices: {verification['total_devices']} (target: {target_devices})\")\n",
        "    print(f\"Call devices: {verification['call_devices']}\")\n",
        "    print(f\"Achieved row call ratio: {verification['row_call_ratio']:.5f}\")\n",
        "    print(f\"Device call ratio: {verification['device_call_ratio']:.5f}\")\n",
        "    print(f\"All dates present: {verification['date_completeness']}\")\n",
        "    print(f\"Total rows: {verification['total_rows']}\")\n",
        "\n",
        "    return df_sampled"
      ]
    },
    {
      "cell_type": "code",
      "execution_count": null,
      "metadata": {
        "colab": {
          "base_uri": "https://localhost:8080/"
        },
        "id": "XjpnW6z8QL02",
        "outputId": "823e15cd-f80f-4ef2-85b9-7e0fa74798e8"
      },
      "outputs": [
        {
          "output_type": "stream",
          "name": "stdout",
          "text": [
            "Original row call ratio: 0.00074\n",
            "Original device call ratio: 0.01865\n",
            "\n",
            "=== Results ===\n",
            "Sampled devices: 20000 (target: 20000)\n",
            "Call devices: 373\n",
            "Achieved row call ratio: 0.00071\n",
            "Device call ratio: 0.01865\n",
            "All dates present: True\n",
            "Total rows: 600000\n"
          ]
        }
      ],
      "source": [
        "df_sampled = sample_complete_devices(df_merged)"
      ]
    },
    {
      "cell_type": "code",
      "source": [
        "# Plot of df_merged Original\n",
        "counts = df_merged['flag_call'].value_counts().sort_index()\n",
        "percentages = (counts / len(df_merged) * 100).round(2)\n",
        "\n",
        "plt.figure(figsize=(10, 7))\n",
        "bars = plt.bar(counts.index, counts.values,\n",
        "               color=['#1f77b4', '#ff7f0e'], alpha=0.7, edgecolor='black')\n",
        "\n",
        "# Add count and percentage labels\n",
        "for bar, count, percent in zip(bars, counts, percentages):\n",
        "    height = bar.get_height()\n",
        "    label = f\"{count/1e6:.1f}M\\n({percent}%)\" if count >= 1e6 else f\"{count:,}\\n({percent}%)\"\n",
        "    plt.text(bar.get_x() + bar.get_width()/2, height + 0.02 * max(counts),\n",
        "             label,\n",
        "             ha='center', va='bottom', fontsize=10)\n",
        "\n",
        "# Customize y-axis to show millions\n",
        "ax = plt.gca()\n",
        "ax.yaxis.set_major_formatter(ticker.FuncFormatter(lambda x, pos: f'{x/1e6:.1f}M'))\n",
        "\n",
        "plt.title('Call Distribution in Original Data', pad=20, fontsize=14)\n",
        "plt.xlabel('Call Class', fontsize=12)\n",
        "plt.ylabel('Count (Million)', fontsize=12)\n",
        "plt.xticks([0, 1], ['Non-Caller (0)', 'Caller (1)'], rotation=0)\n",
        "plt.grid(axis='y', linestyle='--', alpha=0.5)\n",
        "plt.ylim(0, max(counts) * 1.15)\n",
        "plt.tight_layout()\n",
        "plt.show()"
      ],
      "metadata": {
        "id": "oQm3nwfGimmd",
        "colab": {
          "base_uri": "https://localhost:8080/",
          "height": 652
        },
        "outputId": "c66808c8-98d3-4e09-f25f-6d7e155ea4d7"
      },
      "execution_count": null,
      "outputs": [
        {
          "output_type": "display_data",
          "data": {
            "text/plain": [
              "<Figure size 1000x700 with 1 Axes>"
            ],
            "image/png": "[encoded data removed]"
          },
          "metadata": {}
        }
      ]
    },
    {
      "cell_type": "code",
      "source": [
        "# Plot for df_merged Sample\n",
        "counts = df_sampled['flag_call'].value_counts().sort_index()\n",
        "percentages = (counts / len(df_sampled) * 100).round(2)\n",
        "\n",
        "plt.figure(figsize=(10, 7))\n",
        "bars = plt.bar(counts.index, counts.values,\n",
        "               color=['#1f77b4', '#ff7f0e'], alpha=0.7, edgecolor='black')\n",
        "\n",
        "# Add count and percentage labels\n",
        "for bar, count, percent in zip(bars, counts, percentages):\n",
        "    height = bar.get_height()\n",
        "    label = f\"{count/1e6:.1f}M\\n({percent}%)\" if count >= 1e6 else f\"{count:,}\\n({percent}%)\"\n",
        "    plt.text(bar.get_x() + bar.get_width()/2, height + 0.02 * max(counts),\n",
        "             label,\n",
        "             ha='center', va='bottom', fontsize=10)\n",
        "\n",
        "# Customize y-axis to show millions\n",
        "ax = plt.gca()\n",
        "ax.yaxis.set_major_formatter(ticker.FuncFormatter(lambda x, pos: f'{x/1e6:.1f}M'))\n",
        "\n",
        "plt.title('Call Distribution in Sample Data', pad=20, fontsize=14)\n",
        "plt.xlabel('Call Class', fontsize=12)\n",
        "plt.ylabel('Count (Million)', fontsize=12)\n",
        "plt.xticks([0, 1], ['Non-Caller (0)', 'Caller (1)'], rotation=0)\n",
        "plt.grid(axis='y', linestyle='--', alpha=0.5)\n",
        "plt.ylim(0, max(counts) * 1.15)\n",
        "plt.tight_layout()\n",
        "plt.show()"
      ],
      "metadata": {
        "id": "bI-r91jFiy2L",
        "colab": {
          "base_uri": "https://localhost:8080/",
          "height": 652
        },
        "outputId": "8e44f8a6-69af-41c5-9afe-69994e4c7cac"
      },
      "execution_count": null,
      "outputs": [
        {
          "output_type": "display_data",
          "data": {
            "text/plain": [
              "<Figure size 1000x700 with 1 Axes>"
            ],
            "image/png": "[encoded data removed]"
          },
          "metadata": {}
        }
      ]
    },
    {
      "cell_type": "code",
      "execution_count": null,
      "metadata": {
        "id": "KWCUUNPHRnoE",
        "colab": {
          "base_uri": "https://localhost:8080/"
        },
        "outputId": "611f54d5-ad73-407c-cefb-20077f4ae23c"
      },
      "outputs": [
        {
          "output_type": "execute_result",
          "data": {
            "text/plain": [
              "32"
            ]
          },
          "metadata": {},
          "execution_count": 31
        }
      ],
      "source": [
        "# Reassign\n",
        "df_merged = df_sampled\n",
        "\n",
        "del df_sampled\n",
        "\n",
        "gc.collect()"
      ]
    },
    {
      "cell_type": "markdown",
      "metadata": {
        "id": "BxTi2ZuRAKo9"
      },
      "source": [
        "# Data Cleaning"
      ]
    },
    {
      "cell_type": "code",
      "execution_count": null,
      "metadata": {
        "colab": {
          "base_uri": "https://localhost:8080/"
        },
        "id": "14xgcS5e7wTb",
        "outputId": "d6588e45-709f-4fc4-dc4d-7169ab9e9847"
      },
      "outputs": [
        {
          "output_type": "stream",
          "name": "stdout",
          "text": [
            "Removed 0 rows with missing flag_call\n"
          ]
        },
        {
          "output_type": "execute_result",
          "data": {
            "text/plain": [
              "2722"
            ]
          },
          "metadata": {},
          "execution_count": 36
        }
      ],
      "source": [
        "# Drop rows with missing flag_call\n",
        "original_len = len(df_merged)\n",
        "\n",
        "df_merged = df_merged.dropna(subset=['flag_call']).reset_index(drop=True)\n",
        "\n",
        "print(f\"Removed {original_len - len(df_merged)} rows with missing flag_call\")\n",
        "\n",
        "del original_len\n",
        "\n",
        "gc.collect()"
      ]
    },
    {
      "cell_type": "code",
      "execution_count": null,
      "metadata": {
        "colab": {
          "base_uri": "https://localhost:8080/"
        },
        "id": "WeeV8csN_bPX",
        "outputId": "f28bd4e5-5fae-4456-d500-12ef6104fba0"
      },
      "outputs": [
        {
          "output_type": "stream",
          "name": "stdout",
          "text": [
            "Number of rows and columns: (600000, 101)\n",
            "Number of empty columns: 11\n",
            "Empty column names: ['cpu_temp', 'dsl_status', 'greedy_status', 'dsl_connection_stability_status', 'dsl_rate_stability_status', 'congestion_6_status', 'wifi_standard_24', 'wifi_standard_5', 'wifi_standard_6', 'fwa_quality_status', 'channel_changes_count_6']\n"
          ]
        }
      ],
      "source": [
        "# Check which columns are completely empty (all values are NaN)\n",
        "empty_columns = df_merged.columns[df_merged.isnull().all()].tolist()\n",
        "\n",
        "# Print result\n",
        "if empty_columns:\n",
        "    print(f\"Number of rows and columns: {df_merged.shape}\")\n",
        "    print(f\"Number of empty columns: {len(empty_columns)}\")\n",
        "    print(f\"Empty column names: {(empty_columns)}\")\n",
        "else:\n",
        "    print(\"No empty columns\")"
      ]
    },
    {
      "cell_type": "code",
      "execution_count": null,
      "metadata": {
        "colab": {
          "base_uri": "https://localhost:8080/"
        },
        "id": "XHYS6fAWgY3x",
        "outputId": "28753f80-e819-4b50-a0a6-ff9c4fb490ea"
      },
      "outputs": [
        {
          "output_type": "execute_result",
          "data": {
            "text/plain": [
              "0"
            ]
          },
          "metadata": {},
          "execution_count": 38
        }
      ],
      "source": [
        "del empty_columns\n",
        "\n",
        "gc.collect()"
      ]
    },
    {
      "cell_type": "code",
      "execution_count": null,
      "metadata": {
        "colab": {
          "base_uri": "https://localhost:8080/"
        },
        "id": "gOWh43YvAm8m",
        "outputId": "520b9f02-9b01-43d5-e5c8-15de376625b2"
      },
      "outputs": [
        {
          "output_type": "stream",
          "name": "stdout",
          "text": [
            "Number of rows and columns: (600000, 90)\n"
          ]
        }
      ],
      "source": [
        "# Drop NaN columns\n",
        "df_merged = df_merged.dropna(axis=1, how='all')\n",
        "print(f\"Number of rows and columns: {df_merged.shape}\")"
      ]
    },
    {
      "cell_type": "code",
      "execution_count": null,
      "metadata": {
        "colab": {
          "base_uri": "https://localhost:8080/"
        },
        "id": "yeUGv96qcdF4",
        "outputId": "6705f56a-0032-49f8-eca2-d0fb13d9a7f2"
      },
      "outputs": [
        {
          "output_type": "stream",
          "name": "stdout",
          "text": [
            "Dropped 7\n",
            "low-filling columns (<50% filled): ['legacy_status', 'repeater_status', 'max_outage_time', 'resource_id', 'group_name', 'resource', 'created_at']\n",
            "New shape: (600000, 83)\n"
          ]
        },
        {
          "output_type": "execute_result",
          "data": {
            "text/plain": [
              "0"
            ]
          },
          "metadata": {},
          "execution_count": 40
        }
      ],
      "source": [
        "# Calculate percentage of non-null values for each column\n",
        "filling_rates = 100 * df_merged.count() / df_merged.shape[0]\n",
        "\n",
        "# Round to 2 decimal places\n",
        "filling_rates = filling_rates.round(2)\n",
        "\n",
        "# Identify columns with < 50% filled\n",
        "low_fill_columns = filling_rates[filling_rates < 50].index.tolist()\n",
        "\n",
        "# Drop those columns\n",
        "df_merged = df_merged.drop(columns=low_fill_columns)\n",
        "\n",
        "# Print summary\n",
        "print(f\"Dropped {len(low_fill_columns)}\")\n",
        "print(f\"low-filling columns (<50% filled): {low_fill_columns}\")\n",
        "print(f\"New shape: {df_merged.shape}\")\n",
        "\n",
        "del filling_rates\n",
        "del low_fill_columns\n",
        "\n",
        "gc.collect()"
      ]
    },
    {
      "cell_type": "code",
      "execution_count": null,
      "metadata": {
        "colab": {
          "base_uri": "https://localhost:8080/"
        },
        "id": "-KfkHi4gUHQx",
        "outputId": "2c1d7d32-fde4-4596-8b26-35fd1785d9ff"
      },
      "outputs": [
        {
          "output_type": "stream",
          "name": "stdout",
          "text": [
            "Dropped 20\n",
            "constant columns: ['dsl_download_bottleneck_count', 'dsl_upload_bottleneck_count', 'interfered_active_samples_24', 'interfered_samples_24', 'greedy_event_count', 'wifi_bottleneck_count', 'poor_greedy_event_count', 'total_samples_6', 'poor_samples_6', 'mid_samples_6', 'good_samples_6', 'total_active_samples_6', 'poor_active_samples_6', 'mid_active_samples_6', 'good_active_samples_6', 'sample_active_6_count', 'congested_sample_6_count', 'congested_sample_active_6_count', 'poor_fwa_count', 'mid_fwa_count']\n"
          ]
        },
        {
          "output_type": "execute_result",
          "data": {
            "text/plain": [
              "0"
            ]
          },
          "metadata": {},
          "execution_count": 41
        }
      ],
      "source": [
        "# List of columns to keep even if they have constant values\n",
        "columns_to_keep = ['analysis_date', 'flag_call']\n",
        "\n",
        "# Identify constant columns excluding the ones to keep\n",
        "constant_columns = [\n",
        "    col for col in df_merged.columns\n",
        "    if df_merged[col].nunique(dropna=False) == 1 and col not in columns_to_keep\n",
        "]\n",
        "\n",
        "# Drop those columns\n",
        "df_merged = df_merged.drop(columns=constant_columns)\n",
        "\n",
        "# Print summary\n",
        "print(f\"Dropped {len(constant_columns)}\")\n",
        "print(f\"constant columns: {constant_columns}\")\n",
        "\n",
        "del columns_to_keep\n",
        "del constant_columns\n",
        "\n",
        "gc.collect()"
      ]
    },
    {
      "cell_type": "code",
      "execution_count": null,
      "metadata": {
        "colab": {
          "base_uri": "https://localhost:8080/"
        },
        "id": "EL5oxEvSev3a",
        "outputId": "f6e1f407-264d-4b68-829b-4e10fbb81dc0"
      },
      "outputs": [
        {
          "output_type": "stream",
          "name": "stdout",
          "text": [
            "Dropped 3\n",
            "New shape: (600000, 60)\n"
          ]
        },
        {
          "output_type": "execute_result",
          "data": {
            "text/plain": [
              "0"
            ]
          },
          "metadata": {},
          "execution_count": 42
        }
      ],
      "source": [
        "# Drop irrelavant columns\n",
        "irrelevant_columns = ['source_file', 'id', 'analysis_id']\n",
        "\n",
        "# Drop those columns\n",
        "df_merged = df_merged.drop(columns=irrelevant_columns)\n",
        "\n",
        "# Print summary\n",
        "print(f\"Dropped {len(irrelevant_columns)}\")\n",
        "print(f\"New shape: {df_merged.shape}\")\n",
        "\n",
        "del irrelevant_columns\n",
        "\n",
        "gc.collect()"
      ]
    },
    {
      "cell_type": "code",
      "execution_count": null,
      "metadata": {
        "colab": {
          "base_uri": "https://localhost:8080/"
        },
        "id": "qhfPlE5BfNf8",
        "outputId": "b8c757f8-02e5-490f-9a41-79ce85838c86"
      },
      "outputs": [
        {
          "output_type": "stream",
          "name": "stdout",
          "text": [
            "Columns with less than 100% non-null values (ascending):\n",
            "channel_changes_count_24             99.8690\n",
            "channel_changes_count_5              99.8627\n",
            "congestion_24_status                 99.8590\n",
            "congestion_5_status                  99.8527\n",
            "wifi_coverage_status                 97.2568\n",
            "wifi_coverage_5_status               94.5172\n",
            "poor_gw_candidate_rssi_samples_24    92.7900\n",
            "poor_gw_candidate_rssi_samples_5     92.7900\n",
            "wifi_qoe_status                      91.5580\n",
            "wifi_coverage_24_status              84.7537\n",
            "dtype: float64\n",
            "10\n",
            "\n",
            "Number of missing rows per incomplete column:\n",
            "channel_changes_count_24               786\n",
            "channel_changes_count_5                824\n",
            "congestion_24_status                   846\n",
            "congestion_5_status                    884\n",
            "wifi_coverage_status                 16459\n",
            "wifi_coverage_5_status               32897\n",
            "poor_gw_candidate_rssi_samples_24    43260\n",
            "poor_gw_candidate_rssi_samples_5     43260\n",
            "wifi_qoe_status                      50652\n",
            "wifi_coverage_24_status              91478\n",
            "dtype: int64\n"
          ]
        }
      ],
      "source": [
        "# Calculate percentage of non-null values for each column\n",
        "filling_rates = 100 * df_merged.count() / df_merged.shape[0]\n",
        "\n",
        "# Round to 4 decimal places\n",
        "filling_rates = filling_rates.round(4)\n",
        "\n",
        "# Filter and sort columns with less than 100% filled\n",
        "incomplete_columns = filling_rates[filling_rates < 100].sort_values(ascending=False)\n",
        "\n",
        "# Print the result\n",
        "if not incomplete_columns.empty:\n",
        "    print(\"Columns with less than 100% non-null values (ascending):\")\n",
        "    print(incomplete_columns)\n",
        "    print(len(incomplete_columns))\n",
        "\n",
        "    # Calculate and print the number of missing rows for each incomplete column\n",
        "    print(\"\\nNumber of missing rows per incomplete column:\")\n",
        "    missing_counts = df_merged[incomplete_columns.index].isnull().sum()\n",
        "    print(missing_counts)\n",
        "else:\n",
        "    print(\"All columns are 100% complete.\")"
      ]
    },
    {
      "cell_type": "markdown",
      "metadata": {
        "id": "trXyggyHZxWw"
      },
      "source": [
        "## Clean missing rows using backward fill"
      ]
    },
    {
      "cell_type": "code",
      "execution_count": null,
      "metadata": {
        "colab": {
          "base_uri": "https://localhost:8080/"
        },
        "id": "c1C3ZimIrd3L",
        "outputId": "ecc2e655-e259-4293-cb4c-78327cc14c1c"
      },
      "outputs": [
        {
          "output_type": "stream",
          "name": "stdout",
          "text": [
            "Remaining missing values after fill:\n",
            "channel_changes_count_24               765\n",
            "channel_changes_count_5                775\n",
            "congestion_24_status                   825\n",
            "congestion_5_status                    835\n",
            "wifi_coverage_status                  8453\n",
            "wifi_coverage_5_status               16021\n",
            "poor_gw_candidate_rssi_samples_24    43260\n",
            "poor_gw_candidate_rssi_samples_5     43260\n",
            "wifi_qoe_status                      16739\n",
            "wifi_coverage_24_status              29280\n",
            "dtype: int64\n"
          ]
        }
      ],
      "source": [
        "# Sort analysis_date and device_id\n",
        "df_merged = df_merged.sort_values(['device_id', 'analysis_date'])\n",
        "\n",
        "# Define columns that need to be fill\n",
        "columns_to_fill = incomplete_columns.index\n",
        "\n",
        "# Backward Fill\n",
        "for col in columns_to_fill:\n",
        "    df_merged[col] = df_merged.groupby('device_id')[col].transform('bfill')\n",
        "\n",
        "# Report how many values are still missing\n",
        "missing_summary = df_merged[columns_to_fill].isnull().sum()\n",
        "missing_summary = missing_summary[missing_summary > 0]\n",
        "\n",
        "if missing_summary.empty:\n",
        "    print(\"All missing values filled successfully.\")\n",
        "else:\n",
        "    print(\"Remaining missing values after fill:\")\n",
        "    print(missing_summary)"
      ]
    },
    {
      "cell_type": "code",
      "execution_count": null,
      "metadata": {
        "colab": {
          "base_uri": "https://localhost:8080/"
        },
        "id": "3nvE5FOqf-MY",
        "outputId": "bcae2813-9cdd-4f48-ced0-d84fcaa2f87d"
      },
      "outputs": [
        {
          "output_type": "execute_result",
          "data": {
            "text/plain": [
              "0"
            ]
          },
          "metadata": {},
          "execution_count": 45
        }
      ],
      "source": [
        "del incomplete_columns\n",
        "del filling_rates\n",
        "del columns_to_fill\n",
        "del missing_summary\n",
        "\n",
        "gc.collect()"
      ]
    },
    {
      "cell_type": "code",
      "execution_count": null,
      "metadata": {
        "colab": {
          "base_uri": "https://localhost:8080/"
        },
        "id": "fdxMUxQNegI5",
        "outputId": "fd6074c3-b178-46a9-ca27-f19414e78a27"
      },
      "outputs": [
        {
          "output_type": "stream",
          "name": "stdout",
          "text": [
            "Dropped 80545 rows with missing values\n",
            "New shape: (519455, 60)\n"
          ]
        },
        {
          "output_type": "execute_result",
          "data": {
            "text/plain": [
              "0"
            ]
          },
          "metadata": {},
          "execution_count": 46
        }
      ],
      "source": [
        "# Count missing rows before dropping\n",
        "missing_rows = df_merged.shape[0] - df_merged.dropna().shape[0]\n",
        "\n",
        "# Drop missing rows\n",
        "df_merged = df_merged.dropna()\n",
        "\n",
        "# Print summary\n",
        "print(f\"Dropped {missing_rows} rows with missing values\")\n",
        "print(f\"New shape: {df_merged.shape}\")\n",
        "\n",
        "del missing_rows\n",
        "\n",
        "gc.collect()"
      ]
    },
    {
      "cell_type": "code",
      "execution_count": null,
      "metadata": {
        "colab": {
          "base_uri": "https://localhost:8080/"
        },
        "id": "v05iSgs0hSjg",
        "outputId": "4b5ef6dd-7754-41d6-a91d-4a4440d65812"
      },
      "outputs": [
        {
          "output_type": "stream",
          "name": "stdout",
          "text": [
            "2692     2025-06-11\n",
            "15260    2025-06-11\n",
            "7661     2025-06-11\n",
            "5019     2025-06-11\n",
            "3630     2025-06-11\n",
            "            ...    \n",
            "599426   2025-07-10\n",
            "597941   2025-07-10\n",
            "594071   2025-07-10\n",
            "584107   2025-07-10\n",
            "585984   2025-07-10\n",
            "Name: analysis_date, Length: 519455, dtype: datetime64[ns]\n"
          ]
        }
      ],
      "source": [
        "# Sort by time\n",
        "df_merged = df_merged.sort_values('analysis_date')\n",
        "print(df_merged['analysis_date'])"
      ]
    },
    {
      "cell_type": "code",
      "execution_count": null,
      "metadata": {
        "colab": {
          "base_uri": "https://localhost:8080/"
        },
        "id": "ikq7ihvLPNoT",
        "outputId": "9b052f0b-0268-4f38-c00b-42f73417b399"
      },
      "outputs": [
        {
          "output_type": "stream",
          "name": "stdout",
          "text": [
            " Flag Call Counts:\n",
            "Negative (0): 519137\n",
            "Positive (1): 318\n"
          ]
        },
        {
          "output_type": "execute_result",
          "data": {
            "text/plain": [
              "0"
            ]
          },
          "metadata": {},
          "execution_count": 48
        }
      ],
      "source": [
        "# Count positive and negative flag_call values\n",
        "call_counts = df_merged['flag_call'].value_counts().sort_index()\n",
        "\n",
        "# Print results\n",
        "print(\" Flag Call Counts:\")\n",
        "print(f\"Negative (0): {call_counts.get(0, 0)}\")\n",
        "print(f\"Positive (1): {call_counts.get(1, 0)}\")\n",
        "\n",
        "del call_counts\n",
        "\n",
        "gc.collect()"
      ]
    },
    {
      "cell_type": "markdown",
      "metadata": {
        "id": "KzfpqXk0fORC"
      },
      "source": [
        "# Feature Engineering - Predict Wifi Fault"
      ]
    },
    {
      "cell_type": "markdown",
      "metadata": {
        "id": "9EvW2o9wKywA"
      },
      "source": [
        "## Ordinal Encoder"
      ]
    },
    {
      "cell_type": "code",
      "execution_count": null,
      "metadata": {
        "id": "bPQIYAckI36G"
      },
      "outputs": [],
      "source": [
        "# Ensure the column is string type\n",
        "df_merged['congestion_5_status'] = df_merged['congestion_5_status'].astype(str)\n",
        "df_merged['congestion_24_status'] = df_merged['congestion_24_status'].astype(str)\n",
        "df_merged['band_usage_24_status'] = df_merged['band_usage_24_status'].astype(str)\n",
        "df_merged['wifi_qoe_status'] = df_merged['wifi_qoe_status'].astype(str)\n",
        "\n",
        "# # Define the order of categories\n",
        "encoder = OrdinalEncoder(categories=[['POOR', 'MID', 'GOOD']])\n",
        "\n",
        "# Apply ordinal encoding\n",
        "df_merged['congestion_5_status'] = encoder.fit_transform(df_merged[['congestion_5_status']])\n",
        "df_merged['congestion_24_status'] = encoder.fit_transform(df_merged[['congestion_24_status']])\n",
        "df_merged['band_usage_24_status'] = encoder.fit_transform(df_merged[['band_usage_24_status']])\n",
        "df_merged['wifi_qoe_status'] = encoder.fit_transform(df_merged[['wifi_qoe_status']])\n"
      ]
    },
    {
      "cell_type": "code",
      "execution_count": null,
      "metadata": {
        "colab": {
          "base_uri": "https://localhost:8080/",
          "height": 424
        },
        "id": "LBxnGxPgJXBz",
        "outputId": "cddd15a4-32b4-4bc2-aba5-0b0911025a4b"
      },
      "outputs": [
        {
          "output_type": "execute_result",
          "data": {
            "text/plain": [
              "        congestion_5_status  congestion_24_status  band_usage_24_status  \\\n",
              "2692                    2.0                   2.0                   2.0   \n",
              "15260                   2.0                   1.0                   2.0   \n",
              "7661                    0.0                   1.0                   2.0   \n",
              "5019                    0.0                   2.0                   2.0   \n",
              "3630                    2.0                   2.0                   2.0   \n",
              "...                     ...                   ...                   ...   \n",
              "599426                  2.0                   2.0                   2.0   \n",
              "597941                  2.0                   2.0                   2.0   \n",
              "594071                  2.0                   2.0                   2.0   \n",
              "584107                  2.0                   1.0                   1.0   \n",
              "585984                  2.0                   0.0                   1.0   \n",
              "\n",
              "        wifi_qoe_status  \n",
              "2692                2.0  \n",
              "15260               0.0  \n",
              "7661                1.0  \n",
              "5019                2.0  \n",
              "3630                2.0  \n",
              "...                 ...  \n",
              "599426              2.0  \n",
              "597941              2.0  \n",
              "594071              2.0  \n",
              "584107              2.0  \n",
              "585984              0.0  \n",
              "\n",
              "[519455 rows x 4 columns]"
            ],
            "text/html": [
              "\n",
              "  <div id=\"df-e3138c75-4be3-48f1-b8e3-2e3b8348b072\" class=\"colab-df-container\">\n",
              "    <div>\n",
              "<style scoped>\n",
              "    .dataframe tbody tr th:only-of-type {\n",
              "        vertical-align: middle;\n",
              "    }\n",
              "\n",
              "    .dataframe tbody tr th {\n",
              "        vertical-align: top;\n",
              "    }\n",
              "\n",
              "    .dataframe thead th {\n",
              "        text-align: right;\n",
              "    }\n",
              "</style>\n",
              "<table border=\"1\" class=\"dataframe\">\n",
              "  <thead>\n",
              "    <tr style=\"text-align: right;\">\n",
              "      <th></th>\n",
              "      <th>congestion_5_status</th>\n",
              "      <th>congestion_24_status</th>\n",
              "      <th>band_usage_24_status</th>\n",
              "      <th>wifi_qoe_status</th>\n",
              "    </tr>\n",
              "  </thead>\n",
              "  <tbody>\n",
              "    <tr>\n",
              "      <th>2692</th>\n",
              "      <td>2.0</td>\n",
              "      <td>2.0</td>\n",
              "      <td>2.0</td>\n",
              "      <td>2.0</td>\n",
              "    </tr>\n",
              "    <tr>\n",
              "      <th>15260</th>\n",
              "      <td>2.0</td>\n",
              "      <td>1.0</td>\n",
              "      <td>2.0</td>\n",
              "      <td>0.0</td>\n",
              "    </tr>\n",
              "    <tr>\n",
              "      <th>7661</th>\n",
              "      <td>0.0</td>\n",
              "      <td>1.0</td>\n",
              "      <td>2.0</td>\n",
              "      <td>1.0</td>\n",
              "    </tr>\n",
              "    <tr>\n",
              "      <th>5019</th>\n",
              "      <td>0.0</td>\n",
              "      <td>2.0</td>\n",
              "      <td>2.0</td>\n",
              "      <td>2.0</td>\n",
              "    </tr>\n",
              "    <tr>\n",
              "      <th>3630</th>\n",
              "      <td>2.0</td>\n",
              "      <td>2.0</td>\n",
              "      <td>2.0</td>\n",
              "      <td>2.0</td>\n",
              "    </tr>\n",
              "    <tr>\n",
              "      <th>...</th>\n",
              "      <td>...</td>\n",
              "      <td>...</td>\n",
              "      <td>...</td>\n",
              "      <td>...</td>\n",
              "    </tr>\n",
              "    <tr>\n",
              "      <th>599426</th>\n",
              "      <td>2.0</td>\n",
              "      <td>2.0</td>\n",
              "      <td>2.0</td>\n",
              "      <td>2.0</td>\n",
              "    </tr>\n",
              "    <tr>\n",
              "      <th>597941</th>\n",
              "      <td>2.0</td>\n",
              "      <td>2.0</td>\n",
              "      <td>2.0</td>\n",
              "      <td>2.0</td>\n",
              "    </tr>\n",
              "    <tr>\n",
              "      <th>594071</th>\n",
              "      <td>2.0</td>\n",
              "      <td>2.0</td>\n",
              "      <td>2.0</td>\n",
              "      <td>2.0</td>\n",
              "    </tr>\n",
              "    <tr>\n",
              "      <th>584107</th>\n",
              "      <td>2.0</td>\n",
              "      <td>1.0</td>\n",
              "      <td>1.0</td>\n",
              "      <td>2.0</td>\n",
              "    </tr>\n",
              "    <tr>\n",
              "      <th>585984</th>\n",
              "      <td>2.0</td>\n",
              "      <td>0.0</td>\n",
              "      <td>1.0</td>\n",
              "      <td>0.0</td>\n",
              "    </tr>\n",
              "  </tbody>\n",
              "</table>\n",
              "<p>519455 rows × 4 columns</p>\n",
              "</div>\n",
              "    <div class=\"colab-df-buttons\">\n",
              "\n",
              "  <div class=\"colab-df-container\">\n",
              "    <button class=\"colab-df-convert\" onclick=\"convertToInteractive('df-e3138c75-4be3-48f1-b8e3-2e3b8348b072')\"\n",
              "            title=\"Convert this dataframe to an interactive table.\"\n",
              "            style=\"display:none;\">\n",
              "\n",
              "  <svg xmlns=\"http://www.w3.org/2000/svg\" height=\"24px\" viewBox=\"0 -960 960 960\">\n",
              "    <path d=\"M120-120v-720h720v720H120Zm60-500h600v-160H180v160Zm220 220h160v-160H400v160Zm0 220h160v-160H400v160ZM180-400h160v-160H180v160Zm440 0h160v-160H620v160ZM180-180h160v-160H180v160Zm440 0h160v-160H620v160Z\"/>\n",
              "  </svg>\n",
              "    </button>\n",
              "\n",
              "  <style>\n",
              "    .colab-df-container {\n",
              "      display:flex;\n",
              "      gap: 12px;\n",
              "    }\n",
              "\n",
              "    .colab-df-convert {\n",
              "      background-color: #E8F0FE;\n",
              "      border: none;\n",
              "      border-radius: 50%;\n",
              "      cursor: pointer;\n",
              "      display: none;\n",
              "      fill: #1967D2;\n",
              "      height: 32px;\n",
              "      padding: 0 0 0 0;\n",
              "      width: 32px;\n",
              "    }\n",
              "\n",
              "    .colab-df-convert:hover {\n",
              "      background-color: #E2EBFA;\n",
              "      box-shadow: 0px 1px 2px rgba(60, 64, 67, 0.3), 0px 1px 3px 1px rgba(60, 64, 67, 0.15);\n",
              "      fill: #174EA6;\n",
              "    }\n",
              "\n",
              "    .colab-df-buttons div {\n",
              "      margin-bottom: 4px;\n",
              "    }\n",
              "\n",
              "    [theme=dark] .colab-df-convert {\n",
              "      background-color: #3B4455;\n",
              "      fill: #D2E3FC;\n",
              "    }\n",
              "\n",
              "    [theme=dark] .colab-df-convert:hover {\n",
              "      background-color: #434B5C;\n",
              "      box-shadow: 0px 1px 3px 1px rgba(0, 0, 0, 0.15);\n",
              "      filter: drop-shadow(0px 1px 2px rgba(0, 0, 0, 0.3));\n",
              "      fill: #FFFFFF;\n",
              "    }\n",
              "  </style>\n",
              "\n",
              "    <script>\n",
              "      const buttonEl =\n",
              "        document.querySelector('#df-e3138c75-4be3-48f1-b8e3-2e3b8348b072 button.colab-df-convert');\n",
              "      buttonEl.style.display =\n",
              "        google.colab.kernel.accessAllowed ? 'block' : 'none';\n",
              "\n",
              "      async function convertToInteractive(key) {\n",
              "        const element = document.querySelector('#df-e3138c75-4be3-48f1-b8e3-2e3b8348b072');\n",
              "        const dataTable =\n",
              "          await google.colab.kernel.invokeFunction('convertToInteractive',\n",
              "                                                    [key], {});\n",
              "        if (!dataTable) return;\n",
              "\n",
              "        const docLinkHtml = 'Like what you see? Visit the ' +\n",
              "          '<a target=\"_blank\" href=https://colab.research.google.com/notebooks/data_table.ipynb>data table notebook</a>'\n",
              "          + ' to learn more about interactive tables.';\n",
              "        element.innerHTML = '';\n",
              "        dataTable['output_type'] = 'display_data';\n",
              "        await google.colab.output.renderOutput(dataTable, element);\n",
              "        const docLink = document.createElement('div');\n",
              "        docLink.innerHTML = docLinkHtml;\n",
              "        element.appendChild(docLink);\n",
              "      }\n",
              "    </script>\n",
              "  </div>\n",
              "\n",
              "\n",
              "    <div id=\"df-2e32361d-59e5-4887-8c02-19d05b04f258\">\n",
              "      <button class=\"colab-df-quickchart\" onclick=\"quickchart('df-2e32361d-59e5-4887-8c02-19d05b04f258')\"\n",
              "                title=\"Suggest charts\"\n",
              "                style=\"display:none;\">\n",
              "\n",
              "<svg xmlns=\"http://www.w3.org/2000/svg\" height=\"24px\"viewBox=\"0 0 24 24\"\n",
              "     width=\"24px\">\n",
              "    <g>\n",
              "        <path d=\"M19 3H5c-1.1 0-2 .9-2 2v14c0 1.1.9 2 2 2h14c1.1 0 2-.9 2-2V5c0-1.1-.9-2-2-2zM9 17H7v-7h2v7zm4 0h-2V7h2v10zm4 0h-2v-4h2v4z\"/>\n",
              "    </g>\n",
              "</svg>\n",
              "      </button>\n",
              "\n",
              "<style>\n",
              "  .colab-df-quickchart {\n",
              "      --bg-color: #E8F0FE;\n",
              "      --fill-color: #1967D2;\n",
              "      --hover-bg-color: #E2EBFA;\n",
              "      --hover-fill-color: #174EA6;\n",
              "      --disabled-fill-color: #AAA;\n",
              "      --disabled-bg-color: #DDD;\n",
              "  }\n",
              "\n",
              "  [theme=dark] .colab-df-quickchart {\n",
              "      --bg-color: #3B4455;\n",
              "      --fill-color: #D2E3FC;\n",
              "      --hover-bg-color: #434B5C;\n",
              "      --hover-fill-color: #FFFFFF;\n",
              "      --disabled-bg-color: #3B4455;\n",
              "      --disabled-fill-color: #666;\n",
              "  }\n",
              "\n",
              "  .colab-df-quickchart {\n",
              "    background-color: var(--bg-color);\n",
              "    border: none;\n",
              "    border-radius: 50%;\n",
              "    cursor: pointer;\n",
              "    display: none;\n",
              "    fill: var(--fill-color);\n",
              "    height: 32px;\n",
              "    padding: 0;\n",
              "    width: 32px;\n",
              "  }\n",
              "\n",
              "  .colab-df-quickchart:hover {\n",
              "    background-color: var(--hover-bg-color);\n",
              "    box-shadow: 0 1px 2px rgba(60, 64, 67, 0.3), 0 1px 3px 1px rgba(60, 64, 67, 0.15);\n",
              "    fill: var(--button-hover-fill-color);\n",
              "  }\n",
              "\n",
              "  .colab-df-quickchart-complete:disabled,\n",
              "  .colab-df-quickchart-complete:disabled:hover {\n",
              "    background-color: var(--disabled-bg-color);\n",
              "    fill: var(--disabled-fill-color);\n",
              "    box-shadow: none;\n",
              "  }\n",
              "\n",
              "  .colab-df-spinner {\n",
              "    border: 2px solid var(--fill-color);\n",
              "    border-color: transparent;\n",
              "    border-bottom-color: var(--fill-color);\n",
              "    animation:\n",
              "      spin 1s steps(1) infinite;\n",
              "  }\n",
              "\n",
              "  @keyframes spin {\n",
              "    0% {\n",
              "      border-color: transparent;\n",
              "      border-bottom-color: var(--fill-color);\n",
              "      border-left-color: var(--fill-color);\n",
              "    }\n",
              "    20% {\n",
              "      border-color: transparent;\n",
              "      border-left-color: var(--fill-color);\n",
              "      border-top-color: var(--fill-color);\n",
              "    }\n",
              "    30% {\n",
              "      border-color: transparent;\n",
              "      border-left-color: var(--fill-color);\n",
              "      border-top-color: var(--fill-color);\n",
              "      border-right-color: var(--fill-color);\n",
              "    }\n",
              "    40% {\n",
              "      border-color: transparent;\n",
              "      border-right-color: var(--fill-color);\n",
              "      border-top-color: var(--fill-color);\n",
              "    }\n",
              "    60% {\n",
              "      border-color: transparent;\n",
              "      border-right-color: var(--fill-color);\n",
              "    }\n",
              "    80% {\n",
              "      border-color: transparent;\n",
              "      border-right-color: var(--fill-color);\n",
              "      border-bottom-color: var(--fill-color);\n",
              "    }\n",
              "    90% {\n",
              "      border-color: transparent;\n",
              "      border-bottom-color: var(--fill-color);\n",
              "    }\n",
              "  }\n",
              "</style>\n",
              "\n",
              "      <script>\n",
              "        async function quickchart(key) {\n",
              "          const quickchartButtonEl =\n",
              "            document.querySelector('#' + key + ' button');\n",
              "          quickchartButtonEl.disabled = true;  // To prevent multiple clicks.\n",
              "          quickchartButtonEl.classList.add('colab-df-spinner');\n",
              "          try {\n",
              "            const charts = await google.colab.kernel.invokeFunction(\n",
              "                'suggestCharts', [key], {});\n",
              "          } catch (error) {\n",
              "            console.error('Error during call to suggestCharts:', error);\n",
              "          }\n",
              "          quickchartButtonEl.classList.remove('colab-df-spinner');\n",
              "          quickchartButtonEl.classList.add('colab-df-quickchart-complete');\n",
              "        }\n",
              "        (() => {\n",
              "          let quickchartButtonEl =\n",
              "            document.querySelector('#df-2e32361d-59e5-4887-8c02-19d05b04f258 button');\n",
              "          quickchartButtonEl.style.display =\n",
              "            google.colab.kernel.accessAllowed ? 'block' : 'none';\n",
              "        })();\n",
              "      </script>\n",
              "    </div>\n",
              "\n",
              "    </div>\n",
              "  </div>\n"
            ],
            "application/vnd.google.colaboratory.intrinsic+json": {
              "type": "dataframe"
            }
          },
          "metadata": {},
          "execution_count": 50
        }
      ],
      "source": [
        "df_merged[['congestion_5_status', 'congestion_24_status', 'band_usage_24_status', 'wifi_qoe_status']]"
      ]
    },
    {
      "cell_type": "code",
      "execution_count": null,
      "metadata": {
        "colab": {
          "base_uri": "https://localhost:8080/"
        },
        "id": "j_AreidQ3-aE",
        "outputId": "af374bd5-208c-42ec-965e-5adc524b9bf6"
      },
      "outputs": [
        {
          "output_type": "stream",
          "name": "stdout",
          "text": [
            "<class 'pandas.core.frame.DataFrame'>\n",
            "Index: 519455 entries, 2692 to 585984\n",
            "Data columns (total 4 columns):\n",
            " #   Column                Non-Null Count   Dtype  \n",
            "---  ------                --------------   -----  \n",
            " 0   congestion_5_status   519455 non-null  float64\n",
            " 1   congestion_24_status  519455 non-null  float64\n",
            " 2   band_usage_24_status  519455 non-null  float64\n",
            " 3   wifi_qoe_status       519455 non-null  float64\n",
            "dtypes: float64(4)\n",
            "memory usage: 19.8 MB\n"
          ]
        }
      ],
      "source": [
        "df_merged[['congestion_5_status', 'congestion_24_status', 'band_usage_24_status', 'wifi_qoe_status']].info()"
      ]
    },
    {
      "cell_type": "code",
      "execution_count": null,
      "metadata": {
        "id": "mdBexDEdU4_X"
      },
      "outputs": [],
      "source": [
        "# Ensure the column is string type\n",
        "df_merged['wifi_coverage_status'] = df_merged['wifi_coverage_status'].astype(str)\n",
        "df_merged['wifi_coverage_24_status'] = df_merged['wifi_coverage_24_status'].astype(str)\n",
        "df_merged['wifi_coverage_5_status'] = df_merged['wifi_coverage_5_status'].astype(str)\n",
        "\n",
        "# Define the order of categories\n",
        "encoder = OrdinalEncoder(categories=[['POOR', 'MID', 'HIGH']])\n",
        "\n",
        "# Apply ordinal encoding\n",
        "df_merged['wifi_coverage_status'] = encoder.fit_transform(df_merged[['wifi_coverage_status']])\n",
        "df_merged['wifi_coverage_24_status'] = encoder.fit_transform(df_merged[['wifi_coverage_24_status']])\n",
        "df_merged['wifi_coverage_5_status'] = encoder.fit_transform(df_merged[['wifi_coverage_5_status']])"
      ]
    },
    {
      "cell_type": "code",
      "execution_count": null,
      "metadata": {
        "colab": {
          "base_uri": "https://localhost:8080/"
        },
        "id": "sENC7MJF7Ryd",
        "outputId": "9ebbaae4-cf10-4f26-fbb7-a83ee4f8ac9f"
      },
      "outputs": [
        {
          "output_type": "stream",
          "name": "stdout",
          "text": [
            "<class 'pandas.core.frame.DataFrame'>\n",
            "Index: 519455 entries, 2692 to 585984\n",
            "Data columns (total 3 columns):\n",
            " #   Column                   Non-Null Count   Dtype  \n",
            "---  ------                   --------------   -----  \n",
            " 0   wifi_coverage_status     519455 non-null  float64\n",
            " 1   wifi_coverage_24_status  519455 non-null  float64\n",
            " 2   wifi_coverage_5_status   519455 non-null  float64\n",
            "dtypes: float64(3)\n",
            "memory usage: 15.9 MB\n"
          ]
        }
      ],
      "source": [
        "# Check data types for encoding columns\n",
        "df_merged[['wifi_coverage_status', 'wifi_coverage_24_status', 'wifi_coverage_5_status']].info()"
      ]
    },
    {
      "cell_type": "code",
      "execution_count": null,
      "metadata": {
        "colab": {
          "base_uri": "https://localhost:8080/",
          "height": 424
        },
        "id": "1BLcz9dfMADq",
        "outputId": "7eb77234-3626-49a6-d088-ccd3936cc6ac"
      },
      "outputs": [
        {
          "output_type": "execute_result",
          "data": {
            "text/plain": [
              "        wifi_coverage_status  wifi_coverage_24_status  wifi_coverage_5_status\n",
              "2692                     2.0                      2.0                     1.0\n",
              "15260                    0.0                      1.0                     0.0\n",
              "7661                     2.0                      2.0                     2.0\n",
              "5019                     2.0                      1.0                     1.0\n",
              "3630                     2.0                      0.0                     2.0\n",
              "...                      ...                      ...                     ...\n",
              "599426                   1.0                      2.0                     1.0\n",
              "597941                   2.0                      2.0                     2.0\n",
              "594071                   0.0                      0.0                     2.0\n",
              "584107                   2.0                      2.0                     2.0\n",
              "585984                   1.0                      1.0                     1.0\n",
              "\n",
              "[519455 rows x 3 columns]"
            ],
            "text/html": [
              "\n",
              "  <div id=\"df-c3ffff85-5d23-4718-bfa0-053a7cd6470d\" class=\"colab-df-container\">\n",
              "    <div>\n",
              "<style scoped>\n",
              "    .dataframe tbody tr th:only-of-type {\n",
              "        vertical-align: middle;\n",
              "    }\n",
              "\n",
              "    .dataframe tbody tr th {\n",
              "        vertical-align: top;\n",
              "    }\n",
              "\n",
              "    .dataframe thead th {\n",
              "        text-align: right;\n",
              "    }\n",
              "</style>\n",
              "<table border=\"1\" class=\"dataframe\">\n",
              "  <thead>\n",
              "    <tr style=\"text-align: right;\">\n",
              "      <th></th>\n",
              "      <th>wifi_coverage_status</th>\n",
              "      <th>wifi_coverage_24_status</th>\n",
              "      <th>wifi_coverage_5_status</th>\n",
              "    </tr>\n",
              "  </thead>\n",
              "  <tbody>\n",
              "    <tr>\n",
              "      <th>2692</th>\n",
              "      <td>2.0</td>\n",
              "      <td>2.0</td>\n",
              "      <td>1.0</td>\n",
              "    </tr>\n",
              "    <tr>\n",
              "      <th>15260</th>\n",
              "      <td>0.0</td>\n",
              "      <td>1.0</td>\n",
              "      <td>0.0</td>\n",
              "    </tr>\n",
              "    <tr>\n",
              "      <th>7661</th>\n",
              "      <td>2.0</td>\n",
              "      <td>2.0</td>\n",
              "      <td>2.0</td>\n",
              "    </tr>\n",
              "    <tr>\n",
              "      <th>5019</th>\n",
              "      <td>2.0</td>\n",
              "      <td>1.0</td>\n",
              "      <td>1.0</td>\n",
              "    </tr>\n",
              "    <tr>\n",
              "      <th>3630</th>\n",
              "      <td>2.0</td>\n",
              "      <td>0.0</td>\n",
              "      <td>2.0</td>\n",
              "    </tr>\n",
              "    <tr>\n",
              "      <th>...</th>\n",
              "      <td>...</td>\n",
              "      <td>...</td>\n",
              "      <td>...</td>\n",
              "    </tr>\n",
              "    <tr>\n",
              "      <th>599426</th>\n",
              "      <td>1.0</td>\n",
              "      <td>2.0</td>\n",
              "      <td>1.0</td>\n",
              "    </tr>\n",
              "    <tr>\n",
              "      <th>597941</th>\n",
              "      <td>2.0</td>\n",
              "      <td>2.0</td>\n",
              "      <td>2.0</td>\n",
              "    </tr>\n",
              "    <tr>\n",
              "      <th>594071</th>\n",
              "      <td>0.0</td>\n",
              "      <td>0.0</td>\n",
              "      <td>2.0</td>\n",
              "    </tr>\n",
              "    <tr>\n",
              "      <th>584107</th>\n",
              "      <td>2.0</td>\n",
              "      <td>2.0</td>\n",
              "      <td>2.0</td>\n",
              "    </tr>\n",
              "    <tr>\n",
              "      <th>585984</th>\n",
              "      <td>1.0</td>\n",
              "      <td>1.0</td>\n",
              "      <td>1.0</td>\n",
              "    </tr>\n",
              "  </tbody>\n",
              "</table>\n",
              "<p>519455 rows × 3 columns</p>\n",
              "</div>\n",
              "    <div class=\"colab-df-buttons\">\n",
              "\n",
              "  <div class=\"colab-df-container\">\n",
              "    <button class=\"colab-df-convert\" onclick=\"convertToInteractive('df-c3ffff85-5d23-4718-bfa0-053a7cd6470d')\"\n",
              "            title=\"Convert this dataframe to an interactive table.\"\n",
              "            style=\"display:none;\">\n",
              "\n",
              "  <svg xmlns=\"http://www.w3.org/2000/svg\" height=\"24px\" viewBox=\"0 -960 960 960\">\n",
              "    <path d=\"M120-120v-720h720v720H120Zm60-500h600v-160H180v160Zm220 220h160v-160H400v160Zm0 220h160v-160H400v160ZM180-400h160v-160H180v160Zm440 0h160v-160H620v160ZM180-180h160v-160H180v160Zm440 0h160v-160H620v160Z\"/>\n",
              "  </svg>\n",
              "    </button>\n",
              "\n",
              "  <style>\n",
              "    .colab-df-container {\n",
              "      display:flex;\n",
              "      gap: 12px;\n",
              "    }\n",
              "\n",
              "    .colab-df-convert {\n",
              "      background-color: #E8F0FE;\n",
              "      border: none;\n",
              "      border-radius: 50%;\n",
              "      cursor: pointer;\n",
              "      display: none;\n",
              "      fill: #1967D2;\n",
              "      height: 32px;\n",
              "      padding: 0 0 0 0;\n",
              "      width: 32px;\n",
              "    }\n",
              "\n",
              "    .colab-df-convert:hover {\n",
              "      background-color: #E2EBFA;\n",
              "      box-shadow: 0px 1px 2px rgba(60, 64, 67, 0.3), 0px 1px 3px 1px rgba(60, 64, 67, 0.15);\n",
              "      fill: #174EA6;\n",
              "    }\n",
              "\n",
              "    .colab-df-buttons div {\n",
              "      margin-bottom: 4px;\n",
              "    }\n",
              "\n",
              "    [theme=dark] .colab-df-convert {\n",
              "      background-color: #3B4455;\n",
              "      fill: #D2E3FC;\n",
              "    }\n",
              "\n",
              "    [theme=dark] .colab-df-convert:hover {\n",
              "      background-color: #434B5C;\n",
              "      box-shadow: 0px 1px 3px 1px rgba(0, 0, 0, 0.15);\n",
              "      filter: drop-shadow(0px 1px 2px rgba(0, 0, 0, 0.3));\n",
              "      fill: #FFFFFF;\n",
              "    }\n",
              "  </style>\n",
              "\n",
              "    <script>\n",
              "      const buttonEl =\n",
              "        document.querySelector('#df-c3ffff85-5d23-4718-bfa0-053a7cd6470d button.colab-df-convert');\n",
              "      buttonEl.style.display =\n",
              "        google.colab.kernel.accessAllowed ? 'block' : 'none';\n",
              "\n",
              "      async function convertToInteractive(key) {\n",
              "        const element = document.querySelector('#df-c3ffff85-5d23-4718-bfa0-053a7cd6470d');\n",
              "        const dataTable =\n",
              "          await google.colab.kernel.invokeFunction('convertToInteractive',\n",
              "                                                    [key], {});\n",
              "        if (!dataTable) return;\n",
              "\n",
              "        const docLinkHtml = 'Like what you see? Visit the ' +\n",
              "          '<a target=\"_blank\" href=https://colab.research.google.com/notebooks/data_table.ipynb>data table notebook</a>'\n",
              "          + ' to learn more about interactive tables.';\n",
              "        element.innerHTML = '';\n",
              "        dataTable['output_type'] = 'display_data';\n",
              "        await google.colab.output.renderOutput(dataTable, element);\n",
              "        const docLink = document.createElement('div');\n",
              "        docLink.innerHTML = docLinkHtml;\n",
              "        element.appendChild(docLink);\n",
              "      }\n",
              "    </script>\n",
              "  </div>\n",
              "\n",
              "\n",
              "    <div id=\"df-0217e78e-09e8-4bc5-a2d8-9c1df9c0876a\">\n",
              "      <button class=\"colab-df-quickchart\" onclick=\"quickchart('df-0217e78e-09e8-4bc5-a2d8-9c1df9c0876a')\"\n",
              "                title=\"Suggest charts\"\n",
              "                style=\"display:none;\">\n",
              "\n",
              "<svg xmlns=\"http://www.w3.org/2000/svg\" height=\"24px\"viewBox=\"0 0 24 24\"\n",
              "     width=\"24px\">\n",
              "    <g>\n",
              "        <path d=\"M19 3H5c-1.1 0-2 .9-2 2v14c0 1.1.9 2 2 2h14c1.1 0 2-.9 2-2V5c0-1.1-.9-2-2-2zM9 17H7v-7h2v7zm4 0h-2V7h2v10zm4 0h-2v-4h2v4z\"/>\n",
              "    </g>\n",
              "</svg>\n",
              "      </button>\n",
              "\n",
              "<style>\n",
              "  .colab-df-quickchart {\n",
              "      --bg-color: #E8F0FE;\n",
              "      --fill-color: #1967D2;\n",
              "      --hover-bg-color: #E2EBFA;\n",
              "      --hover-fill-color: #174EA6;\n",
              "      --disabled-fill-color: #AAA;\n",
              "      --disabled-bg-color: #DDD;\n",
              "  }\n",
              "\n",
              "  [theme=dark] .colab-df-quickchart {\n",
              "      --bg-color: #3B4455;\n",
              "      --fill-color: #D2E3FC;\n",
              "      --hover-bg-color: #434B5C;\n",
              "      --hover-fill-color: #FFFFFF;\n",
              "      --disabled-bg-color: #3B4455;\n",
              "      --disabled-fill-color: #666;\n",
              "  }\n",
              "\n",
              "  .colab-df-quickchart {\n",
              "    background-color: var(--bg-color);\n",
              "    border: none;\n",
              "    border-radius: 50%;\n",
              "    cursor: pointer;\n",
              "    display: none;\n",
              "    fill: var(--fill-color);\n",
              "    height: 32px;\n",
              "    padding: 0;\n",
              "    width: 32px;\n",
              "  }\n",
              "\n",
              "  .colab-df-quickchart:hover {\n",
              "    background-color: var(--hover-bg-color);\n",
              "    box-shadow: 0 1px 2px rgba(60, 64, 67, 0.3), 0 1px 3px 1px rgba(60, 64, 67, 0.15);\n",
              "    fill: var(--button-hover-fill-color);\n",
              "  }\n",
              "\n",
              "  .colab-df-quickchart-complete:disabled,\n",
              "  .colab-df-quickchart-complete:disabled:hover {\n",
              "    background-color: var(--disabled-bg-color);\n",
              "    fill: var(--disabled-fill-color);\n",
              "    box-shadow: none;\n",
              "  }\n",
              "\n",
              "  .colab-df-spinner {\n",
              "    border: 2px solid var(--fill-color);\n",
              "    border-color: transparent;\n",
              "    border-bottom-color: var(--fill-color);\n",
              "    animation:\n",
              "      spin 1s steps(1) infinite;\n",
              "  }\n",
              "\n",
              "  @keyframes spin {\n",
              "    0% {\n",
              "      border-color: transparent;\n",
              "      border-bottom-color: var(--fill-color);\n",
              "      border-left-color: var(--fill-color);\n",
              "    }\n",
              "    20% {\n",
              "      border-color: transparent;\n",
              "      border-left-color: var(--fill-color);\n",
              "      border-top-color: var(--fill-color);\n",
              "    }\n",
              "    30% {\n",
              "      border-color: transparent;\n",
              "      border-left-color: var(--fill-color);\n",
              "      border-top-color: var(--fill-color);\n",
              "      border-right-color: var(--fill-color);\n",
              "    }\n",
              "    40% {\n",
              "      border-color: transparent;\n",
              "      border-right-color: var(--fill-color);\n",
              "      border-top-color: var(--fill-color);\n",
              "    }\n",
              "    60% {\n",
              "      border-color: transparent;\n",
              "      border-right-color: var(--fill-color);\n",
              "    }\n",
              "    80% {\n",
              "      border-color: transparent;\n",
              "      border-right-color: var(--fill-color);\n",
              "      border-bottom-color: var(--fill-color);\n",
              "    }\n",
              "    90% {\n",
              "      border-color: transparent;\n",
              "      border-bottom-color: var(--fill-color);\n",
              "    }\n",
              "  }\n",
              "</style>\n",
              "\n",
              "      <script>\n",
              "        async function quickchart(key) {\n",
              "          const quickchartButtonEl =\n",
              "            document.querySelector('#' + key + ' button');\n",
              "          quickchartButtonEl.disabled = true;  // To prevent multiple clicks.\n",
              "          quickchartButtonEl.classList.add('colab-df-spinner');\n",
              "          try {\n",
              "            const charts = await google.colab.kernel.invokeFunction(\n",
              "                'suggestCharts', [key], {});\n",
              "          } catch (error) {\n",
              "            console.error('Error during call to suggestCharts:', error);\n",
              "          }\n",
              "          quickchartButtonEl.classList.remove('colab-df-spinner');\n",
              "          quickchartButtonEl.classList.add('colab-df-quickchart-complete');\n",
              "        }\n",
              "        (() => {\n",
              "          let quickchartButtonEl =\n",
              "            document.querySelector('#df-0217e78e-09e8-4bc5-a2d8-9c1df9c0876a button');\n",
              "          quickchartButtonEl.style.display =\n",
              "            google.colab.kernel.accessAllowed ? 'block' : 'none';\n",
              "        })();\n",
              "      </script>\n",
              "    </div>\n",
              "\n",
              "    </div>\n",
              "  </div>\n"
            ],
            "application/vnd.google.colaboratory.intrinsic+json": {
              "type": "dataframe"
            }
          },
          "metadata": {},
          "execution_count": 56
        }
      ],
      "source": [
        "df_merged[['wifi_coverage_status', 'wifi_coverage_24_status', 'wifi_coverage_5_status']]"
      ]
    },
    {
      "cell_type": "code",
      "execution_count": null,
      "metadata": {
        "colab": {
          "base_uri": "https://localhost:8080/"
        },
        "id": "PZzfDep1cQyJ",
        "outputId": "c27effa4-b03b-4b66-9df1-0d9a87e1730f"
      },
      "outputs": [
        {
          "output_type": "execute_result",
          "data": {
            "text/plain": [
              "(519455, 60)"
            ]
          },
          "metadata": {},
          "execution_count": 57
        }
      ],
      "source": [
        "df_merged.shape"
      ]
    },
    {
      "cell_type": "code",
      "execution_count": null,
      "metadata": {
        "colab": {
          "base_uri": "https://localhost:8080/",
          "height": 256
        },
        "id": "BLwh67gnk-Bp",
        "outputId": "4e12beea-8e28-448d-9681-0d45dc027653"
      },
      "outputs": [
        {
          "output_type": "execute_result",
          "data": {
            "text/plain": [
              "        device_id analysis_date  reboots  script_boots  ap_count  \\\n",
              "2692   0005970190    2025-06-11        0             0         0   \n",
              "15260  ab7f2270de    2025-06-11        0             0         0   \n",
              "7661   ab8b015600    2025-06-11        0             0         0   \n",
              "5019   ab8dc0e35c    2025-06-11        0             0         0   \n",
              "3630   188a7fa684    2025-06-11        0             0         0   \n",
              "\n",
              "       total_samples_24  total_samples_5  good_samples_24  good_samples_5  \\\n",
              "2692                368             1557              351            1311   \n",
              "15260                70             3634               55            2081   \n",
              "7661               2850             7610             1882            5625   \n",
              "5019               3105            10386              231           10286   \n",
              "3630                 27             2001                5            1715   \n",
              "\n",
              "       poor_qoe_samples  ...  total_samples_24_non_iot  band_usage_24_status  \\\n",
              "2692                 11  ...                       368                   2.0   \n",
              "15260               142  ...                        70                   2.0   \n",
              "7661                 56  ...                      2850                   2.0   \n",
              "5019                 43  ...                      3105                   2.0   \n",
              "3630                  0  ...                        27                   2.0   \n",
              "\n",
              "       poor_iot_weighted_samples_24  poor_active_iot_weighted_samples_24  \\\n",
              "2692                              0                                    0   \n",
              "15260                             0                                    0   \n",
              "7661                              0                                    0   \n",
              "5019                              9                                    1   \n",
              "3630                              2                                    0   \n",
              "\n",
              "       channel_changes_count_24  channel_changes_count_5  mem_usage  \\\n",
              "2692                        0.0                      0.0      57.21   \n",
              "15260                       0.0                      0.0      59.47   \n",
              "7661                        0.0                      0.0      52.19   \n",
              "5019                        0.0                      0.0      25.17   \n",
              "3630                        0.0                      0.0      69.78   \n",
              "\n",
              "       high_mem_usage_samples  chunk_number  flag_call  \n",
              "2692                        0             1          0  \n",
              "15260                       0             6          0  \n",
              "7661                        0             3          0  \n",
              "5019                        0             2          0  \n",
              "3630                        0             1          0  \n",
              "\n",
              "[5 rows x 60 columns]"
            ],
            "text/html": [
              "\n",
              "  <div id=\"df-85a1c857-167f-4150-be74-180385d38b1a\" class=\"colab-df-container\">\n",
              "    <div>\n",
              "<style scoped>\n",
              "    .dataframe tbody tr th:only-of-type {\n",
              "        vertical-align: middle;\n",
              "    }\n",
              "\n",
              "    .dataframe tbody tr th {\n",
              "        vertical-align: top;\n",
              "    }\n",
              "\n",
              "    .dataframe thead th {\n",
              "        text-align: right;\n",
              "    }\n",
              "</style>\n",
              "<table border=\"1\" class=\"dataframe\">\n",
              "  <thead>\n",
              "    <tr style=\"text-align: right;\">\n",
              "      <th></th>\n",
              "      <th>device_id</th>\n",
              "      <th>analysis_date</th>\n",
              "      <th>reboots</th>\n",
              "      <th>script_boots</th>\n",
              "      <th>ap_count</th>\n",
              "      <th>total_samples_24</th>\n",
              "      <th>total_samples_5</th>\n",
              "      <th>good_samples_24</th>\n",
              "      <th>good_samples_5</th>\n",
              "      <th>poor_qoe_samples</th>\n",
              "      <th>...</th>\n",
              "      <th>total_samples_24_non_iot</th>\n",
              "      <th>band_usage_24_status</th>\n",
              "      <th>poor_iot_weighted_samples_24</th>\n",
              "      <th>poor_active_iot_weighted_samples_24</th>\n",
              "      <th>channel_changes_count_24</th>\n",
              "      <th>channel_changes_count_5</th>\n",
              "      <th>mem_usage</th>\n",
              "      <th>high_mem_usage_samples</th>\n",
              "      <th>chunk_number</th>\n",
              "      <th>flag_call</th>\n",
              "    </tr>\n",
              "  </thead>\n",
              "  <tbody>\n",
              "    <tr>\n",
              "      <th>2692</th>\n",
              "      <td>0005970190</td>\n",
              "      <td>2025-06-11</td>\n",
              "      <td>0</td>\n",
              "      <td>0</td>\n",
              "      <td>0</td>\n",
              "      <td>368</td>\n",
              "      <td>1557</td>\n",
              "      <td>351</td>\n",
              "      <td>1311</td>\n",
              "      <td>11</td>\n",
              "      <td>...</td>\n",
              "      <td>368</td>\n",
              "      <td>2.0</td>\n",
              "      <td>0</td>\n",
              "      <td>0</td>\n",
              "      <td>0.0</td>\n",
              "      <td>0.0</td>\n",
              "      <td>57.21</td>\n",
              "      <td>0</td>\n",
              "      <td>1</td>\n",
              "      <td>0</td>\n",
              "    </tr>\n",
              "    <tr>\n",
              "      <th>15260</th>\n",
              "      <td>ab7f2270de</td>\n",
              "      <td>2025-06-11</td>\n",
              "      <td>0</td>\n",
              "      <td>0</td>\n",
              "      <td>0</td>\n",
              "      <td>70</td>\n",
              "      <td>3634</td>\n",
              "      <td>55</td>\n",
              "      <td>2081</td>\n",
              "      <td>142</td>\n",
              "      <td>...</td>\n",
              "      <td>70</td>\n",
              "      <td>2.0</td>\n",
              "      <td>0</td>\n",
              "      <td>0</td>\n",
              "      <td>0.0</td>\n",
              "      <td>0.0</td>\n",
              "      <td>59.47</td>\n",
              "      <td>0</td>\n",
              "      <td>6</td>\n",
              "      <td>0</td>\n",
              "    </tr>\n",
              "    <tr>\n",
              "      <th>7661</th>\n",
              "      <td>ab8b015600</td>\n",
              "      <td>2025-06-11</td>\n",
              "      <td>0</td>\n",
              "      <td>0</td>\n",
              "      <td>0</td>\n",
              "      <td>2850</td>\n",
              "      <td>7610</td>\n",
              "      <td>1882</td>\n",
              "      <td>5625</td>\n",
              "      <td>56</td>\n",
              "      <td>...</td>\n",
              "      <td>2850</td>\n",
              "      <td>2.0</td>\n",
              "      <td>0</td>\n",
              "      <td>0</td>\n",
              "      <td>0.0</td>\n",
              "      <td>0.0</td>\n",
              "      <td>52.19</td>\n",
              "      <td>0</td>\n",
              "      <td>3</td>\n",
              "      <td>0</td>\n",
              "    </tr>\n",
              "    <tr>\n",
              "      <th>5019</th>\n",
              "      <td>ab8dc0e35c</td>\n",
              "      <td>2025-06-11</td>\n",
              "      <td>0</td>\n",
              "      <td>0</td>\n",
              "      <td>0</td>\n",
              "      <td>3105</td>\n",
              "      <td>10386</td>\n",
              "      <td>231</td>\n",
              "      <td>10286</td>\n",
              "      <td>43</td>\n",
              "      <td>...</td>\n",
              "      <td>3105</td>\n",
              "      <td>2.0</td>\n",
              "      <td>9</td>\n",
              "      <td>1</td>\n",
              "      <td>0.0</td>\n",
              "      <td>0.0</td>\n",
              "      <td>25.17</td>\n",
              "      <td>0</td>\n",
              "      <td>2</td>\n",
              "      <td>0</td>\n",
              "    </tr>\n",
              "    <tr>\n",
              "      <th>3630</th>\n",
              "      <td>188a7fa684</td>\n",
              "      <td>2025-06-11</td>\n",
              "      <td>0</td>\n",
              "      <td>0</td>\n",
              "      <td>0</td>\n",
              "      <td>27</td>\n",
              "      <td>2001</td>\n",
              "      <td>5</td>\n",
              "      <td>1715</td>\n",
              "      <td>0</td>\n",
              "      <td>...</td>\n",
              "      <td>27</td>\n",
              "      <td>2.0</td>\n",
              "      <td>2</td>\n",
              "      <td>0</td>\n",
              "      <td>0.0</td>\n",
              "      <td>0.0</td>\n",
              "      <td>69.78</td>\n",
              "      <td>0</td>\n",
              "      <td>1</td>\n",
              "      <td>0</td>\n",
              "    </tr>\n",
              "  </tbody>\n",
              "</table>\n",
              "<p>5 rows × 60 columns</p>\n",
              "</div>\n",
              "    <div class=\"colab-df-buttons\">\n",
              "\n",
              "  <div class=\"colab-df-container\">\n",
              "    <button class=\"colab-df-convert\" onclick=\"convertToInteractive('df-85a1c857-167f-4150-be74-180385d38b1a')\"\n",
              "            title=\"Convert this dataframe to an interactive table.\"\n",
              "            style=\"display:none;\">\n",
              "\n",
              "  <svg xmlns=\"http://www.w3.org/2000/svg\" height=\"24px\" viewBox=\"0 -960 960 960\">\n",
              "    <path d=\"M120-120v-720h720v720H120Zm60-500h600v-160H180v160Zm220 220h160v-160H400v160Zm0 220h160v-160H400v160ZM180-400h160v-160H180v160Zm440 0h160v-160H620v160ZM180-180h160v-160H180v160Zm440 0h160v-160H620v160Z\"/>\n",
              "  </svg>\n",
              "    </button>\n",
              "\n",
              "  <style>\n",
              "    .colab-df-container {\n",
              "      display:flex;\n",
              "      gap: 12px;\n",
              "    }\n",
              "\n",
              "    .colab-df-convert {\n",
              "      background-color: #E8F0FE;\n",
              "      border: none;\n",
              "      border-radius: 50%;\n",
              "      cursor: pointer;\n",
              "      display: none;\n",
              "      fill: #1967D2;\n",
              "      height: 32px;\n",
              "      padding: 0 0 0 0;\n",
              "      width: 32px;\n",
              "    }\n",
              "\n",
              "    .colab-df-convert:hover {\n",
              "      background-color: #E2EBFA;\n",
              "      box-shadow: 0px 1px 2px rgba(60, 64, 67, 0.3), 0px 1px 3px 1px rgba(60, 64, 67, 0.15);\n",
              "      fill: #174EA6;\n",
              "    }\n",
              "\n",
              "    .colab-df-buttons div {\n",
              "      margin-bottom: 4px;\n",
              "    }\n",
              "\n",
              "    [theme=dark] .colab-df-convert {\n",
              "      background-color: #3B4455;\n",
              "      fill: #D2E3FC;\n",
              "    }\n",
              "\n",
              "    [theme=dark] .colab-df-convert:hover {\n",
              "      background-color: #434B5C;\n",
              "      box-shadow: 0px 1px 3px 1px rgba(0, 0, 0, 0.15);\n",
              "      filter: drop-shadow(0px 1px 2px rgba(0, 0, 0, 0.3));\n",
              "      fill: #FFFFFF;\n",
              "    }\n",
              "  </style>\n",
              "\n",
              "    <script>\n",
              "      const buttonEl =\n",
              "        document.querySelector('#df-85a1c857-167f-4150-be74-180385d38b1a button.colab-df-convert');\n",
              "      buttonEl.style.display =\n",
              "        google.colab.kernel.accessAllowed ? 'block' : 'none';\n",
              "\n",
              "      async function convertToInteractive(key) {\n",
              "        const element = document.querySelector('#df-85a1c857-167f-4150-be74-180385d38b1a');\n",
              "        const dataTable =\n",
              "          await google.colab.kernel.invokeFunction('convertToInteractive',\n",
              "                                                    [key], {});\n",
              "        if (!dataTable) return;\n",
              "\n",
              "        const docLinkHtml = 'Like what you see? Visit the ' +\n",
              "          '<a target=\"_blank\" href=https://colab.research.google.com/notebooks/data_table.ipynb>data table notebook</a>'\n",
              "          + ' to learn more about interactive tables.';\n",
              "        element.innerHTML = '';\n",
              "        dataTable['output_type'] = 'display_data';\n",
              "        await google.colab.output.renderOutput(dataTable, element);\n",
              "        const docLink = document.createElement('div');\n",
              "        docLink.innerHTML = docLinkHtml;\n",
              "        element.appendChild(docLink);\n",
              "      }\n",
              "    </script>\n",
              "  </div>\n",
              "\n",
              "\n",
              "    <div id=\"df-c33a8e53-b9b1-4268-a1bb-1474f601f3da\">\n",
              "      <button class=\"colab-df-quickchart\" onclick=\"quickchart('df-c33a8e53-b9b1-4268-a1bb-1474f601f3da')\"\n",
              "                title=\"Suggest charts\"\n",
              "                style=\"display:none;\">\n",
              "\n",
              "<svg xmlns=\"http://www.w3.org/2000/svg\" height=\"24px\"viewBox=\"0 0 24 24\"\n",
              "     width=\"24px\">\n",
              "    <g>\n",
              "        <path d=\"M19 3H5c-1.1 0-2 .9-2 2v14c0 1.1.9 2 2 2h14c1.1 0 2-.9 2-2V5c0-1.1-.9-2-2-2zM9 17H7v-7h2v7zm4 0h-2V7h2v10zm4 0h-2v-4h2v4z\"/>\n",
              "    </g>\n",
              "</svg>\n",
              "      </button>\n",
              "\n",
              "<style>\n",
              "  .colab-df-quickchart {\n",
              "      --bg-color: #E8F0FE;\n",
              "      --fill-color: #1967D2;\n",
              "      --hover-bg-color: #E2EBFA;\n",
              "      --hover-fill-color: #174EA6;\n",
              "      --disabled-fill-color: #AAA;\n",
              "      --disabled-bg-color: #DDD;\n",
              "  }\n",
              "\n",
              "  [theme=dark] .colab-df-quickchart {\n",
              "      --bg-color: #3B4455;\n",
              "      --fill-color: #D2E3FC;\n",
              "      --hover-bg-color: #434B5C;\n",
              "      --hover-fill-color: #FFFFFF;\n",
              "      --disabled-bg-color: #3B4455;\n",
              "      --disabled-fill-color: #666;\n",
              "  }\n",
              "\n",
              "  .colab-df-quickchart {\n",
              "    background-color: var(--bg-color);\n",
              "    border: none;\n",
              "    border-radius: 50%;\n",
              "    cursor: pointer;\n",
              "    display: none;\n",
              "    fill: var(--fill-color);\n",
              "    height: 32px;\n",
              "    padding: 0;\n",
              "    width: 32px;\n",
              "  }\n",
              "\n",
              "  .colab-df-quickchart:hover {\n",
              "    background-color: var(--hover-bg-color);\n",
              "    box-shadow: 0 1px 2px rgba(60, 64, 67, 0.3), 0 1px 3px 1px rgba(60, 64, 67, 0.15);\n",
              "    fill: var(--button-hover-fill-color);\n",
              "  }\n",
              "\n",
              "  .colab-df-quickchart-complete:disabled,\n",
              "  .colab-df-quickchart-complete:disabled:hover {\n",
              "    background-color: var(--disabled-bg-color);\n",
              "    fill: var(--disabled-fill-color);\n",
              "    box-shadow: none;\n",
              "  }\n",
              "\n",
              "  .colab-df-spinner {\n",
              "    border: 2px solid var(--fill-color);\n",
              "    border-color: transparent;\n",
              "    border-bottom-color: var(--fill-color);\n",
              "    animation:\n",
              "      spin 1s steps(1) infinite;\n",
              "  }\n",
              "\n",
              "  @keyframes spin {\n",
              "    0% {\n",
              "      border-color: transparent;\n",
              "      border-bottom-color: var(--fill-color);\n",
              "      border-left-color: var(--fill-color);\n",
              "    }\n",
              "    20% {\n",
              "      border-color: transparent;\n",
              "      border-left-color: var(--fill-color);\n",
              "      border-top-color: var(--fill-color);\n",
              "    }\n",
              "    30% {\n",
              "      border-color: transparent;\n",
              "      border-left-color: var(--fill-color);\n",
              "      border-top-color: var(--fill-color);\n",
              "      border-right-color: var(--fill-color);\n",
              "    }\n",
              "    40% {\n",
              "      border-color: transparent;\n",
              "      border-right-color: var(--fill-color);\n",
              "      border-top-color: var(--fill-color);\n",
              "    }\n",
              "    60% {\n",
              "      border-color: transparent;\n",
              "      border-right-color: var(--fill-color);\n",
              "    }\n",
              "    80% {\n",
              "      border-color: transparent;\n",
              "      border-right-color: var(--fill-color);\n",
              "      border-bottom-color: var(--fill-color);\n",
              "    }\n",
              "    90% {\n",
              "      border-color: transparent;\n",
              "      border-bottom-color: var(--fill-color);\n",
              "    }\n",
              "  }\n",
              "</style>\n",
              "\n",
              "      <script>\n",
              "        async function quickchart(key) {\n",
              "          const quickchartButtonEl =\n",
              "            document.querySelector('#' + key + ' button');\n",
              "          quickchartButtonEl.disabled = true;  // To prevent multiple clicks.\n",
              "          quickchartButtonEl.classList.add('colab-df-spinner');\n",
              "          try {\n",
              "            const charts = await google.colab.kernel.invokeFunction(\n",
              "                'suggestCharts', [key], {});\n",
              "          } catch (error) {\n",
              "            console.error('Error during call to suggestCharts:', error);\n",
              "          }\n",
              "          quickchartButtonEl.classList.remove('colab-df-spinner');\n",
              "          quickchartButtonEl.classList.add('colab-df-quickchart-complete');\n",
              "        }\n",
              "        (() => {\n",
              "          let quickchartButtonEl =\n",
              "            document.querySelector('#df-c33a8e53-b9b1-4268-a1bb-1474f601f3da button');\n",
              "          quickchartButtonEl.style.display =\n",
              "            google.colab.kernel.accessAllowed ? 'block' : 'none';\n",
              "        })();\n",
              "      </script>\n",
              "    </div>\n",
              "\n",
              "    </div>\n",
              "  </div>\n"
            ],
            "application/vnd.google.colaboratory.intrinsic+json": {
              "type": "dataframe",
              "variable_name": "df_merged"
            }
          },
          "metadata": {},
          "execution_count": 58
        }
      ],
      "source": [
        "df_merged.head()"
      ]
    },
    {
      "cell_type": "markdown",
      "metadata": {
        "id": "6MITHVE7_9UN"
      },
      "source": [
        "## Ensure device_id exist across all dates"
      ]
    },
    {
      "cell_type": "code",
      "execution_count": null,
      "metadata": {
        "id": "xBC4pwk5e-jl"
      },
      "outputs": [],
      "source": [
        "# Filter device_id that exist across all dates\n",
        "def filter_devices_with_complete_dates(df, device_col='device_id', date_col='analysis_date'):\n",
        "\n",
        "    # Ensure datetime format ---\n",
        "    df = df.copy()\n",
        "    df[date_col] = pd.to_datetime(df[date_col])\n",
        "\n",
        "    # Get all unique dates in the dataset ---\n",
        "    all_dates = np.sort(df[date_col].unique())\n",
        "    n_dates = len(all_dates)\n",
        "    print(f\" Total unique dates in dataset: {n_dates}\")\n",
        "\n",
        "    # Count unique dates per device ---\n",
        "    device_date_counts = df.groupby(device_col)[date_col].nunique()\n",
        "\n",
        "    # Identify complete devices ---\n",
        "    complete_devices = device_date_counts[device_date_counts == n_dates].index\n",
        "    n_complete = len(complete_devices)\n",
        "    print(f\" Found {n_complete} devices with complete date coverage (out of {len(device_date_counts)})\")\n",
        "\n",
        "    # Filter the DataFrame ---\n",
        "    df_complete = df[df[device_col].isin(complete_devices)].copy()\n",
        "\n",
        "    # Verify result ---\n",
        "    remaining_devices = df_complete[device_col].nunique()\n",
        "    assert remaining_devices == n_complete, \" Filtering failed — counts don't match!\"\n",
        "    print(f\" Final DataFrame contains {remaining_devices} devices with full date coverage\")\n",
        "\n",
        "    return df_complete"
      ]
    },
    {
      "cell_type": "code",
      "execution_count": null,
      "metadata": {
        "colab": {
          "base_uri": "https://localhost:8080/"
        },
        "id": "GTveSHkOgM71",
        "outputId": "c0082b86-837d-4891-adf0-0124664cfdb0"
      },
      "outputs": [
        {
          "output_type": "stream",
          "name": "stdout",
          "text": [
            " Total unique dates in dataset: 30\n",
            " Found 14799 devices with complete date coverage (out of 17904)\n",
            " Final DataFrame contains 14799 devices with full date coverage\n",
            " df_merged shape (443970, 60)\n"
          ]
        }
      ],
      "source": [
        "df_merged = filter_devices_with_complete_dates(df_merged)\n",
        "\n",
        "print(f' df_merged shape {df_merged.shape}')"
      ]
    },
    {
      "cell_type": "markdown",
      "metadata": {
        "id": "8IpvbrtakWGa"
      },
      "source": [
        "## Manual Feature Engineering"
      ]
    },
    {
      "cell_type": "code",
      "execution_count": null,
      "metadata": {
        "id": "CuN2Zga3gykK"
      },
      "outputs": [],
      "source": [
        "# Create Manual Ferature Engineering\n",
        "def manual_feature_engineering(df):\n",
        "    # df = df.copy()\n",
        "\n",
        "    # Ratios\n",
        "    df['poor_coverage_ratio_24'] = df['poor_samples_24'] / (df['total_active_samples_24'] + 1e-6)\n",
        "    df['poor_coverage_ratio_5'] = df['poor_samples_5'] / (df['total_active_samples_5'] + 1e-6)\n",
        "    df['poor_coverage_ratio_total'] = (df['poor_samples_5'] + df['poor_samples_24']) / (df['total_active_samples_24'] + df['total_active_samples_5'] + 1e-6)\n",
        "\n",
        "    df['active_poor_ratio_24'] = df['poor_active_samples_24'] / (df['total_active_samples_24'] + 1e-6)\n",
        "    df['active_poor_ratio_5'] = df['poor_active_samples_5'] / (df['total_active_samples_5'] + 1e-6)\n",
        "    df['active_poor_ratio_total'] = (df['poor_active_samples_24'] + df['poor_active_samples_5']) / (df['total_active_samples_24'] + df['total_active_samples_5'] + 1e-6)\n",
        "\n",
        "    df['total_stations_per_hour'] = df['number_of_wifi_clients'] / (df['uptime_in_minutes'] / 60 + 1e-6)\n",
        "\n",
        "    # -Band preference and congestion ratios\n",
        "    df['congestion_ratio_24'] = df['congested_sample_24_count'] / (df['total_active_samples_24'] + df['total_active_samples_5'] + 1e-6)\n",
        "    df['congestion_ratio_5'] = df['congested_sample_5_count'] / (df['total_active_samples_24'] + df['total_active_samples_5'] + 1e-6)\n",
        "\n",
        "    return df\n"
      ]
    },
    {
      "cell_type": "code",
      "execution_count": null,
      "metadata": {
        "id": "4333X-Fu8btG"
      },
      "outputs": [],
      "source": [
        "df_merged = manual_feature_engineering(df_merged)"
      ]
    },
    {
      "cell_type": "code",
      "execution_count": null,
      "metadata": {
        "colab": {
          "base_uri": "https://localhost:8080/",
          "height": 256
        },
        "id": "iBo0aD98hhC0",
        "outputId": "940f193c-8211-4df1-d9d8-df647825c422"
      },
      "outputs": [
        {
          "output_type": "execute_result",
          "data": {
            "text/plain": [
              "        device_id analysis_date  reboots  script_boots  ap_count  \\\n",
              "2692   0005970190    2025-06-11        0             0         0   \n",
              "15260  ab7f2270de    2025-06-11        0             0         0   \n",
              "7661   ab8b015600    2025-06-11        0             0         0   \n",
              "5019   ab8dc0e35c    2025-06-11        0             0         0   \n",
              "47     ab8df22c51    2025-06-11        1             0         0   \n",
              "\n",
              "       total_samples_24  total_samples_5  good_samples_24  good_samples_5  \\\n",
              "2692                368             1557              351            1311   \n",
              "15260                70             3634               55            2081   \n",
              "7661               2850             7610             1882            5625   \n",
              "5019               3105            10386              231           10286   \n",
              "47                    0              110                0             109   \n",
              "\n",
              "       poor_qoe_samples  ...  flag_call  poor_coverage_ratio_24  \\\n",
              "2692                 11  ...          0                0.000000   \n",
              "15260               142  ...          0                0.000000   \n",
              "7661                 56  ...          0                0.000000   \n",
              "5019                 43  ...          0                0.087379   \n",
              "47                    0  ...          0                0.000000   \n",
              "\n",
              "       poor_coverage_ratio_5  poor_coverage_ratio_total  active_poor_ratio_24  \\\n",
              "2692                0.077093                   0.050725              0.000000   \n",
              "15260               0.983854                   0.962105              0.000000   \n",
              "7661                0.002020                   0.001364              0.000000   \n",
              "5019                0.004241                   0.010920              0.009709   \n",
              "47                  0.000000                   0.000000              0.000000   \n",
              "\n",
              "       active_poor_ratio_5  active_poor_ratio_total  total_stations_per_hour  \\\n",
              "2692              0.037445                 0.024638                 0.110571   \n",
              "15260             0.541442                 0.529474                 0.011102   \n",
              "7661              0.000000                 0.000000                 0.006389   \n",
              "5019              0.000000                 0.000780                 0.405742   \n",
              "47                0.000000                 0.000000                10.465031   \n",
              "\n",
              "       congestion_ratio_24  congestion_ratio_5  \n",
              "2692              0.001449            0.000000  \n",
              "15260             0.732632            0.002105  \n",
              "7661              0.047749            0.107776  \n",
              "5019              0.007800            0.017161  \n",
              "47                0.000000            0.000000  \n",
              "\n",
              "[5 rows x 69 columns]"
            ],
            "text/html": [
              "\n",
              "  <div id=\"df-d46c65af-f6e4-4592-8fd2-ead781f6a3d1\" class=\"colab-df-container\">\n",
              "    <div>\n",
              "<style scoped>\n",
              "    .dataframe tbody tr th:only-of-type {\n",
              "        vertical-align: middle;\n",
              "    }\n",
              "\n",
              "    .dataframe tbody tr th {\n",
              "        vertical-align: top;\n",
              "    }\n",
              "\n",
              "    .dataframe thead th {\n",
              "        text-align: right;\n",
              "    }\n",
              "</style>\n",
              "<table border=\"1\" class=\"dataframe\">\n",
              "  <thead>\n",
              "    <tr style=\"text-align: right;\">\n",
              "      <th></th>\n",
              "      <th>device_id</th>\n",
              "      <th>analysis_date</th>\n",
              "      <th>reboots</th>\n",
              "      <th>script_boots</th>\n",
              "      <th>ap_count</th>\n",
              "      <th>total_samples_24</th>\n",
              "      <th>total_samples_5</th>\n",
              "      <th>good_samples_24</th>\n",
              "      <th>good_samples_5</th>\n",
              "      <th>poor_qoe_samples</th>\n",
              "      <th>...</th>\n",
              "      <th>flag_call</th>\n",
              "      <th>poor_coverage_ratio_24</th>\n",
              "      <th>poor_coverage_ratio_5</th>\n",
              "      <th>poor_coverage_ratio_total</th>\n",
              "      <th>active_poor_ratio_24</th>\n",
              "      <th>active_poor_ratio_5</th>\n",
              "      <th>active_poor_ratio_total</th>\n",
              "      <th>total_stations_per_hour</th>\n",
              "      <th>congestion_ratio_24</th>\n",
              "      <th>congestion_ratio_5</th>\n",
              "    </tr>\n",
              "  </thead>\n",
              "  <tbody>\n",
              "    <tr>\n",
              "      <th>2692</th>\n",
              "      <td>0005970190</td>\n",
              "      <td>2025-06-11</td>\n",
              "      <td>0</td>\n",
              "      <td>0</td>\n",
              "      <td>0</td>\n",
              "      <td>368</td>\n",
              "      <td>1557</td>\n",
              "      <td>351</td>\n",
              "      <td>1311</td>\n",
              "      <td>11</td>\n",
              "      <td>...</td>\n",
              "      <td>0</td>\n",
              "      <td>0.000000</td>\n",
              "      <td>0.077093</td>\n",
              "      <td>0.050725</td>\n",
              "      <td>0.000000</td>\n",
              "      <td>0.037445</td>\n",
              "      <td>0.024638</td>\n",
              "      <td>0.110571</td>\n",
              "      <td>0.001449</td>\n",
              "      <td>0.000000</td>\n",
              "    </tr>\n",
              "    <tr>\n",
              "      <th>15260</th>\n",
              "      <td>ab7f2270de</td>\n",
              "      <td>2025-06-11</td>\n",
              "      <td>0</td>\n",
              "      <td>0</td>\n",
              "      <td>0</td>\n",
              "      <td>70</td>\n",
              "      <td>3634</td>\n",
              "      <td>55</td>\n",
              "      <td>2081</td>\n",
              "      <td>142</td>\n",
              "      <td>...</td>\n",
              "      <td>0</td>\n",
              "      <td>0.000000</td>\n",
              "      <td>0.983854</td>\n",
              "      <td>0.962105</td>\n",
              "      <td>0.000000</td>\n",
              "      <td>0.541442</td>\n",
              "      <td>0.529474</td>\n",
              "      <td>0.011102</td>\n",
              "      <td>0.732632</td>\n",
              "      <td>0.002105</td>\n",
              "    </tr>\n",
              "    <tr>\n",
              "      <th>7661</th>\n",
              "      <td>ab8b015600</td>\n",
              "      <td>2025-06-11</td>\n",
              "      <td>0</td>\n",
              "      <td>0</td>\n",
              "      <td>0</td>\n",
              "      <td>2850</td>\n",
              "      <td>7610</td>\n",
              "      <td>1882</td>\n",
              "      <td>5625</td>\n",
              "      <td>56</td>\n",
              "      <td>...</td>\n",
              "      <td>0</td>\n",
              "      <td>0.000000</td>\n",
              "      <td>0.002020</td>\n",
              "      <td>0.001364</td>\n",
              "      <td>0.000000</td>\n",
              "      <td>0.000000</td>\n",
              "      <td>0.000000</td>\n",
              "      <td>0.006389</td>\n",
              "      <td>0.047749</td>\n",
              "      <td>0.107776</td>\n",
              "    </tr>\n",
              "    <tr>\n",
              "      <th>5019</th>\n",
              "      <td>ab8dc0e35c</td>\n",
              "      <td>2025-06-11</td>\n",
              "      <td>0</td>\n",
              "      <td>0</td>\n",
              "      <td>0</td>\n",
              "      <td>3105</td>\n",
              "      <td>10386</td>\n",
              "      <td>231</td>\n",
              "      <td>10286</td>\n",
              "      <td>43</td>\n",
              "      <td>...</td>\n",
              "      <td>0</td>\n",
              "      <td>0.087379</td>\n",
              "      <td>0.004241</td>\n",
              "      <td>0.010920</td>\n",
              "      <td>0.009709</td>\n",
              "      <td>0.000000</td>\n",
              "      <td>0.000780</td>\n",
              "      <td>0.405742</td>\n",
              "      <td>0.007800</td>\n",
              "      <td>0.017161</td>\n",
              "    </tr>\n",
              "    <tr>\n",
              "      <th>47</th>\n",
              "      <td>ab8df22c51</td>\n",
              "      <td>2025-06-11</td>\n",
              "      <td>1</td>\n",
              "      <td>0</td>\n",
              "      <td>0</td>\n",
              "      <td>0</td>\n",
              "      <td>110</td>\n",
              "      <td>0</td>\n",
              "      <td>109</td>\n",
              "      <td>0</td>\n",
              "      <td>...</td>\n",
              "      <td>0</td>\n",
              "      <td>0.000000</td>\n",
              "      <td>0.000000</td>\n",
              "      <td>0.000000</td>\n",
              "      <td>0.000000</td>\n",
              "      <td>0.000000</td>\n",
              "      <td>0.000000</td>\n",
              "      <td>10.465031</td>\n",
              "      <td>0.000000</td>\n",
              "      <td>0.000000</td>\n",
              "    </tr>\n",
              "  </tbody>\n",
              "</table>\n",
              "<p>5 rows × 69 columns</p>\n",
              "</div>\n",
              "    <div class=\"colab-df-buttons\">\n",
              "\n",
              "  <div class=\"colab-df-container\">\n",
              "    <button class=\"colab-df-convert\" onclick=\"convertToInteractive('df-d46c65af-f6e4-4592-8fd2-ead781f6a3d1')\"\n",
              "            title=\"Convert this dataframe to an interactive table.\"\n",
              "            style=\"display:none;\">\n",
              "\n",
              "  <svg xmlns=\"http://www.w3.org/2000/svg\" height=\"24px\" viewBox=\"0 -960 960 960\">\n",
              "    <path d=\"M120-120v-720h720v720H120Zm60-500h600v-160H180v160Zm220 220h160v-160H400v160Zm0 220h160v-160H400v160ZM180-400h160v-160H180v160Zm440 0h160v-160H620v160ZM180-180h160v-160H180v160Zm440 0h160v-160H620v160Z\"/>\n",
              "  </svg>\n",
              "    </button>\n",
              "\n",
              "  <style>\n",
              "    .colab-df-container {\n",
              "      display:flex;\n",
              "      gap: 12px;\n",
              "    }\n",
              "\n",
              "    .colab-df-convert {\n",
              "      background-color: #E8F0FE;\n",
              "      border: none;\n",
              "      border-radius: 50%;\n",
              "      cursor: pointer;\n",
              "      display: none;\n",
              "      fill: #1967D2;\n",
              "      height: 32px;\n",
              "      padding: 0 0 0 0;\n",
              "      width: 32px;\n",
              "    }\n",
              "\n",
              "    .colab-df-convert:hover {\n",
              "      background-color: #E2EBFA;\n",
              "      box-shadow: 0px 1px 2px rgba(60, 64, 67, 0.3), 0px 1px 3px 1px rgba(60, 64, 67, 0.15);\n",
              "      fill: #174EA6;\n",
              "    }\n",
              "\n",
              "    .colab-df-buttons div {\n",
              "      margin-bottom: 4px;\n",
              "    }\n",
              "\n",
              "    [theme=dark] .colab-df-convert {\n",
              "      background-color: #3B4455;\n",
              "      fill: #D2E3FC;\n",
              "    }\n",
              "\n",
              "    [theme=dark] .colab-df-convert:hover {\n",
              "      background-color: #434B5C;\n",
              "      box-shadow: 0px 1px 3px 1px rgba(0, 0, 0, 0.15);\n",
              "      filter: drop-shadow(0px 1px 2px rgba(0, 0, 0, 0.3));\n",
              "      fill: #FFFFFF;\n",
              "    }\n",
              "  </style>\n",
              "\n",
              "    <script>\n",
              "      const buttonEl =\n",
              "        document.querySelector('#df-d46c65af-f6e4-4592-8fd2-ead781f6a3d1 button.colab-df-convert');\n",
              "      buttonEl.style.display =\n",
              "        google.colab.kernel.accessAllowed ? 'block' : 'none';\n",
              "\n",
              "      async function convertToInteractive(key) {\n",
              "        const element = document.querySelector('#df-d46c65af-f6e4-4592-8fd2-ead781f6a3d1');\n",
              "        const dataTable =\n",
              "          await google.colab.kernel.invokeFunction('convertToInteractive',\n",
              "                                                    [key], {});\n",
              "        if (!dataTable) return;\n",
              "\n",
              "        const docLinkHtml = 'Like what you see? Visit the ' +\n",
              "          '<a target=\"_blank\" href=https://colab.research.google.com/notebooks/data_table.ipynb>data table notebook</a>'\n",
              "          + ' to learn more about interactive tables.';\n",
              "        element.innerHTML = '';\n",
              "        dataTable['output_type'] = 'display_data';\n",
              "        await google.colab.output.renderOutput(dataTable, element);\n",
              "        const docLink = document.createElement('div');\n",
              "        docLink.innerHTML = docLinkHtml;\n",
              "        element.appendChild(docLink);\n",
              "      }\n",
              "    </script>\n",
              "  </div>\n",
              "\n",
              "\n",
              "    <div id=\"df-9694830d-8557-4fe9-815d-cf725b895a09\">\n",
              "      <button class=\"colab-df-quickchart\" onclick=\"quickchart('df-9694830d-8557-4fe9-815d-cf725b895a09')\"\n",
              "                title=\"Suggest charts\"\n",
              "                style=\"display:none;\">\n",
              "\n",
              "<svg xmlns=\"http://www.w3.org/2000/svg\" height=\"24px\"viewBox=\"0 0 24 24\"\n",
              "     width=\"24px\">\n",
              "    <g>\n",
              "        <path d=\"M19 3H5c-1.1 0-2 .9-2 2v14c0 1.1.9 2 2 2h14c1.1 0 2-.9 2-2V5c0-1.1-.9-2-2-2zM9 17H7v-7h2v7zm4 0h-2V7h2v10zm4 0h-2v-4h2v4z\"/>\n",
              "    </g>\n",
              "</svg>\n",
              "      </button>\n",
              "\n",
              "<style>\n",
              "  .colab-df-quickchart {\n",
              "      --bg-color: #E8F0FE;\n",
              "      --fill-color: #1967D2;\n",
              "      --hover-bg-color: #E2EBFA;\n",
              "      --hover-fill-color: #174EA6;\n",
              "      --disabled-fill-color: #AAA;\n",
              "      --disabled-bg-color: #DDD;\n",
              "  }\n",
              "\n",
              "  [theme=dark] .colab-df-quickchart {\n",
              "      --bg-color: #3B4455;\n",
              "      --fill-color: #D2E3FC;\n",
              "      --hover-bg-color: #434B5C;\n",
              "      --hover-fill-color: #FFFFFF;\n",
              "      --disabled-bg-color: #3B4455;\n",
              "      --disabled-fill-color: #666;\n",
              "  }\n",
              "\n",
              "  .colab-df-quickchart {\n",
              "    background-color: var(--bg-color);\n",
              "    border: none;\n",
              "    border-radius: 50%;\n",
              "    cursor: pointer;\n",
              "    display: none;\n",
              "    fill: var(--fill-color);\n",
              "    height: 32px;\n",
              "    padding: 0;\n",
              "    width: 32px;\n",
              "  }\n",
              "\n",
              "  .colab-df-quickchart:hover {\n",
              "    background-color: var(--hover-bg-color);\n",
              "    box-shadow: 0 1px 2px rgba(60, 64, 67, 0.3), 0 1px 3px 1px rgba(60, 64, 67, 0.15);\n",
              "    fill: var(--button-hover-fill-color);\n",
              "  }\n",
              "\n",
              "  .colab-df-quickchart-complete:disabled,\n",
              "  .colab-df-quickchart-complete:disabled:hover {\n",
              "    background-color: var(--disabled-bg-color);\n",
              "    fill: var(--disabled-fill-color);\n",
              "    box-shadow: none;\n",
              "  }\n",
              "\n",
              "  .colab-df-spinner {\n",
              "    border: 2px solid var(--fill-color);\n",
              "    border-color: transparent;\n",
              "    border-bottom-color: var(--fill-color);\n",
              "    animation:\n",
              "      spin 1s steps(1) infinite;\n",
              "  }\n",
              "\n",
              "  @keyframes spin {\n",
              "    0% {\n",
              "      border-color: transparent;\n",
              "      border-bottom-color: var(--fill-color);\n",
              "      border-left-color: var(--fill-color);\n",
              "    }\n",
              "    20% {\n",
              "      border-color: transparent;\n",
              "      border-left-color: var(--fill-color);\n",
              "      border-top-color: var(--fill-color);\n",
              "    }\n",
              "    30% {\n",
              "      border-color: transparent;\n",
              "      border-left-color: var(--fill-color);\n",
              "      border-top-color: var(--fill-color);\n",
              "      border-right-color: var(--fill-color);\n",
              "    }\n",
              "    40% {\n",
              "      border-color: transparent;\n",
              "      border-right-color: var(--fill-color);\n",
              "      border-top-color: var(--fill-color);\n",
              "    }\n",
              "    60% {\n",
              "      border-color: transparent;\n",
              "      border-right-color: var(--fill-color);\n",
              "    }\n",
              "    80% {\n",
              "      border-color: transparent;\n",
              "      border-right-color: var(--fill-color);\n",
              "      border-bottom-color: var(--fill-color);\n",
              "    }\n",
              "    90% {\n",
              "      border-color: transparent;\n",
              "      border-bottom-color: var(--fill-color);\n",
              "    }\n",
              "  }\n",
              "</style>\n",
              "\n",
              "      <script>\n",
              "        async function quickchart(key) {\n",
              "          const quickchartButtonEl =\n",
              "            document.querySelector('#' + key + ' button');\n",
              "          quickchartButtonEl.disabled = true;  // To prevent multiple clicks.\n",
              "          quickchartButtonEl.classList.add('colab-df-spinner');\n",
              "          try {\n",
              "            const charts = await google.colab.kernel.invokeFunction(\n",
              "                'suggestCharts', [key], {});\n",
              "          } catch (error) {\n",
              "            console.error('Error during call to suggestCharts:', error);\n",
              "          }\n",
              "          quickchartButtonEl.classList.remove('colab-df-spinner');\n",
              "          quickchartButtonEl.classList.add('colab-df-quickchart-complete');\n",
              "        }\n",
              "        (() => {\n",
              "          let quickchartButtonEl =\n",
              "            document.querySelector('#df-9694830d-8557-4fe9-815d-cf725b895a09 button');\n",
              "          quickchartButtonEl.style.display =\n",
              "            google.colab.kernel.accessAllowed ? 'block' : 'none';\n",
              "        })();\n",
              "      </script>\n",
              "    </div>\n",
              "\n",
              "    </div>\n",
              "  </div>\n"
            ],
            "application/vnd.google.colaboratory.intrinsic+json": {
              "type": "dataframe",
              "variable_name": "df_merged"
            }
          },
          "metadata": {},
          "execution_count": 63
        }
      ],
      "source": [
        "df_merged.head()"
      ]
    },
    {
      "cell_type": "markdown",
      "metadata": {
        "id": "ST4Beourpxql"
      },
      "source": [
        "## Lag Features"
      ]
    },
    {
      "cell_type": "code",
      "execution_count": null,
      "metadata": {
        "id": "SgeEXmenM2hw"
      },
      "outputs": [],
      "source": [
        "# Generated 1-day lag features\n",
        "def add_top_lag_features(df, group_col='device_id', target_col='flag_call',\n",
        "                         n_features=20, lag_period=1, verbose=True):\n",
        "\n",
        "    # Identify numeric columns (excluding target)\n",
        "    numeric_cols = df.select_dtypes(include='number').columns.difference([target_col])\n",
        "\n",
        "    # Compute lag features\n",
        "    lag_suffix = f'.lag{lag_period}'\n",
        "    df_lagged = df.groupby(group_col)[numeric_cols].shift(lag_period).add_suffix(lag_suffix)\n",
        "\n",
        "    # Compute correlations\n",
        "    cor_df = df_lagged.copy()\n",
        "    cor_df[target_col] = df[target_col].values\n",
        "    correlations = cor_df.corr()[target_col].drop(target_col)\n",
        "\n",
        "    # Select top N features\n",
        "    top_features = correlations.abs().nlargest(n_features)\n",
        "    top_lag_cols = top_features.index.tolist()\n",
        "\n",
        "    # Merge top features with original data\n",
        "    df_output = pd.concat([df, df_lagged[top_lag_cols]], axis=1)\n",
        "\n",
        "    if verbose:\n",
        "        print(f\"\\nTop {n_features} lag-{lag_period} correlated features with {target_col}:\")\n",
        "        for col in top_lag_cols:\n",
        "            print(f\"{col:.<30} correlation = {correlations[col]:.4f}\")\n",
        "        print(f\"\\nAdded {len(top_lag_cols)} lag features to DataFrame\")\n",
        "\n",
        "    return df_output, correlations"
      ]
    },
    {
      "cell_type": "code",
      "execution_count": null,
      "metadata": {
        "colab": {
          "base_uri": "https://localhost:8080/"
        },
        "id": "vh3RUCIPM4pg",
        "outputId": "0e17c0b1-63b9-43e5-f8ce-4d1c7c818b6a"
      },
      "outputs": [
        {
          "output_type": "stream",
          "name": "stdout",
          "text": [
            "\n",
            "Top 20 lag-1 correlated features with flag_call:\n",
            "reboots.lag1.................. correlation = 0.0154\n",
            "regular_update_drop_count.lag1 correlation = 0.0152\n",
            "total_stations_per_hour.lag1.. correlation = 0.0145\n",
            "channel_changes_count_5.lag1.. correlation = 0.0137\n",
            "congestion_5_status.lag1...... correlation = -0.0135\n",
            "sum_outage_time.lag1.......... correlation = 0.0110\n",
            "congested_sample_5_count.lag1. correlation = 0.0104\n",
            "outage_event_count.lag1....... correlation = 0.0068\n",
            "uptime_in_minutes.lag1........ correlation = -0.0063\n",
            "good_samples_5.lag1........... correlation = -0.0054\n",
            "congested_sample_active_5_count.lag1 correlation = 0.0050\n",
            "firmware_upgrades.lag1........ correlation = 0.0049\n",
            "band_usage_24_status.lag1..... correlation = -0.0049\n",
            "rssi_samples_5.lag1........... correlation = -0.0047\n",
            "total_samples_5.lag1.......... correlation = -0.0047\n",
            "total_active_samples_5.lag1... correlation = -0.0046\n",
            "sample_active_5_count.lag1.... correlation = -0.0045\n",
            "good_active_samples_5.lag1.... correlation = -0.0043\n",
            "lifemote_cpu_load.lag1........ correlation = 0.0040\n",
            "mid_active_samples_5.lag1..... correlation = -0.0034\n",
            "\n",
            "Added 20 lag features to DataFrame\n"
          ]
        }
      ],
      "source": [
        "df_merged, correlations = add_top_lag_features(df_merged)"
      ]
    },
    {
      "cell_type": "code",
      "execution_count": null,
      "metadata": {
        "colab": {
          "base_uri": "https://localhost:8080/"
        },
        "id": "BaZISjEDqZht",
        "outputId": "ab0aa458-dcd6-4dfc-fd34-fd092c122664"
      },
      "outputs": [
        {
          "output_type": "execute_result",
          "data": {
            "text/plain": [
              "<DatetimeArray>\n",
              "['2025-06-11 00:00:00', '2025-06-12 00:00:00', '2025-06-13 00:00:00',\n",
              " '2025-06-14 00:00:00', '2025-06-15 00:00:00', '2025-06-16 00:00:00',\n",
              " '2025-06-17 00:00:00', '2025-06-18 00:00:00', '2025-06-19 00:00:00',\n",
              " '2025-06-20 00:00:00', '2025-06-21 00:00:00', '2025-06-22 00:00:00',\n",
              " '2025-06-23 00:00:00', '2025-06-24 00:00:00', '2025-06-25 00:00:00',\n",
              " '2025-06-26 00:00:00', '2025-06-27 00:00:00', '2025-06-28 00:00:00',\n",
              " '2025-06-29 00:00:00', '2025-06-30 00:00:00', '2025-07-01 00:00:00',\n",
              " '2025-07-02 00:00:00', '2025-07-03 00:00:00', '2025-07-04 00:00:00',\n",
              " '2025-07-05 00:00:00', '2025-07-06 00:00:00', '2025-07-07 00:00:00',\n",
              " '2025-07-08 00:00:00', '2025-07-09 00:00:00', '2025-07-10 00:00:00']\n",
              "Length: 30, dtype: datetime64[ns]"
            ]
          },
          "metadata": {},
          "execution_count": 66
        }
      ],
      "source": [
        "df_merged['analysis_date'].unique()"
      ]
    },
    {
      "cell_type": "markdown",
      "metadata": {
        "id": "cv1HStBlI3uA"
      },
      "source": [
        "## Create rolling delta featrues"
      ]
    },
    {
      "cell_type": "code",
      "execution_count": null,
      "metadata": {
        "id": "y6Tdje97I02v"
      },
      "outputs": [],
      "source": [
        "# Create day over day deltas od selected features\n",
        "def compute_rolling_deltas(df, date_col='analysis_date', group_col='device_id'):\n",
        "\n",
        "    # Sort by device and time\n",
        "    df[date_col] = pd.to_datetime(df[date_col])\n",
        "    df = df.sort_values([group_col, date_col])\n",
        "\n",
        "    # Define base variables\n",
        "    base_vars = [\n",
        "        \"reboots\", \"script_boots\", \"ap_count\", \"total_samples_24\", \"total_samples_5\",\n",
        "        \"good_samples_24\", \"good_samples_5\", \"poor_qoe_samples_24\",\n",
        "        \"poor_iot_weighted_samples_24\", \"channel_changes_count_24\",\n",
        "        \"mem_usage\", \"high_mem_usage_samples\"\n",
        "    ]\n",
        "\n",
        "    # Add wildcard-matched variables\n",
        "    pattern_vars = df.columns[df.columns.str.contains(\"congested_sample_|poor_coverage_ratio_\")].tolist()\n",
        "\n",
        "    all_vars = base_vars + pattern_vars\n",
        "\n",
        "    # Compute deltas per group\n",
        "    for var in all_vars:\n",
        "        if var in df.columns:\n",
        "            delta_col = f'delta_{var}'\n",
        "            df[delta_col] = df.groupby(group_col)[var].diff()\n",
        "\n",
        "    return df\n"
      ]
    },
    {
      "cell_type": "code",
      "execution_count": null,
      "metadata": {
        "id": "t16k2pt6JnTl"
      },
      "outputs": [],
      "source": [
        "# Apply the delta computation\n",
        "df_merged = compute_rolling_deltas(df_merged)"
      ]
    },
    {
      "cell_type": "code",
      "execution_count": null,
      "metadata": {
        "id": "omelBWZGUTB2"
      },
      "outputs": [],
      "source": [
        "# Drop rows with ANY NaN values\n",
        "df_merged = df_merged.dropna(how='any')"
      ]
    },
    {
      "cell_type": "markdown",
      "metadata": {
        "id": "GBNONS_lS7YP"
      },
      "source": [
        "## Slice the data into train/validate/test"
      ]
    },
    {
      "cell_type": "code",
      "execution_count": null,
      "metadata": {
        "colab": {
          "base_uri": "https://localhost:8080/"
        },
        "id": "YBirC1_vDPYw",
        "outputId": "73d2029b-e007-41b8-c077-4d60bcd585ef"
      },
      "outputs": [
        {
          "output_type": "execute_result",
          "data": {
            "text/plain": [
              "28"
            ]
          },
          "metadata": {},
          "execution_count": 73
        }
      ],
      "source": [
        "df_merged['analysis_date'].nunique()"
      ]
    },
    {
      "cell_type": "code",
      "source": [
        "df_merged['analysis_date'].sort_values()\n",
        "print(df_merged['analysis_date'].unique())"
      ],
      "metadata": {
        "colab": {
          "base_uri": "https://localhost:8080/"
        },
        "id": "yvUWB40Wja2c",
        "outputId": "9da635b7-db8d-45a9-9086-5be8e9d318d7"
      },
      "execution_count": null,
      "outputs": [
        {
          "output_type": "stream",
          "name": "stdout",
          "text": [
            "<DatetimeArray>\n",
            "['2025-06-13 00:00:00', '2025-06-14 00:00:00', '2025-06-15 00:00:00',\n",
            " '2025-06-16 00:00:00', '2025-06-17 00:00:00', '2025-06-18 00:00:00',\n",
            " '2025-06-19 00:00:00', '2025-06-20 00:00:00', '2025-06-21 00:00:00',\n",
            " '2025-06-22 00:00:00', '2025-06-23 00:00:00', '2025-06-24 00:00:00',\n",
            " '2025-06-25 00:00:00', '2025-06-26 00:00:00', '2025-06-27 00:00:00',\n",
            " '2025-06-28 00:00:00', '2025-06-29 00:00:00', '2025-06-30 00:00:00',\n",
            " '2025-07-01 00:00:00', '2025-07-02 00:00:00', '2025-07-03 00:00:00',\n",
            " '2025-07-04 00:00:00', '2025-07-05 00:00:00', '2025-07-06 00:00:00',\n",
            " '2025-07-07 00:00:00', '2025-07-08 00:00:00', '2025-07-09 00:00:00',\n",
            " '2025-07-10 00:00:00']\n",
            "Length: 28, dtype: datetime64[ns]\n"
          ]
        }
      ]
    },
    {
      "cell_type": "code",
      "execution_count": null,
      "metadata": {
        "id": "OECFfpwpbc2h"
      },
      "outputs": [],
      "source": [
        "# Slice data into train/validate/test set according to days\n",
        "def slice_time_based_sets(df, train_days=22, val_days=3, test_days=3):\n",
        "    df = df.copy()\n",
        "    df['analysis_date'] = pd.to_datetime(df['analysis_date'])\n",
        "    start_date = df['analysis_date'].min()\n",
        "\n",
        "    train_cutoff = start_date + timedelta(days=train_days - 1)\n",
        "    val_cutoff = train_cutoff + timedelta(days=val_days)\n",
        "\n",
        "    df_train = df[df['analysis_date'] <= train_cutoff]\n",
        "    df_val = df[(df['analysis_date'] > train_cutoff) & (df['analysis_date'] <= val_cutoff)]\n",
        "    df_test = df[df['analysis_date'] > val_cutoff]\n",
        "\n",
        "    return df_train, df_val, df_test"
      ]
    },
    {
      "cell_type": "code",
      "execution_count": null,
      "metadata": {
        "colab": {
          "base_uri": "https://localhost:8080/"
        },
        "id": "wCv0SX5xbd6X",
        "outputId": "af9bde7c-3591-400c-9852-aa938e85fc83"
      },
      "outputs": [
        {
          "output_type": "stream",
          "name": "stdout",
          "text": [
            " df_train shape (325578, 109)\n",
            " df_val shape (44397, 109)\n",
            " df_test shape (44397, 109)\n"
          ]
        }
      ],
      "source": [
        "# Print Time-based slicing\n",
        "df_train, df_val, df_test = slice_time_based_sets(df_merged)\n",
        "\n",
        "print(f' df_train shape {df_train.shape}')\n",
        "print(f' df_val shape {df_val.shape}')\n",
        "print(f' df_test shape {df_test.shape}')"
      ]
    },
    {
      "cell_type": "code",
      "source": [
        "print(df_train['analysis_date'].nunique())\n",
        "print(df_val['analysis_date'].nunique())\n",
        "print(df_test['analysis_date'].nunique())"
      ],
      "metadata": {
        "colab": {
          "base_uri": "https://localhost:8080/"
        },
        "id": "VO3q0U7DlOUp",
        "outputId": "d3728c1e-07fa-4bf8-a13c-2fe7526e7d74"
      },
      "execution_count": null,
      "outputs": [
        {
          "output_type": "stream",
          "name": "stdout",
          "text": [
            "22\n",
            "3\n",
            "3\n"
          ]
        }
      ]
    },
    {
      "cell_type": "code",
      "execution_count": null,
      "metadata": {
        "colab": {
          "base_uri": "https://localhost:8080/"
        },
        "id": "3WZ-2k4l7Suq",
        "outputId": "55f92aae-0d17-48c5-c9a3-0cf625c66313"
      },
      "outputs": [
        {
          "output_type": "execute_result",
          "data": {
            "text/plain": [
              "np.int64(184)"
            ]
          },
          "metadata": {},
          "execution_count": 78
        }
      ],
      "source": [
        "df_train['flag_call'].sum()"
      ]
    },
    {
      "cell_type": "markdown",
      "metadata": {
        "id": "YbZlAbBhcTiF"
      },
      "source": [
        "## Balance the df_train"
      ]
    },
    {
      "cell_type": "code",
      "execution_count": null,
      "metadata": {
        "colab": {
          "base_uri": "https://localhost:8080/"
        },
        "id": "vSZyH6C5lToJ",
        "outputId": "6fef1e3c-ae69-401a-8773-21106436f275"
      },
      "outputs": [
        {
          "output_type": "stream",
          "name": "stdout",
          "text": [
            " Total unique dates: 22\n",
            " Positive devices with full coverage: 163\n",
            " Negative devices with full coverage: 14636\n",
            " Sampled negative devices: 815\n",
            " Final balanced dataset shape: (21516, 109)\n"
          ]
        },
        {
          "output_type": "execute_result",
          "data": {
            "text/plain": [
              "9"
            ]
          },
          "metadata": {},
          "execution_count": 79
        }
      ],
      "source": [
        "# Identify total number of unique dates\n",
        "expected_days = df_train[\"analysis_date\"].nunique()\n",
        "print(f\" Total unique dates: {expected_days}\")\n",
        "\n",
        "# Select all device_ids with at least one call (positive class)\n",
        "positive_ids = df_train[df_train[\"flag_call\"] == 1][\"device_id\"].unique()\n",
        "df_positive = df_train[df_train[\"device_id\"].isin(positive_ids)].copy()\n",
        "\n",
        "# Filter positive devices with full date coverage\n",
        "pos_date_counts = df_positive.groupby(\"device_id\")[\"analysis_date\"].nunique()\n",
        "valid_positive_ids = pos_date_counts[pos_date_counts == expected_days].index\n",
        "df_positive = df_positive[df_positive[\"device_id\"].isin(valid_positive_ids)].copy()\n",
        "print(f\" Positive devices with full coverage: {df_positive['device_id'].nunique()}\")\n",
        "\n",
        "# Select negative device_ids (never called)\n",
        "all_ids = df_train[\"device_id\"].unique()\n",
        "negative_ids = np.setdiff1d(all_ids, positive_ids)\n",
        "df_negative = df_train[df_train[\"device_id\"].isin(negative_ids)].copy()\n",
        "\n",
        "# Filter negative devices with full date coverage\n",
        "neg_date_counts = df_negative.groupby(\"device_id\")[\"analysis_date\"].nunique()\n",
        "valid_negative_ids = neg_date_counts[neg_date_counts == expected_days].index\n",
        "df_negative = df_negative[df_negative[\"device_id\"].isin(valid_negative_ids)].copy()\n",
        "print(f\" Negative devices with full coverage: {df_negative['device_id'].nunique()}\")\n",
        "\n",
        "# Sample negative devices 5 times of positive devices\n",
        "n_pos = df_positive[\"device_id\"].nunique()\n",
        "sampled_neg_ids = np.random.choice(valid_negative_ids, size=n_pos * 5, replace=False)\n",
        "df_negative_sampled = df_negative[df_negative[\"device_id\"].isin(sampled_neg_ids)].copy()\n",
        "print(f\" Sampled negative devices: {df_negative_sampled['device_id'].nunique()}\")\n",
        "\n",
        "# Merge positive and sampled negative data\n",
        "df_train_balanced = pd.concat([df_positive, df_negative_sampled], ignore_index=True)\n",
        "df_train_balanced = df_train_balanced.sort_values([\"device_id\", \"analysis_date\"])\n",
        "print(f\" Final balanced dataset shape: {df_train_balanced.shape}\")\n",
        "\n",
        "del expected_days\n",
        "del positive_ids\n",
        "del df_positive\n",
        "del pos_date_counts\n",
        "del valid_positive_ids\n",
        "del all_ids\n",
        "del negative_ids\n",
        "del df_negative\n",
        "del neg_date_counts\n",
        "del valid_negative_ids\n",
        "del n_pos\n",
        "del sampled_neg_ids\n",
        "del df_negative_sampled\n",
        "\n",
        "gc.collect()"
      ]
    },
    {
      "cell_type": "code",
      "execution_count": null,
      "metadata": {
        "colab": {
          "base_uri": "https://localhost:8080/"
        },
        "id": "k9j45ebbODia",
        "outputId": "5a7e7e6a-c6b5-4bb6-f3a7-bde5ea8a716b"
      },
      "outputs": [
        {
          "output_type": "stream",
          "name": "stdout",
          "text": [
            "Train Sample: flag_call\n",
            "0    21332\n",
            "1      184\n",
            "Name: count, dtype: int64\n"
          ]
        }
      ],
      "source": [
        "print(\"Train Sample:\", df_train_balanced['flag_call'].value_counts())"
      ]
    },
    {
      "cell_type": "code",
      "execution_count": null,
      "metadata": {
        "colab": {
          "base_uri": "https://localhost:8080/"
        },
        "id": "1PcDZNrynsmJ",
        "outputId": "75f58a41-6a90-4157-f43d-adb54396a3b6"
      },
      "outputs": [
        {
          "output_type": "execute_result",
          "data": {
            "text/plain": [
              "(21516, 109)"
            ]
          },
          "metadata": {},
          "execution_count": 81
        }
      ],
      "source": [
        "df_train_balanced.shape"
      ]
    },
    {
      "cell_type": "code",
      "execution_count": null,
      "metadata": {
        "colab": {
          "base_uri": "https://localhost:8080/"
        },
        "id": "7tOLYjUYnpCB",
        "outputId": "31a293e9-366f-4b4c-b0f8-a556eaec3010"
      },
      "outputs": [
        {
          "output_type": "stream",
          "name": "stdout",
          "text": [
            " Total unique dates in df_balanced: 22\n",
            " Devices missing some dates: 0\n"
          ]
        },
        {
          "output_type": "execute_result",
          "data": {
            "text/plain": [
              "0"
            ]
          },
          "metadata": {},
          "execution_count": 83
        }
      ],
      "source": [
        "# Double check\n",
        "# Count total number of unique dates in df_balanced\n",
        "expected_days = df_train_balanced[\"analysis_date\"].nunique()\n",
        "print(f\" Total unique dates in df_balanced: {expected_days}\")\n",
        "\n",
        "# Count how many unique dates each device_id appears on\n",
        "device_date_counts = df_train_balanced.groupby(\"device_id\")[\"analysis_date\"].nunique()\n",
        "\n",
        "# Identify devices that are missing any dates\n",
        "missing_devices = device_date_counts[device_date_counts < expected_days].index\n",
        "print(f\" Devices missing some dates: {len(missing_devices)}\")\n",
        "\n",
        "del expected_days\n",
        "del device_date_counts\n",
        "del missing_devices\n",
        "\n",
        "gc.collect()"
      ]
    },
    {
      "cell_type": "markdown",
      "metadata": {
        "id": "RxLvbGLEBQxa"
      },
      "source": [
        "## Select Sample for validation and test set"
      ]
    },
    {
      "cell_type": "code",
      "execution_count": null,
      "metadata": {
        "id": "1arF-VTT3SQi"
      },
      "outputs": [],
      "source": [
        "# Select sample data for validation and test set\n",
        "def stratified_device_sample_per_day(df, device_col='device_id', label_col='flag_call',\n",
        "                                     date_col='analysis_date', max_devices=all, random_state=42):\n",
        "    df = df.copy()\n",
        "    df[date_col] = pd.to_datetime(df[date_col])\n",
        "\n",
        "    sampled_frames = []\n",
        "\n",
        "    for day, df_day in df.groupby(date_col):\n",
        "        device_labels = (\n",
        "            df_day.groupby(device_col)[label_col]\n",
        "            .max()\n",
        "            .reset_index()\n",
        "        )\n",
        "\n",
        "        n_devices = min(max_devices, len(device_labels))\n",
        "\n",
        "        # Use train_size instead of test_size to keep exactly n_devices\n",
        "        splitter = StratifiedShuffleSplit(n_splits=1, train_size=n_devices, random_state=random_state)\n",
        "\n",
        "        try:\n",
        "            for train_idx, _ in splitter.split(device_labels, device_labels[label_col]):\n",
        "                selected_devices = device_labels.loc[train_idx, device_col]\n",
        "\n",
        "            df_selected = df_day[df_day[device_col].isin(selected_devices)].copy()\n",
        "            sampled_frames.append(df_selected)\n",
        "\n",
        "        except ValueError:\n",
        "            # Fallback to random sample if stratified split fails\n",
        "            fallback_devices = device_labels[device_col].sample(n=n_devices, random_state=random_state)\n",
        "            df_selected = df_day[df_day[device_col].isin(fallback_devices)].copy()\n",
        "            sampled_frames.append(df_selected)\n",
        "\n",
        "    df_sampled = pd.concat(sampled_frames, ignore_index=True)\n",
        "    return df_sampled\n"
      ]
    },
    {
      "cell_type": "code",
      "execution_count": null,
      "metadata": {
        "colab": {
          "base_uri": "https://localhost:8080/"
        },
        "id": "c0irZoIXTMpU",
        "outputId": "f96c69a7-03b5-49dd-f719-b6b1cda5b34c"
      },
      "outputs": [
        {
          "output_type": "stream",
          "name": "stdout",
          "text": [
            "analysis_date\n",
            "2025-07-05    14799\n",
            "2025-07-06    14799\n",
            "2025-07-07    14799\n",
            "Name: device_id, dtype: int64\n",
            "Original class ratio: 0.0006531972881050522\n",
            "Sampled class ratio: 0.0006531972881050522\n",
            "df_val_sampled: (44397, 109)\n"
          ]
        }
      ],
      "source": [
        "df_val_sampled = stratified_device_sample_per_day(df_val, max_devices=100_000)\n",
        "\n",
        "print(df_val_sampled.groupby('analysis_date')['device_id'].nunique())\n",
        "print(\"Original class ratio:\", df_val['flag_call'].mean())\n",
        "print(\"Sampled class ratio:\", df_val_sampled['flag_call'].mean())\n",
        "print(\"df_val_sampled:\", df_val_sampled.shape)"
      ]
    },
    {
      "cell_type": "code",
      "execution_count": null,
      "metadata": {
        "colab": {
          "base_uri": "https://localhost:8080/"
        },
        "id": "vWYCzjyJPaIt",
        "outputId": "a6f8bdbd-7d5a-46b7-9bb6-ce007dc4ea80"
      },
      "outputs": [
        {
          "output_type": "stream",
          "name": "stdout",
          "text": [
            "Validation Sample: flag_call\n",
            "0    44368\n",
            "1       29\n",
            "Name: count, dtype: int64\n"
          ]
        }
      ],
      "source": [
        "print(\"Validation Sample:\", df_val_sampled['flag_call'].value_counts())"
      ]
    },
    {
      "cell_type": "code",
      "execution_count": null,
      "metadata": {
        "colab": {
          "base_uri": "https://localhost:8080/"
        },
        "id": "0IrC_JiaTiAV",
        "outputId": "5e81713a-f3d2-44b6-c757-49a511e09ec6"
      },
      "outputs": [
        {
          "output_type": "stream",
          "name": "stdout",
          "text": [
            "analysis_date\n",
            "2025-07-08    14799\n",
            "2025-07-09    14799\n",
            "2025-07-10    14799\n",
            "Name: device_id, dtype: int64\n",
            "Original class ratio: 0.0008108655990269613\n",
            "Sampled class ratio: 0.0008108655990269613\n",
            "df_test_sampled: (44397, 109)\n"
          ]
        }
      ],
      "source": [
        "df_test_sampled = stratified_device_sample_per_day(df_test, max_devices=100_000)\n",
        "\n",
        "print(df_test_sampled.groupby('analysis_date')['device_id'].nunique())\n",
        "print(\"Original class ratio:\", df_test['flag_call'].mean())\n",
        "print(\"Sampled class ratio:\", df_test_sampled['flag_call'].mean())\n",
        "print(\"df_test_sampled:\", df_test_sampled.shape)"
      ]
    },
    {
      "cell_type": "code",
      "execution_count": null,
      "metadata": {
        "colab": {
          "base_uri": "https://localhost:8080/"
        },
        "id": "NiOXzvfvU3bn",
        "outputId": "818beb20-1466-47e8-c409-0bb64aa8b9ca"
      },
      "outputs": [
        {
          "output_type": "stream",
          "name": "stdout",
          "text": [
            "Test Sample: flag_call\n",
            "0    44361\n",
            "1       36\n",
            "Name: count, dtype: int64\n"
          ]
        }
      ],
      "source": [
        "print(\"Test Sample:\", df_test_sampled['flag_call'].value_counts())"
      ]
    },
    {
      "cell_type": "code",
      "execution_count": null,
      "metadata": {
        "colab": {
          "base_uri": "https://localhost:8080/"
        },
        "id": "3095IYDUDVaK",
        "outputId": "0188f8f0-bd94-488b-d46b-dc8159c07496"
      },
      "outputs": [
        {
          "output_type": "execute_result",
          "data": {
            "text/plain": [
              "0"
            ]
          },
          "metadata": {},
          "execution_count": 93
        }
      ],
      "source": [
        "del df_train\n",
        "del df_val\n",
        "del df_test\n",
        "\n",
        "gc.collect()"
      ]
    },
    {
      "cell_type": "code",
      "execution_count": null,
      "metadata": {
        "colab": {
          "base_uri": "https://localhost:8080/"
        },
        "id": "S4P8NYicnB-G",
        "outputId": "5cf69e8f-cc78-4a49-8206-2ed3b93b5d60"
      },
      "outputs": [
        {
          "output_type": "execute_result",
          "data": {
            "text/plain": [
              "(21516, 109)"
            ]
          },
          "metadata": {},
          "execution_count": 94
        }
      ],
      "source": [
        "df_train_balanced.shape"
      ]
    },
    {
      "cell_type": "code",
      "execution_count": null,
      "metadata": {
        "colab": {
          "base_uri": "https://localhost:8080/"
        },
        "id": "_kpQGLGSnFlp",
        "outputId": "9ada5986-91f5-40f6-fa51-7199be2d1df2"
      },
      "outputs": [
        {
          "output_type": "execute_result",
          "data": {
            "text/plain": [
              "(44397, 109)"
            ]
          },
          "metadata": {},
          "execution_count": 95
        }
      ],
      "source": [
        "df_val_sampled.shape"
      ]
    },
    {
      "cell_type": "code",
      "execution_count": null,
      "metadata": {
        "colab": {
          "base_uri": "https://localhost:8080/",
          "height": 444
        },
        "id": "ToqeTwt4nevo",
        "outputId": "f09ef43e-6085-44e6-eb6e-8e6ab0e0c07a"
      },
      "outputs": [
        {
          "output_type": "execute_result",
          "data": {
            "text/plain": [
              "        device_id analysis_date  reboots  script_boots  ap_count  \\\n",
              "0      0005970190    2025-07-05        1             0         0   \n",
              "1      000de142f6    2025-07-05        0             0         0   \n",
              "2      0011a402aa    2025-07-05        0             0         0   \n",
              "3      0012f64bcb    2025-07-05        0             0         2   \n",
              "4      001ae18ce6    2025-07-05        0             0         0   \n",
              "...           ...           ...      ...           ...       ...   \n",
              "44392  fff3290e13    2025-07-07        0             0         0   \n",
              "44393  fff4dbf2b4    2025-07-07        0             0         0   \n",
              "44394  fffa87ec84    2025-07-07        0             0         0   \n",
              "44395  fffad9936f    2025-07-07        0             0         0   \n",
              "44396  fffd16f815    2025-07-07        0             0         0   \n",
              "\n",
              "       total_samples_24  total_samples_5  good_samples_24  good_samples_5  \\\n",
              "0                   140             1514              126            1214   \n",
              "1                  1507             3998              845            1021   \n",
              "2                  3757             5673             3093            5044   \n",
              "3                  1827             1456             1413            1447   \n",
              "4                  2880             4320              631            1017   \n",
              "...                 ...              ...              ...             ...   \n",
              "44392               143             3354                6             640   \n",
              "44393               556             2354              542            2338   \n",
              "44394              1579             1004             1513             961   \n",
              "44395               312             6972              190            2807   \n",
              "44396              1399             2240              914             954   \n",
              "\n",
              "       poor_qoe_samples  ...  delta_high_mem_usage_samples  \\\n",
              "0                    14  ...                           0.0   \n",
              "1                     0  ...                           0.0   \n",
              "2                   343  ...                           0.0   \n",
              "3                     0  ...                           0.0   \n",
              "4                     0  ...                           0.0   \n",
              "...                 ...  ...                           ...   \n",
              "44392               562  ...                           0.0   \n",
              "44393                 8  ...                           0.0   \n",
              "44394                 0  ...                          -1.0   \n",
              "44395                 2  ...                           0.0   \n",
              "44396               315  ...                           0.0   \n",
              "\n",
              "       delta_congested_sample_5_count  delta_congested_sample_active_5_count  \\\n",
              "0                                 1.0                                    1.0   \n",
              "1                                 0.0                                    0.0   \n",
              "2                                 0.0                                    0.0   \n",
              "3                                 0.0                                    0.0   \n",
              "4                                 0.0                                    0.0   \n",
              "...                               ...                                    ...   \n",
              "44392                           -36.0                                  -36.0   \n",
              "44393                             0.0                                    0.0   \n",
              "44394                            -1.0                                    0.0   \n",
              "44395                             0.0                                    0.0   \n",
              "44396                             1.0                                    1.0   \n",
              "\n",
              "       delta_congested_sample_24_count  \\\n",
              "0                                -11.0   \n",
              "1                                  4.0   \n",
              "2                                -65.0   \n",
              "3                               -166.0   \n",
              "4                                  1.0   \n",
              "...                                ...   \n",
              "44392                            -10.0   \n",
              "44393                              2.0   \n",
              "44394                              1.0   \n",
              "44395                            -26.0   \n",
              "44396                            -13.0   \n",
              "\n",
              "       delta_congested_sample_active_24_count  delta_poor_coverage_ratio_24  \\\n",
              "0                                        -5.0                  1.724138e-02   \n",
              "1                                         0.0                  1.200000e+07   \n",
              "2                                        78.0                  3.837565e-01   \n",
              "3                                      -167.0                  0.000000e+00   \n",
              "4                                         0.0                  0.000000e+00   \n",
              "...                                       ...                           ...   \n",
              "44392                                    -2.0                  1.299999e+01   \n",
              "44393                                     1.0                 -4.443696e-01   \n",
              "44394                                     0.0                 -1.184524e+00   \n",
              "44395                                    -2.0                 -7.647058e-01   \n",
              "44396                                    76.0                 -5.536099e-02   \n",
              "\n",
              "       delta_poor_coverage_ratio_5  delta_poor_coverage_ratio_total  \\\n",
              "0                         0.152610                         0.127036   \n",
              "1                         0.079658                         0.146697   \n",
              "2                        -0.011494                         0.078358   \n",
              "3                         0.235294                        -0.015625   \n",
              "4                         0.000000                         0.000000   \n",
              "...                            ...                              ...   \n",
              "44392                     0.655199                         0.672999   \n",
              "44393                     0.021368                        -0.026233   \n",
              "44394                    -0.033605                        -0.191265   \n",
              "44395                    -0.087206                        -0.095663   \n",
              "44396                     0.101668                         0.042063   \n",
              "\n",
              "       delta_congested_sample_5_count.lag1  \\\n",
              "0                                      0.0   \n",
              "1                                   -173.0   \n",
              "2                                      0.0   \n",
              "3                                     -5.0   \n",
              "4                                      0.0   \n",
              "...                                    ...   \n",
              "44392                                  5.0   \n",
              "44393                                  0.0   \n",
              "44394                                  0.0   \n",
              "44395                                 -1.0   \n",
              "44396                                  0.0   \n",
              "\n",
              "       delta_congested_sample_active_5_count.lag1  \n",
              "0                                             0.0  \n",
              "1                                           -19.0  \n",
              "2                                             0.0  \n",
              "3                                             0.0  \n",
              "4                                             0.0  \n",
              "...                                           ...  \n",
              "44392                                         5.0  \n",
              "44393                                         0.0  \n",
              "44394                                        -1.0  \n",
              "44395                                        -1.0  \n",
              "44396                                         0.0  \n",
              "\n",
              "[44397 rows x 109 columns]"
            ],
            "text/html": [
              "\n",
              "  <div id=\"df-01e5343c-cc8d-489b-b2e0-116d3ad80b3c\" class=\"colab-df-container\">\n",
              "    <div>\n",
              "<style scoped>\n",
              "    .dataframe tbody tr th:only-of-type {\n",
              "        vertical-align: middle;\n",
              "    }\n",
              "\n",
              "    .dataframe tbody tr th {\n",
              "        vertical-align: top;\n",
              "    }\n",
              "\n",
              "    .dataframe thead th {\n",
              "        text-align: right;\n",
              "    }\n",
              "</style>\n",
              "<table border=\"1\" class=\"dataframe\">\n",
              "  <thead>\n",
              "    <tr style=\"text-align: right;\">\n",
              "      <th></th>\n",
              "      <th>device_id</th>\n",
              "      <th>analysis_date</th>\n",
              "      <th>reboots</th>\n",
              "      <th>script_boots</th>\n",
              "      <th>ap_count</th>\n",
              "      <th>total_samples_24</th>\n",
              "      <th>total_samples_5</th>\n",
              "      <th>good_samples_24</th>\n",
              "      <th>good_samples_5</th>\n",
              "      <th>poor_qoe_samples</th>\n",
              "      <th>...</th>\n",
              "      <th>delta_high_mem_usage_samples</th>\n",
              "      <th>delta_congested_sample_5_count</th>\n",
              "      <th>delta_congested_sample_active_5_count</th>\n",
              "      <th>delta_congested_sample_24_count</th>\n",
              "      <th>delta_congested_sample_active_24_count</th>\n",
              "      <th>delta_poor_coverage_ratio_24</th>\n",
              "      <th>delta_poor_coverage_ratio_5</th>\n",
              "      <th>delta_poor_coverage_ratio_total</th>\n",
              "      <th>delta_congested_sample_5_count.lag1</th>\n",
              "      <th>delta_congested_sample_active_5_count.lag1</th>\n",
              "    </tr>\n",
              "  </thead>\n",
              "  <tbody>\n",
              "    <tr>\n",
              "      <th>0</th>\n",
              "      <td>0005970190</td>\n",
              "      <td>2025-07-05</td>\n",
              "      <td>1</td>\n",
              "      <td>0</td>\n",
              "      <td>0</td>\n",
              "      <td>140</td>\n",
              "      <td>1514</td>\n",
              "      <td>126</td>\n",
              "      <td>1214</td>\n",
              "      <td>14</td>\n",
              "      <td>...</td>\n",
              "      <td>0.0</td>\n",
              "      <td>1.0</td>\n",
              "      <td>1.0</td>\n",
              "      <td>-11.0</td>\n",
              "      <td>-5.0</td>\n",
              "      <td>1.724138e-02</td>\n",
              "      <td>0.152610</td>\n",
              "      <td>0.127036</td>\n",
              "      <td>0.0</td>\n",
              "      <td>0.0</td>\n",
              "    </tr>\n",
              "    <tr>\n",
              "      <th>1</th>\n",
              "      <td>000de142f6</td>\n",
              "      <td>2025-07-05</td>\n",
              "      <td>0</td>\n",
              "      <td>0</td>\n",
              "      <td>0</td>\n",
              "      <td>1507</td>\n",
              "      <td>3998</td>\n",
              "      <td>845</td>\n",
              "      <td>1021</td>\n",
              "      <td>0</td>\n",
              "      <td>...</td>\n",
              "      <td>0.0</td>\n",
              "      <td>0.0</td>\n",
              "      <td>0.0</td>\n",
              "      <td>4.0</td>\n",
              "      <td>0.0</td>\n",
              "      <td>1.200000e+07</td>\n",
              "      <td>0.079658</td>\n",
              "      <td>0.146697</td>\n",
              "      <td>-173.0</td>\n",
              "      <td>-19.0</td>\n",
              "    </tr>\n",
              "    <tr>\n",
              "      <th>2</th>\n",
              "      <td>0011a402aa</td>\n",
              "      <td>2025-07-05</td>\n",
              "      <td>0</td>\n",
              "      <td>0</td>\n",
              "      <td>0</td>\n",
              "      <td>3757</td>\n",
              "      <td>5673</td>\n",
              "      <td>3093</td>\n",
              "      <td>5044</td>\n",
              "      <td>343</td>\n",
              "      <td>...</td>\n",
              "      <td>0.0</td>\n",
              "      <td>0.0</td>\n",
              "      <td>0.0</td>\n",
              "      <td>-65.0</td>\n",
              "      <td>78.0</td>\n",
              "      <td>3.837565e-01</td>\n",
              "      <td>-0.011494</td>\n",
              "      <td>0.078358</td>\n",
              "      <td>0.0</td>\n",
              "      <td>0.0</td>\n",
              "    </tr>\n",
              "    <tr>\n",
              "      <th>3</th>\n",
              "      <td>0012f64bcb</td>\n",
              "      <td>2025-07-05</td>\n",
              "      <td>0</td>\n",
              "      <td>0</td>\n",
              "      <td>2</td>\n",
              "      <td>1827</td>\n",
              "      <td>1456</td>\n",
              "      <td>1413</td>\n",
              "      <td>1447</td>\n",
              "      <td>0</td>\n",
              "      <td>...</td>\n",
              "      <td>0.0</td>\n",
              "      <td>0.0</td>\n",
              "      <td>0.0</td>\n",
              "      <td>-166.0</td>\n",
              "      <td>-167.0</td>\n",
              "      <td>0.000000e+00</td>\n",
              "      <td>0.235294</td>\n",
              "      <td>-0.015625</td>\n",
              "      <td>-5.0</td>\n",
              "      <td>0.0</td>\n",
              "    </tr>\n",
              "    <tr>\n",
              "      <th>4</th>\n",
              "      <td>001ae18ce6</td>\n",
              "      <td>2025-07-05</td>\n",
              "      <td>0</td>\n",
              "      <td>0</td>\n",
              "      <td>0</td>\n",
              "      <td>2880</td>\n",
              "      <td>4320</td>\n",
              "      <td>631</td>\n",
              "      <td>1017</td>\n",
              "      <td>0</td>\n",
              "      <td>...</td>\n",
              "      <td>0.0</td>\n",
              "      <td>0.0</td>\n",
              "      <td>0.0</td>\n",
              "      <td>1.0</td>\n",
              "      <td>0.0</td>\n",
              "      <td>0.000000e+00</td>\n",
              "      <td>0.000000</td>\n",
              "      <td>0.000000</td>\n",
              "      <td>0.0</td>\n",
              "      <td>0.0</td>\n",
              "    </tr>\n",
              "    <tr>\n",
              "      <th>...</th>\n",
              "      <td>...</td>\n",
              "      <td>...</td>\n",
              "      <td>...</td>\n",
              "      <td>...</td>\n",
              "      <td>...</td>\n",
              "      <td>...</td>\n",
              "      <td>...</td>\n",
              "      <td>...</td>\n",
              "      <td>...</td>\n",
              "      <td>...</td>\n",
              "      <td>...</td>\n",
              "      <td>...</td>\n",
              "      <td>...</td>\n",
              "      <td>...</td>\n",
              "      <td>...</td>\n",
              "      <td>...</td>\n",
              "      <td>...</td>\n",
              "      <td>...</td>\n",
              "      <td>...</td>\n",
              "      <td>...</td>\n",
              "      <td>...</td>\n",
              "    </tr>\n",
              "    <tr>\n",
              "      <th>44392</th>\n",
              "      <td>fff3290e13</td>\n",
              "      <td>2025-07-07</td>\n",
              "      <td>0</td>\n",
              "      <td>0</td>\n",
              "      <td>0</td>\n",
              "      <td>143</td>\n",
              "      <td>3354</td>\n",
              "      <td>6</td>\n",
              "      <td>640</td>\n",
              "      <td>562</td>\n",
              "      <td>...</td>\n",
              "      <td>0.0</td>\n",
              "      <td>-36.0</td>\n",
              "      <td>-36.0</td>\n",
              "      <td>-10.0</td>\n",
              "      <td>-2.0</td>\n",
              "      <td>1.299999e+01</td>\n",
              "      <td>0.655199</td>\n",
              "      <td>0.672999</td>\n",
              "      <td>5.0</td>\n",
              "      <td>5.0</td>\n",
              "    </tr>\n",
              "    <tr>\n",
              "      <th>44393</th>\n",
              "      <td>fff4dbf2b4</td>\n",
              "      <td>2025-07-07</td>\n",
              "      <td>0</td>\n",
              "      <td>0</td>\n",
              "      <td>0</td>\n",
              "      <td>556</td>\n",
              "      <td>2354</td>\n",
              "      <td>542</td>\n",
              "      <td>2338</td>\n",
              "      <td>8</td>\n",
              "      <td>...</td>\n",
              "      <td>0.0</td>\n",
              "      <td>0.0</td>\n",
              "      <td>0.0</td>\n",
              "      <td>2.0</td>\n",
              "      <td>1.0</td>\n",
              "      <td>-4.443696e-01</td>\n",
              "      <td>0.021368</td>\n",
              "      <td>-0.026233</td>\n",
              "      <td>0.0</td>\n",
              "      <td>0.0</td>\n",
              "    </tr>\n",
              "    <tr>\n",
              "      <th>44394</th>\n",
              "      <td>fffa87ec84</td>\n",
              "      <td>2025-07-07</td>\n",
              "      <td>0</td>\n",
              "      <td>0</td>\n",
              "      <td>0</td>\n",
              "      <td>1579</td>\n",
              "      <td>1004</td>\n",
              "      <td>1513</td>\n",
              "      <td>961</td>\n",
              "      <td>0</td>\n",
              "      <td>...</td>\n",
              "      <td>-1.0</td>\n",
              "      <td>-1.0</td>\n",
              "      <td>0.0</td>\n",
              "      <td>1.0</td>\n",
              "      <td>0.0</td>\n",
              "      <td>-1.184524e+00</td>\n",
              "      <td>-0.033605</td>\n",
              "      <td>-0.191265</td>\n",
              "      <td>0.0</td>\n",
              "      <td>-1.0</td>\n",
              "    </tr>\n",
              "    <tr>\n",
              "      <th>44395</th>\n",
              "      <td>fffad9936f</td>\n",
              "      <td>2025-07-07</td>\n",
              "      <td>0</td>\n",
              "      <td>0</td>\n",
              "      <td>0</td>\n",
              "      <td>312</td>\n",
              "      <td>6972</td>\n",
              "      <td>190</td>\n",
              "      <td>2807</td>\n",
              "      <td>2</td>\n",
              "      <td>...</td>\n",
              "      <td>0.0</td>\n",
              "      <td>0.0</td>\n",
              "      <td>0.0</td>\n",
              "      <td>-26.0</td>\n",
              "      <td>-2.0</td>\n",
              "      <td>-7.647058e-01</td>\n",
              "      <td>-0.087206</td>\n",
              "      <td>-0.095663</td>\n",
              "      <td>-1.0</td>\n",
              "      <td>-1.0</td>\n",
              "    </tr>\n",
              "    <tr>\n",
              "      <th>44396</th>\n",
              "      <td>fffd16f815</td>\n",
              "      <td>2025-07-07</td>\n",
              "      <td>0</td>\n",
              "      <td>0</td>\n",
              "      <td>0</td>\n",
              "      <td>1399</td>\n",
              "      <td>2240</td>\n",
              "      <td>914</td>\n",
              "      <td>954</td>\n",
              "      <td>315</td>\n",
              "      <td>...</td>\n",
              "      <td>0.0</td>\n",
              "      <td>1.0</td>\n",
              "      <td>1.0</td>\n",
              "      <td>-13.0</td>\n",
              "      <td>76.0</td>\n",
              "      <td>-5.536099e-02</td>\n",
              "      <td>0.101668</td>\n",
              "      <td>0.042063</td>\n",
              "      <td>0.0</td>\n",
              "      <td>0.0</td>\n",
              "    </tr>\n",
              "  </tbody>\n",
              "</table>\n",
              "<p>44397 rows × 109 columns</p>\n",
              "</div>\n",
              "    <div class=\"colab-df-buttons\">\n",
              "\n",
              "  <div class=\"colab-df-container\">\n",
              "    <button class=\"colab-df-convert\" onclick=\"convertToInteractive('df-01e5343c-cc8d-489b-b2e0-116d3ad80b3c')\"\n",
              "            title=\"Convert this dataframe to an interactive table.\"\n",
              "            style=\"display:none;\">\n",
              "\n",
              "  <svg xmlns=\"http://www.w3.org/2000/svg\" height=\"24px\" viewBox=\"0 -960 960 960\">\n",
              "    <path d=\"M120-120v-720h720v720H120Zm60-500h600v-160H180v160Zm220 220h160v-160H400v160Zm0 220h160v-160H400v160ZM180-400h160v-160H180v160Zm440 0h160v-160H620v160ZM180-180h160v-160H180v160Zm440 0h160v-160H620v160Z\"/>\n",
              "  </svg>\n",
              "    </button>\n",
              "\n",
              "  <style>\n",
              "    .colab-df-container {\n",
              "      display:flex;\n",
              "      gap: 12px;\n",
              "    }\n",
              "\n",
              "    .colab-df-convert {\n",
              "      background-color: #E8F0FE;\n",
              "      border: none;\n",
              "      border-radius: 50%;\n",
              "      cursor: pointer;\n",
              "      display: none;\n",
              "      fill: #1967D2;\n",
              "      height: 32px;\n",
              "      padding: 0 0 0 0;\n",
              "      width: 32px;\n",
              "    }\n",
              "\n",
              "    .colab-df-convert:hover {\n",
              "      background-color: #E2EBFA;\n",
              "      box-shadow: 0px 1px 2px rgba(60, 64, 67, 0.3), 0px 1px 3px 1px rgba(60, 64, 67, 0.15);\n",
              "      fill: #174EA6;\n",
              "    }\n",
              "\n",
              "    .colab-df-buttons div {\n",
              "      margin-bottom: 4px;\n",
              "    }\n",
              "\n",
              "    [theme=dark] .colab-df-convert {\n",
              "      background-color: #3B4455;\n",
              "      fill: #D2E3FC;\n",
              "    }\n",
              "\n",
              "    [theme=dark] .colab-df-convert:hover {\n",
              "      background-color: #434B5C;\n",
              "      box-shadow: 0px 1px 3px 1px rgba(0, 0, 0, 0.15);\n",
              "      filter: drop-shadow(0px 1px 2px rgba(0, 0, 0, 0.3));\n",
              "      fill: #FFFFFF;\n",
              "    }\n",
              "  </style>\n",
              "\n",
              "    <script>\n",
              "      const buttonEl =\n",
              "        document.querySelector('#df-01e5343c-cc8d-489b-b2e0-116d3ad80b3c button.colab-df-convert');\n",
              "      buttonEl.style.display =\n",
              "        google.colab.kernel.accessAllowed ? 'block' : 'none';\n",
              "\n",
              "      async function convertToInteractive(key) {\n",
              "        const element = document.querySelector('#df-01e5343c-cc8d-489b-b2e0-116d3ad80b3c');\n",
              "        const dataTable =\n",
              "          await google.colab.kernel.invokeFunction('convertToInteractive',\n",
              "                                                    [key], {});\n",
              "        if (!dataTable) return;\n",
              "\n",
              "        const docLinkHtml = 'Like what you see? Visit the ' +\n",
              "          '<a target=\"_blank\" href=https://colab.research.google.com/notebooks/data_table.ipynb>data table notebook</a>'\n",
              "          + ' to learn more about interactive tables.';\n",
              "        element.innerHTML = '';\n",
              "        dataTable['output_type'] = 'display_data';\n",
              "        await google.colab.output.renderOutput(dataTable, element);\n",
              "        const docLink = document.createElement('div');\n",
              "        docLink.innerHTML = docLinkHtml;\n",
              "        element.appendChild(docLink);\n",
              "      }\n",
              "    </script>\n",
              "  </div>\n",
              "\n",
              "\n",
              "    <div id=\"df-ae862499-2680-4c2c-9dc3-ec534a360efa\">\n",
              "      <button class=\"colab-df-quickchart\" onclick=\"quickchart('df-ae862499-2680-4c2c-9dc3-ec534a360efa')\"\n",
              "                title=\"Suggest charts\"\n",
              "                style=\"display:none;\">\n",
              "\n",
              "<svg xmlns=\"http://www.w3.org/2000/svg\" height=\"24px\"viewBox=\"0 0 24 24\"\n",
              "     width=\"24px\">\n",
              "    <g>\n",
              "        <path d=\"M19 3H5c-1.1 0-2 .9-2 2v14c0 1.1.9 2 2 2h14c1.1 0 2-.9 2-2V5c0-1.1-.9-2-2-2zM9 17H7v-7h2v7zm4 0h-2V7h2v10zm4 0h-2v-4h2v4z\"/>\n",
              "    </g>\n",
              "</svg>\n",
              "      </button>\n",
              "\n",
              "<style>\n",
              "  .colab-df-quickchart {\n",
              "      --bg-color: #E8F0FE;\n",
              "      --fill-color: #1967D2;\n",
              "      --hover-bg-color: #E2EBFA;\n",
              "      --hover-fill-color: #174EA6;\n",
              "      --disabled-fill-color: #AAA;\n",
              "      --disabled-bg-color: #DDD;\n",
              "  }\n",
              "\n",
              "  [theme=dark] .colab-df-quickchart {\n",
              "      --bg-color: #3B4455;\n",
              "      --fill-color: #D2E3FC;\n",
              "      --hover-bg-color: #434B5C;\n",
              "      --hover-fill-color: #FFFFFF;\n",
              "      --disabled-bg-color: #3B4455;\n",
              "      --disabled-fill-color: #666;\n",
              "  }\n",
              "\n",
              "  .colab-df-quickchart {\n",
              "    background-color: var(--bg-color);\n",
              "    border: none;\n",
              "    border-radius: 50%;\n",
              "    cursor: pointer;\n",
              "    display: none;\n",
              "    fill: var(--fill-color);\n",
              "    height: 32px;\n",
              "    padding: 0;\n",
              "    width: 32px;\n",
              "  }\n",
              "\n",
              "  .colab-df-quickchart:hover {\n",
              "    background-color: var(--hover-bg-color);\n",
              "    box-shadow: 0 1px 2px rgba(60, 64, 67, 0.3), 0 1px 3px 1px rgba(60, 64, 67, 0.15);\n",
              "    fill: var(--button-hover-fill-color);\n",
              "  }\n",
              "\n",
              "  .colab-df-quickchart-complete:disabled,\n",
              "  .colab-df-quickchart-complete:disabled:hover {\n",
              "    background-color: var(--disabled-bg-color);\n",
              "    fill: var(--disabled-fill-color);\n",
              "    box-shadow: none;\n",
              "  }\n",
              "\n",
              "  .colab-df-spinner {\n",
              "    border: 2px solid var(--fill-color);\n",
              "    border-color: transparent;\n",
              "    border-bottom-color: var(--fill-color);\n",
              "    animation:\n",
              "      spin 1s steps(1) infinite;\n",
              "  }\n",
              "\n",
              "  @keyframes spin {\n",
              "    0% {\n",
              "      border-color: transparent;\n",
              "      border-bottom-color: var(--fill-color);\n",
              "      border-left-color: var(--fill-color);\n",
              "    }\n",
              "    20% {\n",
              "      border-color: transparent;\n",
              "      border-left-color: var(--fill-color);\n",
              "      border-top-color: var(--fill-color);\n",
              "    }\n",
              "    30% {\n",
              "      border-color: transparent;\n",
              "      border-left-color: var(--fill-color);\n",
              "      border-top-color: var(--fill-color);\n",
              "      border-right-color: var(--fill-color);\n",
              "    }\n",
              "    40% {\n",
              "      border-color: transparent;\n",
              "      border-right-color: var(--fill-color);\n",
              "      border-top-color: var(--fill-color);\n",
              "    }\n",
              "    60% {\n",
              "      border-color: transparent;\n",
              "      border-right-color: var(--fill-color);\n",
              "    }\n",
              "    80% {\n",
              "      border-color: transparent;\n",
              "      border-right-color: var(--fill-color);\n",
              "      border-bottom-color: var(--fill-color);\n",
              "    }\n",
              "    90% {\n",
              "      border-color: transparent;\n",
              "      border-bottom-color: var(--fill-color);\n",
              "    }\n",
              "  }\n",
              "</style>\n",
              "\n",
              "      <script>\n",
              "        async function quickchart(key) {\n",
              "          const quickchartButtonEl =\n",
              "            document.querySelector('#' + key + ' button');\n",
              "          quickchartButtonEl.disabled = true;  // To prevent multiple clicks.\n",
              "          quickchartButtonEl.classList.add('colab-df-spinner');\n",
              "          try {\n",
              "            const charts = await google.colab.kernel.invokeFunction(\n",
              "                'suggestCharts', [key], {});\n",
              "          } catch (error) {\n",
              "            console.error('Error during call to suggestCharts:', error);\n",
              "          }\n",
              "          quickchartButtonEl.classList.remove('colab-df-spinner');\n",
              "          quickchartButtonEl.classList.add('colab-df-quickchart-complete');\n",
              "        }\n",
              "        (() => {\n",
              "          let quickchartButtonEl =\n",
              "            document.querySelector('#df-ae862499-2680-4c2c-9dc3-ec534a360efa button');\n",
              "          quickchartButtonEl.style.display =\n",
              "            google.colab.kernel.accessAllowed ? 'block' : 'none';\n",
              "        })();\n",
              "      </script>\n",
              "    </div>\n",
              "\n",
              "  <div id=\"id_35b72924-1258-41a3-b693-ba12b7630f93\">\n",
              "    <style>\n",
              "      .colab-df-generate {\n",
              "        background-color: #E8F0FE;\n",
              "        border: none;\n",
              "        border-radius: 50%;\n",
              "        cursor: pointer;\n",
              "        display: none;\n",
              "        fill: #1967D2;\n",
              "        height: 32px;\n",
              "        padding: 0 0 0 0;\n",
              "        width: 32px;\n",
              "      }\n",
              "\n",
              "      .colab-df-generate:hover {\n",
              "        background-color: #E2EBFA;\n",
              "        box-shadow: 0px 1px 2px rgba(60, 64, 67, 0.3), 0px 1px 3px 1px rgba(60, 64, 67, 0.15);\n",
              "        fill: #174EA6;\n",
              "      }\n",
              "\n",
              "      [theme=dark] .colab-df-generate {\n",
              "        background-color: #3B4455;\n",
              "        fill: #D2E3FC;\n",
              "      }\n",
              "\n",
              "      [theme=dark] .colab-df-generate:hover {\n",
              "        background-color: #434B5C;\n",
              "        box-shadow: 0px 1px 3px 1px rgba(0, 0, 0, 0.15);\n",
              "        filter: drop-shadow(0px 1px 2px rgba(0, 0, 0, 0.3));\n",
              "        fill: #FFFFFF;\n",
              "      }\n",
              "    </style>\n",
              "    <button class=\"colab-df-generate\" onclick=\"generateWithVariable('df_val_sampled')\"\n",
              "            title=\"Generate code using this dataframe.\"\n",
              "            style=\"display:none;\">\n",
              "\n",
              "  <svg xmlns=\"http://www.w3.org/2000/svg\" height=\"24px\"viewBox=\"0 0 24 24\"\n",
              "       width=\"24px\">\n",
              "    <path d=\"M7,19H8.4L18.45,9,17,7.55,7,17.6ZM5,21V16.75L18.45,3.32a2,2,0,0,1,2.83,0l1.4,1.43a1.91,1.91,0,0,1,.58,1.4,1.91,1.91,0,0,1-.58,1.4L9.25,21ZM18.45,9,17,7.55Zm-12,3A5.31,5.31,0,0,0,4.9,8.1,5.31,5.31,0,0,0,1,6.5,5.31,5.31,0,0,0,4.9,4.9,5.31,5.31,0,0,0,6.5,1,5.31,5.31,0,0,0,8.1,4.9,5.31,5.31,0,0,0,12,6.5,5.46,5.46,0,0,0,6.5,12Z\"/>\n",
              "  </svg>\n",
              "    </button>\n",
              "    <script>\n",
              "      (() => {\n",
              "      const buttonEl =\n",
              "        document.querySelector('#id_35b72924-1258-41a3-b693-ba12b7630f93 button.colab-df-generate');\n",
              "      buttonEl.style.display =\n",
              "        google.colab.kernel.accessAllowed ? 'block' : 'none';\n",
              "\n",
              "      buttonEl.onclick = () => {\n",
              "        google.colab.notebook.generateWithVariable('df_val_sampled');\n",
              "      }\n",
              "      })();\n",
              "    </script>\n",
              "  </div>\n",
              "\n",
              "    </div>\n",
              "  </div>\n"
            ],
            "application/vnd.google.colaboratory.intrinsic+json": {
              "type": "dataframe",
              "variable_name": "df_val_sampled"
            }
          },
          "metadata": {},
          "execution_count": 96
        }
      ],
      "source": [
        "df_val_sampled"
      ]
    },
    {
      "cell_type": "code",
      "execution_count": null,
      "metadata": {
        "colab": {
          "base_uri": "https://localhost:8080/"
        },
        "id": "9rd9ocuVnLsI",
        "outputId": "cab5dafe-86a3-419b-991e-14238bc49111"
      },
      "outputs": [
        {
          "output_type": "execute_result",
          "data": {
            "text/plain": [
              "(44397, 109)"
            ]
          },
          "metadata": {},
          "execution_count": 97
        }
      ],
      "source": [
        "df_test_sampled.shape"
      ]
    },
    {
      "cell_type": "markdown",
      "metadata": {
        "id": "Ax_7i1YBdIdG"
      },
      "source": [
        "## Create rolling window with label t+1"
      ]
    },
    {
      "cell_type": "code",
      "execution_count": null,
      "metadata": {
        "colab": {
          "base_uri": "https://localhost:8080/",
          "height": 256
        },
        "id": "BMYcxhiRHEWH",
        "outputId": "76066f7d-e8e2-44bc-d8d9-670ac60614d9"
      },
      "outputs": [
        {
          "output_type": "execute_result",
          "data": {
            "text/plain": [
              "       device_id analysis_date  reboots  script_boots  ap_count  \\\n",
              "3586  004f299a6a    2025-06-13        0             0         0   \n",
              "3587  004f299a6a    2025-06-14        0             0         0   \n",
              "3588  004f299a6a    2025-06-15        0             0         0   \n",
              "3589  004f299a6a    2025-06-16        0             0         0   \n",
              "3590  004f299a6a    2025-06-17        0             0         0   \n",
              "\n",
              "      total_samples_24  total_samples_5  good_samples_24  good_samples_5  \\\n",
              "3586             36739            10315            11882            3842   \n",
              "3587             35433            11190            11605            3629   \n",
              "3588             37075            10577            12727            3940   \n",
              "3589             37922            11762            12103            5082   \n",
              "3590             38148            12858            14308            5951   \n",
              "\n",
              "      poor_qoe_samples  ...  delta_high_mem_usage_samples  \\\n",
              "3586                 4  ...                           0.0   \n",
              "3587                42  ...                           0.0   \n",
              "3588                17  ...                           0.0   \n",
              "3589               101  ...                           0.0   \n",
              "3590               144  ...                           0.0   \n",
              "\n",
              "      delta_congested_sample_5_count  delta_congested_sample_active_5_count  \\\n",
              "3586                             0.0                                    0.0   \n",
              "3587                             4.0                                    4.0   \n",
              "3588                            -3.0                                   -4.0   \n",
              "3589                            -1.0                                    0.0   \n",
              "3590                             0.0                                    0.0   \n",
              "\n",
              "      delta_congested_sample_24_count  delta_congested_sample_active_24_count  \\\n",
              "3586                             -4.0                                    -1.0   \n",
              "3587                             32.0                                     2.0   \n",
              "3588                            -10.0                                    -2.0   \n",
              "3589                             12.0                                     2.0   \n",
              "3590                              1.0                                    -1.0   \n",
              "\n",
              "      delta_poor_coverage_ratio_24  delta_poor_coverage_ratio_5  \\\n",
              "3586                      7.068094                     3.513707   \n",
              "3587                     23.999998                    -0.717670   \n",
              "3588                    -21.834458                     6.662444   \n",
              "3589                     -6.434480                    -9.244108   \n",
              "3590                      0.034784                     0.476073   \n",
              "\n",
              "      delta_poor_coverage_ratio_total  delta_congested_sample_5_count.lag1  \\\n",
              "3586                         4.293981                                  0.0   \n",
              "3587                        -0.099211                                  0.0   \n",
              "3588                         5.516839                                  4.0   \n",
              "3589                        -8.873351                                 -3.0   \n",
              "3590                         0.449641                                 -1.0   \n",
              "\n",
              "      delta_congested_sample_active_5_count.lag1  \n",
              "3586                                         0.0  \n",
              "3587                                         0.0  \n",
              "3588                                         4.0  \n",
              "3589                                        -4.0  \n",
              "3590                                         0.0  \n",
              "\n",
              "[5 rows x 109 columns]"
            ],
            "text/html": [
              "\n",
              "  <div id=\"df-56d91688-4911-4f94-8b0c-93c7293f8f9b\" class=\"colab-df-container\">\n",
              "    <div>\n",
              "<style scoped>\n",
              "    .dataframe tbody tr th:only-of-type {\n",
              "        vertical-align: middle;\n",
              "    }\n",
              "\n",
              "    .dataframe tbody tr th {\n",
              "        vertical-align: top;\n",
              "    }\n",
              "\n",
              "    .dataframe thead th {\n",
              "        text-align: right;\n",
              "    }\n",
              "</style>\n",
              "<table border=\"1\" class=\"dataframe\">\n",
              "  <thead>\n",
              "    <tr style=\"text-align: right;\">\n",
              "      <th></th>\n",
              "      <th>device_id</th>\n",
              "      <th>analysis_date</th>\n",
              "      <th>reboots</th>\n",
              "      <th>script_boots</th>\n",
              "      <th>ap_count</th>\n",
              "      <th>total_samples_24</th>\n",
              "      <th>total_samples_5</th>\n",
              "      <th>good_samples_24</th>\n",
              "      <th>good_samples_5</th>\n",
              "      <th>poor_qoe_samples</th>\n",
              "      <th>...</th>\n",
              "      <th>delta_high_mem_usage_samples</th>\n",
              "      <th>delta_congested_sample_5_count</th>\n",
              "      <th>delta_congested_sample_active_5_count</th>\n",
              "      <th>delta_congested_sample_24_count</th>\n",
              "      <th>delta_congested_sample_active_24_count</th>\n",
              "      <th>delta_poor_coverage_ratio_24</th>\n",
              "      <th>delta_poor_coverage_ratio_5</th>\n",
              "      <th>delta_poor_coverage_ratio_total</th>\n",
              "      <th>delta_congested_sample_5_count.lag1</th>\n",
              "      <th>delta_congested_sample_active_5_count.lag1</th>\n",
              "    </tr>\n",
              "  </thead>\n",
              "  <tbody>\n",
              "    <tr>\n",
              "      <th>3586</th>\n",
              "      <td>004f299a6a</td>\n",
              "      <td>2025-06-13</td>\n",
              "      <td>0</td>\n",
              "      <td>0</td>\n",
              "      <td>0</td>\n",
              "      <td>36739</td>\n",
              "      <td>10315</td>\n",
              "      <td>11882</td>\n",
              "      <td>3842</td>\n",
              "      <td>4</td>\n",
              "      <td>...</td>\n",
              "      <td>0.0</td>\n",
              "      <td>0.0</td>\n",
              "      <td>0.0</td>\n",
              "      <td>-4.0</td>\n",
              "      <td>-1.0</td>\n",
              "      <td>7.068094</td>\n",
              "      <td>3.513707</td>\n",
              "      <td>4.293981</td>\n",
              "      <td>0.0</td>\n",
              "      <td>0.0</td>\n",
              "    </tr>\n",
              "    <tr>\n",
              "      <th>3587</th>\n",
              "      <td>004f299a6a</td>\n",
              "      <td>2025-06-14</td>\n",
              "      <td>0</td>\n",
              "      <td>0</td>\n",
              "      <td>0</td>\n",
              "      <td>35433</td>\n",
              "      <td>11190</td>\n",
              "      <td>11605</td>\n",
              "      <td>3629</td>\n",
              "      <td>42</td>\n",
              "      <td>...</td>\n",
              "      <td>0.0</td>\n",
              "      <td>4.0</td>\n",
              "      <td>4.0</td>\n",
              "      <td>32.0</td>\n",
              "      <td>2.0</td>\n",
              "      <td>23.999998</td>\n",
              "      <td>-0.717670</td>\n",
              "      <td>-0.099211</td>\n",
              "      <td>0.0</td>\n",
              "      <td>0.0</td>\n",
              "    </tr>\n",
              "    <tr>\n",
              "      <th>3588</th>\n",
              "      <td>004f299a6a</td>\n",
              "      <td>2025-06-15</td>\n",
              "      <td>0</td>\n",
              "      <td>0</td>\n",
              "      <td>0</td>\n",
              "      <td>37075</td>\n",
              "      <td>10577</td>\n",
              "      <td>12727</td>\n",
              "      <td>3940</td>\n",
              "      <td>17</td>\n",
              "      <td>...</td>\n",
              "      <td>0.0</td>\n",
              "      <td>-3.0</td>\n",
              "      <td>-4.0</td>\n",
              "      <td>-10.0</td>\n",
              "      <td>-2.0</td>\n",
              "      <td>-21.834458</td>\n",
              "      <td>6.662444</td>\n",
              "      <td>5.516839</td>\n",
              "      <td>4.0</td>\n",
              "      <td>4.0</td>\n",
              "    </tr>\n",
              "    <tr>\n",
              "      <th>3589</th>\n",
              "      <td>004f299a6a</td>\n",
              "      <td>2025-06-16</td>\n",
              "      <td>0</td>\n",
              "      <td>0</td>\n",
              "      <td>0</td>\n",
              "      <td>37922</td>\n",
              "      <td>11762</td>\n",
              "      <td>12103</td>\n",
              "      <td>5082</td>\n",
              "      <td>101</td>\n",
              "      <td>...</td>\n",
              "      <td>0.0</td>\n",
              "      <td>-1.0</td>\n",
              "      <td>0.0</td>\n",
              "      <td>12.0</td>\n",
              "      <td>2.0</td>\n",
              "      <td>-6.434480</td>\n",
              "      <td>-9.244108</td>\n",
              "      <td>-8.873351</td>\n",
              "      <td>-3.0</td>\n",
              "      <td>-4.0</td>\n",
              "    </tr>\n",
              "    <tr>\n",
              "      <th>3590</th>\n",
              "      <td>004f299a6a</td>\n",
              "      <td>2025-06-17</td>\n",
              "      <td>0</td>\n",
              "      <td>0</td>\n",
              "      <td>0</td>\n",
              "      <td>38148</td>\n",
              "      <td>12858</td>\n",
              "      <td>14308</td>\n",
              "      <td>5951</td>\n",
              "      <td>144</td>\n",
              "      <td>...</td>\n",
              "      <td>0.0</td>\n",
              "      <td>0.0</td>\n",
              "      <td>0.0</td>\n",
              "      <td>1.0</td>\n",
              "      <td>-1.0</td>\n",
              "      <td>0.034784</td>\n",
              "      <td>0.476073</td>\n",
              "      <td>0.449641</td>\n",
              "      <td>-1.0</td>\n",
              "      <td>0.0</td>\n",
              "    </tr>\n",
              "  </tbody>\n",
              "</table>\n",
              "<p>5 rows × 109 columns</p>\n",
              "</div>\n",
              "    <div class=\"colab-df-buttons\">\n",
              "\n",
              "  <div class=\"colab-df-container\">\n",
              "    <button class=\"colab-df-convert\" onclick=\"convertToInteractive('df-56d91688-4911-4f94-8b0c-93c7293f8f9b')\"\n",
              "            title=\"Convert this dataframe to an interactive table.\"\n",
              "            style=\"display:none;\">\n",
              "\n",
              "  <svg xmlns=\"http://www.w3.org/2000/svg\" height=\"24px\" viewBox=\"0 -960 960 960\">\n",
              "    <path d=\"M120-120v-720h720v720H120Zm60-500h600v-160H180v160Zm220 220h160v-160H400v160Zm0 220h160v-160H400v160ZM180-400h160v-160H180v160Zm440 0h160v-160H620v160ZM180-180h160v-160H180v160Zm440 0h160v-160H620v160Z\"/>\n",
              "  </svg>\n",
              "    </button>\n",
              "\n",
              "  <style>\n",
              "    .colab-df-container {\n",
              "      display:flex;\n",
              "      gap: 12px;\n",
              "    }\n",
              "\n",
              "    .colab-df-convert {\n",
              "      background-color: #E8F0FE;\n",
              "      border: none;\n",
              "      border-radius: 50%;\n",
              "      cursor: pointer;\n",
              "      display: none;\n",
              "      fill: #1967D2;\n",
              "      height: 32px;\n",
              "      padding: 0 0 0 0;\n",
              "      width: 32px;\n",
              "    }\n",
              "\n",
              "    .colab-df-convert:hover {\n",
              "      background-color: #E2EBFA;\n",
              "      box-shadow: 0px 1px 2px rgba(60, 64, 67, 0.3), 0px 1px 3px 1px rgba(60, 64, 67, 0.15);\n",
              "      fill: #174EA6;\n",
              "    }\n",
              "\n",
              "    .colab-df-buttons div {\n",
              "      margin-bottom: 4px;\n",
              "    }\n",
              "\n",
              "    [theme=dark] .colab-df-convert {\n",
              "      background-color: #3B4455;\n",
              "      fill: #D2E3FC;\n",
              "    }\n",
              "\n",
              "    [theme=dark] .colab-df-convert:hover {\n",
              "      background-color: #434B5C;\n",
              "      box-shadow: 0px 1px 3px 1px rgba(0, 0, 0, 0.15);\n",
              "      filter: drop-shadow(0px 1px 2px rgba(0, 0, 0, 0.3));\n",
              "      fill: #FFFFFF;\n",
              "    }\n",
              "  </style>\n",
              "\n",
              "    <script>\n",
              "      const buttonEl =\n",
              "        document.querySelector('#df-56d91688-4911-4f94-8b0c-93c7293f8f9b button.colab-df-convert');\n",
              "      buttonEl.style.display =\n",
              "        google.colab.kernel.accessAllowed ? 'block' : 'none';\n",
              "\n",
              "      async function convertToInteractive(key) {\n",
              "        const element = document.querySelector('#df-56d91688-4911-4f94-8b0c-93c7293f8f9b');\n",
              "        const dataTable =\n",
              "          await google.colab.kernel.invokeFunction('convertToInteractive',\n",
              "                                                    [key], {});\n",
              "        if (!dataTable) return;\n",
              "\n",
              "        const docLinkHtml = 'Like what you see? Visit the ' +\n",
              "          '<a target=\"_blank\" href=https://colab.research.google.com/notebooks/data_table.ipynb>data table notebook</a>'\n",
              "          + ' to learn more about interactive tables.';\n",
              "        element.innerHTML = '';\n",
              "        dataTable['output_type'] = 'display_data';\n",
              "        await google.colab.output.renderOutput(dataTable, element);\n",
              "        const docLink = document.createElement('div');\n",
              "        docLink.innerHTML = docLinkHtml;\n",
              "        element.appendChild(docLink);\n",
              "      }\n",
              "    </script>\n",
              "  </div>\n",
              "\n",
              "\n",
              "    <div id=\"df-3f0a0b2e-4d05-443f-a890-c29783a7a637\">\n",
              "      <button class=\"colab-df-quickchart\" onclick=\"quickchart('df-3f0a0b2e-4d05-443f-a890-c29783a7a637')\"\n",
              "                title=\"Suggest charts\"\n",
              "                style=\"display:none;\">\n",
              "\n",
              "<svg xmlns=\"http://www.w3.org/2000/svg\" height=\"24px\"viewBox=\"0 0 24 24\"\n",
              "     width=\"24px\">\n",
              "    <g>\n",
              "        <path d=\"M19 3H5c-1.1 0-2 .9-2 2v14c0 1.1.9 2 2 2h14c1.1 0 2-.9 2-2V5c0-1.1-.9-2-2-2zM9 17H7v-7h2v7zm4 0h-2V7h2v10zm4 0h-2v-4h2v4z\"/>\n",
              "    </g>\n",
              "</svg>\n",
              "      </button>\n",
              "\n",
              "<style>\n",
              "  .colab-df-quickchart {\n",
              "      --bg-color: #E8F0FE;\n",
              "      --fill-color: #1967D2;\n",
              "      --hover-bg-color: #E2EBFA;\n",
              "      --hover-fill-color: #174EA6;\n",
              "      --disabled-fill-color: #AAA;\n",
              "      --disabled-bg-color: #DDD;\n",
              "  }\n",
              "\n",
              "  [theme=dark] .colab-df-quickchart {\n",
              "      --bg-color: #3B4455;\n",
              "      --fill-color: #D2E3FC;\n",
              "      --hover-bg-color: #434B5C;\n",
              "      --hover-fill-color: #FFFFFF;\n",
              "      --disabled-bg-color: #3B4455;\n",
              "      --disabled-fill-color: #666;\n",
              "  }\n",
              "\n",
              "  .colab-df-quickchart {\n",
              "    background-color: var(--bg-color);\n",
              "    border: none;\n",
              "    border-radius: 50%;\n",
              "    cursor: pointer;\n",
              "    display: none;\n",
              "    fill: var(--fill-color);\n",
              "    height: 32px;\n",
              "    padding: 0;\n",
              "    width: 32px;\n",
              "  }\n",
              "\n",
              "  .colab-df-quickchart:hover {\n",
              "    background-color: var(--hover-bg-color);\n",
              "    box-shadow: 0 1px 2px rgba(60, 64, 67, 0.3), 0 1px 3px 1px rgba(60, 64, 67, 0.15);\n",
              "    fill: var(--button-hover-fill-color);\n",
              "  }\n",
              "\n",
              "  .colab-df-quickchart-complete:disabled,\n",
              "  .colab-df-quickchart-complete:disabled:hover {\n",
              "    background-color: var(--disabled-bg-color);\n",
              "    fill: var(--disabled-fill-color);\n",
              "    box-shadow: none;\n",
              "  }\n",
              "\n",
              "  .colab-df-spinner {\n",
              "    border: 2px solid var(--fill-color);\n",
              "    border-color: transparent;\n",
              "    border-bottom-color: var(--fill-color);\n",
              "    animation:\n",
              "      spin 1s steps(1) infinite;\n",
              "  }\n",
              "\n",
              "  @keyframes spin {\n",
              "    0% {\n",
              "      border-color: transparent;\n",
              "      border-bottom-color: var(--fill-color);\n",
              "      border-left-color: var(--fill-color);\n",
              "    }\n",
              "    20% {\n",
              "      border-color: transparent;\n",
              "      border-left-color: var(--fill-color);\n",
              "      border-top-color: var(--fill-color);\n",
              "    }\n",
              "    30% {\n",
              "      border-color: transparent;\n",
              "      border-left-color: var(--fill-color);\n",
              "      border-top-color: var(--fill-color);\n",
              "      border-right-color: var(--fill-color);\n",
              "    }\n",
              "    40% {\n",
              "      border-color: transparent;\n",
              "      border-right-color: var(--fill-color);\n",
              "      border-top-color: var(--fill-color);\n",
              "    }\n",
              "    60% {\n",
              "      border-color: transparent;\n",
              "      border-right-color: var(--fill-color);\n",
              "    }\n",
              "    80% {\n",
              "      border-color: transparent;\n",
              "      border-right-color: var(--fill-color);\n",
              "      border-bottom-color: var(--fill-color);\n",
              "    }\n",
              "    90% {\n",
              "      border-color: transparent;\n",
              "      border-bottom-color: var(--fill-color);\n",
              "    }\n",
              "  }\n",
              "</style>\n",
              "\n",
              "      <script>\n",
              "        async function quickchart(key) {\n",
              "          const quickchartButtonEl =\n",
              "            document.querySelector('#' + key + ' button');\n",
              "          quickchartButtonEl.disabled = true;  // To prevent multiple clicks.\n",
              "          quickchartButtonEl.classList.add('colab-df-spinner');\n",
              "          try {\n",
              "            const charts = await google.colab.kernel.invokeFunction(\n",
              "                'suggestCharts', [key], {});\n",
              "          } catch (error) {\n",
              "            console.error('Error during call to suggestCharts:', error);\n",
              "          }\n",
              "          quickchartButtonEl.classList.remove('colab-df-spinner');\n",
              "          quickchartButtonEl.classList.add('colab-df-quickchart-complete');\n",
              "        }\n",
              "        (() => {\n",
              "          let quickchartButtonEl =\n",
              "            document.querySelector('#df-3f0a0b2e-4d05-443f-a890-c29783a7a637 button');\n",
              "          quickchartButtonEl.style.display =\n",
              "            google.colab.kernel.accessAllowed ? 'block' : 'none';\n",
              "        })();\n",
              "      </script>\n",
              "    </div>\n",
              "\n",
              "    </div>\n",
              "  </div>\n"
            ],
            "application/vnd.google.colaboratory.intrinsic+json": {
              "type": "dataframe",
              "variable_name": "df_train_balanced"
            }
          },
          "metadata": {},
          "execution_count": 98
        }
      ],
      "source": [
        "df_train_balanced.head()"
      ]
    },
    {
      "cell_type": "code",
      "execution_count": null,
      "metadata": {
        "id": "lU4hEMawAkvH"
      },
      "outputs": [],
      "source": [
        "# Create rolling windows of 3-days wrapped in a TSFRESH format\n",
        "def create_rolling_windows_for_tsfresh(df, max_window_size=3, verbose=True, chunk_size=1000):\n",
        "    rolling_windows = []\n",
        "    positive_count = 0\n",
        "    negative_count = 0\n",
        "    global_id = 0\n",
        "\n",
        "    # Sort and get unique device IDs for chunking\n",
        "    df = df.sort_values(['device_id', 'analysis_date'])\n",
        "    device_ids = df['device_id'].unique()\n",
        "\n",
        "    # Process devices in chunks\n",
        "    for i in range(0, len(device_ids), chunk_size):\n",
        "        chunk_devices = device_ids[i:i + chunk_size]\n",
        "        df_chunk = df[df['device_id'].isin(chunk_devices)]\n",
        "\n",
        "        for device_id, group in df_chunk.groupby('device_id'):\n",
        "            group = group.reset_index(drop=True)\n",
        "            n = len(group)\n",
        "\n",
        "            if n < 2:\n",
        "                continue\n",
        "\n",
        "            window_size = min(max_window_size, n - 1)\n",
        "\n",
        "            for i in range(n - window_size):\n",
        "                label_row = group.iloc[i + window_size]\n",
        "                label = label_row['flag_call']\n",
        "\n",
        "                if pd.isna(label):\n",
        "                    continue\n",
        "\n",
        "                if verbose and label == 1:\n",
        "                    print(f\"[{device_id}] Positive at {label_row['analysis_date']}\")\n",
        "\n",
        "                window = group.iloc[i:i + window_size].drop(columns=['device_id', 'analysis_date', 'flag_call'])\n",
        "                window = window.select_dtypes(include='number')\n",
        "\n",
        "                # Add TSFRESH-specific fields\n",
        "                window_df = window.copy()\n",
        "                window_df['id'] = global_id\n",
        "                window_df['time'] = np.arange(len(window_df))\n",
        "\n",
        "                rolling_windows.append((window_df, device_id, label_row['analysis_date'], label))\n",
        "\n",
        "                if label == 1:\n",
        "                    positive_count += 1\n",
        "                else:\n",
        "                    negative_count += 1\n",
        "\n",
        "                global_id += 1\n",
        "\n",
        "        # Clear memory after processing each chunk\n",
        "        del df_chunk\n",
        "        import gc\n",
        "        gc.collect()\n",
        "\n",
        "    label_summary = {\n",
        "        'positive': positive_count,\n",
        "        'negative': negative_count\n",
        "    }\n",
        "\n",
        "    if verbose:\n",
        "        print(f\"Created {len(rolling_windows)} windows → Pos: {positive_count}, Neg: {negative_count}\")\n",
        "\n",
        "    return rolling_windows, label_summary"
      ]
    },
    {
      "cell_type": "code",
      "execution_count": null,
      "metadata": {
        "colab": {
          "base_uri": "https://localhost:8080/"
        },
        "id": "uNk6RhruouEu",
        "outputId": "9f663a17-ccea-49d6-98cb-5390607c6149"
      },
      "outputs": [
        {
          "output_type": "stream",
          "name": "stdout",
          "text": [
            "[006306db2c] Positive at 2025-06-20 00:00:00\n",
            "[02d1ff3e91] Positive at 2025-06-20 00:00:00\n",
            "[04c6f66b43] Positive at 2025-06-18 00:00:00\n",
            "[072390dcda] Positive at 2025-07-02 00:00:00\n",
            "[07448e5089] Positive at 2025-06-19 00:00:00\n",
            "[07a0e1ca61] Positive at 2025-06-18 00:00:00\n",
            "[07a32b791f] Positive at 2025-06-28 00:00:00\n",
            "[092398c839] Positive at 2025-07-03 00:00:00\n",
            "[0b4d6da8c5] Positive at 2025-06-24 00:00:00\n",
            "[0b93626362] Positive at 2025-06-26 00:00:00\n",
            "[0b93626362] Positive at 2025-06-27 00:00:00\n",
            "[0e37303fb3] Positive at 2025-06-17 00:00:00\n",
            "[0f20066893] Positive at 2025-07-04 00:00:00\n",
            "[0f52baae7d] Positive at 2025-06-24 00:00:00\n",
            "[0f57bf218c] Positive at 2025-06-18 00:00:00\n",
            "[0fb9183fb8] Positive at 2025-06-23 00:00:00\n",
            "[110b2641e3] Positive at 2025-06-19 00:00:00\n",
            "[116b3effee] Positive at 2025-07-04 00:00:00\n",
            "[13aba73aa9] Positive at 2025-07-03 00:00:00\n",
            "[17d1f82f5b] Positive at 2025-06-16 00:00:00\n",
            "[17d1f82f5b] Positive at 2025-06-21 00:00:00\n",
            "[17d1f82f5b] Positive at 2025-06-22 00:00:00\n",
            "[17d1f82f5b] Positive at 2025-06-23 00:00:00\n",
            "[17d1f82f5b] Positive at 2025-06-30 00:00:00\n",
            "[1802d33dd7] Positive at 2025-06-27 00:00:00\n",
            "[18c2ef98d7] Positive at 2025-06-16 00:00:00\n",
            "[18c2ef98d7] Positive at 2025-06-20 00:00:00\n",
            "[1b26ff37d5] Positive at 2025-06-22 00:00:00\n",
            "[1bb669e194] Positive at 2025-06-18 00:00:00\n",
            "[1bb669e194] Positive at 2025-06-19 00:00:00\n",
            "[1eae6fc30c] Positive at 2025-07-01 00:00:00\n",
            "[207d859717] Positive at 2025-06-27 00:00:00\n",
            "[2170d08d26] Positive at 2025-06-29 00:00:00\n",
            "[239cd3cd7a] Positive at 2025-06-30 00:00:00\n",
            "[239cd3cd7a] Positive at 2025-07-04 00:00:00\n",
            "[28d8636998] Positive at 2025-06-25 00:00:00\n",
            "[29946d25c5] Positive at 2025-06-17 00:00:00\n",
            "[2cc3064b22] Positive at 2025-06-20 00:00:00\n",
            "[2de36fbaf4] Positive at 2025-06-30 00:00:00\n",
            "[2eaa199190] Positive at 2025-06-23 00:00:00\n",
            "[2efd8c9d2a] Positive at 2025-07-03 00:00:00\n",
            "[3172c959f3] Positive at 2025-06-22 00:00:00\n",
            "[31b463d99e] Positive at 2025-07-04 00:00:00\n",
            "[31f3c982e1] Positive at 2025-06-30 00:00:00\n",
            "[338bb35300] Positive at 2025-06-21 00:00:00\n",
            "[339caecd8a] Positive at 2025-06-16 00:00:00\n",
            "[339caecd8a] Positive at 2025-06-17 00:00:00\n",
            "[37cd503ce9] Positive at 2025-07-03 00:00:00\n",
            "[3afd5d6e5d] Positive at 2025-06-20 00:00:00\n",
            "[3c65eb3c48] Positive at 2025-06-25 00:00:00\n",
            "[3c65eb3c48] Positive at 2025-07-02 00:00:00\n",
            "[3e438c5a33] Positive at 2025-06-19 00:00:00\n",
            "[409f6261da] Positive at 2025-06-19 00:00:00\n",
            "[42e01399fd] Positive at 2025-06-19 00:00:00\n",
            "[44c654b0cc] Positive at 2025-06-26 00:00:00\n",
            "[47126cb88d] Positive at 2025-06-30 00:00:00\n",
            "[4996233ca8] Positive at 2025-07-02 00:00:00\n",
            "[49fd4a8188] Positive at 2025-06-27 00:00:00\n",
            "[4a27c3718c] Positive at 2025-06-26 00:00:00\n",
            "[4ad5c0a105] Positive at 2025-06-21 00:00:00\n",
            "[4cb34081e6] Positive at 2025-06-26 00:00:00\n",
            "[4eee72808e] Positive at 2025-06-20 00:00:00\n",
            "[53dc72ca2c] Positive at 2025-06-25 00:00:00\n",
            "[5401c50adc] Positive at 2025-06-23 00:00:00\n",
            "[57a60795db] Positive at 2025-06-22 00:00:00\n",
            "[594360c495] Positive at 2025-06-17 00:00:00\n",
            "[5c33e29f6f] Positive at 2025-06-25 00:00:00\n",
            "[5d04693406] Positive at 2025-06-22 00:00:00\n",
            "[5d6aa984ab] Positive at 2025-07-02 00:00:00\n",
            "[5d7fda863e] Positive at 2025-06-18 00:00:00\n",
            "[5e942ebcdc] Positive at 2025-07-02 00:00:00\n",
            "[5f4de72db2] Positive at 2025-06-17 00:00:00\n",
            "[6416b2e297] Positive at 2025-06-22 00:00:00\n",
            "[65626ec823] Positive at 2025-06-30 00:00:00\n",
            "[6684ccc0d5] Positive at 2025-06-23 00:00:00\n",
            "[6901257599] Positive at 2025-06-16 00:00:00\n",
            "[693d29cbc9] Positive at 2025-06-20 00:00:00\n",
            "[693d29cbc9] Positive at 2025-06-30 00:00:00\n",
            "[693d29cbc9] Positive at 2025-07-01 00:00:00\n",
            "[6992b9fab4] Positive at 2025-06-18 00:00:00\n",
            "[6fd05925f9] Positive at 2025-06-27 00:00:00\n",
            "[7124355224] Positive at 2025-06-26 00:00:00\n",
            "[72670cc721] Positive at 2025-06-16 00:00:00\n",
            "[735316ac23] Positive at 2025-06-16 00:00:00\n",
            "[7457715b16] Positive at 2025-07-04 00:00:00\n",
            "[75793659cd] Positive at 2025-06-27 00:00:00\n",
            "[762a62b543] Positive at 2025-06-27 00:00:00\n",
            "[77d0957d9a] Positive at 2025-06-20 00:00:00\n",
            "[7938e0e648] Positive at 2025-06-20 00:00:00\n",
            "[7943c316b0] Positive at 2025-06-19 00:00:00\n",
            "[7ece27d31b] Positive at 2025-06-21 00:00:00\n",
            "[8169cdb601] Positive at 2025-06-26 00:00:00\n",
            "[822062715a] Positive at 2025-06-17 00:00:00\n",
            "[86fc2a5c17] Positive at 2025-07-04 00:00:00\n",
            "[8d807ae1a8] Positive at 2025-06-28 00:00:00\n",
            "[906ff6f7b5] Positive at 2025-06-25 00:00:00\n",
            "[914d723a22] Positive at 2025-06-21 00:00:00\n",
            "[94c10af061] Positive at 2025-06-23 00:00:00\n",
            "[968dade083] Positive at 2025-06-17 00:00:00\n",
            "[968dade083] Positive at 2025-06-22 00:00:00\n",
            "[982d0e76c8] Positive at 2025-06-30 00:00:00\n",
            "[99eb676c7a] Positive at 2025-06-16 00:00:00\n",
            "[9a620bd386] Positive at 2025-07-04 00:00:00\n",
            "[9c16df086c] Positive at 2025-07-02 00:00:00\n",
            "[9f93dbea79] Positive at 2025-06-27 00:00:00\n",
            "[a046494fda] Positive at 2025-06-19 00:00:00\n",
            "[a3276ba026] Positive at 2025-06-18 00:00:00\n",
            "[a72232c6a1] Positive at 2025-06-22 00:00:00\n",
            "[a79fdcba2b] Positive at 2025-06-24 00:00:00\n",
            "[a829a07fdc] Positive at 2025-06-17 00:00:00\n",
            "[a8ee236f30] Positive at 2025-06-26 00:00:00\n",
            "[a8f8278109] Positive at 2025-06-30 00:00:00\n",
            "[a9458eeadd] Positive at 2025-06-24 00:00:00\n",
            "[a9fc2efaa3] Positive at 2025-06-20 00:00:00\n",
            "[a9fc2efaa3] Positive at 2025-06-23 00:00:00\n",
            "[abed9d0b18] Positive at 2025-06-19 00:00:00\n",
            "[abed9d0b18] Positive at 2025-06-26 00:00:00\n",
            "[add5becb3f] Positive at 2025-06-26 00:00:00\n",
            "[b1f429c49a] Positive at 2025-06-19 00:00:00\n",
            "[b23489c683] Positive at 2025-06-23 00:00:00\n",
            "[b66da2398b] Positive at 2025-07-02 00:00:00\n",
            "[b74b489418] Positive at 2025-06-18 00:00:00\n",
            "[b8568aff0a] Positive at 2025-06-18 00:00:00\n",
            "[b995ead8b1] Positive at 2025-07-02 00:00:00\n",
            "[b9b954bacd] Positive at 2025-06-17 00:00:00\n",
            "[baaca73a80] Positive at 2025-06-30 00:00:00\n",
            "[bd2a3c7529] Positive at 2025-06-29 00:00:00\n",
            "[bdd5300a81] Positive at 2025-07-02 00:00:00\n",
            "[bec5a811b1] Positive at 2025-06-20 00:00:00\n",
            "[beec395086] Positive at 2025-06-28 00:00:00\n",
            "[c1d102c77e] Positive at 2025-06-28 00:00:00\n",
            "[c25f2add49] Positive at 2025-06-26 00:00:00\n",
            "[c2769960c6] Positive at 2025-06-19 00:00:00\n",
            "[c600e94749] Positive at 2025-07-01 00:00:00\n",
            "[c7f9b5b49e] Positive at 2025-06-30 00:00:00\n",
            "[c938b87724] Positive at 2025-06-20 00:00:00\n",
            "[c99ec4b9cd] Positive at 2025-06-16 00:00:00\n",
            "[ca035b9ff5] Positive at 2025-07-03 00:00:00\n",
            "[cd8c4c1096] Positive at 2025-06-22 00:00:00\n",
            "[cef9e4c4bb] Positive at 2025-07-03 00:00:00\n",
            "[d2609449d2] Positive at 2025-06-29 00:00:00\n",
            "[d56df07c1e] Positive at 2025-06-29 00:00:00\n",
            "[d65325c75d] Positive at 2025-06-17 00:00:00\n",
            "[d78d0c7249] Positive at 2025-06-29 00:00:00\n",
            "[d78d0c7249] Positive at 2025-06-30 00:00:00\n",
            "[d82d51c20a] Positive at 2025-07-02 00:00:00\n",
            "[d84a3b2323] Positive at 2025-06-17 00:00:00\n",
            "[e1a50a58ab] Positive at 2025-06-29 00:00:00\n",
            "[e213ce659b] Positive at 2025-06-16 00:00:00\n",
            "[e44451428d] Positive at 2025-07-03 00:00:00\n",
            "[e51c4cfc83] Positive at 2025-07-01 00:00:00\n",
            "[e54c76d859] Positive at 2025-07-04 00:00:00\n",
            "[e62b2d582a] Positive at 2025-06-18 00:00:00\n",
            "[e716674c09] Positive at 2025-07-03 00:00:00\n",
            "[e72541865e] Positive at 2025-06-16 00:00:00\n",
            "[e79c285fd3] Positive at 2025-06-27 00:00:00\n",
            "[eb4d22e425] Positive at 2025-06-18 00:00:00\n",
            "[f02eb1c093] Positive at 2025-06-29 00:00:00\n",
            "[f161b5dfc2] Positive at 2025-06-19 00:00:00\n",
            "[f38a27819f] Positive at 2025-07-01 00:00:00\n",
            "[f433259223] Positive at 2025-06-16 00:00:00\n",
            "[f5c48339ed] Positive at 2025-06-29 00:00:00\n",
            "[f7e7d61085] Positive at 2025-06-24 00:00:00\n",
            "[f93e0eae93] Positive at 2025-06-19 00:00:00\n",
            "[f94a71773e] Positive at 2025-07-01 00:00:00\n",
            "[fe67eb4417] Positive at 2025-07-01 00:00:00\n",
            "Created 18582 windows → Pos: 166, Neg: 18416\n"
          ]
        },
        {
          "output_type": "execute_result",
          "data": {
            "text/plain": [
              "0"
            ]
          },
          "metadata": {},
          "execution_count": 101
        }
      ],
      "source": [
        "rolling_windows_train_balanced, summary = create_rolling_windows_for_tsfresh(df_train_balanced)\n",
        "\n",
        "del df_train_balanced\n",
        "\n",
        "gc.collect()"
      ]
    },
    {
      "cell_type": "code",
      "execution_count": null,
      "metadata": {
        "colab": {
          "base_uri": "https://localhost:8080/"
        },
        "id": "boNEEi1V-l_l",
        "outputId": "917196aa-fca6-47d4-a78d-491987d4bc7c"
      },
      "outputs": [
        {
          "output_type": "stream",
          "name": "stdout",
          "text": [
            "[12d433ad56] Positive at 2025-07-07 00:00:00\n",
            "[1470d285f0] Positive at 2025-07-07 00:00:00\n",
            "[1eae6fc30c] Positive at 2025-07-07 00:00:00\n",
            "[1f6c30e139] Positive at 2025-07-07 00:00:00\n",
            "[44e2a2c95a] Positive at 2025-07-07 00:00:00\n",
            "[52eae08462] Positive at 2025-07-07 00:00:00\n",
            "[7b8e8e8251] Positive at 2025-07-07 00:00:00\n",
            "[8a57e460d4] Positive at 2025-07-07 00:00:00\n",
            "[923c66aa38] Positive at 2025-07-07 00:00:00\n",
            "[a190b8f835] Positive at 2025-07-07 00:00:00\n",
            "[b3c166f73b] Positive at 2025-07-07 00:00:00\n",
            "[c481378e09] Positive at 2025-07-07 00:00:00\n",
            "[e83520382e] Positive at 2025-07-07 00:00:00\n",
            "[eaf9bb1c5d] Positive at 2025-07-07 00:00:00\n",
            "[ebafa79c47] Positive at 2025-07-07 00:00:00\n",
            "[ed5ca500ee] Positive at 2025-07-07 00:00:00\n",
            "Created 14799 windows → Pos: 16, Neg: 14783\n"
          ]
        },
        {
          "output_type": "execute_result",
          "data": {
            "text/plain": [
              "0"
            ]
          },
          "metadata": {},
          "execution_count": 102
        }
      ],
      "source": [
        "rolling_windows_val_sampled, summary = create_rolling_windows_for_tsfresh(df_val_sampled)\n",
        "\n",
        "del df_val_sampled\n",
        "\n",
        "gc.collect()"
      ]
    },
    {
      "cell_type": "code",
      "execution_count": null,
      "metadata": {
        "colab": {
          "base_uri": "https://localhost:8080/"
        },
        "id": "tZXEFfrU-m8y",
        "outputId": "a9ead35c-6260-4581-fd64-ad95d3b72b95"
      },
      "outputs": [
        {
          "output_type": "stream",
          "name": "stdout",
          "text": [
            "[144caa7221] Positive at 2025-07-10 00:00:00\n",
            "[149eb254d7] Positive at 2025-07-10 00:00:00\n",
            "[454d48a063] Positive at 2025-07-10 00:00:00\n",
            "[7cb202486d] Positive at 2025-07-10 00:00:00\n",
            "[8ed9ad5c5c] Positive at 2025-07-10 00:00:00\n",
            "[988ad33742] Positive at 2025-07-10 00:00:00\n",
            "[c94309846b] Positive at 2025-07-10 00:00:00\n",
            "[ea6ad451c9] Positive at 2025-07-10 00:00:00\n",
            "[eec62516ba] Positive at 2025-07-10 00:00:00\n",
            "Created 14799 windows → Pos: 9, Neg: 14790\n"
          ]
        },
        {
          "output_type": "execute_result",
          "data": {
            "text/plain": [
              "0"
            ]
          },
          "metadata": {},
          "execution_count": 103
        }
      ],
      "source": [
        "rolling_windows_test_sampled, summary = create_rolling_windows_for_tsfresh(df_test_sampled)\n",
        "\n",
        "del df_test_sampled\n",
        "\n",
        "gc.collect()"
      ]
    },
    {
      "cell_type": "code",
      "execution_count": null,
      "metadata": {
        "colab": {
          "base_uri": "https://localhost:8080/"
        },
        "id": "k4ebT24GlJyJ",
        "outputId": "7bb9565e-2e3b-4353-e8e6-b7173ca72cd7"
      },
      "outputs": [
        {
          "output_type": "stream",
          "name": "stdout",
          "text": [
            "Train Windows: 18582\n",
            "Validate Windows: 14799\n",
            "Test Windows: 14799\n"
          ]
        }
      ],
      "source": [
        "print(\"Train Windows:\", len(rolling_windows_train_balanced))\n",
        "print(\"Validate Windows:\", len(rolling_windows_val_sampled))\n",
        "print(\"Test Windows:\", len(rolling_windows_test_sampled))\n"
      ]
    },
    {
      "cell_type": "markdown",
      "metadata": {
        "id": "pKQ-vXitkhkF"
      },
      "source": [
        "## TSFRESH"
      ]
    },
    {
      "cell_type": "code",
      "execution_count": null,
      "metadata": {
        "id": "LqdkKvbUbHaI"
      },
      "outputs": [],
      "source": [
        "# Generate TSFRESH features from rolling windows\n",
        "def generate_tsfresh_features_chunked(rolling_windows, chunk_size=500, verbose=True):\n",
        "\n",
        "    all_features = []\n",
        "\n",
        "    for batch_start in range(0, len(rolling_windows), chunk_size):\n",
        "        chunk = rolling_windows[batch_start:batch_start + chunk_size]\n",
        "\n",
        "        ts_list = []\n",
        "        metadata_list = []\n",
        "\n",
        "        for local_id, (window_df, device_id, label_date, flag_call) in enumerate(chunk):\n",
        "            # Select only numeric columns to avoid TSFRESH errors\n",
        "            ts_numeric = window_df.select_dtypes(include='number').copy()\n",
        "            ts_numeric['id'] = local_id\n",
        "            ts_numeric['time'] = np.arange(len(ts_numeric))\n",
        "\n",
        "            ts_list.append(ts_numeric)\n",
        "            metadata_list.append({\n",
        "                'id': local_id,\n",
        "                'device_id': device_id,\n",
        "                'analysis_date': label_date,\n",
        "                'flag_call': flag_call\n",
        "            })\n",
        "\n",
        "        df_ts = pd.concat(ts_list, ignore_index=True)\n",
        "        metadata_df = pd.DataFrame(metadata_list)\n",
        "\n",
        "        # Run TSFRESH\n",
        "        features = extract_features(\n",
        "            df_ts,\n",
        "            column_id='id',\n",
        "            column_sort='time',\n",
        "            default_fc_parameters=MinimalFCParameters(),\n",
        "            disable_progressbar=False,\n",
        "            n_jobs=1\n",
        "        )\n",
        "\n",
        "        impute(features)\n",
        "\n",
        "        features = features.reset_index().rename(columns={'index': 'id'})\n",
        "        features = features.merge(metadata_df, on='id', how='left').drop(columns=['id'])\n",
        "\n",
        "        all_features.append(features)\n",
        "\n",
        "        if verbose:\n",
        "            print(f\" Processed chunk {batch_start // chunk_size + 1} \"\n",
        "                  f\"of {int(np.ceil(len(rolling_windows) / chunk_size))} → {features.shape}\")\n",
        "\n",
        "    return pd.concat(all_features, ignore_index=True)\n"
      ]
    },
    {
      "cell_type": "code",
      "execution_count": null,
      "metadata": {
        "colab": {
          "base_uri": "https://localhost:8080/"
        },
        "id": "fHkVwaYgtXLJ",
        "outputId": "441c614e-a255-4105-ff0c-67dbc34947ae"
      },
      "outputs": [
        {
          "output_type": "stream",
          "name": "stderr",
          "text": [
            "WARNING:tsfresh.feature_extraction.settings:Dependency not available for matrix_profile, this feature will be disabled!\n",
            "Feature Extraction: 100%|██████████| 53000/53000 [00:10<00:00, 4961.93it/s]\n"
          ]
        },
        {
          "output_type": "stream",
          "name": "stdout",
          "text": [
            " Processed chunk 1 of 38 → (500, 1063)\n"
          ]
        },
        {
          "output_type": "stream",
          "name": "stderr",
          "text": [
            "WARNING:tsfresh.feature_extraction.settings:Dependency not available for matrix_profile, this feature will be disabled!\n",
            "Feature Extraction: 100%|██████████| 53000/53000 [00:10<00:00, 5030.56it/s]\n"
          ]
        },
        {
          "output_type": "stream",
          "name": "stdout",
          "text": [
            " Processed chunk 2 of 38 → (500, 1063)\n"
          ]
        },
        {
          "output_type": "stream",
          "name": "stderr",
          "text": [
            "WARNING:tsfresh.feature_extraction.settings:Dependency not available for matrix_profile, this feature will be disabled!\n",
            "Feature Extraction: 100%|██████████| 53000/53000 [00:10<00:00, 4911.61it/s]\n"
          ]
        },
        {
          "output_type": "stream",
          "name": "stdout",
          "text": [
            " Processed chunk 3 of 38 → (500, 1063)\n"
          ]
        },
        {
          "output_type": "stream",
          "name": "stderr",
          "text": [
            "WARNING:tsfresh.feature_extraction.settings:Dependency not available for matrix_profile, this feature will be disabled!\n",
            "Feature Extraction: 100%|██████████| 53000/53000 [00:10<00:00, 4999.49it/s]\n"
          ]
        },
        {
          "output_type": "stream",
          "name": "stdout",
          "text": [
            " Processed chunk 4 of 38 → (500, 1063)\n"
          ]
        },
        {
          "output_type": "stream",
          "name": "stderr",
          "text": [
            "WARNING:tsfresh.feature_extraction.settings:Dependency not available for matrix_profile, this feature will be disabled!\n",
            "Feature Extraction: 100%|██████████| 53000/53000 [00:10<00:00, 4965.05it/s]\n"
          ]
        },
        {
          "output_type": "stream",
          "name": "stdout",
          "text": [
            " Processed chunk 5 of 38 → (500, 1063)\n"
          ]
        },
        {
          "output_type": "stream",
          "name": "stderr",
          "text": [
            "WARNING:tsfresh.feature_extraction.settings:Dependency not available for matrix_profile, this feature will be disabled!\n",
            "Feature Extraction: 100%|██████████| 53000/53000 [00:10<00:00, 5022.55it/s]\n"
          ]
        },
        {
          "output_type": "stream",
          "name": "stdout",
          "text": [
            " Processed chunk 6 of 38 → (500, 1063)\n"
          ]
        },
        {
          "output_type": "stream",
          "name": "stderr",
          "text": [
            "WARNING:tsfresh.feature_extraction.settings:Dependency not available for matrix_profile, this feature will be disabled!\n",
            "Feature Extraction: 100%|██████████| 53000/53000 [00:10<00:00, 5026.12it/s]\n"
          ]
        },
        {
          "output_type": "stream",
          "name": "stdout",
          "text": [
            " Processed chunk 7 of 38 → (500, 1063)\n"
          ]
        },
        {
          "output_type": "stream",
          "name": "stderr",
          "text": [
            "WARNING:tsfresh.feature_extraction.settings:Dependency not available for matrix_profile, this feature will be disabled!\n",
            "Feature Extraction: 100%|██████████| 53000/53000 [00:10<00:00, 4972.61it/s]\n"
          ]
        },
        {
          "output_type": "stream",
          "name": "stdout",
          "text": [
            " Processed chunk 8 of 38 → (500, 1063)\n"
          ]
        },
        {
          "output_type": "stream",
          "name": "stderr",
          "text": [
            "WARNING:tsfresh.feature_extraction.settings:Dependency not available for matrix_profile, this feature will be disabled!\n",
            "Feature Extraction: 100%|██████████| 53000/53000 [00:11<00:00, 4526.27it/s]\n"
          ]
        },
        {
          "output_type": "stream",
          "name": "stdout",
          "text": [
            " Processed chunk 9 of 38 → (500, 1063)\n"
          ]
        },
        {
          "output_type": "stream",
          "name": "stderr",
          "text": [
            "WARNING:tsfresh.feature_extraction.settings:Dependency not available for matrix_profile, this feature will be disabled!\n",
            "Feature Extraction: 100%|██████████| 53000/53000 [00:10<00:00, 4993.58it/s]\n"
          ]
        },
        {
          "output_type": "stream",
          "name": "stdout",
          "text": [
            " Processed chunk 10 of 38 → (500, 1063)\n"
          ]
        },
        {
          "output_type": "stream",
          "name": "stderr",
          "text": [
            "WARNING:tsfresh.feature_extraction.settings:Dependency not available for matrix_profile, this feature will be disabled!\n",
            "Feature Extraction: 100%|██████████| 53000/53000 [00:10<00:00, 4980.66it/s]\n"
          ]
        },
        {
          "output_type": "stream",
          "name": "stdout",
          "text": [
            " Processed chunk 11 of 38 → (500, 1063)\n"
          ]
        },
        {
          "output_type": "stream",
          "name": "stderr",
          "text": [
            "WARNING:tsfresh.feature_extraction.settings:Dependency not available for matrix_profile, this feature will be disabled!\n",
            "Feature Extraction: 100%|██████████| 53000/53000 [00:10<00:00, 4964.30it/s]\n"
          ]
        },
        {
          "output_type": "stream",
          "name": "stdout",
          "text": [
            " Processed chunk 12 of 38 → (500, 1063)\n"
          ]
        },
        {
          "output_type": "stream",
          "name": "stderr",
          "text": [
            "WARNING:tsfresh.feature_extraction.settings:Dependency not available for matrix_profile, this feature will be disabled!\n",
            "Feature Extraction: 100%|██████████| 53000/53000 [00:10<00:00, 4917.61it/s]\n"
          ]
        },
        {
          "output_type": "stream",
          "name": "stdout",
          "text": [
            " Processed chunk 13 of 38 → (500, 1063)\n"
          ]
        },
        {
          "output_type": "stream",
          "name": "stderr",
          "text": [
            "WARNING:tsfresh.feature_extraction.settings:Dependency not available for matrix_profile, this feature will be disabled!\n",
            "Feature Extraction: 100%|██████████| 53000/53000 [00:10<00:00, 4949.33it/s]\n"
          ]
        },
        {
          "output_type": "stream",
          "name": "stdout",
          "text": [
            " Processed chunk 14 of 38 → (500, 1063)\n"
          ]
        },
        {
          "output_type": "stream",
          "name": "stderr",
          "text": [
            "WARNING:tsfresh.feature_extraction.settings:Dependency not available for matrix_profile, this feature will be disabled!\n",
            "Feature Extraction: 100%|██████████| 53000/53000 [00:12<00:00, 4390.25it/s]\n"
          ]
        },
        {
          "output_type": "stream",
          "name": "stdout",
          "text": [
            " Processed chunk 15 of 38 → (500, 1063)\n"
          ]
        },
        {
          "output_type": "stream",
          "name": "stderr",
          "text": [
            "WARNING:tsfresh.feature_extraction.settings:Dependency not available for matrix_profile, this feature will be disabled!\n",
            "Feature Extraction: 100%|██████████| 53000/53000 [00:10<00:00, 4971.65it/s]\n"
          ]
        },
        {
          "output_type": "stream",
          "name": "stdout",
          "text": [
            " Processed chunk 16 of 38 → (500, 1063)\n"
          ]
        },
        {
          "output_type": "stream",
          "name": "stderr",
          "text": [
            "WARNING:tsfresh.feature_extraction.settings:Dependency not available for matrix_profile, this feature will be disabled!\n",
            "Feature Extraction: 100%|██████████| 53000/53000 [00:11<00:00, 4813.96it/s]\n"
          ]
        },
        {
          "output_type": "stream",
          "name": "stdout",
          "text": [
            " Processed chunk 17 of 38 → (500, 1063)\n"
          ]
        },
        {
          "output_type": "stream",
          "name": "stderr",
          "text": [
            "WARNING:tsfresh.feature_extraction.settings:Dependency not available for matrix_profile, this feature will be disabled!\n",
            "Feature Extraction: 100%|██████████| 53000/53000 [00:10<00:00, 4865.92it/s]\n"
          ]
        },
        {
          "output_type": "stream",
          "name": "stdout",
          "text": [
            " Processed chunk 18 of 38 → (500, 1063)\n"
          ]
        },
        {
          "output_type": "stream",
          "name": "stderr",
          "text": [
            "WARNING:tsfresh.feature_extraction.settings:Dependency not available for matrix_profile, this feature will be disabled!\n",
            "Feature Extraction: 100%|██████████| 53000/53000 [00:10<00:00, 4977.37it/s]\n"
          ]
        },
        {
          "output_type": "stream",
          "name": "stdout",
          "text": [
            " Processed chunk 19 of 38 → (500, 1063)\n"
          ]
        },
        {
          "output_type": "stream",
          "name": "stderr",
          "text": [
            "WARNING:tsfresh.feature_extraction.settings:Dependency not available for matrix_profile, this feature will be disabled!\n",
            "Feature Extraction: 100%|██████████| 53000/53000 [00:11<00:00, 4438.59it/s]\n"
          ]
        },
        {
          "output_type": "stream",
          "name": "stdout",
          "text": [
            " Processed chunk 20 of 38 → (500, 1063)\n"
          ]
        },
        {
          "output_type": "stream",
          "name": "stderr",
          "text": [
            "WARNING:tsfresh.feature_extraction.settings:Dependency not available for matrix_profile, this feature will be disabled!\n",
            "Feature Extraction: 100%|██████████| 53000/53000 [00:12<00:00, 4079.50it/s]\n"
          ]
        },
        {
          "output_type": "stream",
          "name": "stdout",
          "text": [
            " Processed chunk 21 of 38 → (500, 1063)\n"
          ]
        },
        {
          "output_type": "stream",
          "name": "stderr",
          "text": [
            "WARNING:tsfresh.feature_extraction.settings:Dependency not available for matrix_profile, this feature will be disabled!\n",
            "Feature Extraction: 100%|██████████| 53000/53000 [00:10<00:00, 4972.58it/s]\n"
          ]
        },
        {
          "output_type": "stream",
          "name": "stdout",
          "text": [
            " Processed chunk 22 of 38 → (500, 1063)\n"
          ]
        },
        {
          "output_type": "stream",
          "name": "stderr",
          "text": [
            "WARNING:tsfresh.feature_extraction.settings:Dependency not available for matrix_profile, this feature will be disabled!\n",
            "Feature Extraction: 100%|██████████| 53000/53000 [00:11<00:00, 4495.33it/s]\n"
          ]
        },
        {
          "output_type": "stream",
          "name": "stdout",
          "text": [
            " Processed chunk 23 of 38 → (500, 1063)\n"
          ]
        },
        {
          "output_type": "stream",
          "name": "stderr",
          "text": [
            "WARNING:tsfresh.feature_extraction.settings:Dependency not available for matrix_profile, this feature will be disabled!\n",
            "Feature Extraction: 100%|██████████| 53000/53000 [00:10<00:00, 4979.30it/s]\n"
          ]
        },
        {
          "output_type": "stream",
          "name": "stdout",
          "text": [
            " Processed chunk 24 of 38 → (500, 1063)\n"
          ]
        },
        {
          "output_type": "stream",
          "name": "stderr",
          "text": [
            "WARNING:tsfresh.feature_extraction.settings:Dependency not available for matrix_profile, this feature will be disabled!\n",
            "Feature Extraction: 100%|██████████| 53000/53000 [00:10<00:00, 5004.03it/s]\n"
          ]
        },
        {
          "output_type": "stream",
          "name": "stdout",
          "text": [
            " Processed chunk 25 of 38 → (500, 1063)\n"
          ]
        },
        {
          "output_type": "stream",
          "name": "stderr",
          "text": [
            "WARNING:tsfresh.feature_extraction.settings:Dependency not available for matrix_profile, this feature will be disabled!\n",
            "Feature Extraction: 100%|██████████| 53000/53000 [00:11<00:00, 4445.39it/s]\n"
          ]
        },
        {
          "output_type": "stream",
          "name": "stdout",
          "text": [
            " Processed chunk 26 of 38 → (500, 1063)\n"
          ]
        },
        {
          "output_type": "stream",
          "name": "stderr",
          "text": [
            "WARNING:tsfresh.feature_extraction.settings:Dependency not available for matrix_profile, this feature will be disabled!\n",
            "Feature Extraction: 100%|██████████| 53000/53000 [00:10<00:00, 5006.94it/s]\n"
          ]
        },
        {
          "output_type": "stream",
          "name": "stdout",
          "text": [
            " Processed chunk 27 of 38 → (500, 1063)\n"
          ]
        },
        {
          "output_type": "stream",
          "name": "stderr",
          "text": [
            "WARNING:tsfresh.feature_extraction.settings:Dependency not available for matrix_profile, this feature will be disabled!\n",
            "Feature Extraction: 100%|██████████| 53000/53000 [00:10<00:00, 4974.75it/s]\n"
          ]
        },
        {
          "output_type": "stream",
          "name": "stdout",
          "text": [
            " Processed chunk 28 of 38 → (500, 1063)\n"
          ]
        },
        {
          "output_type": "stream",
          "name": "stderr",
          "text": [
            "WARNING:tsfresh.feature_extraction.settings:Dependency not available for matrix_profile, this feature will be disabled!\n",
            "Feature Extraction: 100%|██████████| 53000/53000 [00:10<00:00, 4960.68it/s]\n"
          ]
        },
        {
          "output_type": "stream",
          "name": "stdout",
          "text": [
            " Processed chunk 29 of 38 → (500, 1063)\n"
          ]
        },
        {
          "output_type": "stream",
          "name": "stderr",
          "text": [
            "WARNING:tsfresh.feature_extraction.settings:Dependency not available for matrix_profile, this feature will be disabled!\n",
            "Feature Extraction: 100%|██████████| 53000/53000 [00:10<00:00, 5057.62it/s]\n"
          ]
        },
        {
          "output_type": "stream",
          "name": "stdout",
          "text": [
            " Processed chunk 30 of 38 → (500, 1063)\n"
          ]
        },
        {
          "output_type": "stream",
          "name": "stderr",
          "text": [
            "WARNING:tsfresh.feature_extraction.settings:Dependency not available for matrix_profile, this feature will be disabled!\n",
            "Feature Extraction: 100%|██████████| 53000/53000 [00:10<00:00, 5020.79it/s]\n"
          ]
        },
        {
          "output_type": "stream",
          "name": "stdout",
          "text": [
            " Processed chunk 31 of 38 → (500, 1063)\n"
          ]
        },
        {
          "output_type": "stream",
          "name": "stderr",
          "text": [
            "WARNING:tsfresh.feature_extraction.settings:Dependency not available for matrix_profile, this feature will be disabled!\n",
            "Feature Extraction: 100%|██████████| 53000/53000 [00:11<00:00, 4467.40it/s]\n"
          ]
        },
        {
          "output_type": "stream",
          "name": "stdout",
          "text": [
            " Processed chunk 32 of 38 → (500, 1063)\n"
          ]
        },
        {
          "output_type": "stream",
          "name": "stderr",
          "text": [
            "WARNING:tsfresh.feature_extraction.settings:Dependency not available for matrix_profile, this feature will be disabled!\n",
            "Feature Extraction: 100%|██████████| 53000/53000 [00:10<00:00, 4998.25it/s]\n"
          ]
        },
        {
          "output_type": "stream",
          "name": "stdout",
          "text": [
            " Processed chunk 33 of 38 → (500, 1063)\n"
          ]
        },
        {
          "output_type": "stream",
          "name": "stderr",
          "text": [
            "WARNING:tsfresh.feature_extraction.settings:Dependency not available for matrix_profile, this feature will be disabled!\n",
            "Feature Extraction: 100%|██████████| 53000/53000 [00:10<00:00, 4931.58it/s]\n"
          ]
        },
        {
          "output_type": "stream",
          "name": "stdout",
          "text": [
            " Processed chunk 34 of 38 → (500, 1063)\n"
          ]
        },
        {
          "output_type": "stream",
          "name": "stderr",
          "text": [
            "WARNING:tsfresh.feature_extraction.settings:Dependency not available for matrix_profile, this feature will be disabled!\n",
            "Feature Extraction: 100%|██████████| 53000/53000 [00:11<00:00, 4464.82it/s]\n"
          ]
        },
        {
          "output_type": "stream",
          "name": "stdout",
          "text": [
            " Processed chunk 35 of 38 → (500, 1063)\n"
          ]
        },
        {
          "output_type": "stream",
          "name": "stderr",
          "text": [
            "WARNING:tsfresh.feature_extraction.settings:Dependency not available for matrix_profile, this feature will be disabled!\n",
            "Feature Extraction: 100%|██████████| 53000/53000 [00:10<00:00, 4962.75it/s]\n"
          ]
        },
        {
          "output_type": "stream",
          "name": "stdout",
          "text": [
            " Processed chunk 36 of 38 → (500, 1063)\n"
          ]
        },
        {
          "output_type": "stream",
          "name": "stderr",
          "text": [
            "WARNING:tsfresh.feature_extraction.settings:Dependency not available for matrix_profile, this feature will be disabled!\n",
            "Feature Extraction: 100%|██████████| 53000/53000 [00:11<00:00, 4519.37it/s]\n",
            "WARNING:tsfresh.feature_extraction.settings:Dependency not available for matrix_profile, this feature will be disabled!\n"
          ]
        },
        {
          "output_type": "stream",
          "name": "stdout",
          "text": [
            " Processed chunk 37 of 38 → (500, 1063)\n"
          ]
        },
        {
          "output_type": "stream",
          "name": "stderr",
          "text": [
            "Feature Extraction: 100%|██████████| 8692/8692 [00:01<00:00, 4791.79it/s]\n"
          ]
        },
        {
          "output_type": "stream",
          "name": "stdout",
          "text": [
            " Processed chunk 38 of 38 → (82, 1063)\n",
            "Train: (18582, 1063)\n"
          ]
        },
        {
          "output_type": "execute_result",
          "data": {
            "text/plain": [
              "0"
            ]
          },
          "metadata": {},
          "execution_count": 109
        }
      ],
      "source": [
        "df_tsfresh_train = generate_tsfresh_features_chunked(rolling_windows_train_balanced)\n",
        "\n",
        "print(\"Train:\", df_tsfresh_train.shape)\n",
        "\n",
        "del rolling_windows_train_balanced\n",
        "\n",
        "gc.collect()"
      ]
    },
    {
      "cell_type": "code",
      "execution_count": null,
      "metadata": {
        "colab": {
          "base_uri": "https://localhost:8080/"
        },
        "id": "nQyMuZ2Co3NH",
        "outputId": "f9375364-4f06-4483-c9b8-2c5e329c4f1e"
      },
      "outputs": [
        {
          "output_type": "stream",
          "name": "stderr",
          "text": [
            "WARNING:tsfresh.feature_extraction.settings:Dependency not available for matrix_profile, this feature will be disabled!\n",
            "Feature Extraction: 100%|██████████| 53000/53000 [00:10<00:00, 4926.75it/s]\n"
          ]
        },
        {
          "output_type": "stream",
          "name": "stdout",
          "text": [
            " Processed chunk 1 of 30 → (500, 1063)\n"
          ]
        },
        {
          "output_type": "stream",
          "name": "stderr",
          "text": [
            "WARNING:tsfresh.feature_extraction.settings:Dependency not available for matrix_profile, this feature will be disabled!\n",
            "Feature Extraction: 100%|██████████| 53000/53000 [00:10<00:00, 5122.06it/s]\n"
          ]
        },
        {
          "output_type": "stream",
          "name": "stdout",
          "text": [
            " Processed chunk 2 of 30 → (500, 1063)\n"
          ]
        },
        {
          "output_type": "stream",
          "name": "stderr",
          "text": [
            "WARNING:tsfresh.feature_extraction.settings:Dependency not available for matrix_profile, this feature will be disabled!\n",
            "Feature Extraction: 100%|██████████| 53000/53000 [00:10<00:00, 5023.04it/s]\n"
          ]
        },
        {
          "output_type": "stream",
          "name": "stdout",
          "text": [
            " Processed chunk 3 of 30 → (500, 1063)\n"
          ]
        },
        {
          "output_type": "stream",
          "name": "stderr",
          "text": [
            "WARNING:tsfresh.feature_extraction.settings:Dependency not available for matrix_profile, this feature will be disabled!\n",
            "Feature Extraction: 100%|██████████| 53000/53000 [00:12<00:00, 4407.11it/s]\n"
          ]
        },
        {
          "output_type": "stream",
          "name": "stdout",
          "text": [
            " Processed chunk 4 of 30 → (500, 1063)\n"
          ]
        },
        {
          "output_type": "stream",
          "name": "stderr",
          "text": [
            "WARNING:tsfresh.feature_extraction.settings:Dependency not available for matrix_profile, this feature will be disabled!\n",
            "Feature Extraction: 100%|██████████| 53000/53000 [00:15<00:00, 3393.08it/s]\n"
          ]
        },
        {
          "output_type": "stream",
          "name": "stdout",
          "text": [
            " Processed chunk 5 of 30 → (500, 1063)\n"
          ]
        },
        {
          "output_type": "stream",
          "name": "stderr",
          "text": [
            "WARNING:tsfresh.feature_extraction.settings:Dependency not available for matrix_profile, this feature will be disabled!\n",
            "Feature Extraction: 100%|██████████| 53000/53000 [00:10<00:00, 5081.28it/s]\n"
          ]
        },
        {
          "output_type": "stream",
          "name": "stdout",
          "text": [
            " Processed chunk 6 of 30 → (500, 1063)\n"
          ]
        },
        {
          "output_type": "stream",
          "name": "stderr",
          "text": [
            "WARNING:tsfresh.feature_extraction.settings:Dependency not available for matrix_profile, this feature will be disabled!\n",
            "Feature Extraction: 100%|██████████| 53000/53000 [00:10<00:00, 4988.20it/s]\n"
          ]
        },
        {
          "output_type": "stream",
          "name": "stdout",
          "text": [
            " Processed chunk 7 of 30 → (500, 1063)\n"
          ]
        },
        {
          "output_type": "stream",
          "name": "stderr",
          "text": [
            "WARNING:tsfresh.feature_extraction.settings:Dependency not available for matrix_profile, this feature will be disabled!\n",
            "Feature Extraction: 100%|██████████| 53000/53000 [00:10<00:00, 5003.21it/s]\n"
          ]
        },
        {
          "output_type": "stream",
          "name": "stdout",
          "text": [
            " Processed chunk 8 of 30 → (500, 1063)\n"
          ]
        },
        {
          "output_type": "stream",
          "name": "stderr",
          "text": [
            "WARNING:tsfresh.feature_extraction.settings:Dependency not available for matrix_profile, this feature will be disabled!\n",
            "Feature Extraction: 100%|██████████| 53000/53000 [00:10<00:00, 4972.75it/s]\n"
          ]
        },
        {
          "output_type": "stream",
          "name": "stdout",
          "text": [
            " Processed chunk 9 of 30 → (500, 1063)\n"
          ]
        },
        {
          "output_type": "stream",
          "name": "stderr",
          "text": [
            "WARNING:tsfresh.feature_extraction.settings:Dependency not available for matrix_profile, this feature will be disabled!\n",
            "Feature Extraction: 100%|██████████| 53000/53000 [00:10<00:00, 5071.83it/s]\n"
          ]
        },
        {
          "output_type": "stream",
          "name": "stdout",
          "text": [
            " Processed chunk 10 of 30 → (500, 1063)\n"
          ]
        },
        {
          "output_type": "stream",
          "name": "stderr",
          "text": [
            "WARNING:tsfresh.feature_extraction.settings:Dependency not available for matrix_profile, this feature will be disabled!\n",
            "Feature Extraction: 100%|██████████| 53000/53000 [00:10<00:00, 5071.04it/s]\n"
          ]
        },
        {
          "output_type": "stream",
          "name": "stdout",
          "text": [
            " Processed chunk 11 of 30 → (500, 1063)\n"
          ]
        },
        {
          "output_type": "stream",
          "name": "stderr",
          "text": [
            "WARNING:tsfresh.feature_extraction.settings:Dependency not available for matrix_profile, this feature will be disabled!\n",
            "Feature Extraction: 100%|██████████| 53000/53000 [00:10<00:00, 5028.29it/s]\n"
          ]
        },
        {
          "output_type": "stream",
          "name": "stdout",
          "text": [
            " Processed chunk 12 of 30 → (500, 1063)\n"
          ]
        },
        {
          "output_type": "stream",
          "name": "stderr",
          "text": [
            "WARNING:tsfresh.feature_extraction.settings:Dependency not available for matrix_profile, this feature will be disabled!\n",
            "Feature Extraction: 100%|██████████| 53000/53000 [00:10<00:00, 4911.40it/s]\n"
          ]
        },
        {
          "output_type": "stream",
          "name": "stdout",
          "text": [
            " Processed chunk 13 of 30 → (500, 1063)\n"
          ]
        },
        {
          "output_type": "stream",
          "name": "stderr",
          "text": [
            "WARNING:tsfresh.feature_extraction.settings:Dependency not available for matrix_profile, this feature will be disabled!\n",
            "Feature Extraction: 100%|██████████| 53000/53000 [00:11<00:00, 4586.17it/s]\n"
          ]
        },
        {
          "output_type": "stream",
          "name": "stdout",
          "text": [
            " Processed chunk 14 of 30 → (500, 1063)\n"
          ]
        },
        {
          "output_type": "stream",
          "name": "stderr",
          "text": [
            "WARNING:tsfresh.feature_extraction.settings:Dependency not available for matrix_profile, this feature will be disabled!\n",
            "Feature Extraction: 100%|██████████| 53000/53000 [00:10<00:00, 5057.25it/s]\n"
          ]
        },
        {
          "output_type": "stream",
          "name": "stdout",
          "text": [
            " Processed chunk 15 of 30 → (500, 1063)\n"
          ]
        },
        {
          "output_type": "stream",
          "name": "stderr",
          "text": [
            "WARNING:tsfresh.feature_extraction.settings:Dependency not available for matrix_profile, this feature will be disabled!\n",
            "Feature Extraction: 100%|██████████| 53000/53000 [00:11<00:00, 4718.54it/s]\n"
          ]
        },
        {
          "output_type": "stream",
          "name": "stdout",
          "text": [
            " Processed chunk 16 of 30 → (500, 1063)\n"
          ]
        },
        {
          "output_type": "stream",
          "name": "stderr",
          "text": [
            "WARNING:tsfresh.feature_extraction.settings:Dependency not available for matrix_profile, this feature will be disabled!\n",
            "Feature Extraction: 100%|██████████| 53000/53000 [00:10<00:00, 4942.46it/s]\n"
          ]
        },
        {
          "output_type": "stream",
          "name": "stdout",
          "text": [
            " Processed chunk 17 of 30 → (500, 1063)\n"
          ]
        },
        {
          "output_type": "stream",
          "name": "stderr",
          "text": [
            "WARNING:tsfresh.feature_extraction.settings:Dependency not available for matrix_profile, this feature will be disabled!\n",
            "Feature Extraction: 100%|██████████| 53000/53000 [00:11<00:00, 4577.03it/s]\n"
          ]
        },
        {
          "output_type": "stream",
          "name": "stdout",
          "text": [
            " Processed chunk 18 of 30 → (500, 1063)\n"
          ]
        },
        {
          "output_type": "stream",
          "name": "stderr",
          "text": [
            "WARNING:tsfresh.feature_extraction.settings:Dependency not available for matrix_profile, this feature will be disabled!\n",
            "Feature Extraction: 100%|██████████| 53000/53000 [00:10<00:00, 5091.06it/s]\n"
          ]
        },
        {
          "output_type": "stream",
          "name": "stdout",
          "text": [
            " Processed chunk 19 of 30 → (500, 1063)\n"
          ]
        },
        {
          "output_type": "stream",
          "name": "stderr",
          "text": [
            "WARNING:tsfresh.feature_extraction.settings:Dependency not available for matrix_profile, this feature will be disabled!\n",
            "Feature Extraction: 100%|██████████| 53000/53000 [00:11<00:00, 4592.23it/s]\n"
          ]
        },
        {
          "output_type": "stream",
          "name": "stdout",
          "text": [
            " Processed chunk 20 of 30 → (500, 1063)\n"
          ]
        },
        {
          "output_type": "stream",
          "name": "stderr",
          "text": [
            "WARNING:tsfresh.feature_extraction.settings:Dependency not available for matrix_profile, this feature will be disabled!\n",
            "Feature Extraction: 100%|██████████| 53000/53000 [00:10<00:00, 5002.26it/s]\n"
          ]
        },
        {
          "output_type": "stream",
          "name": "stdout",
          "text": [
            " Processed chunk 21 of 30 → (500, 1063)\n"
          ]
        },
        {
          "output_type": "stream",
          "name": "stderr",
          "text": [
            "WARNING:tsfresh.feature_extraction.settings:Dependency not available for matrix_profile, this feature will be disabled!\n",
            "Feature Extraction: 100%|██████████| 53000/53000 [00:11<00:00, 4614.81it/s]\n"
          ]
        },
        {
          "output_type": "stream",
          "name": "stdout",
          "text": [
            " Processed chunk 22 of 30 → (500, 1063)\n"
          ]
        },
        {
          "output_type": "stream",
          "name": "stderr",
          "text": [
            "WARNING:tsfresh.feature_extraction.settings:Dependency not available for matrix_profile, this feature will be disabled!\n",
            "Feature Extraction: 100%|██████████| 53000/53000 [00:10<00:00, 4882.73it/s]\n"
          ]
        },
        {
          "output_type": "stream",
          "name": "stdout",
          "text": [
            " Processed chunk 23 of 30 → (500, 1063)\n"
          ]
        },
        {
          "output_type": "stream",
          "name": "stderr",
          "text": [
            "WARNING:tsfresh.feature_extraction.settings:Dependency not available for matrix_profile, this feature will be disabled!\n",
            "Feature Extraction: 100%|██████████| 53000/53000 [00:12<00:00, 4184.44it/s]\n"
          ]
        },
        {
          "output_type": "stream",
          "name": "stdout",
          "text": [
            " Processed chunk 24 of 30 → (500, 1063)\n"
          ]
        },
        {
          "output_type": "stream",
          "name": "stderr",
          "text": [
            "WARNING:tsfresh.feature_extraction.settings:Dependency not available for matrix_profile, this feature will be disabled!\n",
            "Feature Extraction: 100%|██████████| 53000/53000 [00:10<00:00, 4925.92it/s]\n"
          ]
        },
        {
          "output_type": "stream",
          "name": "stdout",
          "text": [
            " Processed chunk 25 of 30 → (500, 1063)\n"
          ]
        },
        {
          "output_type": "stream",
          "name": "stderr",
          "text": [
            "WARNING:tsfresh.feature_extraction.settings:Dependency not available for matrix_profile, this feature will be disabled!\n",
            "Feature Extraction: 100%|██████████| 53000/53000 [00:11<00:00, 4659.04it/s]\n"
          ]
        },
        {
          "output_type": "stream",
          "name": "stdout",
          "text": [
            " Processed chunk 26 of 30 → (500, 1063)\n"
          ]
        },
        {
          "output_type": "stream",
          "name": "stderr",
          "text": [
            "WARNING:tsfresh.feature_extraction.settings:Dependency not available for matrix_profile, this feature will be disabled!\n",
            "Feature Extraction: 100%|██████████| 53000/53000 [00:10<00:00, 5031.45it/s]\n"
          ]
        },
        {
          "output_type": "stream",
          "name": "stdout",
          "text": [
            " Processed chunk 27 of 30 → (500, 1063)\n"
          ]
        },
        {
          "output_type": "stream",
          "name": "stderr",
          "text": [
            "WARNING:tsfresh.feature_extraction.settings:Dependency not available for matrix_profile, this feature will be disabled!\n",
            "Feature Extraction: 100%|██████████| 53000/53000 [00:10<00:00, 4912.56it/s]\n"
          ]
        },
        {
          "output_type": "stream",
          "name": "stdout",
          "text": [
            " Processed chunk 28 of 30 → (500, 1063)\n"
          ]
        },
        {
          "output_type": "stream",
          "name": "stderr",
          "text": [
            "WARNING:tsfresh.feature_extraction.settings:Dependency not available for matrix_profile, this feature will be disabled!\n",
            "Feature Extraction: 100%|██████████| 53000/53000 [00:10<00:00, 4890.34it/s]\n",
            "WARNING:tsfresh.feature_extraction.settings:Dependency not available for matrix_profile, this feature will be disabled!\n"
          ]
        },
        {
          "output_type": "stream",
          "name": "stdout",
          "text": [
            " Processed chunk 29 of 30 → (500, 1063)\n"
          ]
        },
        {
          "output_type": "stream",
          "name": "stderr",
          "text": [
            "Feature Extraction: 100%|██████████| 31694/31694 [00:06<00:00, 5015.79it/s]\n"
          ]
        },
        {
          "output_type": "stream",
          "name": "stdout",
          "text": [
            " Processed chunk 30 of 30 → (299, 1063)\n",
            "Val:   (14799, 1063)\n"
          ]
        },
        {
          "output_type": "execute_result",
          "data": {
            "text/plain": [
              "0"
            ]
          },
          "metadata": {},
          "execution_count": 110
        }
      ],
      "source": [
        "df_tsfresh_val = generate_tsfresh_features_chunked(rolling_windows_val_sampled, chunk_size=500)\n",
        "\n",
        "print(\"Val:  \", df_tsfresh_val.shape)\n",
        "\n",
        "del rolling_windows_val_sampled\n",
        "\n",
        "gc.collect()"
      ]
    },
    {
      "cell_type": "code",
      "execution_count": null,
      "metadata": {
        "colab": {
          "base_uri": "https://localhost:8080/"
        },
        "id": "KapXplOuo4YJ",
        "outputId": "b6eb8cb9-54bc-44c8-ef9e-a6cafe545bba"
      },
      "outputs": [
        {
          "output_type": "stream",
          "name": "stderr",
          "text": [
            "WARNING:tsfresh.feature_extraction.settings:Dependency not available for matrix_profile, this feature will be disabled!\n",
            "Feature Extraction: 100%|██████████| 53000/53000 [00:10<00:00, 5042.66it/s]\n"
          ]
        },
        {
          "output_type": "stream",
          "name": "stdout",
          "text": [
            " Processed chunk 1 of 30 → (500, 1063)\n"
          ]
        },
        {
          "output_type": "stream",
          "name": "stderr",
          "text": [
            "WARNING:tsfresh.feature_extraction.settings:Dependency not available for matrix_profile, this feature will be disabled!\n",
            "Feature Extraction: 100%|██████████| 53000/53000 [00:10<00:00, 4947.03it/s]\n"
          ]
        },
        {
          "output_type": "stream",
          "name": "stdout",
          "text": [
            " Processed chunk 2 of 30 → (500, 1063)\n"
          ]
        },
        {
          "output_type": "stream",
          "name": "stderr",
          "text": [
            "WARNING:tsfresh.feature_extraction.settings:Dependency not available for matrix_profile, this feature will be disabled!\n",
            "Feature Extraction: 100%|██████████| 53000/53000 [00:10<00:00, 5084.11it/s]\n"
          ]
        },
        {
          "output_type": "stream",
          "name": "stdout",
          "text": [
            " Processed chunk 3 of 30 → (500, 1063)\n"
          ]
        },
        {
          "output_type": "stream",
          "name": "stderr",
          "text": [
            "WARNING:tsfresh.feature_extraction.settings:Dependency not available for matrix_profile, this feature will be disabled!\n",
            "Feature Extraction: 100%|██████████| 53000/53000 [00:11<00:00, 4738.86it/s]\n"
          ]
        },
        {
          "output_type": "stream",
          "name": "stdout",
          "text": [
            " Processed chunk 4 of 30 → (500, 1063)\n"
          ]
        },
        {
          "output_type": "stream",
          "name": "stderr",
          "text": [
            "WARNING:tsfresh.feature_extraction.settings:Dependency not available for matrix_profile, this feature will be disabled!\n",
            "Feature Extraction: 100%|██████████| 53000/53000 [00:11<00:00, 4721.52it/s]\n"
          ]
        },
        {
          "output_type": "stream",
          "name": "stdout",
          "text": [
            " Processed chunk 5 of 30 → (500, 1063)\n"
          ]
        },
        {
          "output_type": "stream",
          "name": "stderr",
          "text": [
            "WARNING:tsfresh.feature_extraction.settings:Dependency not available for matrix_profile, this feature will be disabled!\n",
            "Feature Extraction: 100%|██████████| 53000/53000 [00:10<00:00, 4932.44it/s]\n"
          ]
        },
        {
          "output_type": "stream",
          "name": "stdout",
          "text": [
            " Processed chunk 6 of 30 → (500, 1063)\n"
          ]
        },
        {
          "output_type": "stream",
          "name": "stderr",
          "text": [
            "WARNING:tsfresh.feature_extraction.settings:Dependency not available for matrix_profile, this feature will be disabled!\n",
            "Feature Extraction: 100%|██████████| 53000/53000 [00:10<00:00, 5023.64it/s]\n"
          ]
        },
        {
          "output_type": "stream",
          "name": "stdout",
          "text": [
            " Processed chunk 7 of 30 → (500, 1063)\n"
          ]
        },
        {
          "output_type": "stream",
          "name": "stderr",
          "text": [
            "WARNING:tsfresh.feature_extraction.settings:Dependency not available for matrix_profile, this feature will be disabled!\n",
            "Feature Extraction: 100%|██████████| 53000/53000 [00:11<00:00, 4803.87it/s]\n"
          ]
        },
        {
          "output_type": "stream",
          "name": "stdout",
          "text": [
            " Processed chunk 8 of 30 → (500, 1063)\n"
          ]
        },
        {
          "output_type": "stream",
          "name": "stderr",
          "text": [
            "WARNING:tsfresh.feature_extraction.settings:Dependency not available for matrix_profile, this feature will be disabled!\n",
            "Feature Extraction: 100%|██████████| 53000/53000 [00:11<00:00, 4778.98it/s]\n"
          ]
        },
        {
          "output_type": "stream",
          "name": "stdout",
          "text": [
            " Processed chunk 9 of 30 → (500, 1063)\n"
          ]
        },
        {
          "output_type": "stream",
          "name": "stderr",
          "text": [
            "WARNING:tsfresh.feature_extraction.settings:Dependency not available for matrix_profile, this feature will be disabled!\n",
            "Feature Extraction: 100%|██████████| 53000/53000 [00:10<00:00, 5126.25it/s]\n"
          ]
        },
        {
          "output_type": "stream",
          "name": "stdout",
          "text": [
            " Processed chunk 10 of 30 → (500, 1063)\n"
          ]
        },
        {
          "output_type": "stream",
          "name": "stderr",
          "text": [
            "WARNING:tsfresh.feature_extraction.settings:Dependency not available for matrix_profile, this feature will be disabled!\n",
            "Feature Extraction: 100%|██████████| 53000/53000 [00:10<00:00, 5046.78it/s]\n"
          ]
        },
        {
          "output_type": "stream",
          "name": "stdout",
          "text": [
            " Processed chunk 11 of 30 → (500, 1063)\n"
          ]
        },
        {
          "output_type": "stream",
          "name": "stderr",
          "text": [
            "WARNING:tsfresh.feature_extraction.settings:Dependency not available for matrix_profile, this feature will be disabled!\n",
            "Feature Extraction: 100%|██████████| 53000/53000 [00:10<00:00, 5048.53it/s]\n"
          ]
        },
        {
          "output_type": "stream",
          "name": "stdout",
          "text": [
            " Processed chunk 12 of 30 → (500, 1063)\n"
          ]
        },
        {
          "output_type": "stream",
          "name": "stderr",
          "text": [
            "WARNING:tsfresh.feature_extraction.settings:Dependency not available for matrix_profile, this feature will be disabled!\n",
            "Feature Extraction: 100%|██████████| 53000/53000 [00:11<00:00, 4715.28it/s]\n"
          ]
        },
        {
          "output_type": "stream",
          "name": "stdout",
          "text": [
            " Processed chunk 13 of 30 → (500, 1063)\n"
          ]
        },
        {
          "output_type": "stream",
          "name": "stderr",
          "text": [
            "WARNING:tsfresh.feature_extraction.settings:Dependency not available for matrix_profile, this feature will be disabled!\n",
            "Feature Extraction: 100%|██████████| 53000/53000 [00:11<00:00, 4693.06it/s]\n"
          ]
        },
        {
          "output_type": "stream",
          "name": "stdout",
          "text": [
            " Processed chunk 14 of 30 → (500, 1063)\n"
          ]
        },
        {
          "output_type": "stream",
          "name": "stderr",
          "text": [
            "WARNING:tsfresh.feature_extraction.settings:Dependency not available for matrix_profile, this feature will be disabled!\n",
            "Feature Extraction: 100%|██████████| 53000/53000 [00:11<00:00, 4708.57it/s]\n"
          ]
        },
        {
          "output_type": "stream",
          "name": "stdout",
          "text": [
            " Processed chunk 15 of 30 → (500, 1063)\n"
          ]
        },
        {
          "output_type": "stream",
          "name": "stderr",
          "text": [
            "WARNING:tsfresh.feature_extraction.settings:Dependency not available for matrix_profile, this feature will be disabled!\n",
            "Feature Extraction: 100%|██████████| 53000/53000 [00:10<00:00, 4947.23it/s]\n"
          ]
        },
        {
          "output_type": "stream",
          "name": "stdout",
          "text": [
            " Processed chunk 16 of 30 → (500, 1063)\n"
          ]
        },
        {
          "output_type": "stream",
          "name": "stderr",
          "text": [
            "WARNING:tsfresh.feature_extraction.settings:Dependency not available for matrix_profile, this feature will be disabled!\n",
            "Feature Extraction: 100%|██████████| 53000/53000 [00:10<00:00, 5041.25it/s]\n"
          ]
        },
        {
          "output_type": "stream",
          "name": "stdout",
          "text": [
            " Processed chunk 17 of 30 → (500, 1063)\n"
          ]
        },
        {
          "output_type": "stream",
          "name": "stderr",
          "text": [
            "WARNING:tsfresh.feature_extraction.settings:Dependency not available for matrix_profile, this feature will be disabled!\n",
            "Feature Extraction: 100%|██████████| 53000/53000 [00:11<00:00, 4774.95it/s]\n"
          ]
        },
        {
          "output_type": "stream",
          "name": "stdout",
          "text": [
            " Processed chunk 18 of 30 → (500, 1063)\n"
          ]
        },
        {
          "output_type": "stream",
          "name": "stderr",
          "text": [
            "WARNING:tsfresh.feature_extraction.settings:Dependency not available for matrix_profile, this feature will be disabled!\n",
            "Feature Extraction: 100%|██████████| 53000/53000 [00:11<00:00, 4726.53it/s]\n"
          ]
        },
        {
          "output_type": "stream",
          "name": "stdout",
          "text": [
            " Processed chunk 19 of 30 → (500, 1063)\n"
          ]
        },
        {
          "output_type": "stream",
          "name": "stderr",
          "text": [
            "WARNING:tsfresh.feature_extraction.settings:Dependency not available for matrix_profile, this feature will be disabled!\n",
            "Feature Extraction: 100%|██████████| 53000/53000 [00:10<00:00, 4978.20it/s]\n"
          ]
        },
        {
          "output_type": "stream",
          "name": "stdout",
          "text": [
            " Processed chunk 20 of 30 → (500, 1063)\n"
          ]
        },
        {
          "output_type": "stream",
          "name": "stderr",
          "text": [
            "WARNING:tsfresh.feature_extraction.settings:Dependency not available for matrix_profile, this feature will be disabled!\n",
            "Feature Extraction: 100%|██████████| 53000/53000 [00:10<00:00, 4976.66it/s]\n"
          ]
        },
        {
          "output_type": "stream",
          "name": "stdout",
          "text": [
            " Processed chunk 21 of 30 → (500, 1063)\n"
          ]
        },
        {
          "output_type": "stream",
          "name": "stderr",
          "text": [
            "WARNING:tsfresh.feature_extraction.settings:Dependency not available for matrix_profile, this feature will be disabled!\n",
            "Feature Extraction: 100%|██████████| 53000/53000 [00:11<00:00, 4665.70it/s]\n"
          ]
        },
        {
          "output_type": "stream",
          "name": "stdout",
          "text": [
            " Processed chunk 22 of 30 → (500, 1063)\n"
          ]
        },
        {
          "output_type": "stream",
          "name": "stderr",
          "text": [
            "WARNING:tsfresh.feature_extraction.settings:Dependency not available for matrix_profile, this feature will be disabled!\n",
            "Feature Extraction: 100%|██████████| 53000/53000 [00:11<00:00, 4744.13it/s]\n"
          ]
        },
        {
          "output_type": "stream",
          "name": "stdout",
          "text": [
            " Processed chunk 23 of 30 → (500, 1063)\n"
          ]
        },
        {
          "output_type": "stream",
          "name": "stderr",
          "text": [
            "WARNING:tsfresh.feature_extraction.settings:Dependency not available for matrix_profile, this feature will be disabled!\n",
            "Feature Extraction: 100%|██████████| 53000/53000 [00:11<00:00, 4664.33it/s]\n"
          ]
        },
        {
          "output_type": "stream",
          "name": "stdout",
          "text": [
            " Processed chunk 24 of 30 → (500, 1063)\n"
          ]
        },
        {
          "output_type": "stream",
          "name": "stderr",
          "text": [
            "WARNING:tsfresh.feature_extraction.settings:Dependency not available for matrix_profile, this feature will be disabled!\n",
            "Feature Extraction: 100%|██████████| 53000/53000 [00:10<00:00, 5010.14it/s]\n"
          ]
        },
        {
          "output_type": "stream",
          "name": "stdout",
          "text": [
            " Processed chunk 25 of 30 → (500, 1063)\n"
          ]
        },
        {
          "output_type": "stream",
          "name": "stderr",
          "text": [
            "WARNING:tsfresh.feature_extraction.settings:Dependency not available for matrix_profile, this feature will be disabled!\n",
            "Feature Extraction: 100%|██████████| 53000/53000 [00:11<00:00, 4736.93it/s]\n"
          ]
        },
        {
          "output_type": "stream",
          "name": "stdout",
          "text": [
            " Processed chunk 26 of 30 → (500, 1063)\n"
          ]
        },
        {
          "output_type": "stream",
          "name": "stderr",
          "text": [
            "WARNING:tsfresh.feature_extraction.settings:Dependency not available for matrix_profile, this feature will be disabled!\n",
            "Feature Extraction: 100%|██████████| 53000/53000 [00:11<00:00, 4683.72it/s]\n"
          ]
        },
        {
          "output_type": "stream",
          "name": "stdout",
          "text": [
            " Processed chunk 27 of 30 → (500, 1063)\n"
          ]
        },
        {
          "output_type": "stream",
          "name": "stderr",
          "text": [
            "WARNING:tsfresh.feature_extraction.settings:Dependency not available for matrix_profile, this feature will be disabled!\n",
            "Feature Extraction: 100%|██████████| 53000/53000 [00:11<00:00, 4666.53it/s]\n"
          ]
        },
        {
          "output_type": "stream",
          "name": "stdout",
          "text": [
            " Processed chunk 28 of 30 → (500, 1063)\n"
          ]
        },
        {
          "output_type": "stream",
          "name": "stderr",
          "text": [
            "WARNING:tsfresh.feature_extraction.settings:Dependency not available for matrix_profile, this feature will be disabled!\n",
            "Feature Extraction: 100%|██████████| 53000/53000 [00:10<00:00, 5020.38it/s]\n",
            "WARNING:tsfresh.feature_extraction.settings:Dependency not available for matrix_profile, this feature will be disabled!\n"
          ]
        },
        {
          "output_type": "stream",
          "name": "stdout",
          "text": [
            " Processed chunk 29 of 30 → (500, 1063)\n"
          ]
        },
        {
          "output_type": "stream",
          "name": "stderr",
          "text": [
            "Feature Extraction: 100%|██████████| 31694/31694 [00:06<00:00, 4565.99it/s]\n"
          ]
        },
        {
          "output_type": "stream",
          "name": "stdout",
          "text": [
            " Processed chunk 30 of 30 → (299, 1063)\n",
            "Test:  (14799, 1063)\n"
          ]
        },
        {
          "output_type": "execute_result",
          "data": {
            "text/plain": [
              "0"
            ]
          },
          "metadata": {},
          "execution_count": 111
        }
      ],
      "source": [
        "df_tsfresh_test  = generate_tsfresh_features_chunked(rolling_windows_test_sampled, chunk_size = 500)\n",
        "\n",
        "print(\"Test: \", df_tsfresh_test.shape)\n",
        "\n",
        "del rolling_windows_test_sampled\n",
        "\n",
        "gc.collect()"
      ]
    },
    {
      "cell_type": "markdown",
      "source": [
        "## Feature Selection"
      ],
      "metadata": {
        "id": "kRj_cT5Nqvi4"
      }
    },
    {
      "cell_type": "code",
      "source": [
        "# Exclude columns\n",
        "exclude_cols = ['device_id', 'analysis_date', 'flag_call']\n",
        "\n",
        "# Assign X and y\n",
        "X_train_raw = df_tsfresh_train.drop(columns=exclude_cols)\n",
        "y_train = df_tsfresh_train['flag_call']\n",
        "\n",
        "# Low variance filter\n",
        "var_thresh = VarianceThreshold(threshold=0.01)\n",
        "X_train_var = var_thresh.fit_transform(X_train_raw)\n",
        "selected_var_cols = X_train_raw.columns[var_thresh.get_support()]\n",
        "\n",
        "# Free memory\n",
        "del X_train_raw\n",
        "gc.collect()"
      ],
      "metadata": {
        "id": "HXdk6CM8qfPV"
      },
      "execution_count": null,
      "outputs": []
    },
    {
      "cell_type": "code",
      "source": [
        "# Drop highly correlated features\n",
        "def drop_highly_correlated(df, cols, threshold=0.95):\n",
        "    corr_matrix = pd.DataFrame(df, columns=cols).corr().abs()\n",
        "    upper = corr_matrix.where(np.triu(np.ones(corr_matrix.shape), k=1).astype(bool))\n",
        "    drop_cols = [col for col in upper.columns if any(upper[col] > threshold)]\n",
        "    keep_cols = [col for col in cols if col not in drop_cols]\n",
        "    return df[:, [cols.get_loc(c) for c in keep_cols]], keep_cols\n",
        "\n",
        "X_train_uncorr, kept_cols = drop_highly_correlated(X_train_var, selected_var_cols)\n",
        "\n",
        "# Free memory\n",
        "del X_train_var\n",
        "gc.collect()"
      ],
      "metadata": {
        "id": "uo_DLC9IqiJG"
      },
      "execution_count": null,
      "outputs": []
    },
    {
      "cell_type": "code",
      "source": [
        "# Univariate feature selection\n",
        "k = min(100, X_train_uncorr.shape[1])\n",
        "kbest = SelectKBest(score_func=f_classif, k=k)\n",
        "X_train_kbest = kbest.fit_transform(X_train_uncorr, y_train)\n",
        "selected_kbest_cols = np.array(kept_cols)[kbest.get_support()]\n",
        "\n",
        "# Free memory\n",
        "del X_train_uncorr\n",
        "gc.collect()"
      ],
      "metadata": {
        "id": "rFSctxmKqlx9"
      },
      "execution_count": null,
      "outputs": []
    },
    {
      "cell_type": "code",
      "source": [
        "# XGBoost for final feature importance\n",
        "sample_size = min(50000, len(y_train))\n",
        "if len(y_train) > sample_size:\n",
        "    sample_idx = np.random.choice(len(y_train), sample_size, replace=False)\n",
        "    X_sample = X_train_kbest[sample_idx]\n",
        "    y_sample = y_train.iloc[sample_idx]\n",
        "else:\n",
        "    X_sample = X_train_kbest\n",
        "    y_sample = y_train\n",
        "\n",
        "# Parameters\n",
        "xgb_model = XGBClassifier(\n",
        "    n_estimators=100,\n",
        "    max_depth=5,\n",
        "    learning_rate=0.1,\n",
        "    subsample=0.8,\n",
        "    colsample_bytree=0.8,\n",
        "    random_state=42,\n",
        "    tree_method='hist',  # More memory efficient\n",
        "    scale_pos_weight=len(y_sample[y_sample==0])/len(y_sample[y_sample==1]) if sum(y_sample) > 0 else 1,\n",
        "    n_jobs=-1\n",
        ")\n",
        "\n",
        "xgb_model.fit(X_sample, y_sample)\n",
        "\n",
        "# Get feature importance\n",
        "importance = xgb_model.feature_importances_\n",
        "feat_importance_df = pd.DataFrame({\n",
        "    'feature': selected_kbest_cols,\n",
        "    'importance': importance\n",
        "}).sort_values('importance', ascending=False)\n",
        "\n",
        "# Select top 50 features\n",
        "top_n = 50\n",
        "top_features = feat_importance_df['feature'].head(top_n).tolist()\n",
        "\n",
        "# Final output\n",
        "X_train_final = pd.DataFrame(X_train_kbest, columns=selected_kbest_cols)[top_features]\n",
        "\n",
        "# Free remaining memory\n",
        "del X_train_kbest, X_sample\n",
        "gc.collect()"
      ],
      "metadata": {
        "colab": {
          "base_uri": "https://localhost:8080/"
        },
        "id": "dvi30KrXdWbT",
        "outputId": "5754cbdb-1db4-493e-d948-c89807a1f2c9"
      },
      "execution_count": null,
      "outputs": [
        {
          "output_type": "execute_result",
          "data": {
            "text/plain": [
              "40"
            ]
          },
          "metadata": {},
          "execution_count": 112
        }
      ]
    },
    {
      "cell_type": "code",
      "source": [
        "top_features"
      ],
      "metadata": {
        "colab": {
          "base_uri": "https://localhost:8080/"
        },
        "id": "fRu-AEPtaymv",
        "outputId": "6c13c0f9-274f-45d5-9eac-7cd708a3b3ac"
      },
      "execution_count": null,
      "outputs": [
        {
          "output_type": "execute_result",
          "data": {
            "text/plain": [
              "['reboots__standard_deviation',\n",
              " 'channel_changes_count_5__variance',\n",
              " 'sum_outage_time__standard_deviation',\n",
              " 'total_stations_per_hour__sum_values',\n",
              " 'regular_update_drop_count__standard_deviation',\n",
              " 'regular_update_drop_count__variance',\n",
              " 'delta_congested_sample_5_count.lag1__maximum',\n",
              " 'reboots__sum_values',\n",
              " 'good_active_samples_24__variance',\n",
              " 'delta_reboots__sum_values',\n",
              " 'band_usage_24_status__standard_deviation',\n",
              " 'total_stations_per_hour__median',\n",
              " 'congested_sample_5_count.lag1__standard_deviation',\n",
              " 'delta_good_samples_24__maximum',\n",
              " 'sum_outage_time.lag1__standard_deviation',\n",
              " 'uptime_in_minutes__sum_values',\n",
              " 'outage_event_count.lag1__standard_deviation',\n",
              " 'delta_congested_sample_5_count.lag1__standard_deviation',\n",
              " 'total_stations_per_hour.lag1__sum_values',\n",
              " 'regular_update_drop_count__sum_values',\n",
              " 'active_poor_ratio_24__sum_values',\n",
              " 'channel_changes_count_5__sum_values',\n",
              " 'uptime_in_minutes__standard_deviation',\n",
              " 'poor_samples_5__variance',\n",
              " 'delta_good_samples_5__maximum',\n",
              " 'sample_active_24_count__sum_values',\n",
              " 'delta_congested_sample_24_count__standard_deviation',\n",
              " 'delta_channel_changes_count_24__minimum',\n",
              " 'congested_sample_24_count__variance',\n",
              " 'delta_congested_sample_24_count__variance',\n",
              " 'delta_good_samples_24__standard_deviation',\n",
              " 'delta_congested_sample_5_count__maximum',\n",
              " 'regular_update_drop_count.lag1__sum_values',\n",
              " 'regular_update_drop_count.lag1__standard_deviation',\n",
              " 'delta_total_samples_5__maximum',\n",
              " 'band_usage_24_status.lag1__standard_deviation',\n",
              " 'delta_good_samples_24__sum_values',\n",
              " 'delta_good_samples_24__variance',\n",
              " 'sample_active_24_count__standard_deviation',\n",
              " 'free_memory__standard_deviation',\n",
              " 'delta_mem_usage__sum_values',\n",
              " 'delta_total_samples_5__sum_values',\n",
              " 'total_samples_24__standard_deviation',\n",
              " 'sample_active_24_count__variance',\n",
              " 'total_stations_per_hour.lag1__variance',\n",
              " 'sum_outage_time__sum_values',\n",
              " 'channel_changes_count_5.lag1__median',\n",
              " 'good_active_samples_24__standard_deviation',\n",
              " 'total_stations_per_hour.lag1__median',\n",
              " 'good_samples_24__standard_deviation']"
            ]
          },
          "metadata": {},
          "execution_count": 113
        }
      ]
    },
    {
      "cell_type": "markdown",
      "metadata": {
        "id": "ghqU47hvfdOD"
      },
      "source": [
        "## Anomaly Detection Model (Unsupervised)"
      ]
    },
    {
      "cell_type": "code",
      "source": [
        "# Use selected features from feature selection\n",
        "# Assuming top_features contains the selected features from previous step\n",
        "feature_cols = top_features\n",
        "exclude_cols = ['device_id', 'analysis_date', 'flag_call']\n",
        "\n",
        "# Get common columns across all datasets\n",
        "common_cols = list(set(feature_cols) - set(exclude_cols))\n",
        "common_cols = [col for col in common_cols if col in df_tsfresh_train.columns and\n",
        "               col in df_tsfresh_val.columns and\n",
        "               col in df_tsfresh_test.columns]\n",
        "\n",
        "# Normalize data\n",
        "scaler = StandardScaler()\n",
        "\n",
        "# Process data in chunks if large\n",
        "def scale_data(df, cols, scaler, fit=False):\n",
        "    if fit:\n",
        "        scaler.fit(df[cols])\n",
        "    return scaler.transform(df[cols])\n",
        "\n",
        "X_train = scale_data(df_tsfresh_train, common_cols, scaler, fit=True)\n",
        "X_val = scale_data(df_tsfresh_val, common_cols, scaler)\n",
        "X_test = scale_data(df_tsfresh_test, common_cols, scaler)\n",
        "\n",
        "# Get labels\n",
        "y_train = df_tsfresh_train['flag_call'].values\n",
        "y_val = df_tsfresh_val['flag_call'].values\n",
        "y_test = df_tsfresh_test['flag_call'].values\n",
        "\n",
        "# Autoencoder Model\n",
        "input_dim = X_train.shape[1]\n",
        "input_layer = Input(shape=(input_dim,))\n",
        "encoded = Dense(32, activation='relu')(input_layer)\n",
        "encoded = Dense(16, activation='relu')(encoded)\n",
        "decoded = Dense(32, activation='relu')(encoded)\n",
        "output_layer = Dense(input_dim, activation='linear')(decoded)\n",
        "\n",
        "autoencoder = Model(inputs=input_layer, outputs=output_layer)\n",
        "autoencoder.compile(optimizer='adam', loss='mse')\n",
        "\n",
        "# Train only on negative class\n",
        "X_train_neg = X_train[y_train == 0]\n",
        "\n",
        "# Early stopping and reduced epochs\n",
        "early_stop = EarlyStopping(monitor='val_loss', patience=5, restore_best_weights=True)\n",
        "history = autoencoder.fit(\n",
        "    X_train_neg, X_train_neg,\n",
        "    epochs=50,\n",
        "    batch_size=256,\n",
        "    shuffle=True,\n",
        "    validation_split=0.1,\n",
        "    callbacks=[early_stop],\n",
        "    verbose=1\n",
        ")"
      ],
      "metadata": {
        "colab": {
          "base_uri": "https://localhost:8080/"
        },
        "id": "hfch0H9RhUPg",
        "outputId": "923a513c-eaa3-4786-81d2-2b9cd51c385b"
      },
      "execution_count": null,
      "outputs": [
        {
          "output_type": "stream",
          "name": "stdout",
          "text": [
            "Epoch 1/50\n",
            "\u001b[1m65/65\u001b[0m \u001b[32m━━━━━━━━━━━━━━━━━━━━\u001b[0m\u001b[37m\u001b[0m \u001b[1m1s\u001b[0m 5ms/step - loss: 0.9908 - val_loss: 0.7335\n",
            "Epoch 2/50\n",
            "\u001b[1m65/65\u001b[0m \u001b[32m━━━━━━━━━━━━━━━━━━━━\u001b[0m\u001b[37m\u001b[0m \u001b[1m0s\u001b[0m 3ms/step - loss: 0.8218 - val_loss: 0.5730\n",
            "Epoch 3/50\n",
            "\u001b[1m65/65\u001b[0m \u001b[32m━━━━━━━━━━━━━━━━━━━━\u001b[0m\u001b[37m\u001b[0m \u001b[1m0s\u001b[0m 3ms/step - loss: 0.6099 - val_loss: 0.4748\n",
            "Epoch 4/50\n",
            "\u001b[1m65/65\u001b[0m \u001b[32m━━━━━━━━━━━━━━━━━━━━\u001b[0m\u001b[37m\u001b[0m \u001b[1m0s\u001b[0m 3ms/step - loss: 0.4849 - val_loss: 0.3997\n",
            "Epoch 5/50\n",
            "\u001b[1m65/65\u001b[0m \u001b[32m━━━━━━━━━━━━━━━━━━━━\u001b[0m\u001b[37m\u001b[0m \u001b[1m0s\u001b[0m 3ms/step - loss: 0.4350 - val_loss: 0.3488\n",
            "Epoch 6/50\n",
            "\u001b[1m65/65\u001b[0m \u001b[32m━━━━━━━━━━━━━━━━━━━━\u001b[0m\u001b[37m\u001b[0m \u001b[1m0s\u001b[0m 3ms/step - loss: 0.4157 - val_loss: 0.3167\n",
            "Epoch 7/50\n",
            "\u001b[1m65/65\u001b[0m \u001b[32m━━━━━━━━━━━━━━━━━━━━\u001b[0m\u001b[37m\u001b[0m \u001b[1m0s\u001b[0m 3ms/step - loss: 0.3499 - val_loss: 0.2944\n",
            "Epoch 8/50\n",
            "\u001b[1m65/65\u001b[0m \u001b[32m━━━━━━━━━━━━━━━━━━━━\u001b[0m\u001b[37m\u001b[0m \u001b[1m0s\u001b[0m 3ms/step - loss: 0.3261 - val_loss: 0.2742\n",
            "Epoch 9/50\n",
            "\u001b[1m65/65\u001b[0m \u001b[32m━━━━━━━━━━━━━━━━━━━━\u001b[0m\u001b[37m\u001b[0m \u001b[1m0s\u001b[0m 3ms/step - loss: 0.2999 - val_loss: 0.2582\n",
            "Epoch 10/50\n",
            "\u001b[1m65/65\u001b[0m \u001b[32m━━━━━━━━━━━━━━━━━━━━\u001b[0m\u001b[37m\u001b[0m \u001b[1m0s\u001b[0m 3ms/step - loss: 0.2737 - val_loss: 0.2423\n",
            "Epoch 11/50\n",
            "\u001b[1m65/65\u001b[0m \u001b[32m━━━━━━━━━━━━━━━━━━━━\u001b[0m\u001b[37m\u001b[0m \u001b[1m0s\u001b[0m 3ms/step - loss: 0.2705 - val_loss: 0.2290\n",
            "Epoch 12/50\n",
            "\u001b[1m65/65\u001b[0m \u001b[32m━━━━━━━━━━━━━━━━━━━━\u001b[0m\u001b[37m\u001b[0m \u001b[1m0s\u001b[0m 3ms/step - loss: 0.2535 - val_loss: 0.2155\n",
            "Epoch 13/50\n",
            "\u001b[1m65/65\u001b[0m \u001b[32m━━━━━━━━━━━━━━━━━━━━\u001b[0m\u001b[37m\u001b[0m \u001b[1m0s\u001b[0m 3ms/step - loss: 0.2681 - val_loss: 0.2067\n",
            "Epoch 14/50\n",
            "\u001b[1m65/65\u001b[0m \u001b[32m━━━━━━━━━━━━━━━━━━━━\u001b[0m\u001b[37m\u001b[0m \u001b[1m0s\u001b[0m 3ms/step - loss: 0.2318 - val_loss: 0.1981\n",
            "Epoch 15/50\n",
            "\u001b[1m65/65\u001b[0m \u001b[32m━━━━━━━━━━━━━━━━━━━━\u001b[0m\u001b[37m\u001b[0m \u001b[1m0s\u001b[0m 3ms/step - loss: 0.2266 - val_loss: 0.1885\n",
            "Epoch 16/50\n",
            "\u001b[1m65/65\u001b[0m \u001b[32m━━━━━━━━━━━━━━━━━━━━\u001b[0m\u001b[37m\u001b[0m \u001b[1m0s\u001b[0m 3ms/step - loss: 0.2257 - val_loss: 0.1813\n",
            "Epoch 17/50\n",
            "\u001b[1m65/65\u001b[0m \u001b[32m━━━━━━━━━━━━━━━━━━━━\u001b[0m\u001b[37m\u001b[0m \u001b[1m0s\u001b[0m 3ms/step - loss: 0.2057 - val_loss: 0.1760\n",
            "Epoch 18/50\n",
            "\u001b[1m65/65\u001b[0m \u001b[32m━━━━━━━━━━━━━━━━━━━━\u001b[0m\u001b[37m\u001b[0m \u001b[1m0s\u001b[0m 3ms/step - loss: 0.1941 - val_loss: 0.1726\n",
            "Epoch 19/50\n",
            "\u001b[1m65/65\u001b[0m \u001b[32m━━━━━━━━━━━━━━━━━━━━\u001b[0m\u001b[37m\u001b[0m \u001b[1m0s\u001b[0m 3ms/step - loss: 0.1962 - val_loss: 0.1668\n",
            "Epoch 20/50\n",
            "\u001b[1m65/65\u001b[0m \u001b[32m━━━━━━━━━━━━━━━━━━━━\u001b[0m\u001b[37m\u001b[0m \u001b[1m0s\u001b[0m 3ms/step - loss: 0.1932 - val_loss: 0.1658\n",
            "Epoch 21/50\n",
            "\u001b[1m65/65\u001b[0m \u001b[32m━━━━━━━━━━━━━━━━━━━━\u001b[0m\u001b[37m\u001b[0m \u001b[1m0s\u001b[0m 3ms/step - loss: 0.1679 - val_loss: 0.1626\n",
            "Epoch 22/50\n",
            "\u001b[1m65/65\u001b[0m \u001b[32m━━━━━━━━━━━━━━━━━━━━\u001b[0m\u001b[37m\u001b[0m \u001b[1m0s\u001b[0m 3ms/step - loss: 0.1706 - val_loss: 0.1583\n",
            "Epoch 23/50\n",
            "\u001b[1m65/65\u001b[0m \u001b[32m━━━━━━━━━━━━━━━━━━━━\u001b[0m\u001b[37m\u001b[0m \u001b[1m0s\u001b[0m 3ms/step - loss: 0.1688 - val_loss: 0.1559\n",
            "Epoch 24/50\n",
            "\u001b[1m65/65\u001b[0m \u001b[32m━━━━━━━━━━━━━━━━━━━━\u001b[0m\u001b[37m\u001b[0m \u001b[1m0s\u001b[0m 3ms/step - loss: 0.1887 - val_loss: 0.1510\n",
            "Epoch 25/50\n",
            "\u001b[1m65/65\u001b[0m \u001b[32m━━━━━━━━━━━━━━━━━━━━\u001b[0m\u001b[37m\u001b[0m \u001b[1m0s\u001b[0m 3ms/step - loss: 0.1728 - val_loss: 0.1499\n",
            "Epoch 26/50\n",
            "\u001b[1m65/65\u001b[0m \u001b[32m━━━━━━━━━━━━━━━━━━━━\u001b[0m\u001b[37m\u001b[0m \u001b[1m0s\u001b[0m 3ms/step - loss: 0.1620 - val_loss: 0.1487\n",
            "Epoch 27/50\n",
            "\u001b[1m65/65\u001b[0m \u001b[32m━━━━━━━━━━━━━━━━━━━━\u001b[0m\u001b[37m\u001b[0m \u001b[1m0s\u001b[0m 3ms/step - loss: 0.1697 - val_loss: 0.1478\n",
            "Epoch 28/50\n",
            "\u001b[1m65/65\u001b[0m \u001b[32m━━━━━━━━━━━━━━━━━━━━\u001b[0m\u001b[37m\u001b[0m \u001b[1m0s\u001b[0m 3ms/step - loss: 0.1569 - val_loss: 0.1450\n",
            "Epoch 29/50\n",
            "\u001b[1m65/65\u001b[0m \u001b[32m━━━━━━━━━━━━━━━━━━━━\u001b[0m\u001b[37m\u001b[0m \u001b[1m0s\u001b[0m 3ms/step - loss: 0.1538 - val_loss: 0.1449\n",
            "Epoch 30/50\n",
            "\u001b[1m65/65\u001b[0m \u001b[32m━━━━━━━━━━━━━━━━━━━━\u001b[0m\u001b[37m\u001b[0m \u001b[1m0s\u001b[0m 3ms/step - loss: 0.1674 - val_loss: 0.1417\n",
            "Epoch 31/50\n",
            "\u001b[1m65/65\u001b[0m \u001b[32m━━━━━━━━━━━━━━━━━━━━\u001b[0m\u001b[37m\u001b[0m \u001b[1m0s\u001b[0m 3ms/step - loss: 0.1655 - val_loss: 0.1400\n",
            "Epoch 32/50\n",
            "\u001b[1m65/65\u001b[0m \u001b[32m━━━━━━━━━━━━━━━━━━━━\u001b[0m\u001b[37m\u001b[0m \u001b[1m0s\u001b[0m 3ms/step - loss: 0.1504 - val_loss: 0.1382\n",
            "Epoch 33/50\n",
            "\u001b[1m65/65\u001b[0m \u001b[32m━━━━━━━━━━━━━━━━━━━━\u001b[0m\u001b[37m\u001b[0m \u001b[1m0s\u001b[0m 3ms/step - loss: 0.1521 - val_loss: 0.1363\n",
            "Epoch 34/50\n",
            "\u001b[1m65/65\u001b[0m \u001b[32m━━━━━━━━━━━━━━━━━━━━\u001b[0m\u001b[37m\u001b[0m \u001b[1m0s\u001b[0m 3ms/step - loss: 0.1522 - val_loss: 0.1400\n",
            "Epoch 35/50\n",
            "\u001b[1m65/65\u001b[0m \u001b[32m━━━━━━━━━━━━━━━━━━━━\u001b[0m\u001b[37m\u001b[0m \u001b[1m0s\u001b[0m 3ms/step - loss: 0.1463 - val_loss: 0.1352\n",
            "Epoch 36/50\n",
            "\u001b[1m65/65\u001b[0m \u001b[32m━━━━━━━━━━━━━━━━━━━━\u001b[0m\u001b[37m\u001b[0m \u001b[1m0s\u001b[0m 3ms/step - loss: 0.1414 - val_loss: 0.1385\n",
            "Epoch 37/50\n",
            "\u001b[1m65/65\u001b[0m \u001b[32m━━━━━━━━━━━━━━━━━━━━\u001b[0m\u001b[37m\u001b[0m \u001b[1m0s\u001b[0m 3ms/step - loss: 0.1526 - val_loss: 0.1338\n",
            "Epoch 38/50\n",
            "\u001b[1m65/65\u001b[0m \u001b[32m━━━━━━━━━━━━━━━━━━━━\u001b[0m\u001b[37m\u001b[0m \u001b[1m0s\u001b[0m 3ms/step - loss: 0.1498 - val_loss: 0.1323\n",
            "Epoch 39/50\n",
            "\u001b[1m65/65\u001b[0m \u001b[32m━━━━━━━━━━━━━━━━━━━━\u001b[0m\u001b[37m\u001b[0m \u001b[1m0s\u001b[0m 3ms/step - loss: 0.1404 - val_loss: 0.1324\n",
            "Epoch 40/50\n",
            "\u001b[1m65/65\u001b[0m \u001b[32m━━━━━━━━━━━━━━━━━━━━\u001b[0m\u001b[37m\u001b[0m \u001b[1m0s\u001b[0m 3ms/step - loss: 0.1442 - val_loss: 0.1318\n",
            "Epoch 41/50\n",
            "\u001b[1m65/65\u001b[0m \u001b[32m━━━━━━━━━━━━━━━━━━━━\u001b[0m\u001b[37m\u001b[0m \u001b[1m0s\u001b[0m 3ms/step - loss: 0.1407 - val_loss: 0.1297\n",
            "Epoch 42/50\n",
            "\u001b[1m65/65\u001b[0m \u001b[32m━━━━━━━━━━━━━━━━━━━━\u001b[0m\u001b[37m\u001b[0m \u001b[1m0s\u001b[0m 3ms/step - loss: 0.1362 - val_loss: 0.1287\n",
            "Epoch 43/50\n",
            "\u001b[1m65/65\u001b[0m \u001b[32m━━━━━━━━━━━━━━━━━━━━\u001b[0m\u001b[37m\u001b[0m \u001b[1m0s\u001b[0m 3ms/step - loss: 0.1478 - val_loss: 0.1284\n",
            "Epoch 44/50\n",
            "\u001b[1m65/65\u001b[0m \u001b[32m━━━━━━━━━━━━━━━━━━━━\u001b[0m\u001b[37m\u001b[0m \u001b[1m0s\u001b[0m 3ms/step - loss: 0.1342 - val_loss: 0.1272\n",
            "Epoch 45/50\n",
            "\u001b[1m65/65\u001b[0m \u001b[32m━━━━━━━━━━━━━━━━━━━━\u001b[0m\u001b[37m\u001b[0m \u001b[1m0s\u001b[0m 3ms/step - loss: 0.1432 - val_loss: 0.1271\n",
            "Epoch 46/50\n",
            "\u001b[1m65/65\u001b[0m \u001b[32m━━━━━━━━━━━━━━━━━━━━\u001b[0m\u001b[37m\u001b[0m \u001b[1m0s\u001b[0m 3ms/step - loss: 0.1341 - val_loss: 0.1253\n",
            "Epoch 47/50\n",
            "\u001b[1m65/65\u001b[0m \u001b[32m━━━━━━━━━━━━━━━━━━━━\u001b[0m\u001b[37m\u001b[0m \u001b[1m0s\u001b[0m 3ms/step - loss: 0.1369 - val_loss: 0.1244\n",
            "Epoch 48/50\n",
            "\u001b[1m65/65\u001b[0m \u001b[32m━━━━━━━━━━━━━━━━━━━━\u001b[0m\u001b[37m\u001b[0m \u001b[1m0s\u001b[0m 3ms/step - loss: 0.1371 - val_loss: 0.1242\n",
            "Epoch 49/50\n",
            "\u001b[1m65/65\u001b[0m \u001b[32m━━━━━━━━━━━━━━━━━━━━\u001b[0m\u001b[37m\u001b[0m \u001b[1m0s\u001b[0m 3ms/step - loss: 0.1374 - val_loss: 0.1245\n",
            "Epoch 50/50\n",
            "\u001b[1m65/65\u001b[0m \u001b[32m━━━━━━━━━━━━━━━━━━━━\u001b[0m\u001b[37m\u001b[0m \u001b[1m0s\u001b[0m 3ms/step - loss: 0.1361 - val_loss: 0.1218\n"
          ]
        }
      ]
    },
    {
      "cell_type": "code",
      "source": [
        "# Evaluation\n",
        "def calculate_reconstruction_errors(model, data):\n",
        "    reconstructions = model.predict(data, batch_size=1024)\n",
        "    return np.mean(np.power(data - reconstructions, 2), axis=1)\n",
        "\n",
        "train_errors = calculate_reconstruction_errors(autoencoder, X_train)\n",
        "val_errors = calculate_reconstruction_errors(autoencoder, X_val)\n",
        "test_errors = calculate_reconstruction_errors(autoencoder, X_test)\n",
        "\n",
        "def evaluate_model(errors, y_true, k_fraction=0.05):\n",
        "    precision, recall, _ = precision_recall_curve(y_true, -errors)\n",
        "    prauc = auc(recall, precision)\n",
        "\n",
        "    k = max(1, int(len(errors) * k_fraction))  # Ensure at least 1 sample\n",
        "    threshold = np.partition(errors, -k)[-k]\n",
        "\n",
        "    y_pred = (errors >= threshold).astype(int)\n",
        "\n",
        "    return {\n",
        "        'prauc': prauc,\n",
        "        'precision@k': precision_score(y_true, y_pred, zero_division=0),\n",
        "        'recall@k': recall_score(y_true, y_pred, zero_division=0),\n",
        "        'f1@k': f1_score(y_true, y_pred, zero_division=0),\n",
        "        'threshold': threshold,\n",
        "        'k': k,\n",
        "        'k_fraction': k_fraction\n",
        "    }\n",
        "\n",
        "# Evaluate\n",
        "train_metrics = evaluate_model(train_errors, y_train)\n",
        "val_metrics = evaluate_model(val_errors, y_val)\n",
        "test_metrics = evaluate_model(test_errors, y_test)\n",
        "\n",
        "# Print results\n",
        "def print_metrics(metrics, dataset_name):\n",
        "    print(f\"\\n=== {dataset_name} Metrics ===\")\n",
        "    print(f\"PRAUC: {metrics['prauc']:.4f}\")\n",
        "    print(f\"Precision@{metrics['k']} ({metrics['k_fraction']*100:.1f}%): {metrics['precision@k']:.4f}\")\n",
        "    print(f\"Recall@{metrics['k']} ({metrics['k_fraction']*100:.1f}%): {metrics['recall@k']:.4f}\")\n",
        "    print(f\"F1-Score@{metrics['k']} ({metrics['k_fraction']*100:.1f}%): {metrics['f1@k']:.4f}\")\n",
        "\n",
        "print_metrics(train_metrics, \"Training\")\n",
        "print_metrics(val_metrics, \"Validation\")\n",
        "print_metrics(test_metrics, \"Test\")"
      ],
      "metadata": {
        "id": "f9ZECU5mhm-C",
        "outputId": "b5ec0efc-3377-472a-d763-5c2971caa097",
        "colab": {
          "base_uri": "https://localhost:8080/"
        }
      },
      "execution_count": null,
      "outputs": [
        {
          "output_type": "stream",
          "name": "stdout",
          "text": [
            "\u001b[1m19/19\u001b[0m \u001b[32m━━━━━━━━━━━━━━━━━━━━\u001b[0m\u001b[37m\u001b[0m \u001b[1m0s\u001b[0m 4ms/step\n",
            "\u001b[1m15/15\u001b[0m \u001b[32m━━━━━━━━━━━━━━━━━━━━\u001b[0m\u001b[37m\u001b[0m \u001b[1m0s\u001b[0m 3ms/step \n",
            "\u001b[1m15/15\u001b[0m \u001b[32m━━━━━━━━━━━━━━━━━━━━\u001b[0m\u001b[37m\u001b[0m \u001b[1m0s\u001b[0m 2ms/step \n",
            "\n",
            "=== Training Metrics ===\n",
            "PRAUC: 0.0067\n",
            "Precision@929 (5.0%): 0.0301\n",
            "Recall@929 (5.0%): 0.1687\n",
            "F1-Score@929 (5.0%): 0.0511\n",
            "\n",
            "=== Validation Metrics ===\n",
            "PRAUC: 0.0007\n",
            "Precision@739 (5.0%): 0.0027\n",
            "Recall@739 (5.0%): 0.1250\n",
            "F1-Score@739 (5.0%): 0.0053\n",
            "\n",
            "=== Test Metrics ===\n",
            "PRAUC: 0.0004\n",
            "Precision@739 (5.0%): 0.0014\n",
            "Recall@739 (5.0%): 0.1111\n",
            "F1-Score@739 (5.0%): 0.0027\n"
          ]
        }
      ]
    },
    {
      "cell_type": "code",
      "execution_count": null,
      "metadata": {
        "colab": {
          "base_uri": "https://localhost:8080/"
        },
        "id": "Ah9zS5RvgUiM",
        "outputId": "ab511639-ef82-4b34-9a0e-e5de75071e6e"
      },
      "outputs": [
        {
          "output_type": "stream",
          "name": "stdout",
          "text": [
            "\u001b[1m463/463\u001b[0m \u001b[32m━━━━━━━━━━━━━━━━━━━━\u001b[0m\u001b[37m\u001b[0m \u001b[1m1s\u001b[0m 1ms/step\n",
            "\u001b[1m463/463\u001b[0m \u001b[32m━━━━━━━━━━━━━━━━━━━━\u001b[0m\u001b[37m\u001b[0m \u001b[1m1s\u001b[0m 1ms/step\n"
          ]
        }
      ],
      "source": [
        "# Reconstruction error\n",
        "val_errors = np.mean(np.square(X_val - autoencoder.predict(X_val)), axis=1)\n",
        "test_errors = np.mean(np.square(X_test - autoencoder.predict(X_test)), axis=1)\n",
        "\n",
        "# Attach to original data\n",
        "df_tsfresh_val['ae_score'] = val_errors\n",
        "df_tsfresh_test['ae_score'] = test_errors\n"
      ]
    },
    {
      "cell_type": "code",
      "execution_count": null,
      "metadata": {
        "colab": {
          "base_uri": "https://localhost:8080/"
        },
        "id": "7IRazqVcgWnQ",
        "outputId": "6417eced-6208-4f5e-e342-16aa146d6e95"
      },
      "outputs": [
        {
          "output_type": "stream",
          "name": "stdout",
          "text": [
            "Precision@100: 0.0000 (0/100)\n"
          ]
        }
      ],
      "source": [
        "# Ranking\n",
        "df_tsfresh_test['ae_rank'] = df_tsfresh_test['ae_score'].rank(ascending=False)\n",
        "\n",
        "# Precision@k\n",
        "k = 100\n",
        "top_k = df_tsfresh_test.nsmallest(k, 'ae_rank')\n",
        "true_pos = top_k['flag_call'].sum()\n",
        "precision_at_k = true_pos / k\n",
        "\n",
        "print(f\"Precision@{k}: {precision_at_k:.4f} ({true_pos}/{k})\")\n"
      ]
    },
    {
      "cell_type": "code",
      "execution_count": null,
      "metadata": {
        "colab": {
          "base_uri": "https://localhost:8080/",
          "height": 53
        },
        "id": "jkClwdvJhLRK",
        "outputId": "9d777130-0441-4c1f-892a-5bd011c1aad5"
      },
      "outputs": [
        {
          "output_type": "execute_result",
          "data": {
            "text/plain": [
              "Empty DataFrame\n",
              "Columns: [device_id, analysis_date, ae_score, ae_rank, flag_call]\n",
              "Index: []"
            ],
            "text/html": [
              "\n",
              "  <div id=\"df-a1959b67-d597-446e-9488-0633d31938ea\" class=\"colab-df-container\">\n",
              "    <div>\n",
              "<style scoped>\n",
              "    .dataframe tbody tr th:only-of-type {\n",
              "        vertical-align: middle;\n",
              "    }\n",
              "\n",
              "    .dataframe tbody tr th {\n",
              "        vertical-align: top;\n",
              "    }\n",
              "\n",
              "    .dataframe thead th {\n",
              "        text-align: right;\n",
              "    }\n",
              "</style>\n",
              "<table border=\"1\" class=\"dataframe\">\n",
              "  <thead>\n",
              "    <tr style=\"text-align: right;\">\n",
              "      <th></th>\n",
              "      <th>device_id</th>\n",
              "      <th>analysis_date</th>\n",
              "      <th>ae_score</th>\n",
              "      <th>ae_rank</th>\n",
              "      <th>flag_call</th>\n",
              "    </tr>\n",
              "  </thead>\n",
              "  <tbody>\n",
              "  </tbody>\n",
              "</table>\n",
              "</div>\n",
              "    <div class=\"colab-df-buttons\">\n",
              "\n",
              "  <div class=\"colab-df-container\">\n",
              "    <button class=\"colab-df-convert\" onclick=\"convertToInteractive('df-a1959b67-d597-446e-9488-0633d31938ea')\"\n",
              "            title=\"Convert this dataframe to an interactive table.\"\n",
              "            style=\"display:none;\">\n",
              "\n",
              "  <svg xmlns=\"http://www.w3.org/2000/svg\" height=\"24px\" viewBox=\"0 -960 960 960\">\n",
              "    <path d=\"M120-120v-720h720v720H120Zm60-500h600v-160H180v160Zm220 220h160v-160H400v160Zm0 220h160v-160H400v160ZM180-400h160v-160H180v160Zm440 0h160v-160H620v160ZM180-180h160v-160H180v160Zm440 0h160v-160H620v160Z\"/>\n",
              "  </svg>\n",
              "    </button>\n",
              "\n",
              "  <style>\n",
              "    .colab-df-container {\n",
              "      display:flex;\n",
              "      gap: 12px;\n",
              "    }\n",
              "\n",
              "    .colab-df-convert {\n",
              "      background-color: #E8F0FE;\n",
              "      border: none;\n",
              "      border-radius: 50%;\n",
              "      cursor: pointer;\n",
              "      display: none;\n",
              "      fill: #1967D2;\n",
              "      height: 32px;\n",
              "      padding: 0 0 0 0;\n",
              "      width: 32px;\n",
              "    }\n",
              "\n",
              "    .colab-df-convert:hover {\n",
              "      background-color: #E2EBFA;\n",
              "      box-shadow: 0px 1px 2px rgba(60, 64, 67, 0.3), 0px 1px 3px 1px rgba(60, 64, 67, 0.15);\n",
              "      fill: #174EA6;\n",
              "    }\n",
              "\n",
              "    .colab-df-buttons div {\n",
              "      margin-bottom: 4px;\n",
              "    }\n",
              "\n",
              "    [theme=dark] .colab-df-convert {\n",
              "      background-color: #3B4455;\n",
              "      fill: #D2E3FC;\n",
              "    }\n",
              "\n",
              "    [theme=dark] .colab-df-convert:hover {\n",
              "      background-color: #434B5C;\n",
              "      box-shadow: 0px 1px 3px 1px rgba(0, 0, 0, 0.15);\n",
              "      filter: drop-shadow(0px 1px 2px rgba(0, 0, 0, 0.3));\n",
              "      fill: #FFFFFF;\n",
              "    }\n",
              "  </style>\n",
              "\n",
              "    <script>\n",
              "      const buttonEl =\n",
              "        document.querySelector('#df-a1959b67-d597-446e-9488-0633d31938ea button.colab-df-convert');\n",
              "      buttonEl.style.display =\n",
              "        google.colab.kernel.accessAllowed ? 'block' : 'none';\n",
              "\n",
              "      async function convertToInteractive(key) {\n",
              "        const element = document.querySelector('#df-a1959b67-d597-446e-9488-0633d31938ea');\n",
              "        const dataTable =\n",
              "          await google.colab.kernel.invokeFunction('convertToInteractive',\n",
              "                                                    [key], {});\n",
              "        if (!dataTable) return;\n",
              "\n",
              "        const docLinkHtml = 'Like what you see? Visit the ' +\n",
              "          '<a target=\"_blank\" href=https://colab.research.google.com/notebooks/data_table.ipynb>data table notebook</a>'\n",
              "          + ' to learn more about interactive tables.';\n",
              "        element.innerHTML = '';\n",
              "        dataTable['output_type'] = 'display_data';\n",
              "        await google.colab.output.renderOutput(dataTable, element);\n",
              "        const docLink = document.createElement('div');\n",
              "        docLink.innerHTML = docLinkHtml;\n",
              "        element.appendChild(docLink);\n",
              "      }\n",
              "    </script>\n",
              "  </div>\n",
              "\n",
              "\n",
              "    </div>\n",
              "  </div>\n"
            ],
            "application/vnd.google.colaboratory.intrinsic+json": {
              "type": "dataframe",
              "repr_error": "Out of range float values are not JSON compliant: nan"
            }
          },
          "metadata": {},
          "execution_count": 120
        }
      ],
      "source": [
        "# Select top k most anomalous customers\n",
        "k = 100\n",
        "top_k = df_tsfresh_test.nsmallest(k, 'ae_rank')\n",
        "\n",
        "# Show only customers who actually called (flag_call == 1)\n",
        "will_call_predicted = top_k[top_k['flag_call'] == 1]\n",
        "\n",
        "# Display the filtered rows\n",
        "will_call_predicted[['device_id', 'analysis_date', 'ae_score', 'ae_rank', 'flag_call']]\n"
      ]
    },
    {
      "cell_type": "code",
      "execution_count": null,
      "metadata": {
        "colab": {
          "base_uri": "https://localhost:8080/"
        },
        "id": "_b5IZtKjlEQU",
        "outputId": "c8d053a1-6f7c-4ad7-f923-8a4d879f18ce"
      },
      "outputs": [
        {
          "output_type": "stream",
          "name": "stdout",
          "text": [
            "Precision@100: 0.0000 (0/100)\n"
          ]
        }
      ],
      "source": [
        "true_pos = top_k['flag_call'].sum()\n",
        "precision_at_k = true_pos / k\n",
        "\n",
        "print(f\"Precision@{k}: {precision_at_k:.4f} ({true_pos}/{k})\")\n"
      ]
    },
    {
      "cell_type": "code",
      "execution_count": null,
      "metadata": {
        "colab": {
          "base_uri": "https://localhost:8080/"
        },
        "id": "HPRmvPrIv2oh",
        "outputId": "f2c37477-2237-4241-dddf-364e283a028e"
      },
      "outputs": [
        {
          "output_type": "stream",
          "name": "stdout",
          "text": [
            "Callers in test set: 9\n"
          ]
        }
      ],
      "source": [
        "print(\"Callers in test set:\", df_tsfresh_test['flag_call'].sum())"
      ]
    },
    {
      "cell_type": "code",
      "execution_count": null,
      "metadata": {
        "colab": {
          "base_uri": "https://localhost:8080/"
        },
        "id": "Sl24TQJgv6tw",
        "outputId": "147723c0-0e0e-4d2c-841f-376e58f4f08f"
      },
      "outputs": [
        {
          "output_type": "stream",
          "name": "stdout",
          "text": [
            "       ae_score\n",
            "count  9.000000\n",
            "mean   0.720045\n",
            "std    1.388288\n",
            "min    0.183522\n",
            "25%    0.202260\n",
            "50%    0.225930\n",
            "75%    0.354158\n",
            "max    4.415223\n"
          ]
        }
      ],
      "source": [
        "callers = df_tsfresh_test[df_tsfresh_test['flag_call'] == 1]\n",
        "print(callers[['ae_score']].describe())"
      ]
    },
    {
      "cell_type": "markdown",
      "source": [
        "## Box Plot"
      ],
      "metadata": {
        "id": "Om2y9oRks2_U"
      }
    },
    {
      "cell_type": "code",
      "execution_count": null,
      "metadata": {
        "colab": {
          "base_uri": "https://localhost:8080/",
          "height": 410
        },
        "id": "xV2Ac1mXv-yz",
        "outputId": "57120ce8-305d-4a7c-c7b3-91c5d44d97de"
      },
      "outputs": [
        {
          "output_type": "display_data",
          "data": {
            "text/plain": [
              "<Figure size 600x400 with 1 Axes>"
            ],
            "image/png": "[encoded data removed]"
          },
          "metadata": {}
        }
      ],
      "source": [
        "# Create a label column for better axis readability\n",
        "df_tsfresh_test['call_label'] = df_tsfresh_test['flag_call'].map({0: 'Non-callers', 1: 'Callers'})\n",
        "\n",
        "plt.figure(figsize=(6, 4))\n",
        "sns.boxplot(data=df_tsfresh_test, x='call_label', y='ae_score')\n",
        "plt.yscale('log')\n",
        "plt.title('Boxplot of AE Score by Call Flag (log scale)')\n",
        "plt.xlabel('Customer Type')\n",
        "plt.ylabel('AE Score (log scale)')\n",
        "plt.show()\n"
      ]
    }
  ],
  "metadata": {
    "colab": {
      "machine_shape": "hm",
      "provenance": [],
      "toc_visible": true,
      "include_colab_link": true
    },
    "kernelspec": {
      "display_name": "Python 3",
      "name": "python3"
    },
    "language_info": {
      "name": "python"
    }
  },
  "nbformat": 4,
  "nbformat_minor": 0
}